{
 "cells": [
  {
   "cell_type": "markdown",
   "metadata": {
    "slideshow": {
     "slide_type": "slide"
    }
   },
   "source": [
    "# MNIST digits classification with TensorFlow"
   ]
  },
  {
   "cell_type": "markdown",
   "metadata": {},
   "source": [
    "<img src=\"images/mnist_sample.png\" style=\"width:30%\">"
   ]
  },
  {
   "cell_type": "code",
   "execution_count": 1,
   "metadata": {
    "collapsed": false
   },
   "outputs": [
    {
     "name": "stdout",
     "output_type": "stream",
     "text": [
      "We're using TF 1.2.1\n"
     ]
    },
    {
     "name": "stderr",
     "output_type": "stream",
     "text": [
      "Using TensorFlow backend.\n"
     ]
    }
   ],
   "source": [
    "import numpy as np\n",
    "from sklearn.metrics import accuracy_score\n",
    "from matplotlib import pyplot as plt\n",
    "%matplotlib inline\n",
    "import tensorflow as tf\n",
    "print(\"We're using TF\", tf.__version__)\n",
    "\n",
    "import sys\n",
    "sys.path.append(\"../..\")\n",
    "import grading\n",
    "\n",
    "import matplotlib_utils\n",
    "from importlib import reload\n",
    "reload(matplotlib_utils)\n",
    "\n",
    "import grading_utils\n",
    "reload(grading_utils)\n",
    "\n",
    "#import keras_utils\n",
    "import keras_utils\n",
    "from keras_utils import reset_tf_session"
   ]
  },
  {
   "cell_type": "markdown",
   "metadata": {},
   "source": [
    "# Fill in your Coursera token and email\n",
    "To successfully submit your answers to our grader, please fill in your Coursera submission token and email"
   ]
  },
  {
   "cell_type": "code",
   "execution_count": 2,
   "metadata": {
    "collapsed": true
   },
   "outputs": [],
   "source": [
    "grader = grading.Grader(assignment_key=\"XtD7ho3TEeiHQBLWejjYAA\", \n",
    "                        all_parts=[\"9XaAS\", \"vmogZ\", \"RMv95\", \"i8bgs\", \"rE763\"])"
   ]
  },
  {
   "cell_type": "code",
   "execution_count": 3,
   "metadata": {
    "collapsed": true
   },
   "outputs": [],
   "source": [
    "# token expires every 30 min\n",
    "COURSERA_TOKEN = 'ZVEqQ8CuLWQ4eJC4'\n",
    "COURSERA_EMAIL = 'dmitryhse@gmail.com'"
   ]
  },
  {
   "cell_type": "markdown",
   "metadata": {},
   "source": [
    "# Look at the data\n",
    "\n",
    "In this task we have 50000 28x28 images of digits from 0 to 9.\n",
    "We will train a classifier on this data."
   ]
  },
  {
   "cell_type": "code",
   "execution_count": 4,
   "metadata": {
    "collapsed": true
   },
   "outputs": [],
   "source": [
    "import preprocessed_mnist\n",
    "X_train, y_train, X_val, y_val, X_test, y_test = preprocessed_mnist.load_dataset()"
   ]
  },
  {
   "cell_type": "code",
   "execution_count": 5,
   "metadata": {
    "collapsed": false
   },
   "outputs": [
    {
     "name": "stdout",
     "output_type": "stream",
     "text": [
      "X_train [shape (50000, 28, 28)] sample patch:\n",
      " [[ 0.          0.29803922  0.96470588  0.98823529  0.43921569]\n",
      " [ 0.          0.33333333  0.98823529  0.90196078  0.09803922]\n",
      " [ 0.          0.33333333  0.98823529  0.8745098   0.        ]\n",
      " [ 0.          0.33333333  0.98823529  0.56862745  0.        ]\n",
      " [ 0.          0.3372549   0.99215686  0.88235294  0.        ]]\n",
      "A closeup of a sample patch:\n"
     ]
    },
    {
     "data": {
      "image/png": "[encoded data removed]",
      "text/plain": [
       "<matplotlib.figure.Figure at 0x1148c6898>"
      ]
     },
     "metadata": {},
     "output_type": "display_data"
    },
    {
     "name": "stdout",
     "output_type": "stream",
     "text": [
      "And the whole sample:\n"
     ]
    },
    {
     "data": {
      "image/png": "[encoded data removed]",
      "text/plain": [
       "<matplotlib.figure.Figure at 0x104516f28>"
      ]
     },
     "metadata": {},
     "output_type": "display_data"
    },
    {
     "name": "stdout",
     "output_type": "stream",
     "text": [
      "y_train [shape (50000,)] 10 samples:\n",
      " [5 0 4 1 9 2 1 3 1 4]\n"
     ]
    }
   ],
   "source": [
    "# X contains rgb values divided by 255\n",
    "print(\"X_train [shape %s] sample patch:\\n\" % (str(X_train.shape)), X_train[1, 15:20, 5:10])\n",
    "print(\"A closeup of a sample patch:\")\n",
    "plt.imshow(X_train[1, 15:20, 5:10], cmap=\"Greys\")\n",
    "plt.show()\n",
    "print(\"And the whole sample:\")\n",
    "plt.imshow(X_train[1], cmap=\"Greys\")\n",
    "plt.show()\n",
    "print(\"y_train [shape %s] 10 samples:\\n\" % (str(y_train.shape)), y_train[:10])"
   ]
  },
  {
   "cell_type": "markdown",
   "metadata": {},
   "source": [
    "# Linear model\n",
    "\n",
    "Your task is to train a linear classifier $\\vec{x} \\rightarrow y$ with SGD using TensorFlow.\n",
    "\n",
    "You will need to calculate a logit (a linear transformation) $z_k$ for each class: \n",
    "$$z_k = \\vec{x} \\cdot \\vec{w_k} + b_k \\quad k = 0..9$$\n",
    "\n",
    "And transform logits $z_k$ to valid probabilities $p_k$ with softmax: \n",
    "$$p_k = \\frac{e^{z_k}}{\\sum_{i=0}^{9}{e^{z_i}}} \\quad k = 0..9$$\n",
    "\n",
    "We will use a cross-entropy loss to train our multi-class classifier:\n",
    "$$\\text{cross-entropy}(y, p) = -\\sum_{k=0}^{9}{\\log(p_k)[y = k]}$$ \n",
    "\n",
    "where \n",
    "$$\n",
    "[x]=\\begin{cases}\n",
    "       1, \\quad \\text{if $x$ is true} \\\\\n",
    "       0, \\quad \\text{otherwise}\n",
    "    \\end{cases}\n",
    "$$\n",
    "\n",
    "Cross-entropy minimization pushes $p_k$ close to 1 when $y = k$, which is what we want.\n",
    "\n",
    "Here's the plan:\n",
    "* Flatten the images (28x28 -> 784) with `X_train.reshape((X_train.shape[0], -1))` to simplify our linear model implementation\n",
    "* Use a matrix placeholder for flattened `X_train`\n",
    "* Convert `y_train` to one-hot encoded vectors that are needed for cross-entropy\n",
    "* Use a shared variable `W` for all weights (a column $\\vec{w_k}$ per class) and `b` for all biases.\n",
    "* Aim for ~0.93 validation accuracy"
   ]
  },
  {
   "cell_type": "code",
   "execution_count": 6,
   "metadata": {
    "collapsed": false
   },
   "outputs": [
    {
     "name": "stdout",
     "output_type": "stream",
     "text": [
      "(50000, 784)\n",
      "(10000, 784)\n"
     ]
    }
   ],
   "source": [
    "X_train_flat = X_train.reshape((X_train.shape[0], -1))\n",
    "print(X_train_flat.shape)\n",
    "\n",
    "X_val_flat = X_val.reshape((X_val.shape[0], -1))\n",
    "print(X_val_flat.shape)"
   ]
  },
  {
   "cell_type": "code",
   "execution_count": 7,
   "metadata": {
    "collapsed": false
   },
   "outputs": [
    {
     "name": "stdout",
     "output_type": "stream",
     "text": [
      "(50000, 10)\n",
      "[[ 0.  0.  0.  0.  0.  1.  0.  0.  0.  0.]\n",
      " [ 1.  0.  0.  0.  0.  0.  0.  0.  0.  0.]\n",
      " [ 0.  0.  0.  0.  1.  0.  0.  0.  0.  0.]] [5 0 4]\n"
     ]
    }
   ],
   "source": [
    "import keras\n",
    "\n",
    "y_train_oh = keras.utils.to_categorical(y_train, 10)\n",
    "y_val_oh = keras.utils.to_categorical(y_val, 10)\n",
    "\n",
    "print(y_train_oh.shape)\n",
    "print(y_train_oh[:3], y_train[:3])"
   ]
  },
  {
   "cell_type": "code",
   "execution_count": 10,
   "metadata": {
    "collapsed": true
   },
   "outputs": [],
   "source": [
    "# run this again if you remake your graph\n",
    "s = reset_tf_session()"
   ]
  },
  {
   "cell_type": "code",
   "execution_count": 11,
   "metadata": {
    "collapsed": true
   },
   "outputs": [],
   "source": [
    "# Model parameters: W and b\n",
    "W = tf.get_variable(shape=(784, 10), name='W') ### YOUR CODE HERE ### tf.get_variable(...) with shape[0] = 784\n",
    "# также можно добавить параметр initializer = tf.contrib.layers.xavier_initializer()\n",
    "b = tf.get_variable(shape=(1, 10), name='b') ### YOUR CODE HERE ### tf.get_variable(...)"
   ]
  },
  {
   "cell_type": "code",
   "execution_count": 12,
   "metadata": {
    "collapsed": true
   },
   "outputs": [],
   "source": [
    "# Placeholders for the input data\n",
    "input_X = tf.placeholder(tf.float32, shape=(None, 784))  ### YOUR CODE HERE ### tf.placeholder(...) for flat X with shape[0] = None for any batch size\n",
    "input_y = tf.placeholder(tf.int16, shape=(None, 10))  ### YOUR CODE HERE ### tf.placeholder(...) for one-hot encoded true labels"
   ]
  },
  {
   "cell_type": "code",
   "execution_count": 13,
   "metadata": {
    "collapsed": false
   },
   "outputs": [],
   "source": [
    "# Compute predictions\n",
    "logits = input_X @ W + b ### YOUR CODE HERE ### logits for input_X, resulting shape should be [input_X.shape[0], 10]\n",
    "# вместо @ можно было взять tf.matmul\n",
    "probas =  tf.nn.softmax(logits) ### YOUR CODE HERE ### apply tf.nn.softmax to logits\n",
    "classes = tf.argmax(probas, axis=1) ### YOUR CODE HERE ### apply tf.argmax to find a class index with highest probability\n",
    "\n",
    "# Loss should be a scalar number: average loss over all the objects with tf.reduce_mean().\n",
    "# Use tf.nn.softmax_cross_entropy_with_logits on top of one-hot encoded input_y and logits.\n",
    "# It is identical to calculating cross-entropy on top of probas, but is more numerically friendly (read the docs).\n",
    "\n",
    "# softmax_cross_entropy_with_logits - считает кросс энтропию. Но так как loss - это скаляр (число), то нам нужно \n",
    "# взять какую-то аггрегационную функцию. Например, среднее. Поэтому тут берется tf.reduce_mean \n",
    "loss = tf.reduce_mean(tf.nn.softmax_cross_entropy_with_logits(labels=input_y, logits=logits)) ### YOUR CODE HERE ### cross-entropy loss\n",
    "\n",
    "# Use a default tf.train.AdamOptimizer to get an SGD step\n",
    "step = tf.train.AdamOptimizer().minimize(loss, var_list=[W, b]) ### YOUR CODE HERE ### optimizer step that minimizes the loss"
   ]
  },
  {
   "cell_type": "code",
   "execution_count": 14,
   "metadata": {
    "collapsed": false
   },
   "outputs": [
    {
     "name": "stdout",
     "output_type": "stream",
     "text": [
      "(1, 10)\n",
      "(?, 10)\n",
      "(?, 10)\n"
     ]
    }
   ],
   "source": [
    "print(b.shape)\n",
    "temp = input_X @ W\n",
    "print(temp.shape)\n",
    "print(logits.shape)"
   ]
  },
  {
   "cell_type": "code",
   "execution_count": 15,
   "metadata": {
    "collapsed": true
   },
   "outputs": [],
   "source": [
    "# Если присмотреться к выражению xW + b, то может стать неочевидным что означает в данной ситуации +b\n",
    "# XW: X.shape = (N, 784), W.shape = (784, 10) => XW.shape = (N, 10). При этом мы объявили выше, что b.shape = (1, 10)\n",
    "# Каким образом происходит операция сложения элементов (N, 10) и (1, 10) ?\n",
    "# Ответ: вектор b добавляется поэлементо к каждой строчке матрицы. Это можно увидеть в примере ниже:"
   ]
  },
  {
   "cell_type": "code",
   "execution_count": 16,
   "metadata": {
    "collapsed": false
   },
   "outputs": [
    {
     "data": {
      "text/plain": [
       "array([[  6.,  12.,  18.],\n",
       "       [  9.,  15.,  21.]], dtype=float32)"
      ]
     },
     "execution_count": 16,
     "metadata": {},
     "output_type": "execute_result"
    }
   ],
   "source": [
    "import tensorflow as tf\n",
    "tf.InteractiveSession()\n",
    "one = tf.constant([[1., 2, 3], [4, 5, 6]])\n",
    "two = tf.constant([[5, 10, 15.]])\n",
    "(one + two).eval()"
   ]
  },
  {
   "cell_type": "code",
   "execution_count": 17,
   "metadata": {
    "collapsed": false
   },
   "outputs": [
    {
     "data": {
      "text/plain": [
       "array([[ 9,  3, 10,  4,  6],\n",
       "       [ 7, 15,  8,  3,  8]])"
      ]
     },
     "execution_count": 17,
     "metadata": {},
     "output_type": "execute_result"
    }
   ],
   "source": [
    "# Кстати ровно так же работает и numpy:\n",
    "one = np.random.randint(16, size = (2, 5))\n",
    "two = np.arange(5)\n",
    "one + two"
   ]
  },
  {
   "cell_type": "code",
   "execution_count": 18,
   "metadata": {
    "collapsed": false
   },
   "outputs": [],
   "source": [
    "# таким образом добавление некоторого вектора к матрице не меняет её размерности, а сумма происходит поэлементно к каждой строчке "
   ]
  },
  {
   "cell_type": "code",
   "execution_count": 19,
   "metadata": {
    "collapsed": false
   },
   "outputs": [
    {
     "data": {
      "text/plain": [
       "<tensorflow.python.framework.ops.Graph at 0x1148e2ef0>"
      ]
     },
     "execution_count": 19,
     "metadata": {},
     "output_type": "execute_result"
    }
   ],
   "source": [
    "loss.graph"
   ]
  },
  {
   "cell_type": "code",
   "execution_count": 20,
   "metadata": {
    "collapsed": false
   },
   "outputs": [],
   "source": [
    "#summary_writer = tf.summary.FileWriter(\"logs_for_mnist/1\", loss.graph)\n",
    "summary_writer = tf.summary.FileWriter(\"logs_for_mnist/1\", graph=loss.graph) # записываем в файлик граф\n",
    "summary_writer.flush()"
   ]
  },
  {
   "cell_type": "markdown",
   "metadata": {},
   "source": [
    "### Запустить Tensorboard:\n",
    "1) В консольке cd в папку с ноутбуком\n",
    "\n",
    "2) tensorboard --logdir=logs_for_mnist"
   ]
  },
  {
   "cell_type": "markdown",
   "metadata": {
    "collapsed": true
   },
   "source": [
    "Граф для loss\n",
    "<img src=\"pic5.png\" style=\"width:70%\">\n"
   ]
  },
  {
   "cell_type": "code",
   "execution_count": 21,
   "metadata": {
    "collapsed": false,
    "scrolled": false
   },
   "outputs": [
    {
     "data": {
      "text/html": [
       "<img src=\"data:image/jpeg;base64,/9j/4AAQSkZJRgABAQEASABIAAD/2wBDAAIBAQEBAQIBAQECAgICAgQDAgICAgUEBAMEBgUGBgYFBgYGBwkIBgcJBwYGCAsICQoKCgoKBggLDAsKDAkKCgr/2wBDAQICAgICAgUDAwUKBwYHCgoKCgoKCgoKCgoKCgoKCgoKCgoKCgoKCgoKCgoKCgoKCgoKCgoKCgoKCgoKCgoKCgr/wAARCAEgA2ADASIAAhEBAxEB/8QAHwAAAQUBAQEBAQEAAAAAAAAAAAECAwQFBgcICQoL/8QAtRAAAgEDAwIEAwUFBAQAAAF9AQIDAAQRBRIhMUEGE1FhByJxFDKBkaEII0KxwRVS0fAkM2JyggkKFhcYGRolJicoKSo0NTY3ODk6Q0RFRkdISUpTVFVWV1hZWmNkZWZnaGlqc3R1dnd4eXqDhIWGh4iJipKTlJWWl5iZmqKjpKWmp6ipqrKztLW2t7i5usLDxMXGx8jJytLT1NXW19jZ2uHi4%2BTl5ufo6erx8vP09fb3%2BPn6/8QAHwEAAwEBAQEBAQEBAQAAAAAAAAECAwQFBgcICQoL/8QAtREAAgECBAQDBAcFBAQAAQJ3AAECAxEEBSExBhJBUQdhcRMiMoEIFEKRobHBCSMzUvAVYnLRChYkNOEl8RcYGRomJygpKjU2Nzg5OkNERUZHSElKU1RVVldYWVpjZGVmZ2hpanN0dXZ3eHl6goOEhYaHiImKkpOUlZaXmJmaoqOkpaanqKmqsrO0tba3uLm6wsPExcbHyMnK0tPU1dbX2Nna4uPk5ebn6Onq8vP09fb3%2BPn6/9oADAMBAAIRAxEAPwD9/KKKKACiiigAooooAKKKKACiiigAooooAKKKKACiiigAooooAKKKKACiiigAooooAKKKKACiiigAooooAKKKKACiiigAooooAKKKKACiiigAooooAKKKKACiiigAooooAKKKKACiiigAooooAKKKKACiiigAooooAKKKKACiiigAooooAKKKKACiiigAooooAKKKKACiiigAooooAKKKKACiiigAooooAKKKKACiiigAooooAKKKKACiiigAooooAKKKKACiiigAooooAKKKKACiiigAooooAKKKKACiiigAooooAKKKKACiiigAooooAKKKKACiiigAooooAKKKKACiiigAooooAKKKKACvPfjt%2B1J8FP2b5NGsfil4g1Maj4ilnTQNB8OeF9R1zVNR8lVed4bHTbee5kjiVkMkixlI96biu5c%2BhV4N%2B0P8D/j5/wANJ%2BDv2tv2bLLwfrWueH/B2seFNX8KeOdcutLtLywv7mwuxcQXtraXj288U2noCpt3WVJSCUKK1ABpf/BTL9izWLvxPb2nxXv0h8FWsk/jLUrvwXrEFjoIS0iu9l5dy2iwWsrQzRskMjrJIWKorMrKL2n/APBQ/wDZK1HwBrXxFTx/q9vB4f1ay0vVdE1DwNrNrrkV5ebfscC6PNaLqEr3AYGER27eaAxTcFYjy2b9gH4y%2BMf2a/jn8NfGHinwppHin4o/FS38daHc6U1xeWFpeW0OiywQ3IkihkkiN3pRRwoyYHGDuJVaPi79i/8AaV%2BLmr/Ef45fG34S/CjWvFnjWx8KaPp/gKy%2BI2s2Wm6fY6Hcaldw3qa7b6al5DqDXOqTOksVoPJSKNFZiWcgHsviH9vv9mzwv4a8OeI9XvvG3meK0v5NE8P2vwm8SXGuSRWUscV3NJpMWntf28MLzQq8s0CIpmiy37xM%2Bmaz8RPBHhv4e3XxX8T%2BJbbSvDljo76rf6vqrfZYbSySIzPPMZdvlKsYLNvxtAOcYNfGHin9hH9s/WPgX4X8Nay3hfxV470a58RHRfGV/wDHbxNpGr%2BCLW%2BuUktLO11q1sJLzXIYkjhEy3qw/aTbReYCFGPUfjR/wTotfj1%2Bzb4n%2BHHxD%2BOfjW78d%2BMPhfH4Z17xS3jbWho818tpDE2oJoS3y2FuzzQLK3kRRSEPIBIrSM5AOkg/4KUfsZf8K58V/FbWPite6Jo3giysr7xQ/ifwdq%2Bk3NlZXkxhtb37LeWsVxJaSyK6pcxxtC3luQ%2BEYjj/AI3f8FZP2d/hn8ENU%2BMfgPRfFXiqbQfiD4X8L674Y/4QXXbHU7A6zqVrax3T2cmnNdeV5Fw88DeT5d48aW8MhknjB8r1T/gmJ8ZPHfwq8faR4i8DeG9G8Y%2BI9D0fR7DxDqv7RfjPxut3aWusW%2BoTRyf27AfsEZ8likUSzHe%2BGkxknv8A9qH9gz40/GD4g/F/4g%2BBfEPheOTxfB8LbzwlZ6tfXMSvf%2BE/EdzrUsN40dvJ5ENwGt4VljEzrl2MfyKrgHqFh/wUE/Zb1H4m2XwZh8T%2BJo/Fd5oun6xLoF38N9egudO0%2B9adILu/SSyU6dDut5VeS68pYiFEhQum6j4a/wCCmH7FPi3wZ4s%2BIWkfGC4TR/Bfgi68Zaxe6h4S1W0Fx4et0Z5tWsVntUbVLNVQ4nsxPGxZArEugbB0P9kP4ofEP4mfG74g/G9fD2gxfGj4O%2BHfCF1Y%2BE9duNRl0u4tE11Ltlnns7XzYwNViMT7FZikm6OPA3fN37Y37Kn7UOj/ALDHxS%2BJv7TF34AtIfhD%2BxT8QfBHhePwFqF5cNrzXukWxn1G6W5toBYqE0i3CWcbXAVppCZ22oKAPrPw9/wUl/Yy8TaHrHiPT/i1dQWehppU1/JqnhLVbJmtNSu1s7HUIUuLVGubCWdgovoQ9qoDO0qorMPT9E%2BLvw88R/FLX/gvofiH7T4k8LaXp%2Boa/YR2k22zgvmuBa7pinlF3%2ByzHy1cyKoRmVVkjLfJOofsz%2BIPFegeKfjb/wAFIvF/wz8J%2BBbf9nu5%2BHUlx4f8QTLay6beyQyXmq3k17BbpYOTBbCG2QzCAmT/AEiQsuOw/wCCPngP4u2f7I9r8f8A9pDUDf8AxJ%2BL15H4n8V6g9nJbtJCLSCy01fKl%2BeH/iX2lpI0TYKSzTZAYtkA%2BqqKKKACiiigAooooAKKKKACiiigAooooAKKKKACiiigAooooAKKKKACiiigAooooAKKKKACiiigAooooAKKKKACiiigAooooAK8R0j/AIKMfse6ld69Z6n8Urzw83hzw5c%2BINQk8a%2BEdV0GObSbd0jnv7WTUrWBb63R5IlaW2MqAyxjOXXPtN7FczWcsNndCCZ4mWKYx7/LYjhtp64POO9fmJq//BHL9uX4v6t4X1z43fHHQ31vw14P1Cz1DxRqHxW8TeJx4h1v7ZpV9a6idLvoobLSbaS50xfPsLIBRHJtWWQKgUA%2B2X/b/wD2YbX4aN8WNY8QeKtK0ttcg0axs9c%2BGWv2GqanfzIZIYLLTbixS9v2kQM6/Z4ZAyo7AkIxHReA/wBqz4H/ABH1%2By8J%2BHPEOqQ6vf8AhSfxJDpGteFdS0y7TTYbv7JLLLDeW8UkDrP8hhkVZe%2BzbzXk3xO%2BDn7bvxib4e/G3XPBvwq0P4h/Cjx1NrHh/wAM2vjjUr/Rdcs7jSbvTLmO4vn0qGaxmKXskkbpa3AjMQU%2BYJGxV%2BJPwG/bg1/4y%2BHf2mvA%2BjfCu08WX3ww1XwX4x0LUvFepSWGkLcX8N1a39lcJpwk1AxCN1kt5YrQSlxiWLHIB3Gk/wDBRv8AZA8R694F8LeFfiNqus6n8SfBuleLfBunaJ4H1m9nvND1F9lrqMiQWjNa2%2B7HmSTiNbcMpm8oMCdj4a/tufs3fFf4jXPwn8M%2BL9Ws9ft9LudThsvE/gzVtEW/sbeRI57uyl1G1gjv4I3liDy2zSIvmISQGUnyj9hT9hL4sfsw6/8ADjWfHniDw1dnwd%2Byl4R%2BGN%2B%2BkXM8rNq2lvM1zNF5kEe61bemxmKu235o0wK8a%2BGn/BKv9sbxP8UfC/ib9qb4w2eqRaf4A8V%2BF/GniaD4v%2BJNavPEUur2KW39p2umX0Men6EcqWNpaKUXKgTOI1WgD6l8J/8ABRf9kfxrosfirQfHeuf2Hcarpen6f4lvfh/rdrpWoy6lex2VlJaX09mlteQS3M0UYuIJHhBlQs4VgT6X4W%2BLvw88a/EDxT8LvC/iH7XrnguSzj8T2iWkwWxkuoPtEEZlZBG7tCVkKIzMiyRlgokTd8w%2BOPAnxF8K/wDBPbxp8CP%2BChnif4VeCPAWg/DSLQLb4meHfFt2GadI0trXUntLqzgTTZlmFvJDBHcXTGcoiOTtDdr/AMEr/h98WPDf7ImlfFX9oqwS3%2BJ3xYvpfHXxEhW3aL7Pf36xmG02N8yfZbGOys9pyQLXBoA%2BjaKKKACiiigAooooAKKKKACiiigAooooAKKKKACiiigAooooAKKKKACiiigAooooAKKKKACiiigAooooAKKKKACiiigAooooAKK5b42%2BCLH4jfCjXfBupa/r2lwXdiS994Z1%2B60u%2Bj2ESDyrq0kjmhJKBS0bqxUsMjNeQ/s2%2BI9G8Zf8EsPhn45/aB%2BLWsadZXnwP8P6r4y8aS%2BLLiwvVT%2Byrae6u5dRSRZ4nbDs84kWT5mO4E5oA%2Bh68X%2BPXj/9ov8A4aL8C/Aj4C%2BM/BXh9Nf8FeJde1fU/F/gu71ok6dd6Hbwwwx2%2BpWPlhv7UlZmZnz5aABeSaf/AAT%2B0/4hR/CTW/Efim48Wp4b17xfc6j8NNK8e6td32t6d4deC3SBLya9d7kvLPHdXaR3DtNDFeRQybWiKLz%2Bt/EzxBqv/BVL4feBdb%2BEuv6DaWvwZ8fLpmvarc6e9trZGq%2BDyWtVtruWZFQZ3faYoG%2BZdob5tqbS3LhCVR2j2b%2B7VnXf8IP/AMFC/wDo6D4M/wDhh9W/%2Baij/hB/%2BChf/R0HwZ/8MPq3/wA1FezUUyDxn/hB/wDgoX/0dB8Gf/DD6t/81FH/AAg//BQv/o6D4M/%2BGH1b/wCaivZqKAPGf%2BEH/wCChf8A0dB8Gf8Aww%2Brf/NRR/wg/wDwUL/6Og%2BDP/hh9W/%2BaivZqKAPGf8AhB/%2BChf/AEdB8Gf/AAw%2Brf8AzUUf8IP/AMFC/wDo6D4M/wDhh9W/%2BaivZqKAPGf%2BEH/4KF/9HQfBn/ww%2Brf/ADUUf8IP/wAFC/8Ao6D4M/8Ahh9W/wDmor2aigDxn/hB/wDgoX/0dB8Gf/DD6t/81FH/AAg//BQv/o6D4M/%2BGH1b/wCaivZqKAPGf%2BEH/wCChf8A0dB8Gf8Aww%2Brf/NRR/wg/wDwUL/6Og%2BDP/hh9W/%2BaivZqKAPGf8AhB/%2BChf/AEdB8Gf/AAw%2Brf8AzUUf8IP/AMFC/wDo6D4M/wDhh9W/%2BaivUfGY36GIGJ2TX1pFKAcbke5jVl%2BhUkH2NeY6/wDtQf8ABP3wprt74W8U/tEfBzTdT027ktdR07UPF2lQz2s8bFJIpI3lDI6sCrKwBBBBGRWVWvQoJOpNRv3aX5tHdgcrzPNJyhgsPUquKu1ThOo0trtQhNpX0u0lfS99Bn/CD/8ABQv/AKOg%2BDP/AIYfVv8A5qKP%2BEH/AOChf/R0HwZ/8MPq3/zUVX/4a/8A%2BCcH/R0XwR/8LbR//jtW9A/ag/4J%2B%2BK9dsvC3hb9oj4OalqepXcdrp2naf4t0qae6nkYJHFHGkpZ3ZiFVVBJJAAyayWOwLdlVh/4HH/5I9CfCvFNODnPL8Qkk226FdJJattugkkkm220kk22kmxn/CD/APBQv/o6D4M/%2BGH1b/5qKP8AhB/%2BChf/AEdB8Gf/AAw%2Brf8AzUVo/tV/Ev4Vfsofs3%2BNf2kvFPwuXVtP8FeHrjVbrTdI0QTXFysS52IscbEZOMuRtRcu5VVZhz%2Bk/tZ/sf6543l%2BGul%2BGtfl8Q23hxde1DRf%2BFNa6t1p9g8d28Ut1G2nhrVpfsNysUcwSSZ4xHGru6K3UeCX/wDhB/8AgoX/ANHQfBn/AMMPq3/zUUf8IP8A8FC/%2BjoPgz/4YfVv/moqlpn7Tn7MHiaTw7/wiumWCHWfHU3hW9sPEvhLUdH1Gxvo9GutXMLWVzYCZJTa26zKtwtvG8MnmLKzGKOZvwU/a/8A2F/2gtGm8R/DbxNpf9nReH9P11L/AMReEbvRYLnS75mW1vYJNRtoFubeR1KCWIuofCEhiBQBf/4Qf/goX/0dB8Gf/DD6t/8ANRR/wg//AAUL/wCjoPgz/wCGH1b/AOaim/tG/ERvhXr/AIP%2BGnwg%2BAHhrxd4z8bXt4mlaXrWqrpFjBa2dq1xc3M90lndOgH7mJVWFy0lxHnYgd1m8C/EKw%2BN/wCy14f/AGhPgJ8CdB1LVPFGhWOo6V4Z8T3qaZHC05j82G5uora5MRgDSbjHFLuaIhQdwNAEf/CD/wDBQv8A6Og%2BDP8A4YfVv/moo/4Qf/goX/0dB8Gf/DD6t/8ANRXiPjr/AIKH6D4H8F%2BFb/XPgN8KdC1rWviprngTWp/G3xOj0nw7p97pkF1LJLDqp0uVrlJGtvJRWtoX81mRgrRkHtPFP7Vmk%2BH/ANsnw/8AshD4X/Bu0vdT8G6Dr93eeI/iaun3V4NQvdRt5bfR7P8AsuQ6q8C6c8mTJb7/AD4gRHksADuv%2BEH/AOChf/R0HwZ/8MPq3/zUUf8ACD/8FC/%2BjoPgz/4YfVv/AJqK8j8P/wDBQHwHr37Uuv8A7N8PwA8INNol7r9tPZ23iiKTxDYrpduZv7Q1HSfsQ%2Bw6bdYRbe7%2B0S%2BZ9ptT5Y847NT9m39rcftIfsfX37VXh74Z/s/xiDR7TU1tLP4zi70zTIXgjubtNW1BdFX%2BzZbaF2Z08mYZQhmQfMAD0j/hB/8AgoX/ANHQfBn/AMMPq3/zUUf8IP8A8FC/%2BjoPgz/4YfVv/morxzXf2%2B/D1h%2BxxZftj2Pwa%2BD9tog1PV7G/l8S/FJNP0/U5LO4mhhOhXo0qVdYW8%2BzyPbEpbGVSmB8xx0fhj9sDw54y/bBj/Za074O/DPRWHh3RtYmtvGfjtNN8Szx31vNO8droo06X7S1uIdsn%2BkoASc428gHoH/CD/8ABQv/AKOg%2BDP/AIYfVv8A5qKP%2BEH/AOChf/R0HwZ/8MPq3/zUV5d8Rf8AgoB8I/AHxK%2BK/h5P2doNS8LfCv4Z6t4nuPFdpLbg6veaZKsV/p9vC0QXZC8iwtctKFWeO4iZF8hnOlY/tTXH/CM/EXTfFPwY%2BDXh/wAZ/C%2B40ybxZba58UvI8OWmmX9t9ogvH1c6RviJUSKY5LRfmQHeUdHYA7//AIQf/goX/wBHQfBn/wAMPq3/AM1FH/CD/wDBQv8A6Og%2BDP8A4YfVv/morxW5/wCChVhrHwj0f4o/DT9jzR9cZPhvqnjzxlZTeIY7ZLPQ7G6a383TZvsTjU3u/Knns962sc8Eau8sHmIp1bf9vv4Y6n%2B2dZ/spaH8FPB91He%2BILXTLYnxJGniK5gn0VdVXWodGNn%2B80dQ32dr37SuJo5U8slMMAeq/wDCD/8ABQv/AKOg%2BDP/AIYfVv8A5qKP%2BEH/AOChf/R0HwZ/8MPq3/zUVxfgP4y/HrxX8cfHH7Puqfsd/CeDW/CHgnTdcjvdN%2BJt1dWEtzf3VzFbWNxK/h%2BJ7dzFZ3EzMkc5VfJymJVYZ/w8/aL%2BL3xC%2BCnjb4rxfsnfCHTH8C%2BPNY0PUZtS%2BKF0uk3Fjpcey%2B1CK9Xw%2B0pMV5HdWrRNbKM2kj%2BZ0UgHon/CD/8ABQv/AKOg%2BDP/AIYfVv8A5qKoeB/HH7Vng79qzw58Efjd8R/h74m0bxN8PfEOuQzeFfh5faLdWl1pt9oluis9xq98ksbpqkpKhEYNEhDYyDr/AAP8VSfGP9k7w18ffFHwVsfA2veJfBNvrsnh6C4W5l0eSa2E6Qm48iFmkQMoY%2BWmGBGOMmv44/5SF/C//sjPjz/07eEKAPZqKKKACiiigAooooAK%2BcfhN4q/bv8Ajro%2BveO/C/xv%2BEmgaXb/ABC8VaHpelX/AMH9Uv7iK10vXr/TIWluE8RQLLI8dmrsyxRrucgKABX0dXjP7B//ACRDXP8Ass3xH/8AU11ugA/4Qf8A4KF/9HQfBn/ww%2Brf/NRR/wAIP/wUL/6Og%2BDP/hh9W/8Amor2aigDxn/hB/8AgoX/ANHQfBn/AMMPq3/zUUf8IP8A8FC/%2BjoPgz/4YfVv/mor2aigDxn/AIQf/goX/wBHQfBn/wAMPq3/AM1FH/CD/wDBQv8A6Og%2BDP8A4YfVv/mor2aigDxn/hB/%2BChf/R0HwZ/8MPq3/wA1FH/CD/8ABQv/AKOg%2BDP/AIYfVv8A5qK9mooA8Z/4Qf8A4KF/9HQfBn/ww%2Brf/NRR/wAIP/wUL/6Og%2BDP/hh9W/8Amor2aigDxn/hB/8AgoX/ANHQfBn/AMMPq3/zUUf8IP8A8FC/%2BjoPgz/4YfVv/mor2aigDxn/AIQf/goX/wBHQfBn/wAMPq3/AM1FH/CD/wDBQv8A6Og%2BDP8A4YfVv/mor2aigDxn/hB/%2BChf/R0HwZ/8MPq3/wA1FH/CD/8ABQv/AKOg%2BDP/AIYfVv8A5qK9mooA8Z/4Qf8A4KF/9HQfBn/ww%2Brf/NRR/wAIP/wUL/6Og%2BDP/hh9W/8Amor2aigDxn/hB/8AgoX/ANHQfBn/AMMPq3/zUUf8IP8A8FC/%2BjoPgz/4YfVv/mor2aigDxn/AIQf/goX/wBHQfBn/wAMPq3/AM1FH/CD/wDBQv8A6Og%2BDP8A4YfVv/mor2aigDxn/hB/%2BChf/R0HwZ/8MPq3/wA1FH/CD/8ABQv/AKOg%2BDP/AIYfVv8A5qK9mooA8Z/4Qf8A4KF/9HQfBn/ww%2Brf/NRR/wAIP/wUL/6Og%2BDP/hh9W/8Amor2aigDxn/hB/8AgoX/ANHQfBn/AMMPq3/zUUf8IP8A8FC/%2BjoPgz/4YfVv/mor2aigDxn/AIQf/goX/wBHQfBn/wAMPq3/AM1FH/CD/wDBQv8A6Og%2BDP8A4YfVv/mor1PX/Gng7wpGZfFPizTNNUDJbUL%2BOEY/4GRXnnjP9uz9iz4fRNJ4w/av%2BHlky9YG8X2bzH6RpIXP4CsauJw9FXqTjH1aX5tHPWxeEw6vVqRj6yivzaM//hB/%2BChf/R0HwZ/8MPq3/wA1FH/CD/8ABQv/AKOg%2BDP/AIYfVv8A5qK871n/AILZf8EytHvG05f2lo764XpFpfhbVbkN9HjtSh/OsLW/%2BC6n7BukQG5t7zxzfRgZElr4EvFU/jKqV58s%2ByWG%2BJh/4En%2BVzghn%2BSVJ8lPEwlLtF8z%2B6Kk/wAD2H/hB/8AgoX/ANHQfBn/AMMPq3/zUUf8IP8A8FC/%2BjoPgz/4YfVv/mor5k1j/g5E/YN012isvAvxNvmBwPI8P2SDPv5t6uPyrAvv%2BDln9luMk6Z8A/Hkw/hM8%2BnRk/gLlsVyy4r4cjvio/i//bT3aOEzPEq9DB4ia/u4XFyX3rCW/E%2Buv%2BEH/wCChf8A0dB8Gf8Aww%2Brf/NRR/wg/wDwUL/6Og%2BDP/hh9W/%2Baivi%2BX/g5Y%2BGmo3BsvBf7IXi/VJ8cRDWoAT/AN%2B45K1NF/4L3fGLXHB0/wD4JbfEW4jY/I9lqFxMWHrgaf8A1rNcW8PSdo1r%2BkZv8oM6amS8SUoc88sxaXd4TEpf%2BTUYfkfXn/CD/wDBQv8A6Og%2BDP8A4YfVv/moq3%2Byt8RvjT4w1j4oeBPjpr/hfVtU8A/EKLQ7PVfCfhq50m3urWXQdH1NWe3uL28ZZFk1GVCwl2lY0O1TnPyZqX/BZP8AbT1yIRfDT/gjr8U7lmHF1qMV%2BI1P0TTsEf8AAxXr/wDwSj%2BKXxe%2BNOjfG34mfHj4TTeBvFep/GdDqnhW4jlR7ER%2BFfDsUQIlAcF4Ujk5A/1nHGK9DBZzgcwrOlQcm0r3cJxX3yjFX12OR4fHwp%2B0q4arThtzTpygm%2By5mm3v9i2j17/V9FFFeoZhRRRQAUUUUAFFFFABRRRQAUUUUAFFFFABRRRQAUUUUAFFFFAGN8Qfh18Pvi14Ovvh38VPAmjeJvD%2BqRrHqWheINLivbO7QMHCywzKySAMqsAwPKg9RXHaT%2Bxl%2Bx9oHw%2BufhJoX7KPw1svCl5ZNZ3nhm08C6fHp89s0wmaF7ZYRG0ZlVZChXBdQ2MjNelUUAcx8KPgn8GvgP4dm8H/AAO%2BEnhjwZpNxeteXGl%2BFNBt9OtpbhkRGmaO3RFaQpHGpcjJCKM4ArwT9oXWv7L/AOCtH7M1jvx/aXwx%2BJltj1xJ4Ymx/wCQv0r6ir4x/bO1dtI/4LGfsW7mxHd%2BH/idbSHP96w0cqP%2B%2BlWuXGT9nQ5vOP4yiv1Pd4cw31vNPZd6dZ/%2BA0K0v/bT7OooorqPCCiiigAooooAKKKKACiiigAooooAKKKKAMvxh/yCYf8AsK2P/pXFXC6/%2BxN%2Bxl4r1298U%2BKf2R/hjqWp6ldyXWo6jqHgHTpp7qeRi8kskjwlndmJZmYkkkknJruvGH/IJh/7Ctj/AOlcVfO3j/8A4LKf8E3Phf471v4aeOv2jvsOt%2BHdXudM1iy/4RDWJfs91bytFLHvjtGR9row3KxU4yCRzXDjq2W0YReMlBJvTn5bX8uZPW3YqPElThv97DGvDc%2Bl1VlS5ra2vGpTvbezbtvbqeif8MD/ALCv/Rlnwl/8Nzpn/wAYq3oH7E37GXhTXbLxT4W/ZH%2BGOm6npt3HdadqOn%2BAdOhntZ42DxyxyJCGR1YBlZSCCAQcivGf%2BH5v/BLL/o6L/wAsnXP/AJCrX8A/8FlP%2BCbnxQ8d6L8NPAv7R327W/EWr22maPZf8IhrEX2i6uJViij3yWiom53UbmYKM5JA5rz4Y3hhzSjOje6tb2d79Lab3tYr/iJuJr/unnk5c2lvrdV3vpa31h3ve1rO97Wd7P2X9pr4J2X7Sf7Onjv9nvUNfl0mHxv4R1DQ31WCASvZ/ard4RMEJAcoXDbSQG24yM5ry/xF%2BxN8QvH%2Bg/F2Xx78fbWLxJ8W/h3pvhm%2B1rwn4Vm02HTZLMaiFuYopL6eRkcX4DRGYHETYkHmDZ658dfjD4c/Z9%2BD3iP43%2BMtM1G60bwrpUup6ymlQpJPFZxDdPMFd0DLHGHlYZztjbaGbCny/wCM/wDwUQ%2BDvwW0vxdrmqeG9T1Cx8FeLbPw3rGojxBoOlWj39xpsWohIbjV9Ss4ZNkE8AYB9%2B%2BYKivskKe8ZnnXwR/4JTRfCLxFD4mh%2BJPhCw2/FweOX0HwF8L49A0iBh4RvPDhs7a1S8lMIb7ULtpWeRmdGUj5w6ehfA39ijxD8Ao/Al34R%2BLllc3/AIG%2BBulfDq3l1Dwu7Q3f2OSBjfNGl2rLvWFgIQ52FwfMbbtblLX/AIKO6T4p8fR3/gm4tLjwFrngz4Sa74R1WLQpJ7y6/wCEw8QatppWZHu4VjjEVnZlWALwNJM7Jc4WCrHg3/go0fiZ%2B0V4P8EeEPg/4msvAPiPwV4s1%2B08WapoSzt4hh0m406GOfS47K5mnMb/AGqVvKnt0nmDQNChBOQD0/8AaN%2BAXjj4qeIPB/xM%2BD/xP07wj4z8E3t4%2BlaprXhp9XsZ7W8tWt7m2ntUurV3B/cyqyzIVkt4870Lo3OXP7KXxe8FfsfJ%2Byf%2Bzj%2B0dD4Nm07wPp2g%2BH/G174TbUNRs7iNyL3UJAl5Akkk8PCBBF5EzNLulG2Jd39qT40fED4e6N4F8LfBxNIh8UfEnxvb%2BHdC1DxPpc9xZabmyvNQnuZ7WOa3lm22thcBYhLETIyAsozUX7PPxh%2BLPx7/AGa77xPEnh3TPHmna54i8M3M72M8uk/2rpOrXmlPdLAJhMbaSWzM6w%2BdvCSBDJuBegDE8Jfs1/tE/Db9nnQfgZ8L/ix8J9FOjQT2Lyf8Kcv7jT3sHQBUS1l14yefuLvJPLcTCYyMXj3EscLXf2CPGt58EPAP7Jeg/HHSLf4XeDdC8MabdW2oeB3uvEV8NFmgliki1MXyQWzObaHkWTtGTIY2Ushj4nxH%2B2f%2B15pXw38UxeHLfwx4l1Xwp8bLPwbd%2BPPCHwk13WdOuLA2MM9/dR6LY38t48tncSSWcvl3UiCSB8lWWSKOz8WP25/il4Wb4WeJfC/xl8GR/DzxF4H1fV/GnxcPwQ8Qaro9veWl3p0McMi2mooNCjZJ75pHv5nERs2V2Uo4oA6zw7%2BwT468P/F6x8bD49abcaB4c8feKfGvhHS5vBBOpQavrkGoRTR3t/8AbcXtjD/adx5dssEDbYrRWlYW6k7Pgz9l/wDaO8J%2BMfHHxxb9oPwRJ8SPGOk6FpC6ja/Cy5g0O10/S5b6WNX0/wDthriedzqNyrTG9UBVgCoBGwk5hf27r7xB%2B29rv7Plj8QvDXhvw/4Q8Wab4YvoNY8Batfza9qV3pVrqSRxavDPFp%2BlsyXsEUMNws0txJFNsUAoT5H4R/4Ko/tIaloXxB17UfBPhW5n0H4YeIPFGnaPN4Z1HR10650/U4rOO2jvru6a38T25SV3ku9NEUSPDFESrXkIAB7lb/scftAeHPgfqfwf8DftG%2BD4JfGGp%2BIdQ%2BIF7rfwrlvra7m1aYyyLp1ouqxJYRx%2BZMAkzXgcyb5N7by93xX%2Bxj8QfFdv4D%2BF918btJ/4Vt4C1fwzqljpk3g2WbxHdXWiSW81uZNYa%2B8sLJNaxmUrZiR4nli3gSE15DqX7eX7WN/%2BxH8bPj54H1DwLJ4g%2BDms3jrd%2BJvhhrejLrGm22i2%2BovHNoV5fx6hpVw0s5hRriYh4o1uVjaOaMH1r9vP9o341/swaXo3xD%2BH2o6LdaXPfWtnP4b1D4c6rfNfzSXUUbeZrVtdx2ehRbJQBcXsTRBgSWP3aAMzwR/wTD%2BFHwc%2BN8vxp%2BCXjHxFpgT4fap4d0/w14l8W69r2lQ3F5cic3L2t5qZieANu3WiqiMXLhkcBhP8DP2HfiB%2BzV4Y8S6l8D/Hvww8OeM/FesWc2p3Gk/Bx7Pw5b6fbQyRxWVtpFtqkUkXzyyztM13IzSzykjYUjTGtf21PjofjJa6vJoXhSf4caz8W9c%2BHOj6StpPDrMV/punX851Ca9e5NuYZbvTLm3EAt1KJLFMZmw8deSfC3/gpv8Ate/E34I%2BL/Fnh/wZoepeJNP8KeC9c0y2s/hD4hiksP7Y1VrW/hTTGu2uvENta26PNHqVg8dtclWEe7a2AD0zVP8AgmB4stfh3H4M%2BH/7S6aPe674S8R%2BGviLqk/gwXC6pYa1qk%2Bp3B0%2BFbuNdMlt5ru7S03G5ihinCPFN5aMOkh/4J9axZfGiPxNp3xksYvAcXxKsfHUXhdvCTPq0Op2mlQ6dDbx6qbvatkEgjJiNqZdpeLzhG20cj8Sf22vjdpHwo%2BHHjD4bfEzw5rVpq/iDWrH4i%2BOrH9njxRqFvoC2UUzCOfQ7bUPt2myLKiQytdTYQhmZUDADb8Wftk/EzR/2rfDPgmT4l%2BFNJ%2BFWs%2BCfCOp6X45m%2BE2talp/inUtV1DU7ea0t9at75NP0stHb6b5C3PnM76lHjzcqpAPYPhB8AtQ%2BE%2BqfEvxivjaLU/EnxH8YT65PqtxpRWOyRbS3srC0EQlJeO3trWBTh08x/NkxGZSBxlz%2BwxYt%2BwPY/sI2nxLnSxm0Wz0nxf4jl0sPPr9s9zHLrReMSqI5dRRr1Wfcwia8Z9sm3Y3megf8FN01Dx98SPEmueM9AsPCngW%2B8Y6fYeDJPAerDU9Zn8OC6S9MWuPOunNOXsriYWEcMky2wSVnALBd/4fftH/tdajb%2BLvhv8TNd8B6f4v0v4beH/AB3peteG/hvq%2Br2lvZX819Hc6c2lwagbvULiA6e6pLBLGZ/tEZW3UoY3APpPxrHHD4G1aKJAqrpNwFVRgACJsACvL/HH/KQv4X/9kZ8ef%2BnbwhVb9lj48eMP2kv2QLj4qeO9OsrfUpZvEGnytY6bPYLcpZX13Zx3DWVy73GnySxwJI9lcMZ7Z3aGT542qz44/wCUhfwv/wCyM%2BPP/Tt4QoA9mooooAKKKKACiiigArxn9g//AJIhrn/ZZviP/wCprrdezV4z%2Bwf/AMkQ1z/ss3xH/wDU11ugD2aiiigAooooAKKKKACiiigAooplxcW9pA91dTpFFEheSSRgqooGSSTwAB3oAfRXzH8U/wDgq7%2BzT4W8YN8K/gdY%2BIfjJ4zVsP4c%2BFmmHU/IGcFprlSIEUHIbDsVxyBWHJ%2B2f/wUi8ZRmD4X/wDBKjUbISjEWpeNfibp1kkBPRntwpkYDuFOa8uWc5epOMJObX8kZT17Ximr/wDb3rY8afEGVRm4Qm6jWj9nGdTXteEXG/lzadbH1xRXyFF%2ByZ/wUg/aCkGp/tP/ALdf/CA2LncvhL4F6d9jMR7Z1K5BnJHAK7WU84NTv/wSYstRUw%2BJ/wDgoj%2B1JqkD8T2Vz8WiIJl7qyrbg4PQ4Iqfr2YVNaeFlb%2B9OEH93vNfN38iFmWaVdaOClbpzzpwf/gPvtfN38j6O%2BJHxv8Agx8HLQX/AMW/i34Z8Lwldyy%2BIddt7IMPYzOufwrwnxf/AMFlf%2BCbPg3UP7Kuf2mrDUrjJynh/Rr7UVAHU77aB0x/wKrfw8/4JKf8E8PhbO%2BvP%2BztpGvX5/eXereN7mXWJJmA5dxeO8YPHZQK6XWP2pP%2BCen7LthJpE3xn%2BFvg9Ihh9K0rUbKGUAdhb253nHstZVa%2BawjzVZ0aK83KX4t04/cehl2U8c57W9lgKEXL%2BWnTrYiXz5IxX4L1PO4v%2BC4/wDwS8c7Jv2mWgcdY5/BetKR/wCSdLL/AMFw/wDgl%2BqH7N%2B0wbmQ8JBb%2BDdZZ3PoB9j61Fff8FkP2TfE876f8CPA3xL%2BLVwjFBF8P/h1eXQ39MbrhYRj3GR9aji/a%2B/4KIfEFxL8F/8AgltdaTatzHqvxE8eWWnOvoGtEUyj8/avP/tbEy0pYmFT/BRqT/GMnH/yY%2BxXhP4sUlfHewwq74n2eHf/AIDVxaqf%2BUvvJR/wWM%2BAusfvPhz%2Bz38c/GEPa48M/Cy5lQj1zK0Z/Smy/wDBU/xbry/2d8Nv%2BCZv7SuoalKcWq678P00qzY/7dzJMyxj3K04w/8ABbTx3%2B6kvP2e/AdpJ1lgj1XU76H6BsQNSf8ADBP7a3xD%2Bf48f8FUvHjxyffsvhx4bsvDvlD%2B6s0e9z/vEZo%2BsZ7V/h87/wC4VKC%2B%2BdST/wDJX6B/xDurh9cy4pwdPuqNOeJl8vZU%2BW/rU%2BbKt98SP%2BCxfxJspNesvhX8F/gtoqJvlPjfxHcazfwr2O%2B02249w2K8c%2BIPxl%2BIfh%2B6eH45/wDBwD4I0WVc%2Bdonw/8AAulztAe4MkbyTA%2BzLmvc9O/4IxfsWX99Hq3xgTxz8S72Jt63fxA8e314xb%2B8VjeJG%2BhUj2r2f4d/scfsm/CW3W3%2BG37NngfRyuP31n4YtlmbHQtKU3sfckmj%2BzM4xH8SVv8AFVm//JaUaUfxaD/Vnwown%2B95hmOOl/cVPCw/8mnOdv8AtxH5w3fx4/Zl8SXDWeif8Fev2qvH%2Bpg4Nh8NtHu7d3PoqmzVD%2BDUxfAv7RfjH/TfhHof/BRbUYz/AKq58VfFe00AP7iOaF/lPrmv1mtbS1sYFtbK2jhiQYSOJAqqPYDgVJR/qzOp/ErW/wAKl%2Bc60n%2BAez8JsL/u2QTqvviMfiZf%2BS0PYR/8mPyXH7L/APwVw8SD7Jo3h/8AaU0y1b7txrX7Wmkq/wCIhs94oH/BLv8A4K3%2BKz5kfxpv9IlbrP4s%2BPutX0g%2Bps4FB/Cv1ooo/wBUcDL%2BJWqP/t%2B35B/anCFL%2BBw3gV/j%2BuVv/TuPa/A/LHSP%2BCK//BSHWVEfjX/goL/Z6H7w0zxR4gvcfQSzxZrbT/g3s%2BI/iC38r4kf8FJPGeqq3LwJo0%2BwewMt/Jn6kV%2BmdFax4QyNL3oyl61Jv/25HDVzLL5yvTyvBU/KOEptf%2BVJ1j81tE/4NoP2cbdi3iT9ovxteljmRraxsYmY9zmSKU12fhL/AIN0f2DfC10t7ceLPiTqMg6m58SW8X5fZ7WMgfjX3tRW1PhTh2m7rDR%2Bd3%2Bcjow3EuZYF3wcKFH/AK94XBw/GOEbXyafmfJNn/wQ5/4JqqijXPgfqWruv/LXU/G%2BrMT9Ql0o/Sun8L/8EiP%2BCbfhCYT6T%2ByV4bmYHIGqS3N8PyuZXFfR9FdkMkyam7xw1P8A8Aj%2BqZ7FTxM8RqtH2Ms4xXJtyqvVjFLsoxlBJeSSR5z4e/Y9/ZK8JRpF4W/Ze%2BHmnBPu/YvBdjER%2BKxA5966yw%2BG/wAO9KQR6X4C0W2VR8q2%2BlwoB%2BS1tUV3Qw%2BHpq0IJeiS/JI%2BZxOcZxjZXxGJqTf96pUl/wClVJEdtaWllF5NnbRxJ/ciQKPyFSUUVsee227sK8Z/Zf8A%2BS3/ALR3/ZZrH/1CvC9ezV4z%2By//AMlv/aO/7LNY/wDqFeF6BHs1FFFABRRRQAUUUUAFFFFABRRRQAUUUUAFFFFABRRRQAUUUUAFFFFABRRRQAV8Gf8ABS7VP7C/4KrfsQaruxnVfGFrn/rv/YcWP/Hq%2B86/Ov8A4LH3kukf8FBP2JvEEfCWXjzUTcN/difVPDcbH/x%2BvMziXJls5duV/wDk9M%2B48N6CxXGmFoP7arR%2B/C4v9Uj9FKKKK9M%2BHCiiigAooooAKKKKACiiigAooooAKKKKAMrxh/yCYf8AsKWP/pXFWrUN/YWmp2j2N9AJIpBhlJI75ByOQQcEEcgiqH/CH6T/AM/eqf8Ag8u//jtAGrRWX/wh%2Bk/8/eq/%2BDy7/wDjtH/CH6T/AM/eq/8Ag8u//jtAFnXtC0fxRod74Z8RabFeafqNpJa31ncJujnhkUo8bDurKSCPQ186%2BCf%2BCYPwo%2BGnwj8B/DD4efGr4j6VqHw%2B1vU9U0vxyup6fc63eS36TRXQupLmykgk3RTeUrrCksaQxCN02kn6B/4Q/Sf%2BfvVf/B5d/wDx2j/hD9J/5%2B9V/wDB5d//AB2gDwbwN/wTE%2BAfw/8ADXh7wroni3xhJbeGvDXw80Owa71K2eR7bwbqt3qmltI32cbpJZ7yVbhuA6KgjELAu1r4bf8ABO7wL8KfiJpfxA8JfHX4iKvhfw3ruheA9CuLzTZLDwtZ6rNbTTJaIbHfKYntIPJN09xsVNh3J8te3/8ACH6T/wA/eq/%2BDy7/APjtH/CH6T/z96r/AODy7/8AjtAHMfHP4B6J8d/Bul%2BHNX8aa7omqaBrVrrHh7xZoD2q6jpmoQBlW5iE8EtuxaOSaJ0kheN45pFKYPGDof7JmneD/gVcfATwD8bvHWgWV5ous215r2lXdiNVm1LVLlru61v7RJaNs1A3EtzKrIqwh7qQ%2BSdsXl%2Bi/wDCH6T/AM/eq/8Ag8u//jtH/CH6T/z96r/4PLv/AOO0AeTfDH9jTW/g58B9O%2BAXw2/a5%2BJGlWGjTw/2Lq1rpPhdbuxtY4mT7GqDRfs0kblvMd5IXmaT5vN5IOfr3/BP/wAKat8ELf8AZv0j4/8AxG0XwXcabqNn4t0fTLvS2bxUNQuJrjUJb25nsJLiKW4kuLku9nJbEee2zZhNvtP/AAh%2Bk/8AP3qv/g8u/wD47R/wh%2Bk/8/eq/wDg8u//AI7QB5R4i/YU%2BGHiD4st8SU8aeJ7DS7rxPpHiXWvAmnz2aaPq2taXDbQ2GoT7rZroSQpZWACRXEcTfYYN8bbW3chpv8AwSu%2BBtv4XbwPrnxP8f6xouneDbrwt4F03UNUs0XwZpk93Z3Zj054LSOR3SbTtPKSXb3LqLONd21pA/0N/wAIfpP/AD96r/4PLv8A%2BO0f8IfpP/P3qv8A4PLv/wCO0AeFeNv%2BCdPh3x/8DfiH8GPEH7TPxMN38V7ot8QPG8f9hDV9VtvsCWAs9p0s2dvALeNFHkW0cgZS%2B/c7s3QfFX9je/8Ajb4Otvhv8T/2q/iXqfhufRE0vxdoQj0GCHxXAJHaU3rw6WksRlR/KkFm9qrRgAKDkn1X/hD9J/5%2B9V/8Hl3/APHaP%2BEP0n/n71X/AMHl3/8AHaAPILz/AIJ//B/VfizefEbXPFfii%2B0a71zUNdj%2BHtxeWw0O21i%2B06TTrvUYwlut0JZbae5Uo1w0Ie6mkWJZG3ir8Nv2BrD4V6beN4Z/ai%2BJ766fC2m%2BGvD/AIsvpNEmvvD%2BjWU5mjsrVW0z7NIrklZJbqG4nkUDMmVVh7T/AMIfpP8Az96r/wCDy7/%2BO0f8IfpP/P3qv/g8u/8A47QB5Npn7F1z4X%2BH0ngj4fftU/E7w5ealreoav4r8U6Y2iSal4ivLwr5stybnTJYYSoRFj%2ByRW4jVVC4AFRax%2Bwf4G1Lwt4Q%2BElh8WvGumfDTwXp%2Bh2enfC3T5tOGk3EWkPC9ks08lk2oMA1vb7kW7RJBCFZSrSB/Xv%2BEP0n/n71X/weXf8A8do/4Q/Sf%2BfvVf8AweXf/wAdoA8el/4J9fBu/wDiNL4u8QeJ/Eup%2BHv7d1nXbL4c3s9p/Ydlq2rWl1aajfRhLZbppJ4r/UAyS3DxKb6dljUlSsfw6/YRtPhXomqp4Q/ai%2BJ6eI9S0vSNHg8b3s2jXOp6fo%2BmG4NnpsQl01rZ4UN3dFpJoJZ5GnZnmZgjL7L/AMIfpP8Az96r/wCDy7/%2BO0f8IfpP/P3qv/g8u/8A47QBxXw%2B%2BBvhn9nz4G634H8O65q2rSXb6tq2sa5r08cl7qeoXkktxc3MxijjiVnkkbCRRxxooVERVUKMLxx/ykL%2BF/8A2Rnx5/6dvCFeonwZob4Wdr6ZMgmK41a5kRvZlaQqw9iCK8u8cf8AKQv4X/8AZGfHn/p28IUAezUUUUAFfP3/AAUuOmD9mu1/4TTy/wDhCv8AhYXhf/hZH2j/AI9/%2BEe/tm0%2B2/as8fY/L/4%2Bd37v7N5/mfu99fQNFAHwX4ItPhf4%2B/YC%2BLXwv%2BH/AMZfBXhbwJH471LVvATatrUdroh8Iw6xFI8TsjfudDup4NQsxNGDCLWY%2BUGjCKfMND%2BK/wCyr8N/2VfHHiD9pn4PfA7WPCHiP46y2H7N3gk6layeCmkk0HTkmexvL6CGBNPjvo9WmlvhBGoIumgRzJCkn6h0UAeT/s6aL4n%2BH37FfgTwx8LvH2ifFLVdE8AaXZaX4nv/ABI8Nh4kkhtYo/tZvYo7txHLtLiQJOxBGSxJasP/AIJ03HiW7/ZuvrrxlpNjYavJ8W/iG2p2Omai93bW858Z615kcU7wwtMgbIDtFGWABKLnA90rxn9g/wD5Ihrn/ZZviP8A%2BprrdAHs1FFFABRRRQAUVj%2BPfiF4D%2BFnhW78c/ErxlpmgaNYpvvNU1e9S3ghH%2B07kAE9AOpPAr5L1D9tv9p39tzUZvBf/BNjwAuleFRK0Go/Hbx1pzx6emDhv7Ms5F33kg5wzrsDDDqAQ9cWLzDD4RqErym9oxV5P0Xbu3aK6s87HZphMDJU5NyqS%2BGEVzTl6RWy7yk4xXWXQ%2BufF/jTwf8AD7w/ceLPHnivTdE0q0Xddalq99HbW8I9WkkIVR9TXy54j/4Ks%2BH/AIka/c/D79gb4EeJvjfrkEvk3Gq6TH/Z/h%2Bxk9J9SuFCd8gKpVgDh6n8If8ABI74Ja1r9v8AED9rz4j%2BL/jl4lhbzEuPHurOdNtn7i30%2BIiKOM/8838xea%2BofDPhfwz4L0K28L%2BDvDtjpOmWUYjs9O0y0SCCBB0VI0AVR7AVy2zjF72ox8rTn9%2BkI/dNnHbPsdu44eHlapU%2B%2Bypx%2B6bPlP8A4Vr/AMFivjid3jj9oT4Z/BnTJv8Alz8DeHJNc1JU7pJLekRK/bfGeOop0f8AwR/%2BEfjqRbz9qj9ob4t/FyRmDTWHivxvPDp2fSO2tfL8tf8AZ3kV6h%2B0L/wUK/Y7/ZfmfS/i18cdIh1hW2J4b0pzf6m8h4VPs1uHkQseAXCrnvXky/tN/wDBR39q5hB%2Byn%2BzDbfCvwvOfk8efGfK3ssZ/it9KhJdWxgq0paNge3WvOrU8lhUdOq5Yip/LeVR/OKahH/t5JH22V%2BD%2BaZpg44/H03Twz/5f42q6VF/4FPl9r/ho0K3TyZ9NfCj4L/CL4D%2BE4/BPwb%2BHGi%2BGNJiwfsWjafHboxA%2B%2B%2B0Aux7uxLHuTXmPxx/4KWfsP8A7Pdy%2BkeP/wBoTRJ9WV/LXQPD8japftLnAjMFqJGRieBv2j3rzkf8EsNe%2BMB%2B1/twftqfEn4oCTm58OaffDQNCkz1U2dmcn0BDqcfWvdPgf8Asg/sv/s2WyQfAz4E%2BGvDcipsN9Y6Yhu5F6Ye5fM0n/AnNd8JZtUgoUaUKMVtzPma9IQtFfOR9PTyvwyyGChXxdbGyj9jDU1h6Pp7bEKVRrzhho%2BR4Un7cH7c3x%2BYR/sgfsBanpWly/6nxj8a9QGjW%2BOzLYxlriVG6hlbp25qT/hmD/gqZ8W/3nxo/wCCgeheCLST/X6J8JvBCHPsl7enz0x64Oa%2BuKKv%2BypVdcTXnPyT5I/dC34yZT49o4D3clyrC4ZLaUqf1qr6upinUV/8NCKXRI%2BSof8Agjb%2BzR4qlW8/aK%2BJ3xV%2BLU%2B4O/8Awn3xDu5Yt3X5Y7cwhVB6LkgdOa9U%2BG3/AAT7/Yh%2BEZjl8A/sq%2BBrOeHHlXs3h6G5uV%2Bk06vJ/wCPV7DRWtHKMroS5oUY37tJv75cz/E87MfEPjvNaPscTmdd0/5I1JU6fyp0vY00vJQ%2B8ZbWttZW6WlnbxwxRqFjiiQKqgdAAOAKfRRXonx7bbuwooooEFFFFABRRRQAUUUUAFFFFABRRRQAUUUUAFFFFABRRRQAV4z%2By/8A8lv/AGjv%2ByzWP/qFeF69mrxn9l//AJLf%2B0d/2Wax/wDUK8L0AezUUUUAFFFFABRRRQAUUUUAFFFFABRRRQAUUUUAFFFFABRRRQAUUUUAc18YpPibD8MtYn%2BDmtaDp3iWK136Ze%2BJtKmvrGIqwLmWCCe3klHlh8KssfzFctjNeNx/tg%2BPof8Agml4O/bDn8MaRceL/FvgDwzfW2loJYtOGs6ytlDCpBd5Ftlur1MjeziNSNxbmvbPiZ4O1T4g%2BA9T8F6N8QdZ8K3Go2/kp4g8Pw2cl5ZgkFmiW9t7i3JIBU%2BZC4wxwAcEeUeCf2D/AAp4Y/ZWtf2O/E3xw8eeKvCGn%2BEIPD2ltrjaVDe2UFt5Ys7iOaxsLci4thDF5chB5jVnDvliAbP7LXxd%2BKPjnWPiJ8KvjZPoF54n%2BG/jCHSLvWvC%2BlT2FjqsFxpdjqUFwlrPcXMluwW9MLRmeXLQFwwDhV%2BH/wDgtF8XPhR4q/aZ%2BEdl4J%2BJ3h7V9d%2BG6ajeeJdI0rWoLi70Z28R%2BEUjF1DG5e3LZfAcKTtOOhr79%2BAX7P8Ao/wE03XjH451/wAV654r186z4p8VeKGtPt2qXf2a3tEZ1s7e3t41jtrW2hVIoY1CwgkFmZm%2BKP8AgvlaTyeHNP1a0XM%2Bl/CLxFewezR%2BLfAmT/3yWrys9/5E2IfaDf3Wf6H3/hU1/wARLyeL2niKcP8AwY5U/wD3IforRUVldw39nDfW7ZjmiWSM%2BqkZH86lr1dz4FpxdmFFFFAgooooAKKKKACiiigAooooAKKKKACiiigAooooAKKKKACiiigAooooAKKKKACiiigAooooAKKKKACiiigAooooAK8Z8cf8pC/hf/2Rnx5/6dvCFezV4z44/wCUhfwv/wCyM%2BPP/Tt4QoA9mooooAKKKKACiiigArxn9g//AJIhrn/ZZviP/wCprrdezV4z%2Bwf/AMkQ1z/ss3xH/wDU11ugD2aiiigCO8vLTT7SW/v7qOCCCNpJ55nCpGijJZieAAASSelfI/jT/gpN4w%2BOfii8%2BD//AATO%2BEw%2BJes2sxt9U%2BIWqM9t4T0R/V7nhrxh18uH7wOVZ8EVT/bc8d%2BLv2x/jdB/wTK%2BA%2Bvz2dg9tFqHx28WWDc6PozEFNMR%2BguboYBXtG3IZTIF%2Brvh18OvA/wk8EaZ8N/ht4YtNG0PR7RLbTtOsYgkcMajAGO5PUscliSSSSTXjTq4nMa86WHnyU4aSmleTl1jC%2Bi5dpSs3d2irpteBUr4zNcTOhhans6UHyymknKUusYN3S5dpTtJqT5Yq6bXzN4C/wCCXdh4/wDFVp8X/wDgoP8AF3UPjV4rt386y0fUo/s3hrSHP8NtpyYR8fdLSghwASgPNfVunadp%2Bj6fBpOk2ENra20SxW1tbRBI4kUYVVVQAqgAAAcCs/x3488GfDDwfqPxA%2BIfiey0bRNJtmuNS1TUbgRQ28Y6szHj0AHUkgDJIFfIF1%2B0N%2B1t/wAFH7mTwz%2BxZBffDD4SvIYtQ%2BNGvaeyalrMWcMuj2r4ZFPIFw%2BCOoMbptI5Zfk/7ujByqz1svenPzk2727yk1FdOx93wh4f1cwo1cVR5MPhYNe2xNZtQTaulKb5qlWq1dwpU1OpLpCEbzXqH7Uv/BQvwD8C/F8HwJ%2BE/hG/%2BJ3xa1Jf%2BJZ8PPC8gaWHIB82%2BnwUsoQCCWf5sENt25YcAv7IX7d/7W3%2Bn/tt/tOnwP4Zn5b4YfBuRrUPGf8Alnd6m%2BZZcjh40yh5Kla9w/ZX/Y1%2BA/7HvhObw78IPDDC%2B1B/N1/xNqkv2nVNZnJJaW5uGG5yWJbaMIpY7VGTXqlCy/EY33sdLR/8u4tqK/xNWlN99Yx7Ra3%2BtqcXZNwx%2B44VoLnjvi69OE68n3pU5e0pYaP8to1a/WVWMtI%2BUfs9/sN/smfssQJ/woz4F6Fot4q7W1g232jUJPXddTF5iDzxvxz0r1eiivUo0KGGpqnRioxXRJJfckj4bM82zTOsZLF5hXnWqy3nUnKcn85Sk/lol0SCiiitTzwooooAKKKKACiiigAooooAKKKKACiiigAooooAKKKKACiiigAooooAKKKKACiiigArxn9l/wD5Lf8AtHf9lmsf/UK8L17NXjP7L/8AyW/9o7/ss1j/AOoV4XoA9mooooAKKKKACiiigAooooAKKKKACiiigAooooAKKKKACiiigAooooAKKKKACvhD/gtBov8Ab2m3ljs3eX%2Bzf4%2Bucf8AXHW/Bk2f/HK%2B76%2BPf%2BCmmjf8JB4l1LSVTc0n7JfxZMa%2BrrP4WZf/AB4CuHM4e0y2vDvCf/pMj6ngbE/U%2BNsrr/y4nDv/AMr0f8z6X%2BBGtf8ACSfA/wAGeIi%2B77f4U0653eu%2B2jbP611deT/sG6z/AMJD%2BxD8H9ZL7mn%2BGOhGU/7YsIQ3/jwNesVthJ%2B0wlOfeMX98Yv9TzeIcN9S4gxmH/krVo/%2BA1asf/bQoooroPICiiigAooooAKKKKACiiigAooooAKKKKACiiigAooooAKKKKACiiigAooooAKKKKACiiigAooooAKKKKACiiigArxnxx/ykL%2BF/wD2Rnx5/wCnbwhXs1eM%2BOP%2BUhfwv/7Iz48/9O3hCgD2aiiigAoorjvjx8bPDX7P3w6l%2BInibSNT1TdqVjpmmaLokMcl7qmoXt1FaWlpAsskcfmSTzRrukdI0BLu6IrMADsaK8dh/bY%2BGS/s76r%2B0Lq3hPxLp66Jr7eH9V8H3VnbtrEGt/2gmnR6ZsineBppbqWGON1mMDieOQS%2BW2%2Bse5/b98Hx6HDaWXwO8e3njmTxrN4Vl%2BFdqmknXLbUotNXVZFkdtQFgsY094brzftZQpcQqGMsixkA96rxn9g//kiGuf8AZZviP/6mut16F8Hvit4O%2BOnwr8PfGP4fXc02i%2BJtIg1HTWuYDFKscqBgkkbcxyLkq6HlWVlPINee/sH/APJENc/7LN8R/wD1NdboA9mrw79vn9rK5/ZU%2BDUc/gfR/wC2viF4vv00L4b%2BGo1Dyahqs3yoxXPMUWQ7k4HCrkFwa9p1XVNO0PS7nW9XvI7e0s7d57q4lbCxRopZmJ7AAEn6V8dfsPeHdb/bb%2BP2of8ABTb4qaZLFoECXGifAfw/erg2Glq7R3Gquh%2B7PcsGUHqqbhll8sjzMxr1ly4Wg7VKl9f5Yr4p/K9o95NdmePm2JrrkweGdqtW9n/JFfHP5J2j3nKPRM9j/YS/ZItP2SPg1/Yevaydc8ceJbx9Z%2BIniqdt82r6tN80rlyMmNCSiDjgFsBnbPc/Hv49fC39mf4U6t8Z/jH4mi0rQtHg33Ez8vK54SGJOskrthVQckn0yRrfEj4ieDPhH4C1j4nfETXodM0PQdPlvdUv5z8sMMalmOByTxgKMliQACSBXyJ8AvhZ4/8A%2BCj/AMVtI/ba/ah8NXGl/DXQ5/tXwV%2BGGoAfvx/BrmoJyryuMNFGchVIIyuGlyrVFgKVPBYKN6jXup7RS3nN72TfrOTstW2v0TgvhLLHgJY/MZOjluFtGTjb2lWbTlGhRv8AFVqaynN3jSg51ql/cjUb4A/Z/wDjR/wUq8Xab%2B0B%2B254cufDPwrsLhb34f8AwRmkIe/xzHqGs4%2B%2BxBytseFBwQBvEv2paWlpp9pFYWFrHBBBGscMMKBUjQDAVQOAAAAAOlSUV14LA08HFu7lOWspPeT/AES6RVlFbLdvLiXinGcR1adPkjRw1FONGhTuqdKL3tfWU5WTqVZ81SpLWUklGECiiiu0%2BYCiiigAooooAKKKKACiiigAooooAKKKKACiiigAooooAKKKKACiiigAooooAKKKKACiiigAooooAK8Z/Zf/AOS3/tHf9lmsf/UK8L17NXjP7L//ACW/9o7/ALLNY/8AqFeF6APZqKKKACiiigAooooAKKKKACiiigAooooAKKKKACiiigAooooAKKKKACiud%2BLnxS8G/A/4W%2BIvjH8Q797XQvC2i3OqatPFC0si28ETSPsRctI5CkKigszEAAkiuI%2BHf7YHgjxh4J8c%2BLfG3gTxR4DvPhtE0/jTw34ttrV7/T7f7Et8lwBYXF1DNG8DblMUrnckkZCyRugAPWa%2Bav2u9F/4SP8AaQ0bw9s3fb/2avidbbfXfeeFFx%2Btd5%2BzT%2B114X/aV1TWPDll8M/FXhLVtG0bSdYl0vxUtgzz6bqa3DWV3HJYXd1CVk%2By3A8tpFlTy8vGodC2X8S7CHVP2%2BfhvplwMx3PwS8fxSf7rar4QB/nUVYe0pyh3TX3pr9TqwOIeExtKuvsTjL/AMBlGX/tpj/8Eoda/t7/AIJzfCK%2B37vL8IxW2f8Ari7w4/8AHK%2Bha%2BUv%2BCJF/Pd/8EzPhzZXf%2Bv099Ys51/umPV7xQP%2B%2BdtfVtcGTT9pk%2BHl3pw/9JX%2BR9Z4l4dYTxGzmito4rEf%2Bnqj/wDbgooor0j4kKKKKACiiigAooooAKKKKACiiigAooooAKKKKACiiigAooooAKKKKACiiigAooooAKKKKACiiigAooooAKKKKACvGfHH/KQv4X/9kZ8ef%2BnbwhXs1eM%2BOP8AlIX8L/8AsjPjz/07eEKAPZqKKKACvL/2t/g34z%2BM/wAMLCx%2BGt5pkXibw14w0XxLoEetzyRWV1caffw3JtZ5Io5HiSaNJIfNWOQxGQSBJNmxvUKKAPm3wd%2BzB8V1%2BBPxF8D/ABc%2BGfgLxPqfxG1zUPE2q6KPGd/b6emoz3CeRYpdJp/nxRwW9vaFdQSMTfaEaRbeLC48%2B%2BGX/BPv46/Auey%2BPHwxsvCNz8Q5PijqXinWPCev%2BP8AV7vTJLW80G30U2v9t3NpcX1xOqWNldG6mtiZJPPj2Ro6NH9p0UAeVfAL9miL4Y/sleHf2afGvii9vZrLQVttd1fw7qt3pMk927GW5ltpraWO4tlMzyFNkgdUIBY8k4H/AATp8PWHhL9m6%2B8LaVcX0ttp3xb%2BIdtby6nqk97cuieM9aUGW4uHeadyBzJI7OxyWYkk17pXjP7B/wDyRDXP%2ByzfEf8A9TXW6AOM/wCCt/xQ1/wH%2BxZrfgXwM%2BfFHxM1Kz8EeGIA2DNc6lJ5LqCOQfs/nkEdwK90%2BDXww0D4J/CTwz8H/CyAad4X0G00uzO3BdIIljDH/abbuJ7kk18zfHD/AIyM/wCCsHwu%2BC0X77Q/g14VvPHPiFBzG2pXJFrYRN6SR/69fZjXpv8AwUS/aU1T9l79ljXPGfg6Jp/F%2BtSRaB4EsIgGlutZvCYrcIp%2B8Uy0u3uIiO9eFDEU4YnFY6p8FNci9ILmlbzc5JebSRz8KZPjeKuLnhsIr1Kk4YenfRXTvNt9IqUm5PZRpSb0ieNfHu4uP%2BCk/wC1uv7Hnh2d5Pg/8K9Rg1H4xX8LERa7qyNuttDVh95EZd8wGcFSp2uiE/adtbW9nbx2lpAkUUSBIoo1CqigYAAHAAHGK8p/Yi/Zf0T9kP8AZv8AD/wesStxqscH23xXqxYvJqerzANdXLu3zOWfIUsSQiIvavWa68tw1WnCVev/ABalnL%2B6vswXlFO3nLmfVH33Gud4HF4illOVP/YMGpQpdHVk3%2B9xE1/PXnHmV78lJUaa0i7lFFFekfEhRRRQAUUUUAFFFFABRRRQAUUUUAFFFFABRRRQAUUUUAFFFFABRRRQAUUUUAFFFFABRRRQAUUUUAFFFFABXjP7L/8AyW/9o7/ss1j/AOoV4Xr2avGf2X/%2BS3/tHf8AZZrH/wBQrwvQB7NRRRQAUUUUAFFFFABRRRQAUUUUAFFFFABRRRQAUUUUAFFFFABRRRQB5/8AtV/BW6/aM/Zu8bfA7Ttej0q88T%2BHLqx07U5oTLHaXTITBM6AguiyhGZAQWUEZGc15X4U/Z8/at1uH4u%2BL/HOp%2BEfCHi/4s6CdKt7/wAH%2BI7vUY/Ci2umG2sLiFrixtzeym5nurh9ywCNfJjHmlWc/SlFAHzN/wAE/wD9jjxb%2By34i8W67qHwx%2BHPw80jXtB0HT7bwH8LNQuLnTGvrEXgudaleaztMXd2lxbROBEzbNPiMk0zEbNK/wDhj4b8Hf8ABTbwX4z0nUvEM154h%2BD3jiS/h1XxdqN9aRFNW8JYFta3M8kFkDuOVt0jDYG4HauPoevGfHH/ACkL%2BF//AGRnx5/6dvCFAHmP/BGb/QP2Ute8IdP%2BEe%2BK3ibTtv8Ad23zPj/yJX1pXyX/AMEn/wDiWQ/tD%2BEG4/sr9p3xUsCekMn2Z0/m1fWleTkWmUUV2TX3Smv0P0DxU97xEzGp/POM/wDwZRw9T/3Iwooor1j8/CiiigAooooAKKKKACiiigAooooAKKKKACiiigAooooAKKKKACiiigAooooAKKKKACiiigAooooAKKKKACiiigArxnxx/wApC/hf/wBkZ8ef%2BnbwhXs1eM%2BOP%2BUhfwv/AOyM%2BPP/AE7eEKAPZqKKKACiiigAooooAK8Z/YQIHwQ10k4A%2BM3xHyf%2B511uvZq%2BYPhZ44/4Vn/wT%2B%2BLvxGE3lnQfGHxc1BXz0aHxV4gkGPfKioq1I0qUpy2Sb%2B5N/oZ1qsaFGVSW0U2/RJv9DB/4JUI/wAY774w/t26gpdviz8Q54fDk7jJOg6XusrLBPTlZgQOMoPwran/AMZof8FS7bRgPtPgT9muwW6u%2B8N54tvV/dL6P9mhXdkcxyqQfvVufsW65p37Jv8AwSA8H/ETVoUSDw58Jn8SyxPxvaWCS/2fVmlAx1JbFbH/AASf%2BEV98Mv2LPDfizxU0k/ir4jNL4z8X6jcD97eX2okTh39CITCuOxU9ya%2BYwtKVajhMJLqvbVPN35kvnUnf0gj7Hw2pvhvw9xXEM/49SKw1J9quKhKriai84YdyhHqnX8j6Sooor6o%2BSCiiigAooooAKKKKACiiigAooooAKKKKACiiigAooooAKKKKACiiigAooooAKKKKACiiigAooooAKKKKACiiigArxn9l/8A5Lf%2B0d/2Wax/9QrwvXs1eM/sv/8AJb/2jv8Ass1j/wCoV4XoA9mooooAKKKKACiiigAooooAKKKKACiiigAooooAKKKKACiiigAooooAKKKKACvGfHH/ACkL%2BF//AGRnx5/6dvCFezV83/Gz4iW/hD/gqb%2Bz74SupAB4r%2BFHxIsLdDjmaK68K3YI%2BkdvLx7%2B1TOcacby8vxdvzZFSpClHmltovvaS/Fo5v8A4J2/8Sj9qH9qvwf08j4uQ6jt/wCvuyR8/jsr60r5L/Y//wCJN/wU8/a18OHhLl/BWo26%2Bu/SZVkP/fQFfWleXkumB5e06i%2B6pP8AzP0PxN97ilVv%2BfmHwU//AALBYb9YhRRRXrH5%2BFFFFABRRRQAUUUUAFFFFABRRRQAUUUUAFFFFABRRRQAUUUUAFFFFABRRRQAUUUUAFFFFABRRRQAUUUUAFFFFABXjPjj/lIX8L/%2ByM%2BPP/Tt4Qr2avGfHH/KQv4X/wDZGfHn/p28IUAezUUUUAFFFeIft/eJPEWhfBPRtI0TxXqWgWniT4l%2BFfD%2Bv65o%2BoSWd1Z6dfa1aW1wIrmJle2eZZPswmRleP7RuRkcKwAPb6K%2BIfEfxM%2BI3hX/AIJ8/GbRvDXxd18y%2BGPirfeDvAXirUNeuJ764hk1m1tIbSXUpJDOgS4uZdOa/Z2mt0iMzM8kJY%2BVW%2BvftNa3fR/sr2HivVrnxTp/x31uyuvANx8ffEFrZLYQ%2BErHUUtI/GUUR1e4jje%2BgvPLkgEjS3Mtu0awWqzUAfpnXwD%2B0x4yl8Ef8Ea/jff2rN59/wDE7x/pcMafekN58QdUtSoHf5ZW/AGvo/8AY4%2BLHivxL/wT7%2BGnxcli8SfETXLn4caVc3RRLG31PXbr7NGJZP39zHaiR3DPuNx5bZyJGBBPyH8ZdWv/AIh/sSfDL4Z6l4YvtHuviP8Atra7p%2Bo6FqckD3NlCfHOvXE0cxt5ZYWaMxqGMckiZHyswwT5edSccor23cWl6ytFfjI8biKcoZFieXdwcV6ytBfjM9c/4KbaJe%2BFv2FPAH7Fnha5MOo/EbxL4Z8AWZtz80UAeNppB/sCO22segEnvX2No2kab4f0i00HR7RYLOxto7e1gQfLHGihVUewAAr5P%2BMv/F8P%2BCu/wp%2BGCfvtN%2BEfgDVPGWqIOYzeXriwtkf/AG0A81R6En1r65rPLoqeNxFVbRcaa9IR1/8AJpfgfrPE0I5RwdkeTx0bp1MVNeeInyUr%2BmHw0beU/PUooor2D8/CiiigAooooAKKKKACiiigAooooAKKKKACiiigAooooAKKKKACiiigAooooAKKKKACiiigAooooAKKKKACiiigArxn9l//AJLf%2B0d/2Wax/wDUK8L17NXjP7L/APyW/wDaO/7LNY/%2BoV4XoA9mooooAKKKKACiiigAooooAKKKKACiiigAooooAKKKKACiiigAooooAzfGfjHwr8O/B%2BrfEDxzr9rpWiaFps%2Boaxql7KEhs7WGNpJZpGPCoiKzE9gDXNfBf9ov4SfH/wAPan4l%2BG2u3zQ6LffY9atNe8P32j3unzeRHcBZ7TUIYbiHdDNFKpeMB45FdSVINY/7anwh8VfHz9kz4h/B3wK9qNb8QeFLy10eO%2BlKW810YyYopWAJWJ3Co7YOFZjg4wfIvDnwh%2BOXxqHx41fxv8HNe%2BHcnxp8MDw/o9tqeq6XdTaIltpD2y3t4bG8mTfLPdzCNYGmIjtEaQxFwgAPcvgf%2B0f8Kf2jNNutc%2BEl7rd7p1ssMkWqaj4Q1PTbS/hlDGKeynvLeKO/gcIWWa2aWMqVIbDqT8a/8FYvGN38L/8AgpB%2Bxf8AFSDcsGla34ltNTuAcCC0vrrw9Yyu3%2ByBOAfrXsf/AATv%2BFf7R/wx1DV9P%2BJ/hrxr4e8Lw%2BC/D9ha6J488dQa9PN4gtxdrqd/ZPDdXItbCWNrFY4N0KgwuVtbYZ8zwL/gsf8AA3xjrviTU/Ea/FzxHrUtr8DvGHiPQNJ1G105Lbw82na/4NupPsjW1pFOwaNHDG4lnIAG0rznzc4U/wCy60obxXMv%2B3Wpf%2B2/ieRn6qf2NXlT%2BKMeZesHGf48jXzPavg7/wAST/gsf8ZdL6f258KPD2o4/veTK9vn9cV9aV8R%2BKviBaeGf2/v2dP2xtNYR6B8dfhs/hHVpVb93HPJGmp6cfdpJHMYPXCmvtyscnnFxrwXSpJ/KfLOL%2Bakfq3Hco42hk%2BZ0nenXwOHSf8AeoKpQmvVOEPlKL6hRRRXsHwAUUUUAFFFFABRRRQAUUUUAFFFFABRRRQAUUUUAFFFFABRRRQAUUUUAFFFFABRRRQAUUUUAFFFFABRRRQAUUUUAFeM%2BOP%2BUhfwv/7Iz48/9O3hCvZq8Z8cf8pC/hf/ANkZ8ef%2BnbwhQB7NRRRQAVm%2BMfBng/4ieFr/AMD/ABA8KabruiapbNb6no%2BsWMd1a3kLDDRyxSApIhHVWBBrSooA47Tf2dv2ftG8It4A0j4F%2BDrTQX0I6I%2BiW3hi0jtG0wu7mxMKxhDblpJG8nGzLscZJrLvP2Qf2TNR%2BGFt8EdQ/Ze%2BHU/guyvje2fhCbwTYNpcFyd2Z0tTF5SyHe/zhQ3zNzya9FooAg0vS9M0PTLbRNE06CzsrOBILS0tYVjigiRQqIiKAFVQAAAMAAAV%2BdWi58a/tS/s3/Cpfnhtvj/8avEuoL/zz%2Bx%2BJdZ%2BzsR7yOwFfo5X5mfsseJop/8AgoZ4r8VzkNY/CzwZ8U9Tdm6RXlx8RddJHtmBM/hXkZzJfV6cH9qpTXyUuZ/hA8jOKU8VDD4WCvKrWowS73qJ2/8AJV9571/wTp/4u/8AtK/tIftbz/vYNa%2BIcfhHw/M3Kmx0aAQmSL/YkeTcfVkPevrmvmD/AII0%2BFn8L/8ABNv4aG6Um71WzvdUvZ35eeS5vriYOx7nY6DPoBX0/VZJFrKqU5bzXO/Wbc3/AOlJfI/VPE%2BtTlx7jsPSf7vDzWGh/gw0YYeP3%2BylL1mwooor1T4IKKKKACiiigAooooAKKKKACiiigAooooAKKKKACiiigAooooAKKKKACiiigAooooAKKKKACiiigAooooAKKKKACvGf2X/APkt/wC0d/2Wax/9QrwvXs1eM/sv/wDJb/2jv%2ByzWP8A6hXhegD2aiiigAooooAKKKKACiiigAooooAKKKKACiiigAooooAKKKKACiiigAooooAK%2Bff2hvA%2Bn/E39sHwh8NtWx9l8Q/s%2B/EfTLncMjy59Q8JRNx9HNfQVeM%2BOP8AlIX8L/8AsjPjz/07eEKmUYzi4y2en36EzhGpBxkrppp%2Bj0f5nxdpOn%2BLfjL/AMEG/Dni7R0ZPHPwLvhqungjc1leaBqEqnpzkWSuePUV%2Bi3wk%2BJGhfGL4WeG/iz4Yfdp3ibQrTVLL5skRTwrKoPuA2D7g18u/wDBPLQ9J0H4t/tU/sj%2BIbJJrDT/AIqza0NPlHyjT9dtBMsQH9zbG4/4Ea0/%2BCQWuar4c/Z/8Sfsq%2BK715dZ%2BCvj7VPCsrzH95PZLO09pP8A7jRylV/2Yq%2BXyeUqFaipfbpuD/x0JOP3uH5H1fDM5Z14MRoyd6uWV16%2Byr3oz%2BUcRhqcn2dXzPrCiiivqj5YKKKKACiiigAooooAKKKKACiiigAooooAKKKKACiiigAooooAKKKKACiiigAooooAKKKKACiiigAooooAKKKKACvGfHH/ACkL%2BF//AGRnx5/6dvCFezV4z44/5SF/C/8A7Iz48/8ATt4QoA9mooooAKKKKACiiigAr8jf2cNTutC0P/go78Yb18DSda8XeHtEm/55tJq2vyOP%2B/1xEa/XKvyP1nR73wb/AMEwP2zteto/%2BJl46/a68X6dp56GWI%2BLI7UJ7/duPzr5/iK8cIqi%2BwqkvupTS/GX3nt8G5X/AGz4k8P4V/C8ZRb7WUo7%2BW7%2B8/R39hvwn/wgv7GHwn8JNFsksfhzo0c4xj979iiMh/Fyx/GvU6peG9EtfDPh2w8N2I/cafZRW0PGPkjQKP0FXa9rD0lQw8Kf8qS%2B5JfocucY6WaZvica96tSpP8A8DqTn/7eFFFFbHnBRRRQAUUUUAFFFFABRRRQAUUUUAFFFFABRRRQAUUUUAFFFFABRRRQAUUUUAFFFFABRRRQAUUUUAFFFFABRRRQAV4z%2By//AMlv/aO/7LNY/wDqFeF69mrxn9l//kt/7R3/AGWax/8AUK8L0AezUUUUAFFFFABRRRQAUUUUAFFFFABRRRQAUUUUAFFFFABRRRQAUUUUAFFFFABXjPjj/lIX8L/%2ByM%2BPP/Tt4Qr2avGfHH/KQv4X/wDZGfHn/p28IUAeRfEPUX/ZN/4Ku6L8VfEUQi8G/H7wxbeFp9SztS08R2TFrRZT0xNCfKj7li3QKarfFjV7j9gr/gokv7RGuxonww%2BPkWn6B4t1IZVNC8Q2sbR2NxKfurDNETGW4w29mICjd7l%2B3D%2BzBpv7Xn7NXiH4My3YstVmhW98L6sGKvpurQHzLW4Vh8y4kAVivOx3A615t%2Bzn4r8I/wDBTv8AYL1H4Y/tD6AU11Y7jwr8TNHdFSfTdbtCFklVeRHIHWO4TqFLAc7TXzFfDVaeKnh6btJt1qTe3Mv4kH5O9/8ADNv7J38A59g%2BFeKMRl%2BZRcsDjoTjUS%2BLkm4OpydPaUakaeJpX3tKL0k2vqOivlT/AIJ1/tCeMdJvNZ/YH/ad1%2BM/FL4YEW1leXL7W8VaGB/ompQ7jmQ%2BXtWTBZlIBY7mYD6rr3cFi6eNw6qw06NPeLWji/NPT7ns0d/E3D2M4XzmpgK7UkrShON%2BSrTmuanVg3vCpBqS7e9F2lCSRRRRXUeCFFFFABRRRQAUUUUAFFFFABRRRQAUUUUAFFFFABRRRQAUUUUAFFFFABRRRQAUUUUAFFFFABRRRQAUUUUAFeM%2BOP8AlIX8L/8AsjPjz/07eEK9mrxnxx/ykL%2BF/wD2Rnx5/wCnbwhQB7NRRRQAVx3x4%2BNnhr9n74dS/ETxNpGp6pu1Kx0zTNF0SGOS91TUL26itLS0gWWSOPzJJ5o13SOkaAl3dEVmHY15f%2B1v8G/Gfxn%2BGFhY/DW80yLxN4a8YaL4l0CPW55IrK6uNPv4bk2s8kUcjxJNGkkPmrHIYjIJAkmzYwBmf8NufC61/Zs179pXXvC/iPS7bwxqdxpOv%2BFb21t/7WstVhvBZmwZY52tzI07RqkgnMDLKkvm%2BW2%2Bsey/4KAeC9Q0CSO0%2BCPj1/Gkfj2XwcPhkkWltrD6rFp6anIglF%2BdP8pbGRLhpzdiNQwjLCYiKuO1H9kD9ozxP%2By/8SvhVr0vgq28RfE3xLP4m1uKDXLufTJZJdQhaTQZC1mkjWUum2sVnLeBRIxuJ3W2TCqfPF/4JaeLP%2BEY0zV7r4GfB24h0b4raj4l0b4DNrNyngqw0u80OHTZrCOYaYeTeRHVf%2BQeIvPmlURhiLigD7g8K6ze%2BIvDOna/qXhi/wBEub6xinuNG1VoTdWLugZoJjBJLEZEJKsY5HTKna7DBP51fHTRtMl/ZQ8A/C/S7RUPjz9vTxBaX6KSfNDeOtflkkbPYeSmfTivtH4Dfs9ax4G/ZI8Mfs3/ABW8c6lq15pnhmDTdW1jQ9ev7CcsoHy293DKl3GqcRpJ5glKICxyTXxT4f8AD1hF8S/2WvgNpVxfXFrb/tL/ABc1SE6nqk99cumleItZdXluLh3mnf58mSR2djksxJJryc8Sllso/wAzjH/wKcF%2BVz7/AMLkoccYfEv/AJcQxFb09lhcTO/yfK/kfpTRRRXrHwAUUUUAFFFFABRRRQAUUUUAFFFFABRRRQAUUUUAFFFFABRRRQAUUUUAFFFFABRRRQAUUUUAFFFFABRRRQAUUUUAFFFFABXjP7L/APyW/wDaO/7LNY/%2BoV4Xr2avGf2X/wDkt/7R3/ZZrH/1CvC9AHs1FFFABRRRQAUUUUAFFFFABRRRQAUUUUAFFFFABRRRQAUUUUAFFFFAHj3/AAUHPjkfsOfFg/Df%2B0/7Y/4QLU/s/wDYm/7ds%2Bzv5v2by/n8/wArzPL2fPv27fmxXhv7I3xD%2BE/ga6%2BO3/DAOi%2BEfEPg9oba8%2BEfgvwjrNlZaVr%2Bv2%2Bixvf22mvvW3WNnbTknkjPlxzyTNIRJ5tfadFAHxN/wSPtPHnh34p/tFeF/iL8JfGeh65J4/0fVPEmr%2BMLrSHl1HVrnw5pj3TbdO1G8WPL/vUjDGKKCaCJGzG0cfqV/qXxXu/%2BCm3guz8beC/D2n6Fb/B7xwPDWo6V4nnvLu/Q6t4S8xrm2ksoUtCMJgJNcBtxyV2jd9D14z44/wCUhfwv/wCyM%2BPP/Tt4QoA9mr40/aW8DfFz9hD9oHXf2/f2fvC8/ibwP4pitz8bvh/YRD7UqwKVXWrEcAyRoSZU43Dcx%2B8Xi%2By6CAwKsAQRyDXHjcHHGU0lJxlF3jJbxffzXRp6NNp9GuDMcBHH0UlJwnF80JLeMlpfs002pRekotp9Gvm741/AT4Af8FLfg34Z%2BOvwb%2BJB03xDYxDUPhv8UfDbbb3SpwT%2B7fozR7wUlt3wQdw%2BVhkc9%2Bzz/wAFCNY8FeNIP2U/%2BCh1jaeA/idbv5GleIJQYtC8YxDAS6s7lgI0kfI3QsVw5woDExJneOf2M/2iv2RvH%2BtfHf8A4Jsaxpcmla3em/8AFnwM18iLStSnIw82nTDH2GdgPu8Rk4ydqLHWh4X/AGtP2HP%2BCgnh67/Zj/ae8DW3hvxcJRBrHws%2BJkAtNQt7rGA1pI%2B3zW5JSWBhJtO7C5rwnUq08UpNqjiHo07%2ByrW2s/5u21SOzU4o%2Bv4d8QcBLL6fDfGNGUqMW/ZTi0qlGTd5Sw1SfuTpzfvVMJVcU5e9B06n7yf1mCCMg0V8bWn7Mf8AwUA/YkjMX7GXxasfij4Btm3Wvwt%2BJ90Y7%2Bwi/wCeFhqgxwOAiTYjRR0Y5J3fBP8AwVy/Z/sdch%2BHv7V3hHxP8EPFrtsfSviBpUkdlK46tBfophki9JGMYNenHN6NNqGMi6Mv73wv/DNe6/m4vyPoq/h1meMpyxPDtWOY0Vr%2B5v7eK3/e4WVq8GurhGvT3tUtY%2BrKKzfCfjHwj490KDxT4F8VabrWmXK7rbUdJvo7mCUeqyRkq34GtKvVUoyV07o%2BAqU6lGo6dSLjJOzTTTTW6aaTTXZpPyCiiimQFFFFABRRRQAUUUUAFFFFABRRRQAUUUUAFFFFABRRRQAUUUUAFFFFABRRRQAUUUUAFFFFABXjPjj/AJSF/C//ALIz48/9O3hCvZq8Z8cf8pC/hf8A9kZ8ef8Ap28IUAezUUUUAFFFFABRRRQAV%2Bb/AOzzf2muf8FHPAOl304WLwXP8ZdebIJ8v7X491ixBwOckgKMck8V%2BkFfmh/wT2H/AAl//BR34xeIcb/%2BEPvfEGhbv7n2v4m6ve7fbOM15Obe8sPT/mqw/wDJeaX/ALaj9A8P/wBzLNsX/wA%2BsBiretRUaC%2B/2skfo1/wmGk/8%2Bmqf%2BCO7/8AjVL/AMJhpP8Az6ar/wCCO7/%2BNV87ePv%2BCyP/AATe%2BF/jvWvhp45/aN%2Bw634d1a50zWLL/hENYl%2Bz3VvK0Use%2BO0ZH2ujDcpKnGQSOayf%2BH5f/BLT/o6H/wAsnW//AJCqpZ5ksJOMsTTTX9%2BP%2BZnR8LfEzEUY1aWSYuUZJNNYeq000mmmoWaaaafVNPqfT/8AwmGk/wDPpqv/AII7v/41R/wmGk/8%2Bmq/%2BCO7/wDjVfO3gH/gsj/wTe%2BKHjvRfhp4G/aN%2B3a34i1a20zR7L/hENYi%2B0XVxKsUUe%2BS0VE3O6jcxCjOSQOa779v74wfEz9n39ib4p/HH4N2mmzeJ/CXgfUNV0ddXmZLdZYIWk3vtjk3bVDME24dlCFkDF168LjcHjYuWHqRmlvytO3rY%2BfzzhniThitClnGCq4aU03FVac6bkk7NpTSbSeja66Hpf8AwmGk/wDPpqv/AII7v/41R/wmGk/8%2Bmq/%2BCO7/wDjVfPep/tufG3wr8Q/HPgv4hfArwJoWn/DL4eWnibxz4nu/ipdGxt3u4tUa3trbGjiWdQ%2BnxiWV0iKJcFo45nQRScz8Nv%2BClWr/FXVPDOh6t8J9X8L63F8aJfB3iHSFlvLaGRD4P1DX4Z9usaPaXrwukMSbfs9pIJUDLLJCpW46Twz6q/4TDSf%2BfTVf/BHd/8Axqj/AITDSf8An01X/wAEd3/8ar55/ZK/b5%2BJP7Q%2Bn6JceOf2YP8AhH7vxZ8JtF%2BIPhPS/D3jWHVZ7rTr5gjwTm4gsore4hLxMVDyI6PkOGUx11P7Vfiz4q6l8Wvhf%2Bzx8LfivqHgRvG11rF1q3ivRtNsbq9it7CyEi20C39vcW6tJNNCzM8TnyoJVXazCRAD13/hMNJ/59NV/wDBHd//ABqj/hMNJ/59NV/8Ed3/APGq%2BcoP2hP2kfif/wAEyPCHx/8Ah9aXP/Cc67pHh2bxDd%2BFdDW9uLe0lv7SLWNQ06ykWQTypZm8ubeArLuZY12TnEb8X4C%2BOP7Svxo/Zq%2BIOoeBfF3xt1DXfhn8Sr/Q9KufDvhTwvpniTxRZixtLy3lvLPXrOG0g2C9CMkcVtM3kD92rloqAPsH/hMNJ/59NV/8Ed3/APGqP%2BEw0n/n01X/AMEd3/8AGq%2BFoP20P2mfGXgKH9oLSfjjp8dl4G8CfDTVdW8PeG9Etm0rxnca7Ij6lKXvLc3kMLQyCOzWJ4HjlVmmEwPlL2Hwp%2BPf7Snjf4meGNd1D45Xa6T8WfGvxC8I6f4YTQdOMPhA6NcajFYX9s4txPNME0tvtCXUk0bzXQCLEqBWAPrj/hMNJ/59NU/8Ed3/APGqv2F/aanaJfWM4kikGVYAjvgjB5BByCDyCK8H/Yh8ffEzxtr/AMSLHVPjFq3xG8DaF4jh03wZ491/TNPtrrU7mKHZqcSHTra2t7m2guQIknSFcyrcx7nEQavafB//ACCZv%2Bwpff8ApXLQBq0UUUAFFFFABRRRQAUUUUAFFFFABRRRQAUUUUAFFFFABRRRQAUUUUAFFFFABXjP7L//ACW/9o7/ALLNY/8AqFeF69mrxn9l/wD5Lf8AtHf9lmsf/UK8L0AezUUUUAFFFFABRRRQAUUUUAFFFFABRRRQAUUUUAFFFFABRRRQAUUUUAFFFFABXjPjj/lIX8L/APsjPjz/ANO3hCvZq8Z8cf8AKQv4X/8AZGfHn/p28IUAezUUUUAFec/tC/skfs3ftV6B/wAI78f/AIP6N4kiSMpb3V3b7Lu1B6%2BTcxlZYf8AgDDPevRqKzq0aVem6dWKlF7ppNfc7mVehQxNJ0q0VKL3TSafyaaPj%2BH9hH9tL9nBCP2Iv26L2fRIDmz8AfGKw/texRe0Ud8mLmCIdAiKeDySRk0PFv7VX7YHhrw/P4K/bg/4JXXnjPQ2G2%2B1P4Y3Nr4jsr1R1YabP%2B9VevEjZr7PorzHlEacbYarKmv5bqcP/AZ8yt5JpeR5dLKamAqRqZdialCUXdcsuaKa2sptuNunJONulj8s7e%2B/4Im%2BIvF0198Mvjb4/wD2afG8rBrqDSrzU/DcsL9hJHMkloq9iiFRjPTrXtHw9s/287aJJv2Tv%2BCovwi%2BNWngZs9L8daZbtIE/uNd6VK0srf7TAH6V9neMPAPgX4haadG8feC9J1yzOc2msabFcxHPX5ZFI/SvCviB/wST/4Jx/EmR59e/ZN8M2cjnd5nh4TaUVb1AspIgPyry3kmMou9HkT7wdSi/ui50/8AyQ%2B8p%2BJfilCmqWYVsPmMFoli6KqSsuinOM6i%2BVZeVjkx%2B1z/AMFMPhn%2B6%2BMn/BNOPxHbR/67W/hn4/trgP8A7llOBMfxal/4fGfALwt8nx4%2BBfxm%2BGbJ/r5PGfw1ukhT1Ie383cvoQORR/w5/wDhR4b5%2BDH7VHx58AhP9TbeGPidOLdfRSk6Sbl9s0f8MJ/t6eFRj4Xf8FaPF8KJ9yHxd4A03WSw9GeQqfxxmi3ElD4eZ%2Bro1P8A5TL9S/8AXjIsT/yMuFIp9ZYTGTpfdCr7aHy0Xkdp4H/4Kr/8E6viCqNoP7Xng6DzPujW75tMP4i8WLH41654P%2BNXwb%2BIYQ%2BAPi14Z1wSfcOj69b3O76eW5zXx542/Yg/4KNeIt//AAlXi79mT4lFvvN8QfhD5Zl92%2Bzq2PwryTxh/wAExP2jdU3nxn/wTU/Zd14nO/8A4QbxVrehbv8Ad/eJto/tXPqXx4e//bk1/wCkyqIX9s%2BFWI/iYbNcK/8Ar1hMTFfOFShN/cj9RKK/JUfsKftSeCPl8I/8E4fiP4eROlx8OP2torfy/wDcjulkY/TNKPCf/BQrwP8A8gnQf21dN2dFuPHuleJ1X2AMce4Uf6yYmH8TCT%2BXN/7dTQf8aurfw88q0vKvluMj98qUq0fuufrTRX5LH9pT/gqP4L4h8fftTJGnWHWP2TtJ1GL/AIFcR3gb8hzR/wAPPf8AgpH4TP8Ap%2BvXE%2B3r/wAJl%2Bzxqtjn/e%2BxyPj8KP8AW7BR/iUqkf8At1P/ACD%2BzeC6n8HiXAv/ABrGUfv9rgbL736n600V%2BTMf/Bc79sLwyM%2BNLX4LyKvUL4R8YWbke/mWzgGp7H/g468b2j%2BXf/Bz4fauynDDT/Fmo2Ofp9rsBj8aa4zyFfFOUfWL/RsFkGWVHahnmWT9MwoR/wDTsaJ%2Br9FfmFov/ByBDcgf23%2ByHp8A7ta/GLTpM%2B4DwRmuisv%2BDjf4IRqG8Q/s965B/e%2BweMNHufy/fpmto8XcOy/5fpeqkv0L/wBU8bJ2pYvB1P8ABmGAl%2BWLR%2BjdFfnpaf8AByb%2BxF5gt9Y%2BFnxNtnPVodN0ydB/wJL/APpXS6R/wcJfsC6qA0lh8QbUHvP4UDY/79zPW0eKOHp7YqH3v/5E0fA/E6V1ShJf3cRg5f8ApONl%2BR9zUV8dWP8AwXe/4JzXIBvviJ4jsc9ftXgq/OP%2B%2BImrVsf%2BC4P/AAS%2BvjsP7TawP3S58IaxHj8TaY/WuiOf5HLbE0//AAJfrYhcEcYS%2BDA1Jf4VGf8A6RUmfWFFfNVh/wAFhf8AgmpqWPs/7WWgrn/n4sryL/0OEVs2P/BUn/gnhqOPs/7YHghc/wDPfV1i/wDQwK2jm%2BUy2xEP/A4//JEvgnjNf8y3EfKjUf5Qke%2BUV43Zf8FEP2CtQx5H7ZvwwXP/AD38cWMX/ocorXsv21f2N9Sx/Z37WnwyuM9PI8eac/8AKatY4/AS2rQf/b8f/kjnqcJ8V0f4mXYhetCuv/cJ6bRXEWf7TP7N%2BoY/s/8AaB8ET56eT4rs2/lJWpafGD4Sahj7B8UvDk%2Benk63bt/J62WIw8tpp/Nf5nBUynNqP8TDVI%2BtOovzgjo6KoWnirwvf4%2BweJLCfPTybxG/kavKyuoZGBB6EGtE09mcU6dSm7Ti16pr80haKKKZAUUUUAFeM%2BOP%2BUhfwv8A%2ByM%2BPP8A07eEK9mrxnxx/wApC/hf/wBkZ8ef%2BnbwhQB7NRRRQAUUUUAFFFFABX5x/wDBIbw%2B7/tEftieO5QWFz%2B0ndaZCx/hFv4j1J2UenNwCa/RyviP/gk94WbR/BH7RHiSeP8Aea1%2B2j43kR8dYovEYhUfgySfnXn4un7TFYd/yyk//JJL9T67h7GrB5BnEb61aNKn9%2BKpSf4U0fblFfMXj/8A4Ka/8IF471vwL/w75/ae1r%2BxdXubD%2B2NA%2BE/2mwv/JlaPz7aX7SPNhfbvR8DcrKcDNZH/D2H/rGp%2B1p/4Zv/AO6qzlnWWRk4upqv7s//AJWfnEuIcmhJxlV1Wnw1Omn/AD6PrSsX4j/DzwZ8XPh9rnwq%2BI2gxar4f8S6Rc6XrmmTsypdWlxE0U0RKEMAyMwypBGcgg818%2BeAf%2BCmv/Ce%2BO9F8C/8O%2Bf2ntF/trV7aw/tjX/hP9msLDzpVj8%2B5l%2B0nyoU3b3fB2qrHBxXs37SfjD4nfDz4BeL/iD8GfDlprPifQdAudS0fRb2F3TUpIEMptQEdCHlVGjRt2Fd1YhgCp68NjMNjIuVGV0t9JL/ANKjH9TtwePweYRcsPLmS0ekl5/ajH8LmNB%2Bxr%2BzwvhXxT4O1PwhqWr2fjXw3b6D4ql8ReK9T1O61Kwg%2B0%2BTHJc3dzJPvT7XPiUOJRuX5/kTbneB/wBgr9lr4e6kuueH/AWpTakPFw8US6trXjHVtSvLjVxpE2jC7muLy6llnYafPLb4kZl2lTjciMvhviP/AIKP/E34keFrnxj%2By42h6rYeI/Hc2kfCiWLwkuqN4g06w0hbrVb2RrnW9KtoY4rvz4A7XC7RZuAkrSDy%2BJ8G/t1fEb4ueI9E%2BPFl9ptdO8efDL9nfVY/Cja/e/YdKn8ReLtdtr%2BSD7NPFucxeSjMcpOtrCsySxL5R6TsPsPwx%2Byd8CPBNjolh4O8J3ulL4c8DWng7RJtO8R6hDNaaLavG8FqsqThztMUeZCxkYAhnYMwOj8b/wBnr4U/tE6Jp%2Bh/FLR9RmGkaib7SL/RPEV9pF9Y3BhlgZ4bywmhuIt0M00ThJAHSRlYFSRXyb8E/wBqn9qD43ftSfCDxhqfirwj/Ynjv4W%2BP9b8OfD3Srq909rWSzv9GgtoNWlM1wl1LH5pRrhLaI20j3CLFJnJ9u/bf1bxJPpnwo%2BG8virVfDukeO/ivYaH4z1Lw3rtxp91DZnT7%2B6SCG9t2int/PvbWztfMjaORluCqlS4oA9Ck/Z3%2BFieAx8MNGsdY0XQIvDlhoVlpnhnxXqOlR6fY2ZJt0tPsdxEbN1B2mWApK6IiM7LGirzt3%2BxL%2Bz9P8ADzTvhbY2Hi3S9I026vLkHQPiXr2m3d7PduZLmW9u7W9juL95XJd2uZJSzHcSTzXl/wAItR/aF%2BKf/BNvxvofwn%2BJN3P40s9S8d%2BHPAPizWNVLXFxb6fr2qafplxJeShy0ptbaAfa3Dl2xO2/cc8V%2Bz7Z/FX4s6d8b/gWfBfj6wsPCXinRj4J8PeOP2hNWtNVhv5dKinu9Pu/EGk3V9dJGNyXQhWa62rdJuVVZYogD6E1P9hf9lbU/EvhfxQ3wpS0l8HabpOn6FYaXrF7Z6eLXS5jPpkM9jBMlteJZyky24uI5BA5Lx7GOaF/Yb/Zlj8Y%2BJfHlv4G1GHUvFen6rZ6m9v4t1SOK2XUyp1CSxhW5EWmz3LIry3FmsM0kg3s5f5q%2BFZ/jV8XPF/7NGpa/wCMP2kvGWmav8Lv2a/EXinw1f6X4su7YXvifTtY1Gzma4eGYf27BZvYWVsv2jzYrtLwSyRl7hdvqWq/tY/FDxP/AMFQ/hl4b8W2/wAVvCmix6xq/hqz8IDwH4gg0fVyukNNNqk90tqLK8U3eyOE%2BZItvFaGctH9pkCAH1l%2Bzv8Asw/CP9lfwcnw%2B%2BC8HiO10SC1t7ay0vXPHOr6zDYwQIY4obZdRup/ssarxsi2KQFyDtGOs8H/APIJm/7Ct9/6Vy1qVl%2BD/wDkEzf9hW%2B/9K5aANSiiigAooooAKKKKACiiigAooooAKKKKACiiigAooooAKKKKACiiigAooooAK8Z/Zf/AOS3/tHf9lmsf/UK8L17NXjP7L//ACW/9o7/ALLNY/8AqFeF6APZqKKKACiiigAooooAKKKKACiiigAooooAKKKKACiiigAooooAKKKKACiiigArxnxx/wApC/hf/wBkZ8ef%2BnbwhXs1fOH7R%2Br/ABr0f9vD4Tz/AAO%2BH/hbxFqTfCPx2t3aeK/GFzosEcH9qeEiXSW30%2B9Z33bRsMajBJ35AUgH0fRXjP8AwnH/AAUL/wCjX/gz/wCH41b/AOZej/hOP%2BChf/Rr/wAGf/D8at/8y9AHs1FeM/8ACcf8FC/%2BjX/gz/4fjVv/AJl6P%2BE4/wCChf8A0a/8Gf8Aw/Grf/MvQB7NRXzjpP7R37dusfGfX/gdb/sofCRdU8O%2BF9I128uX%2BOuqeRJBqNzqVvCiEeGNxdW0ucsCoADx4LEsF6j/AITj/goX/wBGv/Bn/wAPxq3/AMy9AHs1FeM/8Jx/wUL/AOjX/gz/AOH41b/5l6P%2BE4/4KF/9Gv8AwZ/8Pxq3/wAy9AHs1FeM/wDCcf8ABQv/AKNf%2BDP/AIfjVv8A5l65fwD%2B0d%2B3b8RPFfjfwho/7KHwkhuPAfiiLQtVkufjrqgSeeTStP1MPFt8MElPJ1GFSWCnejjGAGYA%2BjqK8Z/4Tj/goX/0a/8ABn/w/Grf/MvR/wAJx/wUL/6Nf%2BDP/h%2BNW/8AmXoA9morxn/hOP8AgoX/ANGv/Bn/AMPxq3/zL0f8Jx/wUL/6Nf8Agz/4fjVv/mXoA9mor5x%2BEX7R37dvxl8KXfi/w5%2Byh8JLa3s/FGt6FJHe/HXVFcz6Xqt1pk7jb4YYbGmtJGQ5yUZSQpyo6j/hOP8AgoX/ANGv/Bn/AMPxq3/zL0AezVWvtH0jVF2anpdtcD0ngV/5ivIv%2BE4/4KF/9Gv/AAZ/8Pxq3/zL0f8ACcf8FC/%2BjX/gz/4fjVv/AJl6TSe4mk1ZnoV/8HPhFquf7U%2BFfhu5z18/Q7d8/mlY99%2Byv%2BzDqef7S/Zx8B3Gevn%2BD7J8/nFXK/8ACcf8FC/%2BjX/gz/4fjVv/AJl65f4I/tHft2/Hj4MeEPjj4V/ZQ%2BElrpfjPwvp%2Bu6bbah8ddUWeGC7to7iNJAnhhlDhZAGCswyDgkc1lLD4eXxQT%2BS/wAjGWFws/ipxfrGL/OJ3d5%2Bwz%2BxPqOft/7Hvwtnz1Mvw%2B01v5w1l3f/AATm/YFvc%2Bd%2Bxn8Mlz/zx8F2Uf8A6DGKX/hOP%2BChf/Rr/wAGf/D8at/8y9H/AAnH/BQv/o1/4M/%2BH41b/wCZesngMBLejD/wCP8A8iYSyzLJfFQg/wDtyH/yBl3f/BLr/gnjeZ879j3wKM/88tFSP/0HFZ1z/wAEkf8Agm9d5839kbwsM/8APJZk/wDQZBXS/wDCcf8ABQv/AKNf%2BDP/AIfjVv8A5l65f43ftHft2/Af4MeL/jj4q/ZQ%2BEl1pfgzwvqGu6lbaf8AHXVGnmgtLaS4kSMP4YVS5WMhQzKMkZIHNZvKsrlvQh/4BH/5ExeSZLLfDU//AAXD/wCRKVz/AMEbP%2BCZt1nzf2T9GGf%2BeeqX6f8AoNwKo3H/AARL/wCCX1z/AKz9le0Gf%2BefifVk/wDQbsV6H/wnH/BQv/o1/wCDP/h%2BNW/%2BZej/AITj/goX/wBGv/Bn/wAPxq3/AMy9ZvJcme%2BGp/8AgEf8jN8O5BLfCUv/AAXD/wCRPL5/%2BCF3/BLablf2ZXjJ7x%2BNda/reGqc/wDwQb/4JhS/6v4C38X%2B54y1T/2a4Neuf8Jx/wAFC/8Ao1/4M/8Ah%2BNW/wDmXo/4Tj/goX/0a/8ABn/w/Grf/MvUPIcjf/MLT/8AAI/5BHh7IYfDhaa9IpflY8Xm/wCCBP8AwTOl%2B58JNaj/ANzxfff1kNVZv%2BDfn/gmzL9zwD4kj/3PFlz/AFJr0r4u/tHft2/BrwpaeL/Ef7KHwkube88UaJoUcdl8ddUZxPqmq2umQOd3hhRsWa7jZznIRWIDHCnqP%2BE4/wCChf8A0a/8Gf8Aw/Grf/MvUPh3IX/zC0//AAFHRHKsuh8NO3o5L8po8Dl/4N6v%2BCckn3PDni6P/c8VSf1U1A//AAbw/wDBPYHdaHx3bn1h8Uj%2BsJr6D/4Tj/goX/0a/wDBn/w/Grf/ADL0f8Jx/wAFC/8Ao1/4M/8Ah%2BNW/wDmXqXw3w%2B/%2BYWH/gP/AATaODox%2BFyXpUqr8qyPnsf8G937EkP/AB4/EH4qW3p5Hi%2BIY/O2NSxf8ECP2Vbb/jw%2BPvxstsdPI8cQLj/yUr3/AP4Tj/goX/0a/wDBn/w/Grf/ADL1y/j79o79u34d%2BK/BHhDWP2UPhJNcePPFEuhaVJbfHXVCkE8elahqZeXd4YBCeTp0ygqGO90GMEsp/q1kC2w0fx/%2BSG8JSe7l/wCDK3/y48zg/wCCFvwIs/8Ajw/a3/aDt8dPJ%2BIcC/8AtnV62/4ItfDyyx9g/bt/aagx08n4oxL/ACs69m/4Tj/goX/0a/8ABn/w/Grf/MvR/wAJx/wUL/6Nf%2BDP/h%2BNW/8AmXqlw9kq2oL75f8AyZhPK8DU%2BKLf/cSr/wDLjyq2/wCCRmn2K4sP%2BCjv7VsHp5XxeCj9LUVW%2BBv7Jl5%2By7/wUN8HG5/ad%2BKvxHXXfgz4y2D4neLTqp07ydW8LZ%2BzEovl%2BZ5o3/3vKj/u169/wnH/AAUL/wCjX/gz/wCH41b/AOZeqHgfwP8AtWeMf2rPDnxu%2BN3w4%2BHvhnRvDPw98Q6HDD4V%2BId9rV1d3WpX2iXCMyXGkWKRRomlygsHdi0qALjJHTQyrL8NVVSlCzW3vT/Jza/AnD5PluFrKtSp2kuvNN/%2BlVJL8Ge60UUV6B6QV4h%2B394k8RaF8E9G0jRPFepaBaeJPiX4V8P6/rmj6hJZ3Vnp19rVpbXAiuYmV7Z5lk%2BzCZGV4/tG5GRwrD2%2Bs3xj4M8H/ETwtf8Agf4geFNN13RNUtmt9T0fWLGO6tbyFhho5YpAUkQjqrAg0AfGfiP4mfEbwr/wT5%2BM2jeGvi7r5l8MfFW%2B8HeAvFWoa9cT31xDJrNraQ2kupSSGdAlxcy6c1%2BztNbpEZmZ5ISx8l%2BIf7Q37Qfwp/Zd%2BLvwA1TUfifpmsWfxC1vTtX8ReCrjxJ45PgbTYPDemamlna67HbPfyPcteQ7bu7S2a1N5ehGUWMBk/QfTf2dv2ftG8It4A0j4F%2BDrTQX0I6I%2BiW3hi0jtG0wu7mxMKxhDblpJG8nGzLscZJq34L%2BCnwa%2BHHw/k%2BE3w8%2BEvhnQfCsscyS%2BGdF0G3tdPdZs%2Bcpt4kWMh9zbht%2BbJznNAHI/s//ABU1jxB%2Bxv4J%2BLWleE/FPirULrwLpt3/AGU9sLPVtSmNtHvyuqyWwWRm3NuneMN97ccgnzj/AIJ9aclp%2Bytr3iifwvqWi3Os/Hvx3rOraTqr28lzYSN461NpIpTbSSxFo1j2sY5JE%2BQ7XYYJ%2BlNL0vTND0y20XRdOgs7OzgSC0tLWFY4oIkUKqIqgBVAAAAGAAAK%2BUf2SvFn7Z2n/D3xRZ/DH4B/DDV9CT40/EX%2Bz9R174u6jpt3Mv8AwmesljJbRaBcpEQ24ACZ8gA5BO0JpNp9i41KkYSgnpK1/Ozuvuep9Qf8Jz4J/wChw0v/AMGEf/xVL/wnPgn/AKHDSv8AwYR//FV5b/wnH/BQv/o1/wCDP/h%2BNW/%2BZej/AITj/goX/wBGv/Bn/wAPxq3/AMy9Mg9S/wCE58E/9DhpX/gwj/8AiqP%2BE58E/wDQ4aV/4MI//iq8t/4Tj/goX/0a/wDBn/w/Grf/ADL0f8Jx/wAFC/8Ao1/4M/8Ah%2BNW/wDmXoA1L74GfsUap8ONJ%2BDup/B34W3HhHQL37ZoXhWfw9pr6bptzukbzoLYp5UMm6WU70UHMjnPzHOhp/w4/ZR0m1tbLSvAfw9tobK00m0sobfS7FFt4NLnkuNMiQBQES0nlllt1GBBJI7xhWYk%2BZ/BH9o79u348fBjwh8cfCv7KHwktdL8Z%2BF9P13TbbUPjrqizwwXdtHcRpIE8MMocLIAwVmGQcEjmuo/4Tj/AIKF/wDRr/wZ/wDD8at/8y9AGrY/A/8AYq0vxTrfjnTPhB8LrfW/EsF1D4j1iDw/pqXWqx3WPtKXMoTfOsu1fMDkh8DdnFdB430r4AfEzwRc/DL4kab4O8QeG7yFIrvw9rkNpd2M8aMrIjwSho2VWVSAVwCoI6CuK/4Tj/goX/0a/wDBn/w/Grf/ADL0f8Jx/wAFC/8Ao1/4M/8Ah%2BNW/wDmXoA6oeCf2YR4et/CI8I%2BAxpNp4bn8PWul/YLL7PDpE4jWbTkj27VtZBDEHgA8thEgKnaMYd1%2Bz5%2BwxffC21%2BB178EPhPN4Ksr831n4Pl8NaY2lwXR35nS0MfkpJ%2B8f5wob5255NcT8bv2jv27fgP8GPF/wAcfFX7KHwkutL8GeF9Q13UrbT/AI66o080FpbSXEiRh/DCqXKxkKGZRkjJA5rqP%2BE4/wCChf8A0a/8Gf8Aw/Grf/MvQBu%2BIPhN%2ByB4ssfDGl%2BKvhp8NtTtvBMscvgy31DRtPmj0B0CBGsldCLUqI0wYtpGxcdBXS6lf/CLWda03xJq954bu9R0d5X0i/uZLeSaxaSMxyNC7ZaIuhKMVI3KSDkV57/wnH/BQv8A6Nf%2BDP8A4fjVv/mXo/4Tj/goX/0a/wDBn/w/Grf/ADL0Aeo/8Jz4J/6HDS//AAYR/wDxVHgw79DM6g7Jr67liJGNyPcyMrfQqQR7GvLv%2BE4/4KF/9Gv/AAZ/8Pxq3/zL1y/xd/aO/bt%2BDXhS08X%2BI/2UPhJc2954o0TQo47L466ozifVNVtdMgc7vDCjYs13GznOQisQGOFIB9HUV4z/AMJx/wAFC/8Ao1/4M/8Ah%2BNW/wDmXo/4Tj/goX/0a/8ABn/w/Grf/MvQB7NRXjP/AAnH/BQv/o1/4M/%2BH41b/wCZej/hOP8AgoX/ANGv/Bn/AMPxq3/zL0AezUV84%2BPv2jv27fh34r8EeENY/ZQ%2BEk1x488US6FpUlt8ddUKQTx6VqGpl5d3hgEJ5OnTKCoY73QYwSy9R/wnH/BQv/o1/wCDP/h%2BNW/%2BZegD2aivGf8AhOP%2BChf/AEa/8Gf/AA/Grf8AzL0f8Jx/wUL/AOjX/gz/AOH41b/5l6APZqK8Z/4Tj/goX/0a/wDBn/w/Grf/ADL1y%2BrftHft26P8Z9A%2BB1x%2Byh8JG1TxF4X1fXbO5T466p5EcGnXOm28yOT4Y3B2bVICoCkEJJkqQoYA%2BjqK8Z/4Tj/goX/0a/8ABn/w/Grf/MvR/wAJx/wUL/6Nf%2BDP/h%2BNW/8AmXoA9morxn/hOP8AgoX/ANGv/Bn/AMPxq3/zL0f8Jx/wUL/6Nf8Agz/4fjVv/mXoA9mor5x0n9o79u3WPjPr/wADrf8AZQ%2BEi6p4d8L6Rrt5cv8AHXVPIkg1G51K3hRCPDG4uraXOWBUAB48FiWC9R/wnH/BQv8A6Nf%2BDP8A4fjVv/mXoA9morxn/hOP%2BChf/Rr/AMGf/D8at/8AMvR/wnH/AAUL/wCjX/gz/wCH41b/AOZegD2aivGf%2BE4/4KF/9Gv/AAZ/8Pxq3/zL1y/gH9o79u34ieK/G/hDR/2UPhJDceA/FEWharJc/HXVAk88mlafqYeLb4YJKeTqMKksFO9HGMAMwB9HUV4z/wAJx/wUL/6Nf%2BDP/h%2BNW/8AmXo/4Tj/AIKF/wDRr/wZ/wDD8at/8y9AHs1eM/sv/wDJb/2jv%2ByzWP8A6hXhej/hOP8AgoX/ANGv/Bn/AMPxq3/zL1b/AGVvhz8afB%2BsfFDx38dNA8L6Tqnj74hRa5Z6V4T8S3OrW9raxaDo%2BmKr3FxZWbNI0mnSuVEW0LIg3Mc4APW6KKKACiiigAooooAKKKKACiiigAooooAKKKKACiiigAooooAKKKKACiiigAr5X/ae/a0%2BLnww%2BMfizWvAPh3wfJ4Y%2BD/h/wAP3vjU61pFxNquqW%2Br38qXMFhcR3EaWXkW1nHcZkinFzIUjIh8vzT9UV4z8Z/2Ifhx8bvikfiZrnjnxVpcWo2ukWvi/wANaNdWqad4pg0u9kvbGK%2BWW3kmCxzTS5%2BzywGWOQxTGWMKgAPZqKKKACiiigD5j8OftK/EyH9v/wAUfB/4jax4e8J%2BG18QWmieDItR%2BEWspdeMYBoEGo4g8RtdrpzSx3dzqAFoIXk8u0mAUFmkX6cryvxZ%2By1B4/8AjJpHxT8e/G/xrq%2BleHtdj1rQPAFwdMi0ax1CO3eCOcNDZJey7PMkkVJrqSMSPu2fIgX1SgAooooA8X/4KC/F344fs/fsj%2BNPj18Ar3wpHrHgnQrvXLqDxhotzfW13aWttLM9uiW11bMkrsiKJC5VAWJR%2BBXn/jz9rT4ueC/jx4t1Pwp4d8IRfDzwh8Y/CPw%2B8ZWc2kXB1vVdV12DRUj1CG7S4WGOOD%2B3NJjMUlvK8iQz4lj2oK9h/ax/Zxsv2tPgRr37PutfFXxT4R0nxPZS2OuX/hBdO%2B13NlLE8U1tuv7S6jRHV%2BWRFkBUbXXnPFwfsA%2BDp/iLZ/EXxV8cfH2usdZ0nXPE2jahLpUVj4n1zTEjSx1a9jtrCJluIhBaYW2aCBjY2xeJjHkgHvdFFFABXi/7ZPxd%2BOHwStfAPjH4WXvhT%2BxtQ%2BJnhzw94vsfEGi3NzdXNrqus2Omg2csN1CltJGtzLJvkSdSURdnJNe0V5V%2B1d%2By2/7VXhvQvC8/x98b%2BBrfQvElhrqN4Lh0dnu72xvILyzaU6lp94NsVxbxuFjCBuVk3qdoAPOP2ef2lfiZrf7VXi34I/FDV/D3hPTofFOt2/gnwlJ8ItZ0y5162hdJTf2%2BtXF39g1B2Mk0ssVtAX5LsVwxP05Xkuk/soh/jJovxl%2BI/wC0B478azeF7u8u/CeheIRpMNho91c28lrJcRLYafbSyv8AZ5p4V8%2BSVUWd9oBII9aoAKKKKAPD/wBu74ufHj9n74Nav8dfhR4x8C2On%2BFtFuby90XxZ4Zvb%2B58Q3uUWz0yzktr2D7PNcSkW6N5V0zSzxBYWPyt5/8ABH9r74z658S/BX9reDPCWkfDTxv8T/FHw28K%2BGtO0uaPV9Ev9Ah1bfPPci4a3mgkbw/qaLDHbxGNWtj5kmWA9P8A2lf2QYP2kvHngj4gTftA%2BO/CFz4Bu7m90Wx8MRaNPZyXsqCNbyaDU9OvEeeGPzFhkAUxieUj5myKvgP9hr4e%2BA/jLb/F2H4i%2BLtSg07XdT17RPCGpXNl/ZOla3qMbx6hqkCRWqT%2BfOJ7ssrzPCjX1yY4o/M4APa6KKKACvl/9rn48ftL/Bb4iaf4U0qHwB410fxzDrVtovw5i8H30msJa2mh3V3Jf3E4vXiurYXUVvbSQi1iB%2B3woJjIyJJ9QV4dN%2BxNcR/tH%2BK/2mtE/ar%2BJenav4t02HTrnS4YPD89pp9nDA0cNtZtc6TLc28Syu91sWba87l3Dg7aAGfsIftB%2BN/j38Pby6%2BK/j7Rr7xdpws21/w3ZfC7V/CN5oDz2yyiC5stXup7hwW3%2BXcAJHIqHaG2k17pXm/wO/Zu074M%2BJ/EnxD1j4peKfHHirxXFY2%2BseJ/FzWC3L2lmJvstqkWn2trbRxRtc3LjbCGZriQszZGPSKACiiigD45/wCCgn7cfxU/Yw8c/wBp65ougeMfCL6NqOt2/hWX4c6nZS26abo19qSSf8JFNdPpk939r00bLFYEuhHMsoG2FpG9e/Zo%2BLvxz1b4qeN/2ev2jrnwpqHifwjpOh61HrXgrSLmwsbmx1QXkaRGC5ubl1liuNOu1L%2BbiRDE2yMkqK3x1/YS8EftOa1dWvx/%2BLfjXxR4LuZLiRfhleSabDosUk1jNZM2%2B3so76QCO4mYJLdOgd9235EC9P8As%2BfszaR8A7zXvEV38UPFnjjxH4kNnHq3irxrcWb30ttaRGK1tR9jtreFYog8rDEe9nnld2dnJoA9KooooAK%2BI/2p/wBsr9rP4N/GrxB8KPB3hvw5411Ow0W413wwE%2BB/iCOTRQNR0y1Qwt9uceJpBY6pced/ZflPC0JWURiYR19uV4fr37Fup%2BJfHp%2BJ2tftc/FGbW9PgvIvBt4U0ADwqt1NDJP9kjGk7J2aOBbfderdMsTOFKu7OQDqv2WPiw/xk%2BEcHiy9%2BJmjeKr%2BHUbqy1S%2B0bwZfeHRbXEUrK1rNpuoXE91ZzxjCvHM4fPzbVDAV6NXDfAP4C%2BHvgB4Z1PRtK8U634g1HX9euNb8SeJPEc0DXuq38wRGnlFvFDAmI4oYlSGKONUiQBRgk9zQAUUUUAFFFFABRRRQAUUUUAUfFHiGw8JeGtR8V6qHNrpljNd3IiXLeXGhdsDucKa%2Bc/2Jv2k/jX4/wDFOj%2BDPjZ4e8GWY8dfC2y%2BI3hmHwZpVxaDTI7y4Ju9PuzNcSi7mje5tn%2B2IIBO0sxMEe0F/pa7tLW/tZbG9t0mhmjaOaKVQyupGCpB4II4xXkP7M37FfgL9mDVX1fQPiD4t8Sy23hix8M%2BHR4svbWYaBoVm8j2%2Bm2pt7eEtGpk%2BaWczXEgji8yZ/LXAB7FRRRQAVwv7UHjz4i/Cz9mj4ifE74P%2BFF17xb4c8C6vqnhbQ2sZroajqNvZyy21sYYGWWYSSoieXGwdt2FIJBruqzvFuiX/iXwxqHh/S/Feo6Fc3tpJDb61pCwNdWLspAmiFxFLEXU8gSRumR8ysMggHl37FPxan%2BKHwzvrLVviF4f1nU/Duqrp15pmifDDU/Bz6GgtoJIrO40rVLme5hcI4kV28tHili2Jgb39irzz4D/ALO2k/A688S%2BI7n4ieJPGPiTxfqMN54i8U%2BK3sxd3Rht0t4IhHY21tbRRRxoAqxwpks7MWZmY%2Bh0AFFFFAHy5%2B1R%2B1j8UP2cPi944sviVo3hLxF8L7D9nfxf49ttCt9EuE1V20QaWs9tcXMly9vNFOt9OAgtkKhEy75YV2/7M/xf%2BPmqfFzxl%2Bzr%2B0s/hK88UeGPDHh7xLHqvgrSbmxspLLVn1K3W2MNzc3LmWG40i7BlEgWRHiby4zuWoPjH%2Bwr4d%2BOnx1b4y%2BPPjt45l02bwVqfhG%2B%2BHsMGi/2Jd6NqS232%2B0kL6a16RO1pA7OLoOpQhGRGZD0n7O/7Luh/s%2B32teI5/ih4t8b%2BIdftbCyv/E/ja5tJL02Fiki2dmPsltbx%2BVEZ7hwShkd7mV3d2bNAHp9FFFABXyJ8a/2l/2tvBmu/tAeBLfwr4M8WXvgLw/4U8SfDax0n4f6nfzrHqOq6lCEvLWK8eXUZ4F02OdTbC3JckKvyq1fXdeFy/sUeIYvjp42%2BP8AoX7aHxW0rVvG%2BkWOmXNjZWfhhrTTbayuLmezS2EuivJ%2B6N5dKDM8pdZyJPMKoVAOr/ZU%2BLc3xl%2BFI8Taj8TtG8U6ja6rc2OrXWj%2BCL/w2bO4ib5rWfTNRuJ7q0nRSu5JmDEMrbVVhXpNcJ8A/gHoHwB0LWbHT/FuueI9V8TeIJdc8T%2BJvEktu17qt/JDDB5sgtoYYIwsFvbwqkUUaKkKALnJPd0AFFFFAHxt%2B0t%2B13%2B0t%2Bzx8ZoPhtrKfDPxrfa3BBN4Rh07wte2kvgu81LxDpnh7SJtTle%2BmF1FO2rzgtEtnI4sbpYwy%2BYYvcf2Vfi/8SPiMPH/AMPvjEdEn8VfDTx43hrWdV8NadNZ2Gp%2BZpenatb3ENvNPPJb5tdUt0eNppcSRyYYgjHC23/BNXwk118Q38Q/tL/E7Wbf4k68dc1i31I6F5lnqUVxDPp9zbXUWlpdKbB7e3FpG80kUSwoGR%2Bc%2BsfAP4C6H8A/D2rabZeL9c8Sat4i16bWvE/ijxK9sb/V76SOKHzphawQQLsggt4ESKKNFjgjULwSQDuqKKKAGXP2n7NJ9j2edsPlebnbuxxnHOM18QfFb9rn9tP4afETXPhtb23gPxnr3hi98NW%2BreOvBHwV1/Vo/DlvqzXj3thLpVnqU93czRw2VjdExTp%2B7uoWlgQGJpPt67hkuLWW3hupIHkjZVniCl4yRgMu4FcjqMgj1Br57%2BDH7AXiD4CfDa4%2BGnw7/bq%2BMUUd1qz6nNrN5ZeE59Qlu5XlkuZ5pn0I/aZJ3l3SSTiR8xpsKAYIB6z8BPiHZfFb4O%2BH/iFYfEDRvFSanp4kfX/D%2BkzWFpdyAlZClrPNNLbFXVkaGSR3jZWVjuUgdfXJfAv4L%2BEv2ffhfp3wp8FXN/cWVhLdXE19qtyJrq%2Bu7q5lurq6mcKoaWa4nmlfaqrukO1VXCjraACqPieHxJc%2BG9Qt/Bup2Nlq8llKul3mp2D3VtBcFCI5JYY5YmmjVsFkWSMsAQHUncL1ZvjHQb/xR4Wv/Dul%2BLdS0G5vLV4oNa0cQG6sXI4miFxFLEXU8gSRuhx8ysMigD4e%2BG/7dn7Wvxg%2BKet/BL4Wab8Pk8Z6ba67fSeM/Ffwu1rQ11TTNItdFlSxl0S8vk1DT5Xu/EOxJp5nj8qGS4SF1nQH7G%2BAXxa034%2BfAnwV8ddG02Wzs/GvhLTdetLOZ9zwRXlrHcLGxAGSokAJ9RXi2r/8EyPA%2Bta5ffEW7/aU%2BKafEDVkvLXWviTbXukQ6tf6ZdW1rbTaYUTTRZw2xSytGHkW0UqyQLKsocsx%2Bg/Bfg/w18PPB2k%2BAPBmkxafo%2Bh6ZBp%2Bk2EOdltbQxrHFGuecKiqo%2BlAGnRRRQBy/wAadR8caN8Lda1v4c%2BIbHS9WsLM3UN9qHg%2B98QIkcZDygadYzwXN5I0SuqRQyBy7LhXPyN8W/CX/goj8fvEnjTQ9T8b3HhHwJ4M1KedfEHji8%2BBniKa21i/h1%2B60hEuZVvo08MzyWtpa/uNUaSWB5VjfOwJX238TPBmu%2BPfCU3hzw38Utf8G3kksbxa/wCGYrF7uDawJVVv7a5gYMAVIeJuCcYOCPFbr/gnN4U1DwfcfDbVv2kPibd%2BGNc1Ca/8eaBNcaOIvGF3PeNdXE19Kumi4i80ssLR2ctrEIYkjVFG7cAfRNFFFABRRRQAUUUUAFFFFABRRRQAUUUUAFFFFABRRRQAUUUUAFFFFABRRRQAUUUUAFFFFABRRRQAUUUUAFFFFABRRRQAUUUUAFFFFABRRRQAUUUUAFFFFABRRRQAUUUUAFFFFABRRRQAUUUUAFFFFABRRRQAUUUUAFFFFABRRRQAUUUUAFFFFABRRRQAUUUUAFFFFABRRRQAUUUUAFFFFABRRRQAUUUUAFFFFABRRRQAUUUUAFFFFABRRRQAUUUUAFFFFABRRRQAUUUUAFFFFABRRRQAUUUUAFFFFABRRRQAUUUUAFFFFABRRRQAUUUUAFFFFAH/2Q%3D%3D\">"
      ]
     },
     "metadata": {},
     "output_type": "display_data"
    }
   ],
   "source": [
    "s.run(tf.global_variables_initializer())\n",
    "\n",
    "BATCH_SIZE = 512\n",
    "EPOCHS = 40\n",
    "\n",
    "# for logging the progress right here in Jupyter (for those who don't have TensorBoard)\n",
    "simpleTrainingCurves = matplotlib_utils.SimpleTrainingCurves(\"cross-entropy\", \"accuracy\")\n",
    "\n",
    "for epoch in range(EPOCHS):  # we finish an epoch when we've looked at all training samples\n",
    "    \n",
    "    batch_losses = []\n",
    "    for batch_start in range(0, X_train_flat.shape[0], BATCH_SIZE):  # data is already shuffled\n",
    "        # Идем по батчам: раз в батч считаем лосс и делаем шаг: step\n",
    "        _, batch_loss = s.run([step, loss], {input_X: X_train_flat[batch_start:batch_start+BATCH_SIZE], \n",
    "                                             input_y: y_train_oh[batch_start:batch_start+BATCH_SIZE]})\n",
    "        # collect batch losses, this is almost free as we need a forward pass for backprop anyway\n",
    "        batch_losses.append(batch_loss)\n",
    "\n",
    "    train_loss = np.mean(batch_losses) # постепенно берем среднее по всем (!) лоссам, чтобы функция была гладкой \n",
    "    val_loss = s.run(loss, {input_X: X_val_flat, input_y: y_val_oh})  # this part is usually small\n",
    "    train_accuracy = accuracy_score(y_train, s.run(classes, {input_X: X_train_flat}))  # this is slow and usually skipped\n",
    "    valid_accuracy = accuracy_score(y_val, s.run(classes, {input_X: X_val_flat}))  \n",
    "    simpleTrainingCurves.add(train_loss, val_loss, train_accuracy, valid_accuracy)\n",
    "    \n",
    "    #-----------------------\n",
    "    # Для визуализации в Tensorboard:\n",
    "    summary = tf.Summary(value=[tf.Summary.Value(tag='train_loss', simple_value=train_loss), \n",
    "                                tf.Summary.Value(tag='train_accuracy', simple_value=train_accuracy),\n",
    "                                tf.Summary.Value(tag='valid_accuracy', simple_value=valid_accuracy),\n",
    "                                tf.Summary.Value(tag='val_loss', simple_value=val_loss)])\n",
    "    summary_writer.add_summary(summary, epoch)\n",
    "    summary_writer.flush()"
   ]
  },
  {
   "cell_type": "markdown",
   "metadata": {},
   "source": [
    "# Submit a linear model"
   ]
  },
  {
   "cell_type": "code",
   "execution_count": 21,
   "metadata": {
    "collapsed": false
   },
   "outputs": [],
   "source": [
    "## GRADED PART, DO NOT CHANGE!\n",
    "# Testing shapes \n",
    "grader.set_answer(\"9XaAS\", grading_utils.get_tensors_shapes_string([W, b, input_X, input_y, logits, probas, classes]))\n",
    "# Validation loss\n",
    "grader.set_answer(\"vmogZ\", s.run(loss, {input_X: X_val_flat, input_y: y_val_oh}))\n",
    "# Validation accuracy\n",
    "grader.set_answer(\"RMv95\", accuracy_score(y_val, s.run(classes, {input_X: X_val_flat})))"
   ]
  },
  {
   "cell_type": "code",
   "execution_count": 24,
   "metadata": {
    "collapsed": false
   },
   "outputs": [
    {
     "name": "stdout",
     "output_type": "stream",
     "text": [
      "Submitted to Coursera platform. See results on assignment page!\n"
     ]
    }
   ],
   "source": [
    "# you can make submission with answers so far to check yourself at this stage\n",
    "grader.submit(COURSERA_EMAIL, COURSERA_TOKEN)"
   ]
  },
  {
   "cell_type": "markdown",
   "metadata": {},
   "source": [
    "# MLP with hidden layers"
   ]
  },
  {
   "cell_type": "markdown",
   "metadata": {},
   "source": [
    "Previously we've coded a dense layer with matrix multiplication by hand. \n",
    "But this is not convenient, you have to create a lot of variables and your code becomes a mess. \n",
    "In TensorFlow there's an easier way to make a dense layer:\n",
    "```python\n",
    "hidden1 = tf.layers.dense(inputs, 256, activation=tf.nn.sigmoid)\n",
    "```\n",
    "\n",
    "That will create all the necessary variables automatically.\n",
    "Here you can also choose an activation function (remember that we need it for a hidden layer!).\n",
    "\n",
    "Now define the MLP with 2 hidden layers and restart training with the cell above.\n",
    "\n",
    "You're aiming for ~0.97 validation accuracy here."
   ]
  },
  {
   "cell_type": "code",
   "execution_count": 22,
   "metadata": {
    "collapsed": false
   },
   "outputs": [],
   "source": [
    "# write the code here to get a new `step` operation and then run the cell with training loop above.\n",
    "# name your variables in the same way (e.g. logits, probas, classes, etc) for safety.\n",
    "### YOUR CODE HERE ###\n",
    "#hidden1 = tf.layers.dense(inputs, 256, activation=tf.nn.sigmoid)\n",
    "#hidden1 = tf.layers.dense(inputs, 256, activation=tf.nn.sigmoid)\n",
    "\n",
    "logits_temp_1 = tf.layers.dense(inputs=input_X, units=256, activation=tf.nn.sigmoid)\n",
    "logits_temp_2 = tf.layers.dense(inputs=logits_temp_1, units=256, activation=tf.nn.sigmoid)\n",
    "logits = tf.layers.dense(inputs=logits_temp_2, units=10)"
   ]
  },
  {
   "cell_type": "markdown",
   "metadata": {
    "collapsed": false
   },
   "source": [
    "Далее идет просто копипаста ячеек, которое были выше, просто заменили переменную logits:"
   ]
  },
  {
   "cell_type": "code",
   "execution_count": 23,
   "metadata": {
    "collapsed": false
   },
   "outputs": [],
   "source": [
    "# Compute predictions\n",
    "#logits = input_X @ W + b ### YOUR CODE HERE ### logits for input_X, resulting shape should be [input_X.shape[0], 10]\n",
    "probas =  tf.nn.softmax(logits) ### YOUR CODE HERE ### apply tf.nn.softmax to logits\n",
    "classes = tf.argmax(probas, axis=1) ### YOUR CODE HERE ### apply tf.argmax to find a class index with highest probability\n",
    "\n",
    "# Loss should be a scalar number: average loss over all the objects with tf.reduce_mean().\n",
    "# Use tf.nn.softmax_cross_entropy_with_logits on top of one-hot encoded input_y and logits.\n",
    "# It is identical to calculating cross-entropy on top of probas, but is more numerically friendly (read the docs).\n",
    "\n",
    "# softmax_cross_entropy_with_logits - считает кросс энтропию. Но так как loss - это скаляр (число), то нам нужно \n",
    "# взять какую-то аггрегационную функцию. Например, среднее. Поэтому тут берется tf.reduce_mean \n",
    "loss = tf.reduce_mean(tf.nn.softmax_cross_entropy_with_logits(labels=input_y, logits=logits)) ### YOUR CODE HERE ### cross-entropy loss\n",
    "\n",
    "# Use a default tf.train.AdamOptimizer to get an SGD step\n",
    "step = tf.train.AdamOptimizer().minimize(loss) ### YOUR CODE HERE ### optimizer step that minimizes the loss"
   ]
  },
  {
   "cell_type": "code",
   "execution_count": 24,
   "metadata": {
    "collapsed": false
   },
   "outputs": [
    {
     "data": {
      "text/plain": [
       "TensorShape([Dimension(None), Dimension(10)])"
      ]
     },
     "execution_count": 24,
     "metadata": {},
     "output_type": "execute_result"
    }
   ],
   "source": [
    "probas.shape"
   ]
  },
  {
   "cell_type": "code",
   "execution_count": 25,
   "metadata": {
    "collapsed": true
   },
   "outputs": [],
   "source": [
    "#summary_writer = tf.summary.FileWriter(\"logs_for_mnist/1\", loss.graph)\n",
    "summary_writer = tf.summary.FileWriter(\"logs_for_mnist/1_MLP\", graph=loss.graph) # записываем в файлик граф\n",
    "summary_writer.flush()"
   ]
  },
  {
   "cell_type": "code",
   "execution_count": null,
   "metadata": {
    "collapsed": true
   },
   "outputs": [],
   "source": []
  },
  {
   "cell_type": "code",
   "execution_count": 26,
   "metadata": {
    "collapsed": false
   },
   "outputs": [
    {
     "data": {
      "text/html": [
       "<img src=\"data:image/jpeg;base64,/9j/4AAQSkZJRgABAQEASABIAAD/2wBDAAIBAQEBAQIBAQECAgICAgQDAgICAgUEBAMEBgUGBgYFBgYGBwkIBgcJBwYGCAsICQoKCgoKBggLDAsKDAkKCgr/2wBDAQICAgICAgUDAwUKBwYHCgoKCgoKCgoKCgoKCgoKCgoKCgoKCgoKCgoKCgoKCgoKCgoKCgoKCgoKCgoKCgoKCgr/wAARCAEgA2ADASIAAhEBAxEB/8QAHwAAAQUBAQEBAQEAAAAAAAAAAAECAwQFBgcICQoL/8QAtRAAAgEDAwIEAwUFBAQAAAF9AQIDAAQRBRIhMUEGE1FhByJxFDKBkaEII0KxwRVS0fAkM2JyggkKFhcYGRolJicoKSo0NTY3ODk6Q0RFRkdISUpTVFVWV1hZWmNkZWZnaGlqc3R1dnd4eXqDhIWGh4iJipKTlJWWl5iZmqKjpKWmp6ipqrKztLW2t7i5usLDxMXGx8jJytLT1NXW19jZ2uHi4%2BTl5ufo6erx8vP09fb3%2BPn6/8QAHwEAAwEBAQEBAQEBAQAAAAAAAAECAwQFBgcICQoL/8QAtREAAgECBAQDBAcFBAQAAQJ3AAECAxEEBSExBhJBUQdhcRMiMoEIFEKRobHBCSMzUvAVYnLRChYkNOEl8RcYGRomJygpKjU2Nzg5OkNERUZHSElKU1RVVldYWVpjZGVmZ2hpanN0dXZ3eHl6goOEhYaHiImKkpOUlZaXmJmaoqOkpaanqKmqsrO0tba3uLm6wsPExcbHyMnK0tPU1dbX2Nna4uPk5ebn6Onq8vP09fb3%2BPn6/9oADAMBAAIRAxEAPwD9/KKKKACiiigAooooAKKKKACiiigAooooAKKKKACiiigAooooAKKKKACiiigAooooAKKKKACiiigAooooAKKKKACiiigAooooAKKKKACiiigAooooAKKKKACiiigAooooAKKKKACiiigAooooAKKKKACiiigAooooAKKKKACiiigAooooAKKKKACiiigAooooAKKKKACiiigAooooAKKKKACiiigAooooAKKKKACiiigAooooAKKKKACiiigAooooAKKKKACiiigAooooAKKKKACiiigAooooAKKKKACiiigAooooAKKKKACiiigAooooAKKKKACiiigAooooAKKKKACiiigAooooAKKKKACvPfjt%2B1J8FP2b5NGsfil4g1Maj4ilnTQNB8OeF9R1zVNR8lVed4bHTbee5kjiVkMkixlI96biu5c%2BhV4N%2B0P8D/j5/wANJ%2BDv2tv2bLLwfrWueH/B2seFNX8KeOdcutLtLywv7mwuxcQXtraXj288U2noCpt3WVJSCUKK1ABpf/BTL9izWLvxPb2nxXv0h8FWsk/jLUrvwXrEFjoIS0iu9l5dy2iwWsrQzRskMjrJIWKorMrKL2n/APBQ/wDZK1HwBrXxFTx/q9vB4f1ay0vVdE1DwNrNrrkV5ebfscC6PNaLqEr3AYGER27eaAxTcFYjy2b9gH4y%2BMf2a/jn8NfGHinwppHin4o/FS38daHc6U1xeWFpeW0OiywQ3IkihkkiN3pRRwoyYHGDuJVaPi79i/8AaV%2BLmr/Ef45fG34S/CjWvFnjWx8KaPp/gKy%2BI2s2Wm6fY6Hcaldw3qa7b6al5DqDXOqTOksVoPJSKNFZiWcgHsviH9vv9mzwv4a8OeI9XvvG3meK0v5NE8P2vwm8SXGuSRWUscV3NJpMWntf28MLzQq8s0CIpmiy37xM%2Bmaz8RPBHhv4e3XxX8T%2BJbbSvDljo76rf6vqrfZYbSySIzPPMZdvlKsYLNvxtAOcYNfGHin9hH9s/WPgX4X8Nay3hfxV470a58RHRfGV/wDHbxNpGr%2BCLW%2BuUktLO11q1sJLzXIYkjhEy3qw/aTbReYCFGPUfjR/wTotfj1%2Bzb4n%2BHHxD%2BOfjW78d%2BMPhfH4Z17xS3jbWho818tpDE2oJoS3y2FuzzQLK3kRRSEPIBIrSM5AOkg/4KUfsZf8K58V/FbWPite6Jo3giysr7xQ/ifwdq%2Bk3NlZXkxhtb37LeWsVxJaSyK6pcxxtC3luQ%2BEYjj/AI3f8FZP2d/hn8ENU%2BMfgPRfFXiqbQfiD4X8L674Y/4QXXbHU7A6zqVrax3T2cmnNdeV5Fw88DeT5d48aW8MhknjB8r1T/gmJ8ZPHfwq8faR4i8DeG9G8Y%2BI9D0fR7DxDqv7RfjPxut3aWusW%2BoTRyf27AfsEZ8likUSzHe%2BGkxknv8A9qH9gz40/GD4g/F/4g%2BBfEPheOTxfB8LbzwlZ6tfXMSvf%2BE/EdzrUsN40dvJ5ENwGt4VljEzrl2MfyKrgHqFh/wUE/Zb1H4m2XwZh8T%2BJo/Fd5oun6xLoF38N9egudO0%2B9adILu/SSyU6dDut5VeS68pYiFEhQum6j4a/wCCmH7FPi3wZ4s%2BIWkfGC4TR/Bfgi68Zaxe6h4S1W0Fx4et0Z5tWsVntUbVLNVQ4nsxPGxZArEugbB0P9kP4ofEP4mfG74g/G9fD2gxfGj4O%2BHfCF1Y%2BE9duNRl0u4tE11Ltlnns7XzYwNViMT7FZikm6OPA3fN37Y37Kn7UOj/ALDHxS%2BJv7TF34AtIfhD%2BxT8QfBHhePwFqF5cNrzXukWxn1G6W5toBYqE0i3CWcbXAVppCZ22oKAPrPw9/wUl/Yy8TaHrHiPT/i1dQWehppU1/JqnhLVbJmtNSu1s7HUIUuLVGubCWdgovoQ9qoDO0qorMPT9E%2BLvw88R/FLX/gvofiH7T4k8LaXp%2Boa/YR2k22zgvmuBa7pinlF3%2ByzHy1cyKoRmVVkjLfJOofsz%2BIPFegeKfjb/wAFIvF/wz8J%2BBbf9nu5%2BHUlx4f8QTLay6beyQyXmq3k17BbpYOTBbCG2QzCAmT/AEiQsuOw/wCCPngP4u2f7I9r8f8A9pDUDf8AxJ%2BL15H4n8V6g9nJbtJCLSCy01fKl%2BeH/iX2lpI0TYKSzTZAYtkA%2BqqKKKACiiigAooooAKKKKACiiigAooooAKKKKACiiigAooooAKKKKACiiigAooooAKKKKACiiigAooooAKKKKACiiigAooooAK8R0j/AIKMfse6ld69Z6n8Urzw83hzw5c%2BINQk8a%2BEdV0GObSbd0jnv7WTUrWBb63R5IlaW2MqAyxjOXXPtN7FczWcsNndCCZ4mWKYx7/LYjhtp64POO9fmJq//BHL9uX4v6t4X1z43fHHQ31vw14P1Cz1DxRqHxW8TeJx4h1v7ZpV9a6idLvoobLSbaS50xfPsLIBRHJtWWQKgUA%2B2X/b/wD2YbX4aN8WNY8QeKtK0ttcg0axs9c%2BGWv2GqanfzIZIYLLTbixS9v2kQM6/Z4ZAyo7AkIxHReA/wBqz4H/ABH1%2By8J%2BHPEOqQ6vf8AhSfxJDpGteFdS0y7TTYbv7JLLLDeW8UkDrP8hhkVZe%2BzbzXk3xO%2BDn7bvxib4e/G3XPBvwq0P4h/Cjx1NrHh/wAM2vjjUr/Rdcs7jSbvTLmO4vn0qGaxmKXskkbpa3AjMQU%2BYJGxV%2BJPwG/bg1/4y%2BHf2mvA%2BjfCu08WX3ww1XwX4x0LUvFepSWGkLcX8N1a39lcJpwk1AxCN1kt5YrQSlxiWLHIB3Gk/wDBRv8AZA8R694F8LeFfiNqus6n8SfBuleLfBunaJ4H1m9nvND1F9lrqMiQWjNa2%2B7HmSTiNbcMpm8oMCdj4a/tufs3fFf4jXPwn8M%2BL9Ws9ft9LudThsvE/gzVtEW/sbeRI57uyl1G1gjv4I3liDy2zSIvmISQGUnyj9hT9hL4sfsw6/8ADjWfHniDw1dnwd%2Byl4R%2BGN%2B%2BkXM8rNq2lvM1zNF5kEe61bemxmKu235o0wK8a%2BGn/BKv9sbxP8UfC/ib9qb4w2eqRaf4A8V%2BF/GniaD4v%2BJNavPEUur2KW39p2umX0Men6EcqWNpaKUXKgTOI1WgD6l8J/8ABRf9kfxrosfirQfHeuf2Hcarpen6f4lvfh/rdrpWoy6lex2VlJaX09mlteQS3M0UYuIJHhBlQs4VgT6X4W%2BLvw88a/EDxT8LvC/iH7XrnguSzj8T2iWkwWxkuoPtEEZlZBG7tCVkKIzMiyRlgokTd8w%2BOPAnxF8K/wDBPbxp8CP%2BChnif4VeCPAWg/DSLQLb4meHfFt2GadI0trXUntLqzgTTZlmFvJDBHcXTGcoiOTtDdr/AMEr/h98WPDf7ImlfFX9oqwS3%2BJ3xYvpfHXxEhW3aL7Pf36xmG02N8yfZbGOys9pyQLXBoA%2BjaKKKACiiigAooooAKKKKACiiigAooooAKKKKACiiigAooooAKKKKACiiigAooooAKKKKACiiigAooooAKKKKACiiigAooooAKKwPil8TfCXwb8Baj8S/HT6kulaVGj3Z0jQrvU7khnWNRHa2cUs8zFmUbY42POcYBNZln8ffhbqnwL079pLRdZvtR8IavoFprWlX2maDe3VxeWV1HHJbvFZxQtcu7rLHiIRGTLY25yKAOyrxf49eP8A9ov/AIaL8C/Aj4C%2BM/BXh9Nf8FeJde1fU/F/gu71ok6dd6Hbwwwx2%2BpWPlhv7UlZmZnz5aABeSe6%2BDXxz%2BGfx98N3fin4Y6zd3EOnanJpuqWmqaLd6be6feRqjtb3NpexRXFtJskjcJLGpKSo4BV1J8y%2BJ/iq00b/gpj8F/Dl2QG1j4NfESO2JPJkj1PwfJt/wC%2BFkP/AAGlKSirs0p0qlaXLBXdm/kld/ck2av/AAg//BQv/o6D4M/%2BGH1b/wCaij/hB/8AgoX/ANHQfBn/AMMPq3/zUV7NRTMzxn/hB/8AgoX/ANHQfBn/AMMPq3/zUUf8IP8A8FC/%2BjoPgz/4YfVv/mor2aigDxn/AIQf/goX/wBHQfBn/wAMPq3/AM1FH/CD/wDBQv8A6Og%2BDP8A4YfVv/mor2aigDxn/hB/%2BChf/R0HwZ/8MPq3/wA1FH/CD/8ABQv/AKOg%2BDP/AIYfVv8A5qK9mooA8Z/4Qf8A4KF/9HQfBn/ww%2Brf/NRR/wAIP/wUL/6Og%2BDP/hh9W/8Amor2aigDxn/hB/8AgoX/ANHQfBn/AMMPq3/zUUf8IP8A8FC/%2BjoPgz/4YfVv/mor2aigDxn/AIQf/goX/wBHQfBn/wAMPq3/AM1FH/CD/wDBQv8A6Og%2BDP8A4YfVv/mor2aigDxn/hB/%2BChf/R0HwZ/8MPq3/wA1FH/CD/8ABQv/AKOg%2BDP/AIYfVv8A5qKta/8AG/8AZE%2BFNppGk/HT4w/Dnw5rmoaLBqBtvF3iGwtLu4jkyPP23Dq7IzpIA3TKMM8EDN/4a/8A%2BCcH/R0XwR/8LbR//jtc08Zg6cnGdWKa6OUU/uckz2sPw3xJi6Ea1DA15wkrqUaNaUWu6lGjKLWj1Ta03LH/AAg//BQv/o6D4M/%2BGH1b/wCaij/hB/8AgoX/ANHQfBn/AMMPq3/zUVX/AOGv/wDgnB/0dF8Ef/C20f8A%2BO16doGi/CzxXoVl4p8LaT4f1LTNStI7rTtR0%2BCCaC6gkUPHLHIgKujKQyspIIIIODV0sTh67apzjK3aSf5NnPjsmznK4RnjcLVpKTsnUp1Kab3snOnBN21sm3bW1tTzn/hB/wDgoX/0dB8Gf/DD6t/81FH/AAg//BQv/o6D4M/%2BGH1b/wCaivPPh9/wUa/Yv8X%2BB7Pxh4h%2BHvifQZ9U8ca14W0TRrn4Pa3Peate6dcX8ci2kUOns90TDp887LErmEAxybJFZR2XxC/ao/Za8C2Xj20vNEi0/WPAXhDWvEN5beLPAmraTZ3dnpi/6XPb3UmnOL23iZohJLZJdFRNGwR96K%2Bx5po/8IP/AMFC/wDo6D4M/wDhh9W/%2Baij/hB/%2BChf/R0HwZ/8MPq3/wA1FVbD9qz9jDUPjPJ%2Bz9DeW/8AwlFv4gj0G6j/AOEGvxYQ6q%2BnR6lHYtqDWgtFne0lSZIzKGcHCgsCo2fjX8Vfgr8JP2edd/aH0fwjo3ijTtLsGk0230NbaQardNKIILWKYAoGkuGSHcTtVmJboaAKH/CD/wDBQv8A6Og%2BDP8A4YfVv/moo/4Qf/goX/0dB8Gf/DD6t/8ANRT/ANnD4gW3xcvPGXgf4o/Arw34V8YeA/EEOma/pWj6iuq2Miz2Nte29zbXUlpbPLG8VyqnfBGyyxSrhlCu/n1h%2B1tHoXw2%2BNPiv4tfsr6BpOt/CXxva%2BGrLQNB1%2BPUV164vdP0q704CeSztxbPM%2Br20DKVkWJgzeY4oA77/hB/%2BChf/R0HwZ/8MPq3/wA1FH/CD/8ABQv/AKOg%2BDP/AIYfVv8A5qK8s%2BI37YPjP4dfs/8AxJ%2BJN3%2Bxt4LufF3wf8TLYfEHwvH43K2Mdk2m2%2BpLe2N%2BdK8y63QXdsqxPawHzTKpZVj3t1Px/wD2pfh38J/2iNE/Zm8K%2BBvhhL4hv9KstT1BvH/jiDw5EILy6ntbOCyH2O5e/vJns70rAqooFsd0ql0BAOq/4Qf/AIKF/wDR0HwZ/wDDD6t/81FH/CD/APBQv/o6D4M/%2BGH1b/5qKq6B8Ubuf9rjxH%2BzZ4r/AGcfDljpWneCovEfh3xJYaut3c6pCbj7PJHLZGzjW2YSA7cTy7gMkJnFfPnw1/4Kt/D34gfBzxr8XI/2a/BckPhPw3oWr3MeheNor%2BDQzqd%2B1m1l4hm/s%2BM6Hd2QBuL2LZc/ZoIpnJfywHAPo3/hB/8AgoX/ANHQfBn/AMMPq3/zUUf8IP8A8FC/%2BjoPgz/4YfVv/morwyP/AIKX/Cm4%2BEPh/wAar8MPhNa6r4k8Xavo%2BlapqvxOt7XwbdWumhftGqw6%2B1hme0Lyw2yFLQu9zJ5YXYjTDvvjh%2B0/bfAbxh8NNE8U/Bj4VXdv8Q77SNOtdM034hK%2Bv3V5d3MMFw2l6adMA1S0tBcR3EtwJ4SLdZZTGuwK4B2v/CD/APBQv/o6D4M/%2BGH1b/5qKP8AhB/%2BChf/AEdB8Gf/AAw%2Brf8AzUVyPwO/au%2BGfx6%2BPHir4beEvB3wti0DwrqOrafeTXHju3/4SQy6bdvZXNy%2BiLZnybH7VDPEtw9yGYRq4j2yKaz/AIF/tTa1%2B1FoXxC1L4E/sleGJZ/CnjGz0zwz/wAJV4mGnW%2BvaVc6da38OrSPFp1xJaJLDdK8cIimdkaMuY2dkjAO%2B/4Qf/goX/0dB8Gf/DD6t/8ANRR/wg//AAUL/wCjoPgz/wCGH1b/AOaivNtU/ay8VXH7KE37WHgr9kjwLd6T4bg8USfEC21nx4lilj/YV9c2dz/Z866ZKmoJM1ncyQSS/ZEeMRM7RmQhO1k%2BMzxftOeA/g1L%2BzZoUPhX4geD7/WNK8U3WprHqEFxax20klrLpv2Pag23SDzPtO4MrDy8fNQBqf8ACD/8FC/%2BjoPgz/4YfVv/AJqKP%2BEH/wCChf8A0dB8Gf8Aww%2Brf/NRXB/sw/tTx/tReJviX4d8H/CL4NR3PgXxF4n0Ky0OD4ofadae80rWbzS4H1OxTSc6Vb3Rs2mEge5ZEkTEcuSRV8IftM/EfWfDXxd1Txh%2BzN8F/Dcnwm8S2uj32sat8WpYvD9wzWNve3kkmoy6FG1uLeO7t0J8h1aUyIXQxsaAPRv%2BEH/4KF/9HQfBn/ww%2Brf/ADUVQ8D%2BOP2rPB37Vnhz4I/G74j/AA98TaN4m%2BHviHXIZvCvw8vtFurS602%2B0S3RWe41e%2BSWN01SUlQiMGiQhsZBufs%2BfFLwj%2B0f%2ByxZftC6L8NtP0GXUrHUJLP7DIlxEzW1xPAl3Z3Sxxm5tJvIFxb3GxPOgmik2Lv2h/jj/lIX8L/%2ByM%2BPP/Tt4QoA9mooooAKKKKACiiigAr5x%2BE3ir9u/wCOuj69478L/G/4SaBpdv8AELxVoel6Vf8Awf1S/uIrXS9ev9MhaW4TxFAssjx2auzLFGu5yAoAFfR1eCfshDzP2ddbt2J2TfHTx5FKAcbkfx9qysv0Kkg%2BxoA1f%2BEH/wCChf8A0dB8Gf8Aww%2Brf/NRR/wg/wDwUL/6Og%2BDP/hh9W/%2Bain6/wDtQf8ABP3wprt74W8U/tEfBzTdT027ktdR07UPF2lQz2s8bFJIpI3lDI6sCrKwBBBBGRVT/hr/AP4Jwf8AR0XwR/8AC20f/wCO1yvHYFOzqw/8Dj/8ke9DhXimpBThl%2BIaaTTVCu009U01QaaaaaabTTTTaaZY/wCEH/4KF/8AR0HwZ/8ADD6t/wDNRR/wg/8AwUL/AOjoPgz/AOGH1b/5qKfoH7UH/BP3xXrtl4W8LftEfBzUtT1K7jtdO07T/FulTT3U8jBI4o40lLO7MQqqoJJIAGTV79qv4l/Cr9lD9m/xr%2B0l4p%2BFy6tp/grw9cardabpGiCa4uViXOxFjjYjJxlyNqLl3KqrMNaVehXTdOalbs0/ybPPx2V5nlc4wxuHqUnJXSqQnTbW10pwg2r6XSavpe%2Bhnf8ACD/8FC/%2BjoPgz/4YfVv/AJqKP%2BEH/wCChf8A0dB8Gf8Aww%2Brf/NRVDSf2s/2P9c8by/DXS/DWvy%2BIbbw4uvahov/AAprXVutPsHju3iluo208NatL9huVijmCSTPGI41d3RWdpn7Tn7MHiaTw7/wiumWCHWfHU3hW9sPEvhLUdH1Gxvo9GutXMLWVzYCZJTa26zKtwtvG8MnmLKzGKObU4S7/wAIP/wUL/6Og%2BDP/hh9W/8Amoo/4Qf/AIKF/wDR0HwZ/wDDD6t/81FUPgp%2B1/8AsL/tBaNN4j%2BG3ibS/wCzovD%2Bn66l/wCIvCN3osFzpd8zLa3sEmo20C3NvI6lBLEXUPhCQxAq7%2B0b8RG%2BFev%2BD/hp8IPgB4a8XeM/G17eJpWl61qq6RYwWtnatcXNzPdJZ3ToB%2B5iVVhctJcR52IHdQB3/CD/APBQv/o6D4M/%2BGH1b/5qKP8AhB/%2BChf/AEdB8Gf/AAw%2Brf8AzUVz2v8A7Unwtg/Yt8Nftf8AhP4KWV4PF48O2%2BjeHdUMFn5F/rF/aafBBd3IjkW3jiubxFmlVZNqxyFFkO1W5nUv2sdY/wCGffHfxj0H9nb4VnUPhFrOtad8WNP1f4hTW%2Bn6S2nWqXkr2l7Bos7XYNvLE5EkFuyFijDcpFAHo/8Awg//AAUL/wCjoPgz/wCGH1b/AOaij/hB/wDgoX/0dB8Gf/DD6t/81FcP4w/aF%2BKHw2%2BHfgL4wfEf9ivwfpfh7xHF4WtvFdp/wmofWNG1bWbu3szZW1odMWO/FvPdRKztPbvIA5SIsAjZfwz/AG5PAfxG/bPvP2SYPgV4Qimtdd1nTJ4bbxLFP4h01dPiD/2lqOj/AGNfsWm3OUFvdfaJPN%2B02vyDzjsAPTP%2BEH/4KF/9HQfBn/ww%2Brf/ADUUf8IP/wAFC/8Ao6D4M/8Ahh9W/wDmor0m20jS9D8Y2tvounQWkdxply08VtEEV2SSAKSFwCQHbn3rdoA8Z/4Qf/goX/0dB8Gf/DD6t/8ANRR/wg//AAUL/wCjoPgz/wCGH1b/AOaivZqKAPGf%2BEH/AOChf/R0HwZ/8MPq3/zUUf8ACD/8FC/%2BjoPgz/4YfVv/AJqK9mooA8Z/4Qf/AIKF/wDR0HwZ/wDDD6t/81FH/CD/APBQv/o6D4M/%2BGH1b/5qK9mooA8Z/wCEH/4KF/8AR0HwZ/8ADD6t/wDNRR/wg/8AwUL/AOjoPgz/AOGH1b/5qK9mooA8Z/4Qf/goX/0dB8Gf/DD6t/8ANRR/wg//AAUL/wCjoPgz/wCGH1b/AOaivZqKAPGf%2BEH/AOChf/R0HwZ/8MPq3/zUUf8ACD/8FC/%2BjoPgz/4YfVv/AJqK9mooA8Z/4Qf/AIKF/wDR0HwZ/wDDD6t/81FH/CD/APBQv/o6D4M/%2BGH1b/5qK9mooA8Z/wCEH/4KF/8AR0HwZ/8ADD6t/wDNRR/wg/8AwUL/AOjoPgz/AOGH1b/5qK9mooA8Z/4Qf/goX/0dB8Gf/DD6t/8ANRR/wg//AAUL/wCjoPgz/wCGH1b/AOaivZqKAPGf%2BEH/AOChf/R0HwZ/8MPq3/zUUf8ACD/8FC/%2BjoPgz/4YfVv/AJqK9mooA8Z/4Qf/AIKF/wDR0HwZ/wDDD6t/81FH/CD/APBQv/o6D4M/%2BGH1b/5qK1/ij%2B2r%2ByJ8FZ5bL4qftK%2BCdFu4c%2BZp934jt/tQx/0wVjIfwWvHr/8A4LQfsS395Jpfwiu/G3xIvY22tZeAvAV/duW/ugyRxI34MR71wV81yzDS5alaKfbmV/uV3%2BB9blnAPHGc0fbYLLK86e/P7KahbvzzVOFvPnt5npX/AAg//BQv/o6D4M/%2BGH1b/wCairf7K3xG%2BNPjDWPih4E%2BOmv%2BF9W1TwD8QotDs9V8J%2BGrnSbe6tZdB0fU1Z7e4vbxlkWTUZULCXaVjQ7VOc%2BSf8N//tkfEDj4D/8ABKn4i3CSf6u5%2BImvWXhvYP7zRzGRuP7oOa6L/gnVrXxk8Ra18eda/aA8E6X4c8XT/GaA6roui6ibu2tQPCPhsQqs38ZMIiZj03MwHAp4bMMNi6jjS5npe7hJL75Rim/Qyzvg/OeHcLGtj3Si3Ll5I4ihUqLRu7p0qtWUYq1m5NK7S1ufSlFFFdx8uFFFFABRRRQAUUUUAFFFFABRRRQAUUUUAFFFFABRRRQAUUUUAc58XNa8QeH/AIaa1qvhX4eav4r1FLFltPD2g3FlFd3jPhNsb31xb26kBix8yVBhTgk4U%2BB/sx%2BIv2o/gZ/wTj8G%2BB4f2K/FU/xG8AfCHTNKtvB2peKPD8MeqatZWkNoLdbuHUZoo43dDKJWIxEDkCTER%2Bn6KAPEf2DPAvjfwd8JtW1f4ueAPE%2Bi%2BOfE/imfWfHN54qbSxLrGpSW9vGbmCPTL69hgtI4YoLOCJpTKkNkgfef3snzl%2B2Q/iX4P/8ABZr9krxvrfxf8Qa3pfieDx5pdvoWq2%2BnJaaOLiDRolitmtrSGd1eVoiftMs7ZiXaVy2777r85v8Agt9NL4W/aT/Zu%2BNcchRPhzcar4iuJAcARJr3hK3bP%2ByftAB%2Btebm9R0cuqVV9m0vkpQb/C59r4d4OnmXGeEwM9q3tKS9alDEQj983BLzZ%2BjNFFFekfFBRRRQAUUUUAFFFFABRRRQAUUUUAFFFFAHmepfsyfs2/GjR9B8U/GL9nvwP4s1O38P2trBqPiXwnZ388cCqXWJZJ42YIGd2Cg4BdjjJNUv%2BGB/2Ff%2BjLPhL/4bnTP/AIxXJ/F7/gpB%2Bxf%2Bx9L4c%2BGn7Rfxl/4R3W77wpZ6na2X/CO6jd77V98Syb7W3kQZeGUbSwb5c4wQTyH/AA/N/wCCWX/R0X/lk65/8hV4uIxfDtOvKNedJTT15vZ3v53V7%2BpovEPEZUvqkc4nSVPTkWJqQUetlFV4qO%2Byit9tT1v/AIYH/YV/6Ms%2BEv8A4bnTP/jFenaBoGheFNCsvC3hbRbTTdM020jtdO07T7ZYYLWCNQkcUcaAKiKoCqqgAAAAYFfK3/D83/gll/0dF/5ZOuf/ACFX094B8deFfih4E0X4l%2BBdU%2B3aJ4i0i21PR73yHi%2B0WtxEssUmyRVdNyOp2soYZwQDxXRgcRk9aclg5U20teTlvbz5UtL9xS4uq8Sfup5jLE8mtnXnV5b6XtKrUtfa6SvtfoeE/DD9hfxX4A8eeFNa1P4z6bqGg%2BB/ih4q8X%2BGtLh8ISQXYXXf7Wee0uLk3rpKYpdVYpKkMX7uEIyFmMg8j1r/AIIwy694p8e%2BJLz47eHYrjxl4C8f%2BF/7atfheia3cx%2BJpFcXGq6ib4vqj2W0RwoFt08sbdqYDD3aw/b8%2BEer6dYzaT4U8RzX11ovi3UrvSZfsFvLpaeHL1bDUY7uSe7SCBhdukCM0vlsSWLrGruvCeDf%2BCn3gf47TfDjUfgJBZy2Ou/GfUfA3jeC/vrHUpdPNv4N1fxChtrnSr64s5XY2lgd6TzIEmmjYJKp8r0iDrpP2GA/iHVdfHxQwdT%2BOuk/EcxDRP8AV/YtI0/TfsGfP%2Bbf9g8zzsDb5u3y227m7z41/A7UP2gP2edd%2BCXj/wAYxW9/rVg0aeIND0swCyuklE1rdRQSyy5aGVIX2s7K7RnOA2B88eLf%2BCq0r/BDwp41%2BEXwp1/xHe6pB8PZPEfimXw/Bb6NoreJLvTlSC5gGpNcx3DWt75qpAbqKBpoPNmZSS30h8Yfjx4f%2BEnwC8efH260bUrmx8BeH9Y1S%2BsrjT5rSW4GnQyyyrGJ0UsreSwSVQ0bghkZlIJAOd%2BAv7P/AMUPhTq/iLx341%2BLWh%2BIfFXjjxbFq3jTUbLwfNYWklrBpkVhb2VjbtfTNabPs8EpklluSzNcDaolTyfOYv2C/jV4mj%2BN%2BmfFb9o/wxfWPxd8Q2fiHTW8M/Da40668O6vY2ml2thcCWfVrpLqOIaRaStGYo/Ml3nciERr1v7LXxs%2BP3iH4qeJvgN%2B0qPCNz4i0bwV4d8V2upeC9KubK0FrqsmpQGyaO5ubh3lt59LmzOHRZUmjIijIZal%2BFfxb/aE1z9qP4xfAPxxqPgye08M%2BGtB1zwJc6VoV3byQRanPrUKwX7SXcoumT%2BzIWLxLbg%2Ba67eA1AHFfEn9gr44fEL9nL4p/DA/tJ%2BFrfxr8Ztd%2B2eOPF83wzuZdPjthpttp0dtY6cNXSS3KQ2dsQ8t1PlzOxU%2BYojk/aG/wCCe3jX9omfVNb8QfGjw1p%2Bs%2BO/hZD4A%2BK2pWfw8kc6lpMdxc3CtpIk1Fm0mdXvbsq8j3gVnibaWhUne/Z5%2BK37Uvxs/Zv17WNa%2BIXw50Pxz4d%2BIfiLQL3xAPA19NoslvperXNn5osW1ZJkZ4oFYsbshWJOMfKPJvh7%2B2x%2B258UPg18PLrwtD8NIvGHjD4b%2BKPiKdR1LwlqMWnXegWV7ax6RbR2g1IzWtxe21/azSTPPMtuUkHky7lAAPZ9Z/Zi%2BOet/tk337RFx8efDMPhC%2B8EP4WfwlaeAruPVo7Ni03mpqo1Xy1nFy28P9jwIwI9u/8AfV5fov8AwS28dp4It9A8UftL6Xcap4b8I%2BF/DngXUdI%2BHf2K3gtNC1e31W1OqWxv5BqbSS2sUcqxvax%2BW84iSFpiwwP%2BHruuXHxY8N3N1e%2BEdD8M%2BJPEngbStC8A6tpty/ibX7LxLbaaY9ctbhblYUs7a81MWsim2kBewuAZo3kiSqXhr/gqL8ata1TxR4SsbXwVrnjOf4c%2BONc8O/DbQdAvn1fwnq2hyolrpOsKLt2upbtZQyiOK0YmFhEsqSLKgB6Tbf8ABO3xzperWfxl0j42%2BFj8VYPHWteJJvEOofDaSfQgdU063066toNLGopLAphs7V9/2xnMyyu5cTulaDfsGfEa1%2BDHw9/ZV0f9oHSofhh4Gs/DET2k/gZ5PEF3JotxbXEbxait%2BlvaiSS0iyFsmaNS4jdCUaPjrr9vX4n6L%2Bz9ZeKtU%2BMfgFdfm%2BIlj4f8Y%2BJfEfwn1vwzp/w7trixa6E%2BraVqOoi72s6RwxzPPbROb6Bs7UZn88%2BJP/BXL40W3wJ8NfFL4a6Z4ZkabQvHVxqWqR%2BAtX1qz1m98N6x/ZarFDZ3Ucmi2F4Ue4/tO9eS2tEkjWZiTuYA9iP/AAS68Jaz4tu9C8b%2BN7C/%2BGMniPxlrtv4N07w9Lp%2BqS3fieO9TVY7rV4bwPNbH%2B0rwxxxQwSJm3zK32ZKp3X/AATB8S%2BBPCnxd0P9mX9qzxR4RvvixrekzXGq%2BKNV13xNLpmm2tla2lxZxPd6wswluEgkX7ZHLFPDHMqRkeRC6Wp/21vjg/xiudbttI8IJ8NdI%2BLWh/DrVdNW1uJ9XnvtS02wnXUoL5bgQeRHdanbW/kG2ZnjjlmEy5SOuR%2BHv/BRD45WPwJ8eeO/jBd%2BHB4/0fSfP0D4X3Xwr1zwvcW8k%2BpHT7OeW61G7lGp2TSyWwe5tIlRdx5yyrQB3PxP/Yd%2BP3j34Y/C74TaH8dfhlonh34f3Bm1fwdbfBu9Ph/Xjbsn9lQmzTXY5Ibe02B/IaeWOaZInYKsYjPYfEr9nT9ojxv%2B1F8Nvj7o3x58F6fpPgXTLq01Hw7c/DW7uLnVPtptxfNHdrrEa225LZBCGgm8pixczghR5X8ZP2uf2x/hf%2BzZ8eNatNW%2BGdz4/wDgNcNfahqkvg/UF0jX9K/sSLVEEVkNT860uC8ptyWuplXyTLtPmCJPXf2j/i78cPhT8cfg5pXg%2B98KN4O8ceOW8N%2BJrLU9FuZdT3tpeo3sc1rcJdRxQBTYqrLJDNuEhwUwDQAeGP2avijeftNaZ%2B0V8Yfi54c1ceGNE1jSvCOk%2BF/AsmkvFb6jcWsspvriW/ujeMos4QBGtvGXLyNGTsEbvhl%2Bzh8WvgZ%2Bz/D8NvhH8ZdATxfc%2BJdR17xH4u8T%2BCZr611W91C9uL28c2UOoW8kYMtwRGBcnykjjT51XFYHxB%2BL37T3gn9trwD8GrL4g/DzUPB/iq31vW9d0p/At7Bqei6Bp9rGjXB1A6s0DyNf3mnxDNoimOSYgZjyfLLj/gpN8ctStPjH4z0DwF4ct/C3h/R/BOr/AA11K/sbt5I9E1vWL/TZ9e1RUlG%2Bzihsm1URxCFxZ/LI6uWMYB9B/Bn4GSfs6fs03/wzu/Fx128Muv6vqeprYC0hlvNSvrvUbgQW4dxb26zXUiRRb3KRqil3ILtneOP%2BUhfwv/7Iz48/9O3hCsD9k39ql/2pfgz8THuvF3hnxLdeBPFF94auvFnguzlt9I13Gl2eoRXdpFLPcMkZg1CFD%2B/lVnjdkdkZa3/HH/KQv4X/APZGfHn/AKdvCFAHs1FFFABRRRQAUUUUAFeC/sf/APJvWr/9l78c/wDqwNVr3qvBf2P/APk3rV/%2By9%2BOf/VgarQB1mv/ALE37GXivXb3xT4p/ZH%2BGOpanqV3JdajqOoeAdOmnup5GLySySPCWd2YlmZiSSSScmqn/DA/7Cv/AEZZ8Jf/AA3Omf8AxivO/H//AAWU/wCCbnwv8d638NPHX7R32HW/Dur3OmaxZf8ACIaxL9nureVopY98doyPtdGG5WKnGQSOayP%2BH5v/AASy/wCjov8Ayydc/wDkKvBnjeGFNqU6N7u9/Z3v1vpve9zT/iJuJofulnk48ulvrdVWtpa31hWta1rK1rWVrL2bQP2Jv2MvCmu2Xinwt%2ByP8MdN1PTbuO607UdP8A6dDPazxsHjljkSEMjqwDKykEEAg5Fa37TXwTsv2k/2dPHf7Peoa/LpMPjfwjqGhvqsEAlez%2B1W7wiYISA5QuG2kgNtxkZzXjXgH/gsp/wTc%2BKHjvRfhp4F/aO%2B3a34i1e20zR7L/hENYi%2B0XVxKsUUe%2BS0VE3O6jczBRnJIHNe4/HX4w%2BHP2ffg94j%2BN/jLTNRutG8K6VLqesppUKSTxWcQ3TzBXdAyxxh5WGc7Y22hmwp9DA1strQk8HKDSevJy2v58qWtu5MuJKnEn72eNeJ5NLurKry31teVSpa%2B9k1fe3U8j8RfsTfELx/oPxdl8e/H21i8SfFv4d6b4Zvta8J%2BFZtNh02SzGohbmKKS%2BnkZHF%2BA0RmBxE2JB5g2cN8Ef%2BCU0Xwi8RQ%2BJofiT4QsNvxcHjl9B8BfC%2BPQNIgYeEbzw4bO2tUvJTCG%2B1C7aVnkZnRlI%2BcOnovxn/AOCiHwd%2BC2l%2BLtc1Tw3qeoWPgrxbZ%2BG9Y1EeINB0q0e/uNNi1EJDcavqVnDJsgngDAPv3zBUV9khTkbX/go7pPinx9Hf%2BCbi0uPAWueDPhJrvhHVYtCknvLr/hMPEGraaVmR7uFY4xFZ2ZVgC8DSTOyXOFgruJOr%2BBv7FHiH4BR%2BBLvwj8XLK5v/AAN8DdK%2BHVvLqHhd2hu/sckDG%2BaNLtWXesLAQhzsLg%2BY23a3WftG/ALxx8VPEHg/4mfB/wCJ%2BneEfGfgm9vH0rVNa8NPq9jPa3lq1vc209ql1au4P7mVWWZCslvHnehdG8w8G/8ABRo/Ez9orwf4I8IfB/xNZeAfEfgrxZr9p4s1TQlnbxDDpNxp0Mc%2Blx2VzNOY3%2B1St5U9uk8waBoUIJz6T%2B1J8aPiB8PdG8C%2BFvg4mkQ%2BKPiT43t/Duhah4n0ue4stNzZXmoT3M9rHNbyzbbWwuAsQliJkZAWUZoAp%2BHf2WNY8Bfsu2v7K3gzxT4X1DQ9M8D2GhWP/Cd%2BCW1iO8nj3C7udQgW8gju47hNuYEEOxzI291dUTjPDv8AwTg8O6F%2BzFf/ALN1v4w0ixt/FfxAsfEnxAfw74Oj07T9Tghu7OSXSrSxjnK2NpJaWNvYYLzMsAYsZJGL1oaV%2B118U3/YJ8a/tHv8O7LWPHHgX/hK9MvtE0eG4FnqGp6HqV9pss0MYMk628slkZxEDJKsb7Mu4yfGW/4KwarY%2BEtb8H6Z8TPh/wCNfEsfxK0Twr4d%2BIXgnwjqV54fvE1LTZtQE6ada3l1c3k0K2V/ALa2uXM08cKB4WeRYgD3b41fsu/HX4o/tT%2BEfjtpXx38JxeFvBlop0bwF4k%2BHd1qKW%2BpOzrcapHcQ6rbL9rNs/2eF5IZRbq0rKpMz1k%2BA/2EfFPhP47aN8QdX%2BN1nqPhXwv8R/Evjfw3oaeETDqy6lrUV/HcQ3epm7ZbqzjXUrkRQrbRMoitFaRxbLnlvjv%2B1B%2B07o/7G%2BlftGfs5fHX4U%2BIdVvJ4tDsLTUvhNqyw6/4hutVXS7S0SBtbhn0spdyLBcQzefLC0cxbaY2QaFv%2B3VrGtftsa3%2Bzv8A8LF8MeHNG8HeKtM8L6pFqvw%2B1e8l1/VbvSrXUgkOqxXEdhpJZL2GKGC4E808kUoUAFCwB9J3f/I7af8A9gq8/wDRltWpWXd/8jtp/wD2Crz/ANGW1alABRRRQAUUUUAFFFFABRRRQAUUUUAFFFFABRWR43%2BIPgL4Z6FJ4p%2BI/jbSPD%2BmQ/63Udb1KK1gT6ySsqj86%2BbfFv8AwWB/ZR/tuXwZ8AdP8YfGLxDEdp0n4YeF59QCMeAWnYJDs9XVmAAJrjxOYYHB2Veoot7JvV%2BiV5P5RZ9FkfCPFHEilLK8HUqxj8UoxfJH/FUlyUo/9vVIn1TRXyJ/ws7/AIK8/tBfL8OvgH4C%2BCOizdNU8e602s6t5Z6PHbWoEUb/AOxN06ZrmfH37Evgdom1D/go7/wVJ8VeIYmXdd6HceLbTwlokoPUPaQuMjsCHXj61xTzapKN6FCTX802qUfvm%2Bb/AMlR7tTg3Jcnjz5/nOHoW3hSbxdReT9jy0Iv/FiXbr1PoX42/t6/sbfs6edD8Yv2j/Cuk3UGfN0tdSW5vVx/06wb5v8AxyvIh/wVM8UfFc/Z/wBjX9hX4p/EhX/49td1PT08P6NPnoVvLzr6kFBxiuD8FftGf8EF/wBjq6hs/hJc%2BAm1eFgtnceG/D1zr2oSMOipdrFO5P1lArvv%2BHrN340/d/AL9gX48%2BMQ3%2Bp1GXwYNN0%2BT0xcXEnH4rXnSzSdWXLPF04eVJOpL72pL/yQ8mfGng1k8uTB4epjqi61q3JD/wAEYKNSdvKeIXm%2Bo06X/wAFm/jV/wAfvij4R/BTTZfu/wBn2U3iLV4M/wB7zcWjY7YxzS/8OoIfiX%2B//a4/bQ%2BLvxO8z/j50Z/EX9kaPL6/6HaY259pOlL/AMNI/wDBWnx/8vgT/gnb4T8GxP8A6m98efFCC6yP7zQ2SB1/3c5o/wCFX/8ABZ/4g/8AI0/tR/Br4erJ/wBCT4KudWeIf9xFgCf0qfZ4Kt8dKvX/AMSko/dKVKP/AJKyP%2BIz5/Q0yLBLCLo8NhKdKX/g%2Bv7Stfz9pF9dGenfCz/gnR%2Bwt8F4Iovh7%2Byr4Lt5IceVe3%2BipfXS49J7rzJf/Hq9jsNPsNKs49P0uxhtreJdsUFvEERB6BRwK%2BT1/wCCdn7U3if9/wDFL/gq38W7ydv9a3hOxstDjP8AupErhaX/AIdF%2BCtT58cftu/tJeI8/fTV/ixIUPsFjhXA9s16FCeKoR5cPgVBf46cfwin%2BbPks04r4yz6t7bH06taXetiVJ/%2BTSqW%2BVj616da8W/ZYngufjV%2B0bNbzJIh%2BM9kAyMCMjwV4XB5HuMV5n/w5L/YH1E58b%2BE/F3ibP3/AO3viDqkm/6%2BXOldJ/wTx%2BCPwu/Zy1/49fBn4MeFV0Tw1o3xltxpmmJdTTiHzfCHhqeT55nd2zJI7fMx%2B9gcYFd%2BGqZhOf7%2BnGMfKbk7%2BnKl%2BJy4SrmtSo/rNGEI26Tcnf05Iq3nf5H0jRRRXaeiFFFFABRRRQAUUUUAFFFFABRRRQAUUUUAFFFFABRRRQAUUUUAFFFFABXwr/wWT8BD4kWd54d8nzDb/s1/EHU1XGebLWfBt6D%2BH2fNfdVfPv7Q3g22%2BI37YPhD4e3m3yde/Z9%2BI%2BnS7um2fUPCURz%2BDVy42h9awVWj/NGS%2B%2BLX%2BR7nC%2BavIuJsDmSdvYVqVT5QqU5P8FI9Q/Z18ff8LV/Z%2B8DfE/zvMPiLwfpmps%2Bc5M9rHKfxy1dlXzL/AMEdfGVz40/4Jw/DOXUdy3ek6ddaPdwv96JrO8ntlQ/8AjQ/Qivpqpy6v9ay%2BjW/mhF/fFX/ABudHGWVLIuL8xy5Kyo160F6RqzUf/JeUKKKK7D5sKKKKACiiigAooooAKKKKACiiigDK8Df8iTo/wD2C7f/ANFrWrWUPBmhplYGvoUySIrfVrmNF9lVZAqj2AApf%2BEP0n/n71X/AMHl3/8AHaANSisv/hD9J/5%2B9V/8Hl3/APHaP%2BEP0n/n71X/AMHl3/8AHaAPD/EH/BNP9nzxL4j%2BM3iXUNX8TCX426dbWeuW6ajD5OiCJSWk01DCRA005FzMJfNSWZVLKV%2BQv8Ff8E7vhz4W8XR/ELxB8YvH3inxAfidJ47vNY8QXun%2BZd6m3hWfwv5bJa2UMSW4sJyyxxJHiZEbOzdG3tv/AAh%2Bk/8AP3qv/g8u/wD47R/wh%2Bk/8/eq/wDg8u//AI7QB85f8OpPgxZ%2BF9A8A%2BHPjP8AEjSPDukWPhCHVNB07U9PEHiCbw01qdMu7xnsWlE22ytkl%2BzvBHKkShk%2BVcfQOsfDrSPFvgfXfh18Qr658R6T4ihvrbUrXVI4VDWV0HV7MeRHGDEsbmNS2ZCoG93bLG5/wh%2Bk/wDP3qv/AIPLv/47R/wh%2Bk/8/eq/%2BDy7/wDjtAHmfwO/Y90v4FyalrOnfHPx34g1/VIdFsbrxR4mn02e%2BOkaVJK9ppI8uyji%2BzD7RdhnMZuWN5M5n8wrIqeEv2Sb/wAI/tLeMP2mof2nPiFeXvjPRbbSr3w3eW2g/wBmWdtayXclksHl6WlyDbtfXRQyTyF/M/e%2BaFXHpv8Awh%2Bk/wDP3qv/AIPLv/47R/wh%2Bk/8/eq/%2BDy7/wDjtAHivgD9gTTvBfwC%2BJP7O%2BtftQfE7xLpPxOfV5NV1LV20O3v9Nm1SS4kv5bOXT9LtljeV7mRsyJIIyF8sRgYO58eP2LPAHxutdBi0nx54p8BXHh/w3qHhu1vvAlxaW8smhXyW63WmN9ptp0SF/slqweNUniaBTFLGS2fTv8AhD9J/wCfvVf/AAeXf/x2j/hD9J/5%2B9V/8Hl3/wDHaAPOdZ/ZD8K694u8L3mofEnxT/wh3g2fTrnw98Lov7Pj0K3urBALO4JW0F7IYWWOVI3umhEsUb%2BXuRSC0/ZQP/CxNY%2BLPiD9oPx5rHiK50PUtI8KalqA0gHwdaX0sUs66dHDp8cbtvt7XEl4t0%2BLWNWZlMgf0b/hD9J/5%2B9V/wDB5d//AB2j/hD9J/5%2B9V/8Hl3/APHaAPLfDX7Ht94R0jxReaJ%2B1J8SE8Z%2BMNRs7nW/iRJFoT6q8drF5UFqkDaWdPjgVC42raBiZHcsXO6uZ8Sf8E0vhNqXhjTfDfg34tfEDwk8PhjVvD/iHVPD%2Bp2T3XiWx1O7N7qAvnvLScedPdPPO1xbiCZXuZSjoGwPeP8AhD9J/wCfvVf/AAeXf/x2j/hD9J/5%2B9V/8Hl3/wDHaAPIbT9gH4QaZ8W7T4kaJ4q8T2OjWuu6frsnw8tru2/sO51ix06PTrTUZFa3N15sVtBbKI1uFgL2sMjRNIu819V/4J/%2BB/Hb%2BIrv45/Grx78Qb3XvB114Ys9Q8RXOm2suh6dcTxXEq2X9mWNqqSma3tJfPlWWUNaQkONpB9m/wCEP0n/AJ%2B9V/8AB5d//HaP%2BEP0n/n71X/weXf/AMdoA8M8Z/8ABO7w546/Z88ffAbWv2k/iULj4p30k/xC8dR/2GdZ1qJ7CPTzbNv0trO3hFrDDGBb20TL5W8MHeRn1/i/%2Bxj4g%2BMsfw6n1r9sf4o6df8Aw31YarY6ppVl4ZE2q6gLee2F1drNo0kW8QXM8eyBIYsSZ2blVl9c/wCEP0n/AJ%2B9V/8AB5d//HaP%2BEP0n/n71X/weXf/AMdoA5tP2fvAU3xq8RfHTWjdapqfiTwfZeGLjT9T8qWxttOt5ruZo4ovLBHnveN5xdn8wQwjAEYB888Bf8E3f2XPgl8QPGXxV/Zk8Dab8KfEXjLwrp2gy6p8PPCujWJ0uC0uLicS2sbWLxiSZ51EwlSWOQWtvlAYgT7P/wAIfpP/AD96r/4PLv8A%2BO0f8IfpP/P3qv8A4PLv/wCO0AcT4D%2BBnh74DfCPxRo2l%2BJNY17Utcmv9Y8S%2BJvEMsL3%2Bs6hLCEa4n%2BzxRQqRFFDCqRRRxpHDGioqqBWH44/5SF/C/8A7Iz48/8ATt4Qr1E%2BDNDfCztfTJkExXGrXMiN7MrSFWHsQRXl3jj/AJSF/C//ALIz48/9O3hCgD2aiiigArnfiv8AFfwD8EfAV78TPibrjafo9g8Ec00VnNcyySzTJBBBFBAjyzzSzSxxRxRo0kkkiIiszAHoq8g/bX%2BG/j74h/CfSL74ZeGW13WPCfj/AMO%2BJ4fDqXcMD6tFp%2Bp29xPbRyTukSzGFJDF5rpGZVjDuikuoBt2X7VvwEvvgXdftIp46aHwhYyTw317eaRd29zbXMNybSS0kspYlukuhcqYPsrRCYy4jCFyFOfJ%2B2p%2BzrF8M1%2BK8nirV1sH186EmlN4M1Ya22qbTJ9hGkfZf7QNz5QM3k/Z9/kjzseX89eR%2BFfgT478T/s7fFDw98ZP2fvGdtd%2BO/G95440/QPDmv6MupaXcJfwSadbwzte/Zl1KI2Freks5tBLJs86UBs%2BRw/sI/tFm3tfj1420n4q%2BIL7UPj7eeM9f8G2fj7S9M8Wy6ZL4Qi8Oxbr/T7qysYbkS2kE7R2lzBGttK8KyOUZJQD778JeKNL8beF9P8AF%2BiRX0dnqdnHc20ep6XcWNyqOoYCW3uUjmgcA8xyIrqchlBBFeK/sf8A/JvWr/8AZevHP/qwNVrpP2fvAXx8/wCGSPDvgD40/ErWNI8eHQhDqXiLTp7K81GxfeTHuluIJra4uEi8uOSVonSSRXcA7ga5z/gnv4aktP2Y9R8K%2BI/EN7r8lv8AFr4hQXWraokCXN86eNNaBnkFtHFEsjEbj5Ucahj8qqMAAHvVFZX/AAh%2Bk/8AP3qn/g8u/wD47S/8IfpP/P3qv/g8u/8A47QBqVU17QtH8UaHe%2BGfEWmxXmn6jaSWt9Z3Cbo54ZFKPGw7qykgj0NVv%2BEP0n/n71X/AMHl3/8AHaP%2BEP0n/n71X/weXf8A8doA%2BfvBP/BMH4UfDT4R%2BA/hh8PPjV8R9K1D4fa3qeqaX45XU9PudbvJb9JoroXUlzZSQSbopvKV1hSWNIYhG6bSTY8Df8ExPgH8P/DXh7wroni3xhJbeGvDXw80Owa71K2eR7bwbqt3qmltI32cbpJZ7yVbhuA6KgjELAu3vP8Awh%2Bk/wDP3qv/AIPLv/47R/wh%2Bk/8/eq/%2BDy7/wDjtAHiHw2/4J3eBfhT8RNL%2BIHhL46/ERV8L%2BG9d0LwHoVxeabJYeFrPVZraaZLRDY75TE9pB5JunuNipsO5Plr0j45/APRPjv4N0vw5q/jTXdE1TQNatdY8PeLNAe1XUdM1CAMq3MQnglt2LRyTROkkLxvHNIpTB46f/hD9J/5%2B9V/8Hl3/wDHaP8AhD9J/wCfvVf/AAeXf/x2gDi/ht%2BzbYfCL4YQ/Cv4e/FXxVYWqadq63Gok2E15dapqV015ca1I8toym9%2B0y3EwAUWxe5k3QOBGE5M/sGeCbnwrfQav8YPG9/4yv8AxhaeJz8UbqTTP7cg1O1txa28kSJYrYRxpah7cQC08opNMWRnlkdvYP8AhD9J/wCfvVf/AAeXf/x2j/hD9J/5%2B9V/8Hl3/wDHaAPMfDH7Enws8NeHfAHhp/EviPUYfAPjzUfGaSajeQM%2Bu65e/wBoPPeX%2ByFVc/aNTubpY4hDGkwiKqqxIgi8XfsQfDnxh8ZJ/ixdeO/FVpY6j4s0rxT4g8E2VxZrpGs67psVvFY6jcbrZrrzYlsrH5I7iOJvsMBeNtrbvU/%2BEP0n/n71X/weXf8A8do/4Q/Sf%2BfvVf8AweXf/wAdoAS7/wCR20//ALBV5/6Mtq1apab4e0vSrhry2Wd5mTYZbm7lmYLnO0GRmIGecD0q7QAUUUUAFFFFABRRRQAUV4T%2B01/wUr/Yr/ZKE9h8X/jjpa6xBkHw3ozfbtR3f3Whh3GHPYylF96%2BLvH3/BwX8Tvi1f3Hhn9h79kjVdRkGRDq/iOwur%2BRj6Cy05Ww3cbp8eorxcdxFk%2BXz5KtVOf8sfel90b/AItHqYfK3OaWKxFHDRet8RWp0dH1UZOVWStquShO61V1qfqPXi/x4/4KH/sWfs13EmmfFz9ofw/Z6lEdr6JYXDX1%2BG6BTbWwklUk8DcoHvX56NoX/BUL9rRvtXxo%2BDPx78X2Nzy3hSTWtP8Ahxo6Kesc8eZZrpBz95kc%2Bua9n%2BA/7FH7e3w1t47b4Efs5/s1/A6HbtbWvs974h8QxD/r5l3LLjnhnxmvN/t/MMX/ALrh5Jd5Rk39y5I/fM9P614YZSv3%2BKxOY1P5MHh5UqV%2BzxOLjTbXnTw/oz1If8FH/wBoL4zf6P8Asb/8E8fiD4jgk4h8TeP5IfDWmMv/AD2jM5Z7hPZQrHkVxXxV1b9t6a3a8/bL/wCClvwm%2BAOlSLuk8PeAoIXv5Iz0QXWoyCVJMd4Q2T0GK7X/AIdm/GX4ofvv2rv%2BCkHxY8WK/NxpHhCaDwzp03qjwWobev8AwJT3rtfhV/wSo/4J9fB%2B4XUfDn7MPh7Ub4NvfUfFCSavO8nUybr1pQrZ5yoHtij6pnmM/it2/vTUF/4BRTl99UP%2BIiY/C6cPZBhMH2qYiTxlb1/eKVOL/wANJW6dD4v0C%2B/4JN3Pi86l4N%2BHnxn/AGvvHFu2x9Rv9P1DXVSQ8kSm4EFr5ecEtskAHrzX0R4T8Vf8FTPHGiReF/2e/wBjj4WfAPwyoxbP4x1YX1zHH/fis9NRY4n/ANiQYGOa%2BxNJ0fSNA06LSNC0u2srSBdsNraQLHHGPRVUAAfSrNdeGyKVG/73kvuqcVC/rN89R/OR87nmdcdcWuP9vZvWqxjtCL5KcfKMdVFf4IQ8rHyJ/wAO1Pjl8X/9I/bF/wCCiXxK8VxScz%2BHvBHk%2BGdLcH/llJHbBmmQdMkqx611fgD/AIJFf8E4/hzItzpP7Kvh/UZ87pJ/Erz6sZG7swvJJFJJ9se1fSFFd0MmyuEuaVJSl3neb%2B%2Bbl%2BFjwafD%2BTQlzyoqcv5p3qS%2B%2Bbn%2BCXoYHgf4UfC34ZWv2L4bfDXQPD0O3b5Oh6NBaLj0xEqjFb9FFejGEIR5Yqy8tPysevCEKceWCSXZJJfckgoooqigooooAK8Z/Zf/AOS3/tHf9lmsf/UK8L17NXjP7L//ACW/9o7/ALLNY/8AqFeF6APZqKKKACiiigAooooAKKKKACiiigAooooAKKKKACiiigAooooAKKKKAPPf2rrT4B3v7O/iu3/agk8Lr4EOm518%2BNZ4I9L2iRTELhrgiLaZhGAHOC20c5xXyJ4F%2BMnw9%2BIv/BCnwJo3wm%2BKuk67JY/BHwlF4utPCmuR3V5b6Pbpp1vrilbZ2kRo7VbyJwAHRwV4YYr79ooA%2BZv%2BCbp%2BFxm%2BMX/DNh0P/hUP/Czov%2BFbf8In5X9ieT/YOk/bv7N8j9z9l/tD7Xnyfk%2B0fasc7q0r/Uvivd/8FNvBdn428F%2BHtP0K3%2BD3jgeGtR0rxPPeXd%2Bh1bwl5jXNtJZQpaEYTASa4DbjkrtG76Hrxnxx/wApC/hf/wBkZ8ef%2BnbwhQB5h/wSd/4pHT/jn8DJfk/4Qv4%2B6/FYQ/3bC4MU9ucds7pDX1rXyT%2By9/xQH/BVT9pL4dsdkHirQ/C/inToemNls9rcOPXdLjJ9q%2Btq8nJPdwCp/wAkpx/8BnK34NH6B4n/AL7i6WN6Ymjhq/q6uGoOX/k8Kl/O4UUUV6x%2BfhRRRQAUUUUAFFFFABRRRQAUUUUAFFFFABRRRQAUUUUAFFFFABRRRQAUUUUAFFFFABRRRQAUUUUAFFFFABRRRQAV4z44/wCUhfwv/wCyM%2BPP/Tt4Qr2avGfHH/KQv4X/APZGfHn/AKdvCFAHs1FFFABRRRQAUUUUAFeM/sH/APJENc/7LN8R/wD1Ndbr2avGf2D/APkiGuf9lm%2BI/wD6mut0AezUUUUAFFFFABRRRQAUUUUAFFFFABRRRQAUUVDqOpadpFjLqerX8NrbQIXmuLiUIkajqWZiAB7mhtJag2krsmor57%2BLP/BVX9gH4OXR0nxD%2B0poWqalv8uPSvChfWLh5Ogj22ayBWzxhivvXy98Yf8Ag4Rs7vxGfhj%2Byb%2ByL4v8T%2BJ55WgtrbxHAbaXzAMjbY23nXEoORgExHmvGxfEOS4L%2BJXjftH3nftaPNr5GWAqvOMW8JlkJ4msldwoQlWkl3kqcZKC7ynOnFdZKzP0lrzH4%2B/tn/srfsvWj3Px5%2BO3h3w7Kibxp1xeiS9kX1S1i3TuP91D1FfC%2Bi/AL/gud%2B3qRffH3472/wADPB95y%2Bi%2BHo/s98Y26gRW8hnIIyClxcqf9nk173%2BzV/wRL/YZ/Z%2Bu4/E/iPwRP8RfEu/zZ9c8eSC8VpScsy22BAOeQXV3H989a5oZnm%2BP/wBzw3JH%2Beq%2BX7oRvN/NxOvE5ZmuG0xEqdF/yuarVF6woSlTi/KeIbXVbnLt/wAFcvip%2B0XPLoX/AATl/Yf8ZfEPLSQp4z8UKuj6FFIv8QlkOJR/0zaSCQ9hmku/2Ev%2BCkP7Wmbj9tn9uj/hDvD9y26b4f8AwWtWtYzE6/NDJeyAO2OhSQXCdcN6/cFpZ2mn2sdjYWscEEMYSGGFAqIoGAoA4AA7CpK3/sipiV/t1eVT%2B6v3cPui7v8A7em/Q8v6jOUrzr1JejVNfdTs/wDyp8z5x/Z8/wCCTH7Av7NwhvfBvwA0vVtVhAJ1zxaP7Uui4/5aL5%2BY4m94kSvomysbLTLRLDTbOK3giXbFDBGERB6ADgCpaK9LDYPCYOnyYenGC8kl%2BS/Ns2w%2BEwuETVGmo31dkk2%2Brb3bfVttvqwooorpOgKKKKACiiigAooooAKKKKACiiigAooooAK8Z/Zf/wCS3/tHf9lmsf8A1CvC9ezV4z%2By/wD8lv8A2jv%2ByzWP/qFeF6APZqKKKACiiigAooooAKKKKACiiigAooooAKKKKACiiigAooooAKKKKACiiigArxnxx/ykL%2BF//ZGfHn/p28IV7NXjPjj/AJSF/C//ALIz48/9O3hCgDzD4i/8W9/4LQfDnxN/q4/iH8FdX8PY6CWWwu1v8%2B7BG69cV9a18k/8FHB/whH7SX7K/wAcgNn9mfGFvDTzf3E1m0e3IJ7A%2BTzX1tXk5d7mLxVLtNS/8DhF/nFn6Bxl/tWQZDj/AObCypP1w2IrU7fKFWAUUUV6x%2BfhRRRQAUUUUAFFFFABRRRQAUUUUAFFFFABRRRQAUUUUAFFFFABRRRQAUUUUAFFFFABRRRQAUUUUAFFFFABRRRQAV4z44/5SF/C/wD7Iz48/wDTt4Qr2avGfHH/ACkL%2BF//AGRnx5/6dvCFAHs1FFFABRRXHfHj42eGv2fvh1L8RPE2kanqm7UrHTNM0XRIY5L3VNQvbqK0tLSBZZI4/MknmjXdI6RoCXd0RWYAHY0V47D%2B2x8Ml/Z31X9oXVvCfiXT10TX28P6r4PurO3bWINb/tBNOj0zZFO8DTS3UsMcbrMYHE8cgl8tt9UtV/by%2BFvhf4DeNfjh458FeKdDuvh/q50bxL4FvLezm1uLVmhtp7bT41trmW2lmuIr2ykiKXBjK3UbO6AOUAPb68Z/YP8A%2BSIa5/2Wb4j/APqa63XpXwy8faP8Vvht4e%2BKPh22uYdP8SaHaarYw3qKs0cNxCkyLIFZlDhXAIDEZzgnrXmv7B//ACRDXP8Ass3xH/8AU11ugD2aiiigAooooAKKKKACiiigAoorjPjt%2B0L8Fv2ZvAVx8S/jr8RdN8OaPb5AuL%2Bb553xny4Y1y80hA4RFZj6VFSpTowc6jSS3bdkvmzOrVpUKbqVJKMVq22kkvNuyOzryn9p79tf9m/9kHRYtQ%2BNfxDgtL%2B8AGkeHLBDc6pqbk7VWC1jy75bC7iAgJGWFeD/APDQH7fX7eY%2BxfsmeApPgv8ADi5GG%2BKXj/ThJrGoQn%2BPTtNJwgI5WWU4ZSCrIwxXm3g3xJ%2ByH%2Byj8U73wV%2Bxv8Mte/aZ/aKuyf7b8W3uojUJbKZvlaW91STMFjGDlSkXzfKEkYHBrwMVnbcE6CUYvRTmnq%2B1OmvfqPtpGPm1qVkOWcU8b4qWH4dwrnGK5p1qnuUqces25uCUF/PUnSp9nN2T9FvPGv8AwUh/a%2BspvGNvq9p%2By18LbeJp/wC1PEVnBeeJ7%2BDH%2BsljmIh06PHXcVkQ93Br5v8AE/gv9jD4m%2BNJPBfw30741ftr%2BO7SUedLq3jS5Xw3ps3Yy3ieVbxR9wF81CONwr6g0D/gnV8Vv2n9ZtviT/wU7%2BLv/CXmKUT6Z8J/Cc8tl4Y0puq%2BYFIlvZF/vyHj5lJkXFfVngfwF4H%2BGXhm28F/Dnwfpeg6RZpttNL0ewjtreEf7McYCj8q445Ri8x96vdJ9anvTfpTv7KmuyanJddT63/Vjwy4bd80lLOsWt1zzp4KMu11y1K6T/5906NN9Kkl7z%2BG/hN/wSe%2BLHxAtRJ%2B0N4w8MfC/wAMzpiX4X/APR49LSeM/wDLO/1Tb9ou8jAdMspIJVhX158Av2Wv2ev2XPDQ8J/AL4SaN4ZtSgWeSwts3FzjoZp3zLMfd2Y131Fe3gsowGAfNTheX8z1l8nbReUVFeQs14yzvNMAsug4YfBp3WHw8I0KC7N06aSnJfz1ZVZ/3kFFFFemfKhRRRQAUUUUAFFFFABRRRQAUUUUAFFFFABRRRQAUUUUAFFFFABXjP7L/wDyW/8AaO/7LNY/%2BoV4Xr2avGf2X/8Akt/7R3/ZZrH/ANQrwvQB7NRRRQAUUUUAFFFFABRRRQAUUUUAFFFFABRRRQAUUUUAFFFFABRRRQB5/wDtV/Gq5/Zz/Zv8bfHHT9BTVbzwx4cur7T9MlmMUd3dKh8iF3AJRGlKKzgEqpJwcYrz/wCG37Q/x30bT/jF4D%2BMdn4S8QeM/hZpcGqWV74atpdE0zWba5057m3R0vLq5Nm4nguIXdp3TYiS/JuMaevfFz4WeDfjh8LPEXwb%2BIdhJdaF4p0W50rVoIZmika3niaN9jrho3AYlXUgqwBBBArzTwx%2Bw34L07wn408J%2BP8A4teNPHC/EixurL4g33iiXThca9ay2CafHBIbKyt1gjht0YRrbLDlppZJPMdy1AHG/wDBOn9sn4q/tUX/AIr0j4mLpU39iaF4f1OzvLTwFqvha43ajFdPJbvp2qzzXEsMX2dPK1FCLa6MkqxDNtITsX/xc%2BFHjn/gpt4L8BeCfid4e1jXfDHwe8cReJdF0rWoLi70l5NW8JeWtzDG5eAtsfAcKTtOOhrtP2f/ANlbSPgR4n1rx9qHxb8Y%2BOvEeuaLpmjXPiDxpPYtcRaZp7XT2lpGtjaW0QVJL27kMjI0sjTEvI4VAuZ44/5SF/C//sjPjz/07eEKAPNf%2BC0tjd2X7C%2BofFLTIGkvPh/4v0HxJZqn3g8GoQxkj0wkzn6A19V2F9aapYw6lYTCSC4iWWGRejowBBH1BFeT/t%2B%2BAv8AhZ37EfxX8EpB5k134A1RrRMZ3Tx2zyxf%2BRESpf2EPHv/AAs/9iz4VeOnn8ya/wDAGlG7fOc3CWsccv8A5EV68mn%2B7zyov56cX84ylF/hJH6Di/8AbPC3CVOuGxlen/27XoUq0flzUp/Ns9Yooor1j8%2BCiiigAooooAKKKKACiiigAooooAKKKKACiiigAooooAKKKKACiiigAooooAKKKKACiiigAooooAKKKKACiiigArxnxx/ykL%2BF/wD2Rnx5/wCnbwhXs1eM%2BOP%2BUhfwv/7Iz48/9O3hCgD2aiiigAry/wDa3%2BDfjP4z/DCwsfhreaZF4m8NeMNF8S6BHrc8kVldXGn38NybWeSKOR4kmjSSHzVjkMRkEgSTZsb1CigD5t8HfswfFdfgT8RfA/xc%2BGfgLxPqfxG1zUPE2q6KPGd/b6emoz3CeRYpdJp/nxRwW9vaFdQSMTfaEaRbeLC4810L/gk54mv/AIYeIru%2B%2BN2v%2BBvGmv8AjPV/FUdn4T8SJr9jb311oNtocUdxfeIdPurm/ZbS1Ja7aOKfde3ITapRR9uUUAeX/A39n3U/BH7IvhH9mv4oeO9Y1i80fwbY6PrGuaXrUmm3UskMKIxgudOW0kiVSu1HjETlFXdlixPN/wDBOnw9YeEv2br7wtpVxfS22nfFv4h21vLqeqT3ty6J4z1pQZbi4d5p3IHMkjs7HJZiSTXuleM/sH/8kQ1z/ss3xH/9TXW6APZqKKKACiiigAooooAKjvLy0060l1DULqOCCCNpJ55nCpGijJZieAAASSeleMftYft5fA79ktbPw34juL3xF421nCeGvh54WtzeaxqkrZCBYUyY0JB/ePgcHbuI2nw%2B%2B/Zh/aR/bP0%2BX4qf8FM/iPD8Pvhnaob2P4L%2BGdb%2Bz2y26/Nv1rUQymXAGWRCEBAYGMhlrzMTmUYVHRw8faVFuk7Rj5zltHvbWT6R6nk18zcsT9TwNN1q%2Bi5Y7Rb255Waje6tFKU5dIapnRfEL/gpB4u%2BNXi%2B9%2BB//BND4aQ/ErxDaS/Z9Y8fag7Q%2BFPD7H%2BKS6H/AB9uByI4T8w5VnwVrzTx18Ov2aP2MfF2mfHn9v8A%2BKeq/Hv49aqR/wAIj4YisBdPHMzfJDpOkp%2B7gjDjieQAbl3Ltc7T0OhftM/EL486ev7NP/BID4VaR4c8EaMzWWpfGPUtGFvoWl4OJE0y22j7fcZyd5BXdywKuJK9v/ZP/YC%2BDn7LV/d/EFrvUPGfxF1kFvEXxJ8WS/adUvnYfMqM2fs8XYRp/CFDM%2B0GvDhTxWa1VKMlUs/ja/cxf/TuH/L2S/nk3FPr0P0TDeHuVcNuGP49quriFaVPAU3yyT3i6z95YeO38RVMXJfBRoXUl5Iv7PP7c/7foGpftg%2BM5vhB8NLn5o/hL4G1HdqupQnkJqeoAfKpHDQxDBBwyoy5r6g%2BCXwC%2BDX7OHgeD4b/AAO%2BHOmeGtGt8EWmm2%2B0yvjHmSucvNIQOXcsx7muvor6DC5dh8LN1XedR7zlrL0XSK/uxUV67iz7jPN88wscDFRw%2BDi7xw9FclJPpKSu5Valt6tadWo%2BjgvdCiiiu8%2BSCiiigAooooAKKKKACiiigAooooAKKKKACiiigAooooAKKKKACiiigAooooAK8Z/Zf/5Lf%2B0d/wBlmsf/AFCvC9ezV4z%2By/8A8lv/AGjv%2ByzWP/qFeF6APZqKKKACiiigAooooAKKKKACiiigAooooAKKKKACiiigAooooAKKKKACiiigArxnxx/ykL%2BF/wD2Rnx5/wCnbwhXs1eM%2BOP%2BUhfwv/7Iz48/9O3hCgD1/VNNstZ0y40fUYRJb3cDwzxno6MpVh%2BIJr5Y/wCCLepXsP7BujfDfVpjJf8AgTxPrnhy%2BZuoeDUZmUH0wkqD6AV9XV8lf8E2v%2BKJ%2BP8A%2B1J8DD8v9lfGh/EUUP8Azzi1i1SdcDsv7o4HSvJxX7vNsNP%2BZVIffGM1%2BMWfoGQf7X4fZ3hetKWExC/7dq1cPN/%2BA143%2BR9a0UUV6x%2BfhRRRQAUUUUAFFFFABRRRQAUUUUAFFFFABRRRQAUUUUAFFFFABRRRQAUUUUAFFFFABRRRQAUUUUAFFFFABRRRQAV4z44/5SF/C/8A7Iz48/8ATt4Qr2avGfHH/KQv4X/9kZ8ef%2BnbwhQB7NRRRQAUUUUAFFFFABXjP7B//JENc/7LN8R//U11uvZq8Z/YP/5Ihrn/AGWb4j/%2BprrdAHs1FFFABRRXN/F74u/Dn4D/AA31b4t/FnxVbaN4f0S1NxqGoXTcIo4CqBy7sxCqigszMFAJIFTOcKcHObslq29kiKlSFKDnNpJK7b0SS3bZp%2BLPFvhbwH4bvfGPjfxHY6RpOnQNPf6nqd0kEFtGOrvI5CqPcmvkHWf2yP2mP279Wufh5/wTf8P/ANgeDUma21r49%2BLNNYWi4OHXSbSQBruQcjzHAQEEEJlXrN%2BF3wK8ef8ABUjxhb/tO/ti%2BHNR0j4RWsgm%2BFnweu7h4l1GMHKatqqIR5jOMGOE5UKe6Emb2n9q/wDbH%2BF/7F/hjRfhx4P8GN4i8ca5Gtl8Pfhd4XhVbm%2BYDamEQYtrVMfNIRtAVgoJBFeBXxVXF0HXqTdHD99VOa6W0vBS%2ByknUldW5bo5MkyfiLjzMKeCyyElCpflUdKk4pXc3KVlRpKKcpTk01BOcpU42OAtfh1%2Bxb/wSO%2BG9/8AHX4iazqPiLxxr0pivPFmuyf2h4m8V374/wBGtgx3Dc20eWm1AApkY431heEf2Rv2gv8AgoFqNp8Yf%2BCit9eaB4KNyt34Y%2BAOj3bRW8MYOYpdXmTD3M%2BMExfKEP8Acy8Vdh%2Byz%2Bw/45u/iXH%2B2T%2B3Vr1p4s%2BLVxF/xJdKgG7SPBNu3ItbCMkgyjOHn5JOdpJLSSfUlGFy1YqmlWp%2Bzor4aXf%2B9V11b35G2lvNylov1anmOR%2BGmE/s7haUZ4tXVTGRWkG/ihg%2BZXWrfPi2vbVXf2TpU/fnR8NeGfDngzQLPwp4Q0Cy0vS9PgWCw07TrZIYLeJRhUREAVFA6ADFXqKK%2BgSUVZbH5zOc6s3Obbk3dttttvVtttttvVtttvdhRRRTJCiiigAooooAKKKKACiiigAooooAKKKKACiiigAooooAKKKKACiiigAooooAKKKKACvGf2X/APkt/wC0d/2Wax/9QrwvXs1eM/sv/wDJb/2jv%2ByzWP8A6hXhegD2aiiigAooooAKKKKACiiigAooooAKKKKACiiigAooooAKKKKACiiigDN8Z%2BMfCvw78H6t8QPHOv2ulaJoWmz6hrGqXsoSGztYY2klmkY8KiIrMT2ANc18F/2i/hJ8f/D2p%2BJfhtrt80Oi332PWrTXvD99o97p83kR3AWe01CGG4h3QzRSqXjAeORXUlSDWP8AtqfCHxV8fP2TPiH8HfAr2o1vxB4UvLXR476UpbzXRjJiilYAlYncKjtg4VmODjB8i8OfCH45fGofHjV/G/wc174dyfGnwwPD%2Bj22p6rpd1NoiW2kPbLe3hsbyZN8s93MI1gaYiO0RpDEXCAA9y%2BB/wC0f8Kf2jNNutc%2BEl7rd7p1ssMkWqaj4Q1PTbS/hlDGKeynvLeKO/gcIWWa2aWMqVIbDqTyfjj/AJSF/C//ALIz48/9O3hCuE/4J3/Cv9o/4Y6hq%2Bn/ABP8NeNfD3heHwX4fsLXRPHnjqDXp5vEFuLtdTv7J4bq5FrYSxtYrHBuhUGFytrbDPmbV/4L8SeHv%2BCm3gvxFq3xc8Q67Z6t8HvHD2Gg6rbaclpooXVvCWUtmtrSKdw%2B4Z%2B0Szn5BtK/NkA%2Bh6%2BSvhf/AMW9/wCCzfxR8K/6tPiH8G9E8SeglewuW078SFb8q%2Bta%2BSf2lv8Ai3//AAVg/Z0%2BIA%2BSHxf4Z8T%2BFr%2BbsPKgS8gQ/wC9ISB7ivJzb3I0Kv8ALVh90m4P/wBLR%2BgeHv8AtFbM8v8A%2Bf8AgcUl/ipRp4mP40JW8z62ooor1j8/CiiigAooooAKKKKACiiigAooooAKKKKACiiigAooooAKKKKACiiigAooooAKKKKACiiigAooooAKKKKACiiigArxnxx/ykL%2BF/8A2Rnx5/6dvCFezV4z44/5SF/C/wD7Iz48/wDTt4QoA9mooooAK4748fGzw1%2Bz98OpfiJ4m0jU9U3alY6Zpmi6JDHJe6pqF7dRWlpaQLLJHH5kk80a7pHSNAS7uiKzDsa8v/a3%2BDfjP4z/AAwsLH4a3mmReJvDXjDRfEugR63PJFZXVxp9/Dcm1nkijkeJJo0kh81Y5DEZBIEk2bGAM2H9tj4ZL%2Bzvqv7QureE/Eunromvt4f1XwfdWdu2sQa3/aCadHpmyKd4GmlupYY43WYwOJ45BL5bb6g0z9se88R%2BEtQ1bwX%2Byz8Stb8Q6D4mk0LxZ4EsG0NdU0G7W0hvR9pkm1SOyZXtrq0mQw3MpdbqPAzuC8t4O/Zg%2BK6/An4i%2BB/i58M/AXifU/iNrmoeJtV0UeM7%2B309NRnuE8ixS6TT/Pijgt7e0K6gkYm%2B0I0i28WFx5tbfsN/tgfDP4BeKfA/wKn8I2Gt/Fr4nnX/AIoQ3nxV1szWWkf2Zaae1jp%2BuT6fdXk93NFp9uJL6eFJE%2B0XDRCNhC0YB9b/AAc%2BLHgz48fCXwz8bPh1ezXGgeLdBtNX0aa4t2ike2uIlljLxt8yNtYZU8g5B6V57%2Bwf/wAkQ1z/ALLN8R//AFNdbrsvC/wt024%2BAulfB7XfCUHhKzg8PW2mvoXgLxReW0OkxRRqi29lfW62lwkcaoESRFhbao%2BVelef/wDBOnw9YeEv2br7wtpVxfS22nfFv4h21vLqeqT3ty6J4z1pQZbi4d5p3IHMkjs7HJZiSTQB7pRRWX418a%2BEvhx4S1Hx5488Q2mk6NpFm91qepX0wjht4UGWdmPQAf4UpSjGLbdkhSlGEXKTskQfEj4keBfhB4E1X4m/EzxPa6NoOi2bXWp6neybY4I17nuSTgBQCzMQACSBXx38KPhz47/4KnfE7S/2ov2ivDV3o/wQ8PXouvhR8NdSTa/iKVchNa1KPoyEcxQnKlT3Qs08PgXwj4z/AOCuPxJsfjf8XtEvdH/Z08Naj9o8A%2BCr%2BMxS%2BN7qMkLql9GefsgOfLhPD9%2BC2/2n9t/9sNf2YPDOj/DT4R%2BFE8T/ABV8bSnTvh14KtgP3suMG6nAI8u1hHzOxKg7cZUbnT5yviKeOpvE19MNHVLrVd9Hbdxvbkja83ZtcvKnxZBkWaeIecUcHhKfNRk/di/dVTl951ajdlChTUXNuVouMXUn7ihGWd%2B2J%2B2v4i%2BF3jDTv2W/2W/A0fjb4zeJLMzaZohfFloNpnadR1GQEeVCuchMhnIAyNy7r37HH7C2k/s76jqPxo%2BLPi%2BXx78YPFKBvFnj7U0y4Bx/olmhGLa1TAUIoG4KMgAIiWv2HP2NYv2XvCup%2BL/iH4lPir4peN7kah8RPGtwMve3R5FvCSAUtos7Y0AAwM7VyFX3Wu3C4StiaqxeMXvfYh0pr8nNreXT4Y2Sbl%2BpZ7xBl%2BS4Cpw/w5L9y7KviEmp4qSd2k3aUMLGS/d0lZ1LKrX5pShTpFFFFeufnYUUUUAFFFFABRRRQAUUUUAFFFFABRRRQAUUUUAFFFFABRRRQAUUUUAFFFFABRRRQAUUUUAFFFFABXjP7L//ACW/9o7/ALLNY/8AqFeF69mrxn9l/wD5Lf8AtHf9lmsf/UK8L0AezUUUUAFFFFABRRRQAUUUUAFFFFABRRRQAUUUUAFFFFABRRRQAUUUUAFFFFABXjPjj/lIX8L/APsjPjz/ANO3hCvZq8U8e31nB/wUV%2BFNjNdRpNP8GPHxgjZgDJt1bweWwO%2BAc0bBdI9rr5K/4Kt/8Ug/wE%2BOcXy/8Ih8fdDF/N/csLvzYLjn3zGK%2Bta%2BYv8Agsh4Qu/Fv/BOP4jyaXlb7RbSz1mymUfNC9newTs4/wC2aOPxNeXncXLKazW8Y8y9YtTX/pJ954X1qdLxCyyFR2hVqqjL/DXjUoSv8q9/kj6dorH%2BHfi%2B0%2BIPw/0Lx7p%2BPI1vR7XUINp42TRLIMfgwrYr0oyU4qS2ep8PWo1MPWlSqK0otprs02mvk018goooqjMKKKKACiiigAooooAKKKKACiiigAooooAKKKKACiiigAooooAKKKKACiiigAooooAKKKKACiiigAooooAK8Z8cf8pC/hf/ANkZ8ef%2BnbwhXs1eM%2BOP%2BUhfwv8A%2ByM%2BPP8A07eEKAPZqKKKACiiigAooooAK8Z/YP8A%2BSIa5/2Wb4j/APqa63Xs1eM/sH/8kQ1z/ss3xH/9TXW6APZq%2BPv%2BClLv%2B0X8ZfhB/wAE79LcyWnjTxAPE3xEjQ8J4d0xvNMUnotxOqop/vxCvsEkAZJr4K/Zx%2BPHw5t/Fn7QP/BXr4z6o8XhKK%2B/4RH4fzpHveXRdPkWIm2H8X2y9Zdq5H7xTkgZI8XOqlOVKGGm7KbvJ9qcPem35NJR/wC3meXj8Hi86xeGyXCQdSriqkYKMVeUoppySS3c3yU1352u59L/ALW/7VXw1/Ym%2BDMXinU9Fa%2B1C5kj0rwP4L0eIC51m/YBILO3jQHC525IUhF6AnarcN%2Bw1%2ByN478HeINW/a9/azvYNY%2BNHjiADUGT5rbwvp/3otIsxkhEQY8xlJ3MOrYLvz37HP7PXxR%2BO3xYX/gof%2B2doDWnii8tWi%2BF/gC4JaLwVpL9HZSBm%2BmUgu5AZQcEKTsj%2BuKMLSqZhWji6ytCP8OD0t/fkv5mvhX2Iv8Amk7fr%2Bd43B8G5VU4cyqpGeIqJLGV4NNOzT%2Bq0ZLejTkl7acXbEVY2TdClBVCiiivaPzQKKKKACiiigAooooAKKKKACiiigAooooAKKKKACiiigAooooAKKKKACiiigAooooAKKKKACiiigAooooAK8Z/Zf8A%2BS3/ALR3/ZZrH/1CvC9ezV4z%2By//AMlv/aO/7LNY/wDqFeF6APZqKKKACiiigAooooAKKKKACiiigAooooAKKKKACiiigAooooAKKKKACivIv2%2BviF40%2BFH7FHxT%2BJHw81mTTNZ0XwNqN1ZavDGGfTSsDbrxQwKkwLumG4Fcx8gjIrzr4G%2BOdS/Z%2B1r9oTwp4dv/AB58RfC3wztNO1fQNNn1q%2B8S61LdS6MLu50m2nuZJrm6kfZbzxws7sG1AKu2MxooB9RV8Sf8FN/gr8Zfip%2B1h8HPGv7N3iZtN%2BIvw7%2BHHjjxN4QiZsQ6nNFqHhWKXT5skAxzwzSx4yAWKgkKSa0f%2BCUfxt8e/FHx98dtE%2BJ/jTx7rGs2fjbS9Qmg8XeEdd0qz0g3mhafNLp%2BnxatawGC2inaZY4QqyNHsnkUm48yT0O/8aeJPEP/AAU28F%2BHdW%2BEfiHQrPSfg944Sw17VbnTntNaDat4Sy9sttdyzoE2jP2iKA/ONob5sYYnDwxVCVKd0mt1o12afRppNeaObGYWnjcLOhNtKStdOzXVNPo00mvNet%2B0/Y5/ar8FftifA7T/AIu%2BE7aSwvPMey8S%2BH7rIudF1OLAuLOZSAQytyCQCyMrYGcDc/aY8A/8LV/Zy8ffDIQ%2BY3iHwZqmnImMktNaSRrj3ywx718xftT%2BHde/4J4ftHSf8FBvhXpFxcfDrxbPBZfHvwxp8RbyMtth1%2BGNeskbNiUAfMGJxmR3X7H8OeItB8YeHrHxX4W1e31DTNTs47rT760lDxXEEih0kRhwyspBBHUGuHCVp4mnUweJ/iRVpdpRaaU15SV7r7Mk49r58O5vjMJjoe1dsThpQlfZS5ZRlCovKTgrr7M1KP8ALfw3/glh49/4WT/wTv8AhF4k8/zDD4Nt9Nd85JayLWZz75gNe/18P/8ABOT4t6B%2Bx7rd9/wTc/aEsrnwj4hs/Feq3fw2udVULp3iTSrm7eaEWdxnY0oMjZiOGywABYMq/cFGS11WyylFv34JRkuqlFJNNbra/mmmrp3P0vxOyqeW8b42rTg1h8RUqV6Et41KNWcqkJQkrxkvfcXZ%2B7OMoyUZRcUUUUV6p8CFFFFABRRRQAUUUUAFFFFABRRRQAUUUUAFFFFABRRRQAUUUUAFFFFABRRRQAUUUUAFFFFABRRRQAUUUUAFeM%2BOP%2BUhfwv/AOyM%2BPP/AE7eEK9mrxnxx/ykL%2BF//ZGfHn/p28IUAezUUUUAFFFcd8ePjZ4a/Z%2B%2BHUvxE8TaRqeqbtSsdM0zRdEhjkvdU1C9uorS0tIFlkjj8ySeaNd0jpGgJd3RFZgAdjRXjsP7bHwyX9nfVf2hdW8J%2BJdPXRNfbw/qvg%2B6s7dtYg1v%2B0E06PTNkU7wNNLdSwxxusxgcTxyCXy231j3P7fvg%2BPQ4bSy%2BB3j288cyeNZvCsvwrtU0k65balFpq6rIsjtqAsFjGnvDdeb9rKFLiFQxlkWMgHvVeM/sH/8kQ1z/ss3xH/9TXW69C%2BD3xW8HfHT4V%2BHvjH8PruabRfE2kQajprXMBilWOVAwSSNuY5FyVdDyrKynkGvPf2D/wDkiGuf9lm%2BI/8A6mut0Ac9/wAFRvjp4g%2BCX7IWt2Xw/Lv4y8dXUHhDwTbQtiWXUtQYwqUPZ0jMsin%2B9GPWvDvjd8C/D%2Bg6/wDsqf8ABKrwcEn0jSb2PxT44Ma4W4sdJjMhaZf7l3ePJnj74HSu28Xf8ZZf8FZNE8EoftHhL9nPw5/bOrqOY5fEupLttY2HQmK3XzlPVXVh3NS/sT/8ZCft4fHr9sC4/faZoN/B8NfBc55C29hibUCh/iR7pkdSOOvWvksV/wAKGOa6TmqS/wAFN%2B0qv/t6SjD5WPpvC79znGbcWS%2BHL6E6dF/9P6jdCDXmqtWpNf8AYPfofXtFFFfWnzIUUUUAFFFFABRRRQAUUUUAFFFFABRRRQAUUUUAFFFFABRRRQAUUUUAFFFFABRRRQAUUUUAFFFFABRRRQAUUUUAFeM/sv8A/Jb/ANo7/ss1j/6hXhevZq8Z/Zf/AOS3/tHf9lmsf/UK8L0AezUUUUAFFFFABRRRQAUUUUAFFFFABRRRQAUUUUAFFFFABRRRQAUUUUARXtlZ6lZy6dqNpFcW9xE0c8E0YdJEYYZWU8EEEgg8EGuU%2BHP7PPwB%2BD2n2Gk/CP4HeD/C1rpctzJplt4c8M2tjHZvcBBcNEsMaiMyhE3lcF9i7s4FdhRQBQ0rwr4X0LVtT17RPDdhZ32t3MdxrN7a2aRy38yQpCkkzqAZXWKOOMMxJCRqo4UAeUeOP%2BUhfwv/AOyM%2BPP/AE7eEK9mrxnxx/ykL%2BF//ZGfHn/p28IUAet6/oGieKtCvfDHiXSre/07UbSS2v7G7iDxXEMilXjdTwyspIIPUGvjT9mLX9a/4JzftJRfsC/E3Vbib4ZeNbqe9%2BA/iS/lLCylZt8/h%2BaRv4lZt0JJy24DJMgRPtavL/2wP2WPA37YfwN1P4OeNJpLKaRlu/D%2Bu2oxc6NqUWTb3kLAghkbqARuVmXI3V5uYYWrU5cRh/4sNu0k/ig/KXR/Zkoy738jNMFWq8uKwv8AGp35eikn8VOT7Sto/syUZd73/wBpT9l74K/ta/Daf4W/G/wfFqdg7eZZXSHy7rTrgD5bi2mHzQyr6jgjKsGUlT80eHv2g/2hv%2BCaGu2fwu/ba1e/8c/CK5uEtfCvxuhtmku9IDHbHa61GuT6KLkZ3cZ3FiI5vhb/AMFK/E/7NGh6Z8H/APgpx8M/E/gvxDpx/s9/ibHor3fhzX2RikdytzbhvKkkUKzIUAUsSdgO1fqjw34v%2BC/7Rvw7mvPCniPw5428Lavbvb3LWVzBf2V1Gy4eJwpZGBBwUb6EVwqWEzKp7bCVPZ4hLVNWf%2BGpB2cl57reE%2Bj%2B54Q8RMDLAvJ8xh9ZwUnzSoSfJWozejqUJSXNRqrrZSo1bKNWM01OO/oOvaH4p0W08SeGdZtdR06/t0nsb%2BxuFlhuImGVkR1JVlIIIIJBBq3XxRq/7P37R3/BNLxDcfEH9ivRNT%2BIHwfu7tp/EfwTkuGmv9E3Nl7nRXbLMMkk2xyWOcbiwaP1D4Lf8FTf2KPjRrP/AAhyfFhfCPidHEdx4U%2BIFo%2BjX8Mp6RFbjCO/%2BzG7muqjmtJT9ji7UqnZvSXnCTspJ9rqS2cb6v3sz4Ax88M8y4ecsdgrX56cG6lLvHEUYuc6U49ZcsqM/ip1XF8sfoeikjkjmjWWKRWRlBVlOQQehBpa9Y/P9gooooAKKKKACiiigAooooAKKKKACiiigAooooAKKKKACiiigAooooAKKKKACiiigAooooAKKKKACvGfHH/KQv4X/wDZGfHn/p28IV7NXjPjj/lIX8L/APsjPjz/ANO3hCgD2aiiigAry/8Aa3%2BDfjP4z/DCwsfhreaZF4m8NeMNF8S6BHrc8kVldXGn38NybWeSKOR4kmjSSHzVjkMRkEgSTZsb1CigD5t8HfswfFdfgT8RfA/xc%2BGfgLxPqfxG1zUPE2q6KPGd/b6emoz3CeRYpdJp/nxRwW9vaFdQSMTfaEaRbeLC48%2B%2BGX/BPv46/Auey%2BPHwxsvCNz8Q5PijqXinWPCev8Aj/V7vTJLW80G30U2v9t3NpcX1xOqWNldG6mtiZJPPj2Ro6NH9p0UAeVfAL9miL4Y/sleHf2afGvii9vZrLQVttd1fw7qt3pMk927GW5ltpraWO4tlMzyFNkgdUIBY8k%2Bffsi%2BLfBH7NH7DfjDxr4g1G%2B/sDwR8QfiZc3E%2BparPe3T29t4v1w4e4uXea4lYIBvkdndjklmOT9LV%2Bbnxcv7342fCjwV/wT08NXUgn%2BLX7SXxDuPFxt3Ia38N6d431m6vCSOULssaoTgMUZec1xZjiZYTBzqQV5bRXeUnyxX/gTXyTPOzXGSwGXzrQV57RXecmowXzk1fyTO3/Zl8V67%2ByH/wAEwPiD%2B3p8VY44vHHxFTUfHmomYcfar47NLtRu5EeHtgF/h85gBXvn/BN/4C3X7OH7FfgL4b61C66y%2BjjU/EbzZMrajeMbm4Dk8syvKY8ntGK8t/4KM2Nl8YPi78BP2A9BtI107xP4wXxB4rsoEAjj0HR084wOo4WOWTai/wC1EBX2FXmZZho08a4p3VCCpp95y9%2Bo/V3jf1P0iWDjwr4V5dlUX%2B8xlSWJm%2Brp0eahRb/x1ZYqt9zCiiivoD4gKKKKACiiigAooooAKKKKACiiigAooooAKKKKACiiigAooooAKKKKACiiigAooooAKKKKACiiigAooooAKKKKACvGf2X/APkt/wC0d/2Wax/9QrwvXs1eM/sv/wDJb/2jv%2ByzWP8A6hXhegD2aiiigAooooAKKKKACiiigAooooAKKKKACiiigAooooAKKKKACiiigAorjv2g/jNoX7O/wO8WfHPxJpl1fWfhTQLnUpNPsdvn3jRRlkt4txC%2BZIwWNdxA3OMkDJrkvgj%2B0R8TviM3j3wD4/8Ag1peg/ELwG1ubjw5pXi5tR0%2B/jurMXNnJDfSWluwV2EsD77dTHJBJgOmx3APXq8Z8cf8pC/hf/2Rnx5/6dvCFXP2d/2hfH/xO%2BInjf4NfF34XaP4a8U%2BBk0ufUF8M%2BLJNb06aC/ilkhC3MtnZyLOvkOZIWhG1XhcMyyjFPxx/wApC/hf/wBkZ8ef%2BnbwhQB7NRRRQBBqmlaXrmnT6PrWm295aXMZjubW6hWSOVDwVZWBDA%2Bhr5i%2BIv8AwSW/ZzvfE83xN/Zs13xH8E/GEnP9tfDLU2sreYg5Cz2X%2BokjyTlFVN2eTX1JRXLisFhMYkq8FK2z6r0as18mjixmXYHMIpYimpW2b3XmpK0ov0kj4%2BXx9/wVg/ZRYQ/Ej4aeHf2h/CkBw2veDCujeI44x1eWyfMM7dMRwcnPLVzfxN/4KA/8Evv2gIovh/8AtyfBTWfB1/IDFb6d8Y/hrcWs8Ld/KuESQQd/mEifWvuWqmuaBoXifTJdE8SaLaahZTjE1pfWyyxSD0ZHBB/EVwVMsxUYOFKtzQf2asVUXpfSX383qZYKnxBkmJjiMpx86c46x5rtx/w1ISp1V/4FL57P4f8Ahl%2Bxv8LXgPiD/glN/wAFJ9T8KxIPMj8KWnia38U6Ag67DZzyM8JPQsWZl9Miuwj/AGj/APgqH%2Bz432D9oH9jPR/ilpcXH/CVfBvWtlwVHQvp13iR5COT5ZVQRgdRXY/FH/gk5/wT5%2BK92dW1X9mrRNG1EPvh1Pwg0ujzRSf89B9jaNS3fLKea5Bf%2BCa3x7%2BGJz%2By5/wUx%2BK/hmFf9TpnjVLbxRZwjskcd0E2J7ZJrzPqGY4P%2BBTcf%2BvVT3f/AAVWXL/4DKJ9z/xFHi7Erl4lyzD5mv52%2BSv6%2B2iqFZv/ABzrebfW/wCHf%2BCyP7GJ1WLwz8ZLvxh8K9ZlOBpHxM8G3enSA9wXVZIlx6s4r6B%2BGnxw%2BDHxn0/%2B1PhD8WfDfii327ml8P63BeBR/teU7bfocYr5j8RfDr/gsNoWkyaDrOvfs/fGHRWGLiy8VaBd6bdXI9ki3W4P%2B9xXz78S/wBnW1uNQ/tr45/8EKtV0O%2BhcvF4n%2BAfjyBpg3eSK0s2h2nrw4JNH9q5thv4sOZf3qc4P/wKn7aH4JC/1i8Jsf8A71hcwy6XdRhjKS/CnVt/29J%2Bux%2Bo9FfkjH%2B0LoPwUIi8L/8ABQj9qb4MrEfl0v47fCx/EENt/wBM8FGKp2GMkD1rvfA3/BT/APabsNg8M/tl/ssfE%2By42pr2pXnhPVJz2AFyI7dSfQ960p8VYJy5akWn5ShL8OaEv/JTSllPBWZS5cq4lwVST2hWlVwdT5rEUuS//cT5o/TGivi7wf8A8FVfjXHb/afiV/wTy8ZX1vGMy6h8IvE%2BneMIiv8Az0AtHUqvfBOQK6TSv%2BC0X7Ba3yaN8RvG/iPwJqMhwNP8a%2BCtQs5Ae4LLE6Lj3avRhn2USScqqj/iTh/6UkvxZ6f/ABDDjqrT9pg8G8VD%2BbDTpYmNu98PWqu3/biPq2ivLvh/%2B29%2Bx18VNkfw%2B/ai8BapNJjbaQeKrUT8%2BsTOHH4rXp1vcQXcCXNrOkkbqGSSNgysPUEda9KlXoV481KakvJp/k2fI4/Ks0ymr7LHYepRl2qQnB/dOEX%2BY%2BiiitTgCiiigAooooAKKKKACiiigAooooAKKKKACiiigAooooAKKKKACvGfHH/KQv4X/wDZGfHn/p28IV7NXjPjj/lIX8L/APsjPjz/ANO3hCgD2aiiigAooooAKKKKACvz%2B/4JK/CrxF43/ao/aD/aj8cxM9r4c%2BLXjTwJ4BWRMeTar4q1O/v3XPXdcXCgMPSRfWv0Br5V%2BGHxk0P9mD9gD4q/HS4t4I18OfEj4o6hFEVCi4u/%2BEz1sQofUyTNGmfVhXFjadFqNaq7RpNzfyjK33Xb9bBRyWvn2aYTC0E5VHVioR/mnL93BfKU7%2BuvQzP2Sf8AjIj/AIKNfHL9qif9/pHgaO2%2BGfg%2BY8qGtyLnUyO2RcsgDDqrkV9e14F/wTD%2BB%2BpfAX9iPwR4b8TCRvEGs2DeIPE804/eyahfsbqTzPV0EixH/rkK99rHKKU6eAjOorTnecvWb5rfJOMfkfceIuOwuL4srYfCS5sPhVDDUmtnTw8VSUl/jnGrU/7iXCiiivTPhwooooAKKKKACiiigAooooAKKKKACiiigAooooAKKKKACiiigAooooAKKKKACiiigAooooAKKKKACiiigAooooAK8Z/Zf/5Lf%2B0d/wBlmsf/AFCvC9ezV4z%2By/8A8lv/AGjv%2ByzWP/qFeF6APZqKKKACiiigAooooAKKKKACiiigAooooAKKKKACiiigAooooAKKKKAOO/aE%2BDOh/tE/A3xZ8DPEmqXVhZ%2BK9AudNk1Cx2%2BfZtLGVS4j3Ar5kbFZF3AjcgyCMiuB%2BE/7N/x8%2BH2p%2BNPiJ4h%2BP3hjV/HHjmILqWt2/wAPJ7WytTbWKW2mpb2h1ORlihk8%2BeZXmkad7hwr26hQPb6KAPFf2I/2aPin%2By94A1Lwb8U/i74c8b3%2Bp6idT1HxPpXgm50nUNX1GUH7Vfag82pXguZZMRKojEMcMcSxRoIkjSPCv/hH8KPA3/BTbwX498E/DHw9o%2Bu%2BJ/g944l8S61pWiwW93qzx6t4S8trmaNA85Xe%2BC5YjccdTX0PXjPjj/lIX8L/APsjPjz/ANO3hCgD2aiiigAooooAKKKKACiiigAooooARlVlKsAQRgg964Txz%2Byz%2BzL8Td5%2BI37O/gfXWk%2B/Jq/hSzuGJ9dzxkg%2B%2Bc13lFZ1KVKrHlqRTXmk/wA0zKrRo148tWKkuzSa/FM%2BY/F//BG//gm34yuPt0/7MenaZdBt0Vz4e1W905om9VFvMi/mCK53Vf8AgjX8HBYvpvgX9qT48eF7Zh/x46T8S5HtiOwaK4jkDL7E19fUV588kyebb9hFX7Ll/wDSXE8z/V/JFU9pHDxjLvFOD%2B%2BDg/xPzn8ff8G/8XiNZT4e/a0QSSdbjxN8JdG1K4f2acLFIfrnNebn/ggx%2B2X8MVkk/Z8/ag8JaZcliy3tpfa7oshb%2B9i2uJUX8FxX6wUV51XhHIakuZU3F91KSf5s%2BtwPEfF%2BV0vZYLOMbTh/KsXXlD/wXVnXpteTg15H5V2H7H//AAcG/CC1CeC/2oj4imiHyST%2BPo9QRiP9nVLPJ/E1qab8bf8Ag5I%2BFaF/Fn7PPh3xesfR57TS5vNHrjT7yFh/3yK/UCipjwxCl/AxdeH/AHEuvukma1OKeK69/b4uNW//AD9wuCqN/wDb31WjL7pI/NnT/wDgrR/wVL8C4X4vf8EjvE%2BpBP8AXTeHLDU4Ix77hb3Sj8TW1Yf8HAGg%2BHsf8Lq/YN%2BLnhjb/rvI09Z9nr/rxb/riv0MoraOVZ1S%2BDHyf%2BKnTl%2BXKzzauZZjW%2BKlhn6UJU//AE1ibf8AkqPiDwj/AMHB/wDwTk8Rsqa74n8WeHGJw6614Ulcoff7KZv0zXpvhD/gr7/wTY8byLFo37Wvh2At0Orw3Wnj8TdRRgfjXv8Ar/grwb4qQx%2BKPCWmakpGCt/YRzAj/gamuD1v9iX9jPxJK0/iH9kn4ZX0j/eluvAmnyMffcYc5rZUeI6f/L6lL1pzj/6TNnnVKuYyu40qV/J10vxdR/iLof7bH7GviaRYfDv7Wnwzvnf7sdp470%2BRj7bRNnPtXoWieIdA8S2K6n4c1yz1C2f7txY3KSofoykivAPFn/BJL/gm/wCNJGl1j9kbwtCW6jSUmsB%2BAtZIwK4bxL/wQc/4Jm63Dt0X4LapoM3a60jxjqJcfQTzyqPyqva8QQvelSl6TnH/ANKgzBzzaytTp36%2B/NL5fu2z7Eor4dh/4IQfATw8rN8N/wBqr47eGX/5ZrpfjqJY1/AWwY/99VSv/wDgj/8AtNaUcfDX/gr58bdLRf8AVxatqNzfIP8AgK3kSn8ql4/OYL3sFf8Aw1YP81E3gsylKyhTt51XH/0qiz7vor8/Lz/gnn/wWA8LZHw//wCCscupBfuf8JBoTLn67vtH9ay7z4B/8HGXhHJ0f9s34beIIl%2B5E%2BnWgc/Uy6Un/oZrJ53i6fx4Gt8uSX5TO2ngs2q/DSpv0xOHX/pbpn6L0V%2Bal34n/wCDlTwgcjwB4D8TKn3mhk0ldw9cG4gJ/AVm3/7cf/BwR4I%2BTXP2CfDuqBfvtb%2BGbm4Y/Q2mpMD%2BVZvifDw/iYevH1pSf5NndTyDias7U8FKf%2BCthJ/ljYv8D9PaK/LIf8Fgv%2BCsfhhj/wALG/4JsT2SJ96WTwX4gt0PuG2yjFVNS/4OJfjZ4IQt8Qf2LrGEr99W1vUbI/8AkbTyBWb4xyOC/eSnH/FTmvzR1x4R45qStDJcZN/3MPKr/wCmalY/Viivy88Nf8HJUetor337HdnbA9T/AMLfsFP5TW8ZrsdK/wCDhH4eXRVNS/Ztu1Zv%2BWen/EnQrlz9F89Sa1p8W8PVNq6%2B6S/Q4cVkvE2BbWKyrG02v5sFjF/7rSP0Sor4c0L/AILm/DPWNvl/safG283dD4f8PWWog/Tyrvmuqtf%2BCwnwvkhFzqP7Hn7RdhGf47v4US4H4pM1dcOIMmqL3ay%2B6X/yB89iM2wODly4lypvtOnWh/6XQifXNeM%2BOP8AlIX8L/8AsjPjz/07eEK8w/4fOfsnWv8AyH/BHxV0rH3v7R%2BGl8u367VaqnwU/bb/AGfv2xf%2BChfgxPgbruqXcnhv4M%2BMv7Xi1Tw/d2DQ/aNW8K%2BVj7RGm/PkSZ25xgZxkZ6KGa5biaqp0q0XJ7K%2Bv3NInDZ3k%2BLrKjRrxlN7JPV9dml0PsCiiivQPUCuO%2BPHxs8Nfs/fDqX4ieJtI1PVN2pWOmaZouiQxyXuqahe3UVpaWkCyyRx%2BZJPNGu6R0jQEu7oisw7GvL/ANrf4N%2BM/jP8MLCx%2BGt5pkXibw14w0XxLoEetzyRWV1caffw3JtZ5Io5HiSaNJIfNWOQxGQSBJNmxgDM/wCG3Phda/s2a9%2B0rr3hfxHpdt4Y1O40nX/Ct7a2/wDa1lqsN4LM2DLHO1uZGnaNUkE5gZZUl83y231zf/DxjwXLaQ6NY/AH4h3HjWTxxeeFJPhyg0ZdThv7XTE1WYtcPqS6c0a2UsMu5LtifMCAeYronNaj%2ByB%2B0Z4n/Zf%2BJXwq16XwVbeIvib4ln8Ta3FBrl3PpkskuoQtJoMhazSRrKXTbWKzlvAokY3E7rbJhVPncn/BMr4m/wDCEQaNe/AT4G6t4VHxO1HxIn7Oeo6ncDwXpttcaNb2EaW8/wDZL5kS6iur/Z/Z6QmXUp8KsiLOwB9lfBb4teD/AI%2BfCDwt8cPh9LcvoXjDw/Z6zo73lsYZTbXMKzR70PKttcZHY9z1r4D%2BKhb42%2BBfhl%2BwdYkyx/Er9qP4h6n4tt15DaBpPjTWru5R/wC7vYRbSeC0ZHJr7S%2BBv7P2seCv2SPCn7N3xX8e6prV9pHhCz0jWde0bXb7T7meSKJVZobuGZLqMArhZPNEpUDcxJYn4w/4I/8AwzuvFv7YHxs%2BJd%2BL%2BfQ/hF408W/D3wVPquqXF9NI03izVdRvJZJ7l3llnXzYkaWR3kcSZZiSa8nN061CGFX/AC9kov8Awr3p/fGNv%2B3j9A8OqlPLczxOeTdngaFStDzrStQw9vONWt7Ty9kn00/R5VVVCqoAAwAB0paKK9Y/PwooooAKKKKACiiigAooooAKKKKACiiigAooooAKKKKACiiigAooooAKKKKACiiigAooooAKKKKACiiigAooooAKKKKACvGf2X/%2BS3/tHf8AZZrH/wBQrwvXs1eM/sv/APJb/wBo7/ss1j/6hXhegD2aiiigAooooAKKKKACiiigAooooAKKKKACiiigAooooAKKKKACiiigAooooAK8Z8cf8pC/hf8A9kZ8ef8Ap28IV7NXzh%2B0fq/xr0f9vD4Tz/A74f8AhbxFqTfCPx2t3aeK/GFzosEcH9qeEiXSW30%2B9Z33bRsMajBJ35AUgH0fRXjP/Ccf8FC/%2BjX/AIM/%2BH41b/5l6P8AhOP%2BChf/AEa/8Gf/AA/Grf8AzL0AezUV4z/wnH/BQv8A6Nf%2BDP8A4fjVv/mXo/4Tj/goX/0a/wDBn/w/Grf/ADL0AezUV84/G79o79u34D/Bjxf8cfFX7KHwkutL8GeF9Q13UrbT/jrqjTzQWltJcSJGH8MKpcrGQoZlGSMkDmuo/wCE4/4KF/8ARr/wZ/8AD8at/wDMvQB7NRXjP/Ccf8FC/wDo1/4M/wDh%2BNW/%2BZej/hOP%2BChf/Rr/AMGf/D8at/8AMvQB7NRXjP8AwnH/AAUL/wCjX/gz/wCH41b/AOZej/hOP%2BChf/Rr/wAGf/D8at/8y9AHs1FfOOk/tHft26x8Z9f%2BB1v%2Byh8JF1Tw74X0jXby5f466p5EkGo3OpW8KIR4Y3F1bS5ywKgAPHgsSwXqP%2BE4/wCChf8A0a/8Gf8Aw/Grf/MvQB7NRXjP/Ccf8FC/%2BjX/AIM/%2BH41b/5l6P8AhOP%2BChf/AEa/8Gf/AA/Grf8AzL0AezUV4z/wnH/BQv8A6Nf%2BDP8A4fjVv/mXrl/i7%2B0d%2B3b8GvClp4v8R/sofCS5t7zxRomhRx2Xx11RnE%2Bqara6ZA53eGFGxZruNnOchFYgMcKQD6Oorxn/AITj/goX/wBGv/Bn/wAPxq3/AMy9H/Ccf8FC/wDo1/4M/wDh%2BNW/%2BZegD2aivGf%2BE4/4KF/9Gv8AwZ/8Pxq3/wAy9H/Ccf8ABQv/AKNf%2BDP/AIfjVv8A5l6APZqK8Z/4Tj/goX/0a/8ABn/w/Grf/MvXL%2BAf2jv27fiJ4r8b%2BENH/ZQ%2BEkNx4D8URaFqslz8ddUCTzyaVp%2Bph4tvhgkp5OowqSwU70cYwAzAH0dRXjP/AAnH/BQv/o1/4M/%2BH41b/wCZej/hOP8AgoX/ANGv/Bn/AMPxq3/zL0AezUV4z/wnH/BQv/o1/wCDP/h%2BNW/%2BZej/AITj/goX/wBGv/Bn/wAPxq3/AMy9AHs1FfOPj79o79u34d%2BK/BHhDWP2UPhJNcePPFEuhaVJbfHXVCkE8elahqZeXd4YBCeTp0ygqGO90GMEsvUf8Jx/wUL/AOjX/gz/AOH41b/5l6APZqK8Z/4Tj/goX/0a/wDBn/w/Grf/ADL0f8Jx/wAFC/8Ao1/4M/8Ah%2BNW/wDmXoA9moIBGCK8Z/4Tj/goX/0a/wDBn/w/Grf/ADL0f8Jx/wAFC/8Ao1/4M/8Ah%2BNW/wDmXoA9H134U/C7xTu/4Sb4baBqO7732/R4Js/Xepri9d/Yb/Ys8T5PiD9kf4Z3bN1km8DWBf8A768rI/OuE%2BEX7R37dvxl8KXfi/w5%2Byh8JLa3s/FGt6FJHe/HXVFcz6Xqt1pk7jb4YYbGmtJGQ5yUZSQpyo6j/hOP%2BChf/Rr/AMGf/D8at/8AMvWFTC4ar8dOL9Yxf5pnqYTPM8wH%2B64urT/wVasf/SakTn9d/wCCT3/BOXxFu/tD9kXwlHu6/YLaS1/LyXTFctd/8ERv%2BCajzm80f4BXek3B/wCW%2BleNNXhYfQfaio/KvSf%2BE4/4KF/9Gv8AwZ/8Pxq3/wAy9H/Ccf8ABQv/AKNf%2BDP/AIfjVv8A5l6455Lk9R3lh4P/ALcj/kj6PD%2BJniPhI8tHOcVFdvrFZr7nOS%2B%2B55j/AMObv2bdP/5E34wfGTw5j7n9ifE%2B8TZ9N%2B%2BqfwU/ZMg/Zb/4KF%2BDIrT9on4p%2BO4db%2BDPjLy4PiV4vOqrpnk6t4V4tcxoYhJ5o39d3lR9Ntetf8Jx/wAFC/8Ao1/4M/8Ah%2BNW/wDmXrivDmvftGaz/wAFEfh6vx3%2BFfgnw3HH8FvHH9mP4R8f3mttOx1fwlvEouNKsfJAATBUybtxyF2jddDKcuw1VVKNJRa7XX4c1vwMM08QOM88wE8HmGNnWpztdTVNt2aa972KmtUnpUV9ndXT%2Bm6KKK9A%2BPCiiigAooooAK8B/wCCcngbw/4N%2BDXjW%2B0S18ubX/j98StT1SQ9ZrhvGOrQ7j9I4YkHsgr36vkr9krxZ%2B2dp/w98UWfwx%2BAfww1fQk%2BNPxF/s/Ude%2BLuo6bdzL/AMJnrJYyW0WgXKRENuAAmfIAOQTtCcYtptao0jWqwpyhGTSla672d1fvZ6rz1PrWivGf%2BE4/4KF/9Gv/AAZ/8Pxq3/zL0f8ACcf8FC/%2BjX/gz/4fjVv/AJl6ZmezUV4z/wAJx/wUL/6Nf%2BDP/h%2BNW/8AmXo/4Tj/AIKF/wDRr/wZ/wDD8at/8y9AHs1FfOPj79o79u34d%2BK/BHhDWP2UPhJNcePPFEuhaVJbfHXVCkE8elahqZeXd4YBCeTp0ygqGO90GMEsvUf8Jx/wUL/6Nf8Agz/4fjVv/mXoA9morxn/AITj/goX/wBGv/Bn/wAPxq3/AMy9H/Ccf8FC/wDo1/4M/wDh%2BNW/%2BZegD2aivGf%2BE4/4KF/9Gv8AwZ/8Pxq3/wAy9H/Ccf8ABQv/AKNf%2BDP/AIfjVv8A5l6APZqK%2Bcfgj%2B0d%2B3b8ePgx4Q%2BOPhX9lD4SWul%2BM/C%2Bn67pttqHx11RZ4YLu2juI0kCeGGUOFkAYKzDIOCRzXUf8Jx/wUL/AOjX/gz/AOH41b/5l6APZqK8Z/4Tj/goX/0a/wDBn/w/Grf/ADL0f8Jx/wAFC/8Ao1/4M/8Ah%2BNW/wDmXoA9morxn/hOP%2BChf/Rr/wAGf/D8at/8y9cvq37R37duj/GfQPgdcfsofCRtU8ReF9X12zuU%2BOuqeRHBp1zptvMjk%2BGNwdm1SAqApBCSZKkKGAPo6ivGf%2BE4/wCChf8A0a/8Gf8Aw/Grf/MvR/wnH/BQv/o1/wCDP/h%2BNW/%2BZegD2aivGf8AhOP%2BChf/AEa/8Gf/AA/Grf8AzL0f8Jx/wUL/AOjX/gz/AOH41b/5l6APZqK%2Bcfjd%2B0d%2B3b8B/gx4v%2BOPir9lD4SXWl%2BDPC%2Boa7qVtp/x11Rp5oLS2kuJEjD%2BGFUuVjIUMyjJGSBzXUf8Jx/wUL/6Nf8Agz/4fjVv/mXoA9morxn/AITj/goX/wBGv/Bn/wAPxq3/AMy9H/Ccf8FC/wDo1/4M/wDh%2BNW/%2BZegD2aivGf%2BE4/4KF/9Gv8AwZ/8Pxq3/wAy9H/Ccf8ABQv/AKNf%2BDP/AIfjVv8A5l6APZqK%2BcdJ/aO/bt1j4z6/8Drf9lD4SLqnh3wvpGu3ly/x11TyJINRudSt4UQjwxuLq2lzlgVAAePBYlgvUf8ACcf8FC/%2BjX/gz/4fjVv/AJl6APZqK8Z/4Tj/AIKF/wDRr/wZ/wDD8at/8y9H/Ccf8FC/%2BjX/AIM/%2BH41b/5l6APZqK8Z/wCE4/4KF/8ARr/wZ/8AD8at/wDMvXL/ABd/aO/bt%2BDXhS08X%2BI/2UPhJc2954o0TQo47L466ozifVNVtdMgc7vDCjYs13GznOQisQGOFIB9HUV4z/wnH/BQv/o1/wCDP/h%2BNW/%2BZej/AITj/goX/wBGv/Bn/wAPxq3/AMy9AHs1FeM/8Jx/wUL/AOjX/gz/AOH41b/5l6P%2BE4/4KF/9Gv8AwZ/8Pxq3/wAy9AHs1eM/sv8A/Jb/ANo7/ss1j/6hXhej/hOP%2BChf/Rr/AMGf/D8at/8AMvWH%2BwzqHxJ1P4hftDXnxb8J6Homut8abT7Xp3hzxDNqlpGo8GeGAhS5mtLR3JXaSDCu0kgFgNxAPoKiiigAooooAKKKKACiiigAooooAKKKKACiiigAooooAKKKKACiiigAooooAK%2BV/wBp79rT4ufDD4x%2BLNa8A%2BHfB8nhj4P%2BH/D9741OtaRcTarqlvq9/KlzBYXEdxGll5FtZx3GZIpxcyFIyIfL80/VFeM/Gf8AYh%2BHHxu%2BKR%2BJmueOfFWlxaja6Ra%2BL/DWjXVqmneKYNLvZL2xivllt5Jgsc00ufs8sBljkMUxljCoAD2aiiigAooooA5j4xaH8QfE3w9v/D3wz1bwxY6neqsLXPjHQJdU05bdmAnEtpFcWzTgx71C%2BcgyRkkAg8d%2BxX8cPGP7Q/wFtviX42i0ia4fXtXsLPWvD1tLBp2vWdpqFxa2%2BqWkU0krx29zFEk6AySjbICkkqFZG2P2ov2fdP8A2pvgdrfwH1r4leKPCmn%2BII4odT1TwfcWsV7JbLKryW266t54zFMqmKVTGd8UjrkbjW18Ifh3f/CnwDY%2BA774iax4oGnp5dvqet2Om20ywjiOER6baWtuiIoCqEhXCgZJPNAHTUUUUAFFFFAHzZ8I/wBrTxb8V/29NU%2BGHh3wdoEfw9m8CanJo/igW0n9qazfaRqlrZ3Eiy79n2BJr%2B4gjUpuaW2mlVzHKm76TrxTwT/wTu/Y2%2BGH7Sdl%2B1X8Lf2ffCPhfxZZaDf6Ws3hzwpp1kkv2yaGWa6cw26ytc4iMYk3j93PMpB35HtdABRRRQAV4H%2B3x%2B01cfs%2BeHvAnhfQ7TTm1r4g%2BOY9H0i81Xwhf%2BIYtPe3srrVGuRpenFbq/lUWG2OGFkcSSJIWVInI98rhPjv8BNG%2BOthoMkvjTXPDGt%2BFNe/tjwt4p8NfZDe6Xdm1uLOR41vLe4t3D213cwsssLqVmJADKrKAXfgL8QLf4qfBvw58Qrbx3o3iddV0yOZ9e8P6ZNY2d4/Id47aeWWW2%2BYEGGSR3jYFGJZTXXVyfwO%2BDfhL9n/AOFulfCXwTPfT2GlrMxvNTuBLdXlxNM89xczOFUNLLPLLK5VVXdIdqqMAdZQAUUUUAR3k8ltZy3MUQdo42ZUZwoYgZxk8D69q%2BRP%2BCan7bfxV/am8XavpvxI8OeHbJ77wLoviucaX4J1HQZra8vGngktFa/nlGvW8SWsSJrFpttJgqiPIKhfrbWNI03xBpF1oOsWiz2d7bPb3UDk4kjdSrKcc4IJFeR/s2/sU%2BDf2bddg8R2nxU8Z%2BLrrTPCFr4V8NP4wu7J/wCw9Et33x2UH2S1tzICRHumuPOnfyY90pwcgHstFFFABRRRQB8c6b%2B1V%2B1PqOo3XwX8UD4ZXPxHH7R5%2BH/hLxPD4PvhpGnQjwcviOa9ls31AzzTLafbrYeXcwCRmjJ8tWdT75%2ByR8Z/Enx5%2BB9r448baXY2evWPiDXfDviGLSw4tX1HR9XvNJupYBIzOsMk9lJJGrMzKjqCzEEnzTTP%2BCa%2BmWWp%2BJPEeofte/FnUNZ17x5b%2BNLDW7mPw3HcaDrsVhHpv2yzEGjRxnfYRi0eK4SeJonf5N7s59p%2BB3wb8KfAH4X6b8KvBlzfXNpp73E01/qk6y3d/d3NxJc3V3O6qqtNPcTTTOVVVLythVGAADrKKKKACvF/2yfi78cPgla%2BAfGPwsvfCn9jah8TPDnh7xfY%2BINFubm6ubXVdZsdNBs5YbqFLaSNbmWTfIk6koi7OSa9oryr9q79lt/2qvDeheF5/j7438DW%2BheJLDXUbwXDo7Pd3tjeQXlm0p1LT7wbYri3jcLGEDcrJvU7QActZfFT44/Dn9sbw/8AADWdR8A6z4e8Z22vaxDonhbwvdWOqeGrKCRXj1C9uHvJobpZ55hCxEFsTPPlTIEkr36vE/gt%2BxhL8Fvjp4p%2BPNv%2B0/8AEbxHe%2BM78XPiHSvEtvoEltOqQmK2t1lg0qK7it7dSxigSdY1Z5HKs0spf2ygAooooAo%2BJk8SS%2BG9Qj8G3NjBrDWMo0qbU4Hlto7nYfKaVEZGeMPtLKrKSMgMDzXxN8Tf%2BChnx18Af8E/tT%2BPFr4S8C%2BIPjjpNr8Q109IdDurfR00/wANanfQ32oSQG6kuYbVotOtFMYuDvurq1jLqGDp9u67p93q%2BiXmlafrt1pc91ayRQanYJE09o7KQJoxNHJGXQkMBIjpkDcrDIPy/P8A8Egf2XfF/wCz54i/Z5%2BPuoaj8VLbWh4hOk%2BKPiD4a8OXGs%2BF5damnub%2BbS7i30qFbaRrm4e4VmR9kix4%2BRFQAH1Jp1w95p8F3KAGlhV2C9MkA1NWb4N8H%2BFvh74S0zwH4H8PWWk6No1hDZaVpem2iQW9pbxIEjijjjASNFUABVAAAAAArSoAKKKKACiiigCj4o8Q2HhLw1qPivVQ5tdMsZru5ES5by40LtgdzhTXzn%2BxN%2B0n8a/H/inR/Bnxs8PeDLMeOvhbZfEbwzD4M0q4tBpkd5cE3en3ZmuJRdzRvc2z/bEEAnaWYmCPaC/0td2lrf2stje26TQzRtHNFKoZXUjBUg8EEcYryH9mb9ivwF%2BzBqr6voHxB8W%2BJZbbwxY%2BGfDo8WXtrMNA0KzeR7fTbU29vCWjUyfNLOZriQRxeZM/lrgA9iooooAKKKKAPAP2v/ip8cfgp4r8H%2BN/DOo%2BAdT0K%2B8a6Hoel%2BCdT8L3U2vare3139lupbG%2BS8WO3aGyluLgg2sv7m2uDJJHGWdPf68Z%2BJP7HK/ET9p3RP2prf8AaO%2BIGhar4f0MaVpmgaZDolxpcEDzebctGl9plxNDLcgRxzSxSo7RwxorIBz7NQAUUUUAFYnxI%2BIfhD4SeAdY%2BJ3j7VlsdF0HTpb7UroozlIo1LNtVQWdjjCooLMxCgEkCtusjx34A8CfFLwjffD/AOJ3grSPEeg6pD5Wp6Jr2mxXlndx5DbJYZVZJFyAcMCMgUAePfsCfHH4ufGrwX42tPjH8N9C8I3vg7x/NoOl%2BGtBhZBpmnDTrC8trWcmR0e5hS88mRotsRaI%2BWgXGfeK8q/Zi/Yt/Zy/Y7n8ZP8As8/DLR/DMPjjxINZ1az0fRbOyhikW2ht0t4UtoYwsCCJnVG3FXnmIPz4HqtABRRRQAV8q6d%2B20PF/wC3ZrPwZi8Y%2BFfD2k%2BDfFcPg4rrHw81W9vNbv7nS7TU3hh1uOaOw0tn86BEtJlmmuDaMwUBoiPqqvGPEf7EHw58S/GqX4vXHjvxVb2V74u0/wAV6x4HtbizXR9T16xtoLa11GbNsbsSRx2tn%2B7juEhZrSJmiZtxYA9nooooAKKKKAPH/wBu/wCMXiT4Ffszax478LeHdN1S4l1XSdJmt9W0abU4Utr/AFK2sZ5v7Pt3SfUmjiuHdbGBhNcsqwx5eQCmfsMfH/xp%2B0j8DJPH/j%2BHThqNp4q1jSGn07RbrSvtMdney28c0um3kkl1pkzqgZrS4dpYyfmxnaOt%2BP3wK8OftC%2BAo/A%2Bv%2BItY0WWz1qw1jRtd8PzRJe6ZqFncpcW9xF58UsLFZIxlJY5I3UsrIysRTfgF8B/D/7P3hK/8OaR4o1rX77Wddu9a8QeIvEUsDXuq39wwMk8ot4oYE%2BVY41SKKNFSNAFGOQDuKKKKACvF/8AgoL8Xfjh%2Bz9%2ByP40%2BPXwCvfCkeseCdCu9cuoPGGi3N9bXdpa20sz26JbXVsySuyIokLlUBYlH4Fe0V5x%2B1j%2BzjZftafAjXv2fda%2BKvinwjpPieylsdcv/CC6d9rubKWJ4prbdf2l1GiOr8siLICo2uvOQDx74h/tafFzwp%2B0D4p8Q%2BHPDvhAeA/BXxW8HfDLxbDc6RcNrupXmtLpbQXUF4twsUVvbSeJLD9w8EpcfayJIyVB%2BqK8Eg/YB8HT/EWz%2BIvir44%2BPtdY6zpOueJtG1CXSorHxPrmmJGljq17HbWETLcRCC0wts0EDGxti8TGPJ97oAKKKKACvnbSfiD%2B1L48%2BP8A8ZP2cb7WfhmZPDOkeFvEPw91K68GX00VjDf6hqq7dQiOoD7dNCulRyo8LWg81%2BwUNX0TXzh8Tf8AgnVL8T/G/wATPG91%2B2v8ZdGf4p%2BGrXQNasvD8vh22Sw062nuZbeGzl/sc3ERQXt5H5jyvIyXDbmZljdADsv2L/jh48%2BPPwy1jxF4%2Bk0K/m0fxpquh2PijwtYzWumeIre0m8r7fawzTTvFGZBJCR50ql7d2SRkZTXrtcb8BvhA/wJ%2BGth8L4viLrHiSz0qNYNKn1nTdKtGs7RI0jitIotLsrS3SGNUAUCLcASCxAAHZUAFFFFAHi/7ZPxd%2BOHwStfAPjH4WXvhT%2BxtQ%2BJnhzw94vsfEGi3NzdXNrqus2Omg2csN1CltJGtzLJvkSdSURdnJNcp4M/a18W%2BLv%2BCg0fwG8DeDtAT4c6j4V8TXF34n%2BzSDUNW8R6Jd6HZ3XlOriNrWFdRFozMjSNcWcqAosA8zvv2rv2W3/aq8N6F4Xn%2BPvjfwNb6F4ksNdRvBcOjs93e2N5BeWbSnUtPvBtiuLeNwsYQNysm9TtGH4c/wCCcn7HvhD9o/w7%2B1j4X%2BB3hfTfHfh/S9Xtm13S/CWl2k2qXOpPavc6jdvBao8l5/ozqsqsmFvrtSpE3AB7jRRRQAUUUUAFFFFABRRRQAUUUUAFFFFABRRRQAUUUUAFFFFABRRRQAUUUUAFFFFABRRRQAUUUUAFFFFABRRRQAUUUUAFFFFABRRRQAUUUUAFFFFABRRRQAUUUUAFFFFABRRRQAUUUUAFFFFABRRRQAUUUUAFFFFABRRRQAUUUUAFFFFABRRRQAUUUUAFFFFABRRRQAUUUUAFFFFABRRRQAUUUUAFFFFABRRRQAUUUUAFFFFABRRRQAUUUUAFFFFABRRRQAUUUUAFFFFABRRRQAUUUUAFFFFABRRRQAUUUUAFFFFABRRRQAUUUUAf/9k%3D\">"
      ]
     },
     "metadata": {},
     "output_type": "display_data"
    },
    {
     "ename": "KeyboardInterrupt",
     "evalue": "",
     "output_type": "error",
     "traceback": [
      "\u001b[0;31m---------------------------------------------------------------------------\u001b[0m",
      "\u001b[0;31mKeyboardInterrupt\u001b[0m                         Traceback (most recent call last)",
      "\u001b[0;32m<ipython-input-26-ff6d40329100>\u001b[0m in \u001b[0;36m<module>\u001b[0;34m\u001b[0m\n\u001b[1;32m     21\u001b[0m     \u001b[0mtrain_accuracy\u001b[0m \u001b[0;34m=\u001b[0m \u001b[0maccuracy_score\u001b[0m\u001b[0;34m(\u001b[0m\u001b[0my_train\u001b[0m\u001b[0;34m,\u001b[0m \u001b[0ms\u001b[0m\u001b[0;34m.\u001b[0m\u001b[0mrun\u001b[0m\u001b[0;34m(\u001b[0m\u001b[0mclasses\u001b[0m\u001b[0;34m,\u001b[0m \u001b[0;34m{\u001b[0m\u001b[0minput_X\u001b[0m\u001b[0;34m:\u001b[0m \u001b[0mX_train_flat\u001b[0m\u001b[0;34m}\u001b[0m\u001b[0;34m)\u001b[0m\u001b[0;34m)\u001b[0m  \u001b[0;31m# this is slow and usually skipped\u001b[0m\u001b[0;34m\u001b[0m\u001b[0m\n\u001b[1;32m     22\u001b[0m     \u001b[0mvalid_accuracy\u001b[0m \u001b[0;34m=\u001b[0m \u001b[0maccuracy_score\u001b[0m\u001b[0;34m(\u001b[0m\u001b[0my_val\u001b[0m\u001b[0;34m,\u001b[0m \u001b[0ms\u001b[0m\u001b[0;34m.\u001b[0m\u001b[0mrun\u001b[0m\u001b[0;34m(\u001b[0m\u001b[0mclasses\u001b[0m\u001b[0;34m,\u001b[0m \u001b[0;34m{\u001b[0m\u001b[0minput_X\u001b[0m\u001b[0;34m:\u001b[0m \u001b[0mX_val_flat\u001b[0m\u001b[0;34m}\u001b[0m\u001b[0;34m)\u001b[0m\u001b[0;34m)\u001b[0m\u001b[0;34m\u001b[0m\u001b[0m\n\u001b[0;32m---> 23\u001b[0;31m     \u001b[0msimpleTrainingCurves\u001b[0m\u001b[0;34m.\u001b[0m\u001b[0madd\u001b[0m\u001b[0;34m(\u001b[0m\u001b[0mtrain_loss\u001b[0m\u001b[0;34m,\u001b[0m \u001b[0mval_loss\u001b[0m\u001b[0;34m,\u001b[0m \u001b[0mtrain_accuracy\u001b[0m\u001b[0;34m,\u001b[0m \u001b[0mvalid_accuracy\u001b[0m\u001b[0;34m)\u001b[0m\u001b[0;34m\u001b[0m\u001b[0m\n\u001b[0m\u001b[1;32m     24\u001b[0m \u001b[0;34m\u001b[0m\u001b[0m\n\u001b[1;32m     25\u001b[0m     \u001b[0;31m#-----------------------------\u001b[0m\u001b[0;34m\u001b[0m\u001b[0;34m\u001b[0m\u001b[0m\n",
      "\u001b[0;32m~/anaconda/Juputer_PROJECTS/Intro_DL_copy/week2/v2/matplotlib_utils.py\u001b[0m in \u001b[0;36madd\u001b[0;34m(self, train_loss, valid_loss, train_metric, valid_metric)\u001b[0m\n\u001b[1;32m     83\u001b[0m         \u001b[0mself\u001b[0m\u001b[0;34m.\u001b[0m\u001b[0m_set_y_limits\u001b[0m\u001b[0;34m(\u001b[0m\u001b[0mself\u001b[0m\u001b[0;34m.\u001b[0m\u001b[0max1\u001b[0m\u001b[0;34m,\u001b[0m \u001b[0mself\u001b[0m\u001b[0;34m.\u001b[0m\u001b[0my_limits_1\u001b[0m\u001b[0;34m)\u001b[0m\u001b[0;34m\u001b[0m\u001b[0m\n\u001b[1;32m     84\u001b[0m         \u001b[0mself\u001b[0m\u001b[0;34m.\u001b[0m\u001b[0m_set_y_limits\u001b[0m\u001b[0;34m(\u001b[0m\u001b[0mself\u001b[0m\u001b[0;34m.\u001b[0m\u001b[0max2\u001b[0m\u001b[0;34m,\u001b[0m \u001b[0mself\u001b[0m\u001b[0;34m.\u001b[0m\u001b[0my_limits_2\u001b[0m\u001b[0;34m)\u001b[0m\u001b[0;34m\u001b[0m\u001b[0m\n\u001b[0;32m---> 85\u001b[0;31m         \u001b[0mclear_and_display_figure\u001b[0m\u001b[0;34m(\u001b[0m\u001b[0mself\u001b[0m\u001b[0;34m.\u001b[0m\u001b[0mfig\u001b[0m\u001b[0;34m)\u001b[0m\u001b[0;34m\u001b[0m\u001b[0m\n\u001b[0m\u001b[1;32m     86\u001b[0m         \u001b[0mself\u001b[0m\u001b[0;34m.\u001b[0m\u001b[0max1\u001b[0m\u001b[0;34m.\u001b[0m\u001b[0mlegend\u001b[0m\u001b[0;34m(\u001b[0m\u001b[0;34m)\u001b[0m\u001b[0;34m\u001b[0m\u001b[0m\n\u001b[1;32m     87\u001b[0m         \u001b[0mself\u001b[0m\u001b[0;34m.\u001b[0m\u001b[0max2\u001b[0m\u001b[0;34m.\u001b[0m\u001b[0mlegend\u001b[0m\u001b[0;34m(\u001b[0m\u001b[0;34m)\u001b[0m\u001b[0;34m\u001b[0m\u001b[0m\n",
      "\u001b[0;32m~/anaconda/Juputer_PROJECTS/Intro_DL_copy/week2/v2/matplotlib_utils.py\u001b[0m in \u001b[0;36mclear_and_display_figure\u001b[0;34m(fig, sleep)\u001b[0m\n\u001b[1;32m     18\u001b[0m     \u001b[0mclear_output\u001b[0m\u001b[0;34m(\u001b[0m\u001b[0mwait\u001b[0m\u001b[0;34m=\u001b[0m\u001b[0;32mTrue\u001b[0m\u001b[0;34m)\u001b[0m\u001b[0;34m\u001b[0m\u001b[0m\n\u001b[1;32m     19\u001b[0m     \u001b[0mdisplay_html\u001b[0m\u001b[0;34m(\u001b[0m\u001b[0mHTML\u001b[0m\u001b[0;34m(\u001b[0m\u001b[0;34m'<img src=\"'\u001b[0m \u001b[0;34m+\u001b[0m \u001b[0muri\u001b[0m \u001b[0;34m+\u001b[0m \u001b[0;34m'\">'\u001b[0m\u001b[0;34m)\u001b[0m\u001b[0;34m)\u001b[0m\u001b[0;34m\u001b[0m\u001b[0m\n\u001b[0;32m---> 20\u001b[0;31m     \u001b[0mtime\u001b[0m\u001b[0;34m.\u001b[0m\u001b[0msleep\u001b[0m\u001b[0;34m(\u001b[0m\u001b[0msleep\u001b[0m\u001b[0;34m)\u001b[0m\u001b[0;34m\u001b[0m\u001b[0m\n\u001b[0m\u001b[1;32m     21\u001b[0m \u001b[0;34m\u001b[0m\u001b[0m\n\u001b[1;32m     22\u001b[0m \u001b[0;34m\u001b[0m\u001b[0m\n",
      "\u001b[0;31mKeyboardInterrupt\u001b[0m: "
     ]
    }
   ],
   "source": [
    "s.run(tf.global_variables_initializer())\n",
    "\n",
    "BATCH_SIZE = 512\n",
    "EPOCHS = 40\n",
    "\n",
    "# for logging the progress right here in Jupyter (for those who don't have TensorBoard)\n",
    "simpleTrainingCurves = matplotlib_utils.SimpleTrainingCurves(\"cross-entropy\", \"accuracy\")\n",
    "\n",
    "for epoch in range(EPOCHS):  # we finish an epoch when we've looked at all training samples\n",
    "    \n",
    "    batch_losses = []\n",
    "    for batch_start in range(0, X_train_flat.shape[0], BATCH_SIZE):  # data is already shuffled\n",
    "        # Идем по батчам: раз в батч считаем лосс и делаем шаг: step\n",
    "        _, batch_loss = s.run([step, loss], {input_X: X_train_flat[batch_start:batch_start+BATCH_SIZE], \n",
    "                                             input_y: y_train_oh[batch_start:batch_start+BATCH_SIZE]})\n",
    "        # collect batch losses, this is almost free as we need a forward pass for backprop anyway\n",
    "        batch_losses.append(batch_loss)\n",
    "\n",
    "    train_loss = np.mean(batch_losses) # постепенно берем среднее по всем (!) лоссам, чтобы функция была гладкой \n",
    "    val_loss = s.run(loss, {input_X: X_val_flat, input_y: y_val_oh})  # this part is usually small\n",
    "    train_accuracy = accuracy_score(y_train, s.run(classes, {input_X: X_train_flat}))  # this is slow and usually skipped\n",
    "    valid_accuracy = accuracy_score(y_val, s.run(classes, {input_X: X_val_flat}))  \n",
    "    simpleTrainingCurves.add(train_loss, val_loss, train_accuracy, valid_accuracy)\n",
    "    \n",
    "    #-----------------------------\n",
    "    # Для визуализации в Tensorboard:\n",
    "    summary = tf.Summary(value=[tf.Summary.Value(tag='train_loss', simple_value=train_loss), \n",
    "                                tf.Summary.Value(tag='train_accuracy', simple_value=train_accuracy),\n",
    "                                tf.Summary.Value(tag='valid_accuracy', simple_value=valid_accuracy),\n",
    "                                tf.Summary.Value(tag='val_loss', simple_value=val_loss)])\n",
    "    summary_writer.add_summary(summary, epoch)\n",
    "    summary_writer.flush()"
   ]
  },
  {
   "cell_type": "markdown",
   "metadata": {},
   "source": [
    "# Submit the MLP with 2 hidden layers\n",
    "Run these cells after training the MLP with 2 hidden layers"
   ]
  },
  {
   "cell_type": "code",
   "execution_count": 30,
   "metadata": {
    "collapsed": true
   },
   "outputs": [],
   "source": [
    "## GRADED PART, DO NOT CHANGE!\n",
    "# Validation loss for MLP\n",
    "grader.set_answer(\"i8bgs\", s.run(loss, {input_X: X_val_flat, input_y: y_val_oh}))\n",
    "# Validation accuracy for MLP\n",
    "grader.set_answer(\"rE763\", accuracy_score(y_val, s.run(classes, {input_X: X_val_flat})))"
   ]
  },
  {
   "cell_type": "code",
   "execution_count": 31,
   "metadata": {
    "collapsed": false
   },
   "outputs": [
    {
     "name": "stdout",
     "output_type": "stream",
     "text": [
      "Submitted to Coursera platform. See results on assignment page!\n"
     ]
    }
   ],
   "source": [
    "# you can make submission with answers so far to check yourself at this stage\n",
    "grader.submit(COURSERA_EMAIL, COURSERA_TOKEN)"
   ]
  },
  {
   "cell_type": "code",
   "execution_count": null,
   "metadata": {
    "collapsed": true
   },
   "outputs": [],
   "source": []
  }
 ],
 "metadata": {
  "kernelspec": {
   "display_name": "Python 3",
   "language": "python",
   "name": "python3"
  },
  "language_info": {
   "codemirror_mode": {
    "name": "ipython",
    "version": 3
   },
   "file_extension": ".py",
   "mimetype": "text/x-python",
   "name": "python",
   "nbconvert_exporter": "python",
   "pygments_lexer": "ipython3",
   "version": "3.6.4"
  }
 },
 "nbformat": 4,
 "nbformat_minor": 1
}
