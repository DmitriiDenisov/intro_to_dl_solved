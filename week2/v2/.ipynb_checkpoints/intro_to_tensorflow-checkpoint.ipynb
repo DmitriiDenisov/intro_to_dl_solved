{
 "cells": [
  {
   "cell_type": "markdown",
   "metadata": {
    "deletable": true,
    "editable": true,
    "slideshow": {
     "slide_type": "slide"
    }
   },
   "source": [
    "# Intro to TensorFlow\n",
    "\n",
    "This notebook covers the basics of TF and shows you an animation with gradient descent trajectory.\n",
    "<img src=\"images/gradient_descent.png\" style=\"width:50%\">"
   ]
  },
  {
   "cell_type": "markdown",
   "metadata": {
    "deletable": true,
    "editable": true
   },
   "source": [
    "# TensorBoard"
   ]
  },
  {
   "cell_type": "markdown",
   "metadata": {
    "deletable": true,
    "editable": true
   },
   "source": [
    "**Plase note that if you are running on the Coursera platform, you won't be able to access the tensorboard instance due to the network setup there.**\n",
    "\n",
    "Run `tensorboard --logdir=./tensorboard_logs --port=7007` in bash.\n",
    "\n",
    "If you run the notebook locally, you should be able to access TensorBoard on http://127.0.0.1:7007/"
   ]
  },
  {
   "cell_type": "code",
   "execution_count": 1,
   "metadata": {
    "collapsed": false,
    "deletable": true,
    "editable": true
   },
   "outputs": [
    {
     "name": "stderr",
     "output_type": "stream",
     "text": [
      "Using TensorFlow backend.\n"
     ]
    },
    {
     "name": "stdout",
     "output_type": "stream",
     "text": [
      "We're using TF 1.9.0\n"
     ]
    }
   ],
   "source": [
    "import tensorflow as tf\n",
    "import sys\n",
    "sys.path.append(\"../..\")\n",
    "from keras_utils import reset_tf_session\n",
    "s = reset_tf_session()\n",
    "print(\"We're using TF\", tf.__version__)"
   ]
  },
  {
   "cell_type": "markdown",
   "metadata": {
    "deletable": true,
    "editable": true
   },
   "source": [
    "# Warming up\n",
    "For starters, let's implement a python function that computes the sum of squares of numbers from 0 to N-1."
   ]
  },
  {
   "cell_type": "code",
   "execution_count": 2,
   "metadata": {
    "collapsed": true,
    "deletable": true,
    "editable": true
   },
   "outputs": [],
   "source": [
    "import numpy as np\n",
    "\n",
    "def sum_python(N):\n",
    "    return np.sum(np.arange(N)**2)"
   ]
  },
  {
   "cell_type": "code",
   "execution_count": 3,
   "metadata": {
    "collapsed": false,
    "deletable": true,
    "editable": true
   },
   "outputs": [
    {
     "name": "stdout",
     "output_type": "stream",
     "text": [
      "CPU times: user 2.33 ms, sys: 2.78 ms, total: 5.11 ms\n",
      "Wall time: 6.96 ms\n"
     ]
    },
    {
     "data": {
      "text/plain": [
       "333328333350000"
      ]
     },
     "execution_count": 3,
     "metadata": {},
     "output_type": "execute_result"
    }
   ],
   "source": [
    "%%time\n",
    "sum_python(10**5)"
   ]
  },
  {
   "cell_type": "markdown",
   "metadata": {
    "deletable": true,
    "editable": true
   },
   "source": [
    "# Tensoflow teaser\n",
    "\n",
    "Doing the very same thing"
   ]
  },
  {
   "cell_type": "code",
   "execution_count": 4,
   "metadata": {
    "collapsed": true,
    "deletable": true,
    "editable": true
   },
   "outputs": [],
   "source": [
    "# An integer parameter\n",
    "N = tf.placeholder('int64', name=\"input_to_your_function\")\n",
    "\n",
    "# A recipe on how to produce the same result\n",
    "result = tf.reduce_sum(tf.range(N)**2)"
   ]
  },
  {
   "cell_type": "code",
   "execution_count": 5,
   "metadata": {
    "collapsed": false,
    "deletable": true,
    "editable": true
   },
   "outputs": [
    {
     "data": {
      "text/plain": [
       "<tf.Tensor 'Sum:0' shape=() dtype=int64>"
      ]
     },
     "execution_count": 5,
     "metadata": {},
     "output_type": "execute_result"
    }
   ],
   "source": [
    "# just a graph definition\n",
    "result"
   ]
  },
  {
   "cell_type": "code",
   "execution_count": 6,
   "metadata": {
    "collapsed": false,
    "deletable": true,
    "editable": true
   },
   "outputs": [
    {
     "name": "stdout",
     "output_type": "stream",
     "text": [
      "CPU times: user 6.41 ms, sys: 5.14 ms, total: 11.6 ms\n",
      "Wall time: 22.2 ms\n"
     ]
    },
    {
     "data": {
      "text/plain": [
       "333328333350000"
      ]
     },
     "execution_count": 6,
     "metadata": {},
     "output_type": "execute_result"
    }
   ],
   "source": [
    "%%time\n",
    "# actually executing\n",
    "result.eval({N: 10**5}) # eval можно запускать для любой вершины графа, скомив необходимые placeholders"
   ]
  },
  {
   "cell_type": "code",
   "execution_count": 7,
   "metadata": {
    "collapsed": false,
    "deletable": true,
    "editable": true
   },
   "outputs": [
    {
     "data": {
      "text/plain": [
       "<tensorflow.python.framework.ops.Graph at 0x104aefbe0>"
      ]
     },
     "execution_count": 7,
     "metadata": {},
     "output_type": "execute_result"
    }
   ],
   "source": [
    "result.graph"
   ]
  },
  {
   "cell_type": "code",
   "execution_count": 8,
   "metadata": {
    "collapsed": true,
    "deletable": true,
    "editable": true
   },
   "outputs": [],
   "source": [
    "# logger for tensorboard\n",
    "writer = tf.summary.FileWriter(\"tensorboard_logs\", graph=result.graph) #\n",
    "# строчкой выше файл создается, в первый раз в него кладется result.graph\n",
    "# В нашем случае, result.graph - это sum( range(N)^2 ), именно это и отображено на графе:"
   ]
  },
  {
   "cell_type": "markdown",
   "metadata": {
    "deletable": true,
    "editable": true
   },
   "source": [
    "Граф, который отображается в Tensorboard:\n",
    "<img src=\"pic.png\" style=\"width:70%\">\n",
    "Из него видно: сначала подается placeholder - число N, далее берется range - массив от N. Затем возводится в степень y (здесь y=2), и, наконец, сумма"
   ]
  },
  {
   "cell_type": "markdown",
   "metadata": {
    "deletable": true,
    "editable": true
   },
   "source": [
    "# How does it work?\n",
    "1. Define placeholders where you'll send inputs\n",
    "2. Make a symbolic graph: a recipe for mathematical transformation of those placeholders\n",
    "3. Compute outputs of your graph with particular values for each placeholder\n",
    "  * `output.eval({placeholder: value})`\n",
    "  * `s.run(output, {placeholder: value})`\n",
    "\n",
    "So far there are two main entities: \"placeholder\" and \"transformation\" (operation output)\n",
    "* Both can be numbers, vectors, matrices, tensors, etc.\n",
    "* Both can be int32/64, floats, booleans (uint8) of various size.\n",
    "\n",
    "* You can define new transformations as an arbitrary operation on placeholders and other transformations\n",
    " * `tf.reduce_sum(tf.arange(N)**2)` are 3 sequential transformations of placeholder `N`\n",
    " * There's a tensorflow symbolic version for every numpy function\n",
    "   * `a+b, a/b, a**b, ...` behave just like in numpy\n",
    "   * `np.mean` -> `tf.reduce_mean`\n",
    "   * `np.arange` -> `tf.range`\n",
    "   * `np.cumsum` -> `tf.cumsum`\n",
    "   * If you can't find the operation you need, see the [docs](https://www.tensorflow.org/versions/r1.3/api_docs/python).\n",
    "   \n",
    "`tf.contrib` has many high-level features, may be worth a look."
   ]
  },
  {
   "cell_type": "code",
   "execution_count": 9,
   "metadata": {
    "collapsed": true,
    "deletable": true,
    "editable": true
   },
   "outputs": [],
   "source": [
    "with tf.name_scope(\"Placeholders_examples\"): # далее все штуки будут помещены на графе в прямоугольник с названием Placeholders_examples\n",
    "    # Default placeholder that can be arbitrary float32\n",
    "    # scalar, vertor, matrix, etc.\n",
    "    arbitrary_input = tf.placeholder('float32')\n",
    "\n",
    "    # Input vector of arbitrary length\n",
    "    input_vector = tf.placeholder('float32', shape=(None,))\n",
    "\n",
    "    # Input vector that _must_ have 10 elements and integer type\n",
    "    fixed_vector = tf.placeholder('int32', shape=(10,))\n",
    "\n",
    "    # Matrix of arbitrary n_rows and 15 columns\n",
    "    # (e.g. a minibatch of your data table)\n",
    "    input_matrix = tf.placeholder('float32', shape=(None, 15))\n",
    "    \n",
    "    # You can generally use None whenever you don't need a specific shape\n",
    "    input1 = tf.placeholder('float64', shape=(None, 100, None))\n",
    "    input2 = tf.placeholder('int32', shape=(None, None, 3, 224, 224))\n",
    "\n",
    "    # elementwise multiplication\n",
    "    double_the_vector = input_vector*2\n",
    "\n",
    "    # elementwise cosine\n",
    "    elementwise_cosine = tf.cos(input_vector)\n",
    "\n",
    "    # difference between squared vector and vector itself plus one\n",
    "    vector_squares = input_vector**2 - input_vector + 1"
   ]
  },
  {
   "cell_type": "code",
   "execution_count": 10,
   "metadata": {
    "collapsed": true,
    "deletable": true,
    "editable": true
   },
   "outputs": [],
   "source": [
    "my_vector =  tf.placeholder('float32', shape=(None,), name=\"VECTOR_1\")\n",
    "my_vector2 = tf.placeholder('float32', shape=(None,))\n",
    "my_transformation = my_vector * my_vector2 / (tf.sin(my_vector) + 1)"
   ]
  },
  {
   "cell_type": "code",
   "execution_count": 11,
   "metadata": {
    "collapsed": false,
    "deletable": true,
    "editable": true
   },
   "outputs": [
    {
     "name": "stdout",
     "output_type": "stream",
     "text": [
      "Tensor(\"truediv:0\", shape=(?,), dtype=float32)\n"
     ]
    }
   ],
   "source": [
    "print(my_transformation)"
   ]
  },
  {
   "cell_type": "code",
   "execution_count": 12,
   "metadata": {
    "collapsed": false,
    "deletable": true,
    "editable": true
   },
   "outputs": [
    {
     "name": "stdout",
     "output_type": "stream",
     "text": [
      "[ 0.  1.  2.  3.  4.]\n"
     ]
    },
    {
     "data": {
      "text/plain": [
       "array([ 0.        ,  1.62913239,  2.09501147,  2.62899613,  0.        ], dtype=float32)"
      ]
     },
     "execution_count": 12,
     "metadata": {},
     "output_type": "execute_result"
    }
   ],
   "source": [
    "dummy = np.arange(5).astype('float32')\n",
    "print(dummy)\n",
    "my_transformation.eval({my_vector: dummy, my_vector2: dummy[::-1]})"
   ]
  },
  {
   "cell_type": "markdown",
   "metadata": {
    "deletable": true,
    "editable": true
   },
   "source": [
    "То же самое, только обычным Numpy:"
   ]
  },
  {
   "cell_type": "code",
   "execution_count": 13,
   "metadata": {
    "collapsed": false,
    "deletable": true,
    "editable": true
   },
   "outputs": [
    {
     "data": {
      "text/plain": [
       "array([ 0.        ,  1.62913239,  2.09501147,  2.62899613,  0.        ], dtype=float32)"
      ]
     },
     "execution_count": 13,
     "metadata": {},
     "output_type": "execute_result"
    }
   ],
   "source": [
    "dummy = np.arange(5).astype('float32')\n",
    "dummy * dummy[::-1] / (np.sin(dummy) + 1)"
   ]
  },
  {
   "cell_type": "code",
   "execution_count": 14,
   "metadata": {
    "collapsed": true,
    "deletable": true,
    "editable": true
   },
   "outputs": [],
   "source": [
    "# Если хотим отобразить на графе в Tensorboard, то надо в объект writer добавить наш граф. Для этого используем метод \n",
    "# add_graph, в него кидаем my_transformation.graph\n",
    "writer.add_graph(my_transformation.graph)\n",
    "writer.flush() # тут происходит обновление файла, то есть мы снова записываем объект writer в файл для Tensorboard"
   ]
  },
  {
   "cell_type": "markdown",
   "metadata": {
    "deletable": true,
    "editable": true
   },
   "source": [
    "Теперь граф, который отображается в Tensorboard:\n",
    "<img src=\"pic_2.png\" style=\"width:70%\">"
   ]
  },
  {
   "cell_type": "markdown",
   "metadata": {
    "deletable": true,
    "editable": true
   },
   "source": [
    "TensorBoard allows writing scalars, images, audio, histogram. You can read more on tensorboard usage [here](https://www.tensorflow.org/get_started/graph_viz)."
   ]
  },
  {
   "cell_type": "markdown",
   "metadata": {
    "deletable": true,
    "editable": true
   },
   "source": [
    "# Summary\n",
    "* Tensorflow is based on computation graphs\n",
    "* A graph consists of placeholders and transformations"
   ]
  },
  {
   "cell_type": "markdown",
   "metadata": {
    "deletable": true,
    "editable": true
   },
   "source": [
    "# Loss function: Mean Squared Error\n",
    "\n",
    "Loss function must be a part of the graph as well, so that we can do backpropagation."
   ]
  },
  {
   "cell_type": "code",
   "execution_count": 15,
   "metadata": {
    "collapsed": true,
    "deletable": true,
    "editable": true
   },
   "outputs": [],
   "source": [
    "with tf.name_scope(\"MSE\"): # эта штука сворачивает подграф в Tensorboard в прямоугольник\n",
    "    y_true = tf.placeholder(\"float32\", shape=(None,), name=\"y_true\")\n",
    "    y_predicted = tf.placeholder(\"float32\", shape=(None,), name=\"y_predicted\")\n",
    "    # Implement MSE(y_true, y_predicted), use tf.reduce_mean(...)\n",
    "    ### YOUR CODE HERE ###\n",
    "    mse = tf.reduce_mean((y_true - y_predicted) ** 2)\n",
    "\n",
    "def compute_mse(vector1, vector2): # оборачиваем eval в функцию compute_mse\n",
    "    return mse.eval({y_true: vector1, y_predicted: vector2})"
   ]
  },
  {
   "cell_type": "code",
   "execution_count": 16,
   "metadata": {
    "collapsed": true,
    "deletable": true,
    "editable": true
   },
   "outputs": [],
   "source": [
    "writer.add_graph(mse.graph) # добавляем в граф\n",
    "writer.flush() # обновляем файлик"
   ]
  },
  {
   "cell_type": "markdown",
   "metadata": {
    "deletable": true,
    "editable": true
   },
   "source": [
    "Вот как отображается (в прямоугольнике) наш MSE в Tensorboard:\n",
    "<img src=\"pic3.png\" style=\"width:50%\">"
   ]
  },
  {
   "cell_type": "code",
   "execution_count": 17,
   "metadata": {
    "collapsed": false,
    "deletable": true,
    "editable": true
   },
   "outputs": [],
   "source": [
    "# Rigorous local testing of MSE implementation\n",
    "# просто тестирование того, что функция выше верно написана\n",
    "import sklearn.metrics\n",
    "for n in [1, 5, 10, 10**3]:\n",
    "    elems = [np.arange(n), np.arange(n, 0, -1), np.zeros(n),\n",
    "             np.ones(n), np.random.random(n), np.random.randint(100, size=n)]\n",
    "    for el in elems:\n",
    "        for el_2 in elems:\n",
    "            true_mse = np.array(sklearn.metrics.mean_squared_error(el, el_2))\n",
    "            my_mse = compute_mse(el, el_2)\n",
    "            #print(my_mse, type(my_mse))\n",
    "            if not np.allclose(true_mse, my_mse):\n",
    "                print('mse(%s,%s)' % (el, el_2))\n",
    "                print(\"should be: %f, but your function returned %f\" % (true_mse, my_mse))\n",
    "                raise ValueError('Wrong result')"
   ]
  },
  {
   "cell_type": "markdown",
   "metadata": {
    "deletable": true,
    "editable": true
   },
   "source": [
    "# Variables\n",
    "\n",
    "Placeholder and transformation values are not stored in the graph once the execution is finished. This isn't too comfortable if you want your model to have parameters (e.g. network weights) that are always present, but can change their value over time.\n",
    "\n",
    "Tensorflow solves this with `tf.Variable` objects.\n",
    "* You can assign variable a value at any time in your graph\n",
    "* Unlike placeholders, there's no need to explicitly pass values to variables when `s.run(...)`-ing\n",
    "* You can use variables the same way you use transformations \n",
    " "
   ]
  },
  {
   "cell_type": "code",
   "execution_count": 18,
   "metadata": {
    "collapsed": true,
    "deletable": true,
    "editable": true
   },
   "outputs": [],
   "source": [
    "# Creating a shared variable\n",
    "shared_vector_1 = tf.Variable(initial_value=np.ones(5),\n",
    "                              name=\"example_variable\")"
   ]
  },
  {
   "cell_type": "code",
   "execution_count": 19,
   "metadata": {
    "collapsed": false,
    "deletable": true,
    "editable": true
   },
   "outputs": [
    {
     "name": "stdout",
     "output_type": "stream",
     "text": [
      "Initial value [ 1.  1.  1.  1.  1.]\n"
     ]
    }
   ],
   "source": [
    "# Initialize variable(s) with initial values\n",
    "s.run(tf.global_variables_initializer())\n",
    "\n",
    "# Evaluating the shared variable\n",
    "print(\"Initial value\", s.run(shared_vector_1)) # или shared_vector_1.eval()"
   ]
  },
  {
   "cell_type": "code",
   "execution_count": null,
   "metadata": {
    "collapsed": false,
    "deletable": true,
    "editable": true
   },
   "outputs": [],
   "source": []
  },
  {
   "cell_type": "code",
   "execution_count": 20,
   "metadata": {
    "collapsed": false,
    "deletable": true,
    "editable": true
   },
   "outputs": [
    {
     "name": "stdout",
     "output_type": "stream",
     "text": [
      "New value [ 0.  1.  2.  3.  4.]\n"
     ]
    }
   ],
   "source": [
    "# Setting a new value\n",
    "s.run(shared_vector_1.assign(np.arange(5)))\n",
    "\n",
    "# Getting that new value\n",
    "print(\"New value\", s.run(shared_vector_1)) # или shared_vector_1.eval()"
   ]
  },
  {
   "cell_type": "markdown",
   "metadata": {
    "deletable": true,
    "editable": true
   },
   "source": [
    "# tf.gradients - why graphs matter\n",
    "* Tensorflow can compute derivatives and gradients automatically using the computation graph\n",
    "* True to its name it can manage matrix derivatives\n",
    "* Gradients are computed as a product of elementary derivatives via the chain rule:\n",
    "\n",
    "$$ {\\partial f(g(x)) \\over \\partial x} = {\\partial f(g(x)) \\over \\partial g(x)}\\cdot {\\partial g(x) \\over \\partial x} $$\n",
    "\n",
    "It can get you the derivative of any graph as long as it knows how to differentiate elementary operations"
   ]
  },
  {
   "cell_type": "code",
   "execution_count": 21,
   "metadata": {
    "collapsed": true,
    "deletable": true,
    "editable": true
   },
   "outputs": [],
   "source": [
    "my_scalar = tf.placeholder('float32')\n",
    "\n",
    "scalar_squared = my_scalar**2\n",
    "\n",
    "# A derivative of scalar_squared by my_scalar\n",
    "derivative = tf.gradients(scalar_squared, [my_scalar, ]) # производная переменной scalar_squared по my_scalar"
   ]
  },
  {
   "cell_type": "code",
   "execution_count": null,
   "metadata": {
    "collapsed": false
   },
   "outputs": [],
   "source": []
  },
  {
   "cell_type": "code",
   "execution_count": 22,
   "metadata": {
    "collapsed": false,
    "deletable": true,
    "editable": true
   },
   "outputs": [
    {
     "data": {
      "text/plain": [
       "[<tf.Tensor 'gradients/pow_1_grad/Reshape:0' shape=<unknown> dtype=float32>]"
      ]
     },
     "execution_count": 22,
     "metadata": {},
     "output_type": "execute_result"
    }
   ],
   "source": [
    "derivative"
   ]
  },
  {
   "cell_type": "code",
   "execution_count": 23,
   "metadata": {
    "collapsed": false,
    "deletable": true,
    "editable": true
   },
   "outputs": [
    {
     "data": {
      "image/png": "[encoded data removed]",
      "text/plain": [
       "<matplotlib.figure.Figure at 0x11a1f2400>"
      ]
     },
     "metadata": {},
     "output_type": "display_data"
    }
   ],
   "source": [
    "import matplotlib.pyplot as plt\n",
    "%matplotlib inline\n",
    "\n",
    "x = np.linspace(-3, 3)\n",
    "x_squared, x_squared_der = s.run([scalar_squared, derivative[0]],\n",
    "                                 {my_scalar:x}) \n",
    "# синтаксис run: run([...], {...}) словарь - это feed, все placeholder'ы, [] - это список компонент, которые надо вычислить\n",
    "# То есть задача TF - посчитать численно компоненту A. TF смотрит в граф, видит компоненту A, смотрит от чего она зависит и вычисляет её \n",
    "\n",
    "plt.plot(x, x_squared,label=\"$x^2$\")\n",
    "plt.plot(x, x_squared_der, label=r\"$\\frac{dx^2}{dx}$\")\n",
    "plt.legend();"
   ]
  },
  {
   "cell_type": "code",
   "execution_count": 36,
   "metadata": {
    "collapsed": false
   },
   "outputs": [
    {
     "data": {
      "image/png": "[encoded data removed]",
      "text/plain": [
       "<matplotlib.figure.Figure at 0x11abcc780>"
      ]
     },
     "metadata": {},
     "output_type": "display_data"
    }
   ],
   "source": [
    "# Аналогичный пример, но с кубом:\n",
    "scalar = tf.placeholder('float32')\n",
    "\n",
    "y = scalar ** 3\n",
    "dy = tf.gradients(y, [scalar])\n",
    "\n",
    "x = np.linspace(-3, 3)\n",
    "y_, dy_ = s.run([y, dy], feed_dict={scalar:x})\n",
    "\n",
    "plt.plot(x, y_,label=\"$x^2$\")\n",
    "plt.plot(x, dy_[0], label=r\"$\\frac{dx^2}{dx}$\")\n",
    "plt.legend();"
   ]
  },
  {
   "cell_type": "code",
   "execution_count": 13,
   "metadata": {
    "collapsed": false,
    "deletable": true,
    "editable": true
   },
   "outputs": [],
   "source": [
    "writer.add_graph(scalar_squared.graph) # добавляем в граф\n",
    "writer.add_graph(derivative[0].graph) # добавляем в граф\n",
    "writer.flush() # обновляем файлик"
   ]
  },
  {
   "cell_type": "markdown",
   "metadata": {
    "deletable": true,
    "editable": true
   },
   "source": [
    "Вот так на графе отображаются derivate и scalar_squared:\n",
    "<img src=\"pic_4.png\" style=\"width:30%\">\n",
    "Placeholder - это входное число my_scalar, pow_2 - возведение в степень y, gradients - наша производная. Стрелки идут НЕ от gradients, а к gradients, так как у нас задача - посчитать derivative, у нас не была поставлена задача обновить my_scalar, а только посчитать derivative"
   ]
  },
  {
   "cell_type": "markdown",
   "metadata": {
    "deletable": true,
    "editable": true
   },
   "source": [
    "# Why that rocks"
   ]
  },
  {
   "cell_type": "code",
   "execution_count": 37,
   "metadata": {
    "collapsed": true,
    "deletable": true,
    "editable": true
   },
   "outputs": [],
   "source": [
    "my_vector = tf.placeholder('float32', [None])\n",
    "# Compute the gradient of the next weird function over my_scalar and my_vector\n",
    "# Warning! Trying to understand the meaning of that function may result in permanent brain damage\n",
    "weird_psychotic_function = tf.reduce_mean(\n",
    "    (my_vector + my_scalar) ** (1 + tf.nn.moments(my_vector, [0])[1]) + \n",
    "    1./ tf.atan(my_scalar)) / (my_scalar ** 2 + 1) + 0.01 * tf.sin(\n",
    "    2 * my_scalar ** 1.5) * (tf.reduce_sum(my_vector) * my_scalar ** 2\n",
    "                      ) * tf.exp((my_scalar - 4) ** 2) / (\n",
    "    1 + tf.exp((my_scalar - 4) ** 2)) * (1. - (tf.exp(-(my_scalar - 4) ** 2)\n",
    "                                    ) / (1 + tf.exp(-(my_scalar - 4) ** 2))) ** 2\n",
    "\n",
    "der_by_scalar = tf.gradients(weird_psychotic_function, xs=my_scalar) # считаем производную функции по my_scalar\n",
    "der_by_vector = tf.gradients(weird_psychotic_function, xs=my_vector) # считаем производную функции по my_vector"
   ]
  },
  {
   "cell_type": "code",
   "execution_count": null,
   "metadata": {
    "collapsed": false,
    "deletable": true,
    "editable": true
   },
   "outputs": [],
   "source": []
  },
  {
   "cell_type": "code",
   "execution_count": 42,
   "metadata": {
    "collapsed": false,
    "deletable": true,
    "editable": true
   },
   "outputs": [
    {
     "data": {
      "image/png": "[encoded data removed]",
      "text/plain": [
       "<matplotlib.figure.Figure at 0x11abcc898>"
      ]
     },
     "metadata": {},
     "output_type": "display_data"
    }
   ],
   "source": [
    "# Plotting the derivative\n",
    "scalar_space = np.linspace(1, 7, 100)\n",
    "\n",
    "# просто считаем функцию y:\n",
    "y = [s.run(weird_psychotic_function, {my_scalar:x, my_vector:[1, 2, 3]})\n",
    "     for x in scalar_space] # скармливаем вектор (1, 2, 3), а также поочередно разные значения my_scalar от 1 до 7\n",
    "\n",
    "plt.plot(scalar_space, y, label='function')\n",
    "\n",
    "# А теперь считаем её производные:\n",
    "y_der_by_scalar = [s.run(der_by_scalar,\n",
    "                         {my_scalar:x, my_vector:[1, 2, 3]})\n",
    "                   for x in scalar_space]\n",
    "# Что делает run: фиксирует точку my_scalar и my_vector, после чего считает через граф все нужные значения (gradients и y)\n",
    "\n",
    "plt.plot(scalar_space, y_der_by_scalar, label='derivative')\n",
    "plt.grid()\n",
    "plt.legend();\n",
    "\n",
    "###-----\n",
    "# Если хотим ещё найти производную функции по вектору, то: \n",
    "#y_der_by_scalar = [s.run([der_by_scalar, der_by_vector],\n",
    "#                          {my_scalar:x, my_vector:[1, 2, 3]})\n",
    "#                    for x in scalar_space]"
   ]
  },
  {
   "cell_type": "markdown",
   "metadata": {
    "deletable": true,
    "editable": true
   },
   "source": [
    "# Almost done - optimizers\n",
    "\n",
    "While you can perform gradient descent by hand with automatic gradients from above, tensorflow also has some optimization methods implemented for you. Recall momentum & rmsprop?"
   ]
  },
  {
   "cell_type": "code",
   "execution_count": 56,
   "metadata": {
    "collapsed": false,
    "deletable": true,
    "editable": true
   },
   "outputs": [],
   "source": [
    "y_guess = tf.Variable(np.zeros(2, dtype='float32')) # <=> initial_value=np.zeros(2, dtype='float32')\n",
    "y_true = tf.range(1, 3, dtype='float32')\n",
    "\n",
    "loss = tf.reduce_mean((y_guess - y_true + 0.5*tf.random_normal([2]))**2) \n",
    "\n",
    "step = tf.train.MomentumOptimizer(0.03, 0.5).minimize(loss, var_list=[y_guess]) # можно не писать var_list=y_guess"
   ]
  },
  {
   "cell_type": "markdown",
   "metadata": {
    "deletable": true,
    "editable": true
   },
   "source": [
    "Синтаксис: step - шаг, который мы будем делать в цикле. В цикле выполняется session.run(step)\n",
    "\n",
    "\n",
    "Синтаксис самого step: tf.train.<оptimizer\\>.minimize(<что>, var_list=[<по чему>])"
   ]
  },
  {
   "cell_type": "code",
   "execution_count": 57,
   "metadata": {
    "collapsed": false,
    "deletable": true,
    "editable": true
   },
   "outputs": [],
   "source": [
    "# tf.random_normal([3,4,3]).eval()# можно поиграться с тем, как формируются случайные тензоры"
   ]
  },
  {
   "cell_type": "code",
   "execution_count": 58,
   "metadata": {
    "collapsed": false,
    "deletable": true,
    "editable": true
   },
   "outputs": [],
   "source": [
    "#y_true = tf.range(1, 3, dtype='float32')\n",
    "# y_true.eval()"
   ]
  },
  {
   "cell_type": "markdown",
   "metadata": {
    "deletable": true,
    "editable": true
   },
   "source": [
    "Let's draw a trajectory of a gradient descent in 2D"
   ]
  },
  {
   "cell_type": "code",
   "execution_count": 59,
   "metadata": {
    "collapsed": false,
    "deletable": true,
    "editable": true
   },
   "outputs": [
    {
     "data": {
      "image/png": "[encoded data removed]",
      "text/plain": [
       "<matplotlib.figure.Figure at 0x11b979ef0>"
      ]
     },
     "metadata": {},
     "output_type": "display_data"
    }
   ],
   "source": [
    "from matplotlib import animation, rc\n",
    "import matplotlib_utils\n",
    "from IPython.display import HTML, display_html\n",
    "\n",
    "# nice figure settings\n",
    "fig, ax = plt.subplots()\n",
    "y_true_value = s.run(y_true)\n",
    "level_x = np.arange(0, 2, 0.02)\n",
    "level_y = np.arange(0, 3, 0.02)\n",
    "X, Y = np.meshgrid(level_x, level_y)\n",
    "Z = (X - y_true_value[0])**2 + (Y - y_true_value[1])**2\n",
    "ax.set_xlim(-0.02, 2)\n",
    "ax.set_ylim(-0.02, 3)\n",
    "s.run(tf.global_variables_initializer())\n",
    "ax.scatter(*s.run(y_true), c='red')\n",
    "contour = ax.contour(X, Y, Z, 10)\n",
    "ax.clabel(contour, inline=1, fontsize=10)\n",
    "line, = ax.plot([], [], lw=2)\n",
    "\n",
    "# start animation with empty trajectory\n",
    "def init():\n",
    "    line.set_data([], [])\n",
    "    return (line,)\n",
    "\n",
    "trajectory = [s.run(y_guess)]\n",
    "\n",
    "# one animation step (make one GD step)\n",
    "def animate(i):\n",
    "    s.run(step)\n",
    "    trajectory.append(s.run(y_guess))\n",
    "    line.set_data(*zip(*trajectory))\n",
    "    return (line,)\n",
    "\n",
    "anim = animation.FuncAnimation(fig, animate, init_func=init,\n",
    "                               frames=200, interval=20, blit=True) # frames - число итераций"
   ]
  },
  {
   "cell_type": "code",
   "execution_count": 60,
   "metadata": {
    "collapsed": false,
    "deletable": true,
    "editable": true
   },
   "outputs": [
    {
     "data": {
      "text/html": [
       "<video width=\"432\" height=\"288\" controls autoplay loop>\n",
       "  <source type=\"video/mp4\" src=\"data:video/mp4;base64,AAAAHGZ0eXBNNFYgAAACAGlzb21pc28yYXZjMQAAAAhmcmVlAABZt21kYXQAAAKuBgX//6rcRem9\n",
       "5tlIt5Ys2CDZI+7veDI2NCAtIGNvcmUgMTQ4IHIyNzk1IGFhYTlhYTggLSBILjI2NC9NUEVHLTQg\n",
       "QVZDIGNvZGVjIC0gQ29weWxlZnQgMjAwMy0yMDE3IC0gaHR0cDovL3d3dy52aWRlb2xhbi5vcmcv\n",
       "eDI2NC5odG1sIC0gb3B0aW9uczogY2FiYWM9MSByZWY9MyBkZWJsb2NrPTE6MDowIGFuYWx5c2U9\n",
       "MHgzOjB4MTEzIG1lPWhleCBzdWJtZT03IHBzeT0xIHBzeV9yZD0xLjAwOjAuMDAgbWl4ZWRfcmVm\n",
       "PTEgbWVfcmFuZ2U9MTYgY2hyb21hX21lPTEgdHJlbGxpcz0xIDh4OGRjdD0xIGNxbT0wIGRlYWR6\n",
       "b25lPTIxLDExIGZhc3RfcHNraXA9MSBjaHJvbWFfcXBfb2Zmc2V0PS0yIHRocmVhZHM9NiBsb29r\n",
       "YWhlYWRfdGhyZWFkcz0xIHNsaWNlZF90aHJlYWRzPTAgbnI9MCBkZWNpbWF0ZT0xIGludGVybGFj\n",
       "ZWQ9MCBibHVyYXlfY29tcGF0PTAgY29uc3RyYWluZWRfaW50cmE9MCBiZnJhbWVzPTMgYl9weXJh\n",
       "bWlkPTIgYl9hZGFwdD0xIGJfYmlhcz0wIGRpcmVjdD0xIHdlaWdodGI9MSBvcGVuX2dvcD0wIHdl\n",
       "aWdodHA9MiBrZXlpbnQ9MjUwIGtleWludF9taW49MjUgc2NlbmVjdXQ9NDAgaW50cmFfcmVmcmVz\n",
       "aD0wIHJjX2xvb2thaGVhZD00MCByYz1jcmYgbWJ0cmVlPTEgY3JmPTIzLjAgcWNvbXA9MC42MCBx\n",
       "cG1pbj0wIHFwbWF4PTY5IHFwc3RlcD00IGlwX3JhdGlvPTEuNDAgYXE9MToxLjAwAIAAADJ7ZYiE\n",
       "AC///vau/MsrRwuVLh1Ze7NR8uhJcv2IMH1oAAADAADVayF8oYJVUBjg5Cl8UC950wnQObmxLpMS\n",
       "eTd2N1o7ZvU7nZLqidQWs9IRqH4qZFuUNOvgrgAArGB7WlESNB735J/CfrjEy3i5zjzWx5r7oD4b\n",
       "7vRGf5YZpSE2SfCltWRnqtLPBS3FxRjhpp/BEdar5txSfEu67R/ppgZwAi2i8ff512MwmU2ndVwZ\n",
       "0/IypwbXeLiexIGKwjGLSLtuFQ6Y/OKysfXRdbpNhUrKtfRj7DGM8WCX1Bh4c330WAw+R6EXVRFY\n",
       "lu5UH1qoQzyL4+ViaXbsk9e17GMhYcjYQ2ErNh8GLHqFB5yll7cH5+/ATt414OGqKJBfavN2H7Eo\n",
       "MYMyQUJm9f6njg6oT6RI9deVwCrdBzM/Sz/x8vLmA7OACvEgs7ec3QswOORd/etOu0E7t7VpiB00\n",
       "hKHHIDZREnqwvaNj69QpwDqX0pss1cRClh94zlgStU4c5yUCVO+HQbSt4HAXLJj2f9Btb1Gp56ii\n",
       "Oi96XZV1x4KhUxTYawQAUfjzsl0QevSEuVTVlSNIsvo+7QD/x5dqmV34q8Y/e22ByjofSHxpk/7U\n",
       "JlOIzg46ZfH1hLZgWW3R/niY7hJcJ7T94UsjfEkSh3TDgfcD17lLYnCY2sdzwQUX/M7yx8DlUAxf\n",
       "Bf5jCXE+1+wNMg1QAvfybm1SjIO2TPl8BU8XJsElm8w528BUCYhGy7qcnRnuSy6QxEV7zgbX58W4\n",
       "OX++3kHg9QTGgyx+9vVBAdT1fCClHX4ANSaqmTCW59ftwD0BujqkCCWkUJ2w9uAMrIdCjsnjVQgY\n",
       "usw2C1nI5upe6qRnHhMYO+//zOhJwy3GFabODqjJ8LP6JD9HicRvbp/KU0u7QNM3PDeCZGEppIp+\n",
       "d+A0U9LkqJcqlVU9QxjMxe4V5wWiAXVz7X2hUEkcgvbIBu6DDirLSkB6X62ytFi1xHsjrXMwRBoi\n",
       "23k/4WJeSt9ercxBpim+OztNcFsiesOQP5sSGoW5wkc38yjAPbcq7Tdzbk/IrDDaOdxl5A3HGLvo\n",
       "zZ1BGOReneHzeHg/afksZWL4VFYt54t3/Hf9K1pP0qpg033ec0POTLSV2EuXudGEW3w0++tbXV/W\n",
       "TzfL1OHthmmQR6IPVUHFMoqzp1QcXRtQTOdfyzhgBiRX5WVO85tv8+La/kmO0HsSZYHMklOP3co5\n",
       "QDWHzfJAv2xFzpb4zaWMSFkI64HEJiEbYjDtCz5R+5934JrTITw/HoIDDZMsJDKJDy7tEPbaSA9e\n",
       "Rs6mLK1h7v5ilXo8fU4zXpoO8DIuXkGCPnMytYPsejoVgG8/4hV+pdupgbZzrYj2YP/KOAfFDlCb\n",
       "c+Afko28P+APuNw+AREopUusHlOjBttYqMfZpF0lXHnSyZGaC4E/9t+DTsSLLdxT7j02EJ/DJYcg\n",
       "zlbYlWxHyR67M59DOduDXxQ1yVc6Uv0xHmi8cZyM2klmNgFAuAnAXoBpK89d0ninH4c+/x3zxCND\n",
       "gVwld+ZkhAQLOdusrHeV3kkduEsmNVMMG/Z4jzBVquh65pjovblc+tWCuZM25L8WnssoH8vTmfqk\n",
       "8z4vSza/UA18+dAwWnRG9TaD1J9lDGVsI+2H5s+SHVWANZOLLVmeWQLhlKcLusWsnTy4W6Qc1hK3\n",
       "lWy4lqZwoLwKwRWbX98yP5cBLAAAJoy3FrpsDsUYtE3TL3kuxuFVvIqfYjjoZ3q1MFTJsXRq06LK\n",
       "CGXjzDp6hB7mkW+cUnSDxxWGDOoq2FRt3I6jf4pVWCtbujN+OSzPO8fJfMPqmvW7za2IZNH4Ivtm\n",
       "sJzTRzypJjeyJ0gkQxOt04Wtpk9pR8wFijYSlPAPe/xLLPTGlzVe4z/sJ/ZxT0sXez2TFb2HS+PN\n",
       "5fGrWLRo7iTiPCfUPMNtVVeW8QLshluhtUxaeuzxL4KRaXWDzZPD3oCZy7l7PrHjbnsCu+QniSLg\n",
       "8rdR9xoYbwUQ5YwHF3/Nci+zL1HxGZ4L2fog8TyKfh5YrePpnYaER/liN4NOXHG3TyRUAHQPEB+O\n",
       "0fmDCiGW42CFp/SOdacVMu4hEherC3AgxrebXZ6lt57G1D6yYyf/mXSrjlMM6aD8AzMo7YaVi/1Q\n",
       "riXfAbGXkxyMj9BfJMwbTj+GynyOugQf/Ri8ucxRM1dfn2kFerYby85cHDMQ9lc0dfLgioxLGqWq\n",
       "oC8rjPsjgmTYbWjjaA5viU+h3WQwUXncbJMFRQhDbme5/pstilZLsiuxC7ZL9VVppiO237u2tvTB\n",
       "5O/8XFIx0/TJ81Lid1cz77odgSOfPeXtxPbE5SBBn+cjPtwUOxtNkNL/OuX1ZKCfXJ5aiJfNNxEK\n",
       "D4e+kd6iysnSzitkRlLacXr7s9KBBllv2aI7NxGNNB+3pp85KO0OCRRDsw7GYBJFOmiviotN98fv\n",
       "2v7QdcgTYb85gFHBdRQSt7HxjJDk/w5CdMPF7EWgfeHzpqvABLah889ax9+imBMblgPrYaNqv1J1\n",
       "XnKchWA3APyUoBO4qNFdLXG6CZBn1McudnDPTfhmtQIMDDg7aUsx4YK15aB+nq/rZIHoQfXJOdfC\n",
       "zMFGuZut1ezWPRkPdrfmFbb69AbsqSG8ce5lixqUAxoRYZlB7as0utiunTvSauqfa0rMpUAVXLxh\n",
       "AvM7ve5ct6bpU3I6pDH2Liipvmm6CJ36P4Q2bErgqNdVz2PS9ebtw9Y5teX/nqV85RZdGzRifMIC\n",
       "0zU8GUebYKDN9+EEwQxkfCV2fhSi+XMCQCt8OqcFOKfm3Ze0eSfcFeBM2eF9u1QBZnSjM8ujHu1u\n",
       "ofWurCo3bI4uE7KiiCGiDfZOAahRluwQIip2KprEJVRNXyv+5qrTvRN+1OyIMbbeDZiEm05erue1\n",
       "k7Dl9uFkfPKCqrzftDROAKlgoLlA6r2CsAr16w7wapAs1sr3E25kvHP5yrhsvf+717jJIxZIg20m\n",
       "g1UjFgHkAfhl9T3pL1prSlWEHCQ5ocN78Fs8mZHyFt1mw5u2wAqyl56nKeu54bJIuU+SuKN3Ljx1\n",
       "M4npOALIKZiyZdPWJ/CA3h1la6apYFeCQ3ZPEum/+4TIuhV/q0CavAnGVShMlm+nMDpaRLime2ae\n",
       "nOMdlF/NgoHSd+5Fs87L4bpb5qo0xBlYF28kH4rgeEzrxMfQFcUwFdScj4JdrB/JhnY7vW8EPbm1\n",
       "s2QwfRT1o44OXeO3FByaOGcg1P+wPt9P0rEFYOFBzEliVS6TgzgB9N265P+S840oDOQgfCTqU9v/\n",
       "ed6ifJ6zETWcvF7c1zMA0jF3LVoQmfrOXLnD23NjPL+rBNW7SbqI9G7y99OyrZnzf6QqtLO1w9N6\n",
       "58VkS8Y51bU3fTOcTWOELDP6t6r1JjZswjnkF9QQegjGT8/4Iiz5gUcpfpU04+VyC7qZAv8Pcg0P\n",
       "bh5ENIJF3sRsYnO0T6o/YbsQk+C+Ce7Qe1kXS/x8dK2fwPsxtUU0qfWRLKmGK9j2kuNGpqOrwyvO\n",
       "lJO4t0GCRWe6NxrWkVl6+NNeT3Sz/xF6AAM/QDAALkZmYua07V2WqW0rnap3t3O66zhOkWBjwVfZ\n",
       "lVjHX3QGVBQtZnMeaICsqZpvi28GZZvAhVxNR/BEEEqbO7tWq9yk+vSzp/LW7d1X1tLGPORAqvLn\n",
       "47oFNSLRj9sS3Zi6AABm8HrTkcQxZW1jPvCWMr4AxpWpdJ5u8h1XplIShsuqKm8qCeg+yEcx7fjF\n",
       "h5x9aJto/0ufSFy9KcXyxQTt0PhpgN6eHv/Wl8Az6kcUG3xaVQUVqLYn70ixpJhUpPl6xv5xLYGP\n",
       "MKUsNEq46xfbuB2daoaUgPKlHqrjCwKhs9oHazpS0ksd6NzKsohPlQVDyqbjyYmwgwXDAsXdJLTV\n",
       "U292pY5NbwVrZxuDP5kUWtX8IN+b6Kc7TP3AT28QWwZJ8vJR9e/zkixxstxXkUYEwrNx7gy63nrN\n",
       "BiiGn57ZPSUh9WdeYzh39CVWi6tH1+XWmQmZCMYPZo2Bn2Oyf+ypihq8YEJxXWysOvJBldQIMrqX\n",
       "s0Rf07rPRxJkFJ9LJlDMLlq7biV/1PfrnxTY6Y4FJvkXkCRP+CLmczCUUvleQ9fY18lHtvlm2eET\n",
       "p2CRi9X7983b3cukYdgP18DMhtesJYRWvPTp9ZDffeb6zdAbVoxKaqeWAxmnKvdvfAs70QuLp8RR\n",
       "QVZEzfgBoOjHOhnmYic/7Oh+gipBkL2hQxbpnn+oFakTMsdNajBOvAX6az9mTqTDnZPZtFW6aroM\n",
       "BaOJFF1bZ79bISB//mPfegJMGlEY8IGYKjnwcVd6eOEyZKPkKerbuyjQIhFdjScZhhDkA8t+qli2\n",
       "sofPozVuUnRruSgZlUoZuAg/HpD+lLRrsfaAyvq0PkAWII34I6TNe3Xj4/Vgi7Tk+ce9MUCqJrHH\n",
       "CILCfyxjMQxId0CS8FWnWKhJyubAbnS+DAHhXugCfxCZKePApHTcNLqAm+mViI82TlMLUOchP/IU\n",
       "gMzSA5IA8mtjoUSt8+hcw02CaMQnp6zsj34LF9NlJZUm/9K5p5L7Iy+pihVL8+3uslNo3ssnXgqY\n",
       "DRECOpWqbSYovopq6ZHbORdoDeFf/Y2kPUNbJfxIe4AekapVP/CAi64LuGv5kir7XstqWPQuoFCM\n",
       "mR6HSVkuLNCrnm0KPvu+D597CSHe8YB4G3PH/UgsVZOp8pLFwo9qAQ9ExxBuU3ZYQZO4XkJP6Um2\n",
       "jHXWuiA12DKBpwdnyPDIGDD4EGAa2lAXAKToM453B3vqme60uNzog8X6At/afiMqeu8kIzzHiG/h\n",
       "m+iPPpLAHzFTKVywuO1/OECK2GnE43VLJ85KH9wKk72rM5YMo+2ahCW/oxHoPpzqKWlVAaH+6Qqw\n",
       "gcK9v72EB9KozL727CY/C8DyxZOIMghLbyFGAZUX7HAdmmuKw+Q0NaxFw/7m+NpofHfaz/9bzQPd\n",
       "u+Z7c0FnAoLLKjPkZHIxqdfNlyDwuPMs1618WswOiGuwjCih6mKNKoGUgkvcR5ksQG43pcVyT7kO\n",
       "GFIIcvDLdUHnNRYpgsUzudYe1nk/6mFYH1iqARtFrJfOQ2+PSmWmfXPwAl5CSbVTkj751YdO0ETD\n",
       "FOxM4Ud18mBfEudcwYBRT/iOd6XP7J3VKncfA+HwwgRsNqHdslp6H7vND6XhmYQJQk4k+wrb3tWt\n",
       "jrDKnlgA04KIx835t3F+ZdorrzC8HzacyJOXlXTChCs+G4hs02AlOrkbhaYd3bLtc7ofJfsUfHZr\n",
       "olYKVK8YuoGhhrYc8BJ40iE7hR6Zfj1EDTK+UcdrWpiRwIu36o5uO8X02F6Jp41KcKv4WGSXqdHW\n",
       "TXDFuS5M0JNkJXwSckaQgicCJ/5tjGAzfyyR638lXM6f+ECUOOfsCnC8e6Gmu4ZmEdQRZWKByJZs\n",
       "QqPOIKPK8xEn66x+HwbJ8BlsC1JnH2txofY/54SU+UgMk7lQRyRFPYb8y7mJS2BScCTBxbhKiNO9\n",
       "Ds3YAIy7MyexVUFb3oUeTF4sje5O7OmFjN62Lh6M11vlvHdgdkfy9f0bspHzuw82+L64dNGrl5H+\n",
       "lg/POnub6ggPie7MHaSkv8ZeY2B5Bespv1DzDoboCY1BWPmJcuPs0JHbpRt7sV1K/f6iL/bfyAmR\n",
       "vwaS4pXLzA0MbP5u2EXcm118ljvBIQa5BLZmwE+YtLBcbUmeBmy8iRgU17NZo9hb4ECPMzWTtW15\n",
       "EJ7Z9iL4RGqd/lkygvM7r5p8IFrFpA5VjR8kNiM2Ot7uzKBOzo4o0xqoRq/omW/MR2RETSKLeUHr\n",
       "6RnzQHm9Ihy0lbGjlgUJG5wG0KOmUoVnLEsW/OPBqO1XCWhmFzKrdWYzJfj5Jx6PbiLVB3fgmE6i\n",
       "pHZqmOpjAUVP43FNqCUJCuGnx+XGVbcQlWF8JzIkGU/1nUs04mIxDsz1dSv82BmcwC7jydP+CaYr\n",
       "kUySvDpVTc4tuiKqDR+OtN15SY4EqdaFIwAa8jT1lKV6YyVf6haA+sRDZQ1BuENizOFongT1Evh1\n",
       "yIV+RBZ5uNExb4CSe/p3LxPIGFwSlpax8eEWdVlKjtxqKh5VRuZ2mYsc3gjj5yzQiFXkhlLB4/bH\n",
       "Hu5HogDSTlhcyDyY2x/n3S/q7dF9flIW2zAUbPEl3zHIj30aMvly/aqQUuTpJM0ijKyzTYoehu1u\n",
       "EaRpli/Vd7zq7hHG3eVoe/eztXYUS6kqCrnhQEr2d6UBiCKVmDBeX/JSEV11DgVmZpN9sn9a1UUV\n",
       "DtcOYF//lJmizYKvugphFtm5X8zBhr67O5cya6/1lIxjQSTjfVcb6dsZve05/sWPlScK+IqcHI1e\n",
       "XLqiR4Do+YdU3Lsf8psKTVmqv/+fJfqTHrBMk+70Z/SPadM6TM4RXwavIe4byZTsptA+DVQonpQ7\n",
       "YTYRxdVeA09plSmBa9JCfjBuASEEYNnGgGN0jcxRsGBVLMkwi4E2toAt5L4oQGDjh2CzC2v2KhiI\n",
       "fwumOYEOYTPigeIqYGyFCQc8FDC+ze2CfJ5AH6/WpMwNbaOMEseaPmfBntFnj9xll2zlb+M7shvd\n",
       "fPjkwlEST4QRdgd+Mdf2l2XrJ3DYr50QdyQRfbIVCNOLv3xLOfKYZwKY/Y/3p+Eq11haYex9d/pu\n",
       "76XNiUrXnIp2YsZLyBmRipL+q0mDz3ACbY1EGUYydR73plgtgTnYIMLv3HnMOhV26UWE4erJE+ms\n",
       "Y8MTd92R5NmM4u2LszZ5494Va3+PrTpRGQN+tDPPAtcjVLEYeVjaeO3EjUv55ZAFxU1f9PepFUM7\n",
       "gkdrR/+m3lngOJXRK23/CkMGQ2g1EbSWjQxTAwVHPdfyAnNrwLdm5NbeDfo2C40PS3s+N8bbQ9Ky\n",
       "piJkhj+wMZEdjQh3zKYRiZNhQjVMvIu2b4M0U4Ja2fGLF3ISVpmu8YSI1E+TQB7m8VS/HUdCa9pQ\n",
       "Ch4D0wRfrpP3Dq1lY4LUrngPYgvTqSDjlHC/kdrp1nkdUL4eqbtoXtfxFVM3qe2vpOehuStAMsqL\n",
       "30FuuJmB0TmjR5/PgYNteIVyuhhRwH13UwCEUEN9LNnCnMry1vAnX5YxwH6zgeBcWEHm5FMKAFNH\n",
       "SGwkwCq+M4GTgUTrCDxszKR1d79hvwREI8qFj65fsGKhQl9si4hbpzM86BhPgiqyAW4QdhoZmbEx\n",
       "8FYXZhkHSvx438vk4quDMaMB6FKcNc5jnUsaC2cGYUml46qvy6KFuQb2OvaZo+S9+97MvgYt+znj\n",
       "DSA4ciC02qwzqglIYI5cEqbvEVYnNTuu1uXzZkdZwDO2S04DCpjIG8SsbuuxwF+s26dpUuyyVU+x\n",
       "d8mXjWQ9TsdshcNYyJWICj7asaNKwzS43ssO9wV/gkCANo9vte7lrKaHRjaynrJ9p/rYZhvyNsub\n",
       "r7BitoxbsBK+Xw5tD0T571PJsFMauot1b9MgzAC6fR3pMwZGUgrP6AJjx/qJFBgOt3BP5AtXP+eN\n",
       "jQI4LqFtNpAVCMrZwwKLNLsGTUrIuaCSKj57XDMndSwChm3m8YdjKmTDenohWAgYWbM05Vdc+q/L\n",
       "IGMzd2RHk2Ayj4QNxLva5FCt6xjkGil0WMbHV6OnLM5wUkqfHFn+B9tSi8jmAYKbdB0L0V0GOHMc\n",
       "/YyTzrrn37eGyYPujiGEiEKBJPnTJRbr+PNYeHekTpxIwrkOd+1QkgaSZXov375x4I0r0yaX2Eb4\n",
       "DtVvTrmJ6WvPF/mtO2n9mEL5J7uytCLB3mGexHee0E7QxMuVsbfbGbG6966WXP5NX60wvZ9MDmX4\n",
       "Ll2LaWflqWTDsc28ciDPkS24pO/UeGcH/xHEPfo5HtHk+Ivr3lwj/Nr5SIYGl/fiTOwLRbVvZqC9\n",
       "/mGBf3Mip+4eVmr73QMlNiy78pohPSv3AlfonnDPMC8VnQVTgcMXKOcDfUS6LCk0cGTAZdyu89L7\n",
       "vPgWo/VHq3DeljMgsD67L3QohuKXMvU3zJQ/IkSg4JZCrwFfo4kPG11YizDbFySiEPjmZsWqz3en\n",
       "jzUf0cmEyIMrhAqJc1X43u5umMGVhCgMJgwI1QFFy9nchYwPm5bfEvIK+x+Ehd2xI9Ha7IqzDNAu\n",
       "0E4BF1ymSieKkiBoGNT6bVLuSZKmCNsOmTxHxuB/7Nn1YXS0i0JNHjGe5+w9a2kwxS9TxxpTGMwO\n",
       "wV7e1o9vGjSQurpaYl5z7tOiz1suxsTcXI0/o7QB6UzcgTTLMHccVAn922ROiEasn2EmNaDEKta1\n",
       "ooCQy1XTbn2Joud57Ar0I9Y0ZmF7rv5Yx98ajEZFlNLzwntWyUOa7sbbEyXzKNNrNwSWUvg08GKI\n",
       "gwR7GxYfzU/r4WoL91E3Y3XWECxOholND12oMiC4OEghG4pONfAlFbF+pudD5SfOBfo6PzMaw1Tl\n",
       "nDvSDx4lrXHbO8iYJZDukI1RAwSJzDRCay6FELOIFTfk79mTiGPL9tEOYHuw3tBbBfwLvDxqDoZN\n",
       "wYrYR3vQfuMnQnmZtI6dAkHzuB7p8yzD180rYSZdIkfk5P727T5yK/HJ6vthzsULQ5eU88XWhY55\n",
       "8BVpZ16JX6li5gMI0AE4OcpaCsOgTShqj1Iv7V2qO+GZ55tYSfy5Dg83VWy/opNwWrxY7a+/dVkr\n",
       "E0ApngTrE94GXeCV3cGDFMrUnjm2WEXupdkyJuPgCmGDP0Sw+QRPZGSN/xtmHRzfAnxpflu1UpLd\n",
       "8ihrJfRC3NEqZaVYs68p6ZXT+iYrrzsmQm1OL/XvC0d7eGOU3Wj5JNGsjg9HoYnlFvPTexj+o3ZP\n",
       "dnwTbuDek9Qx2xkM9cMOthS8TJQDSr85mg9nTBcJrZqbYb/s/xHjAZ0TAyIpXPptAzmPBegTdez9\n",
       "9YmSiIBhhzfmEsK3JpuNBaHFJ+js+5+KNjMloC8o//Fr8XmBKgVCuOWkx0U4Fp3r1ui/i4hTdtv+\n",
       "Ut4U8vpxmB0jsh136jcCheSi4ETa28ltoyWpYZriAVZIe1yAK2c21FH4wNzsDlKGab4Nyh+XA0Ew\n",
       "G0azprkTA7DqF0BHJXGX6RJszvRs/aT7BzCxentfigPx8FSip295YnCSPNmS5uA1rvsmCIrAFG1w\n",
       "c1vnB00i1AGZ958GeXZzI0TSAQH3Ysq/lEKSNj02wtK8+cSB5cadmcLCMV2QIP6VJyRLDJiAYqmS\n",
       "5qRgZN5zAlIy9UgoR4W3GAFAPu1y5NOJqamgmhsCRY+TtZlVE5/NJ2wU+uS/NHnWZDb9byqz6gId\n",
       "AGx4zX5xYy/9jm2wzZCSrGOW+ZRUBMLBk5P7+t6PYzpjn33pQyn2u+zU4jdLkAz6xGar7AG9Nw+G\n",
       "zUnfS1n+5IeRJJ5P1JyNliXSCY/XM+7GcLFsRi8eLpNdL3PjaDjqTeiLhTMNQopRI7R+Zaii2q+1\n",
       "AO2FsYbqzBKn09z4PzHc55k8Pd8aVCVvXUMIawU9c0Kc/C2H6vpOJVlkZ1a/3nJL5B96izgOdhb8\n",
       "TGI36dgZvd7ycx1kyfGSrk5C9l56bINIV1ewqzyKAgaZG30Yq7Y2ascPCL4P8qrvFk/O646OLM5n\n",
       "UzisbOKUCeDM/FwUJBTB7oKqAHMrW4IL0iZGt41oddWXQlWOv1A7tw7sTXA426qcUQQU4+rK6OS7\n",
       "ciD7L2bVaqqfb1p35EM0+TwQ345hD4Hkn0+lBo7oUG8whdWhOrpLOR4B5YvfWjgqbOesELrd8fZa\n",
       "Gkav3IaE1irk51PY1YNnmfDPyjfKDEdFnwpV6z5nfa+CLXjbub7GyHvAEjoie/NEmBXUKaBFxQ9d\n",
       "YZnutj6YWcKttKeq55JDe0F76SRoFmHf0CsPwEV+mW2NAJO/EwL8c5r0F0vKY1KCcJltaQccer5T\n",
       "25jO7L5V5WeZcW4Fbnbdw/gvftp6RcLPnYR9BgJgfxcEDa3wJF5R8V2Tl+fjA8SHzyEhZ49xb2u2\n",
       "Ba/EFJW4XMRoUUrHhXRKLkNFO8kEfNxVJr5Vwx6NIxCYEkaVOXCQ23nXqq0y+QYzt6GvWrvB7FIl\n",
       "lfeTTJoQ3hQzo7ET7wHwfEBccGnm3R2f/ltVdPnEzSWNUvPv/J+4uhodiIBT6onBYzGVgOcIjKMe\n",
       "Xpsv6DUX0nHqcRBLXgSosYimhjfFk74k+n21l3QdnU29RtEgwBbD/hcGMIC8ot9ZchCwB5Kecw3N\n",
       "SBraQZbikW8c9Y/vYHmD7416s8Qb1yFbhTjqY1OduwnXC21ise0A+J2cTOFxFPiSepLg9CB3w9dM\n",
       "1VOBKMmxybzyOn7WFKIYYfgo1mxXpkXzfLjgQOl6ljMoRLGrAL4lNdSyGjkh6YKI+CWR/sf2eLXx\n",
       "HULxMZA849HmKHhI7l6vZoRV25r2SUyzzwNjR3S7FyhragzP8+lS4BSxjFbh1VR21sxvdEMZvtsr\n",
       "dO1HWSbhGZmVvJ1h9aUyGM0SeSY9zwOHweQqFPgvV0ZXIu+WuP6KbvDlPHD5DAsNRQG8DiLic4/r\n",
       "GtUjoTL9Rp4+6hF3O/npLZDdR/cSqyGKX5/jbTmcG5fVcdTAFAGrZvGjNN6mObMRM+92NdhBMVR6\n",
       "siTmWsvHmRrU85JzIzAnOGcerOI+meuot64j12tJEUxiZnQJ2JsRL/ic4zgIf0Hw6PeJDJOz4d7J\n",
       "ogaOeKdbJEL2fQi2nmVvPZ9fcmVTY/xY2nJ8AGHQriUulHAzaRRtlQbkW1i3JYMhWyt/2c+JjHFj\n",
       "TxyCwStiJwE1wrLXXSy2oqOMt+VaNeYmzy5RaOq2izk/+ebbxfkIcfS48rfChWtddTvV1ALdIOk0\n",
       "mTwvqr9XsrykjLRPNSMlqhBAJeU1YuHCwf6FQcNrd+On4glLKaire9pQhG1BtA7XssGIIGaYnoju\n",
       "JV+OvBOLZBMpVzHsk0qPvo15eQkFIY914bi38d76gPnEvd6q/+DOSPmZ5JC2z+tZ88++P/FHHg0v\n",
       "biPErstbHlFd6HPQluQagb8uWcK7JFD67TR00i0mm8DrWJbX8ygW4BTixf2GWTgOdpKCLcmCG9Vz\n",
       "nWmhK+tXA9gslvMi1cY4eIRVkdYHN6BfAHPyA5cURyGwvLh7gUH/GYiKw6M6qU3WRzbHrXfjrw2J\n",
       "CO8iiVmKR0/O7gMff994d9+zsfnp+P76fMELF7xOYT7DpqfJ6MqjStyoui4Vgq+xxGsowYFXSRRF\n",
       "ze5PFCI/tnVyW9qRc5q12jEdC8OWZLeHp8BiJsgBKKViDbifplNSINU01KlDoFrm/NwvDAG4St8/\n",
       "Cm3znnplD5DK5Jkohv+3PjlHuVQUJAAyPExK8EyFjv4VrVGvJjBB9necQ4SEIR7xVUtEoKboynxE\n",
       "JDR8q986botRVwEDrH2079PO8z7tc3ujp+02Sca4ufgMhZJIg8RmOmh7YnzoXZxdwjTcuOzxAenJ\n",
       "tXkPF+V21TeIm7wUr4uD7FihZQUKtcJLNxlz+6zeRat1DcgDIQZvwHFB3dadKVl7usHE0H1m/e8d\n",
       "7mrHbCIpMAXQSlZY8XL6IaZ0nO7L3/rCMCwHGavOG650gYHahwXD/Yw0ChDyoJjI7BVb651iKGd1\n",
       "lWTXFcxXEi03wOfxpzzZj5X3VXUYdXue3GrrpvBywEEuh0/qAMnS/vYI8NgMUeLFHYLpLgjp02Gn\n",
       "L1jB2HB1Zes5H+YaixJLBdtyx8L5GC4DjJDwKsqzYqAlUhpBKv8xZVQRKEl6c7FNzRG5x/tEVaFs\n",
       "7H4zLyyKnP4ONHkK/FlWPBMDkFRzhD6qprQQksMAvoxdP4ZXTmugMNWhXbqWKsS4cR9aNr9fwtCq\n",
       "WYCgMq5cdmETqvrpHYi7Wa1kV0OrfR8RYW4fxtejxWkhgP3AnBTIx1Ma162xW+Bb9UwPaOZN5gvo\n",
       "6rbYVug2yL73AuLIeZ8NrbZQJD5CGYYyFv+astlamSUYRWvJwEbyU31YEHLZBqyUXdMhpg5iqzAw\n",
       "EkeWcuRBUqo7N1Ksk+5kE/kBVClXjWf1IxsgTlNd7N6qrgNGZAZlq1AtPl4Sit7f8e0FhvjLvOq3\n",
       "Ft0FbR5vNC7qN4VQwwP6KHByL0MBkFux76163mzi1i/6+cNMuZDHQU10newxajKTLKqtDwee6SL1\n",
       "ODVBHWI5grsppJyUPnbZjNQmjHb1pAtxzJobiMhcxD3rZPnCHpr+p++PDtm4xzr4BtIvtW7nDNsf\n",
       "iJbsXnWXUasKmX5s06rjwzQEp951+Crq32GzLVnXl6jhcGtpwI7si+6UveKb+c7ijqi0kjOFr5aD\n",
       "NLLqBM1rffm/NSFcCjwL+DtUPghZK1jRs7FCbsknVdAub3ocJ7sAJlc78EhTBeyZDnALpiYLE6nV\n",
       "cf6//oD1WdN/1A8vHvVX9Ke0cg4SAn2yC2pxr8N6UsqZhGvP4f9JxMjIg8mfVLXspkDzh1be+JpM\n",
       "7ry9md3FIACMsvIbal/cEfSbk5y5Z1JT00sqkm6RsrvU7a4uRBpWRvxiEjRnGid+fByXKplQFv2u\n",
       "P1L3Sy6bkska+dSc7IatCjNF358ZywGAvcJ2vE6I85/C/xgubHYSqEmJ5kXngxqqnXjayGB9e7s3\n",
       "+Xr0jylZlsOELAPrqjHBOie5pGm+brafxAnWRH49Zdny6CufY5oHUCeo/NrXnkoa0G7+/YDRciUb\n",
       "zSXNDCbsl6w4qlLJIBXP4UUyFEPtf2lZ2vuX1Vp2s6jxafFyeD4ZzJqCdGzbuvlK6Fvg5A0SJztA\n",
       "8yS1Chif8tPMdmVpICqs+Fq6WmDb29sH/kal1n7UKihf7N0W1dradbwh3TJbnoUgkVWoA4Mt5VfH\n",
       "lcRE3XVtkS141/gj9ktW3DS8VFohdG//2nZr7k3sJ0S1opFYpcedqRgU/pivRRfBp9O1CKAVbDk1\n",
       "en5XrZwm6mc2i0pFwsZYIhR4ZfTQALpUNtodfgYlPSVHMDGumVTuDQe7y37eFb/AqkTapfUOfDWl\n",
       "+1tseDG3mUmbe71+FC2QWiyyi80wXLAPbedwmEczdrnAdQ/IQK2NGWOA07d/vt3skmPHSD74K2/V\n",
       "vh00paWvFpnyP58nGDSasHbaxgjorWatN7PJgWpIxa8wGCOM+he3ppEhCimqD/igA7uY/XOxytsO\n",
       "HBsAWP83IYpxvizEkNuVljCRZLZ5OCi11GJfS/5AW6rCMsC7Dj4okr04/3atEeXYoAamMrIBJUUB\n",
       "8EDQitm7++dn3REvJvcVZI0WgPJfX2zVWH0pccDXB52M0Eg/7J+6PkN5ikG4Vw2ePS5j0bEengDZ\n",
       "tfa8Llw3T48UnOD5kFyX2v0VAsM9/ZCt8FI75jOd6R7ucMPXBWYMPptXslJniBPsrd6eazUR0m7L\n",
       "JXca3PSrFnE8gDq39/7BD47zmUofYyVoolrUx0f3dBXBiXV90P2Oakq49NGe8A5POlReggsYIkcW\n",
       "s3hR9RHk0dlz/nBR/iYd+C9ouPt9Ctk399D7IcaBloMWJe2FPt8/tDgZA4Jnn5Zx+XXBlc7/Y2g9\n",
       "ceTvsIN4flmq8IZGnlk1YbOZqeC1JYpxS3/TK0J9CIRDQ8nlamB0Hfdty2LYefyGA+q9p1Rvb43b\n",
       "L+p/1kGKLb6nr62GqJkGWV/OdgmXTPgRbxc22sdzd32ArGnv5Db98GTjucQjws+Ip+O/7xrWULgC\n",
       "P1aGt79zWHb7uz0CKdeBio02lqvjM453JrfraQ/l3OCMHBTUDr3LvIRpwAWyJnQ10g2bMhAblzrA\n",
       "N08qHbEjU7gKB9GRZgr+XeftCMWDpT92s+RLq0spgpEPwfMbpxOgu0zZ3rLYhe2HmGYNCf8koDa9\n",
       "idAxzK9Xy08hxSQawRkBYkWAjpbMp5DCLSFj5tWpRglIwgu9EAbkt7oOPJk/tMHEPdOH5yfjYHT+\n",
       "Pgm2+bBAnPv6HbG9w5AcVovqQngILcK+bp1eRRgTCZj7lKEkPzhtttq3Blpn2wdA1yK403vNiOZ7\n",
       "ckXnwD51NfvQ8VaqAgDQsG4gE0BDY/mi5SKy8VtLTdUEk+X9QSAjdwTHNvFVDDIAHgAxdjWNLvAr\n",
       "isySQDJsUTIBQ+/34uidyrYd7/1Zc0t52RjaPm5V8Sa6gDttd3xlt4Occ8s++OQ+YIZhbQUzacEV\n",
       "1gZtc4SGFoAU7L7O2JA2Zw1XPKgi3S8leaX/YgQhDWeK+XX/iIJyum9DdDC1rPWFa+yxSd3Nb24I\n",
       "tDUWNJ3C+wsJnS4h5QcZ5C2s253Pdsq/N5XUre7nI/zIJInPFxS1R/gJTMt+RZbGBqd4WDOcfs3J\n",
       "jmM1w0CBEFo98nfzD7T7JOuQR0T+E0XNLvua2EsmURehAVTznhV6+U56NbujmZ2Bkcsy5NigZ1je\n",
       "gtaAyB9CN2HcpSYYUOJ4+CHtE6xv1IhdD6f/OndzHNHFMCh9loCH1DzwmwzPDBFze2mOYtTNVM+U\n",
       "LHokZH4LMjkcBDcO/2QbMDlaht/Mi/GjYIVLQbNOYLWbYgBjJaIPhMM42A/fScjVHjGxl9q6qxhh\n",
       "s+FkRBb83qJHaTmXCvqsp6gqo+gR4k1qus1fBxJun0uka5mVvfH0N0kAGY2GfwaTNKMVjYHHRAHW\n",
       "69HFsNNP0fqXvtQ8a9Vq7MIUEm/z/aFjwYgNCfNIPsjAm3sf8GegHdm7zCNbI3sQoGNOKvzBTUnE\n",
       "qawlLIyfi94Gs6s03DPHhgFMoP4+DD5c3TgnYl597uN4mjgio9Ees9/Z30HO1+w4PJUchojjR4OI\n",
       "nhte10sffQ2WfQGf9+aUtGR1YCgvSK6SOTpkjYHlKBtczLdf7le7mRW7HRWQoIkYCoNV+hRoAUlm\n",
       "K3Sq7z+mdls5aEvXM+SlAiofGW90wxP2JRye33aI+nHyEshwVLUB/hyUNgTXnDgZn0NZyjMcqB5D\n",
       "7tp6ewm9STd4ewA3SMdBDQ/42fG8y6AFNEpEn6Iaoi6Wfbh+Opo8wJcuOJXyZg/F3qJdr/kX+SM0\n",
       "UH/2+Bd9GdLdQBQ3PIaD3NGrWbtSWq/2u/e4gAE5sH6VEB+/OxcizVwFiQo71UXb8ADKZB3JOUsj\n",
       "EyYaA6w9yWTgejkaWoaf/ugEBwXAMUzgYt0ej9p+rEzi+9Jl7pFMkpQWXii0/kTX2JQ0nSnxxu01\n",
       "0SfExCeB7+YpIuIb7hy8cdL/SA3WnzSD7q1LSsEzqsCopzQDZ5fseYeKCWs1XFhNvR/hi3qau58J\n",
       "9sHb4Yxs7olYnLXM8IZY9tglpjEoYHATarQYj7bHUlEsixO3nMbrQtG08FBOWp0oYmzxi+vqE567\n",
       "cd0yDVFUk8avyaTAVyJS9oTJhQGAYzbKv9uvBUZs6wZUZhqfVlsWDcqirXauUoPf02A1EYBZgGPB\n",
       "4UbSRc8O88O8GQeu6NYXPRQlJ7U0dyofN0OTawkthEd9rrT1WZqSUYLva1CwkA+WpLw3bQO7STHW\n",
       "ucFE5AJKp/CXmHw164ePY8hzo8YoseJFjza6IQuCXFbkjZkUF2gd28e7t/NsaeLoq7WID99uqf0g\n",
       "wkRcgQykdYXTaG6Rpfd9HVNq+jcDHYlelKIXU7ovjjOKvke0ZUBexZjp67imsaiRa3SLknnT87LE\n",
       "Be5hAnuyN7xZ2t17HI7La3+RQGKQMyb1R7WMqplKlfphfz/7hwv/DT+H+zYWN+EzPgmcJMdRJfJK\n",
       "xp+2gkBo6oZyUVEr9+/KivczimRMXoCMvRZvmbdGvtYyHl0DmV7FdcUtLgmRzUdjj8mkzBnRxUCp\n",
       "hZcCvkTQDF6QzM7VysMc3DS4zApgYaffxTY/XUecqDDI69fa5mfpYlgTncMjjaWYHTUqU36Sm9Cw\n",
       "2nFKnUFWQ7+yU8lc9fzNFYVxwDI3TVaYjl2KiUsnFLWF/idNCwthnsbv7n4LeywQGczkqFX0FMBB\n",
       "Zu6NO2+1yM3MX+m/eXFsP37v6vBwJZd5QWwe23otWtwVO9jqnVNGN8xyUTjOQsM0gaekbblI/C+S\n",
       "kqgXG49o/6Ok+4gmMsi79RLlFG2r9zKtZtMmW/sUF6GtmWgCIS5iZ7OwWeIjnU0XGr9TnESBIQ/H\n",
       "jkc2eI/j4ferNrapxy60Sp7g1TTaNKA21VKjYHm6RwmLvPsRfND2sFT9pPHxqw/YD1UTj7gSzySj\n",
       "T0KZOcrZ8wk4ckTeMpTm+dbOMsy5KU0Wv/a/1MWFe7Z+IMvk/ZsdWvgwbOgLcWJznP6NDEmM+MKp\n",
       "KP9OeIWbQmCMtRrdT3IzZFvabars5LBHGL28FDXGuV7aCQK1pnDenbMn8+j3DfKiQNCtQeC2Yg6P\n",
       "FaDSq2QxPbXEwX3TaAMb4YMxF3vvArN6I9LC/k95zk9JJ5LGztzEDXiTsT+PeO+hBlzkhxi1nm4/\n",
       "XalRZedngBRToSWcE3NzJLCHaS3iTbbWAAmpp4pDo1xSsZNbNsQT2mT5krnSTxOxBRwvpSD1N6eA\n",
       "QJMVpA2fAg9hYsjLVF3b3pXq7KescsAih6Ppc9aaURcNvfgdLSrQPtACZC4gtUuZHiO2zQwgFYe+\n",
       "LUDdoWp17Jl70Okg2gK5zlpOkc+EW/tizzI03WEgkyAvn28MneKWS1YIussuLl3jQWzzuqv+Ju+0\n",
       "jvsDd/SOmbar5cCt+EsvZuiXZDnKYyqOzxb4fTnK8/tNigbIeghtz9OdbWpUPwXM79smUYAO/mMJ\n",
       "QS+g+o72exb4Bn25Rt9cH+uFSXF05ADK53smX+7Djwn6CeLKCp6PvH6Owo2ijXJdp7Nov6mA+mbi\n",
       "6rH77vdn7yz1uxJjTqg23xz95skZ5cVWbWkSbA4ZSFcC1jqMlBlv7B7E3dueRhzROEfU4Ph813AH\n",
       "YV18MAx4mL3ZW8S00d7qmCfpcAKcKmoWtYuikLakxNqDwMs/s6uYMOb1JbyV6eVsduJlIfEPLPI3\n",
       "xN+Uz+lFTaDTqrcy+g0S6MRj4p9n7rOxskWvUByke5VCWY89cE41XzgrLtJ9G60oHgh/CvbecDr7\n",
       "TC9UtkYcQKvCvCd9m9OQK6ekO61JKfv4QHV4rbxkC4HMAoXJOHR/YHuF6C+OxGAfYSKpm+sXafJb\n",
       "4mJvGk5WuZ/mZ9g/mKlVuK27zDObm1F7nh+gwMSfhZmCHPE6omQuHz29/EHpthflPXfyvb9YdZQk\n",
       "ix8mzS3/ou+xUKIkNtiZZ8mq+pxR3PusKVUDSXmfeh879pbiFbqEusw9GVCl2nMDRdhAFVkInbpR\n",
       "bJU9b54ihdTMRJJAUQfrfr/Z9mEdTb2ij0IqWl0PF5uACzkmHRn+v2XS5y5m5hQTBJehYm/CLXsO\n",
       "f9kdIEXUoiUVR9L07QnUv4lmI4uGhwAdKD6D+pK27NOfkBwJP/v38hWNBauNq//nJf1nkOKKo6cI\n",
       "aFRDt/RcdT0zgC5wp49/udk67PbWoAAMm/qK8hS9QYz+XjFE6aEAAAMgQZoibEL//oywDK8Tk5z4\n",
       "IdCg2uAaFUX8LkapTCNnwNK1F6hx7Sw0K/vzHleDMKloZOQ8DVUGi3Wk0W+plc8MQF2QDLC3WnaJ\n",
       "BvlSK+ocn6Yx+ywMv9l53T6ZJswrLnuMa8t3CSdYGN9O7i4GrPGLMgmjyqEHgwJX4jKfVgTAmjeU\n",
       "iWtYqHukoQJTBZKCzkpiGx5t4NAf5BfH+9ZGW+kChcy6XhWPqUNKj7qnU0+fkJKYhdvGG/o7y/qy\n",
       "HTwHYfd52GseXwMLZrlRKjUGh+j2YM2t27MqIvY7JX+Ya5i5Jdlq/IvmSOygTehsIS6JMgnfGCW3\n",
       "eXOp3xZop+8PPqHiZjP/kClDL/Ss6t9LBNXaRa1Dr3vS3nHXO6kSsZQe79KpWnYvvn8klfNgtkrC\n",
       "vDDaxpSyc+U1UaBcpPDWYEj5lwyvxCtICQW0/P07Ml/6HnUOcYQIJ05pgTyepZ+U2vQxGKiIz9vR\n",
       "hu2JIDeiB/498cY8qCjnZpSqTb+29Y3J/zhqP6qL4Bp7DBqf1pPkORNjaPO6Abf9c12UPYxq8oVf\n",
       "Zf1g74GupzdTLnlMMPllzYz4MuoUXMV5i5WwT4g2bVj2UYspTsMn6ILS7BXLAym/vanR0PbQ4yEQ\n",
       "AvRDwH+0IIPUJn2nOqLXJ2ya2xJ2SL1wL6oBargJqIqw2301R0NdDOTzBPLoAL86P5DofAK2L+3t\n",
       "SRHB3hhTDwcgW60p2Du2Cm+FTKTeNtwHf3XbgScMx5p2G0RH6YDWcMS4PoCCUEjcRB0SjKsAUIaO\n",
       "OJG9HVCpGenbIARmj4OmMCWxC5x1aOklS40Ev04P7Db99WlY+pmeY+bzz5Wy1Shy1tWpYGZVRhqC\n",
       "9dKuG9lGlQ7rRFsbX7PFGTbomkk0ZWDT6jrw7QH4mZNDP4AngBRTSrysU/zHJCqOtcmTtAGMVBob\n",
       "XI62mpE2F1NsSi2wAYwlBGzZkCdXUwCf88DEThTpDRYhr20jA6OGzqD1DBacZLvrc8WZ7En9AEJf\n",
       "xewAZ7F5UdqsfTlQdWMMDoWidER0Q/7+tCEWeqVEO2pgYVycE0/dkvNhggIAAABWAZ5BeR//B+u8\n",
       "Ug+p9nbE6KMjOue0dAACWndtuEcTkyResw3tYYqBlRC0d/2Rj+Tx+LqkMJz/mZgCLR+AHFg1Bt6U\n",
       "kS8Gi8OzljJHFoxIfVd40eoJwacAAAEgQZpEPCGTKYQv//6MsITicnOfAD2SYdrKr0DLjB2oiTTu\n",
       "z44eCPgN7EAkA+iNGCHmTEsVew1sAItBKw0L29esXr1pav5K2/f19f818nReAj89BFR2yoqjQUgJ\n",
       "Uajra1WT7NCMNd+j2owrgT7jCISkBpUDUBKvEb5SMqbwCfggs7CocxTAHjCgWB4RnrrRP/VSD4iB\n",
       "DiSmt93joAFybmFUlUO2FSeeIGCXTXkbRSrR5hfsUcOKXk5c0VjM3aJy5y/JKzWLf/xWgWEzm98I\n",
       "7SGS1EOr1RAhziyqKC2MdHaUDxG+WBf32te0EtDQLWG+bjR5q7of7owVIDPG4qXqrr8aWYpvjjZH\n",
       "X1V9pKdFJ0Efugoovv6hb/cOebu8tsWoSluwAAAANQGeY2pH/wfkijKKSqTBpv3HWVhIJCvBnUmF\n",
       "AuhDI9O3DY9XiAAbD98OGIMuulfC17HlozJhAAAApEGaZknhDyZTBTwv//6MsAyvE5weIT1O7bAc\n",
       "AHSNa6dX8ZwqesvZrSNfTKQpE9vYEDLS/OC0rmOPc95CQdXsMKQxY7k1fitkpeEMCMx7l2dDXC8i\n",
       "k+DcOf8/YGdKn2R7X+Yjj/gN3Ei5+L+QlJ6J0aFQ5ZU+3gnOFupTSV0n5KFn1D7roxWSHNP7yg4H\n",
       "TomPBsAU/jSeaS+gWsFCReXG3PLEd4wRAAAAGAGehWpH/wQyR3dJrCVadFAWkXjy2QT4jQAAAMdB\n",
       "mopJ4Q8mUwIX//6MsAADFRA1AAZoLcmkQOox9O1OHQBJMhzQLN4WKmHmxvaZ0yAwYvie+pAwda2z\n",
       "uXptIBRQawKzcOIcB0h40xxTJWLecth+AhistOzT834bvciKDFVY15lSuFcj2hQoKuUNSd5SmpP/\n",
       "FAwFrSM6/PjgpSKdVAstflJQb7Stg/sVf8BWIIiB+/w4RFDaOJS1Zr8BzjPjJzIl4HzrtPmyxekh\n",
       "y8rnPhEQgNU0d36AMlcE5ig3H03R6qeW7vSpAAAAH0GeqEURPCP/AEdnzBEbeWMAvNczQAfiXPpa\n",
       "IZKO0PgAAAAXAZ7HdEf/AADN35EOvAAXQAvJAHca+MAAAAAZAZ7Jakf/AAGTfJgBa0C4a+mevsYZ\n",
       "57nbwQAAAI1Bms1JqEFomUwIX//+jLAABgICBwCa6HYd1jvpN69QiNUsupPC+p6LunzPsdMBY+qf\n",
       "p+JvMmscncBxdamujPyX6jhx8x3f+P0HApBt4f+P/EeqJLH46L7VsvIn1DX9vf9ujjFRr022pkRL\n",
       "9Ex2XivWmEsYhFhivkOC+54TTjbAMdptwTfh2APF6yP19oAAAAAbQZ7rRREsI/8AR4qAQQ/K+k7g\n",
       "A2Lp8Rmv1wpAAAAAGgGfDGpH/wADBeLgCiACcZkpR3AHp2ojZjUnAAAAkUGbEEmoQWyZTAhf//6M\n",
       "sAALtl5aABohyR3r6GjR6D3rujIHBN5pOv3gu70sYPgKYIZ6P613UTlnxUlt9WDMHzsmy9idQsUd\n",
       "1Vj3sVBx3heg91M4JEDuzXslV+yCPJdydmdUka82eV3iScAm9GGm7iZ6izaeJ3MfODr45RmtjJ+a\n",
       "JcIf+uSRJtXT/142nMi+YB0AAAAdQZ8uRRUsI/8AR4qAd2VtbdkLQAgN1Lay4S3St0EAAAAWAZ9P\n",
       "akf/AAX6eAoALoEVCtJJTUN4wAAAAEZBm1FJqEFsmUwIX//+jLAAKlh9y4cwfLy6YGr57wdG5Y0m\n",
       "UkpA3NQxFc43lwujRFjiZghYNuo6lEstENM9lYxb88/vVVbAAAAAk0GbdUnhClJlMCF//oywABb9\n",
       "8fB5Tf4ALqPTBFK58yPwBOhLhsLbwnAL56jUFUdLOTNhHbXj2hTqKHwRSU+q9kIYU/U4sL2ybPoh\n",
       "mOB5O489cJyoLUfpY/zZ2LWcNrdtqH1c4giMneGjMECwKZ9qPZk4F0WKIZj6aqDWh/D2L1WoKyRt\n",
       "RdzsXTlZheAVp+YBxP6r4QAAAB1Bn5NFNEwj/wBHZ8ziD51SNBYZACdYQMMQbV/HwAAAABUBn7J0\n",
       "R/8ABfdQvABNW63rHZBmMQMAAAAXAZ+0akf/AAumZ2Jd4ACcaCVDd1f/ZtsAAACvQZu5SahBaJlM\n",
       "CF///oywABbmD+cb1wFBeDWzobfOgokRfdxwkZlHxQxlGJgEVisGhAZCpOdn+5qhTARzNfrg7Lz6\n",
       "l1QUUA2p4uaoYDlnIFmmx46/2amMsN/0K02xCZr7TZK8/iPUD+9uHc54w9NYUbQ26kWpppKFvc0g\n",
       "1EoBKBJkcfENaR+eiRiMd0ZtOBn1TKbz0z39iwIJY92uGcbeGVj/fZuVWZ/2rDXYLVHQkwAAABVB\n",
       "n9dFESwj/wBHioDhgHp62MvlrpkAAAAZAZ/2dEf/AAuhBJgBtn0aZ4Xrtjtu2GiFgQAAABcBn/hq\n",
       "R/8ACzhONgAWhWztQvCN646ImAAAAF5Bm/tJqEFsmUwUTC///oywACpYfYMBoPVHkeP/dUTwbmn+\n",
       "Mm9PGR3SHyAIRs27gsz30fQx7UyUh4ykqrf+Hz5KL4AVuMVCDKhWsldcGG3M0el2Rj+7x4bvxzOD\n",
       "NHHBAAAAGgGeGmpH/wBxe93Ix22EqoaAER2fSfwxSaumAAAAiUGaHknhClJlMCF//oywACu74+Rw\n",
       "1gDlgE10OyjpRcBwh50idOa+ptGyrK0PN+gAoW/zzBq9U+s8OqStpiIc1zOa7wXhQw7NdyYEskXc\n",
       "3VOojpIOAAuF1LATL5HC6UUohax1DoY1wyYjuWr9KNwGFFsklbW+gSqk/3/UTJl6bItD6Nc9FwjT\n",
       "fhxxAAAAFEGePEU0TCP/AEdnzcNtvhcjjtSRAAAAEAGeXWpH/wAWF45/rexTBGwAAABEQZpASahB\n",
       "aJlMFPDP/p4QACsZyfIAqzVWFqJR9IUtYt1d/99JVObNb3YBkJhSzqMT/XzTJMesxUhhjXLf7lpm\n",
       "tWyih4wAAAAbAZ5/akf/AHF74p4QuLCemABLSX/2rT9xwKi5AAAAS0GaZEnhClJlMCGf/p4QAFa3\n",
       "38I6CG4Aq3MWmC3WePCb/Nslabm2R0LxMpOfKIw05b8a2DNweTLXgLI5Gr8cCIGq7JNXWkcTbJIw\n",
       "YAAAAB5BnoJFNEwj/wBHZ8+WYr0ANqR2VcTcyE/OLvugu4EAAAAOAZ6hdEf/ACxWLiWIXEAAAAAN\n",
       "AZ6jakf/ACw5XLxRoQAAAHhBmqhJqEFomUwIX//+jLAAVvHbYChnjnyuY+tXVczMSv0+JzgIAqU2\n",
       "NGqqzhsQoJi6ye6RaeZgvtFC8DXLvLpr+cbk1HSwbk5CJJRiMiRaVnh0Lflxeu29DcbLJSyzmKFq\n",
       "EePY/zIGMgnjjyTPzrDtKBwCCSJQRL0AAAAfQZ7GRREsI/8AR4qDRg3TAAR9f4AHBgyHfSYrfJyp\n",
       "IQAAABEBnuV0R/8ALELevvKLrj4z4QAAABkBnudqR/8AFrzy9/vRAALGYmXXa573xpJwAAAAa0Ga\n",
       "7EmoQWyZTAhf//6MsABU3BGcAFgdR0KWYx9KuKd6qJnLxj32CUWjSSTBzkV4k4l/dbBeDW9I7xcR\n",
       "9a6zaYo6L80c2MfONM1iUl427vKePSHaDkx73Qwkm4eSnjjNlzMUia54socP/B0wAAAAHUGfCkUV\n",
       "LCP/AEeKgy670gwAIevc7rjTHQiXiTfhAAAADgGfKXRH/wAqoPlZdMhYAAAADQGfK2pH/wArD7fY\n",
       "o1YAAAByQZswSahBbJlMCF///oywAFbnzbgChCox9sdZOhNrF8RPiNHvpmP/Xb54wodot6u+dz0U\n",
       "QWtwMwVAM35mKBUgaYxCztB1Ev5ZxwN+hkQ5zt/aiNyjjYIQjrDyvCHauGxLDG687LReIPFrFySV\n",
       "V2FzagOvAAAAHkGfTkUVLCP/AEeKg0cnwJAAFzwDFNIz13sn99FxgwAAABMBn210R/8AK1bigAnV\n",
       "Rxl4pIPnAAAAFwGfb2pH/wAsSappIAJaFnwtUO6YxMWAAAAAL0GbcUmoQWyZTAhf//6MsABUte24\n",
       "AX+whErq2fE4oHm+T+fxg7vrrivFzLozCTQgAAAAT0GblUnhClJlMCF//oywAFS1gSAF/PMt0Tn+\n",
       "UEYuwo5wZDyFg2Z/hZX1Ag98kQZjIA4k/+Tave3nMcSEWs0O1VoqM+ZfaG9rtm3w68aMK+EAAAAc\n",
       "QZ+zRTRMI/8AR2fPfIreYAJqybmo659ipaj0gAAAAA8Bn9J0R/8AKpl5VbSIXkAAAAAMAZ/Uakf/\n",
       "ACsqAELzAAAARkGb2UmoQWiZTAhf//6MsABSde24AR1S1KVlT8AMDSRLoYh9znZlhRLTX+mo4GPz\n",
       "aqQZKv6pED/H26lQhfK/eQWP432ZhFwAAAAeQZ/3RREsI/8AR4qDHmX6gAnbGI8Ss6zM7Lcte+HT\n",
       "AAAADQGeFnRH/wAp9kEhB/kAAAAOAZ4Yakf/ACl62u4QwYAAAAAqQZoaSahBbJlMCF///oywAFKr\n",
       "+PpBgB0j05PznG3Gs1hLgdf4fiN6eQVtAAAARUGaPknhClJlMCF//oywAFJaIdg9QbSAJ2mwsJcg\n",
       "e3d9m0qVRBSrqgOSbJMJk6mAmq9MeceHRADJ1d86djcWpCTHSxDBnwAAABxBnlxFNEwj/wBHZ89q\n",
       "OngAmmUu98q0aygnHp6RAAAAEgGee3RH/wApexspdsNajiAZ/wAAABcBnn1qR/8AKjMcAB+42rbC\n",
       "pZCMX1kYsAAAAElBmmFJqEFomUwIX//+jLAAUnKdAA5YqDYXG/rhLbhpw+GteoaLBcAGrlNy5ndS\n",
       "zTOVEIQnvgXkofPO+Xb62kSLJc1EAReAQYSMAAAAFEGen0URLCP/AEeKgx8oFnCs2LaBAAAADgGe\n",
       "oGpH/wAqGYTAwJWAAAAANEGao0moQWyZTBRMM//+nhAAUbK+OAKXVbsLfQVAkREZVx2KjSt3wajJ\n",
       "Kj55kpcgmo9EDFkAAAAXAZ7Cakf/AHF74lLroAE4sl2l7pxUkYAAAAA3QZrHSeEKUmUwIZ/+nhAA\n",
       "U/OPcAHG8yiYNl5QXI2ah5292xb9QH5aL6mP1L6A9ivpzEIQLPwccQAAABVBnuVFNEwj/wBHZ8+B\n",
       "Dpyg6yz4mYEAAAAMAZ8EdEf/ACji5FG/AAAADAGfBmpH/wAo+awhjQAAAHJBmwtJqEFomUwIZ//+\n",
       "nhAAU/HIAAF1rsG8qjQy1bHaNZRHkdVdLwg7HIEgFEDx3OarOP0g4OxJubPvtwdmmM7e/3q8Pxss\n",
       "UG/jX7KhIC6b6jDzZFGfVTGU26jcZb5XPKrJTLqazDFyhrCIL89mtX8qkZcAAAAVQZ8pRREsI/8A\n",
       "R4qDMhgNUWorGArYAAAADwGfSHRH/wArIrhiu7CVgQAAABABn0pqR/8AKgmn0yN9z4W0AAAAUEGb\n",
       "T0moQWyZTAhn//6eEABT3XC+YwAXF2Lx+0NVh3EITRLMZoVrU8IRKcVDbPHeKL8FzgFZKmrVFSS8\n",
       "oreqeIwAa4wzwS6nVzAe8kYbpoUEAAAAHEGfbUUVLCP/AEeKgzM73EALeFyQ4393P3/ZC7kAAAAO\n",
       "AZ+MdEf/ACs+hpQkxYEAAAAVAZ+Oakf/ACr2QbSACEKUscX4eKNXAAAAQkGbk0moQWyZTAhn//6e\n",
       "EABT8sIAAGirsICaTehpo+aOVRRCqo+wb38g5Q1rHkUfGg2jGb/oJQ4z4pyHozSJGRIK2AAAAB1B\n",
       "n7FFFSwj/wBHioMzQGqAEymuZfrsJ3EueUOEDAAAAAsBn9B0R/8AAAMDuwAAABYBn9JqR/8AKyzk\n",
       "oAINCMXadikqpB8wAAAARkGb10moQWyZTAhn//6eEABT8nRgBrY8JpoA8fzOec+LDrYWi0M2Sta+\n",
       "YdpX4gX99/UiIKxIvvjzn0S0+69B/vZiCSVZhJwAAAAZQZ/1RRUsI/8AR4qDLSwTeABu9PFxbvhx\n",
       "wQAAAA0BnhR0R/8AKtwyUQfMAAAADAGeFmpH/wArKgBC8wAAADRBmhtJqEFsmUwIZ//+nhAAU933\n",
       "gjYagBawT+DOiWUua7AGMufhEqWZHCpOM971at/tz4IvAAAAD0GeOUUVLCP/AEeKgAhGwAAAAAwB\n",
       "nlh0R/8AKz6MUasAAAALAZ5aakf/AAADA7oAAAA5QZpfSahBbJlMCGf//p4QAFPzj3ACHeMnPWny\n",
       "wcfrMxAFCW0l5bpjtGEW7gwSxpVTdzwjeZ/qIGBBAAAAGUGefUUVLCP/AEeKgzWO0ADVI+ZgVija\n",
       "IGEAAAAMAZ6cdEf/ACs+jFGrAAAACwGenmpH/wAAAwO6AAAAb0Gag0moQWyZTAhf//6MsABUs3hg\n",
       "DLTqrR4QRt4AOBdq4GryfKMK+dESVAnlnKjC/YfbjYEQabY+Nu62b/ZYzJtN/l9ft1laAJCafRCC\n",
       "+7dr3VtgOSbEzYzY/MrkXrhH8BuYF8IUNegghsOpRGaDuwAAACFBnqFFFSwj/wBHioMx8RfSxcAA\n",
       "Jxfbnzu7eessd6VUjYAAAAAZAZ7AdEf/AFQ9LGbzYaACWrOObG7f5ERSQQAAABYBnsJqR/8AVEgf\n",
       "/vwAE1dinLr035GVAAAATUGax0moQWyZTAhf//6MsABUtDbbAJr6RRvVBRsYxRhrPGb6VjyYsubQ\n",
       "8UhlKl2kUC5HbDZuav6Q3FwbDOne1hvwAJMMcONWB72yPgSNAAAAFUGe5UUVLCP/AEeKjM5g5hp3\n",
       "gKDQgQAAABgBnwR0R/8AVkUmti2g6AE0gBdhE96QwIEAAAAOAZ8Gakf/AFZzCYGAkYEAAAA+QZsL\n",
       "SahBbJlMCF///oywAFJz0oQBBIonUbS4SDByI8HE+tAIEpUrN9rhjyUhaGSCtRidFexvkiwCbAa6\n",
       "B3QAAAAVQZ8pRRUsI/8AR4qNckG0ZkSCxg6oAAAADQGfSHRH/wBWRSbXASMAAAARAZ9Kakf/AFZz\n",
       "CXY94fRkiRMAAABNQZtOSahBbJlMCF///oywAFJ1gSAF/e1BqABUWeT0AlogIK90pc6zsRTor337\n",
       "0hgAY9LQsXtkrL0xUCQRfD8RbUlSyVPhRHmy1zgxQekAAAAcQZ9sRRUsI/8AR4qNckG0O10jIAD9\n",
       "0l7/V94OqQAAABoBn41qR/8AVnPTyQEZUuABNqnJuJOHhNVxQQAAADZBm49JqEFsmUwIZ//+nhAA\n",
       "UbF6AArm8PJ6m66t/kTmM1Fqfj6155EAGX/aLNAd/vNSeHRkwVMAAABqQZuzSeEKUmUwIZ/+nhAA\n",
       "T86eBd0OAJW8VUxt39VGMwnFRc3w9hyLnXcuwTjHynkqq29CYAcDFsktWTQ5YCpXw9tC7QbOLQ4S\n",
       "VMC+Ek/aLCU0+fVnUIgxhI3yqvCUdNt0Q2T3fnwZ5aqMaAAAABhBn9FFNEwj/wBHZ9wXmH2Du8Al\n",
       "ZQH4W0AAAAAaAZ/wdEf/AFZF2p5MBlLOgAcX/ku8iKUw2asAAAASAZ/yakf/AFZzYDzXWikMPhZQ\n",
       "AAAAMEGb90moQWiZTAhf//6MsAApOebwAVHbSWrsmfG4rTOVV3lEWmRWLPqmlzyMMLMRcAAAABtB\n",
       "nhVFESwj/wBHio1yV7I707CAG1c6GZpwTlkAAAAOAZ40dEf/AFZF0eIVcdMAAAAMAZ42akf/AFZz\n",
       "WEF5AAAAOUGaOkmoQWyZTAhn//6eEABRsOuAJ3JLuIkB7/qnP1f/QHK7KWjubybBeDk4zYYgm9pJ\n",
       "oU/2JMNDjwAAABpBnlhFFSwj/wBHio1yV7K4rgASJ00APEE5YAAAAA4BnnlqR/8AVnNgR4h5SQAA\n",
       "AD5Bmn5JqEFsmUwIZ//+nhAAKNqqnADljWlgCNCGfBzdmqOqAbLmN7FF7zdqM5YhEpBQcHUsXS7h\n",
       "jXasFkP18QAAABtBnpxFFSwj/wBHio1yV7JSSH6wAG6hX2+wMCEAAAAOAZ67dEf/AFZF0eIVcdMA\n",
       "AAAMAZ69akf/AFZzWEF5AAAAJUGaokmoQWyZTAhn//6eEAAo2qWwAXNuKnZawVKygl3YCN0nCggA\n",
       "AAATQZ7ARRUsI/8AR4qNcleypddDwQAAAAwBnv90R/8AVkXIoasAAAAMAZ7hakf/AFZzWEF5AAAA\n",
       "SEGa5kmoQWyZTAhf//6MsABScZkAF8gasmQQjlWkmSISKgLrQNxpmap4bzfaURlqnB1f28hm46Uu\n",
       "nbAhyIYMX298NBrtjpijGgAAABRBnwRFFSwj/wBHio1yV7DQf0HlJQAAAAwBnyN0R/8AVkXIoasA\n",
       "AAAWAZ8lakf/AFZzYEQkOACcEnyVmXykgQAAAGNBmypJqEFsmUwIX//+jLAAUDJOwBEx31jGnqG7\n",
       "97QaHbrq5no+rBOOmbIDX+2HCVpH+eO3i/wOKWEm9cAouek99fWsW4o8vUCLkUp/VHTTHp1LJdrO\n",
       "1NBL+2A8T1qqIS/oHkEAAAAWQZ9IRRUsI/8AR4qNclgwCc9OhukqLgAAAA4Bn2d0R/8AVkXRohVx\n",
       "3QAAAA8Bn2lqR/8AVnNn4zFw7oEAAAA3QZttSahBbJlMCF///oywAFBYMNBTgAisVGPBXdeYRFvp\n",
       "zbmx1Etbz6OUN5xq6+5cXuM9rHILKAAAABRBn4tFFSwj/wBHio1yWDGcbT8VMAAAABoBn6xqR/8A\n",
       "VnNn7OmACUt4KfAPYeq2bWsNqQAAAFtBm7FJqEFsmUwIX//+jLAAUDH/xACtsz/RM6mcPvw4GZMp\n",
       "TxDRfza4kX/hOXm8O0ge6SGskd7cPZniH3OOWpslPQtrTkJuP9LF/JF33A7SbaCEoy9ZRY/tQH5B\n",
       "AAAAJEGfz0UVLCP/AEeKjXJYMauAgBos505KwlCDUp+WHczJBM8R8QAAABIBn+50R/8AVkXao+5Y\n",
       "PPWPSsAAAAARAZ/wakf/AFZzZ+MX2yxuP8AAAABKQZv1SahBbJlMCF///oywAFAynQAId4Z/afyX\n",
       "Y2tz+qNV+0UGfoiKXXX/XZjXTuaZMLU1F6W2q1OwdSfi2C0WPJaFHuzVw5joHpEAAAAgQZ4TRRUs\n",
       "I/8AR4qNclgxKowAHFlFZpkKrOZ5q+zWhYAAAAAWAZ4ydEf/AFZF2oGNPoAE2eMUML4qYAAAAA8B\n",
       "njRqR/8AVnNn4zFw7oEAAABCQZo5SahBbJlMCFf//jhAAT2zjoBCO6ucG8nLJNRx7O7eb/8VqMJs\n",
       "si8JtiREhwPoAVHGUmkh4AM8aQL8hop6aD0gAAAAE0GeV0UVLCP/AEeKjXJYOgVIUEEAAAAOAZ52\n",
       "dEf/AFZF2yQq4dMAAAAMAZ54akf/AFZzWEF5AAAARUGaekmoQWyZTAhX//44QAE1G8iAOYdrw57M\n",
       "KlNoFt1D+8Dm29CWCwSkQeuxmsipp538F4IU9/FBYyc2r4SH70kpmEgb0QAAACxBmptJ4QpSZTAh\n",
       "f/6MsABQhzvj4ALD6CEDLmyRG9XXCQOsv+cWf0Ly/Bg1IAAAADRBmr1J4Q6JlMFNEwv//oywAFAg\n",
       "ur4AwAK5uU5JVvyIGhE3EaLPiTWSf3vVKAe1Y03s8MGpAAAAFwGe3GpH/wBxQncccXgAJ26DOeqj\n",
       "aImBAAAAQ0GawEnhDyZTAhf//oywAFA1gSAEe88UYAK2fIZxLCR+OgTBkrVkiWgoQVh69kn2WY4z\n",
       "0Q/+w08B2u/U3Gbcd2K6B6QAAAARQZ7+RRE8I/8AR2fPTK9/ipgAAAAMAZ8fakf/ACj5rCGNAAAA\n",
       "UEGbA0moQWiZTAhn//6eEABPdLnAEUBd9tHc8XTIHE7HIAtrbSV4A3lF6XqTydBKCK3BznESWa31\n",
       "AnGfIeo1EMlmwvj3gehxivB4tLq9RYOmAAAAH0GfIUURLCP/AEeKgws5zAAtSJYM34ntkskNDeb4\n",
       "qYEAAAAMAZ9Cakf/AFHzWEGNAAAARkGbR0moQWyZTAhn//6eEABRsbjgCJj7Z3OoYswrwWZrKOq9\n",
       "Kk318gyiE2FFTinXoaYEjIwEkMO+ao/bfAaNYc9zLTn4OmEAAAAZQZ9lRRUsI/8AR4qDHyalGAAn\n",
       "WRMctlhqwQAAAAsBn4R0R/8AAAMDuwAAAA0Bn4ZqR/8AKhlzQYErAAAAKkGbi0moQWyZTAhf//6M\n",
       "sABScdtgCt+pR4XPEwCG+bvTZrJsOl/klcgrYAAAABdBn6lFFSwj/wBHioMhGdAC3U/Q+P/FJAAA\n",
       "AAsBn8h0R/8AAAMDuwAAAAwBn8pqR/8AKhmsIYMAAAA4QZvOSahBbJlMCGf//p4QAFGydGAK35Bq\n",
       "6fVhxArLTyWSIJcfxkc0MKzulqM0eaXxZ/v7EtunBQQAAAAYQZ/sRRUsI/8AR4qDIRnQAmmVX4Hu\n",
       "w0QtAAAAEgGeDWpH/wAqMxwAH6LXcrSD/QAAACpBmhJJqEFsmUwIX//+jLAAUnKdAA6R64IAaQtP\n",
       "L1gnGWrD9GmDhKMGYRcAAAARQZ4wRRUsI/8AR4qDHgv8UkAAAAAMAZ5PdEf/ACoC5FG1AAAACwGe\n",
       "UWpH/wAAAwO7AAAAOUGaVUmoQWyZTAhn//6eEAAntN+BgBIfqQjBj6YQ69EDN1m5Er6TGd/vcjp1\n",
       "JZKxRaWEodZeucFh0wAAABtBnnNFFSwj/wBHioGJcnS4Aa4KB0A8az3d8d0AAAAZAZ6Uakf/ABSP\n",
       "3mACQzx5LYuNqYYTZlFN+QAAAFtBmplJqEFsmUwIX//+jLAAKUvkf6AIfE8T2jrdpDPiZq6akeOt\n",
       "xUDQ3bXAMvG7PcjRMYCSrsdFwwOX2dmP7gO4UtRSn9g1bTcQkCSD5lYaRoXL5M9zQLPtGLOAAAAA\n",
       "I0Get0UVLCP/AEeKgZOOy9rFBACrZMCX7M888Ce8jzODbGrBAAAACwGe1nRH/wAAAwO7AAAADQGe\n",
       "2GpH/wAVEgiKbUAAAAAnQZrdSahBbJlMCF///oywAClMHoBOgBZxs/cf53+shYHjRrP9PkK3AAAA\n",
       "GEGe+0UVLCP/AEeKgZTHaAC2dU9wNbSFgAAAAAsBnxp0R/8AAAMDuwAAAAwBnxxqR/8AFQzWEYMA\n",
       "AAAxQZsBSahBbJlMCF///oywACk/5KAAufqeNKRLKTa2lkbZLCa7PKvvEq+zr5BCMe6DugAAABlB\n",
       "nz9FFSwj/wBHioGN3NVQATqCNoxcTzKgAAAADAGfXnRH/wAVD0YptQAAABIBn0BqR/8AFRzjAAfn\n",
       "u8QCQ/wAAAAjQZtFSahBbJlMCE///fEAAYdjuoAJUYVSElaIrFU4EN3Ae0EAAAAPQZ9jRRUsI/8A\n",
       "R4qACEbAAAAACwGfgnRH/wAAAwO7AAAACwGfhGpH/wAAAwO7AAAAHUGbh0moQWyZTBRMf/yEAAln\n",
       "qvYAJwTB33s0VikhAAAAEAGfpmpH/wBxe98zG0CPKSEAAAwubW9vdgAAAGxtdmhkAAAAAAAAAAAA\n",
       "AAAAAAAD6AAAD6AAAQAAAQAAAAAAAAAAAAAAAAEAAAAAAAAAAAAAAAAAAAABAAAAAAAAAAAAAAAA\n",
       "AABAAAAAAAAAAAAAAAAAAAAAAAAAAAAAAAAAAAAAAAAAAgAAC1h0cmFrAAAAXHRraGQAAAADAAAA\n",
       "AAAAAAAAAAABAAAAAAAAD6AAAAAAAAAAAAAAAAAAAAAAAAEAAAAAAAAAAAAAAAAAAAABAAAAAAAA\n",
       "AAAAAAAAAABAAAAAAbAAAAEgAAAAAAAkZWR0cwAAABxlbHN0AAAAAAAAAAEAAA+gAAACAAABAAAA\n",
       "AArQbWRpYQAAACBtZGhkAAAAAAAAAAAAAAAAAAAyAAAAyABVxAAAAAAALWhkbHIAAAAAAAAAAHZp\n",
       "ZGUAAAAAAAAAAAAAAABWaWRlb0hhbmRsZXIAAAAKe21pbmYAAAAUdm1oZAAAAAEAAAAAAAAAAAAA\n",
       "ACRkaW5mAAAAHGRyZWYAAAAAAAAAAQAAAAx1cmwgAAAAAQAACjtzdGJsAAAAs3N0c2QAAAAAAAAA\n",
       "AQAAAKNhdmMxAAAAAAAAAAEAAAAAAAAAAAAAAAAAAAAAAbABIABIAAAASAAAAAAAAAABAAAAAAAA\n",
       "AAAAAAAAAAAAAAAAAAAAAAAAAAAAAAAAAAAAGP//AAAAMWF2Y0MBZAAe/+EAGGdkAB6s2UGwloQA\n",
       "AAMABAAAAwGQPFi2WAEABmjr48siwAAAABx1dWlka2hA8l8kT8W6OaUbzwMj8wAAAAAAAAAYc3R0\n",
       "cwAAAAAAAAABAAAAyAAAAQAAAAAUc3RzcwAAAAAAAAABAAAAAQAABfBjdHRzAAAAAAAAALwAAAAB\n",
       "AAACAAAAAAEAAAMAAAAAAQAAAQAAAAABAAADAAAAAAEAAAEAAAAAAQAAAwAAAAABAAABAAAAAAEA\n",
       "AAUAAAAAAQAAAgAAAAABAAAAAAAAAAEAAAEAAAAAAQAABAAAAAACAAABAAAAAAEAAAQAAAAAAgAA\n",
       "AQAAAAABAAACAAAAAAEAAAUAAAAAAQAAAgAAAAABAAAAAAAAAAEAAAEAAAAAAQAABQAAAAABAAAC\n",
       "AAAAAAEAAAAAAAAAAQAAAQAAAAABAAADAAAAAAEAAAEAAAAAAQAABAAAAAACAAABAAAAAAEAAAMA\n",
       "AAAAAQAAAQAAAAABAAAFAAAAAAEAAAIAAAAAAQAAAAAAAAABAAABAAAAAAEAAAUAAAAAAQAAAgAA\n",
       "AAABAAAAAAAAAAEAAAEAAAAAAQAABQAAAAABAAACAAAAAAEAAAAAAAAAAQAAAQAAAAABAAAFAAAA\n",
       "AAEAAAIAAAAAAQAAAAAAAAABAAABAAAAAAEAAAIAAAAAAQAABQAAAAABAAACAAAAAAEAAAAAAAAA\n",
       "AQAAAQAAAAABAAAFAAAAAAEAAAIAAAAAAQAAAAAAAAABAAABAAAAAAEAAAIAAAAAAQAABQAAAAAB\n",
       "AAACAAAAAAEAAAAAAAAAAQAAAQAAAAABAAAEAAAAAAIAAAEAAAAAAQAAAwAAAAABAAABAAAAAAEA\n",
       "AAUAAAAAAQAAAgAAAAABAAAAAAAAAAEAAAEAAAAAAQAABQAAAAABAAACAAAAAAEAAAAAAAAAAQAA\n",
       "AQAAAAABAAAFAAAAAAEAAAIAAAAAAQAAAAAAAAABAAABAAAAAAEAAAUAAAAAAQAAAgAAAAABAAAA\n",
       "AAAAAAEAAAEAAAAAAQAABQAAAAABAAACAAAAAAEAAAAAAAAAAQAAAQAAAAABAAAFAAAAAAEAAAIA\n",
       "AAAAAQAAAAAAAAABAAABAAAAAAEAAAUAAAAAAQAAAgAAAAABAAAAAAAAAAEAAAEAAAAAAQAABQAA\n",
       "AAABAAACAAAAAAEAAAAAAAAAAQAAAQAAAAABAAAFAAAAAAEAAAIAAAAAAQAAAAAAAAABAAABAAAA\n",
       "AAEAAAUAAAAAAQAAAgAAAAABAAAAAAAAAAEAAAEAAAAAAQAABAAAAAACAAABAAAAAAEAAAIAAAAA\n",
       "AQAABQAAAAABAAACAAAAAAEAAAAAAAAAAQAAAQAAAAABAAAFAAAAAAEAAAIAAAAAAQAAAAAAAAAB\n",
       "AAABAAAAAAEAAAQAAAAAAgAAAQAAAAABAAAFAAAAAAEAAAIAAAAAAQAAAAAAAAABAAABAAAAAAEA\n",
       "AAUAAAAAAQAAAgAAAAABAAAAAAAAAAEAAAEAAAAAAQAABQAAAAABAAACAAAAAAEAAAAAAAAAAQAA\n",
       "AQAAAAABAAAFAAAAAAEAAAIAAAAAAQAAAAAAAAABAAABAAAAAAEAAAQAAAAAAgAAAQAAAAABAAAF\n",
       "AAAAAAEAAAIAAAAAAQAAAAAAAAABAAABAAAAAAEAAAUAAAAAAQAAAgAAAAABAAAAAAAAAAEAAAEA\n",
       "AAAAAQAABQAAAAABAAACAAAAAAEAAAAAAAAAAQAAAQAAAAACAAACAAAAAAEAAAMAAAAAAQAAAQAA\n",
       "AAABAAAEAAAAAAIAAAEAAAAAAQAABAAAAAACAAABAAAAAAEAAAUAAAAAAQAAAgAAAAABAAAAAAAA\n",
       "AAEAAAEAAAAAAQAABQAAAAABAAACAAAAAAEAAAAAAAAAAQAAAQAAAAABAAAEAAAAAAIAAAEAAAAA\n",
       "AQAABQAAAAABAAACAAAAAAEAAAAAAAAAAQAAAQAAAAABAAAEAAAAAAIAAAEAAAAAAQAABQAAAAAB\n",
       "AAACAAAAAAEAAAAAAAAAAQAAAQAAAAABAAAFAAAAAAEAAAIAAAAAAQAAAAAAAAABAAABAAAAAAEA\n",
       "AAUAAAAAAQAAAgAAAAABAAAAAAAAAAEAAAEAAAAAAQAABQAAAAABAAACAAAAAAEAAAAAAAAAAQAA\n",
       "AQAAAAABAAADAAAAAAEAAAEAAAAAHHN0c2MAAAAAAAAAAQAAAAEAAADIAAAAAQAAAzRzdHN6AAAA\n",
       "AAAAAAAAAADIAAA1MQAAAyQAAABaAAABJAAAADkAAACoAAAAHAAAAMsAAAAjAAAAGwAAAB0AAACR\n",
       "AAAAHwAAAB4AAACVAAAAIQAAABoAAABKAAAAlwAAACEAAAAZAAAAGwAAALMAAAAZAAAAHQAAABsA\n",
       "AABiAAAAHgAAAI0AAAAYAAAAFAAAAEgAAAAfAAAATwAAACIAAAASAAAAEQAAAHwAAAAjAAAAFQAA\n",
       "AB0AAABvAAAAIQAAABIAAAARAAAAdgAAACIAAAAXAAAAGwAAADMAAABTAAAAIAAAABMAAAAQAAAA\n",
       "SgAAACIAAAARAAAAEgAAAC4AAABJAAAAIAAAABYAAAAbAAAATQAAABgAAAASAAAAOAAAABsAAAA7\n",
       "AAAAGQAAABAAAAAQAAAAdgAAABkAAAATAAAAFAAAAFQAAAAgAAAAEgAAABkAAABGAAAAIQAAAA8A\n",
       "AAAaAAAASgAAAB0AAAARAAAAEAAAADgAAAATAAAAEAAAAA8AAAA9AAAAHQAAABAAAAAPAAAAcwAA\n",
       "ACUAAAAdAAAAGgAAAFEAAAAZAAAAHAAAABIAAABCAAAAGQAAABEAAAAVAAAAUQAAACAAAAAeAAAA\n",
       "OgAAAG4AAAAcAAAAHgAAABYAAAA0AAAAHwAAABIAAAAQAAAAPQAAAB4AAAASAAAAQgAAAB8AAAAS\n",
       "AAAAEAAAACkAAAAXAAAAEAAAABAAAABMAAAAGAAAABAAAAAaAAAAZwAAABoAAAASAAAAEwAAADsA\n",
       "AAAYAAAAHgAAAF8AAAAoAAAAFgAAABUAAABOAAAAJAAAABoAAAATAAAARgAAABcAAAASAAAAEAAA\n",
       "AEkAAAAwAAAAOAAAABsAAABHAAAAFQAAABAAAABUAAAAIwAAABAAAABKAAAAHQAAAA8AAAARAAAA\n",
       "LgAAABsAAAAPAAAAEAAAADwAAAAcAAAAFgAAAC4AAAAVAAAAEAAAAA8AAAA9AAAAHwAAAB0AAABf\n",
       "AAAAJwAAAA8AAAARAAAAKwAAABwAAAAPAAAAEAAAADUAAAAdAAAAEAAAABYAAAAnAAAAEwAAAA8A\n",
       "AAAPAAAAIQAAABQAAAAUc3RjbwAAAAAAAAABAAAALAAAAGJ1ZHRhAAAAWm1ldGEAAAAAAAAAIWhk\n",
       "bHIAAAAAAAAAAG1kaXJhcHBsAAAAAAAAAAAAAAAALWlsc3QAAAAlqXRvbwAAAB1kYXRhAAAAAQAA\n",
       "AABMYXZmNTcuODMuMTAw\n",
       "\">\n",
       "  Your browser does not support the video tag.\n",
       "</video>"
      ]
     },
     "metadata": {},
     "output_type": "display_data"
    }
   ],
   "source": [
    "try:\n",
    "    display_html(HTML(anim.to_html5_video()))\n",
    "except (RuntimeError, KeyError):\n",
    "    # In case the build-in renderers are unaviable, fall back to\n",
    "    # a custom one, that doesn't require external libraries\n",
    "    anim.save(None, writer=matplotlib_utils.SimpleMovieWriter(0.001))"
   ]
  },
  {
   "cell_type": "code",
   "execution_count": null,
   "metadata": {
    "collapsed": true,
    "deletable": true,
    "editable": true
   },
   "outputs": [],
   "source": []
  }
 ],
 "metadata": {
  "kernelspec": {
   "display_name": "Python 3",
   "language": "python",
   "name": "python3"
  },
  "language_info": {
   "codemirror_mode": {
    "name": "ipython",
    "version": 3
   },
   "file_extension": ".py",
   "mimetype": "text/x-python",
   "name": "python",
   "nbconvert_exporter": "python",
   "pygments_lexer": "ipython3",
   "version": "3.6.4"
  }
 },
 "nbformat": 4,
 "nbformat_minor": 1
}
