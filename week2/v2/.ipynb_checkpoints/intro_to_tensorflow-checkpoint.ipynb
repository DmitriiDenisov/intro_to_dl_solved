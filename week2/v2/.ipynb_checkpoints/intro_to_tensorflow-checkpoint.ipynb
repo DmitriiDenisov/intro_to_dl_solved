{
 "cells": [
  {
   "cell_type": "markdown",
   "metadata": {
    "slideshow": {
     "slide_type": "slide"
    }
   },
   "source": [
    "# Intro to TensorFlow\n",
    "\n",
    "This notebook covers the basics of TF and shows you an animation with gradient descent trajectory.\n",
    "<img src=\"images/gradient_descent.png\" style=\"width:50%\">"
   ]
  },
  {
   "cell_type": "markdown",
   "metadata": {},
   "source": [
    "# TensorBoard"
   ]
  },
  {
   "cell_type": "markdown",
   "metadata": {},
   "source": [
    "**Plase note that if you are running on the Coursera platform, you won't be able to access the tensorboard instance due to the network setup there.**\n",
    "\n",
    "Run `tensorboard --logdir=./tensorboard_logs --port=7007` in bash.\n",
    "\n",
    "If you run the notebook locally, you should be able to access TensorBoard on http://127.0.0.1:7007/"
   ]
  },
  {
   "cell_type": "code",
   "execution_count": 1,
   "metadata": {
    "collapsed": false
   },
   "outputs": [
    {
     "name": "stdout",
     "output_type": "stream",
     "text": [
      "We're using TF 1.5.0\n"
     ]
    },
    {
     "name": "stderr",
     "output_type": "stream",
     "text": [
      "Using TensorFlow backend.\n"
     ]
    }
   ],
   "source": [
    "import tensorflow as tf\n",
    "import sys\n",
    "sys.path.append(\"../..\")\n",
    "from keras_utils import reset_tf_session\n",
    "s = reset_tf_session()\n",
    "print(\"We're using TF\", tf.__version__)"
   ]
  },
  {
   "cell_type": "markdown",
   "metadata": {},
   "source": [
    "# Warming up\n",
    "For starters, let's implement a python function that computes the sum of squares of numbers from 0 to N-1."
   ]
  },
  {
   "cell_type": "code",
   "execution_count": 2,
   "metadata": {
    "collapsed": true
   },
   "outputs": [],
   "source": [
    "import numpy as np\n",
    "\n",
    "def sum_python(N):\n",
    "    return np.sum(np.arange(N)**2)"
   ]
  },
  {
   "cell_type": "code",
   "execution_count": 3,
   "metadata": {
    "collapsed": false
   },
   "outputs": [
    {
     "name": "stdout",
     "output_type": "stream",
     "text": [
      "CPU times: user 1.16 ms, sys: 757 µs, total: 1.91 ms\n",
      "Wall time: 1.81 ms\n"
     ]
    },
    {
     "data": {
      "text/plain": [
       "333328333350000"
      ]
     },
     "execution_count": 3,
     "metadata": {},
     "output_type": "execute_result"
    }
   ],
   "source": [
    "%%time\n",
    "sum_python(10**5)"
   ]
  },
  {
   "cell_type": "markdown",
   "metadata": {},
   "source": [
    "# Tensoflow teaser\n",
    "\n",
    "Doing the very same thing"
   ]
  },
  {
   "cell_type": "code",
   "execution_count": 4,
   "metadata": {
    "collapsed": true
   },
   "outputs": [],
   "source": [
    "# An integer parameter\n",
    "N = tf.placeholder('int64', name=\"input_to_your_function\")\n",
    "\n",
    "# A recipe on how to produce the same result\n",
    "result = tf.reduce_sum(tf.range(N)**2)"
   ]
  },
  {
   "cell_type": "code",
   "execution_count": 5,
   "metadata": {
    "collapsed": false
   },
   "outputs": [
    {
     "data": {
      "text/plain": [
       "<tf.Tensor 'Sum:0' shape=() dtype=int64>"
      ]
     },
     "execution_count": 5,
     "metadata": {},
     "output_type": "execute_result"
    }
   ],
   "source": [
    "# just a graph definition\n",
    "result"
   ]
  },
  {
   "cell_type": "code",
   "execution_count": 6,
   "metadata": {
    "collapsed": false
   },
   "outputs": [
    {
     "name": "stdout",
     "output_type": "stream",
     "text": [
      "CPU times: user 15.3 ms, sys: 2.37 ms, total: 17.7 ms\n",
      "Wall time: 15.8 ms\n"
     ]
    },
    {
     "data": {
      "text/plain": [
       "333328333350000"
      ]
     },
     "execution_count": 6,
     "metadata": {},
     "output_type": "execute_result"
    }
   ],
   "source": [
    "%%time\n",
    "# actually executing\n",
    "result.eval({N: 10**5}) # eval можно запускать для любой вершины графа, скомив необходимые placeholders"
   ]
  },
  {
   "cell_type": "code",
   "execution_count": 7,
   "metadata": {
    "collapsed": false
   },
   "outputs": [
    {
     "data": {
      "text/plain": [
       "<tensorflow.python.framework.ops.Graph at 0x104b0a278>"
      ]
     },
     "execution_count": 7,
     "metadata": {},
     "output_type": "execute_result"
    }
   ],
   "source": [
    "result.graph"
   ]
  },
  {
   "cell_type": "code",
   "execution_count": 8,
   "metadata": {
    "collapsed": true
   },
   "outputs": [],
   "source": [
    "# logger for tensorboard\n",
    "writer = tf.summary.FileWriter(\"tensorboard_logs\", graph=result.graph) #\n",
    "# строчкой выше файл создается, в первый раз в него кладется result.graph\n",
    "# В нашем случае, result.graph - это sum( range(N)^2 ), именно это и отображено на графе:"
   ]
  },
  {
   "cell_type": "markdown",
   "metadata": {},
   "source": [
    "Граф, который отображается в Tensorboard:\n",
    "<img src=\"pic.png\" style=\"width:70%\">\n",
    "Из него видно: сначала подается placeholder - число N, далее берется range - массив от N. Затем возводится в степень y (здесь y=2), и, наконец, сумма"
   ]
  },
  {
   "cell_type": "markdown",
   "metadata": {},
   "source": [
    "# How does it work?\n",
    "1. Define placeholders where you'll send inputs\n",
    "2. Make a symbolic graph: a recipe for mathematical transformation of those placeholders\n",
    "3. Compute outputs of your graph with particular values for each placeholder\n",
    "  * `output.eval({placeholder: value})`\n",
    "  * `s.run(output, {placeholder: value})`\n",
    "\n",
    "So far there are two main entities: \"placeholder\" and \"transformation\" (operation output)\n",
    "* Both can be numbers, vectors, matrices, tensors, etc.\n",
    "* Both can be int32/64, floats, booleans (uint8) of various size.\n",
    "\n",
    "* You can define new transformations as an arbitrary operation on placeholders and other transformations\n",
    " * `tf.reduce_sum(tf.arange(N)**2)` are 3 sequential transformations of placeholder `N`\n",
    " * There's a tensorflow symbolic version for every numpy function\n",
    "   * `a+b, a/b, a**b, ...` behave just like in numpy\n",
    "   * `np.mean` -> `tf.reduce_mean`\n",
    "   * `np.arange` -> `tf.range`\n",
    "   * `np.cumsum` -> `tf.cumsum`\n",
    "   * If you can't find the operation you need, see the [docs](https://www.tensorflow.org/versions/r1.3/api_docs/python).\n",
    "   \n",
    "`tf.contrib` has many high-level features, may be worth a look."
   ]
  },
  {
   "cell_type": "code",
   "execution_count": 12,
   "metadata": {
    "collapsed": true
   },
   "outputs": [],
   "source": [
    "with tf.name_scope(\"Placeholders_examples\"): # далее все штуки будут помещены на графе в прямоугольник с названием Placeholders_examples\n",
    "    # Default placeholder that can be arbitrary float32\n",
    "    # scalar, vertor, matrix, etc.\n",
    "    arbitrary_input = tf.placeholder('float32')\n",
    "\n",
    "    # Input vector of arbitrary length\n",
    "    input_vector = tf.placeholder('float32', shape=(None,))\n",
    "\n",
    "    # Input vector that _must_ have 10 elements and integer type\n",
    "    fixed_vector = tf.placeholder('int32', shape=(10,))\n",
    "\n",
    "    # Matrix of arbitrary n_rows and 15 columns\n",
    "    # (e.g. a minibatch of your data table)\n",
    "    input_matrix = tf.placeholder('float32', shape=(None, 15))\n",
    "    \n",
    "    # You can generally use None whenever you don't need a specific shape\n",
    "    input1 = tf.placeholder('float64', shape=(None, 100, None))\n",
    "    input2 = tf.placeholder('int32', shape=(None, None, 3, 224, 224))\n",
    "\n",
    "    # elementwise multiplication\n",
    "    double_the_vector = input_vector*2\n",
    "\n",
    "    # elementwise cosine\n",
    "    elementwise_cosine = tf.cos(input_vector)\n",
    "\n",
    "    # difference between squared vector and vector itself plus one\n",
    "    vector_squares = input_vector**2 - input_vector + 1"
   ]
  },
  {
   "cell_type": "code",
   "execution_count": 13,
   "metadata": {
    "collapsed": true
   },
   "outputs": [],
   "source": [
    "my_vector =  tf.placeholder('float32', shape=(None,), name=\"VECTOR_1\")\n",
    "my_vector2 = tf.placeholder('float32', shape=(None,))\n",
    "my_transformation = my_vector * my_vector2 / (tf.sin(my_vector) + 1)"
   ]
  },
  {
   "cell_type": "code",
   "execution_count": 14,
   "metadata": {
    "collapsed": false
   },
   "outputs": [
    {
     "name": "stdout",
     "output_type": "stream",
     "text": [
      "Tensor(\"truediv:0\", shape=(?,), dtype=float32)\n"
     ]
    }
   ],
   "source": [
    "print(my_transformation)"
   ]
  },
  {
   "cell_type": "code",
   "execution_count": 15,
   "metadata": {
    "collapsed": false
   },
   "outputs": [
    {
     "name": "stdout",
     "output_type": "stream",
     "text": [
      "[ 0.  1.  2.  3.  4.]\n"
     ]
    },
    {
     "data": {
      "text/plain": [
       "array([ 0.        ,  1.62913239,  2.09501147,  2.62899613,  0.        ], dtype=float32)"
      ]
     },
     "execution_count": 15,
     "metadata": {},
     "output_type": "execute_result"
    }
   ],
   "source": [
    "dummy = np.arange(5).astype('float32')\n",
    "print(dummy)\n",
    "my_transformation.eval({my_vector: dummy, my_vector2: dummy[::-1]})"
   ]
  },
  {
   "cell_type": "markdown",
   "metadata": {},
   "source": [
    "То же самое, только обычным Numpy:"
   ]
  },
  {
   "cell_type": "code",
   "execution_count": 16,
   "metadata": {
    "collapsed": false
   },
   "outputs": [
    {
     "data": {
      "text/plain": [
       "array([ 0.        ,  1.62913239,  2.09501147,  2.62899613,  0.        ], dtype=float32)"
      ]
     },
     "execution_count": 16,
     "metadata": {},
     "output_type": "execute_result"
    }
   ],
   "source": [
    "dummy = np.arange(5).astype('float32')\n",
    "dummy * dummy[::-1] / (np.sin(dummy) + 1)"
   ]
  },
  {
   "cell_type": "code",
   "execution_count": 17,
   "metadata": {
    "collapsed": true
   },
   "outputs": [],
   "source": [
    "# Если хотим отобразить на графе в Tensorboard, то надо в объект writer добавить наш граф. Для этого используем метод \n",
    "# add_graph, в него кидаем my_transformation.graph\n",
    "writer.add_graph(my_transformation.graph)\n",
    "writer.flush() # тут происходит обновление файла, то есть мы снова записываем объект writer в файл для Tensorboard"
   ]
  },
  {
   "cell_type": "markdown",
   "metadata": {},
   "source": [
    "Теперь граф, который отображается в Tensorboard:\n",
    "<img src=\"pic_2.png\" style=\"width:70%\">"
   ]
  },
  {
   "cell_type": "markdown",
   "metadata": {},
   "source": [
    "TensorBoard allows writing scalars, images, audio, histogram. You can read more on tensorboard usage [here](https://www.tensorflow.org/get_started/graph_viz)."
   ]
  },
  {
   "cell_type": "markdown",
   "metadata": {},
   "source": [
    "# Summary\n",
    "* Tensorflow is based on computation graphs\n",
    "* A graph consists of placeholders and transformations"
   ]
  },
  {
   "cell_type": "markdown",
   "metadata": {},
   "source": [
    "# Loss function: Mean Squared Error\n",
    "\n",
    "Loss function must be a part of the graph as well, so that we can do backpropagation."
   ]
  },
  {
   "cell_type": "code",
   "execution_count": 22,
   "metadata": {
    "collapsed": true
   },
   "outputs": [],
   "source": [
    "with tf.name_scope(\"MSE\"): # эта штука сворачивает подграф в Tensorboard в прямоугольник\n",
    "    y_true = tf.placeholder(\"float32\", shape=(None,), name=\"y_true\")\n",
    "    y_predicted = tf.placeholder(\"float32\", shape=(None,), name=\"y_predicted\")\n",
    "    # Implement MSE(y_true, y_predicted), use tf.reduce_mean(...)\n",
    "    ### YOUR CODE HERE ###\n",
    "    mse = tf.reduce_mean((y_true - y_predicted) ** 2)\n",
    "\n",
    "def compute_mse(vector1, vector2): # оборачиваем eval в функцию compute_mse\n",
    "    return mse.eval({y_true: vector1, y_predicted: vector2})"
   ]
  },
  {
   "cell_type": "code",
   "execution_count": 23,
   "metadata": {
    "collapsed": true
   },
   "outputs": [],
   "source": [
    "writer.add_graph(mse.graph) # добавляем в граф\n",
    "writer.flush() # обновляем файлик"
   ]
  },
  {
   "cell_type": "markdown",
   "metadata": {},
   "source": [
    "Вот как отображается (в прямоугольнике) наш MSE в Tensorboard:\n",
    "<img src=\"pic3.png\" style=\"width:50%\">"
   ]
  },
  {
   "cell_type": "code",
   "execution_count": 27,
   "metadata": {
    "collapsed": false
   },
   "outputs": [],
   "source": [
    "# Rigorous local testing of MSE implementation\n",
    "# просто тестирование того, что функция выше верно написана\n",
    "import sklearn.metrics\n",
    "for n in [1, 5, 10, 10**3]:\n",
    "    elems = [np.arange(n), np.arange(n, 0, -1), np.zeros(n),\n",
    "             np.ones(n), np.random.random(n), np.random.randint(100, size=n)]\n",
    "    for el in elems:\n",
    "        for el_2 in elems:\n",
    "            true_mse = np.array(sklearn.metrics.mean_squared_error(el, el_2))\n",
    "            my_mse = compute_mse(el, el_2)\n",
    "            #print(my_mse, type(my_mse))\n",
    "            if not np.allclose(true_mse, my_mse):\n",
    "                print('mse(%s,%s)' % (el, el_2))\n",
    "                print(\"should be: %f, but your function returned %f\" % (true_mse, my_mse))\n",
    "                raise ValueError('Wrong result')"
   ]
  },
  {
   "cell_type": "markdown",
   "metadata": {},
   "source": [
    "# Variables\n",
    "\n",
    "Placeholder and transformation values are not stored in the graph once the execution is finished. This isn't too comfortable if you want your model to have parameters (e.g. network weights) that are always present, but can change their value over time.\n",
    "\n",
    "Tensorflow solves this with `tf.Variable` objects.\n",
    "* You can assign variable a value at any time in your graph\n",
    "* Unlike placeholders, there's no need to explicitly pass values to variables when `s.run(...)`-ing\n",
    "* You can use variables the same way you use transformations \n",
    " "
   ]
  },
  {
   "cell_type": "code",
   "execution_count": 28,
   "metadata": {
    "collapsed": true
   },
   "outputs": [],
   "source": [
    "# Creating a shared variable\n",
    "shared_vector_1 = tf.Variable(initial_value=np.ones(5),\n",
    "                              name=\"example_variable\")"
   ]
  },
  {
   "cell_type": "code",
   "execution_count": 36,
   "metadata": {
    "collapsed": false
   },
   "outputs": [
    {
     "name": "stdout",
     "output_type": "stream",
     "text": [
      "Initial value [ 1.  1.  1.  1.  1.]\n"
     ]
    }
   ],
   "source": [
    "# Initialize variable(s) with initial values\n",
    "s.run(tf.global_variables_initializer())\n",
    "\n",
    "# Evaluating the shared variable\n",
    "print(\"Initial value\", s.run(shared_vector_1)) # или shared_vector_1.eval()"
   ]
  },
  {
   "cell_type": "code",
   "execution_count": null,
   "metadata": {
    "collapsed": false
   },
   "outputs": [],
   "source": []
  },
  {
   "cell_type": "code",
   "execution_count": 39,
   "metadata": {
    "collapsed": false
   },
   "outputs": [
    {
     "name": "stdout",
     "output_type": "stream",
     "text": [
      "New value [ 0.  1.  2.  3.  4.]\n"
     ]
    }
   ],
   "source": [
    "# Setting a new value\n",
    "s.run(shared_vector_1.assign(np.arange(5)))\n",
    "\n",
    "# Getting that new value\n",
    "print(\"New value\", s.run(shared_vector_1)) # или shared_vector_1.eval()"
   ]
  },
  {
   "cell_type": "markdown",
   "metadata": {},
   "source": [
    "# tf.gradients - why graphs matter\n",
    "* Tensorflow can compute derivatives and gradients automatically using the computation graph\n",
    "* True to its name it can manage matrix derivatives\n",
    "* Gradients are computed as a product of elementary derivatives via the chain rule:\n",
    "\n",
    "$$ {\\partial f(g(x)) \\over \\partial x} = {\\partial f(g(x)) \\over \\partial g(x)}\\cdot {\\partial g(x) \\over \\partial x} $$\n",
    "\n",
    "It can get you the derivative of any graph as long as it knows how to differentiate elementary operations"
   ]
  },
  {
   "cell_type": "code",
   "execution_count": 14,
   "metadata": {
    "collapsed": true
   },
   "outputs": [],
   "source": [
    "my_scalar = tf.placeholder('float32')\n",
    "\n",
    "scalar_squared = my_scalar**2\n",
    "\n",
    "# A derivative of scalar_squared by my_scalar\n",
    "derivative = tf.gradients(scalar_squared, [my_scalar, ]) # производная переменной scalar_squared по my_scalar"
   ]
  },
  {
   "cell_type": "code",
   "execution_count": 15,
   "metadata": {
    "collapsed": false
   },
   "outputs": [
    {
     "data": {
      "text/plain": [
       "[<tf.Tensor 'gradients_1/pow_3_grad/Reshape:0' shape=<unknown> dtype=float32>]"
      ]
     },
     "execution_count": 15,
     "metadata": {},
     "output_type": "execute_result"
    }
   ],
   "source": [
    "derivative"
   ]
  },
  {
   "cell_type": "code",
   "execution_count": 16,
   "metadata": {
    "collapsed": false
   },
   "outputs": [
    {
     "data": {
      "image/png": "[encoded data removed]",
      "text/plain": [
       "<matplotlib.figure.Figure at 0x115ff36a0>"
      ]
     },
     "metadata": {},
     "output_type": "display_data"
    }
   ],
   "source": [
    "import matplotlib.pyplot as plt\n",
    "%matplotlib inline\n",
    "\n",
    "x = np.linspace(-3, 3)\n",
    "x_squared, x_squared_der = s.run([scalar_squared, derivative[0]],\n",
    "                                 {my_scalar:x}) \n",
    "# синтаксис run: run([...], {...}) словарь - это feed, все placeholder'ы, [] - это список компонент, которые надо вычислить\n",
    "# То есть задача TF - посчитать численно компоненту A. TF смотрит в граф, видит компоненту A, смотрит от чего она зависит и вычисляет её \n",
    "\n",
    "plt.plot(x, x_squared,label=\"$x^2$\")\n",
    "plt.plot(x, x_squared_der, label=r\"$\\frac{dx^2}{dx}$\")\n",
    "plt.legend();"
   ]
  },
  {
   "cell_type": "code",
   "execution_count": 13,
   "metadata": {
    "collapsed": false
   },
   "outputs": [],
   "source": [
    "writer.add_graph(scalar_squared.graph) # добавляем в граф\n",
    "writer.add_graph(derivative[0].graph) # добавляем в граф\n",
    "writer.flush() # обновляем файлик"
   ]
  },
  {
   "cell_type": "markdown",
   "metadata": {},
   "source": [
    "Вот так на графе отображаются derivate и scalar_squared:\n",
    "<img src=\"pic_4.png\" style=\"width:30%\">\n",
    "Placeholder - это входное число my_scalar, pow_2 - возведение в степень y, gradients - наша производная. Стрелки идут НЕ от gradients, а к gradients, так как у нас задача - посчитать derivative, у нас не была поставлена задача обновить my_scalar, а только посчитать derivative"
   ]
  },
  {
   "cell_type": "markdown",
   "metadata": {},
   "source": [
    "# Why that rocks"
   ]
  },
  {
   "cell_type": "code",
   "execution_count": 19,
   "metadata": {
    "collapsed": true
   },
   "outputs": [],
   "source": [
    "my_vector = tf.placeholder('float32', [None])\n",
    "# Compute the gradient of the next weird function over my_scalar and my_vector\n",
    "# Warning! Trying to understand the meaning of that function may result in permanent brain damage\n",
    "weird_psychotic_function = tf.reduce_mean(\n",
    "    (my_vector + my_scalar) ** (1 + tf.nn.moments(my_vector, [0])[1]) + \n",
    "    1./ tf.atan(my_scalar)) / (my_scalar ** 2 + 1) + 0.01 * tf.sin(\n",
    "    2 * my_scalar ** 1.5) * (tf.reduce_sum(my_vector) * my_scalar ** 2\n",
    "                      ) * tf.exp((my_scalar - 4) ** 2) / (\n",
    "    1 + tf.exp((my_scalar - 4) ** 2)) * (1. - (tf.exp(-(my_scalar - 4) ** 2)\n",
    "                                    ) / (1 + tf.exp(-(my_scalar - 4) ** 2))) ** 2\n",
    "\n",
    "der_by_scalar = tf.gradients(weird_psychotic_function, my_scalar) # считаем производную функции по my_scalar\n",
    "der_by_vector = tf.gradients(weird_psychotic_function, my_vector) # считаем производную функции по my_vector"
   ]
  },
  {
   "cell_type": "code",
   "execution_count": null,
   "metadata": {
    "collapsed": false
   },
   "outputs": [],
   "source": []
  },
  {
   "cell_type": "code",
   "execution_count": 39,
   "metadata": {
    "collapsed": false
   },
   "outputs": [
    {
     "data": {
      "image/png": "[encoded data removed]",
      "text/plain": [
       "<matplotlib.figure.Figure at 0x118d699b0>"
      ]
     },
     "metadata": {},
     "output_type": "display_data"
    }
   ],
   "source": [
    "# Plotting the derivative\n",
    "scalar_space = np.linspace(1, 7, 100)\n",
    "\n",
    "# просто считаем функцию y:\n",
    "y = [s.run(weird_psychotic_function, {my_scalar:x, my_vector:[1, 2, 3]})\n",
    "     for x in scalar_space] # скармливаем вектор (1, 2, 3), а также поочередно разные значения my_scalar от 1 до 7\n",
    "\n",
    "plt.plot(scalar_space, y, label='function')\n",
    "\n",
    "# А теперь считаем её производные:\n",
    "y_der_by_scalar = [s.run(der_by_scalar,\n",
    "                         {my_scalar:x, my_vector:[1, 2, 3]})\n",
    "                   for x in scalar_space]\n",
    "# Что делает run: фиксирует точку my_scalar и my_vector, после чего считает через граф все нужные значения (gradients и y)\n",
    "\n",
    "plt.plot(scalar_space, y_der_by_scalar, label='derivative')\n",
    "plt.grid()\n",
    "plt.legend();\n",
    "\n",
    "###-----\n",
    "# Если хотим ещё найти производную функции по вектору, то: \n",
    "# y_der_by_scalar = [s.run([der_by_scalar, der_by_vector],\n",
    "#                          {my_scalar:x, my_vector:[1, 2, 3]})\n",
    "#                    for x in scalar_space]"
   ]
  },
  {
   "cell_type": "markdown",
   "metadata": {},
   "source": [
    "# Almost done - optimizers\n",
    "\n",
    "While you can perform gradient descent by hand with automatic gradients from above, tensorflow also has some optimization methods implemented for you. Recall momentum & rmsprop?"
   ]
  },
  {
   "cell_type": "code",
   "execution_count": 76,
   "metadata": {
    "collapsed": false
   },
   "outputs": [],
   "source": [
    "y_guess = tf.Variable(np.zeros(2, dtype='float32')) # <=> initial_value=np.zeros(2, dtype='float32')\n",
    "y_true = tf.range(1, 3, dtype='float32')\n",
    "\n",
    "loss = tf.reduce_mean((y_guess - y_true + 0.5*tf.random_normal([2]))**2) \n",
    "\n",
    "step = tf.train.MomentumOptimizer(0.03, 0.5).minimize(loss, var_list=[y_guess]) # можно не писать var_list=y_guess"
   ]
  },
  {
   "cell_type": "markdown",
   "metadata": {},
   "source": [
    "Синтаксис: step - шаг, который мы будем делать в цикле. В цикле выполняется session.run(step)\n",
    "\n",
    "\n",
    "Синтаксис самого step: tf.train.<оptimizer\\>.minimize(<что>, var_list=[<по чему>])"
   ]
  },
  {
   "cell_type": "code",
   "execution_count": 82,
   "metadata": {
    "collapsed": false
   },
   "outputs": [],
   "source": [
    "# tf.random_normal([3,4,5]).eval() # можно поиграться с тем, как формируются случайные тензоры"
   ]
  },
  {
   "cell_type": "code",
   "execution_count": 83,
   "metadata": {
    "collapsed": false
   },
   "outputs": [],
   "source": [
    "# y_true = tf.range(1, 3, dtype='float32')\n",
    "# y_true.eval()"
   ]
  },
  {
   "cell_type": "markdown",
   "metadata": {},
   "source": [
    "Let's draw a trajectory of a gradient descent in 2D"
   ]
  },
  {
   "cell_type": "code",
   "execution_count": 92,
   "metadata": {
    "collapsed": false
   },
   "outputs": [
    {
     "data": {
      "image/png": "[encoded data removed]",
      "text/plain": [
       "<matplotlib.figure.Figure at 0x11a326da0>"
      ]
     },
     "metadata": {},
     "output_type": "display_data"
    }
   ],
   "source": [
    "from matplotlib import animation, rc\n",
    "import matplotlib_utils\n",
    "from IPython.display import HTML, display_html\n",
    "\n",
    "# nice figure settings\n",
    "fig, ax = plt.subplots()\n",
    "y_true_value = s.run(y_true)\n",
    "level_x = np.arange(0, 2, 0.02)\n",
    "level_y = np.arange(0, 3, 0.02)\n",
    "X, Y = np.meshgrid(level_x, level_y)\n",
    "Z = (X - y_true_value[0])**2 + (Y - y_true_value[1])**2\n",
    "ax.set_xlim(-0.02, 2)\n",
    "ax.set_ylim(-0.02, 3)\n",
    "s.run(tf.global_variables_initializer())\n",
    "ax.scatter(*s.run(y_true), c='red')\n",
    "contour = ax.contour(X, Y, Z, 10)\n",
    "ax.clabel(contour, inline=1, fontsize=10)\n",
    "line, = ax.plot([], [], lw=2)\n",
    "\n",
    "# start animation with empty trajectory\n",
    "def init():\n",
    "    line.set_data([], [])\n",
    "    return (line,)\n",
    "\n",
    "trajectory = [s.run(y_guess)]\n",
    "\n",
    "# one animation step (make one GD step)\n",
    "def animate(i):\n",
    "    s.run(step)\n",
    "    trajectory.append(s.run(y_guess))\n",
    "    line.set_data(*zip(*trajectory))\n",
    "    return (line,)\n",
    "\n",
    "anim = animation.FuncAnimation(fig, animate, init_func=init,\n",
    "                               frames=200, interval=20, blit=True) # frames - число итераций"
   ]
  },
  {
   "cell_type": "code",
   "execution_count": 93,
   "metadata": {
    "collapsed": false
   },
   "outputs": [
    {
     "data": {
      "text/html": [
       "<video width=\"432\" height=\"288\" controls autoplay loop>\n",
       "  <source type=\"video/mp4\" src=\"data:video/mp4;base64,AAAAHGZ0eXBNNFYgAAACAGlzb21pc28yYXZjMQAAAAhmcmVlAABabW1kYXQAAAKuBgX//6rcRem9\n",
       "5tlIt5Ys2CDZI+7veDI2NCAtIGNvcmUgMTQ4IHIyNzk1IGFhYTlhYTggLSBILjI2NC9NUEVHLTQg\n",
       "QVZDIGNvZGVjIC0gQ29weWxlZnQgMjAwMy0yMDE3IC0gaHR0cDovL3d3dy52aWRlb2xhbi5vcmcv\n",
       "eDI2NC5odG1sIC0gb3B0aW9uczogY2FiYWM9MSByZWY9MyBkZWJsb2NrPTE6MDowIGFuYWx5c2U9\n",
       "MHgzOjB4MTEzIG1lPWhleCBzdWJtZT03IHBzeT0xIHBzeV9yZD0xLjAwOjAuMDAgbWl4ZWRfcmVm\n",
       "PTEgbWVfcmFuZ2U9MTYgY2hyb21hX21lPTEgdHJlbGxpcz0xIDh4OGRjdD0xIGNxbT0wIGRlYWR6\n",
       "b25lPTIxLDExIGZhc3RfcHNraXA9MSBjaHJvbWFfcXBfb2Zmc2V0PS0yIHRocmVhZHM9NiBsb29r\n",
       "YWhlYWRfdGhyZWFkcz0xIHNsaWNlZF90aHJlYWRzPTAgbnI9MCBkZWNpbWF0ZT0xIGludGVybGFj\n",
       "ZWQ9MCBibHVyYXlfY29tcGF0PTAgY29uc3RyYWluZWRfaW50cmE9MCBiZnJhbWVzPTMgYl9weXJh\n",
       "bWlkPTIgYl9hZGFwdD0xIGJfYmlhcz0wIGRpcmVjdD0xIHdlaWdodGI9MSBvcGVuX2dvcD0wIHdl\n",
       "aWdodHA9MiBrZXlpbnQ9MjUwIGtleWludF9taW49MjUgc2NlbmVjdXQ9NDAgaW50cmFfcmVmcmVz\n",
       "aD0wIHJjX2xvb2thaGVhZD00MCByYz1jcmYgbWJ0cmVlPTEgY3JmPTIzLjAgcWNvbXA9MC42MCBx\n",
       "cG1pbj0wIHFwbWF4PTY5IHFwc3RlcD00IGlwX3JhdGlvPTEuNDAgYXE9MToxLjAwAIAAADJVZYiE\n",
       "AC///vau/MsrRwuVLh1Ze7NR8uhJcv2IMH1oAAADAADVayF8oYJVUBjg5Cl8UC950wnQObmxLpMS\n",
       "eTd2N1o7ZvU7nZLqidQWs9IRqH4qZFuUNOvgrgAArGB7WlESNB735J/CfrjEy3i5zjzWx5r7oD4b\n",
       "7vRGf5YZpSE2SfCltWRnqtLPBS3FxRjhpp/BEdar5txSfEu67R/ppgZwAi2i8ff512MwmU2ndVwZ\n",
       "0/IypwbXeLiexIGKwjGLSLtuFQ6Y/OKysfXRdbpNhUrKtfRj7DGM8WCX1Bh4c330WAw+R6EXVRFY\n",
       "lu5UH1qoQzyL4+ViaXbsk9e17GMhYcjYQ2ErNh8GLHqFB5yll7cH5+/ATt414OGqKJBfavN2H7Eo\n",
       "MYMyQUJm9f6njg6oT6RI9deVwCrdBzM/Sz/x8vLmA7OACvEgs7ec3QswOORd/etOu0E7t7VpiB00\n",
       "hKHHIDZREnqwvaNj69QpwDqX0pss1cRClh94zlgStU4c5yUCVO+HQbSt4HAXLJj2f9Btb1Gp56ii\n",
       "Oi96XZV1x4KhUxTYawQAUfjzsl0QevSEuVTVlSNIsvo+7QD/x5dqmV34q8Y/e22ByjofSHxpk/7U\n",
       "JlOIzg46ZfH1hLZgWW3R/niY7hJcJ7T94UsjfEkSh3TDgfcD17lLYnCY2sdzwQUX/M7yx8DlUAxf\n",
       "Bf5jCXE+1+wNMg1QAvfybm1SjIO2TPl8BU8XJsElm8w528BUCYhGy7qcnRnuSy6QxEV7zgbX58W4\n",
       "OX++3kHg9QTGgyx+9vVBAdT1fCClHX4ANSaqmTCW59ftwD0BujqkCCWkUJ2w9uAMrIdCjsnjVQgY\n",
       "usw2C1nI5upe6qRnHhMYO+//zOhJwy3GFabODqjJ8LP6JD9HicRvbp/KU0u7QNM3PDeCZGEppIp+\n",
       "d+A0U9LkqJcqlVU9QxjMxe4V5wWiAXVz7X2hUEkcgvbIBu6DDirLSkB6X62ytFi1xHsjrXMwRBoi\n",
       "23k/4WJeSt9ercxBpim+OztNcFsiesOQP5sSGoW5wkc38yjAPbcq7Tdzbk/IrDDaOdxl5A3HGLvo\n",
       "zZ1BGOReneHzeHg/afksZWL4VFYt54t3/Hf9K1pP0qpg033ec0POTLSV2EuXudGEW3w0++tbXV/W\n",
       "TzfL1OHthmmQR6IPVUHFMoqzp1QcXRtQTOdfyzhgBiRX5WVO85tv8+La/kmO0HsSZYHMklOP3co5\n",
       "QDWHzfJAv2xFzpb4zaWMSFkI64HEJiEbYjDtCz5R+5934JrTITw/HoIDDZMsJDKJDy7tEPbaSA9e\n",
       "Rs6mLK1h7v5ilXo8fU4zXpoO8DIuXkGCPnMytYPsejoVgG8/4hV+pdupgbZzrYj2YP/KOAfFDlCb\n",
       "c+Afko28P+APuNw+AREopUusHlOjBttYqMfZpF0lXHnSyZGaC4E/9t+DTsSLLdxT7j02EJ/DJYcg\n",
       "zlbYlWxHyR67M59DOduDXxQ1yVc6Uv0xHmi8cZyM2klmNgFAuAnAXoBpK89d0ninH4c+/x3zxCND\n",
       "gVwld+ZkhAQLOdusrHeV3kkduEsmNVMMG/Z4jzBVquh65pjovblc+tWCuZM25L8WnssoH8vTmfqk\n",
       "8z4vSza/UA18+dAwWnRG9TaD1J9lDGVsI+2H5s+SHVWANZOLLVmeWQLhlKcLusWsnTy4W6Qc1hK3\n",
       "lWy4lqZwoLwKwRWbX98yP5cBLAAAJoy3FrpsDsUYtE3TL3kuxuFVvIqfYjjoZ3q1MFTJsXRq06LK\n",
       "CGXjzDp6hB7mkW+cUnSDxxWGDOoq2FRt3I6jf4pVWCtbujN+OSzPO8fJfMPqmvW7za2IZNH4Ivtm\n",
       "sJzTRzypJjeyJ0gkQxOt04Wtpk9pR8wFijYSlPAPe/xLLPTGlzVe4z/sJ/ZxT0sXez2TFb2HS+PN\n",
       "5fGrWLRo7iTiPCfUPMNtVVeW8QLshluhtUxaeuzxL4KRaXWDzZPD3oCZy7l7PrHjbnsCu+QniSLg\n",
       "8rdR9xoYbwUQ5YwHF3/Nci+zL1HxGZ4L2fog8TyKfh5YrePpnYaER/liN4NOXHG3TyRUAHQPEB+O\n",
       "0fmDCiGW42CFp/SOdacVMu4hEherC3AgxrebXZ6lt57G1D6yYyf/mXSrjlMM6aD8AzMo7YaVi/1Q\n",
       "riXfAbGXkxyMj9BfJMwbTj+GynyOugQf/Ri8ucxRM1dfn2kFerYby85cHDMQ9lc0dfLgioxLGqWq\n",
       "oC8rjPsjgmTYbWjjaA5viU+h3WQwUXncbJMFRQhDbme5/pstilZLsiuxC7ZL9VVppiO237u2tvTB\n",
       "5O/8XFIx0/TJ81Lid1cz77odgSOfPeXtxPbE5SBBn+cjPtwUOxtNkNL/OuX1ZKCfXJ5aiJfNNxEK\n",
       "D4e+kd6iysnSzitkRlLacXr7s9KBBllv2aI7NxGNNB+3pp85KO0OCRRDsw7GYBJFOmiviotN98fv\n",
       "2v7QdcgTYb85gFHBdRQSt7HxjJDk/w5CdMPF7EWgfeHzpqvABLah889ax9+imBMblgPrYaNqv1J1\n",
       "XnKchWA3APyUoBO4qNFdLXG6CZBn1McudnDPTfhmtQIMDDg7aUsx4YK15aB+nq/rZIHoQfXJOdfC\n",
       "zMFGuZut1ezWPRkPdrfmFbb69AbsqSG8ce5lixqUAxoRYZlB7as0utiunTvSauqfa0rMpUAVXLxh\n",
       "AvM7ve5ct6bpU3I6pDH2Liipvmm6CJ36P4Q2bErgqNdVz2PS9ebtw9Y5teX/nqV85RZdGzRifMIC\n",
       "0zU8GUebYKDN9+EEwQxkfCV2fhSi+XMCQCt8OqcFOKfm3Ze0eSfcFeBM2eF9u1QBZnSjM8ujHu1u\n",
       "ofWurCo3bI4uE7KiiCGiDfZOAahRluwQIip2KprEJVRNXyv+5qrTvRN+1OyIMbbeDZiEm05erue1\n",
       "k7Dl9uFkfPKCqrzftDROAKlgoLlA6r2CsAr16w7wapAs1sr3E25kvHP5yrhsvf+717jJIxZIg20m\n",
       "g1UjFgHkAfhl9T3pL1prSlWEHCQ5ocN78Fs8mZHyFt1mw5u2wAqyl56nKeu54bJIuU+SuKN3Ljx1\n",
       "M4npOALIKZiyZdPWJ/CA3h1la6apYFeCQ3ZPEum/+4TIuhV/q0CavAnGVShMlm+nMDpaRLime2ae\n",
       "nOMdlF/NgoHSd+5Fs87L4bpb5qo0xBlYF28kH4rgeEzrxMfQFcUwFdScj4JdrB/JhnY7vW8EPbm1\n",
       "s2QwfRT1o44OXeO3FByaOGcg1P+wPt9P0rEFYOFBzEliVS6TgzgB9N265P+S840oDOQgfCTqU9v/\n",
       "ed6ifJ6zETWcvF7c1zMA0jF3LVoQmfrOXLnD23NjPL+rBNW7SbqI9G7y99OyrZnzf6QqtLO1w9N6\n",
       "58VkS8Y51bU3fTOcTWOELDP6t6r1JjZswjnkF9QQegjGT8/4Iiz5gUcpfpU04+VyC7qZAv8Pcg0P\n",
       "bh5ENIJF3sRsYnO0T6o/YbsQk+C+Ce7Qe1kXS/x8dK2fwPsxtUU0qfWRLKmGK9j2kuNGpqOrwyvO\n",
       "lJO4t0GCRWe6NxrWkVl6+NNeT3Sz/xF6AAM/QDAALkZmYua07V2WqW0rnap3t3O66zhOkWBjwVfZ\n",
       "lVjHX3QGVBQtZnMeaICsqZpvi28GZZvAhVxNR/BEEEqbO7tWq9yk+vSzp/LW7d1X1tLGPORAqvLn\n",
       "47oFNSLRj9sS3Zi6AABm8HrTkcQxZW1jPvCWMr4AxpWpdJ5u8h1XplIShsuqKm8qCeg+yEcx7fjF\n",
       "h5x9aJto/0ufSFy9KcXyxQTt0PhpgN6eHv/Wl8Az6kcUG3xaVQUVqLYn70ixpJhUpPl6xv5xLYGP\n",
       "MKUsNEq46xfbuB2daoaUgPKlHqrjCwKhs9oHazpS0ksd6NzKsohPlQVDyqbjyYmwgwXDAsXdJLTV\n",
       "U292pY5NbwVrZxuDP5kUWtX8IN+b6Kc7TP3AT28QWwZJ8vJR9e/zkixxstxXkUYEwrNx7gy63nrN\n",
       "BiiGn57ZPSUh9WdeYzh39CVWi6tH1+XWmQmZCMYPZo2Bn2Oyf+ypihq8YEJxXWysOvJBldQIMrqX\n",
       "s0Rf07rPRxJkFJ9LJlDMLlq7biV/1PfrnxTY6Y4FJvkXkCRP+CLmczCUUvleQ9fY18lHtvlm2eET\n",
       "p2CRi9X7983b3cukYdgP18DMhtesJYRWvPTp9ZDffeb6zdAbVoxKaqeWAxmnKvdvfAs70QuLp8RR\n",
       "QVZEzfgBoOjHOhnmYic/7Oh+gipBkL2hQxbpnn+oFakTMsdNajBOvAX6az9mTqTDnZPZtFW6aroM\n",
       "BaOJFF1bZ79bISB//mPfegJMGlEY8IGYKjnwcVd6eOEyZKPkKerbuyjQIhFdjScZhhDkA8t+qli2\n",
       "sofPozVuUnRruSgZlUoZuAg/HpD+lLRrsfaAyvq0PkAWII34I6TNe3Xj4/Vgi7Tk+ce9MUCqJrHH\n",
       "CILCfyxjMQxId0CS8FWnWKhJyubAbnS+DAHhXugCfxCZKePApHTcNLqAm+mViI82TlMLUOchP/IU\n",
       "gMzSA5IA8mtjoUSt8+hcw02CaMQnp6zsj34LF9NlJZUm/9K5p5L7Iy+pihVL8+3uslNo3ssnXgqY\n",
       "DRECOpWqbSYovopq6ZHbORdoDeFf/Y2kPUNbJfxIe4AfIX13EN/zLMMCy2pY9C6gUIyZHodJWS4s\n",
       "0KuebQo++74Pn3sJId7xeYN3q8LMKuuNk6nyksmAXy8STfSfEG5TdlhBk7heQk/pSbaMYf6cx1OA\n",
       "uVc1Zme/28gbOXaIMA1tKAuAUnQZxzuDvfVM9xd+4F/hnU65HrFoai89d5IRnmPEN/DN9EefSV/6\n",
       "2N1lINhcdr5pglArSUexuqWT5yUP7gVJ3tWZywZR9s1CEt/RiPQfTnUUtKqA0P90hVhA4V7f3sID\n",
       "6VRmX3t2Ex+F3ByLJxBkEJbeQowDKi/Y4Ds01xWH6ChrWIuH/c3xtND477Wf/reaB7t3zPbmgs4F\n",
       "BZZUZ8jI5GNTr5suQeFx5lmvWvi1mB0QqxnuDfnAIqKN8hGdUoXNitL8RO1Y46QWsMxRTE7f+TIc\n",
       "R5zUWKYLFM7nWHtZ5P+phWB9YqgEbRayXzkNvj0plpn1z8AJeQjESQll/u/Xk1bEIpb1exM4UyrL\n",
       "IZfEudcwYBRT/iOd6XP7J3VKncfA+HwwgRsNqHdslp5gotHhvphmSQJBrgk7wrb3tuqorLZZw3AA\n",
       "BE3MuC+7i/Mu0V15heD5juY+O1irphO7efDcQ2abASnVyNwtMO7tl2ud0Pkv2KPjs10SsFKleMXU\n",
       "DQw1sOeAk8aRCdwo9Mvx6iBplfKOO1rUwUaFPf9TdXHcX57C9E08alN5i8LDJL1OjrJrhi3JcmaE\n",
       "myEr4JOSNIQROBE/82xjAZv5ZI9b+SqDvkQCTKHFlb+XBeNhHeCbnIB6vLCgmskSzYhUecQUeV4z\n",
       "/P10T2rNjIZGWwLUmcfa3Gh9j/nhJT5SAyTuVBHJEU9hvzLuYlLYFJwJMHFuEqI070OzdgAjLszJ\n",
       "7FEN0oQCR5MXkgr3J6PBH5cC9rUlxZdb5bx3YHZH8vX9G7KR87sPNvi+uHTRq5eR/pYPzzp7m+oI\n",
       "D4muzB3gX5PPeWL2fjh+6hoEUw6G6AmNQVj5iXLj7NCFtXUcoEEZxdBJgSYbb+QEyN/WwxFKS3Kx\n",
       "jsJ5a6wi7k2uvksd4JCDXIJbM2AnzFpYLjakzwM2XkSMCmpKK9HsLLAgn81Ny8XbykQntn2IvhEa\n",
       "p3+WTKC8zuvmnwgWsWkDlWNHyQ2IzY63Eb64E7OiijTCqRmOGw578xL5QhNIratn9kkZ80B5vSId\n",
       "OAWxo5YFCRucBtCjplKFZyxLFvzjwajtVwloZhcyq3VmMyX4+Scej21qOu+34JhQBqR74pjqYwFF\n",
       "T+BxTaglCQrhp8flxlW3EJVhfCcyJBlP9Z1LNOJiMQ7M9XUr/NgZnMAu48nT/gmmK5FMkrw6VU3O\n",
       "Lboiqg0fjrTdeUmOBKnWhSMAGvI09ZSlemMlX+oWgPrEQ2UNQbg2cH1haJ4E9QQVs8iFfkQWerjR\n",
       "MW9Z7k4CQgonkDC4JS0tY+PCLOqylR241FQ8qo3M7TMWObwRx85ZoRCryQylg8ftjj3cj0QBpJyw\n",
       "uZB5MbY/z5jBVdui+vykLbZgKNniS72QNqw7Na3y5ftVIKXJ0kmaRRlZZpsUPQ3a3CNI0yxfqu95\n",
       "1dwjjbvK0Pg3Z/dIKJdSVBVzwoCV7O9KAxBMK3WgvL/kpCK66hwKzM0m/2T+2YqKKh2uHMC//ykz\n",
       "RZsFX3QUwi2zcr+Zgw19dncuZNdf6ykYxoJJxqquOGSzs3vac/2LHypOFfEVODkavLl1RI8B0fMO\n",
       "qSXGP+U2FJqzRX//Pkvzc45wmSfd6M/pHtOmdJmcIr4NXkPcN5Mp2U2gfBqoUT0odsJsI4uqvAae\n",
       "0ypMkygUcpQA3AJCCMGzjPTG6Rtcb0GBVLMkwi4E2toAt5L4oQGDjh2CzC2v2KhiIfwumOYEOYTP\n",
       "igeH/UlNni6bXZL66je9Hrpczp5brUmYGrnh7u8hcMMAh+7OgMcIOS7Zyt/Gd2Q3uvnxyYSiJJ8I\n",
       "IuwO/GOv7S7L1k7hsV86IO5IIvtkKhFnF374lnPlMMRp5Qte9PwlWusLTOWrrv9N3CqePfjBmjVh\n",
       "CbrJUPKFdoNbUHQq0YAmlNsaiDKX/5OINDaGhdmLelN1CJRRzNmY6uphD2oF8RDTsLvWCYfSCw6V\n",
       "2olbyQMlCrrCfi8KPnPQY7oqRrQzzwLXI1Sv17JVmfdNUxeg/cKXRTr+NfC7720LGGfsBZq+y2uL\n",
       "4rUt6/1z/3INmSJ2RQlFPiOEoIWLdEhwynYbp2z6636alcZFoY4obzC+K0QCn3NruAvR7tybGQ9b\n",
       "2InfMwpnjk2FHMcZuUhV2iutKNyT3C1kGMzbOqffGm1JqKD5eWtAjZM8MLqi1xm6Tl+mnmCuyd/Z\n",
       "wAXc79K1L0AUGl4xNETQJuSPuqZDOzyOqF73GFDeI87+ZG7bOjAYmV06yZ9oT1lRe+lmlx16EzQ1\n",
       "Ow0HVQX5+pJDGoyfc2NelMQVk4pJN7cq0TJkfQ8+wtvsjC+t3EPWNC3n6xOhOYuOnIj+J/c/HLz6\n",
       "zxinf1YFglT5KN+w34B7aT5Pt7EyWV0l9VswD0k8v5Ge8VqbLnstHJttG1WKFVNJf51wLOZB0r85\n",
       "kmn5OCugzGjA6ixYiqu4YSdjQWzgzCl3YHVV+XRZdP+aXm9pmj5KhP3sy+BiwyhqGH9DCpmXBaqq\n",
       "2qCUhgjBl3ZvBPXIc1O67W5gRmR1nAM7ZLQe8KlXKw4wpMgTOQuyEJb4NMUlZav9i75MPoXlG1vf\n",
       "YZ1VjIhYgKPtrjuP7DNLjY0fXCh7M6w9s2kI/F9GBeM0OjG1kwXxDuXUnRzfkbZcvX2DFbRV/YCV\n",
       "8vhzaHInz3qeTYKY1dQb1lZqZNutT68Il9YMiKQVn9AEx4/1Eigv3W7gn8gWrn9PGxoEcF1C0m0g\n",
       "KhGVsz4FFml2DPd6xp9BJFRk9J0qUm/6x0FBQB9ZNN7NovR0QrAQMLNmaYquufVflkDGZu7IjybA\n",
       "ZR+TMaSR2uRQpesY5BopdFjEx1ejpyzOcFJXXxxZ/gfbUovowLPKm3gdDGi0GDSK8zZos9htnt+3\n",
       "hsmC7o4hhIhCgST50yUW6/jzWJB3pG6SW7LmKA5uJ7tuZtpUcXvddp52sDXxnp6//Vwp/cNgHN14\n",
       "F5FJS7Lma/jWRwJ6+xa95LBkGexHee0E9QxMCN33Oxmxuvey6boLzOq/S8igv79Q3XAtaxg/2ZRo\n",
       "WRzbxyIMuv9rwt3pK/tRQBfMDaFCsz7HlYTXZD4hJOJjxJHvIG8OTnggb6WiMzUGZ5BaN/MyKqUX\n",
       "iV7UnaHmRTVl5e5RCelfsBLNUnOGeYF4rN3C+NA2uUc4E+omDIrL58MmAu7XF8gvNnXMNR+qPVuI\n",
       "zjwoC/r0Fu0aDsEZ8yfYPzJQ/JGvFYJaMrwFfo4kPG11YiyvDC6oSlAdzKN3OOizomaGP6OTCZER\n",
       "VwgVEwar8b3c3TPtKwhQ6EwYEaoBfyi3uQsYQDctviXvB7ofCQu7YkejtdkVZBmgXaCxgi641JSD\n",
       "FSQY1dGp9Nqms5/EIw6zDk6gR8bgf+zZ+uF0tJB6KR4xnufsPWtpMMUvU8cWUxjPPsFe3taPbxo0\n",
       "k5YyxrsSJKZAGwKMsISdRQCfvZxcbWZuwNJplmDuOKgT+7bInRCNgxPsYuddVMXiS6fb+/Q7h/AU\n",
       "0SlMKLDa3sBHGjMwvdc7YZm3hkZ1l2ftPbkwjg8MP0hyPc9ySzy8NpVY5aqTuilaHcU+rL1RkY9P\n",
       "50E26JEAQ2ITuvWhd6Xb8Tn11GTAIvUTMPRiw3nVSGvjNhcTBS4NYbT8XYFGbnOOJJMTlezA2NPb\n",
       "KQmvTcfqUp2d67MUmhIRPr9e45I8VEiD4oFIYVsw9RNLLqG4IlL/6JZvImxu64AuOH8tK6vX9NMu\n",
       "7WbPJreS4PmS6F3Hb7B9qEqH+ukq/1XR+cgtLgBhA6pJkoDYGd7qLNKpz1jEGAwpmn4FG1uDaWr8\n",
       "Gj9JjCliDlMpiop5G6EStD9J2AKBk1s1B7bBhivWjTZV7F+OMWbm2nXIxbV3P91bvjvRRWehNTdU\n",
       "/iInKV8igu0xuVAkinGnNidMZQlFjicJ4hWJUDklBxFA/VYVd1nA4uvmx843/hhxoVe+eONayOhs\n",
       "qmRPtvtoHmvPWBm3oVjnYFRNFZ4NWuJzKWY0yNHKJMC22FRoDIxySSJx5P5daUelInCSjE2vZ5Uq\n",
       "t1dMdE7q622fzwXk2Szkw7+uE5KpzbI2imksVDyWsyppvFJ1v2ZK4RVSZxlp00taevefgQyoB6uO\n",
       "vOs2FVo2TdaMMVcs74Wwl9qI3/9+w0gsTXmTu0MJAhqLcpyUYmM7krW1hV2Q+GNuADL0Q/eldKIa\n",
       "iX8nZh3f+18t2XeRDOjYCwyGSQvQMA1HyRg09pVz593h35eTJVhURPxgl2IMwtrpekR2s+GcPEQq\n",
       "fA5KzuvVnKlJvpiWX9jF+wTNZlTzVGhw9LiUgKm41wCRBWM0VxHf/luUI/4bQfncCPXIswOuX3PP\n",
       "1H9iep0pOeg3Mq5S2dRA0F+hEhjvVG2f6VvmR+EEYH0jTZR4OzC4hK+3XX9lqr5PHxfihwUypIt8\n",
       "aMThbcUnq/plX7D6TxBmG9CfAU9b2fURYNqZXHPD51CEpiBb0iuleQAkTvp96WPFpCPx4ngM8jMi\n",
       "uRMtjDkN+Qq9pT6pHveKuIxEFAyVlKKy+DKVs5XdVR+XVL8fgjJTrOFOO8+Qy8Ky6ESC3igU0lyT\n",
       "CY7sr+PNs+6UDNTKPkWIK524KVNQC3Xw1aypHXaDflxYZVMKHC+Cg8IP8EaEfktFzhNscJaTgHB0\n",
       "hGSzFM7PEcaVflKWoYlFyOEVBK1y4ETMNmMv7dzVI43NzNWIAJWdpUoOPybRvMQqrsZr3kP5U6Bh\n",
       "qUNg4Afb5W8MIr6Ni0CbtZo+L9/stgrZKGje6Ju7k3ZekKxpoHimrvUGrxJMNMuDUFMk7NPJ8/80\n",
       "Osnblwz1FLkmsGbXf7CUBv/Jbja21bls31HG99V9UprSENLVSB3fF8HSjgPhkYImUFa+EbsiUo8h\n",
       "Y2Z98UbAbLUaJSIjXqTERHHqlnn6rG0yF36yuf0TDHQtFFNl9Izu8h6+cdOAcDFt7MvdQrqurLS+\n",
       "BTX71ZiNjNKAaIwTaOSwroXj3oVWV5gNbEWmne2Z0S1GD10Ks7RfCxBHRr0+Ls7xK2E6h608pFfq\n",
       "G/bYn2F/DgXjc/0L+ITtgTe+zLPomQ4aGMZbNDjGK9qKcnAFMn4JB+nR0V5Gtj7iNY2c0BZ9oLoK\n",
       "5xEzdD205CkXWR3CAwNPzbkw3db8wAFokjMa7DfZtfGpFvtjbKfDNQ3X8A04NLuT1HlbksYS/Ef7\n",
       "WsIn11Y3Gx1q6+1axM/SldSh7Elglqn3Peoy7D2n2YzguZoQLWZSm4/WdleQZKVMXI45b/84Udlg\n",
       "S9SOHt/tmMAkZy7YM2239q5oYmcAuvoLocS14ApeD8ZLDxEmgDFQAA/XsfxBa4JaIi7jlaq4PMnG\n",
       "7ZrCQS0nSgA2McNaGVCUifsu0WVeEZgjiwXYyXkcrSrP1j7n4WlrwK0WdC8xveODfLyM5+4ygnU6\n",
       "jXI3q2LeOO9+P/sExikB4ot8PQzqkHj6w0xKZh4L3ERdxSRmXWskkG5KtHcM94GKsTrg0ZKk/dIt\n",
       "NKO7UOkcPd7UFBeVaRHQqq9FMLPVSFxDtpH0hgyrJoR3UwNm6cOLLLTfrqaUcB1FuFGUJ0D8SK61\n",
       "jjGZQiWHWAWya7WJj3H3mMP18PyyRMfBgtMS1gECY4ZEbF2pfGuWynfw7JXs0Hw7c17JKZZ5aDqr\n",
       "Yq0F22V6aHJxbgLZfgOnR3EBmVacvCoHjM3fbZW6dpeeHDG8K+BFPJBIE2+vnYKPmMViayeFq+mF\n",
       "BmJmnY3lkHdPtjCObEh9McCOyye++chQaMhTz4neBu6ObpDCM5R07Vf1cP/si1iquLhnbCeoAj95\n",
       "QeOrEhfdRAsreBWWiZyZ9tBvvY3tfimsnDwzGHZMlpKvDvVEhcTzeJ8bnyh1d8kBHI2FQof7YfUM\n",
       "V6f2K3tvdQFHKQD1nPyYlqMxdGhSv4Y0lxZdC+N2NRqiHhIjcig19uQ+V/eGqNfgkvV4aoYTU8PM\n",
       "3ZExr33PY1IVTJ5WwXEURE0PRwi3tXr35v3PpTywMXYiBZA1NQhiqg1zVWGAxOHtPcHgZf22+UoO\n",
       "TkBNw8eru5tqS1H6k8inb2OQwRgeTfq5urfI2tvl9EQMzG+M0Z/+weHSi8DAUPb/NXLE+LY0iGFz\n",
       "wl1ndxBKWUyD3oBMcQHunDyDxB+6kFYiH+8iWNFfPpFSMgoBj/v4fmpaEhdcg/qqLNPzUvsKMw97\n",
       "m4axb1eqv+CB93ODtvEMLCuJYUvzRxFLzh6tL9TDB9iGA1zS5S2parNyRI44FJLskdHGkkM0vIk0\n",
       "6nwB6KLSoEh6A/KcCDh5Z4mT5igi3gAgnVgA2AhmRL5wbzZ2KFfHzwLUBEx0xiSXoF8Ac/MhP7xL\n",
       "ObCuMH/hLm0LyUVz0ZxRJu06ZsTW9+X7Z//oScZjmdZ2dilF6hISDvchJR3r+KRGL+A8FiNfoxg9\n",
       "a9N/MZBie8FzLz9e4hgNPI6A0M/f0uiUbtcr3GtzAh3HJGqZEQQQB2bWZKrz0kKyfrFeNSATO0va\n",
       "SX1W2p1fBaQHE8gBXU6c2B5Ywle9cAXajk1d6Q8dMPmLldrnEUUIW4ZydMZgEVbHs484CpSoFmnR\n",
       "zbo6hpqlFd/ffvh62plVOFcZ0gApC0dPJ7i5tx1RIxlzhtq2HMjfq+og9wtZjDOLOm0Z/wMibo17\n",
       "hrK3TWXlRmf7QneUQbZZkbKoXsBC362KmJNsLSGdUqDUhqPeoTC4bITOxNyNgWyKTDuAGI/9Qcfq\n",
       "PyO75roIE99SYqhn2+I9r+FOo9O1zMnnFkSxBkQQSefGwxNcHMhH4wjwOS4lGuEbv3fmhbCiGSuN\n",
       "OMhz+H/0DiuMiJya8Agr+yQj9uofvrHqPbgSpgvQDVmLABJ35A5tvF9wUfeiQa/pnOOGTXbqux83\n",
       "mbmm6c+3I+lbnQUOZHqeLMwxNM+Ckuyx9a21dr4goZtT9BPORdKAxjlkz6iJgmaUvE7QANyO8DA8\n",
       "b5OzmZvMe8JCfZJaChPQABu+paqq9VOqFMuS7SpmTwE20Bg1V+JLYdq4FD7y53eJcm7+qFoShJVs\n",
       "LOt019sMzd1Aj9UlRRKfG/BslSbDSSAcsvx7bHnbm9O+e29o9JD4FQDvGQ3BiAmmYne51Mg2eFde\n",
       "l1os3mdRB1/CdflSDaHNY9lBbw2ufr3qVqPdG/+kJ9HyvLlrquNvCon5uViB92ovJGwwzLIQnli4\n",
       "fv4XkYZyzdBMmBf93pWe9dTLAhjg0j5VInqvuoB6C4baRaSHIR0MixfDdyXZBqWvSaM2yAV7RjA1\n",
       "gSi+CbC1jxcJymXp7UFEkkwGIiqZCQTAgvXTpknNLMq13esAMomKIN59sVSk5cns6kziAvwBBETV\n",
       "ll4BtfCFf4TFdsFSz9/PJ6wNz1IRafgCU63t++XbTk9LNxBdosbKv/2pKX3PMSSAJIFyeF9g5GAT\n",
       "qz03M0AjYS69VfTf2DUz6JIZJMiqApXi2sCkAtkOs1brP9tfk7TVYqwwXq3UnF1me1YhPH3fvGHe\n",
       "K1Ok/L8bQ4TtZzMwpBo1MMZv+9/A4M9MEz/QAx7XrPi1lL3jpb4NeGbY1FLc5aGBtfavTnuMvNlN\n",
       "lat7RG6AS9wVZCxCUrmlfZmDlTe4uKEHLtNh+vAS9UmpihigitqY6CkWKG3baNDh6R+m/B7ylYIB\n",
       "7ERj6crCyf5CVtZc2r+br8Y2RjwIwaAe/j/IFtHOmVsKpCFon4hylGOLL2LtTl63fZ+69gJIZqz3\n",
       "VT5RSkghQbnR+GuKKDmgtzWVwchzmI7VbQki8uwipTy3vkJt+vIguVqUdjTbznGNlJzqvSNEMSYa\n",
       "2UKN2+urcfXXFtfEQahwPj/tixbFOLhrH1U+VxvS6+1r6eZoM/+OqcoMtLBbeHIt52tJuccaLPkG\n",
       "T3BLh0Eo0fGJRe4nxGmC84wdKkMAYtBls1h7FcmsMfHiADyU9Cqy6rPjCs9aXnY1RPotMgjrzwP3\n",
       "6l9qdYRU/y5nECWbCgEuQDLn3xZ4Kw5oOcUZ2by1sgPDQTi5q9Y6T72thoPnzRYTuPTEwp0UtTTb\n",
       "kFIhii7d3VZynRfe41LJtAXlXBrqnH3rmzIDQ2bfQUhA8pNnX5XTI8GM9ZnXbaSv8UiQWYFFFsU9\n",
       "lU5k4WMGzN1gvHmpgF0Za1Qv6ht17SRECYncmnjdJWEGpoaZdeIILnAKns7xZzALc2rcLNuygdrM\n",
       "vjVb8gJBYerrCaDBXHv/NWDuXzoEeK9L73FF7WPwSsfcQSUGZg9hWgp71aF5V1spCJuIwZ4hzKiV\n",
       "ro8vILv/Jvn6T0sXqzTmpbfYdbNUDl2PhatJC+5ujih1WXwMSABiXAc+5pp8Vqsu7//fhC43OEu1\n",
       "2rWn4eJc/4WfeerJF1nj1ImnsWLYDB4aQ+AFR++eNA6ROsciDre8fEJWpWt45eTYUtlgyrp+104O\n",
       "nlUVHUtkaLtYBjgjnjW+7WqTMx537N3PR5CYqESkA/ko8uen9APp2qv1QIyR75wFr61kxWtwiQPN\n",
       "oIF3ULkR3gTXFvsv+3HDoVg9rBueryPhdZjwrwNCnHNheWCLS+iFzOkosbONrHD7iaRfk35nj5tP\n",
       "03iSnueic3GiL9X5r42jVJ7q0vbuLSvP5l5pk1FF37qo5eZ43GxzqOl5wUvdUcIlVj5D9YaaRmTR\n",
       "u0iXHIPjN1/sQK2Oo33znf+0y4kAO4lXWoidwoqMvd4uP6GW8PyzVeEMjTyydSABYjnAUfklg4rb\n",
       "s0I0kGAzdjldlqYHObUHwdjsVDPol+vWbiKjeZhuHvU/6yB7xbWshh3cImj9GqjWhOwTLpnwGtLW\n",
       "LUKlHBmhePefA4BBPST6EOJ/ffg0UBFyH/3oS+mURAM+oavG+l24qZR1OQ1UlpVcBYdTutQBbMBV\n",
       "nG11tpysWzDFvqTSb+PmXQV+m0fis3SscjhbtuUKOzoGtYLwVJTUBsL1hFH+8ZOm1041OXqy/c87\n",
       "/mJ8V/9TjN6Pb/kmOPW42cOzOuiCTCDGMd4yijiKbuU0ER7IvQ2/IN6wTc9tqREJnQKguOMXnwjD\n",
       "M4U1teP79O9zdO8Bjj6Nl21kZdZwGBAhY/mTSN59rvyjL+UhXpkkO203fVOtpxF47cQ7rBxmWZIf\n",
       "eEChFJL5mTLmrWkCb+ZdLfkHVpUGPNVrI/dYx/ddsoIiL/x8OfjWdsEjtE+m8uSy5PWAPfK0BJPB\n",
       "LBB1idEohoXyjrswZYmLE7TqACt8WbaIxVbMYGTxywWZubPqMRbr6ZAKH3+/UZKusIJd5CRaXzks\n",
       "ucfvLp9Po4FmE2K6VrJ+lfgaGOiNe0bcNi+5r7U2MwmU2l2yBIu+BBaSqpz9IMWCp79dp7v0Oh06\n",
       "HdNhfhjIxzzpZqEhavtlMSnJF+Y3NMAViWN1Ggwe9Kfuik8P0HhlJx581n0j6dkj+Sco1tBY71T9\n",
       "rmTzwdTVxsGQzj3p6Ca21ichYlzniXbRpO4Cz24zajhBI7+/EQz0JupoV6xURR1MuyR03/0PTO5s\n",
       "HCJLfnc+KN9ofWFOqteJGPWn4zxGyrz4gctGgmxYiGVJawDNKwijfV8Bw5jwuWF+aD1cRvJq2Tex\n",
       "HtDZGA5WWmC2GeDn2aog8s8cGg20z7vT+YCYFdTniiK9wE9NGijHdFXqeAPSUALwlv2SU+sg+MQF\n",
       "+eGD1Te0A9xsnv+zwJpBsrJKPCPvYTt9Plf4sOoax6AMBoMKPh/RfXUgyJ7h0WDyMFlt+CGo96Us\n",
       "F3A1FJXGsX9r/d88Rgbk2HL+xEESMeIoxpmeU6P9PiZTCqJq7GWrrzbPm/B/IF7TJFlbkk5dsjwi\n",
       "+1cdY4kANwr36J1wIjIEUmb+WRYc5vwaKXQSaGb/XxQU53NSZpqziqXF36mWI36rRUQ/9Pqa348Y\n",
       "TueQkYQiUysqpCjH5dgK1IEFlFvBKbRXffC0ydbknDNWT7Ks6UJ7thgYyF5yIVtReFB4+lmJ/jaY\n",
       "PBd2cuBBb5ZuUUSUw5oNLm/10swCBv8vvcZ0dnF2h8zk+2qJiemOJn8Eewj6fhbQEfzHlmw5v9Rb\n",
       "kUuAbavZJzUBEcBTlm49uGO6WzuyZp3lcRK+La3LNVEbwaBTFHIpKuIQgdjbaWbNbkxc6bvFOARS\n",
       "o0Mj2VxTtulSskUB8QYN//pEIgrMAGB6dIzx7RZ3E1R2lIfFfwBo3zhW0HKp88A0u23wDPqEC1L3\n",
       "4AAQUscnrdpGh6ptrDeRhKr5DwITWElLdJP/+3lZWeS04Gl25RRmWOKpRs4YmR7Oyh6BnNTloLQh\n",
       "+g0efPkR8g4CJ2l9RVbljKzXpZrEFTz8MfE9m9qVouywQ/oXc8/uPG9z+ismoUQO30Bwa5t4R4hg\n",
       "t+Kw5BYFVYyIQbb+g2pMMICa4e0iMFDVmTUUzgzv3PVhFq/oogCQUXupKJyrXmTZNwvfpCxNysVN\n",
       "P/YGvwcKbdBdKxGrSN+Z8VnVZGJBFHA+O+5J/VLp1S/aFJvXr/bYCMqfDI/IKDUi6cuRC5bawl29\n",
       "e9GcRgBn62pjRAl3ZlHv6ZLzyG682gr7MuwPz4MusjqidTSi9j0YuhKMfuF2GKIYeHMPQnJvbN+N\n",
       "iWSLAlKrwjNzY5zmY7oIL8Dgnc1H0ed8OWRKJX+MdqpxUcZ3cSCsVPnBBakopbbVMS4g8rzzi8w7\n",
       "4TwliXQBNe3YCKUF+80UcqzT/DArpLxUnlSBOhEQoY7Wf44MVS6WlKIWQOcxkvwAzTDC6IfyiyHb\n",
       "6Cu/WNRJay+KQmXsdYvK23CuHYu3+IjfalSenmDjDOyiFQxZiKMIzElMrSzWmFTI90Azxhf+Go+l\n",
       "EbkI34TOY97AZkHJSdRR+mgGEv8lqEN2R68lTHFZnua20WyWgDJgnFSJzvGvw+jjmwj7DI+mWLa+\n",
       "YmUrUdjj8mlDBnR7U7DtAE5/44N8AvPTNRZ1sMcw2O8YmlMYaffxTY0aj85U1kBK5vuxmfpYlgTa\n",
       "J100MX9xVkeMywJnqP7Y4KYKPz2nvpKDY5++vzNFYVxwDr6pDnogy7FRKiTilrC/ufO3s7bfPro9\n",
       "i+Gp6YIDOZygqj6CmAgs584P3QbSpNyViHJN/FsP37dSEPwJZd5QWwe2316s8okgeRFTqmjHGfTt\n",
       "AhJ0McdYPZ7IGoemK4Cm+FUMAi0f9DwZHLFI3jw3PZCRiFrM0oedeYTor2mTLf8laR21mWgCIk7S\n",
       "Z7OwWeIiKhCFir9UbJUmQQ/HjkR3mJTjFBlxzj2sV+UVkeSvqPW0aUBrnWtC+VZHfXM7z/Yi+aHt\n",
       "YeO05ZBI6j9gPh1A/H8OREr87TcTrI3666Rh7KYmwVbeHBh0QNIKdJ9QaJtsE0k43CWonJpKsKKb\n",
       "ZXML/49h2RFQ2zBmJQjdTZaV7MmYHmwO6GyjW6iKjZ27e02vdSdvBHH6HEbTXxYLVtBIFnWBuk1j\n",
       "1SA2ecWu6YEK22ILZiDo7WXE6WSSie25hGl+WAl0/uDVkAV2wBM3oj0sLQCwOmKKiW5scO3MQNeJ\n",
       "OxP4947TlGXOSHGLWebj9jqTFl52MXdXdwks4JubmSWEOIjPEm22sABNXVCPnNbilYya1+DwC/TA\n",
       "3nhjINtXDQw3pMfcV/U3r2DE0u7N8uuKtnK5kCG/MFXWnQ/I1flqCgXSW+fLI6iDjkGT2JrgVwTl\n",
       "GnVEyFw53rv+sp+usld6m/zrOX+AQSRr2TL3oXU+DgTUPLMiMVLsV71izzI0QPrWj8O+k11UuKKW\n",
       "S1YINQsuLl3jQWzzcGC5hu+0jvsBG6WrlzJ8ZsExkcWWal6hBrDLu03qD9vh9Ocvr+02KBsh6CG3\n",
       "vFIXarCybeNHdsmUYAO6qZistN3DQApU7WQ7HzcrPNYRcA3vOzVBQ08WwLpxcWHHhP0E8WUEMSz3\n",
       "v0dhRtFGuo/mPywLX8I58mNcNr2d9OSUvQKQ7mIEqDbfHPsuSRnlxVZtaKp0J2aRiweLvxYFg7/R\n",
       "PiQArBL+zengUhkjfDKY0aX4IkJHVi2NpX+cgv4SqzqIPdXIJhcqyzZbcdbuz1OwBZ2G2wZJqJH5\n",
       "ivrmXwDnW+SOIHG9qLY2+WiKtDd6jPm4kkdN1UvkqFZ4OKfHFJdgnHP2Nki16gU5tXW9j+065Tlx\n",
       "z+qFMHvUKCmJE1fhPWnpp9ehd2MfrZGHECrwlTjlY9TkCunp46SGrdYYOadY1jRydZtyUnl7FGBb\n",
       "idUj/8iffAg9navJi1Z0qSMNAOAsn+jTA/0cIInQuV9dxc3Cnu8wzm5xHOZ4foMA42ta3ihzxOqJ\n",
       "kLhwQ67MhEWsL8p5L+mzmMjrCuB9szkCG/9F32KhREh7xU+1sGKLcmeAcW0HqZCUxPnxKQ8ki+F0\n",
       "o5XWYd38UfFSm8MuS55kqkx26W9l8FCB8K4UkvEQmwFEH636/9uzB2yt7RR5n0jKFc10XOudAvfU\n",
       "gnwzg4cenM3MKCYJL0gDn2TkWnU7rzCWi6lESiqSIhHaE6l/EukiO6yR62t7EA/qStuzTk6JnRuq\n",
       "Cl+Fxe240iL3/84cB88hxRVHThDQq3jpolgk9M4Aub4iQ9niyddnt/coAEwN8MrTdqAGOYgAAD6h\n",
       "AAACpEGaIWxC//6MsAyvE5Oc+CHQoNrgGhVF/C5GqUwjZ8DStReoce0sNCv78x5XgzCpaGTkPA1V\n",
       "Bot1pNFvqZXPDEBdkAywt1p2iQb5UivqHJ+mMfssDL/Zed0+mSbMKy57jGvLdwknWBjfTu4uBqzx\n",
       "izIJo8qhB4MCV+Iyn1YEwJo3lIlrWKh7pKECUwWSgs5KYhsebeDQH+QXx/vWRlvpAoXMul4Vj6lD\n",
       "So+6p1NPn5CSmIXbxhv6O8v6sh08B2H3edhrHl8DC2a5USo1Bofo9mDNrduzKiL2OyV/mGuYuSXZ\n",
       "avyL5kjsoE3obCEuiTIJ3xglt3lzqd8WaKfvDz6h4OOBGCOJ23ACORaRW4IzT7upFQ8Tzx5xppBp\n",
       "Umpjx1ZxzBjDTU4KDAk5wYIxzrC2zhzeDVCW11JOWbD1cozHMZiru4Gu4lAjtjWTCaHg9Tn/2I2u\n",
       "eXRIwngRIWUDwwAFR//9KldTUBXCRnwYgVDWV96YjTeal1zyt6gdVKxpnBCs5GmehCOGyfJWm/w6\n",
       "T/N0csGyVN/Ym9XxW4JmPaMZJed2E/z9EHz8WfLi1K0TeI+zi2KHsmnozvQDle5Rj6T7/O8emuCm\n",
       "lEwC5YR/RobTQXSgSxxX7DPLKgGzncTUQv5FAH3rNolpfWJVABuv+Tiss0l9ldp4JWi8R5M1SdKT\n",
       "c7Zbypbvh45Wm9JAlcLrgAHzdoMPDNfNeCfNI1ZLjtbj9xpJEoH6V8Cy/tsCMXUPrmRBEic7Y3gb\n",
       "18iODYdQtEatywn/R+YrnwlfZLX4MY68WgcBlgELYq07Q73qcpRm5OWQ1/OXgkhXT5mmUSWpf5kP\n",
       "P1KIcIYKClh8bVplUWmQSiWumbJJSuxdduDLCzCraVxZ7EpnmH1xiDQYGFcnBNP3ZLzEATkAAADT\n",
       "QZpEPCGTKYQv//6MsITicnOfAD2SYdrKr0DLjB2oiTTuz44eEgGKvjToBNfTbQVg60cB5nWHjHYw\n",
       "pOKmk4kH4tincSDemzn1BdZLMM0jscBgkRlWYqVvvT00wj2Pe/YgTeHtPmwjOt2ACTduuDCpGFjc\n",
       "TeavBV6/J0dOt65wN6gJeb+DvIURiQaac7YAlr0hZZUII4pvJdMeYv5OjhXHH0l7CRkSaIY/Q7HF\n",
       "CyxGFuvcJPRfmwaV1xDEtha46rWGZikLwWq9B3D/4u5qj4T70HNBQQAAADZBnmJqU8I/BVU1Yoo1\n",
       "Zf84j5TCminbv9Rt/rCQTA3khlPW2Q4nVABONfFf0Hdvsox5Ni94434AAAAqAZ6Dakf/BDPkQhmn\n",
       "s8VCbyeF6/aO44ALUTO0TaLHEiifmfr5ek5yTv7BAAAAykGah0moQWiZTAhf//6MsAyvE5weHcno\n",
       "SAOYagKf7006kQtuuYYiQbLPN2ylppWASPb1qFMaSq2Ef1aur9yvjMTHywqKsz9B5/JP4DX99lm0\n",
       "4NYD6rWRM0NRK3cBiki1EPfST550fuCfVSpG+zKEDEKLwbgr97Wj6IRcniHLIrUJuImVxUoco4n7\n",
       "lGg1rFvMS5WmQ08SBIHlJEMA8K/tJM9OXmtvg4VMcxsFZo+dVQtYT07Rl+aoFI8WvOGmCkPNxi6G\n",
       "lX0Vp/DVUh0AAAApQZ6lRREsI/8CsKxmiggHNXcx4XkjnQ5DVcTQAE6yOUeyQXhwbCzp7YEAAAAb\n",
       "AZ7Gakf/AcWAL/hEbu37UTSIABbq7AtREuC5AAAA1EGay0moQWyZTAhf//6MsAADFPToANe0wRSm\n",
       "ctsNFfk4HZs8B6uIfq2GwDg6c0DxPubgF6IAoqd+4OO5yU3Kr452MgHaaytpelWZe7mGkSnfU3De\n",
       "35Wdmc0TmDTn3t3rO6TCTPx4F8Xs1qff8jKrPK6EQU+OJuK+C4qzp70zF+h7+UI1RrSQbFgtb4aL\n",
       "flLcaZZTyqzko3l24mZxvIOC5sHILMyCc2srUGCK06VCpRuZjmtvi5tOcfssXzIJeGEBqoIxZFr/\n",
       "9UX+2TeCzVy6KVHYLFT8AAAAKUGe6UUVLCP/AR4qC+CXUzMAL5PxjmwAmmUPL7d//UaVROcziVf9\n",
       "gCVAAAAAIwGfCHRH/wHEipeTrqeM6kUfjEgATjQmPLKzBn0MJvzGbgSBAAAAIgGfCmpH/wHFgC/4\n",
       "RG7uc4DUAE4z/BvVRRC4BCrCszMZt7YAAACtQZsOSahBbJlMCF///oywAAYB3rQARsEIpnc9w8lq\n",
       "CUnF2QSyZ0EKpkcXjjac44ABUnZN7LbV4QhVzDOe4iY+3vxHeUppNfLy1FxsA/zchNN4KwJKPY6j\n",
       "kq7LpNBc8/911X6ntKIQHOi2ilaCjEYxraVrOlMmwdv4v9YrBACy7XVH3bq3iMj3X7pxxZ/FFe68\n",
       "lJ4kDeOrA3YcH2my3/tL42MG4Okj6RazcBfbCGYAAAAgQZ8sRRUsI/8BHioL4JdTMwHx9sQ7QOJK\n",
       "81QRa3Li80EAAAAWAZ9Nakf/AcWAL/hEjHrRUNPj/EbVRQAAAJ5Bm1JJqEFsmUwIX//+jLAAC7Zm\n",
       "wAQjxquG/sU3qmR4TtapYm8ZqzV3f1m4QZf0TYuaglgtqj4k71SS+z+5jVtfVYa9TX7Detz/dCFv\n",
       "iD0pfkVyRm39x2mlEqFtxKmBd3961wPGizVNjTqj+5qikO8JN+abCMu6yzmtH0tdr/x1lGTsPC8g\n",
       "T9PAWkbjDgx1bPaECQbX3v9M3+ZSpmRy4QAAABxBn3BFFSwj/wEeKgvgl1MzC1iR7ZaJvOuI+V2d\n",
       "AAAAJAGfj3RH/wHEipeTrs1JOAAD2tTsZeZztD237H7d5z2x6M+n4AAAAB8Bn5FqR/8BxYAv+EUw\n",
       "q6gpABOriAJwfPkHxOhjELVlAAAAj0GblkmoQWyZTAhf//6MsAAXdsBTPgGN6ZDE3Q6gNR5qpE04\n",
       "NauQ+9p3JPUcTRv/EtJ685irAmI7nFKU0fuvXM8an6BkKbKdOo6hL9dgZ6Ki576Ls/vvsPmrByyT\n",
       "AJvTBM956NsKy3jNsPkayWJOIAXLHvy8/vRUQwfmqDaObLp5fvJsOKtURx8136WKlKLgAAAAKkGf\n",
       "tEUVLCP/AR4qC+CXUzMelBIqIwoLgFnSmVY2hoGVRv06cUP22oEWMAAAACQBn9N0R/8BxIqXk7H4\n",
       "kWK1SQAJwUE4B8+69u7SOMrCr4moiYEAAAAZAZ/Vakf/AcWAL/hGbW+gYRFTxEfuNbq3tgAAAD1B\n",
       "m9dJqEFsmUwIX//+jLAAFur1eVTdAFpMtRcNmoKE1kI2B00k/6lFIPbM6q6+33a7t9UvoM9LDTXE\n",
       "tVAxAAAAZ0Gb+knhClJlMCF//oywACqf5CzuzffADdgTyIB62q89OJBcfwu5Ym4i7PAOeSIHlpbp\n",
       "0+9bbTZQUYR2Xz/7kAAU5A+Nn4s9IED146AyjD3R0lmwCxrgSVV/Okmfr5YueH5uw+LUbMEAAAAe\n",
       "QZ4YRTRMI/8BHgp2hxFUwQ+pX8M0BCRf08+5MZ1QAAAAEQGeOWpH/wHFgC/4RlNsOcnBAAAAU0Ga\n",
       "PkmoQWiZTAhf//6MsAAreW6Ld6lCZZ80zImSJrsbk18C6KdAJL9t+YbDsY+0Z2pNg4Uw89A4qbny\n",
       "RpvwtjIalfWSgUOrkrETgGJ2h0wuBJOAAAAAIUGeXEURLCP/AR4qC+CXUzM/Y9FgZTkIygAth8Vu\n",
       "C3A+YQAAABMBnnt0R/8BxIqXk7G2JQpl0LaBAAAAGgGefWpH/wHFgC/4SLdrxWmACVE4p42ktLaA\n",
       "AAAAVEGaYUmoQWyZTAhf//6MsAAru+PmRHtKgDXtb1sIh+85XvD6ebO1plC5B15vRSKTAKq32F1V\n",
       "nix+N/7blV2Y0wOg5INY9ACHZJy+AyDkImVuH2dBxwAAABtBnp9FFSwj/wEeKgvgl1MzP3jX2y0r\n",
       "umuq1sEAAAAcAZ6gakf/AcWAL/hIrD5PTAAtEHf1jFvjbpJbgAAAAFdBmqJJqEFsmUwIX//+jLAA\n",
       "K5X6KCJAFm2w+g1sApzCcOCs0sX2siNLMPtBx/syxS6uZFfHDNVPRvCyTI6QpuopVbfwTOFadOUC\n",
       "u5vBsTk8xVyyFPVLzKkAAABMQZrESeEKUmUwUVLDP/6eEAArDvxJ/D09gC/GYuOhBpPgUGcX0lWq\n",
       "N7rm328YcgzX+W7gwLPF6r/6aTszME6TnsgpRdS0yVmRpbFdPAAAABkBnuNqR/8AcUJz9a1cAF1F\n",
       "4XUIXUDttH3BAAAAZkGa6EnhDomUwIZ//p4QACsZzKQBMOcFndH28lIF02Pu6BIxVEcUMDd+5PpU\n",
       "5plFp6NGjmDswCzMxoum5XB52rmDO0zTGfxOIWbbSb5nTWSuiiaJkKcpp8gC2qQRfvCWt6s+uJwR\n",
       "NwAAACNBnwZFFTwj/wBHZ83C1eeCuTG7gACBaQeJviLZJq61h3zzjwAAABABnyV0R/8ALF6IUGA6\n",
       "YIEbAAAAGAGfJ2pH/wAsZBNmB34ADaeIqYHe3aqNgAAAAEpBmyxJqEFomUwIX//+jLAAKmwdf4nw\n",
       "AcEVJ/J2JjvwY1bFLZ2UtbrCUlxJpfQa/+M2k9vXXUG1i3T/0JtyfI2MZFX9X3WGfSiTgAAAABVB\n",
       "n0pFESwj/wBHioGcBh7SDz8qjYEAAAAMAZ9pdEf/ABUBcim1AAAAFwGfa2pH/wAVltvgAtZ2BNip\n",
       "Mbk/nC2gAAAAKEGbcEmoQWyZTAhf//6MsAAqWdqwAqWI/x+hyFNIDafbFfse1VsYod0AAAARQZ+O\n",
       "RRUsI/8AR4qBk+qDjpkAAAAMAZ+tdEf/ABUBcim1AAAADAGfr2pH/wAVlQAi8gAAAEZBm7NJqEFs\n",
       "mUwIX//+jLAAVLGZACD0XCYFGQMhJtGL3F7Ws+xhRMIdPf+ucDrMzOe6Jm4/bK00xJPvBk3qKGZX\n",
       "Tv93VEbAAAAAGUGf0UUVLCP/AEeKgzMqhb4QAtYDQyArU7sAAAAVAZ/yakf/ACs5qHdcAExBGXBb\n",
       "RZCwAAAAaEGb90moQWyZTAhf//6MsABW6bI1ObAFanZYq3PD+2QC04NFgt766NxuwQV+FXBaaTYW\n",
       "aAZQNWeUKEusqHPmWjOlbeVINgwxBBpTqCUNURrKOyB2D3q/dnvae4rlonBwymreC6fhfQ+YAAAA\n",
       "IkGeFUUVLCP/AEeKgz4f3ehMgBNMpijz618zrcmRSWOEoIEAAAATAZ40dEf/ABWv3mAB98+9wnxF\n",
       "5AAAAA8BnjZqR/8ALEKoV3GjgssAAAA6QZo5SahBbJlMFEwv//6MsABXQ2dKYCABYKLgWZRCdah6\n",
       "qmp6ip+lRHR89Q9ouoYfWSqodczCRgYMWQAAABABnlhqR/8AcXvilZiCh8TcAAAAWEGaW0nhClJl\n",
       "MFLDP/6eEABYzsEPW+WAWk3DtTooDhfyv75MqrshOqbAc944iXKiMlTDZAc/eLgafX9iYDnYA5PY\n",
       "XYI1eJvpGPc7ZpLHQfnS/JM9vtrYpoEAAAATAZ56akf/AHFCd8T7DRRTUaMN6AAAAENBmn9J4Q6J\n",
       "lMCF//6MsABZg7WZRgHy+zKxqD1a+E8tAvo/kZoYY9qdu4pNRYSAjZYiNevH5WT64jP6g/okaGbt\n",
       "+DehAAAAFEGenUUVPCP/AEdnz6BlZX1wLKCBAAAAEQGevHRH/wAtTlG9NeO82PyAAAAACwGevmpH\n",
       "/wAAAwO6AAAATUGao0moQWiZTAhf//6MsAAsmebwBQhAR7XMMuqazYGvqlt5oaHlQGVMpFL5pjmP\n",
       "aXQ0nmdq6b2L+qejM1FgFzJYhs9zFdu62NvJmhxxAAAAHEGewUURLCP/AEeKgbLHaACU/jF7RA1L\n",
       "jXPRVQsAAAAUAZ7gdEf/ABbAeVABwZrQVB/xFnEAAAANAZ7iakf/ABa0wGHjKgAAAE9BmuZJqEFs\n",
       "mUwIX//+jLAAVx04fwAoANAkhUALlnF6UDxIjnXD3XmwpfAtJXHDJltmCbLzppuGC8aXgdITG9E8\n",
       "Nc0oTM5sD07RXEw6bURNAAAAHEGfBEUVLCP/AEeKg0cqqeFwAlafDokvlgSanTEAAAAUAZ8lakf/\n",
       "ABYnuawAmQnuLqxxFxEAAAA/QZsoSahBbJlMFEwz//6eEABWWEH5AGZaWv+nfILV3CesCFawJag9\n",
       "dw32Nt/pUt9ok/Ax/XZZny4fd/ktIEHBAAAAGAGfR2pH/wBxe+KbLjEuUACZg+JJp9SZSQAAAE9B\n",
       "m0xJ4QpSZTAhn/6eEAArGqqcAKCYbVlM7bYA1RwCvXG0ALigKHZmGTbyrVQv4xAU48/I+epKPpo4\n",
       "H7UeNOqSqxykM2h2HXt/XLligsNmAAAAI0GfakU0TCP/AEdnzb2ADWgAXPt/SEuHzCVNQHItPntn\n",
       "E8m5AAAAFwGfiXRH/wAWMP3sAE4JPY2/f7QRZCmhAAAAFAGfi2pH/wAWP95gAfztDI8LyLiAAAAA\n",
       "YEGbkEmoQWiZTAhn//6eEAArEEEey8AVqYDmoAtor0TP8d7Dw9PtMBhg6i3DpHPbXCn1hhy6G4Wi\n",
       "EjOg7vX7mYPt+xxrKW1MDe6R5Z1Y79wHTcroGXbYe68Ovv+KLPw3oQAAABhBn65FESwj/wBHioGn\n",
       "Aseba3XnrJ0EnDkAAAAXAZ/NdEf/ABX5zSOgAnUH4QsEFMEas4EAAAAWAZ/Pakf/ABWv3mAB+4qr\n",
       "P3kSaYwOWAAAAFBBm9RJqEFsmUwIZ//+nhAAU/K+OAGugqTmwFWgNO5OhMil8h/ut2jqlKi1D8T9\n",
       "1XH8jj/e2x0m+B+pSrCmS6FVa2k918VwS6gM3INcH10KCAAAABtBn/JFFSwj/wBHioM1XkgAh+VJ\n",
       "zLwZrclNLLEAAAAQAZ4RdEf/ACs+jFWFqDdViwAAABABnhNqR/8AKyoASav2bqsWAAAASUGaGEmo\n",
       "QWyZTAhn//6eEABWJbI4A29asYx3b6CyIso2+sQbBMOPUMWgNt7cSHYzWXElPYsIm0WbLG0vgtf8\n",
       "N/i33BbaKN1ofMEAAAAYQZ42RRUsI/8AR4qDRjP4AJq7ks86f0PuAAAAFQGeVXRH/wAscxwAH4dT\n",
       "bu4Mfb4TMQAAAAsBnldqR/8AAAMDuwAAAFZBmlxJqEFsmUwIX//+jLAAVxGbUAFAZSLNb5Tvgy+p\n",
       "fHhVzulVbEpIVCboN+rSEeCjxPznf1ghkoxfIhJ6Z8CgMaK/vj5NRSVySerUtHHRWjqRimqMWAAA\n",
       "ABhBnnpFFSwj/wBHioNGBY681n4RHlXXBGEAAAAOAZ6ZdEf/ACxC5FVvukEAAAAOAZ6bakf/ACs5\n",
       "rCTjxUsAAACOQZqASahBbJlMCF///oywAFSynQAUGwhcY51IoTo6wnJZEZSOqv3v0P2XfkNq65nn\n",
       "WjflA5s5QobrH/eF7nmMijUCK/Aa/b4DIHPPgHzyAYYkaoPuz9eoL+0LFMQxdM+EfWNn6ZpccO89\n",
       "WbxLrcvXXuWtXTAlCmMTHVrlzAaN6aAlA7RthxoN4hZRJnijBwAAACBBnr5FFSwj/wBHioMyJuAB\n",
       "NkLAJCA2NO0D7FIKrq5LTgAAABsBnt10R/8AKqEiiACdXJzH6EB4k1gFV8TVYsAAAAAaAZ7fakf/\n",
       "ACspqO8AEYLCNzJLcSpSVWhaoSUAAABsQZrDSahBbJlMCF///oywAFbw+wBmRG5LDm2oteaDnU/A\n",
       "jZRiArUerr0Qhtz4vE3M4JPiKcqit7nS4XVzqQbcgg+AM/II658dJsEaNtGt2Tea3wbZtzhCPZaY\n",
       "I3gBiX6PMVkoQcSce5g9PEbAAAAAFEGe4UUVLCP/AEeKgxPusfBK7DVhAAAAEAGfAmpH/wApfbvs\n",
       "3Yo4LuAAAABJQZsFSahBbJlMFEwv//6MsABQt7BhbHhz0ALBROey7MJHdUB4SM7UxALo5BKCyccx\n",
       "ozaq/HQCxGc/yS6MMJ/DlcLWOEdmizCPgQAAAB0BnyRqR/8AcXviDtfIo+iIAWc0KAlzuFp17xmH\n",
       "pQAAADdBmylJ4QpSZTAhf/6MsABQGuZVEx/X9AFWj3bhUZQi5Nh6ThOH2dE/zUHOGODIF5QGVXwZ\n",
       "BhKxAAAAIUGfR0U0TCP/AEdnz0wTx8UzVWYAGzCY+nY644jhJHz0gQAAABMBn2Z0R/8AKFnEfT90\n",
       "xdLp/ku4AAAAFAGfaGpH/wAo69zAC1OPuKfXEMaAAAAAQ0Gba0moQWiZTBTwv/6MsABQGiUFf3QA\n",
       "OgaUBKNEwZIlO50MeiBLYE1hHmLDvYO7JYff4wTgMh56XLrPzC8grXugekEAAAAQAZ+Kakf/AHF7\n",
       "4iLuN5mo/wAAAElBm49J4QpSZTAhf/6MsABQGY3GZlcAbeUX7GSDK5j6dFKIxEa550EIyT4S/40B\n",
       "oPs8dFcfv9VSdqaSUs9LWrprvz50Af4MUHzAAAAAIEGfrUU0TCP/AEdnz0wo6UseEgAtALJeeTsb\n",
       "FfTsLqP9AAAAFgGfzHRH/wApFuKACcRxTj+1pNzyXcEAAAAXAZ/Oakf/ACjs5KACdYNOJbjWcUAI\n",
       "asEAAAA6QZvRSahBaJlMFPDP/p4QAE+LPSwBGrqrgihooc4Li7xYwU/vngQWmfJmT/5o3gw2tS2t\n",
       "AzR88LB0wAAAABcBn/BqR/8AcXviKuugATg3DDAizmL5ZQAAADtBm/VJ4QpSZTAhn/6eEABPcnRg\n",
       "Crc3v0nTyW4GNFbdyGAt4qQQ4tYhT50PKu3kZyltiD3f+tU5Q29CpwAAABhBnhNFNEwj/wBHZ89W\n",
       "Ejmyjnsvbq8+wqgAAAAPAZ4ydEf/ACji3tAbqCGqAAAADwGeNGpH/wAn5BEVgYPywQAAAChBmjlJ\n",
       "qEFomUwIX//+jLAAUDKdAA6R6IGpiuAF00efci+ZFmDqxhKwAAAAF0GeV0URLCP/AEeKgwoGfO0e\n",
       "oMsN+2DFAAAAEAGednRH/wAo4pNU4uZpbEsAAAAOAZ54akf/ACfZrCVPCcsAAABZQZp9SahBbJlM\n",
       "CF///oywAFJx60ADRDlGToZAoJREXnGkHj3U7qmGabNqzzk1hF+V19X0brSwBYbdvMb0025tC7xF\n",
       "Bl4De58rPItgEH7YKm+Iz1IJoOQ5xy0AAAAfQZ6bRRUsI/8AR4qDHjP4AJqoBSK1VHMucied7IMw\n",
       "4AAAAB8Bnrp0R/8AKegwY4AD7w5FnouEh1iGtU1/Lyq+JqcPAAAAEwGevGpH/wAVEe2orWHmVN1q\n",
       "K4EAAABRQZq/SahBbJlMFEwv//6MsABScdtgE0ouPBN4ZCncByA/RetafoqgnM7r8rr3Gq+5WCEm\n",
       "WD54YJbbK48OsP14p5rah7EaKRzRrav+OY6pJIuAAAAAEgGe3mpH/wBxe+IjNrCBHDUhYAAAAChB\n",
       "msNJ4QpSZTAhf/6MsAAt/uaXr0HGHvpuOAC3rDq1MLVm3CBzMgW1AAAAHUGe4UU0TCP/AEdnzznL\n",
       "gtJp5Sq6/40ou1zN5IIwAAAAEQGfAHRH/wAnwu7utbMVAPb5AAAAEgGfAmpH/wAn2bVQTfQP26qT\n",
       "6gAAAG5BmwdJqEFomUwIX//+jLAAUnLCEAg5qEjYyJNzwmy/f8TnP0r1UK5u+J59ssXQbsX+NPwS\n",
       "G7y4pb+PDv7Xm+3s3K9m/cmxohRuwewPSPArnNszE0rJVCeRk+28CxuML4DdGfODbx4zDsDk4spr\n",
       "ewAAACNBnyVFESwj/wBHioL4JWYjiW6ACSGY/OwJJjXoFBG9Ef4tqQAAAB4Bn0R0R/8AJ8Lu7mD6\n",
       "vAAbmtL5Fy5garh6o8mqeYEAAAASAZ9Gakf/ACfZtWjXimMSbqcPAAAAMUGbSkmoQWyZTAhf//6M\n",
       "sABUsdtgBuazoXSxNHJerOkBVEh78J2A0hujHVueHIN0AxoAAAAZQZ9oRRUsI/8AR4qDMy8hbNt9\n",
       "j5HdNdVrYAAAABABn4lqR/8AKznkMzaoTt99AAAAQkGbjEmoQWyZTBRML//+jLAAVvGZACB4paWH\n",
       "+0UtUAiQppfsELMhVn1Uny0b05Npdw7LaQt04gV6OYBWCOqDmTNB0wAAAB0Bn6tqR/8AcXvingqE\n",
       "IACDZLLNT8BxoDNZMlWuWAAAAEpBm69J4QpSZTAhf/6MsABXUvEywCAHi/fUjq9sUrK0YTEGQ8SW\n",
       "7kqsPJh3c/GhNRanhsVtaImIKUgq7C64RvuZiGHPW0OLrDFB0wAAACBBn81FNEwj/wBHZ8+T329e\n",
       "dwAfovymzapScwzKmwrTUQAAABsBn+5qR/8AKqFpewARBv8vCoLenj+gFWUKucsAAAAxQZvxSahB\n",
       "aJlMFPDP/p4QAFPgfRSFUdgBtaTDuTMNK6i3Jmf0WuAJOu27ac1MjEWDegAAABIBnhBqR/8AcXv3\n",
       "0CgTZ9Hz8ZUAAABNQZoVSeEKUmUwIX/+jLAAV0aa1gCd0bh9dOQoc7Nic4TIuYqHYhGWOFlcfjOT\n",
       "PqAGFv0bLqelkXDPd9CUlkmaWXRt1qdWZ/Bsasg+BG0AAAAhQZ4zRTRMI/8AR2fcHUySlJwtAB+p\n",
       "uSw0eMSrGx+baSpgAAAAGAGeUnRH/wBWfQb8a8ABDc1Xf6bCpGyMWAAAAA8BnlRqR/8AVognHClU\n",
       "pA0AAAA/QZpZSahBaJlMCF///oywAFbztWAJ2GxmtX74St2wEzBgtWh4cU6bpjCydPoziOwBdsN6\n",
       "5HkcsNqFz5SEM0HTAAAAH0Ged0URLCP/AEeKg0YF6wuAFjscyN+319WFz1qUXcEAAAANAZ6WdEf/\n",
       "AFViDuILyQAAAAwBnphqR/8AKzmsIXkAAABdQZqdSahBbJlMCF///oywAFS1pIABYSHZbJ9k9olO\n",
       "RCma734eBv6ZiKSFCHgS2Rg2OSOVGAQ9PY+QnjWjQrvkYUDLWceGTEO8irGToafBY7PydAX7Rxn2\n",
       "CZ9eZoO7AAAAF0Geu0UVLCP/AEeKgzHxI46SBvJyqsIuAAAAEgGe2nRH/wBUPSu9V5nOoI6jewAA\n",
       "ABgBntxqR/8AVEgeJh14ACdsJROIfpEXUP8AAAAsQZreSahBbJlMCGf//p4QAFG1WiQArfkwgcu/\n",
       "qFQ/VJ3PZbji/H8anLVLAxYAAAAqQZriSeEKUmUwIZ/+nhAAUaB8NimjsAQnUZZ9VX5AZgKewcx2\n",
       "pIomAsHHAAAAFUGfAEU0TCP/AEdnz2AOQ/iZB1gccQAAAA4Bnz90R/8AKgMvblNFBAAAAA4BnyFq\n",
       "R/8AKgp891NFBQAAADtBmyZJqEFomUwIX//+jLAAVLPX9AEOpC7F/Ue9H/a3sgFA59m+Jx+jh3DZ\n",
       "uc8OwZPvk/uCeQV57DNB3QAAABhBn0RFESwj/wBHioxF5VDI5yI8S1dcEYEAAAASAZ9jdEf/AFVi\n",
       "C2K6OLWW3zSxAAAADgGfZWpH/wAn2awlTwnLAAAAL0GbakmoQWyZTAhf//6MsABUs83gAh1iNsuZ\n",
       "LsamWb0eUHBfDqka7NtieQ/+6B0xAAAAHUGfiEUVLCP/AEeKgzWO0AEYVg9PRqHBDEsCwwzAAAAA\n",
       "EAGfp3RH/wArIuRVhzs3VYsAAAAOAZ+pakf/AAAMb8x6XwsAAABAQZusSahBbJlMFEwz//6eEACn\n",
       "43HBXUuFoHNyrTeDH/UJEhrQQGSsmdei03/Aeb9Z2sJOll8SXBMWYE8CDmAG9AAAACABn8tqR/8A\n",
       "cXv4Cw4DD8IemOrgkfMnU6aF3Ew2z07yygAAAFlBm9BJ4QpSZTAhn/6eEACoKHzBgqAKSfSMNtrR\n",
       "wZyKA+Q1fwp0i3uH9K8sd6fZLpVNIPO99Y2CSo5urdzW1KEdgcDIU1hRkXl90y3WgOcqWHGbaixb\n",
       "QqheQQAAABpBn+5FNEwj/wBHZ9v8RJcP9fRyaYlDF47WwQAAABoBng10R/8AVkW3Q0vAATgUIzf5\n",
       "1W1VW1+CwQAAABABng9qR/8ALFne8znITt98AAAAM0GaFEmoQWiZTAhn//6eEABWM49wAh2LLdaL\n",
       "n3grTnW0X5B3s2teW7gwRTv0MVIo00WDZgAAAB9BnjJFESwj/wBHioNJjtABI/AekCvDoGbCGjYF\n",
       "hhmBAAAADgGeUXRH/wAADG/Mel8KAAAAEAGeU2pH/wAsWawktQY3VYsAAAAyQZpYSahBbJlMCF//\n",
       "/oywAFdI+l4AK6X4pCIWVvtVd65V/LIMUkYFCz2vuZ6+udEzQdMAAAATQZ52RRUsI/8AR4qDMy7e\n",
       "UJ6BdwAAAA4BnpV0R/8ALF7J/mnjpwAAAA4BnpdqR/8ALEpmAXOFFQAAAE5BmpxJqEFsmUwIX//+\n",
       "jLAAVMv4YALWoHrmDd8T0M9qbiw9jom3hWvH4qkfIoC4beGBCK5GmVjguqrZ/L4z8zbBBGFSDs30\n",
       "sPXygp8gqYAAAAAdQZ66RRUsI/8AR4qDLKaPg2AE0eP2C4KLjExI5YEAAAALAZ7ZdEf/AAADA7oA\n",
       "AAAZAZ7bakf/ACqVQtsEUABN/i1aABN1hTwnYQAAADBBmsBJqEFsmUwIX//+jLAAVLKdAAWBxqjM\n",
       "S3YqOUhJSZP4+8upDE31umlzFZbdA6cAAAATQZ7+RRUsI/8AR4qDMhZTQeECHgAAAA8Bnx10R/8A\n",
       "Kwg/+KF4IeAAAAAMAZ8fakf/ACfZrCGXAAAAOEGbBEmoQWyZTAhX//44QAFGvJNACWSiyrCBwFzu\n",
       "6KPwj8Zij0lVWS1n1GomfxKLIQcCrEJ80CRgAAAAHkGfIkUVLCP/AEeKgzJPtAA2o2Z9OImL2VHI\n",
       "dADqgQAAAA4Bn0F0R/8AVD0slVdBeQAAAA4Bn0NqR/8AVBQi/G6C8wAAABJBm0dJqEFsmUwI//yE\n",
       "AAADAbMAAAASQZ9lRRUsI/8AR4qC7teg+HpBAAAADAGfhmpH/wAn2awhlwAADC5tb292AAAAbG12\n",
       "aGQAAAAAAAAAAAAAAAAAAAPoAAAPoAABAAABAAAAAAAAAAAAAAAAAQAAAAAAAAAAAAAAAAAAAAEA\n",
       "AAAAAAAAAAAAAAAAAEAAAAAAAAAAAAAAAAAAAAAAAAAAAAAAAAAAAAAAAAACAAALWHRyYWsAAABc\n",
       "dGtoZAAAAAMAAAAAAAAAAAAAAAEAAAAAAAAPoAAAAAAAAAAAAAAAAAAAAAAAAQAAAAAAAAAAAAAA\n",
       "AAAAAAEAAAAAAAAAAAAAAAAAAEAAAAABsAAAASAAAAAAACRlZHRzAAAAHGVsc3QAAAAAAAAAAQAA\n",
       "D6AAAAIAAAEAAAAACtBtZGlhAAAAIG1kaGQAAAAAAAAAAAAAAAAAADIAAADIAFXEAAAAAAAtaGRs\n",
       "cgAAAAAAAAAAdmlkZQAAAAAAAAAAAAAAAFZpZGVvSGFuZGxlcgAAAAp7bWluZgAAABR2bWhkAAAA\n",
       "AQAAAAAAAAAAAAAAJGRpbmYAAAAcZHJlZgAAAAAAAAABAAAADHVybCAAAAABAAAKO3N0YmwAAACz\n",
       "c3RzZAAAAAAAAAABAAAAo2F2YzEAAAAAAAAAAQAAAAAAAAAAAAAAAAAAAAABsAEgAEgAAABIAAAA\n",
       "AAAAAAEAAAAAAAAAAAAAAAAAAAAAAAAAAAAAAAAAAAAAAAAAAAAY//8AAAAxYXZjQwFkAB7/4QAY\n",
       "Z2QAHqzZQbCWhAAAAwAEAAADAZA8WLZYAQAGaOvjyyLAAAAAHHV1aWRraEDyXyRPxbo5pRvPAyPz\n",
       "AAAAAAAAABhzdHRzAAAAAAAAAAEAAADIAAABAAAAABRzdHNzAAAAAAAAAAEAAAABAAAF8GN0dHMA\n",
       "AAAAAAAAvAAAAAIAAAIAAAAAAQAABAAAAAACAAABAAAAAAEAAAQAAAAAAgAAAQAAAAABAAAFAAAA\n",
       "AAEAAAIAAAAAAQAAAAAAAAABAAABAAAAAAEAAAQAAAAAAgAAAQAAAAABAAAFAAAAAAEAAAIAAAAA\n",
       "AQAAAAAAAAABAAABAAAAAAEAAAUAAAAAAQAAAgAAAAABAAAAAAAAAAEAAAEAAAAAAQAAAgAAAAAB\n",
       "AAAEAAAAAAIAAAEAAAAAAQAABQAAAAABAAACAAAAAAEAAAAAAAAAAQAAAQAAAAABAAAEAAAAAAIA\n",
       "AAEAAAAAAQAAAgAAAAABAAADAAAAAAEAAAEAAAAAAQAABQAAAAABAAACAAAAAAEAAAAAAAAAAQAA\n",
       "AQAAAAABAAAFAAAAAAEAAAIAAAAAAQAAAAAAAAABAAABAAAAAAEAAAUAAAAAAQAAAgAAAAABAAAA\n",
       "AAAAAAEAAAEAAAAAAQAABAAAAAACAAABAAAAAAEAAAUAAAAAAQAAAgAAAAABAAAAAAAAAAEAAAEA\n",
       "AAAAAQAAAwAAAAABAAABAAAAAAEAAAMAAAAAAQAAAQAAAAABAAAFAAAAAAEAAAIAAAAAAQAAAAAA\n",
       "AAABAAABAAAAAAEAAAUAAAAAAQAAAgAAAAABAAAAAAAAAAEAAAEAAAAAAQAABAAAAAACAAABAAAA\n",
       "AAEAAAMAAAAAAQAAAQAAAAABAAAFAAAAAAEAAAIAAAAAAQAAAAAAAAABAAABAAAAAAEAAAUAAAAA\n",
       "AQAAAgAAAAABAAAAAAAAAAEAAAEAAAAAAQAABQAAAAABAAACAAAAAAEAAAAAAAAAAQAAAQAAAAAB\n",
       "AAAFAAAAAAEAAAIAAAAAAQAAAAAAAAABAAABAAAAAAEAAAUAAAAAAQAAAgAAAAABAAAAAAAAAAEA\n",
       "AAEAAAAAAQAABQAAAAABAAACAAAAAAEAAAAAAAAAAQAAAQAAAAABAAAEAAAAAAIAAAEAAAAAAQAA\n",
       "AwAAAAABAAABAAAAAAEAAAUAAAAAAQAAAgAAAAABAAAAAAAAAAEAAAEAAAAAAQAAAwAAAAABAAAB\n",
       "AAAAAAEAAAUAAAAAAQAAAgAAAAABAAAAAAAAAAEAAAEAAAAAAQAAAwAAAAABAAABAAAAAAEAAAUA\n",
       "AAAAAQAAAgAAAAABAAAAAAAAAAEAAAEAAAAAAQAABQAAAAABAAACAAAAAAEAAAAAAAAAAQAAAQAA\n",
       "AAABAAAFAAAAAAEAAAIAAAAAAQAAAAAAAAABAAABAAAAAAEAAAMAAAAAAQAAAQAAAAABAAAFAAAA\n",
       "AAEAAAIAAAAAAQAAAAAAAAABAAABAAAAAAEAAAUAAAAAAQAAAgAAAAABAAAAAAAAAAEAAAEAAAAA\n",
       "AQAABAAAAAACAAABAAAAAAEAAAMAAAAAAQAAAQAAAAABAAAEAAAAAAIAAAEAAAAAAQAAAwAAAAAB\n",
       "AAABAAAAAAEAAAUAAAAAAQAAAgAAAAABAAAAAAAAAAEAAAEAAAAAAQAABQAAAAABAAACAAAAAAEA\n",
       "AAAAAAAAAQAAAQAAAAABAAAFAAAAAAEAAAIAAAAAAQAAAAAAAAABAAABAAAAAAEAAAIAAAAAAQAA\n",
       "BQAAAAABAAACAAAAAAEAAAAAAAAAAQAAAQAAAAABAAAFAAAAAAEAAAIAAAAAAQAAAAAAAAABAAAB\n",
       "AAAAAAEAAAUAAAAAAQAAAgAAAAABAAAAAAAAAAEAAAEAAAAAAQAAAwAAAAABAAABAAAAAAEAAAUA\n",
       "AAAAAQAAAgAAAAABAAAAAAAAAAEAAAEAAAAAAQAABQAAAAABAAACAAAAAAEAAAAAAAAAAQAAAQAA\n",
       "AAABAAAFAAAAAAEAAAIAAAAAAQAAAAAAAAABAAABAAAAAAEAAAUAAAAAAQAAAgAAAAABAAAAAAAA\n",
       "AAEAAAEAAAAAAQAABQAAAAABAAACAAAAAAEAAAAAAAAAAQAAAQAAAAABAAAFAAAAAAEAAAIAAAAA\n",
       "AQAAAAAAAAABAAABAAAAAAEAAAQAAAAAAgAAAQAAAAAcc3RzYwAAAAAAAAABAAAAAQAAAMgAAAAB\n",
       "AAADNHN0c3oAAAAAAAAAAAAAAMgAADULAAACqAAAANcAAAA6AAAALgAAAM4AAAAtAAAAHwAAANgA\n",
       "AAAtAAAAJwAAACYAAACxAAAAJAAAABoAAACiAAAAIAAAACgAAAAjAAAAkwAAAC4AAAAoAAAAHQAA\n",
       "AEEAAABrAAAAIgAAABUAAABXAAAAJQAAABcAAAAeAAAAWAAAAB8AAAAgAAAAWwAAAFAAAAAdAAAA\n",
       "agAAACcAAAAUAAAAHAAAAE4AAAAZAAAAEAAAABsAAAAsAAAAFQAAABAAAAAQAAAASgAAAB0AAAAZ\n",
       "AAAAbAAAACYAAAAXAAAAEwAAAD4AAAAUAAAAXAAAABcAAABHAAAAGAAAABUAAAAPAAAAUQAAACAA\n",
       "AAAYAAAAEQAAAFMAAAAgAAAAGAAAAEMAAAAcAAAAUwAAACcAAAAbAAAAGAAAAGQAAAAcAAAAGwAA\n",
       "ABoAAABUAAAAHwAAABQAAAAUAAAATQAAABwAAAAZAAAADwAAAFoAAAAcAAAAEgAAABIAAACSAAAA\n",
       "JAAAAB8AAAAeAAAAcAAAABgAAAAUAAAATQAAACEAAAA7AAAAJQAAABcAAAAYAAAARwAAABQAAABN\n",
       "AAAAJAAAABoAAAAbAAAAPgAAABsAAAA/AAAAHAAAABMAAAATAAAALAAAABsAAAAUAAAAEgAAAF0A\n",
       "AAAjAAAAIwAAABcAAABVAAAAFgAAACwAAAAhAAAAFQAAABYAAAByAAAAJwAAACIAAAAWAAAANQAA\n",
       "AB0AAAAUAAAARgAAACEAAABOAAAAJAAAAB8AAAA1AAAAFgAAAFEAAAAlAAAAHAAAABMAAABDAAAA\n",
       "IwAAABEAAAAQAAAAYQAAABsAAAAWAAAAHAAAADAAAAAuAAAAGQAAABIAAAASAAAAPwAAABwAAAAW\n",
       "AAAAEgAAADMAAAAhAAAAFAAAABIAAABEAAAAJAAAAF0AAAAeAAAAHgAAABQAAAA3AAAAIwAAABIA\n",
       "AAAUAAAANgAAABcAAAASAAAAEgAAAFIAAAAhAAAADwAAAB0AAAA0AAAAFwAAABMAAAAQAAAAPAAA\n",
       "ACIAAAASAAAAEgAAABYAAAAWAAAAEAAAABRzdGNvAAAAAAAAAAEAAAAsAAAAYnVkdGEAAABabWV0\n",
       "YQAAAAAAAAAhaGRscgAAAAAAAAAAbWRpcmFwcGwAAAAAAAAAAAAAAAAtaWxzdAAAACWpdG9vAAAA\n",
       "HWRhdGEAAAABAAAAAExhdmY1Ny44My4xMDA=\n",
       "\">\n",
       "  Your browser does not support the video tag.\n",
       "</video>"
      ]
     },
     "metadata": {},
     "output_type": "display_data"
    }
   ],
   "source": [
    "try:\n",
    "    display_html(HTML(anim.to_html5_video()))\n",
    "except (RuntimeError, KeyError):\n",
    "    # In case the build-in renderers are unaviable, fall back to\n",
    "    # a custom one, that doesn't require external libraries\n",
    "    anim.save(None, writer=matplotlib_utils.SimpleMovieWriter(0.001))"
   ]
  },
  {
   "cell_type": "code",
   "execution_count": null,
   "metadata": {
    "collapsed": true
   },
   "outputs": [],
   "source": []
  }
 ],
 "metadata": {
  "kernelspec": {
   "display_name": "Python 3",
   "language": "python",
   "name": "python3"
  },
  "language_info": {
   "codemirror_mode": {
    "name": "ipython",
    "version": 3
   },
   "file_extension": ".py",
   "mimetype": "text/x-python",
   "name": "python",
   "nbconvert_exporter": "python",
   "pygments_lexer": "ipython3",
   "version": "3.6.4"
  }
 },
 "nbformat": 4,
 "nbformat_minor": 1
}
