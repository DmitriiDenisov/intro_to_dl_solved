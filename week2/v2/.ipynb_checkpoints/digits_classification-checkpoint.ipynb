{
 "cells": [
  {
   "cell_type": "markdown",
   "metadata": {
    "slideshow": {
     "slide_type": "slide"
    }
   },
   "source": [
    "# MNIST digits classification with TensorFlow"
   ]
  },
  {
   "cell_type": "markdown",
   "metadata": {},
   "source": [
    "<img src=\"images/mnist_sample.png\" style=\"width:30%\">"
   ]
  },
  {
   "cell_type": "code",
   "execution_count": 2,
   "metadata": {
    "collapsed": false
   },
   "outputs": [
    {
     "name": "stdout",
     "output_type": "stream",
     "text": [
      "We're using TF 1.2.1\n"
     ]
    }
   ],
   "source": [
    "import numpy as np\n",
    "from sklearn.metrics import accuracy_score\n",
    "from matplotlib import pyplot as plt\n",
    "%matplotlib inline\n",
    "import tensorflow as tf\n",
    "print(\"We're using TF\", tf.__version__)\n",
    "\n",
    "import sys\n",
    "sys.path.append(\"../..\")\n",
    "import grading\n",
    "\n",
    "import matplotlib_utils\n",
    "from importlib import reload\n",
    "reload(matplotlib_utils)\n",
    "\n",
    "import grading_utils\n",
    "reload(grading_utils)\n",
    "\n",
    "#import keras_utils\n",
    "import keras_utils\n",
    "from keras_utils import reset_tf_session"
   ]
  },
  {
   "cell_type": "markdown",
   "metadata": {},
   "source": [
    "# Fill in your Coursera token and email\n",
    "To successfully submit your answers to our grader, please fill in your Coursera submission token and email"
   ]
  },
  {
   "cell_type": "code",
   "execution_count": 3,
   "metadata": {
    "collapsed": true
   },
   "outputs": [],
   "source": [
    "grader = grading.Grader(assignment_key=\"XtD7ho3TEeiHQBLWejjYAA\", \n",
    "                        all_parts=[\"9XaAS\", \"vmogZ\", \"RMv95\", \"i8bgs\", \"rE763\"])"
   ]
  },
  {
   "cell_type": "code",
   "execution_count": 23,
   "metadata": {
    "collapsed": true
   },
   "outputs": [],
   "source": [
    "# token expires every 30 min\n",
    "COURSERA_TOKEN = 'ZVEqQ8CuLWQ4eJC4'\n",
    "COURSERA_EMAIL = 'dmitryhse@gmail.com'"
   ]
  },
  {
   "cell_type": "markdown",
   "metadata": {},
   "source": [
    "# Look at the data\n",
    "\n",
    "In this task we have 50000 28x28 images of digits from 0 to 9.\n",
    "We will train a classifier on this data."
   ]
  },
  {
   "cell_type": "code",
   "execution_count": 5,
   "metadata": {
    "collapsed": true
   },
   "outputs": [],
   "source": [
    "import preprocessed_mnist\n",
    "X_train, y_train, X_val, y_val, X_test, y_test = preprocessed_mnist.load_dataset()"
   ]
  },
  {
   "cell_type": "code",
   "execution_count": 6,
   "metadata": {
    "collapsed": false
   },
   "outputs": [
    {
     "name": "stdout",
     "output_type": "stream",
     "text": [
      "X_train [shape (50000, 28, 28)] sample patch:\n",
      " [[ 0.          0.29803922  0.96470588  0.98823529  0.43921569]\n",
      " [ 0.          0.33333333  0.98823529  0.90196078  0.09803922]\n",
      " [ 0.          0.33333333  0.98823529  0.8745098   0.        ]\n",
      " [ 0.          0.33333333  0.98823529  0.56862745  0.        ]\n",
      " [ 0.          0.3372549   0.99215686  0.88235294  0.        ]]\n",
      "A closeup of a sample patch:\n"
     ]
    },
    {
     "data": {
      "image/png": "[encoded data removed]",
      "text/plain": [
       "<matplotlib.figure.Figure at 0x114a71390>"
      ]
     },
     "metadata": {},
     "output_type": "display_data"
    },
    {
     "name": "stdout",
     "output_type": "stream",
     "text": [
      "And the whole sample:\n"
     ]
    },
    {
     "data": {
      "image/png": "[encoded data removed]",
      "text/plain": [
       "<matplotlib.figure.Figure at 0x104b43320>"
      ]
     },
     "metadata": {},
     "output_type": "display_data"
    },
    {
     "name": "stdout",
     "output_type": "stream",
     "text": [
      "y_train [shape (50000,)] 10 samples:\n",
      " [5 0 4 1 9 2 1 3 1 4]\n"
     ]
    }
   ],
   "source": [
    "# X contains rgb values divided by 255\n",
    "print(\"X_train [shape %s] sample patch:\\n\" % (str(X_train.shape)), X_train[1, 15:20, 5:10])\n",
    "print(\"A closeup of a sample patch:\")\n",
    "plt.imshow(X_train[1, 15:20, 5:10], cmap=\"Greys\")\n",
    "plt.show()\n",
    "print(\"And the whole sample:\")\n",
    "plt.imshow(X_train[1], cmap=\"Greys\")\n",
    "plt.show()\n",
    "print(\"y_train [shape %s] 10 samples:\\n\" % (str(y_train.shape)), y_train[:10])"
   ]
  },
  {
   "cell_type": "markdown",
   "metadata": {},
   "source": [
    "# Linear model\n",
    "\n",
    "Your task is to train a linear classifier $\\vec{x} \\rightarrow y$ with SGD using TensorFlow.\n",
    "\n",
    "You will need to calculate a logit (a linear transformation) $z_k$ for each class: \n",
    "$$z_k = \\vec{x} \\cdot \\vec{w_k} + b_k \\quad k = 0..9$$\n",
    "\n",
    "And transform logits $z_k$ to valid probabilities $p_k$ with softmax: \n",
    "$$p_k = \\frac{e^{z_k}}{\\sum_{i=0}^{9}{e^{z_i}}} \\quad k = 0..9$$\n",
    "\n",
    "We will use a cross-entropy loss to train our multi-class classifier:\n",
    "$$\\text{cross-entropy}(y, p) = -\\sum_{k=0}^{9}{\\log(p_k)[y = k]}$$ \n",
    "\n",
    "where \n",
    "$$\n",
    "[x]=\\begin{cases}\n",
    "       1, \\quad \\text{if $x$ is true} \\\\\n",
    "       0, \\quad \\text{otherwise}\n",
    "    \\end{cases}\n",
    "$$\n",
    "\n",
    "Cross-entropy minimization pushes $p_k$ close to 1 when $y = k$, which is what we want.\n",
    "\n",
    "Here's the plan:\n",
    "* Flatten the images (28x28 -> 784) with `X_train.reshape((X_train.shape[0], -1))` to simplify our linear model implementation\n",
    "* Use a matrix placeholder for flattened `X_train`\n",
    "* Convert `y_train` to one-hot encoded vectors that are needed for cross-entropy\n",
    "* Use a shared variable `W` for all weights (a column $\\vec{w_k}$ per class) and `b` for all biases.\n",
    "* Aim for ~0.93 validation accuracy"
   ]
  },
  {
   "cell_type": "code",
   "execution_count": 7,
   "metadata": {
    "collapsed": false
   },
   "outputs": [
    {
     "name": "stdout",
     "output_type": "stream",
     "text": [
      "(50000, 784)\n",
      "(10000, 784)\n"
     ]
    }
   ],
   "source": [
    "X_train_flat = X_train.reshape((X_train.shape[0], -1))\n",
    "print(X_train_flat.shape)\n",
    "\n",
    "X_val_flat = X_val.reshape((X_val.shape[0], -1))\n",
    "print(X_val_flat.shape)"
   ]
  },
  {
   "cell_type": "code",
   "execution_count": 8,
   "metadata": {
    "collapsed": false
   },
   "outputs": [
    {
     "name": "stdout",
     "output_type": "stream",
     "text": [
      "(50000, 10)\n",
      "[[ 0.  0.  0.  0.  0.  1.  0.  0.  0.  0.]\n",
      " [ 1.  0.  0.  0.  0.  0.  0.  0.  0.  0.]\n",
      " [ 0.  0.  0.  0.  1.  0.  0.  0.  0.  0.]] [5 0 4]\n"
     ]
    }
   ],
   "source": [
    "import keras\n",
    "\n",
    "y_train_oh = keras.utils.to_categorical(y_train, 10)\n",
    "y_val_oh = keras.utils.to_categorical(y_val, 10)\n",
    "\n",
    "print(y_train_oh.shape)\n",
    "print(y_train_oh[:3], y_train[:3])"
   ]
  },
  {
   "cell_type": "code",
   "execution_count": 9,
   "metadata": {
    "collapsed": true
   },
   "outputs": [],
   "source": [
    "# run this again if you remake your graph\n",
    "s = reset_tf_session()"
   ]
  },
  {
   "cell_type": "code",
   "execution_count": 10,
   "metadata": {
    "collapsed": true
   },
   "outputs": [],
   "source": [
    "# Model parameters: W and b\n",
    "W = tf.get_variable(shape=(784, 10), name='W') ### YOUR CODE HERE ### tf.get_variable(...) with shape[0] = 784\n",
    "b = tf.get_variable(shape=(1, 10), name='b') ### YOUR CODE HERE ### tf.get_variable(...)"
   ]
  },
  {
   "cell_type": "code",
   "execution_count": 11,
   "metadata": {
    "collapsed": true
   },
   "outputs": [],
   "source": [
    "# Placeholders for the input data\n",
    "input_X = tf.placeholder(tf.float32, shape=(None, 784))  ### YOUR CODE HERE ### tf.placeholder(...) for flat X with shape[0] = None for any batch size\n",
    "input_y = tf.placeholder(tf.int16, shape=(None, 10))  ### YOUR CODE HERE ### tf.placeholder(...) for one-hot encoded true labels"
   ]
  },
  {
   "cell_type": "code",
   "execution_count": 12,
   "metadata": {
    "collapsed": false
   },
   "outputs": [],
   "source": [
    "# Compute predictions\n",
    "logits = input_X @ W + b ### YOUR CODE HERE ### logits for input_X, resulting shape should be [input_X.shape[0], 10]\n",
    "probas =  tf.nn.softmax(logits) ### YOUR CODE HERE ### apply tf.nn.softmax to logits\n",
    "classes = tf.argmax(probas, axis=1) ### YOUR CODE HERE ### apply tf.argmax to find a class index with highest probability\n",
    "\n",
    "# Loss should be a scalar number: average loss over all the objects with tf.reduce_mean().\n",
    "# Use tf.nn.softmax_cross_entropy_with_logits on top of one-hot encoded input_y and logits.\n",
    "# It is identical to calculating cross-entropy on top of probas, but is more numerically friendly (read the docs).\n",
    "\n",
    "# softmax_cross_entropy_with_logits - считает кросс энтропию. Но так как loss - это скаляр (число), то нам нужно \n",
    "# взять какую-то аггрегационную функцию. Например, среднее. Поэтому тут берется tf.reduce_mean \n",
    "loss = tf.reduce_mean(tf.nn.softmax_cross_entropy_with_logits(labels=input_y, logits=logits)) ### YOUR CODE HERE ### cross-entropy loss\n",
    "\n",
    "# Use a default tf.train.AdamOptimizer to get an SGD step\n",
    "step = tf.train.AdamOptimizer().minimize(loss, var_list=[W, b]) ### YOUR CODE HERE ### optimizer step that minimizes the loss"
   ]
  },
  {
   "cell_type": "code",
   "execution_count": 13,
   "metadata": {
    "collapsed": false
   },
   "outputs": [
    {
     "name": "stdout",
     "output_type": "stream",
     "text": [
      "(1, 10)\n",
      "(?, 10)\n",
      "(?, 10)\n"
     ]
    }
   ],
   "source": [
    "print(b.shape)\n",
    "temp = input_X @ W\n",
    "print(temp.shape)\n",
    "print(logits.shape)"
   ]
  },
  {
   "cell_type": "code",
   "execution_count": 14,
   "metadata": {
    "collapsed": true
   },
   "outputs": [],
   "source": [
    "# Если присмотреться к выражению xW + b, то может стать неочевидным что означает в данной ситуации +b\n",
    "# XW: X.shape = (N, 784), W.shape = (784, 10) => XW.shape = (N, 10). При этом мы объявили выше, что b.shape = (1, 10)\n",
    "# Каким образом происходит операция сложения элементов (N, 10) и (1, 10) ?\n",
    "# Ответ: вектор b добавляется поэлементо к каждой строчке матрицы. Это можно увидеть в примере ниже:"
   ]
  },
  {
   "cell_type": "code",
   "execution_count": 15,
   "metadata": {
    "collapsed": false
   },
   "outputs": [
    {
     "data": {
      "text/plain": [
       "array([[  6.,  12.,  18.],\n",
       "       [  9.,  15.,  21.]], dtype=float32)"
      ]
     },
     "execution_count": 15,
     "metadata": {},
     "output_type": "execute_result"
    }
   ],
   "source": [
    "import tensorflow as tf\n",
    "tf.InteractiveSession()\n",
    "one = tf.constant([[1., 2, 3], [4, 5, 6]])\n",
    "two = tf.constant([[5, 10, 15.]])\n",
    "(one + two).eval()"
   ]
  },
  {
   "cell_type": "code",
   "execution_count": 16,
   "metadata": {
    "collapsed": false
   },
   "outputs": [
    {
     "data": {
      "text/plain": [
       "array([[14,  5, 16, 12,  9],\n",
       "       [ 0, 16,  3,  3, 10]])"
      ]
     },
     "execution_count": 16,
     "metadata": {},
     "output_type": "execute_result"
    }
   ],
   "source": [
    "# Кстати ровно так же работает и numpy:\n",
    "one = np.random.randint(16, size = (2, 5))\n",
    "two = np.arange(5)\n",
    "one + two"
   ]
  },
  {
   "cell_type": "code",
   "execution_count": 17,
   "metadata": {
    "collapsed": false
   },
   "outputs": [],
   "source": [
    "# таким образом добавление некоторого вектора к матрице не меняет её размерности, а сумма происходит поэлементно к каждой строчке "
   ]
  },
  {
   "cell_type": "code",
   "execution_count": 18,
   "metadata": {
    "collapsed": false
   },
   "outputs": [
    {
     "data": {
      "text/plain": [
       "<tensorflow.python.framework.ops.Graph at 0x104b053c8>"
      ]
     },
     "execution_count": 18,
     "metadata": {},
     "output_type": "execute_result"
    }
   ],
   "source": [
    "loss.graph"
   ]
  },
  {
   "cell_type": "code",
   "execution_count": 19,
   "metadata": {
    "collapsed": false
   },
   "outputs": [],
   "source": [
    "#summary_writer = tf.summary.FileWriter(\"logs_for_mnist/1\", loss.graph)\n",
    "summary_writer = tf.summary.FileWriter(\"logs_for_mnist\", graph=loss.graph)\n",
    "#summary_writer.flush()"
   ]
  },
  {
   "cell_type": "markdown",
   "metadata": {
    "collapsed": true
   },
   "source": [
    "Граф для loss\n",
    "<img src=\"pic5.png\" style=\"width:70%\">\n"
   ]
  },
  {
   "cell_type": "code",
   "execution_count": 20,
   "metadata": {
    "collapsed": false,
    "scrolled": false
   },
   "outputs": [
    {
     "data": {
      "text/html": [
       "<img src=\"data:image/jpeg;base64,/9j/4AAQSkZJRgABAQEASABIAAD/2wBDAAIBAQEBAQIBAQECAgICAgQDAgICAgUEBAMEBgUGBgYFBgYGBwkIBgcJBwYGCAsICQoKCgoKBggLDAsKDAkKCgr/2wBDAQICAgICAgUDAwUKBwYHCgoKCgoKCgoKCgoKCgoKCgoKCgoKCgoKCgoKCgoKCgoKCgoKCgoKCgoKCgoKCgoKCgr/wAARCAEgA2ADASIAAhEBAxEB/8QAHwAAAQUBAQEBAQEAAAAAAAAAAAECAwQFBgcICQoL/8QAtRAAAgEDAwIEAwUFBAQAAAF9AQIDAAQRBRIhMUEGE1FhByJxFDKBkaEII0KxwRVS0fAkM2JyggkKFhcYGRolJicoKSo0NTY3ODk6Q0RFRkdISUpTVFVWV1hZWmNkZWZnaGlqc3R1dnd4eXqDhIWGh4iJipKTlJWWl5iZmqKjpKWmp6ipqrKztLW2t7i5usLDxMXGx8jJytLT1NXW19jZ2uHi4%2BTl5ufo6erx8vP09fb3%2BPn6/8QAHwEAAwEBAQEBAQEBAQAAAAAAAAECAwQFBgcICQoL/8QAtREAAgECBAQDBAcFBAQAAQJ3AAECAxEEBSExBhJBUQdhcRMiMoEIFEKRobHBCSMzUvAVYnLRChYkNOEl8RcYGRomJygpKjU2Nzg5OkNERUZHSElKU1RVVldYWVpjZGVmZ2hpanN0dXZ3eHl6goOEhYaHiImKkpOUlZaXmJmaoqOkpaanqKmqsrO0tba3uLm6wsPExcbHyMnK0tPU1dbX2Nna4uPk5ebn6Onq8vP09fb3%2BPn6/9oADAMBAAIRAxEAPwD9/KKKKACiiigAooooAKKKKACiiigAooooAKKKKACiiigAooooAKKKKACiiigAooooAKKKKACiiigAooooAKKKKACiiigAooooAKKKKACiiigAooooAKKKKACiiigAooooAKKKKACiiigAooooAKKKKACiiigAooooAKKKKACiiigAooooAKKKKACiiigAooooAKKKKACiiigAooooAKKKKACiiigAooooAKKKKACiiigAooooAKKKKACiiigAooooAKKKKACiiigAooooAKKKKACiiigAooooAKKKKACiiigAooooAKKKKACiiigAooooAKKKKACiiigAooooAKKKKACiiigAooooAKKKKACvPfjt%2B1J8FP2b5NGsfil4g1Maj4ilnTQNB8OeF9R1zVNR8lVed4bHTbee5kjiVkMkixlI96biu5c%2BhV4N%2B0P8D/j5/wANJ%2BDv2tv2bLLwfrWueH/B2seFNX8KeOdcutLtLywv7mwuxcQXtraXj288U2noCpt3WVJSCUKK1ABpf/BTL9izWLvxPb2nxXv0h8FWsk/jLUrvwXrEFjoIS0iu9l5dy2iwWsrQzRskMjrJIWKorMrKL2n/APBQ/wDZK1HwBrXxFTx/q9vB4f1ay0vVdE1DwNrNrrkV5ebfscC6PNaLqEr3AYGER27eaAxTcFYjy2b9gH4y%2BMf2a/jn8NfGHinwppHin4o/FS38daHc6U1xeWFpeW0OiywQ3IkihkkiN3pRRwoyYHGDuJVaPi79i/8AaV%2BLmr/Ef45fG34S/CjWvFnjWx8KaPp/gKy%2BI2s2Wm6fY6Hcaldw3qa7b6al5DqDXOqTOksVoPJSKNFZiWcgHsviH9vv9mzwv4a8OeI9XvvG3meK0v5NE8P2vwm8SXGuSRWUscV3NJpMWntf28MLzQq8s0CIpmiy37xM%2Bmaz8RPBHhv4e3XxX8T%2BJbbSvDljo76rf6vqrfZYbSySIzPPMZdvlKsYLNvxtAOcYNfGHin9hH9s/WPgX4X8Nay3hfxV470a58RHRfGV/wDHbxNpGr%2BCLW%2BuUktLO11q1sJLzXIYkjhEy3qw/aTbReYCFGPUfjR/wTotfj1%2Bzb4n%2BHHxD%2BOfjW78d%2BMPhfH4Z17xS3jbWho818tpDE2oJoS3y2FuzzQLK3kRRSEPIBIrSM5AOkg/4KUfsZf8K58V/FbWPite6Jo3giysr7xQ/ifwdq%2Bk3NlZXkxhtb37LeWsVxJaSyK6pcxxtC3luQ%2BEYjj/AI3f8FZP2d/hn8ENU%2BMfgPRfFXiqbQfiD4X8L674Y/4QXXbHU7A6zqVrax3T2cmnNdeV5Fw88DeT5d48aW8MhknjB8r1T/gmJ8ZPHfwq8faR4i8DeG9G8Y%2BI9D0fR7DxDqv7RfjPxut3aWusW%2BoTRyf27AfsEZ8likUSzHe%2BGkxknv8A9qH9gz40/GD4g/F/4g%2BBfEPheOTxfB8LbzwlZ6tfXMSvf%2BE/EdzrUsN40dvJ5ENwGt4VljEzrl2MfyKrgHqFh/wUE/Zb1H4m2XwZh8T%2BJo/Fd5oun6xLoF38N9egudO0%2B9adILu/SSyU6dDut5VeS68pYiFEhQum6j4a/wCCmH7FPi3wZ4s%2BIWkfGC4TR/Bfgi68Zaxe6h4S1W0Fx4et0Z5tWsVntUbVLNVQ4nsxPGxZArEugbB0P9kP4ofEP4mfG74g/G9fD2gxfGj4O%2BHfCF1Y%2BE9duNRl0u4tE11Ltlnns7XzYwNViMT7FZikm6OPA3fN37Y37Kn7UOj/ALDHxS%2BJv7TF34AtIfhD%2BxT8QfBHhePwFqF5cNrzXukWxn1G6W5toBYqE0i3CWcbXAVppCZ22oKAPrPw9/wUl/Yy8TaHrHiPT/i1dQWehppU1/JqnhLVbJmtNSu1s7HUIUuLVGubCWdgovoQ9qoDO0qorMPT9E%2BLvw88R/FLX/gvofiH7T4k8LaXp%2Boa/YR2k22zgvmuBa7pinlF3%2ByzHy1cyKoRmVVkjLfJOofsz%2BIPFegeKfjb/wAFIvF/wz8J%2BBbf9nu5%2BHUlx4f8QTLay6beyQyXmq3k17BbpYOTBbCG2QzCAmT/AEiQsuOw/wCCPngP4u2f7I9r8f8A9pDUDf8AxJ%2BL15H4n8V6g9nJbtJCLSCy01fKl%2BeH/iX2lpI0TYKSzTZAYtkA%2BqqKKKACiiigAooooAKKKKACiiigAooooAKKKKACiiigAooooAKKKKACiiigAooooAKKKKACiiigAooooAKKKKACiiigAooooAK8R0j/AIKMfse6ld69Z6n8Urzw83hzw5c%2BINQk8a%2BEdV0GObSbd0jnv7WTUrWBb63R5IlaW2MqAyxjOXXPtN7FczWcsNndCCZ4mWKYx7/LYjhtp64POO9fmJq//BHL9uX4v6t4X1z43fHHQ31vw14P1Cz1DxRqHxW8TeJx4h1v7ZpV9a6idLvoobLSbaS50xfPsLIBRHJtWWQKgUA%2B2X/b/wD2YbX4aN8WNY8QeKtK0ttcg0axs9c%2BGWv2GqanfzIZIYLLTbixS9v2kQM6/Z4ZAyo7AkIxHReA/wBqz4H/ABH1%2By8J%2BHPEOqQ6vf8AhSfxJDpGteFdS0y7TTYbv7JLLLDeW8UkDrP8hhkVZe%2BzbzXk3xO%2BDn7bvxib4e/G3XPBvwq0P4h/Cjx1NrHh/wAM2vjjUr/Rdcs7jSbvTLmO4vn0qGaxmKXskkbpa3AjMQU%2BYJGxV%2BJPwG/bg1/4y%2BHf2mvA%2BjfCu08WX3ww1XwX4x0LUvFepSWGkLcX8N1a39lcJpwk1AxCN1kt5YrQSlxiWLHIB3Gk/wDBRv8AZA8R694F8LeFfiNqus6n8SfBuleLfBunaJ4H1m9nvND1F9lrqMiQWjNa2%2B7HmSTiNbcMpm8oMCdj4a/tufs3fFf4jXPwn8M%2BL9Ws9ft9LudThsvE/gzVtEW/sbeRI57uyl1G1gjv4I3liDy2zSIvmISQGUnyj9hT9hL4sfsw6/8ADjWfHniDw1dnwd%2Byl4R%2BGN%2B%2BkXM8rNq2lvM1zNF5kEe61bemxmKu235o0wK8a%2BGn/BKv9sbxP8UfC/ib9qb4w2eqRaf4A8V%2BF/GniaD4v%2BJNavPEUur2KW39p2umX0Men6EcqWNpaKUXKgTOI1WgD6l8J/8ABRf9kfxrosfirQfHeuf2Hcarpen6f4lvfh/rdrpWoy6lex2VlJaX09mlteQS3M0UYuIJHhBlQs4VgT6X4W%2BLvw88a/EDxT8LvC/iH7XrnguSzj8T2iWkwWxkuoPtEEZlZBG7tCVkKIzMiyRlgokTd8w%2BOPAnxF8K/wDBPbxp8CP%2BChnif4VeCPAWg/DSLQLb4meHfFt2GadI0trXUntLqzgTTZlmFvJDBHcXTGcoiOTtDdr/AMEr/h98WPDf7ImlfFX9oqwS3%2BJ3xYvpfHXxEhW3aL7Pf36xmG02N8yfZbGOys9pyQLXBoA%2BjaKKKACiiigAooooAKKKKACiiigAooooAKKKKACiiigAooooAKKKKACiiigAooooAKKKKACiiigAooooAKKKKACiiigAooooAKKKKACvF/j14/8A2i/%2BGi/AvwI%2BAvjPwV4fTX/BXiXXtX1Pxf4Lu9aJOnXeh28MMMdvqVj5Yb%2B1JWZmZ8%2BWgAXkn2ivCviLrSWX/BSr4Q6LIoxe/BP4hsjZ53R6t4NOPyZj%2BFJtLcuEJVHaPZv7tWX/APhB/wDgoX/0dB8Gf/DD6t/81FH/AAg//BQv/o6D4M/%2BGH1b/wCaivZqKZB4z/wg/wDwUL/6Og%2BDP/hh9W/%2Baij/AIQf/goX/wBHQfBn/wAMPq3/AM1FezUUAeM/8IP/AMFC/wDo6D4M/wDhh9W/%2Baij/hB/%2BChf/R0HwZ/8MPq3/wA1FezUUAeM/wDCD/8ABQv/AKOg%2BDP/AIYfVv8A5qKP%2BEH/AOChf/R0HwZ/8MPq3/zUV7NRQB4z/wAIP/wUL/6Og%2BDP/hh9W/8Amoo/4Qf/AIKF/wDR0HwZ/wDDD6t/81FezUUAeM/8IP8A8FC/%2BjoPgz/4YfVv/moo/wCEH/4KF/8AR0HwZ/8ADD6t/wDNRXs1FAHjP/CD/wDBQv8A6Og%2BDP8A4YfVv/moo/4Qf/goX/0dB8Gf/DD6t/8ANRXs1FAHjP8Awg//AAUL/wCjoPgz/wCGH1b/AOaij/hB/wDgoX/0dB8Gf/DD6t/81Fa/jP4r/s0fCi2h1L9oP4meBvDdxq%2Bp6gunzeM9as7NrxYLgowiNy67xGrRAhc7dy5xuGcD/hr/AP4Jwf8AR0XwR/8AC20f/wCO1zzxeEpS5Z1Ip9nKKf3OSf4HsYXh3iHHUFXw2CrVIPaUKNacXZ2dpRpSi7PR2k7PR66Fj/hB/wDgoX/0dB8Gf/DD6t/81FH/AAg//BQv/o6D4M/%2BGH1b/wCaiq//AA1//wAE4P8Ao6L4I/8AhbaP/wDHa9D8DS/A/wCKHha18c/DSTwp4i0S%2B3/YtY0Jra7tbjY7Rvsli3I%2B10ZDgnDKQeQadLE4atLlp1IyflKL/JszxuR55llJVcZhKtKLdk50qsE3va86cFeyel76PTQ4T/hB/wDgoX/0dB8Gf/DD6t/81FH/AAg//BQv/o6D4M/%2BGH1b/wCaiuKH7fP7HujeJfiR4f8AiJ4F1nw7H8OPiDaeELrUbr4Y6pNbanf3UWnm3S1lhsmSaSWbUIoUhjLyOAsqqYpY3bvdI%2BPf7MWr/EPQ/hbL4U1XS9Y8SW8Umhp4i%2BFmraXbXkj2RvhardXllFB9rFsskj2hkE8fkzK8atFIq7nllf8A4Qf/AIKF/wDR0HwZ/wDDD6t/81FH/CD/APBQv/o6D4M/%2BGH1b/5qK47wr%2B31%2Bw1qumeE11/U9Mh1LxR4S8O%2BICNH8F6re6dZWetyPDp0818dOiS1gmniljSW7W2OVG9IywWvYtc1v4FaB4M8RePriDw9caZ4Uhu5PEE9jbwTmyNrGZJ43CA7ZEUZKHDDI45oA47/AIQf/goX/wBHQfBn/wAMPq3/AM1FH/CD/wDBQv8A6Og%2BDP8A4YfVv/morA/ZW%2BPTfHPxRdeBfiz%2BzHofgfWpPBWj%2BL9Es7TV49VW50jUWuUjWZ/skHkXkL2zLPAoljXzYjHPKC22LxB8dPEPw6%2BO0Xwm%2BKv7Lvg%2By07XtJ8Q6j4L1TQ/FIvru7g0oROz31o%2BnwiySWOaMq8c1yEd0jfazrkA6T/hB/8AgoX/ANHQfBn/AMMPq3/zUUf8IP8A8FC/%2BjoPgz/4YfVv/morg/2S/wBpPxP%2B2H%2BzHH8evhX8E/gVqOqX9rp8%2BmaDofxffUbW3M8Mc01tqF5Doe6yuoUkAMKwTZYYLIPmrmvAX7avj/4oeAvCUngL9iTwXqPjbxjN4uvdI8PJ48KabcaDoF/FYzanFqD6SHf7TNc2X2eJrZA6XaM8kYDEAHsP/CD/APBQv/o6D4M/%2BGH1b/5qKP8AhB/%2BChf/AEdB8Gf/AAw%2Brf8AzUVyXgr9qLQPiL8Ufg5Y%2BEP2efD8/wAPfjT4CfxH4b8Yz6qkd/Ewsor1YH04WhXYYZo/3v2kEMSPLIG6o/Ff7RviL4VfFTUvh38W/wBkLQdkvgXxL4q8IJ4I14azqWqWmjParJDcWb2Fv9mmnF5AIhHLcIXYxs6ts3gHY/8ACD/8FC/%2BjoPgz/4YfVv/AJqKP%2BEH/wCChf8A0dB8Gf8Aww%2Brf/NRXkv7Pv8AwUJ%2BEnxk%2BE3jj4paj8IvA97B4SGlRabP8MfFcPiXT9e1DUUxa6Pb3bWdqBqfnNBDJbFMRtd25MmHOyv40/4KFeDfBn7EvgT9qKX9lrSr3xV430tNQT4fWerxMljaxSIL%2B5e9NoCbe3V0USeQPMmntosIZwygHsX/AAg//BQv/o6D4M/%2BGH1b/wCaij/hB/8AgoX/ANHQfBn/AMMPq3/zUVxuvftVaJo/x8vPAkX7N2hzeA9I%2BI%2Bm%2BAda8bHVUW7g1%2B%2BsLe7gEen/AGQrLabr2ztmn%2B0q6zTMBCyRtJXkOgf8FXvAevfDn4n/ABCtP2ZvBM//AArz4e33imfStP8AHMU9zpT290bcaV4hT%2Bz1Og6g5DuIf9Kwtvc8nyhvAPpD/hB/%2BChf/R0HwZ/8MPq3/wA1FH/CD/8ABQv/AKOg%2BDP/AIYfVv8A5qK808aftt/Dr4ffs%2BeFvi54h8L/AANu9Q8b%2BK5NE8NXeifFmCfwp%2B7tri6lubrXZNNiFvGkNpcBtttIfN8qJdzSDFH4w/t2eH/g3aXOs6z8APh7e6T4R%2BF2l%2BP/AIma3ZeOo2tLPR726u7dH0Zzp/8AxOWX7DcSYf7GCrW4B3zqoAPWf%2BEH/wCChf8A0dB8Gf8Aww%2Brf/NRR/wg/wDwUL/6Og%2BDP/hh9W/%2BaiuZ8QftF6N4Q/bP8O/sma/8IfhxdHxY1y2kjQPGa3niCxtYbGe6/tHUdIbT4/sdg0lu1qLlbmUefPbJjMp2cFB/wUK8AeGLH4qW/wAUfgt8OZNT%2BGC6PbXjfDvx7DrumHV9T1GTTLfRry9nsLMadfLdrCJYpEYRRXCSs2MrQB7H/wAIP/wUL/6Og%2BDP/hh9W/8Amoqh4H8cftWeDv2rPDnwR%2BN3xH%2BHvibRvE3w98Q65DN4V%2BHl9ot1aXWm32iW6Kz3Gr3ySxumqSkqERg0SENjIOn8FvGel/GH4BXHxZbQfhslw8V2%2Bn6j8L/GS%2BIdNcRA7ZIdQFnaFnDqQyiIbWUjLVH44/5SF/C//sjPjz/07eEKAPZqKKKACiiigAooooAK%2BcfhN4q/bv8Ajro%2BveO/C/xv%2BEmgaXb/ABC8VaHpelX/AMH9Uv7iK10vXr/TIWluE8RQLLI8dmrsyxRrucgKABX0dXjP7B//ACRDXP8Ass3xH/8AU11ugA/4Qf8A4KF/9HQfBn/ww%2Brf/NRR/wAIP/wUL/6Og%2BDP/hh9W/8Amor2aigDxn/hB/8AgoX/ANHQfBn/AMMPq3/zUUf8IP8A8FC/%2BjoPgz/4YfVv/mor2aigDxn/AIQf/goX/wBHQfBn/wAMPq3/AM1FH/CD/wDBQv8A6Og%2BDP8A4YfVv/mor2aigDxn/hB/%2BChf/R0HwZ/8MPq3/wA1FH/CD/8ABQv/AKOg%2BDP/AIYfVv8A5qK9mooA8Z/4Qf8A4KF/9HQfBn/ww%2Brf/NRR/wAIP/wUL/6Og%2BDP/hh9W/8Amor2aigDxn/hB/8AgoX/ANHQfBn/AMMPq3/zUUf8IP8A8FC/%2BjoPgz/4YfVv/mor2aigDxn/AIQf/goX/wBHQfBn/wAMPq3/AM1FH/CD/wDBQv8A6Og%2BDP8A4YfVv/mor2aigDxn/hB/%2BChf/R0HwZ/8MPq3/wA1FH/CD/8ABQv/AKOg%2BDP/AIYfVv8A5qK9mooA8Z/4Qf8A4KF/9HQfBn/ww%2Brf/NRR/wAIP/wUL/6Og%2BDP/hh9W/8Amor2aigDxn/hB/8AgoX/ANHQfBn/AMMPq3/zUUf8IP8A8FC/%2BjoPgz/4YfVv/mor2aigDxn/AIQf/goX/wBHQfBn/wAMPq3/AM1FH/CD/wDBQv8A6Og%2BDP8A4YfVv/mor2aigDxn/hB/%2BChf/R0HwZ/8MPq3/wA1FH/CD/8ABQv/AKOg%2BDP/AIYfVv8A5qK9mooA8Z/4Qf8A4KF/9HQfBn/ww%2Brf/NRR/wAIP/wUL/6Og%2BDP/hh9W/8Amor2aigDxn/hB/8AgoX/ANHQfBn/AMMPq3/zUUf8IP8A8FC/%2BjoPgz/4YfVv/mor2aqeueIvD/hixbVPEuu2en2yfeub66SGMfVnIFJtJXYm1FXZ5L/wg/8AwUL/AOjoPgz/AOGH1b/5qKP%2BEH/4KF/9HQfBn/ww%2Brf/ADUVoa3%2B3d%2BxH4bu30/Xv2v/AIY2txH/AKy3m8d6eJF%2Bq%2BdkVh6j/wAFMv8Agn1pil7n9sf4esB/z7%2BJoJj%2BUbGuSWYZfD4q0F/2/H/5I4Z5rldP4sRTX/b8P/ky5/wg/wDwUL/6Og%2BDP/hh9W/%2Baij/AIQf/goX/wBHQfBn/wAMPq3/AM1FczN/wVw/4JuwSGJ/2uPC5I6lDOw/MRkVh%2BKv%2BC1v/BMrwlAZbr9p%2BzvX25SHStC1C6ZvbMduVH/AiKxlnOUQV3iKf/gcf8zF59ka/wCYqn/4HH9JP8mehf8ACD/8FC/%2BjoPgz/4YfVv/AJqKP%2BEH/wCChf8A0dB8Gf8Aww%2Brf/NRXzte/wDBxF%2Bwf9vOneGPCvxL1%2BTOEGj%2BFYSX9wJblG/MCn3v/BcCLXoRJ8IP%2BCd3x88RM4/difwl5Ct%2BMLT/AMq5f9Zcifw11L/DzS/9Jizu9u3blpVXfa1Gu7%2Bj9gk//AvmfQ3/AAg//BQv/o6D4M/%2BGH1b/wCaij/hB/8AgoX/ANHQfBn/AMMPq3/zUV826Z/wVk/b412YjR/%2BCK3xJ8sn92%2Boa9c2hI9SJdLGPzrpLH/goZ/wUp1BQ0H/AARm8Qrnp5/xWtIv/Q7IYpx4hy2fw87/AO4VX/5AmviK2G/i4avH1oVf8me3f8IP/wAFC/8Ao6D4M/8Ahh9W/wDmoq3%2Byt8RvjT4w1j4oeBPjpr/AIX1bVPAPxCi0Oz1Xwn4audJt7q1l0HR9TVnt7i9vGWRZNRlQsJdpWNDtU5z4bf/ALYX/BXfX7bd4L/4JM2GmN08zXPjDpkoH/AB5LV13/BM7xD8ePFU3x01/wDaZ8A6X4X8b3HxmiOtaFo16Lm2tceEvDiwhJFdw26AROcMcMxHGMDswuY0MXVcKcZrS95QlFffJLXyJw2Mhir8sJr/ABQlD/0qz/A%2Bn6KKK7zrCiiigAooooAKKKKACiiigAooooAKKKKACiiigAooooAKKKKAMf4gfET4f/Cbwdf/ABE%2BKfjrRvDPh/S4hJqeu%2BINTisrO0QsFDSzTMqRgsyjLEDJA71Xvfiz8K9N%2BGi/GjUfiX4ft/BzaVHqa%2BLJ9ZgTTDYyIrpdC6L%2BV5LIysJN20hgQcGqvxu8ReHvCXwn13xF4p0LVNTsrWyLSWWi%2BGrvWLqRywEflWdnDNPMwcqcRxsVxu4Ckj55/ZK%2BO%2BmfCf8A4JdfD678S/AP4paprPgD4LaKmq%2BBf%2BFS61Fq1zf2Flb272UFtdWkZln%2B0phAOCB5oPlqZAAfSnw5%2BJ/w0%2BMXhK38ffCP4h6F4p0K7Z1tNa8OatDfWkxRirhJoWZGKsCpweCCDXzz%2B0LrX9l/8FaP2ZrHfj%2B0vhj8TLbHriTwxNj/AMhfpXR/8E7rC6vfhd4p%2BKfiez1e08V%2BP/HVx4h8aafqXgrVdCgsNQezs7dLS0g1S1tp54IbW2tIjdeWFuJo55cIzvGnh/7Us3xV8Of8FtP2Srzxz408P3%2Bg6no3xJt/DthpXhqeyurCM6fpRZLq4kvZkvGZxFtZIbcLtbKvuG3lxk/Z0Obzj%2BMor9T3eG8N9bzT2XenXf8A4DQrS/8AbT7vooorqPCCiiigAooooAKKKKACiiigAooooAKKKKAPPvEPwD%2BBXxx0m2/4XV8FvCXjD%2By9V1P%2BzP8AhKfDlrqH2TzLt/M8rz428vd5ce7bjdsXOcCsf/hgf9hX/oyz4S/%2BG50z/wCMVlfHP9uf9ln9i7SdI/4aX%2BKP/CNf8JLqusf2L/xJL68%2B0/Z7v99/x6wS7NvnxfexndxnBx5z/wAPzf8Agll/0dF/5ZOuf/IVePisVkFOu44mdJT683JzbaXur7fgaR49r5Kvqcc2lQUPsLE1KajfX4I1oJXvfSKve%2Bt7nrf/AAwP%2Bwr/ANGWfCX/AMNzpn/xivQ/A3gHwJ8L/C1r4G%2BGngrSfDuiWO/7Fo%2BhabFaWtvvdpH2RRKqJud2c4AyzEnkmvmH/h%2Bb/wAEsv8Ao6L/AMsnXP8A5Cr6H%2BBnxz%2BFn7Snws0v41/BTxT/AG14Z1rz/wCzNT%2Bwz23neTPJBJ%2B7nRJFxLFIvzKM7cjIIJ0wWJyWtVccHKm5W%2BxyXt/26k7beQpcZ1uIl9WnmUsSl73K686qVtObllVmla9r2vra%2BuvkHib9hfxXr/xL8U%2BIIPjPpsHhnxL8YPDfxFOiSeEJJL221LS49JieAXn20RvBNHpMeB9nDxPMzb5FUJXN%2BIf%2BCY8viH9tvTv2vrv4peHZG0v4ip4rtRd/DtJ/ECqNFfSzpA1lrvMenDzGuEt47dNshO5nyTXqh/bO%2BGA8dD4ZDQNfPiA/FF/Ap0kWsHmi%2BXSDrJuj%2B%2BwLQ6fi4Emd2HVdm87K8gj/AOCsHw7%2BJ/hLWP8AhRWmWyeJvDHxI%2BHuh%2BItI1nWtJ1WOLT/ABH4qtNGadZdE1K6hWYRtfbY3lWSKWGNpYSjqJPUIJPBX/BLIeD/AIE6l8FR8dPtB1D4OeBPAf8Aan/CMbPL/wCEbmvZftvl/aTn7R9sx5W4eV5ed8m7A%2Bl9d8ES%2BO/BniLwD8Srqz1HTNfgu7F4LGye2K6fPGYzC5aWTfJtZgZF2A5GEXHPy78Yv%2BCpkXgT9nrxv42%2BG3wt8R%2BNPFfhjwz411qdNO8O28NlolrouqajpsN1qEUmpCSSB7iwkUC1kkuJ0gmlWCDmOP6l8A%2BNIfGWkJM9rdRXcNratfGTTLiCBpJbeOb9xJKoSdAJAC0bOFYMjEOrAAHj37Ov7Inxb%2BCusXPjbxj%2B0BpXizxJH4U0DwloupSeCHs4bbQtNuJpWE0K3zma/uFuJRJcq8UQdIGW2CxvHKz4a/sq/tDeDf2kfH/7QHi39oTwb4kbxetxaaKl58MrpL/w9pS7jYaXDc/2w0Jt4nPnTbbaN7qVndmT92sXPfsi/tjfGz4y%2BPvAh%2BJ%2Bm%2BFl8N/GX4aar45%2BH0Gg6bcwXmi2NneabGtpfyy3MqXkstvq9pL5sUduqPDMhRgUY9V8S/jN%2B0F8Lv2rPAHw9ufEHgjWvDPxE8RXdhY%2BErDw5eRa9pthbaZNcz6tJem9eGWGO4jghdPskSj7dAomMhRJACHwv%2Byb8bbC9%2BK3xN8R/tD6EnxH%2BI/gax8Nab4j8KeAJNN07QksU1E2V2LKXUbiW6nSbU5nZnulDJFDGojClmZ4w/Yh1fw94c%2BGVp%2Byj8V7L4fat8LPA154L8P3%2Bq%2BFzrNudCuobFJYTAt1bETrJplhNHN5hVXgIaORXIryjwD%2B3X%2B1Zrf7N3xY8ZatDoV38WfC/gLVdd8J/CP/AIUl4i0m%2B8yB7hLZgLu%2BaTXLeRkgTfYpGC8gUOC6gafjj9u/4p%2BGfgV4e8R%2BFPiX4b8S6/qfxW/4RTxJqlj8CfEcVz4aX%2By7i/EcnhM3z6vd3R8q3HlpIjLBei7MfkwuzAHaD9iD4neCvH/wLf4H/G3wvofgT4H%2BF4tA07wxrvgC61LUNQtPs0VlN/p8eq28cLG1giWM/ZpPLkDOwlUiMZ1l%2BwT8ZfEeu/Gi4%2BM/7S2h69a/GTQNU0KfVdG8AXOm69oOkzxTQWVjZ3rarPDHDaJNI4C2qmWeR53IdzXKeLP2vf2ytf8A2QPhf%2B0p8KPFPwt0/W/H9zoWi2/hDVvBF/qn2/Vr/UVtmljuINYtzZxRwM9zLbvHNLbrbTq7syEDqfAf7deofEX9tHW/grD8QPDegeGvD/jafwlDpOo%2BAdWuLzXtSh0tbyRY9aWePTrKcO7FLF45p5YLV5RtEy%2BWAWPD/wDwTb0Xxl4j1Tx7%2B1T8Rf8AhJdeul0BNKufhnHqngWHSxo8Gpw2ssf9n6m9wZ2TV71JH88RsnkIIlEK1xWof8EUPgXqf7J2mfs9XPxV8dr4i0nwkdAtvHNv8QPEcO%2B2a8N2yS2ceqhJo/MJxFI7KuF24CqB1nwx/aV/ac8UfFX4qfALWvFvhefVvBPhi01Ox8VL8Fde0yKGd7q7ilgTSbnUWudch2W26O8sZ1hkdvLUuwxWb4G/a0/aS%2BJP7KviT47L8T/hp4Lj8CeIdctvEPibxr8N9Xt7e9sbFVKSvpE2pQXujSEl1eK6lllAjV1iKzIAAdVN%2BwRqSfGZvEOm/GYp8Pbvx9pXjfVfBd7o0t3qNzrmnadbWVuw1WW7LfZibGyuZI3gkmeeFmM4WRkrH%2BBn/BP/AOLfwMl0TUdM/aO8P6nfeA/hnc%2BB/hvc33w4kHlWE15Y3Lz6zt1INq91/wAS63HmxtZjdJcybd07EY3/AA27%2B0PH8Z/h5p3xR0zS/hR4Q8S/DjwbrWsDxP8ACnW9XA13Vby8hvdCbWre6gsdKmh8qzhjN0jFpbxTtfIjPolx8Zv2h/B37ZGgfArxN4h8DeIdG8Y6drepWmkaD4cvLXVPDOn2nli2vb25kvZorqKWSRLc7YLY%2BbKNhcRvgA5dP%2BCefi8OPijN8ZvDcvxTi%2BML/EW18QyfDx/7Cg1F9AHh94V0oagJhEbAbi323zTcnzjIR%2B6rH8bf8EqtE8ffBDwj%2Bzj4o8U%2BBtU8MaTp17a%2BI9R1r4VRXWuSrfXUlxqCaRem8CaLFOs0kGxYJ2jhKqjhkVx03wh/a8%2BKXh/4H/Enxh%2B0lB4e1vxL4G%2BJF14U0qy8B6PPp8ev3bLaCxtIIbq6uGE8092kAZpAmSHIjUNjjB%2B2P%2B1gP2BY/wBp/wAQ6t4N0jxRoOv%2BK9M8VafoPwj1/wAUWd7Lper6hYQrbQ2N8lxZxMLHdJdT%2BZEm/cwjXigD17xv%2Bzj8aPib8dfC/wARvG/xx8P/APCN%2BBfEl1rnhHQ9H8CS22pJdS6bd2CJd6g%2BoSpcQKl7MxjitrdpCkQZ9quH4fxz/wAE%2BPHfx3Txhr37SPxx8O614g8QaFoWnaRL4Z%2BHj6bplk%2Bkat/bFlcXVncahdvfsL0RllaeNPKV41VDK7nhfGv/AAUg%2BPWi/Hzwh4Gt/CPhrT9L1g%2BA1vdMbQr7VYrka9cLFdOfEVrcLpultbBm8iC6jZ9QeJUtyTcR47j9kT9uvUP2m/jZq2k3HxA8N6doc2o%2BIbLwt4QbwDq0F/eLpWpNYyXSa3NOLC%2Bb92ZJbO2gaS3FxGskmY33AHoPwd%2BAOv8AwN%2BH3xK1nxt47sfEPiTx/r954l8SXuj6A2laelydNtbFUtbRri4aGPyLCBm3zSM8rSyFv3m0R%2BOP%2BUhfwv8A%2ByM%2BPP8A07eEK9S8c/8AIk6x/wBgq4/9FtXlvjj/AJSF/C//ALIz48/9O3hCgD2aiiigAoorzD9rb4yeMvgx8MLC%2B%2BGtnpkviXxJ4w0Xw1oEmtwSS2Vrcahfw2xup44pI3ljhjkkm8pZIzKYhGHj371APT6K%2BYb/APbH%2BM/hn9kP4ifEjXfD3h698c/DfxvN4W1u%2BsNNuk0YBb62i/tlrbzpJ0tYbK7jvp4BMzIIZoxMcCWsb4U/tl/FX46/Bn4h%2BLPAf7R/wask%2BEnjS50zxV8Urnwhe3fhrVtPTRrHVReWlumrxtAipfrE8hvJk3WsrLuV12gH1vXjP7B//JENc/7LN8R//U11ut74P/HxNc/ZR8J/tJftB2Vh8On1TwVp2t%2BKrTX78WtvoUs9vHJLFNLcbPLCO5X94FYYwwByK5P/AIJ0%2BJ/DXjX9m6%2B8YeDfENjq%2Bkap8W/iHd6ZqmmXaXFtdwSeM9aaOWKVCVkRlIYMpIIIINAHulFFFABRRRQAUUUUAFFFFABRWP46%2BIPgL4X%2BG5/GXxK8baR4e0i1x9p1TXNRitLeLPTdJKyqM%2B5rxDxb/wAFZP8AgnJ4Kilm1f8Aa68JTiJSzLpFzJfk4/ui2STcfYVzV8bg8L/Gqxj6yS/Nr8jjxOY5fgnbEVoQ/wAUor8G0/wPoeivj%2BP/AIKAftXftISLb/sH/sSatdaRIf3fxC%2BLczaJpTr2khtxm4uoz2ZCCO61a/4V5/wWo8ac%2BIv2ifgb4KD9vCfhK%2B1FkH/b8QCa4lm9GprQpzqLvGPu/KUnBP1Sa8zz1n1CrrhqNSqu8YPlfpKbgn6pNeZ9bUV8kSfsS/8ABQnxDG0vxI/4K3eIBCRmSLwz8MdL0vy17gSKzN%2BJrxP4w/DX/gn58KpJIv2qP%2BCxvxc8RXUZxdaJH8WGuAh7g2WnwvJHn0rGvm%2BIoQ5p0ORd51KcF%2BcvwPUyrC8YcQ4j6vlOUVq8%2B0eWT%2BapxqtfO3qforr/AIm8N%2BFbBtU8UeILHTbVRlrm/u0hjH1ZyBXjXxF/4KZ/sAfCzzF8X/tb%2BCPMiz5tvpWspqMqH0Mdp5jA%2B2M18J6D4W/4JE6xfLqvwb/4J1/Hb41XrEbNai0LWbu3k7gyPd3UaBT6mPvXs3w81z4zeFxGv7Lv/BBnQvDR48rWPEevaJpEkXo8iCIzSH/gWa4P7dxVb%2BFyf9uqtV/9Jpwj/wCTW8z63/iGPix/zF4XDYNf9RGJpQa9YzrU5L0cE/I9CP8AwWR/Z48VnZ8Afgr8YviiX4gl8EfDa6khf0Je48ravqccClX9tD/goz47PmfCf/gldqdnZnlb/wAefEew01x6A2wVpAfx4pB4c/4LS/E/jVPiJ8EPhbZSfc/sPSL3WtQhH%2B19oIgYj24pV/4Jv/tF%2BOT9o%2BO//BU/4z6jOeX/AOEBktfDERP%2B5bpIMe1Htc8xHw%2B0%2BUKVJffOVSX4B/xDujQ/5G3FWGp944alUxD%2B%2BFLl/wDKnze4v/Cxv%2BC02u/Npf7OPwM0IHout%2BL7%2B6K/X7OorlfHHxW/4Kr%2BHXOm/Ff9pb9kL4cRv9%2B7%2B36k13APUJeusbH68V1Z/wCCOnwC1f8AdfET4/fHDxfC3%2ButvEvxSupUmHowiWMn8CK6jwR/wSQ/4Jw%2BAIwmjfsm%2BGrsjkvrvn6mzH1Ju5JKPqOeVftSX%2BKv%2BlOivzQf6peGeH1xGfZhiPKlQhSX/gVapp8o/NHzD4p8e%2BETE%2Bq/H/8A4OGxczrybX4XxaXYxxf7IWyM7SY6ZIzXAyfE39lnxPKyfDL/AIKOft1/EqcEqF%2BHV1e7Wb0AltIweffFfpP4U/ZK/ZW8CTJceCP2aPh/o8kZzHLpng2xgZT6gpEDmu/iiigiWCCJURAAiIuAo9AO1H%2Br%2BKqfxJxX/g6b%2B%2BdaK/AP7M8GMLrHLsbiX3rY1U181QjKX3SR%2BTA%2BHn7Tniv978KvDX/BRO8ib/Vt4u%2BMFnoTH0ys0D7aUfshf8FXfEf/ACC9D/aW0mI/dOvftkafLu9ysFjkfTrX60UUf6qUJfHXn8rR/wDbpfmH1zw9o6YfhnDf9xMRmFV/P/bKSf8A4Cfkv/w7N/4K4%2BIenxe8RWG7/oY/2iNUusfX7Nbrn8Ktad/wRc/4KXeIj5Pj39rLw1bwt95rbx14nvnA%2BkjxqT%2BNfq9RTXB%2BVN%2B/Oo/WpL9CZZxw%2Bo2pcP5fH1w9So/vq4yf4pn5cWH/AAbmeOdal%2B2%2BP/2%2B9YZn%2B/a6d4dndR9JJ79ifxWui0v/AINp/wBnWR1m8Y/tJ%2BPtScDloYrOL648yKXFfpLRWseEOHY70L%2BspP8AORxTzWlKalDAYODW3LgcIrffRqP77s%2BCPDH/AAbl/sDeH5RLqHiX4j6tzlo77xHbRqf/AAHtYz%2BtejeGP%2BCIH/BMrwyVlb9nIalMv/LfVvE%2BpT7vqhuAn/jtfWNFdlLh3IaPwYWH/gKf53O2txbxFWil7flS/kp0Kf8A6aw1P8zw/Q/%2BCaX/AAT98PRrFYfsc/DyQJ0%2B3eGLe6P4mZWJ/Gus8N/sg/smeDZxdeEP2Xvh3pUo6Sab4JsIG/NIga9EoruhgMBT%2BCjBekY//InmzzfNqk%2BaWIqN/wCOf6SRX0zSNJ0W2Flo2mW9pCOkVtAsaj8FAFWKKK6kklZHnylKcnKTu33CiiimIK8Z/Zf/AOS3/tHf9lmsf/UK8L17NXjP7L//ACW/9o7/ALLNY/8AqFeF6APZqKKKACiiigAooooAKKKKACiiigAooooAKKKKACiiigAooooAKKKKACiiigAr4L/4KX6p/YX/AAVW/Yf1XdtzqvjC1z/13/sOLH/j1felfnX/AMFkLyXSP%2BCgf7E/iCPhLLx5qLXDekT6p4bjY/8Aj9eZnEuTLZy7cr/8npn3HhvRWJ40wtB/bVaP34XF/qkfopRRRXpnw4UUUUAFFFFABRRRQAUUUUAFFFFABRRRQBleD/8AkEzf9hW%2B/wDSuWtWsybwlo01xJcqbyFpXLyLa6lPCrMerbUcDJ7nHNJ/wh%2Bk/wDP3qv/AIPLv/47QBqUVl/8IfpP/P3qv/g8u/8A47R/wh%2Bk/wDP3qv/AIPLv/47QB5f4l/YZ%2BCvi39p3U/2qdduNbl1jV/AU3hW90RNQVNMaKU7ZL8RqgkW%2BMAFt54k4hUIFHJPEeB/%2BCWvwm8IxsNZ%2BN3xH8SSrb%2BBLSyl1u90xfsVn4S1v%2B2dJtYktLCGNY/tBKTEqZJIyfnWT95X0P8A8IfpP/P3qv8A4PLv/wCO0f8ACH6T/wA/eq/%2BDy7/APjtAHzt49/4JW/Bzxl4J1rwLo3xm%2BI/he28UaR4l0fxbc%2BHNT09J9a0zW9UvdTuLOZp7KUIkVxqF15EkIimRJWUyPuYt9DeE/Cs3hOGWxTxPqF9abII7G0vUt9ljHFAkWyMxRI7BihkYyM53u20qm1Ff/wh%2Bk/8/eq/%2BDy7/wDjtH/CH6T/AM/eq/8Ag8u//jtAHkHwm/YM8DfBfXbnX/BXxd8biW08Nah4f8BxXk%2BnTReBtNvbmO6nttMU2WGQy29oR9s%2B1FVs4IwdibTd0T9jldA/au139rSx/aO%2BID6j4hhtbW%2B8MXUOiT6ZHYW8RWOwgeTTDeW9t5jPcMkVypeaRnYnIA9S/wCEP0n/AJ%2B9V/8AB5d//HaP%2BEP0n/n71X/weXf/AMdoA8r0L9jq703xdqXxM1z9qP4k674un8Mz6BoHinVV0Nbjw5YzXENxMlnDb6ZFbO0ktvbFnuYbhmFvGCcAg4z/APBPTweYF8RR/H34iJ48Xx0fFp%2BJ6z6SdXbUDpX9j7TCdPOneR/Z/wDo/ki02DAkx5372vbf%2BEP0n/n71X/weXf/AMdo/wCEP0n/AJ%2B9V/8AB5d//HaAPNfBn7FXwn8EWnww0/T9Y1%2B6t/hRqWparocN/fRyC/1W%2BguYbjUrw%2BUDJcEX18wKGNA15KdmNgSpqX7Dnw61L42N8YD4/wDFkFlJ4uTxZN4Ht7mzXR5PECWAsU1M/wCjfavMESo3lC4FuZUEpiMhLH1X/hD9J/5%2B9V/8Hl3/APHaP%2BEP0n/n71X/AMHl3/8AHaAPJtC/Yx1DSdY1nx1qX7WXxP1bxnqWg2%2Bi6d441BdBF9olhHdC6aG1hh0qOyPmyAeY89vM7qqjcAq45jxf/wAE0fCPi/w1pujz/tM/E%2B11CD4hnxxr2uxPoc03iTW1ghgtp7%2B3udLls3W2jt7byIoreKON7aGTaZIkdfoD/hD9J/5%2B9V/8Hl3/APHaP%2BEP0n/n71X/AMHl3/8AHaAPM/ih%2ByNP8Z4dH0H4k/tJ/ELUfDdjBpg1vwoE0WCz8Rz2UyTrcXjxaatyjSyxxtLHbTW8LBNoiVGZWh%2BE/wCxyvwk/aE8Y/tDad%2B0d8QNXufHOqtea74e1yHRJbLYsZjtbOKZNMS9jtbVWPkwi52qzSO295ZWf1L/AIQ/Sf8An71X/wAHl3/8do/4Q/Sf%2BfvVf/B5d/8Ax2gDxX4Yf8E8Phb4X0Hxl4Q%2BOHjzWvjZofjjxKviDVtB%2BL3hzw5e2UWphVVrmKGz0q2XcwjiGH3qvlAoEJctD4I/4J0fDf4MfB1fgV%2BzJ8V/Fnwo8PS67ruq6rbeANN0G3OpSapdNcSRy%2BfpkoRYFYW8DwiKWOCONDI2xSPcP%2BEP0n/n71X/AMHl3/8AHaP%2BEP0n/n71X/weXf8A8doA8LH/AATS%2BB%2Bn6tYW3hHxr4x0LwlbN4Zk1L4eaZf2raRq0ugC2XS5J2mtpLxTEtnZqyw3ESTLaxiVXBcN0Pw5/Yg%2BHPw1%2BL1t8U9M8d%2BKr2z0jUtb1Hwr4Nv7iz/snw/eavO0%2BoT2witkuHaWSSfCzzzJEtxIsSxqQB6n/wAIfpP/AD96r/4PLv8A%2BO0f8IfpP/P3qv8A4PLv/wCO0AJ45/5EnWP%2BwXcf%2Bi2ry7xx/wApC/hf/wBkZ8ef%2BnbwhXqJ8GaG%2BFna%2BmTIJiuNWuZEb2ZWkKsPYgivLvHH/KQv4X/9kZ8ef%2BnbwhQB7NRRRQAVxvx4%2BCXhr9oH4dS/DvxNrGp6Xt1Kx1PS9a0SaOO90vULK6iu7S7gaWOSPfHPDG22RHjcAo6OjMp7KigDyn4c/ssD4U/D3VvA3gv49eOILrXJLy91LxNKuky6hNq11dPcT6qS9gYfPJcRiLyvsqRRRokCha4jx1/wTd8G%2BPPh3aeBb39on4k2t03xBj8aeKPEcD6LNd%2BK9Xiijit5NShudMls5YoVgtPKgjt44kNlbEL%2B6Wvo2igDP8KaNqPh3w1Y6Fq/izUNeurS1SK41rVo7dLm9dRgzSrbRQwh26kRxomTwoHFeU/sH/8AJENc/wCyzfEf/wBTXW69mrxn9g//AJIhrn/ZZviP/wCprrdAHs1FFFABRRRQAUV82/HX/gqH%2Bz38MPFzfB/4S2mrfFr4iMWSHwT8OLX7fLE4OCbmdMxWyqfvlmLIOSmK44fDH/gqp%2B1tib4ufFjRv2e/CVxy3hrwA66n4ikjP8Euot%2B6t39JIOeMFa8upm1D2jp4eLqzW6hqk/703aC9Lt%2BR41XPMM6jpYWMq81o1CzSfaU21CPpzN/3T6t8Z%2BPfA3w40STxL8QvGelaFp0QJlv9Z1GK2hQAZOXkYKPzr5S8Q/8ABQ34xftSa9dfDP8A4JifCVPE8cE5t9V%2BL/i%2BGW18M6YwOG8jIEl/Iv8AdQYHyth0Oafqn/BLv/gm18CdHufjV%2B0x9q8VNpse%2B%2B8X/GDxnPfYGejiR0gcsei%2BWSScAc4qjpH7fXxG%2BNOnw/DP/glZ%2Byadb0OxX7Ja/EHxXYvofhLT0X5R9njCpNdKvQxxKjLwQCK8/F4zGcyp4iapX%2BzTvUqy9PdtFd5Jf9vLc%2BjyLgnjzjKlOtShHDYWDtUrOajCPlLEVVClB2%2BzTjVqv7EOpv8AgH/glb4L8UeKbb4tft2fFXWfjp4vgbzIIvE6iHQdOY9VtdMjPkhexD7lbAOxTWx8Sv2jP%2BCVn7HErWviPXPhZ4b1G1bA0fw3olrNfow6D7NZRPKhzwMqB71y4/4Jv/Hn9oI/b/2%2BP22vFPiizl5l8BfD7/iQaGB3hlMX767TrhnKP717Z8DP2Iv2SP2akib4I/s%2B%2BGdBuYRhNTi05Zr7HvdTb5m/FzRh8Likv9mw0KV/tVHzzfm0ru/%2BKp8kfU4XhXwo4YX%2B04qpjau7WGpqEG/72KxSlUn/AIoULfy9Dxkf8FLPjV8XT5H7Hn/BPD4l%2BLopOIfEHjPyfDOlyD/npHLclmlUDnACk9KVtD/4LR/FsFdR8cfBf4R2EvCtpGm3Wu6pAD3bz8WzkdscetfXFFd39m4ir/vGJm/KNqa/8lTl/wCTHf8A665PgNMpyXDU7bSrKpi6nq3WnClf0oW8mj5Gi/4JJ%2BFvibIt/wDtm/tTfFD4vysQZ9I1TxE%2BmaMT1yllZlfLyfST0r234O/sZ/sofs/rG3wb/Z58JaBPEAFv7PRYjdnHTdcODK34sa9MorahlWXYafPCkub%2BZ%2B9L/wAClzS/FHl5rx7xlnWH%2BrYrHVPY/wDPqDVKkvSlRVGn98JebYUUUV6B8iFFFFABRRRQAUUUUAFFFFABRRRQAUUUUAFFFFABRRRQAUUUUAFFFFABXjP7L/8AyW/9o7/ss1j/AOoV4Xr2avGf2X/%2BS3/tHf8AZZrH/wBQrwvQB7NRRRQAUUUUAFFFFABRRRQAUUUUAFFFFABRRRQAUUUUAFFFFABRRRQAUVgfFL4m%2BEvg34C1H4l%2BOn1JdK0qNHuzpGhXep3JDOsaiO1s4pZ5mLMo2xxsec4wCayov2hvg1L%2Bz/b/ALUreOYIvAV14Vh8SQeIbm3liRtMlt1uI5zG6CUFomUiMoJMsF27uKAO0r85f%2BC5v/Ev%2BNXwJ8YdP%2BEetdV1Hd/d2%2BI/B6Z/8iV92fBn45/DT4/eGrrxV8MtVvpodP1OTTtUs9X0K80u%2B0%2B7REdoLmzvoobi2k8uSKQLLGpaOWNxlXVj8Mf8F8bOebw3Y6naLm40z4Q%2BI72A%2BjR%2BLfAhJ/75LV5We/8AImxD7Qk/us/0Pv8Awqa/4iXk8XtLEU4fKo5U3/6cP0VoqKxvIdQsodQtmzHPEskZ9VYZH86lr1dz4FpxdmFFFFAgooooAKKKKACiiigAooooAKKKKACiiigAooooAKKKKACiiigAooooAKKKKACiiigAooooAKKKKACiiigAooooAK8Z8cf8pC/hf/2Rnx5/6dvCFezV4z44/wCUhfwv/wCyM%2BPP/Tt4QoA9mooooAKKKKACiiigArxn9g//AJIhrn/ZZviP/wCprrdezV4z%2Bwf/AMkQ1z/ss3xH/wDU11ugD2aiiud%2BLnxP8K/BT4W%2BIfi944uzDpHhrRrjUtQcY3eVDGzlVB6scYUdyQO9TOcacHKTslq/RasipOFKDnN2STbfZJXb%2B5HJ/taftY/C/wDY7%2BE8/wAUPiTPNcSyzLaeH/D%2Bnrvvtbv34itLaMcu7HqcYUZJ4FfP1r%2BzJ%2B3L%2B3jbR63%2B2x8UZfhd4BvUEkfwe%2BHN6UvbqFhkRapqJG5jjh4YxsIP/LNhVv8AYm%2BAvj39p3xzpf8AwUo/bDt4ptd1SwE/wm8DBi9l4O0mYB45gGA8y9lQq7SkZAI6Hasf2DcXEFpA91dTpFFEheSSRgqooGSST0AHevFp0amcL22IvGi/hhdrmX81S1nr0hdJL4rt2Xz9HD1s/wD32J5o0H8FNNpzT2lUtZvm05ad0lFrnvJ8q4z4Ffs3/An9mbwgvgb4DfC3SPDGmgL5sem2oElwwGA80rZknfH8UjM3vXk37VH/AAUC034W%2BOI/2bP2bfA0vxO%2BMeox/wCi%2BENKmAt9IQ4/0nU7gHbaxLkMVJDEFfuBg9cB8Q/2r/jj%2B3f411H9nj/gnXq/9keFdPuTaeO/j1LCWtbP/npa6QOPtVzg/wCuB2rkFSu5Ja99/ZW/Y9%2BCH7HngeTwf8IvDzi6vpPP1/xHqcvn6lrVyclp7qcjdIxYsQvCruO1Rk0oVqmMXsMvtCktHUSVvSmrWb/vv3U9udn7XheGch4DwtOvxDSU8TZOlgYvk5U1eM8XKNnSg7pxw8LV6is6joQl73jXw4/4Jt%2BIPiz4wsvjn/wUk%2BJifFLxTayefpPgy3jaHwr4fY/wwWhwLlgODLMPmGNysQGr6ys7O00%2B0isNPtY4IIIxHDDCgVI0AwFUDgADgAVJRXpYTA4bBRapLV7t6yk%2B8pPV/kuiSPmOIOKc74mqwljqnuU1anTglClSj/LSpQtCC72TlJ6znOV2FFFFdZ88FFFFABRRRQAUUUUAFFFFABRRRQAUUUUAFFFFABRRRQAUUUUAFFFFABRRRQAUUUUAFFFFABXjP7L/APyW/wDaO/7LNY/%2BoV4Xr2avGf2X/wDkt/7R3/ZZrH/1CvC9AHs1FFFABRRRQAUUUUAFFFFABRRRQAUUUUAFFFFABRRRQAUUUUAFFFFAHOfFzWvEHh/4aa1qvhX4eav4r1FLFltPD2g3FlFd3jPhNsb31xb26kBix8yVBhTgk4U/LPgv4PftGeMP%2BCVPg39mDWf2dtd8L%2BOPBvw78LxNpfiLWtHe21DUtDlsJDYiexvrlQly1kVWRgFEcoMmxspX2TRQB4p%2ByH4K%2BJdp4r%2BLHxr%2BJvw4vvBs3xI8eW2qaX4U1W%2Bs7i9sbS10TTNMV7prGee386SSylkxFNIBE0ILbgyr8t/8FdPhj4kXW/FOqav8WfEOvWep/s5%2BO7uw0DVbXTktNEFvrfg6UrbNbWkU7htoLfaJZyNg2lfmz%2Bh9fH3/AAUx0b/hIPE%2BpaQqbnl/ZL%2BLJiHq6z%2BFmX/x4CuHM4e0y2vHvCf/AKTI%2Bo4HxP1PjbK6/wDJicO/ur0f8z6V%2BAmtf8JJ8C/BfiHfu%2B3%2BE9Oud3rvtY2z%2BtdZXk37BWtf8JD%2Bw98HtYZ9zzfDHQvNOf4xYQq3/jwNes1thJ%2B0wlOfeMX98Yv9Tz%2BIcN9S4hxuH/krVo/%2BA1asf/bQoooroPHCiiigAooooAKKKKACiiigAooooAKKKKACiiigAooooAKKKKACiiigAooooAKKKKACiiigAooooAKKKKACiiigArxnxx/ykL%2BF/wD2Rnx5/wCnbwhXs1eM%2BOP%2BUhfwv/7Iz48/9O3hCgD2aiiigAr5%2B/4KXHTB%2BzXa/wDCaeX/AMIV/wALC8L/APCyPtH/AB7/APCPf2zafbftWePsfl/8fO7939m8/wAz93vr6BooA%2BC/BFp8L/H37AXxa%2BF/w/8AjL4K8LeBI/Hepat4CbVtajtdEPhGHWIpHidkb9zod1PBqFmJowYRazHyg0YRT5N8Opfhhd6Xpmq/tO6B8LdJ/ZhvP2htYk0XTdLvY7nwBBbDwfapbCOe4ggt59POrpq7JK8McD37K0a7jbk/qbRQB4N%2BxDd/GKy/4J7fDy8tdBGqeJ08FWx0fT/GerXFg09vj/Q1vLj7PcTxSfZvJ3s0Mkm/O9d26pf%2BCdNx4lu/2br668ZaTY2GryfFv4htqdjpmovd21vOfGeteZHFO8MLTIGyA7RRlgASi5wPdK8Z/YP/AOSIa5/2Wb4j/wDqa63QB7NXyD/wVDvrz46%2BKPhb/wAE7fDV3IJPin4nS/8AGpt3Ia38NacwubnJH3DK6oqE8ExsvOa%2Bvq%2BPP2CP%2BMoP2tvjD%2B37f/v9IW%2B/4QD4Yytyv9k2D7rq5jPdJ7o7weCCrivIzb9/Gng1/wAvXZ/4I%2B9P71aP/bx4WeN4mFLL4715Wl/17jaVT70lD/t8%2BvrGxs9MsodN061jgt7eJYoIIkCpGijCqoHAAAAAr4x/aU%2BIPjT/AIKIfG3Uf2Cf2evEVzp3w98OzKvx18f6a%2BC65/5ANnIODNJgiZhkKAynIV0f0H/gpN%2B0T45%2BGnw50b9n74Az7/it8XdROgeCkjchrCNgPtepsRyiW8TFt/8ACzK2CFavTv2Vf2Z/h3%2ByP8DtF%2BB/w1slW10yANf37pibU7xgPOu5jyWkkYZOScDaowqqBGK5sxxLwUHanFL2jXW%2B1NdrrWfVRtFW5j9o4fjh%2BCsip8S14KWLquUcHCSTjDk92eLlF3UvZz/d4eLXLKspVHeNCKfUfDf4beBPhB4G0z4afDLwtZ6LoWj2q2%2Bm6bYxBI4Yx%2BpJOSWOWYkkkkk1uUUV7EYxhFRirJbJH5zXr1sTWlWrScpybcpNttttttttttttttttsKKKKoyCiiigAooooAKKKKACiiigAooooAKKKKACiiigAooooAKKKKACiiigAooooAKKKKACiiigAooooAK8Z/Zf/wCS3/tHf9lmsf8A1CvC9ezV4z%2By/wD8lv8A2jv%2ByzWP/qFeF6APZqKKKACiiigAooooAKKKKACiiigAooooAKKKKACiiigAooooAKKKKACiiigAr5r/AGt9F/4SP9pTRPD2zd9v/Zr%2BJ1tt9d954UXH619KV4n8SbKHU/2%2B/htp1yMx3HwT8fRyD1VtV8IA/wA6ipD2lOUe6a%2B9NfqdOCxDwmNpV1vCUZf%2BAyjL/wBtMX/gk9rX9v8A/BOX4RX27Pl%2BEo7bP/XGR4f/AGSvoavlH/giPezXH/BM74d6fdn/AEjTZtYspx6NHq94AP8AvnbX1dXn5LP2mT4eXenD/wBJX%2BR9d4mYdYTxGzmito4rEfd7abX4SCiiivTPiAooooAKKKKACiiigAooooAKKKKACiiigAooooAKKKKACiiigAooooAKKKKACiiigAooooAKKKKACiiigAooooAK8Z8cf8pC/hf/ANkZ8ef%2BnbwhXs1eM%2BOP%2BUhfwv8A%2ByM%2BPP8A07eEKAPZqKKKACiiigAooooAK8Z/YP8A%2BSIa5/2Wb4j/APqa63Xs1eM/sH/8kQ1z/ss3xH/9TXW6AMz/AIKY/HvU/wBnf9i7xn4u8LNI3iPVrNdB8JwW/wDrpdSvmFtD5Y7um9pQP%2BmRrp/2YvhD4T/Y1/ZI8LfCu/v7Wz0/wT4UU63qDMFiEqRma8uSeytKZpCfQ14j%2B03/AMZM/wDBTH4QfsyQfv8AQfhdYTfEjxjGOUN4rfZtLjPYOkrNLtPJR8%2B9XP8AgqX4v8R/EjTfBX/BPr4YarJb%2BIvjXrX2TW7q2OX0zw3b4l1G5PpuQCMBuHBkUHNfO1cUqeIxGNtf2aVKC7yum0vWcoR9IvsbcDZBLjHjh0XPkpR/dynuqdKmnWxVV%2BUIr5uMY7ySM/8A4J9%2BHdd/as%2BNHij/AIKd/E7SpoLfX45NA%2BDek3qYbTPDkMjBrrafuS3UgZyeoXdglJBX2JWb4M8IeHPh94Q0rwH4P0uOx0nRdOhsdMsoRhILeJBHGg9gqgfhWlXq5fhPqeGUJO8ndyfeT1k/v0XZJLofQcXcQLiTPJ4mlD2dCCjTo0%2BlOhTXLSh6qPvTf2qk6k3rIKKKK7T5kKKKKACiiigAooooAKKKKACiiigAooooAKKKKACiiigAooooAKKKKACiiigAooooAKKKKACiiigAooooAK8Z/Zf/AOS3/tHf9lmsf/UK8L17NXjP7L//ACW/9o7/ALLNY/8AqFeF6APZqKKKACiiigAooooAKKKKACiiigAooooAKKKKACiiigAooooAKKKKAOd%2BLnxS8G/A/wCFviL4x/EO/e10LwtotzqmrTxQtLItvBE0j7EXLSOQpCooLMxAAJIriPh3%2B2B4I8YeCfHPi3xt4E8UeA7z4bRNP408N%2BLba1e/0%2B3%2BxLfJcAWFxdQzRvA25TFK53JJGQskboNn9qv4K3X7Rn7N3jb4Hadr0elXnifw5dWOnanNCZY7S6ZCYJnQEF0WUIzICCygjIzmvK/Cn7Pn7Vutw/F3xf451Pwj4Q8X/FnQTpVvf%2BD/ABHd6jH4UW10w21hcQtcWNub2U3M91cPuWARr5MY80qzkA7v9mn9rrwv%2B0rqmseHLL4Z%2BKvCWraNo2k6xLpfipbBnn03U1uGsruOSwu7qErJ9luB5bSLKnl5eNQ6FqXjj/lIX8L/APsjPjz/ANO3hCuM/wCCf/7HHi39lvxF4t13UPhj8Ofh5pGvaDoOn23gP4WahcXOmNfWIvBc61K81naYu7tLi2icCJm2afEZJpmI2aV/8MfDfg7/AIKbeC/Gek6l4hmvPEPwe8cSX8Oq%2BLtRvrSIpq3hLAtrW5nkgsgdxytukYbA3A7VwAcl/wAEaP8AiX/ss%2BIvB/T/AIR74teJtO2f3dt6z4/8iV9aV8l/8Eov%2BJYf2ivB7cf2Z%2B074p8lPSGT7M6f%2BzV9aV5ORaZRRXZNfdKa/Q/QPFTXxDzGp/POM/8AwZRw9T/3Iwooor1j8/CiiigAooooAKKKKACiiigAooooAKKKKACiiigAooooAKKKKACiiigAooooAKKKKACiiigAooooAKKKKACiiigArxnxx/ykL%2BF//ZGfHn/p28IV7NXjPjj/AJSF/C//ALIz48/9O3hCgD2aiiigArnfiv8AFfwD8EfAV78TPibrjafo9g8Ec00VnNcyySzTJBBBFBAjyzzSzSxxRxRo0kkkiIiszAHoq8g/bX%2BG/j74h/CfSL74ZeGW13WPCfj/AMO%2BJ4fDqXcMD6tFp%2Bp29xPbRyTukSzGFJDF5rpGZVjDuikuoBuWX7VnwFv/AIFXf7SSeOXi8Iae1xHf3t5pF3Bc21xBcNay2sllJEt0l0twpg%2BzNEJvNxGELEKedf8Ab8/ZeTwnF4sTxT4ilabxHNoA8PW3w71yXXU1KK1F5LbvpCWR1CNltmS4JaAARSRyZ2SIx8X174A/tEeNf2Qfi74Hu/gPe2eu/EvxtceKx4avda0zfb2Emp2yvpsdzFdPHBqrWFo06TqTbwXVzGy3DGIuPOj%2Bxf8AHBNJt9W1X9mz4l3Xg7/hcWr%2BILPwlpnxat4PiHZ2lx4ctbCOefxANYjebdeJel0/tSSX7LJZxF3jhNsoB99fD7x94N%2BKvgTRvib8O/EVvq%2BgeIdLg1HRdUtGJiu7WaMSRSqTg4ZWB5weea8w/YSdY/gdrruwCr8ZfiOSSeAP%2BE11urH7Mnwc%2BKfgn9iPwJ8DPG3ixvCvivR/AmnaVfan4QtrAtpk8MCJi3WW2e0YoFCZ%2BzmIkEqiggDy/wCBevX/AMGf%2BCa3xR8T6p4tvtXu/C/iL4sXM2t6mkCXN7Lb%2BJ9fbzpBbxRQiR2XcRHGiZPyoowBnVqKlSlN7JN/cm/0M61WNCjKpLaKbfyTf6Gd/wAEq/8Ai76/Fn/goJ4gwrfFvxxcDw9PPx5Ph7Sy9nZqc/dOUm3dAdimmf8ABPS3n/ao/aC%2BJP8AwUl8QQu%2Bma1cv4Q%2BEqzKf3Xh6ylIluUB6fablWcjqpSQdDXIab4vl/ZM/wCCAGma9YlodQufhJBHpYjH7wXms4ETKByWD3ofH%2Bya%2Br/2S/g5F%2Bz5%2BzJ4C%2BCqQqkvhvwrZWV5t6PcrEpnfj%2B9KZG/4FXzWW0nWnhqU/sQ9tLzqVG7X9Oacl8ux9jwZCXDnhFVzDbEZhOOHUuvs1COKxTX/XypUoUm/wCROPVnodFFFfUnyQUUUUAFFFFABRRRQAUUUUAFFFFABRRRQAUUUUAFFFFABRRRQAUUUUAFFFFABRRRQAUUUUAFFFFABRRRQAUUUUAFeM/sv/8AJb/2jv8Ass1j/wCoV4Xr2avGf2X/APkt/wC0d/2Wax/9QrwvQB7NRRRQAUUUUAFFFFABRRRQAUUUUAFFFFABRRRQAUUUUAFFFFABRRRQAUUUUAFeM%2BOP%2BUhfwv8A%2ByM%2BPP8A07eEK9mr5c/aJ%2BJa%2BBP%2BCsX7M3hmabanjD4a/ErSAGPBdJPDN6v4/wChkD6471nUqRpR5pbXS%2B9pfm0Z1asKMOaW10vvaS/Fozv%2BCeH/ABKP2qP2rPB/TyPixb6jt/6%2B7FXz%2BOyvrSvkv9kT/iS/8FQv2s/Dx4S8XwTqNuv%2B9pUqyH/vrFfWlebkumBce06i%2B6pP/M/RPE33uKY1v%2BfmGwU//AsHhr/jH8Aooor1j8/CiiigAooooAKKKKACiiigAooooAKKKKACiiigAooooAKKKKACiiigAooooAKKKKACiiigAooooAKKKKACiiigArxnxx/ykL%2BF/wD2Rnx5/wCnbwhXs1eM%2BOP%2BUhfwv/7Iz48/9O3hCgD2aiiigAooooAKKKKACvgT9pTxi/gf/gjV8ctUiciS7%2BJXxB02NV6ubv4gapalQO/Ex/Wvvuvzj/aY/wCKh/Yl8JfB1fm/4T/9trX9Cki/vRt4%2B12Zsj0HkjP4V5mdScMor23cWl6ytFfjI8biGcoZFieXdwlFesrQX4zR6F%2B2X4OTV/EH7Jv7AVogaC78VWWq67bJyraZ4fslkeKT0R2KgepTivtqvkb4W/8AF8f%2BCwXxI%2BIDHztM%2BDnw403wrYHrGNQ1FzezSKf76xqYmx0GAa%2BuayymMZVK9ZbOfKv8NNKC/HmP1jjSEcqynJcjhp7DCxqyX/TzFydd381SWHj6fcFFFFewfABRRRQAUUUUAFFFFABRRRQAUUUUAFFFFABRRRQAUUUUAFFFFABRRRQAUUUUAFFFFABRRRQAUUUUAFFFFABRRRQAV4z%2By/8A8lv/AGjv%2ByzWP/qFeF69mrxn9l//AJLf%2B0d/2Wax/wDUK8L0AezUUUUAFFFFABRRRQAUUUUAFFFFABRRRQAUUUUAFFFFABRRRQAUUUUAFFef/tV/Gq5/Zz/Zv8bfHHT9BTVbzwx4cur7T9MlmMUd3dKh8iF3AJRGlKKzgEqpJwcYrzzwB%2B1J8Sfh9o3xm0n9qOTw/quq/BvR4devtY8D6LPp9rqely6a94uy1ubq5eGZHt7uIgzurhI5Pk3mNAD6Dr88f%2BCxPiO/%2BHP7dv7IfxltW2WvhPWdduNamzjy7C41Lw1ZznP0uAPxr6M/YJ/aj8VftLeH9R1Tx78R/Ct/qw0rS9VHhnQPAer6JLo9tepM8ZMupzsdWtnMbpDqEEUEE5t5ii9VT5y/4K5an8Lf2jPEfiL4R%2BAPiV4f1rxJ4J/Z58daprmj6PrUFxfaNNZ614OvYxPFG5kt3YWsgUOFLYYDPNebnEZyyutyfEotr1jaS/8ASTyM%2BhUnkuI9n8Si5L1haa/9It8z1v4Rf8ST/gsn8X9L%2B7/bnwj8P6jj%2B95Mz2%2Bf1xX1pXwprPxKTRv2xP2W/wBuK2mCaT8bfh4vgvxNMpwi3FzBHqOnKR03tcs6eoCEe1fddYZNUjKNaC6VJS%2BVRRqRfzUn9zP1XjmcMfhMmzWk706%2BBoJP%2B9Q56E0/NOMPlKL6hRRRXsnwIUUUUAFFFFABRRRQAUUUUAFFFFABRRRQAUUUUAFFFFABRRRQAUUUUAFFFFABRRRQAUUUUAFFFFABRRRQAUUUUAFeM%2BOP%2BUhfwv8A%2ByM%2BPP8A07eEK9mrxnxx/wApC/hf/wBkZ8ef%2BnbwhQB7NRRRQAUUV5h%2B1t8ZPGXwY%2BGFhffDWz0yXxL4k8YaL4a0CTW4JJbK1uNQv4bY3U8cUkbyxwxySTeUskZlMQjDx796gHp9FfMGq/tk/Gbwp%2Bxr8UPinrnh/wAOX/j34W%2BJtQ8P6k9hZTxaZeyw3EIjvorVrh52BtbmGf7Es7yvKGt45XZkc%2BY23/BT/wCLR8D6d4bvbrQ4fFWtfFvUvCmleIW%2BEPiIv9hsdHi1Oa5l8JrO2rxXW6UQLZySo7Q4vsiBlRgD7tr84Z5YvFXx0/Zs%2BFUrgxP%2B018YvEtyGPyxjTPEmtSo7enMhwfWvuTwP8bvAM37PGi/Hnxn8Y/Ck%2BgT%2BG7bUdR8b27jTdHmR41LXSC5mc20LMchJZXZAQrOzAk/mz8M/il4a8Z/tI6r8SPBniax1bRPAPws%2BNXjPTNY0y8S4tZlu/HGuwpLFKhKOrxKrBlJBUggkV42ezUMFFPrOH3KXM/wgzzsxws8xnhcBD4q9fD01/2/Wh/kfVX/AARxtp/Gf7Ovij9qXVIz9u%2BMfxN1zxMxk%2B/FbfamtYYPZUFu20dg9fW1eAf8Er/Cv/CHf8E7fhBpHl7PO8F219jH/P1uuc/j5ufxr3%2BtsmpunlNBPdxTfrJczfzcmz9I8SsXDG%2BIOazp/BGvUhBdoUpexpr0jCjFfLzYUUUV6Z8QFFFFABRRRQAUUUUAFFFFABRRRQAUUUUAFFFFABRRRQAUUUUAFFFFABRRRQAUUUUAFFFFABRRRQAUUUUAFFFFABXjP7L/APyW/wDaO/7LNY/%2BoV4Xr2avGf2X/wDkt/7R3/ZZrH/1CvC9AHs1FFFABRRRQAUUUUAFFFFABRRRQAUUUUAFFFFABRRRQAUUUUAFFFFAHO/Fz4WeDfjh8LPEXwb%2BIdhJdaF4p0W50rVoIZmika3niaN9jrho3AYlXUgqwBBBArgvhn%2Bx14a8B23iSPxX8WPF3jmfxsJU8c3njAaY8mvwmzisooJhaWUCRRQwRkIlusIZppnk815C1ev0UAeTfs6/si%2BF/wBnfXtQ8WRfE/xd4w1a88Pab4fttS8YXNm8lho%2BntcNaWMQtLa3UojXU7GWVZJ5C48yV9q7cD41eF9M8cftueBPBetR77PWPgP8Q7K7XHWKXUvCMbj8mNe8V4z44/5SF/C//sjPjz/07eEKUkpJp7MUoxlFxezPirwl4W8XfFv/AIIRDT9Pcjx18CNau7yxlRdzWl9oWpSyjaOu4WRZQOuW/Cv0U%2BCnxR0T43fB7wt8YvDhH2HxR4ftNUtlDZ2LPCsmw%2B67tpHYg18zfsC6Vp3hT9pn9q/9lnWrNJLFPiPF4nSylHyS2%2Bu2QlkVR3T91tIHAzirn/BIXVdR8G/Bjxl%2ByL4ku3k1P4K/ETU/DsTTNmSbTXma5s7g/wCy6SuF/wBmMV8rk7eHrUU/twdN/wCOhKSXzcPyPquFpPOfBn6vLWrlddevsa/NQn8o18PRk%2Bzq363f1pRRRX1Z8sFFFFABRRRQAUUUUAFFFFABRRRQAUUUUAFFFFABRRRQAUUUUAFFFFABRRRQAUUUUAFFFFABRRRQAUUUUAFFFFABXjPjj/lIX8L/APsjPjz/ANO3hCvZq8Z8cf8AKQv4X/8AZGfHn/p28IUAezUUUUAFcb8ePgl4a/aB%2BHUvw78Taxqel7dSsdT0vWtEmjjvdL1Cyuoru0u4Gljkj3xzwxttkR43AKOjozKeyooA8Oj/AGDvAMnwW1j4I6v8VfGt/aa9qf8AbWp61c3Ngmoy6%2BNTXU01oSxWiKt0lzHAUjCC1RLaKNbcIpU04f8Agn54QtrFtatfjv8AECPx5J44k8WS/FIPpB1l9QfSk0hgYm086eITp8UVv5ItAmIkkx5w82vfaKAOX%2BCvwh8H/AP4UaD8HPAKXX9k%2BHtPS0tJL65M1xNjJaWWQ43yO5Z2bAyzEgDpX5H%2BFvEkq6f/AMFBfiJPlV8L/wDCSeELaVuhGp%2BLdcldR%2BMoz9RX7MV%2BNNz4YluP2K/2xWVWjuPiN%2B23q3haBhwzrB4o8wY9vnkH4Gvm%2BJ%2Bb6imunO/upTS/GSPf4GwEcy8UOHKE/g%2Bu0Zy/w07zb%2BXK38j9YP2avCv/AAgv7OfgDwR5Wz%2BxvBOlWOzH3fKs4o8f%2BO121Nhiit4lghQKiKFRVHAA6CnV9DSgqVKMFskl9yS/Q8rHYqeOx1XEz%2BKpOU36zlKT/GTCiiirOUKKKKACiiigAooooAKKKKACiiigAooooAKKKKACiiigAooooAKKKKACiiigAooooAKKKKACiiigAooooAKKKKACvGf2X/8Akt/7R3/ZZrH/ANQrwvXs1eM/sv8A/Jb/ANo7/ss1j/6hXhegD2aiiigAooooAKKKKACiiigAooooAKKKKACiiigAooooAKKKKACiiigAooooAK8Z8cf8pC/hf/2Rnx5/6dvCFezV4z44/wCUhfwv/wCyM%2BPP/Tt4QoA8g%2BP%2BoT/se/8ABSzwb%2B09qu1fA3xk0eDwH4ru2GF0zWI3aXTrh26bZRmHJ4UK7E9BVf48apdfsDft%2BW37Wupqo%2BF/xqh0/wANfEW8C4GhazbqY9P1CU9BC8ZMLMeE%2BdiclVP0N%2B1x%2Bzh4V/a0/Z28UfAPxayxRa7pzJZXxXLWN4hD29yvfMcqo2B1AK9Ca8Z/ZD8WaZ%2B37%2BxLr/7N/wC1Xo3neK/DjXHgn4p6ZM485b62%2BVL1SR95wsc6SgYEqsV%2B5XzOJwtSni5UKbs5P2tJvZVF8cX5STv6Slb4Tu4Ez/C8JcV1sJmEHPA46E41Yr4uSbg6qhfT2lOcaWJpX05oSi/dlK31aCCMg5B6EUV8lf8ABPD48eK/h74g1X/gnP8AtO%2BJUb4ifDsCPwrqd42w%2BLvDu0m1vISx/eSRxjZIoJYbMksyyFfrWvbwWLp47DqrFWezT3jJaOL80/vVmtGj0uJ%2BHcXwvnE8DWkpxspU6kb8lWlNc1OrBveM4tPvGXNCVpQkkUUUV1nz4UUUUAFFFFABRRRQAUUUUAFFFFABRRRQAUUUUAFFFFABRRRQAUUUUAFFFFABRRRQAUUUUAFFFFABRRRQAV4z44/5SF/C/wD7Iz48/wDTt4Qr2avGfHH/ACkL%2BF//AGRnx5/6dvCFAHs1FFFABRRRQAUUUUAFfmF4m8CLpfwu%2BG/gFJI3k8e/8FF/FWs38ceTvtoPFutiRTkDnZBFntxX6e1%2Bcuh/8VR%2B1R%2BzT8PQN0afH744a5dD%2B59k8RawYmP1diB714%2BeQjPAWe7lCP8A4FOCf4I%2B98MYRjxnSxb/AOYeliqvp7PB4l3%2B%2BS%2Bdj9GqKKK9g%2BCCiiigAooooAKKKKACiiigAooooAKKKKACiiigAooooAKKKKACiiigAooooAKKKKACiiigAooooAKKKKACiiigAooooAK8Z/Zf/wCS3/tHf9lmsf8A1CvC9ezV4z%2By/wD8lv8A2jv%2ByzWP/qFeF6APZqKKKACiiigAooooAKKKKACiiigAooooAKKKKACiiigAooooAKKKKAPMP20/i94q%2BAf7JnxD%2BMfgaO1Ot%2BH/AApeXWjvfRF7eG6EZEUsqggtEjlXdcjKqwyM5Hn3wp%2BPXiP4B3Xxy8NftMfGzUPFugfB7TLLxFN451nSbK3vV0ybTHuriGePTreCB3he2ndTHCrGOaJWDspd/ffGng3wr8RfB2rfD7x1oFrquia7ps%2Bn6xpd7EHhvLWaNo5YZFPDI6MykdwTXIfBz9lv4N/AXe/w00/XoJri9lvL%2B71Xxpqup3GozvBDb%2BZdzXtzLJdlIbeCKLzmfyUjCx7BkEA8H/4Jcftq63%2B1v4o%2BMdr4r/aB8GeL7jRvFunXWh6H4P1nTb2Lw5pd7o9lcpY%2BdZFvtXkzvcQvcuziSeGcIVRVjTs7/wCJ3hvxj/wU28F%2BDNJ03xDDeeHvg944jv5tV8I6jY2kpfVvCWDbXVzBHBegbTlrd5AuRuI3Ln2nwt8MfA/grxX4m8b%2BGdD%2Bzap4x1KC/wDEl19plf7ZcQ2kNnG%2B12Kx4gt4UwgUHZuILEk%2Bb%2BOP%2BUhfwv8A%2ByM%2BPP8A07eEKAPZq%2BRP2s/gl8bP2avjhff8FDf2PtFk126vLKCD4vfDKMY/4Sewt12pd2uASt7DHnaOd6jABO5JfruiuTGYOGMpcrbi07xkt4yWzX5NPRptPRnDmGAp5hQUG3GUXzRkt4yW0l97TT0km4tWenzJ47%2BG/wCzF/wVn/Z28P8Axh%2BGHjW40/VrF/tfgnx5ox8nV/C%2BpJgtE4BDKVYKJICcMAGUg7JBz/wI/wCCgHij4O%2BMbb9lX/gpLb23g7x3FJ9n0Dx40Ri8P%2BMohgJcQ3BAjgnII3xPtAYjG0sI1tfGX9hL4u/Cr4o6x%2B1F/wAE6fiNaeE/FOtTi68XfDzW4y/hvxVKucu8a4Npctk/vkxuJ5KbnZsrS/25f2TP2nNNuf2S/wDgoZ8J7b4c%2BMZsRan4F%2BJMaiyupOiz2F%2BQIpQSf3ciskmT8mcBj4E6lahiVOo1RrvRt/wq1trv7Mu12px1S9pHQ%2Bq4d8QcJQy6HDnGVFzwyb9lUi1GVKTessNUneKU/iqYSs1Ccveg4ztUl9io6SKHRgysMgg5BFLXxrZfsl/tw/sXw%2Bf%2BwZ8bLHx34DiPmWnwl%2BKFwztZwnnytP1NTuReyRy4jUckuSSdrwl/wVw%2BDHh3WoPAP7Y/w38V/A3xTI/lG18aaXJJplxJ3NvqMKmKWP8A6aMEXg16cc3o0moYyLoy/vfA/Sa91/PlfkfT1vDvMMfB4jhutHMaO9qWmIit/wB5hZNVotLd01Xp6NqdrH1hRWT4K8eeB/iT4fh8WfDvxlpWvaXcDNvqWjahHdQSf7skbMp/A1rV60ZRnFSi7pnwFWlVoVZU6sXGUXZpppprdNNJprs0n5BRRRTMwooooAKKKKACiiigAooooAKKKKACiiigAooooAKKKKACiiigAooooAKKKKACiiigAooooAK8Z8cf8pC/hf8A9kZ8ef8Ap28IV7NXjPjj/lIX8L/%2ByM%2BPP/Tt4QoA9mooooAK%2Bfv%2BClx0wfs12v8Awmnl/wDCFf8ACwvC/wDwsj7R/wAe/wDwj39s2n237Vnj7H5f/Hzu/d/ZvP8AM/d76%2BgaKAPzv1HxR8OX/wCCZnxo8EfDHxPp8Pgqbxxfv8O7fR7iNrOx8KT63Bbm/wDITJfQI7n7e7iMCF7CKVImEZQjzC/sfiJqH7Dvxh%2BEXwS%2BFtt8Qvhde%2BPvEU/ivxP8C20nSPDV3pcPhvTZ47bSLG%2B1NFttOku5GhvFt7i83y2OpjlrwrD%2Br9FAHkn7NfiH4hX/AOxJ4B8Q%2BEfhzFD4ib4faU1l4c8Wa0lmnmC1iASe5skvViUgbt0ay8EAjOQPiz9jTV9Z8Sf8FDfCUPxBsLDTtR8I6B8V9d1az03UJLy2tLm7%2BIusWbpFM8MLzLuG1XMUbOMHYpO0fpdX5of8E3/%2BKt/4KG/HnxB9/wD4RLxDrGh7v7n2r4i6xe7fx25ryc1954en3qw/8l55foj9A4B/cwzjF/8APvAYj76roUF/6ckvmfo1/wAJhpP/AD6ap/4I7v8A%2BNUv/CYaT/z6ar/4I7v/AONV87ePv%2BCyP/BN74X%2BO9a%2BGnjn9o37Drfh3VrnTNYsv%2BEQ1iX7PdW8rRSx747Rkfa6MNykqcZBI5rJ/wCH5f8AwS0/6Oh/8snW/wD5CqpZ5ksJOMsTTTX9%2BP8AmZ0fC3xMxFGNWlkmLlGSTTWHqtNNJppqFmmmmn1TT6n0/wD8JhpP/Ppqv/gju/8A41R/wmGk/wDPpqv/AII7v/41Xzt4B/4LI/8ABN74oeO9F%2BGngb9o37drfiLVrbTNHsv%2BEQ1iL7RdXEqxRR75LRUTc7qNzEKM5JA5rvv2/vjB8TP2ff2Jvin8cfg3aabN4n8JeB9Q1XR11eZkt1lghaTe%2B2OTdtUMwTbh2UIWQMXXrwuNweNi5YepGaW/K07etj5/POGeJOGK0KWcYKrhpTTcVVpzpuSTs2lNJtJ6Nrroel/8JhpP/Ppqv/gju/8A41R/wmGk/wDPpqv/AII7v/41Xz3qf7bnxt8K/EPxz4L%2BIXwK8CaFp/wy%2BHlp4m8c%2BJ7v4qXRsbd7uLVGt7a2xo4lnUPp8YlldIiiXBaOOZ0EUnM/Db/gpVq/xV1TwzoerfCfV/C%2BtxfGiXwd4h0hZby2hkQ%2BD9Q1%2BGfbrGj2l68LpDEm37PaSCVAyyyQqVuOk8M%2Bqv8AhMNJ/wCfTVf/AAR3f/xqj/hMNJ/59NV/8Ed3/wDGq%2Bef2Sv2%2BfiT%2B0Pp%2BiXHjn9mD/hH7vxZ8JtF%2BIPhPS/D3jWHVZ7rTr5gjwTm4gsore4hLxMVDyI6PkOGUx11P7Vfiz4q6l8Wvhf%2Bzx8LfivqHgRvG11rF1q3ivRtNsbq9it7CyEi20C39vcW6tJNNCzM8TnyoJVXazCRAD13/hMNJ/59NV/8Ed3/APGqP%2BEw0n/n01X/AMEd3/8AGq%2BcoP2hP2kfif8A8EyPCHx/%2BH1pc/8ACc67pHh2bxDd%2BFdDW9uLe0lv7SLWNQ06ykWQTypZm8ubeArLuZY12TnEb8D4V/aX%2BIPjX9mX4heN/Gf7VXxL8FQ/Cz4jX/h7TvER%2BH%2BkQ%2BIvGHmWljcabDLpt5pjILmSS/S2S2gtreaZ1jUrE7MlAH2X/wAJhpP/AD6ar/4I7v8A%2BNUf8JhpP/Ppqv8A4I7v/wCNV8OftA/tV/t2/Aiw0P4i/F208U6Nd6V4E8FXs3hfwV4Hh1Hw/r%2BtXN2YvEVnf6i1tM1gIVMa24Fxa5LqyG7YmFfZDd/HC1/4KQaN8MfDX7UHi/VvCtr4K1PxZ478I6rpGgmwsYrm4Wz0azhlg02K8VXkTUpVZ7l2I0zaxfe1AH0NpviHS9VuGs7Zp0mVN5iubSWFiucbgJFUkZ4yPWrtZV3/AMjtp/8A2Crz/wBGW1atABRRRQAUUUUAFFFFABRRRQAUUUUAFFFFABRRRQAUUUUAFFFFABRRRQAUUUUAFeM/sv8A/Jb/ANo7/ss1j/6hXhevZq8Z/Zf/AOS3/tHf9lmsf/UK8L0AezUUUUAFFFFABRRRQAUUUUAFFFFABRRRQAUUUUAFFFFABRRRQAUUUUAFFFFABXjPjj/lIX8L/wDsjPjz/wBO3hCvZq8Z8cf8pC/hf/2Rnx5/6dvCFAHs1FFFABXKfGH4FfBv9oHwnJ4H%2BNnwz0bxPpT5ItNYsEmETEY3xsRuif0dCGHY11dFROnCrBwmk0901dP5MipSp1qbhUipRe6aTT9U7o%2BQE/4JnfF74As1z%2BwF%2B2t4s8B6fGxe38B%2BLol8QaCg/wCeUSXB822Q92DO/v6U/Evxx/4KPeBNCn8HftXf8E7fC/xb8Puuy/1b4Ya5FPHcIPXS79TLKSOoGBn6ivsuivLeT0aathqkqa7J3h/4BNSjbyVjyaeTRwVRVMvr1MO1quSV4pra0ZcyjbpyuFulun5VaxrP/BG6Txa2rSw/GD9lHxtdPgyWen6p4dmSQc7fLiWe1jUc8AIMV6x8OfE37VkUcf8AwyT/AMFgfhF8WrXA%2Bx%2BHviVZWpuFHZJbmwl%2B0ux9WVT7V96avouj%2BINPk0nXtJtr60mGJba8gWWNx6FWBB/GvFfiL/wTN/YB%2BKjSS%2BMP2SfBJlmJMtxpejrp8rk9zJaeWxPvnNeXLIsXRblRcE%2B8eei//KcpQf8A4AfeUvEnxSpUo0sbiaGY04qyjjKEarsuinJTqL/t2qrdLHna/tW/8FQfhmBH8XP%2BCcOneLLVP9drfwy%2BIVu4b3Szul85s9uaUf8ABYT4L%2BFf3fx5/Zz%2BNnw2ZOJ5/Fnw3uBbr6lZLcyb1/2gOaP%2BHMf7K/h3P/Cl/iL8WvhuB/qV8D/Eu9gEX%2B755l/XNH/DvH9rHwpx8J/%2BCr3xVswn%2Bq/4TDSrHXiPTd5wTd%2BNHLxLh/hvL1dKf5qlIv8A13yfE/8AIz4Vp36ywmMqUfup1VWh8tF5HX%2BCP%2BCsf/BOX4ghDoX7XPhO38zoNcuJNMx9ftiRY/GvXPB/x4%2BB3xDCHwB8ZvCmuCT/AFf9j%2BIra53fTy3Oa%2BRvG/7Bf/BQ7xCX/wCEo/aB%2BBXxM3fePxE%2BBtpGZv8Af%2Bzh%2BvtXknjD/glj%2B1Bqe/8A4Sv9g/8AZF1%2BM5/5FK/1/QpWH/bN40U/7vFH9qcQUvjw3N/27Jf%2BkzqL8xf2z4W4j%2BJhM0wr/wAGDxUV84VKE39yP0/or8lf%2BHev7VXgUY8Ff8E7fEmkBPuN8N/2rHsNn%2B4L4SkfjR/wrn/go94G50vwd%2B2PpWzpG3xh0jxNGnsqmGPI9qP9ZMVT/iYSfy5v1pr8wv4X1v4edV6XlXyzFx%2B%2BVGdaP5n61UV%2BSo%2BPn/BVnwV/qPGX7U8cadYLz9mPRtaB%2Bsq3SNj3Apf%2BHlP/AAU28Jf8hC%2B8Qzbev/CZ/s2X9j/319jmfH4Uf624OP8AEo1I/wDbt/8AIP7N4KqfweJcF/3EjjaL%2BftcDZf%2BBM/WmivyZj/4Leftt%2BGh/wAVjpvweaNevneB/GFnKf8AezA6g/SpLb/g4z%2BIOmS%2BRq/wq%2BHOqSL99LDX9XsSf/AqwwPxp/655CvjlKPrF/o2CyHKqjtRz3LJ%2BmPow/8ATsKJ%2BsVFfl5ov/ByJNcELrH7IOlIo6y2vxjsDu9wstshH410lj/wcafCFVDa/wDs56pB/e%2Bw%2BOtHuMf%2BRkzW0eLuHZ/8v7esZL9C/wDVPFydqWMwVT/BmGAl%2BWLR%2Bj9FfnjB/wAHJn7GNuwj174RfEiBjwTZW2l3Kj8Vvx/Kui0f/g4d/YL1cBm8P/Ee2B7zeFYmx/36uHraPFHDs3ZYqH3v/wCRNXwNxM480aUJL%2B7icHL/ANJxzf4H3ZRXxrYf8F4v%2BCed2A154t8V2QPX7V4KvDj/AL9o1atp/wAFyv8AgmHOwS7/AGjJ7Nz0S78F6wv6i0I/Wt1n%2BRy2xMP/AAJL87ErgbjCXwYGpL/DyT/9IqzPrWivmKw/4LLf8EzNSx9n/au0lc/8/GkahF/6Hbitqx/4Kt/8E6NRx9n/AGu/B65/573jRf8Aoaito5xlEtsRT/8AA4/5g%2BBON1/zK8R8qNR/lCR9B0V4pZf8FIv2AtQx5H7ZPw3XP/Pfxdaxf%2BhuK1rL9uv9iPUcfYP2xfhZMT2j%2BIOmk/l51axzDL5bVof%2BBx/%2BSOapwfxfR/iZbiF64ev/APKT1WivP7P9rH9lnUcf2f8AtLfD%2BfPTyfGVi2fylrVs/jz8DdQ/48PjN4Tnz08nxFbN/J62WJw0tqkX/wBvR/zOCpkmdUf4mFqx9aVRfnTR1dFY9p8RPh/f4%2Bw%2BOdHmz08rU4m/k1aVrqOn3ozZX8M3/XKUN/I1opwlszhqYfEUvjg16pr80iaiiiqMgooooAK8Z8cf8pC/hf8A9kZ8ef8Ap28IV7NXjPjj/lIX8L/%2ByM%2BPP/Tt4QoA9mooooAKKKKACiiigAr86P8AgkH4eP8Awvb9sPx2U/4/v2nL3Tlf/r18RagxH/kx%2BtfovXxL/wAEofC7aN4C/aF8QTJ8%2Btfto%2BOJkcjrHH4kEIH0DRv%2BdcGLp%2B0xWHf8spP/AMkkv1PrcgxqweQZxG%2BtWjSp/fiqU3/6bR9tUV8xeP8A/gpr/wAIF471vwL/AMO%2Bf2nta/sXV7mw/tjQPhP9psL/AMmVo/PtpftI82F9u9HwNyspwM1kf8PYf%2Bsan7Wn/hm//uqspZ1lkZOLqar%2B7P8A%2BVn5zLiHJoScZVdVp8NTpp/z6PrSsX4j/DzwZ8XPh9rnwq%2BI2gxar4f8S6Rc6XrmmTsypdWlxE0U0RKEMAyMwypBGcgg818%2BeAf%2BCmv/AAnvjvRfAv8Aw75/ae0X%2B2tXtrD%2B2Nf%2BE/2awsPOlWPz7mX7SfKhTdvd8HaqscHFezftJ%2BMPid8PPgF4v%2BIPwZ8OWms%2BJ9B0C51LR9FvYXdNSkgQym1AR0IeVUaNG3YV3ViGAKnrw2Mw2Mi5UZXS30kv/Sox/U7cHj8HmEXLDy5ktHpJef2ox/C5jQfsa/s8L4V8U%2BDtT8Ialq9n418N2%2Bg%2BKpfEXivU9TutSsIPtPkxyXN3cyT70%2B1z4lDiUbl%2Bf5E253gf9gr9lr4e6kuueH/AWpTakPFw8US6trXjHVtSvLjVxpE2jC7muLy6llnYafPLb4kZl2lTjciMvhviP/go/wDE34keFrnxj%2By42h6rYeI/Hc2kfCiWLwkuqN4g06w0hbrVb2RrnW9KtoY4rvz4A7XC7RZuAkrSDy%2BJ8G/t1fEb4ueI9E%2BPFl9ptdO8efDL9nfVY/Cja/e/YdKn8ReLtdtr%2BSD7NPFucxeSjMcpOtrCsySxL5R6TsPsPwx%2Byd8CPBNjolh4O8J3ulL4c8DWng7RJtO8R6hDNaaLavG8FqsqThztMUeZCxkYAhnYMwOj8b/2evhT%2B0Tomn6H8UtH1GYaRqJvtIv9E8RX2kX1jcGGWBnhvLCaG4i3QzTROEkAdJGVgVJFfJvwT/ap/ag%2BN37Unwg8Yan4q8I/2J47%2BFvj/W/Dnw90q6vdPa1ks7/RoLaDVpTNcJdSx%2BaUa4S2iNtI9wixSZyfbv239W8ST6Z8KPhvL4q1Xw7pHjv4r2Gh%2BM9S8N67cafdQ2Z0%2B/ukghvbdop7fz721s7XzI2jkZbgqpUuKAPQpP2d/hYngMfDDRrHWNF0CLw5YaFZaZ4Z8V6jpUen2NmSbdLT7HcRGzdQdplgKSuiIjOyxoq8X4l/4J6/sq%2BK/CnhPwdqPhLxJb23gnXrvXPDt3pHxH16wvotUullW4v5ry2vY7m7uZBPMGnnkkkPnSfN87Z4H4Raj%2B0L8U/%2BCbfjfQ/hP8SbufxpZ6l478OeAfFmsaqWuLi30/XtU0/TLiS8lDlpTa20A%2B1uHLtidt%2B458x%2BG/xG0Ww8K/Gzwp%2B0a/xj8J%2BAvAXjPQh4Z0Sb4wajfeKptUu9Li3aGuo6ZqU1zcyy3E1vNFZpeysTewglVYQxgH1d4g/ZL%2BCni7xB4Y8R%2BLrTxNq0nhC3sItHstV8f6zc2LvZSeba3F1aSXbW9/dRy4lF1dRyz%2BYiOZCyKw6jw98KvAXhX4geI/inoeg%2BVr/iyOyj1/UnupZGuY7SN0towrsViRBJIQkYVd0sjkFnZj8EftPaJ%2B3h8Fv2SNN%2BKXxH1zx1qN54N%2BB%2Bs3iSeGfiimnS%2BG/EySG4srrWX%2B0wf25DDbiG2cbbwTSwSk2s32kMLWofFL9oW%2B/bcT4mar401iz8M2Hxw8MeEtWitfH%2BoRNpM954ZsZJdCXw3/x43ts93dpcPqcji7i%2B0ybImitUlIB99Xf/ACO2n/8AYKvP/RltWpWXd/8AI7af/wBgq8/9GW1alABRRRQAUUUUAFFFFABRRRQAUUUUAFFFFABRRRQAUUUUAFFFFABRRRQAUUUUAFeM/sv/APJb/wBo7/ss1j/6hXhevZq8Z/Zf/wCS3/tHf9lmsf8A1CvC9AHs1FFFABRRRQAUUUUAFFFFABRRRQAUUUUAFFFFABRRRQAUUUUAFFFFABRRRQAV4z44/wCUhfwv/wCyM%2BPP/Tt4Qr2avnD9o/V/jXo/7eHwnn%2BB3w/8LeItSb4R%2BO1u7TxX4wudFgjg/tTwkS6S2%2Bn3rO%2B7aNhjUYJO/ICkA%2Bj6K8Z/4Tj/AIKF/wDRr/wZ/wDD8at/8y9H/Ccf8FC/%2BjX/AIM/%2BH41b/5l6APZqK8Z/wCE4/4KF/8ARr/wZ/8AD8at/wDMvR/wnH/BQv8A6Nf%2BDP8A4fjVv/mXoA9mor5x0n9o79u3WPjPr/wOt/2UPhIuqeHfC%2Bka7eXL/HXVPIkg1G51K3hRCPDG4uraXOWBUAB48FiWC9R/wnH/AAUL/wCjX/gz/wCH41b/AOZegD2aivGf%2BE4/4KF/9Gv/AAZ/8Pxq3/zL0f8ACcf8FC/%2BjX/gz/4fjVv/AJl6APZqK8Z/4Tj/AIKF/wDRr/wZ/wDD8at/8y9cv4B/aO/bt%2BInivxv4Q0f9lD4SQ3HgPxRFoWqyXPx11QJPPJpWn6mHi2%2BGCSnk6jCpLBTvRxjADMAfR1FeM/8Jx/wUL/6Nf8Agz/4fjVv/mXo/wCE4/4KF/8ARr/wZ/8AD8at/wDMvQB7NRXjP/Ccf8FC/wDo1/4M/wDh%2BNW/%2BZej/hOP%2BChf/Rr/AMGf/D8at/8AMvQB7NRXzj8Iv2jv27fjL4Uu/F/hz9lD4SW1vZ%2BKNb0KSO9%2BOuqK5n0vVbrTJ3G3www2NNaSMhzkoykhTlR1H/Ccf8FC/wDo1/4M/wDh%2BNW/%2BZegD2aoruwsdQj8q/soZ1/uzRhh%2BtePf8Jx/wAFC/8Ao1/4M/8Ah%2BNW/wDmXo/4Tj/goX/0a/8ABn/w/Grf/MvRuDSe56Nf/Cf4Warn%2B1Php4fuc9ftGjQPn80rFvv2X/2aNTz/AGl%2Bzv4FuM9fP8JWb5/OKuT/AOE4/wCChf8A0a/8Gf8Aw/Grf/MvXL/BH9o79u348fBjwh8cfCv7KHwktdL8Z%2BF9P13TbbUPjrqizwwXdtHcRpIE8MMocLIAwVmGQcEjmspUKE/ign8l/kYSw2Gn8VOL9Yxf5o729/Ye/Ys1HP8AaH7IPwunz187wBpzfzhrKvP%2BCdP7A99nzv2Mvhiuf%2BePgmyj/wDQIxR/wnH/AAUL/wCjX/gz/wCH41b/AOZej/hOP%2BChf/Rr/wAGf/D8at/8y9YvAYCW9GH/AIBH/wCRMJZZlk/ioQf/AG5D/wCQMu7/AOCXf/BPK9z537HvgVc/88tESP8A9BxWddf8Ekf%2BCb15nzv2R/Cwz/zyWaP/ANBkFdL/AMJx/wAFC/8Ao1/4M/8Ah%2BNW/wDmXrl/jd%2B0d%2B3b8B/gx4v%2BOPir9lD4SXWl%2BDPC%2Boa7qVtp/wAddUaeaC0tpLiRIw/hhVLlYyFDMoyRkgc1m8qyuW9CH/gEf/kTKWSZLLfDU/8AwXD/AORKNz/wRr/4Jm3WfN/ZQ0cZ/wCeeqX6f%2Bg3Aqhcf8ER/wDgl5dZ839li2Gf%2BefinV0/9BuxXov/AAnH/BQv/o1/4M/%2BH41b/wCZej/hOP8AgoX/ANGv/Bn/AMPxq3/zL1m8lyZ74an/AOAR/wAjJ8O8Py3wlL/wXD/5E8tn/wCCFn/BLiX/AFf7NUsWf%2BefjXWf63hqlP8A8EF/%2BCYs3%2Br%2BBmoxf7njLUz/AOhTmvX/APhOP%2BChf/Rr/wAGf/D8at/8y9H/AAnH/BQv/o1/4M/%2BH41b/wCZeoeQZG/%2BYWn/AOAR/wAhw4fyKn8GGgvSKX5WPFZ/%2BCAv/BNGX/V/CvXIv9zxde/1kNVJv%2BDfT/gm7L9zwT4nj/3PFc/9c16b8Xf2jv27fg14UtPF/iP9lD4SXNveeKNE0KOOy%2BOuqM4n1TVbXTIHO7wwo2LNdxs5zkIrEBjhT1H/AAnH/BQv/o1/4M/%2BH41b/wCZeofDuQv/AJhYf%2BAo6I5XgIfDC3pKa/KojwCb/g3l/wCCdEn3NG8Yx/7nilv6oarS/wDBuv8A8E8pP9WfHcf%2B54mT%2BsBr6I/4Tj/goX/0a/8ABn/w/Grf/MvR/wAJx/wUL/6Nf%2BDP/h%2BNW/8AmXqHw1w%2B/wDmFh/4D/wTeOGpw%2BGU16Vay/Kuj50H/Bu5%2BwpCc2PjT4nW3p5HiqAY/O1NSx/8G%2Bv7Itv/AMePxx%2BM9v6eR4ythj/yTr6G/wCE4/4KF/8ARr/wZ/8AD8at/wDMvXL%2BPv2jv27fh34r8EeENY/ZQ%2BEk1x488US6FpUlt8ddUKQTx6VqGpl5d3hgEJ5OnTKCoY73QYwSyn%2BrPD62w0Puf/yRToX3qVP/AAdX/wDmg8rg/wCCDP7O9n/x4/tVfH63x08nx9bLj/ySq9bf8ERfhVY/8eH7b37ScGOnk/EqBf5Wde3f8Jx/wUL/AOjX/gz/AOH41b/5l6P%2BE4/4KF/9Gv8AwZ/8Pxq3/wAy9UuHckjtQX3y/wDkzCeX4ep8Tm/%2B4tf/AOaDxyL/AII36Baf8eH/AAUM/afhx02fFJB/K1FO%2BA/7Ikn7Kv8AwUK8Gq37S3xT%2BIa678GfGW0fEvxX/af9neTq3hb/AI9v3aeV5nnfP13eVH/dr2H/AITj/goX/wBGv/Bn/wAPxq3/AMy9UPA/gf8Aas8Y/tWeHPjd8bvhx8PfDOjeGfh74h0OGHwr8Q77Wrq7utSvtEuEZkuNIsUijRNLlBYO7FpUAXGSOnD5Rl2FqqpSp2kvOX5ObX4E0cswVCqqsE%2BZd51JfhKrJfeme60UUV6J3hXHfHj42eGv2fvh1L8RPE2kanqm7UrHTNM0XRIY5L3VNQvbqK0tLSBZZI4/MknmjXdI6RoCXd0RWYdjXl/7W/wb8Z/Gf4YWFj8NbzTIvE3hrxhoviXQI9bnkisrq40%2B/huTazyRRyPEk0aSQ%2BaschiMgkCSbNjAGZ/w258LrX9mzXv2lde8L%2BI9LtvDGp3Gk6/4VvbW3/tay1WG8FmbBljna3MjTtGqSCcwMsqS%2Bb5bb6oaF%2B2zeeLvC2rar4K/ZL%2BKWsa54b8VT%2BH/ABV4Osv7CF/o11FaW95ullk1VLKVGgu7Zl%2Bz3MrEy7NodJFThdR/ZA/aM8T/ALL/AMSvhVr0vgq28RfE3xLP4m1uKDXLufTJZJdQhaTQZC1mkjWUum2sVnLeBRIxuJ3W2TCqeOX9ir9s3wJ8Adf%2BDHwE8KfCrwdofjv4lS6p4i8A%2BGPHWo6Vp/hrw22nWtvPpOi3sGjs0El5dW81zNMlpB5X2%2B58kCYrcgA%2Bu/hF8U/Bnxy%2BE/hj41/DjUXu/D3jDw9Za3oV3JA0TTWd1Ak8LlGAZCY5FJUgEE4PNeKfsQ%2BGdO8Lfs8eLL2x8wi9/aG8f6nfOwzg/wDCeapvbgdFSMfgtevaH8NNP1L4H6b8KPEPhiLwtbJ4ftrCfRfAviW8tYtKWOJFFvZX1stpcJHHtCJIiwMVUfKmdo%2Ba/wBiS7/a/wDAPwa1rwV8HPgX8Ptd8M6V8XfiDbaPq3jH44axHqlzEnjHWBuuQ%2Bh3rtJuDAu9zM74Ds25iAmk2n2LjUqRhKCekrX87O6%2B56n1d/wnPgn/AKHDS/8AwYR//FUv/Cc%2BCf8AocNK/wDBhH/8VXlv/Ccf8FC/%2BjX/AIM/%2BH41b/5l6P8AhOP%2BChf/AEa/8Gf/AA/Grf8AzL0yD1L/AITnwT/0OGlf%2BDCP/wCKo/4TnwT/ANDhpX/gwj/%2BKry3/hOP%2BChf/Rr/AMGf/D8at/8AMvR/wnH/AAUL/wCjX/gz/wCH41b/AOZegDUvvgZ%2BxRqnw40n4O6n8HfhbceEdAvftmheFZ/D2mvpum3O6RvOgtinlQybpZTvRQcyOc/Mc6Gn/Dj9lHSbW1stK8B/D22hsrTSbSyht9LsUW3g0ueS40yJAFARLSeWWW3UYEEkjvGFZiT5n8Ef2jv27fjx8GPCHxx8K/sofCS10vxn4X0/XdNttQ%2BOuqLPDBd20dxGkgTwwyhwsgDBWYZBwSOa6j/hOP8AgoX/ANGv/Bn/AMPxq3/zL0Aatj8D/wBirS/FOt%2BOdM%2BEHwut9b8SwXUPiPWIPD%2BmpdarHdY%2B0pcyhN86y7V8wOSHwN2cV0HjfSvgB8TPBFz8MviRpvg7xB4bvIUiu/D2uQ2l3YzxoysiPBKGjZVZVIBXAKgjoK4r/hOP%2BChf/Rr/AMGf/D8at/8AMvR/wnH/AAUL/wCjX/gz/wCH41b/AOZegDqh4J/ZhHh638Ijwj4DGk2nhufw9a6X9gsvs8OkTiNZtOSPbtW1kEMQeADy2ESAqdoxz%2Bo/s4/sHav8MLH4I6t8B/hHdeC9M1P%2B0dN8I3HhfS30u0vMOPtMVq0ZijlxLIPMVQ37x%2BfmOeN%2BN37R37dvwH%2BDHi/44%2BKv2UPhJdaX4M8L6hrupW2n/HXVGnmgtLaS4kSMP4YVS5WMhQzKMkZIHNdR/wAJx/wUL/6Nf%2BDP/h%2BNW/8AmXoA0G%2BAf7D7weFrV/gt8KTH4GkeTwTGfDmmbfD7vIsrNYjy/wDRCZFVyYtuWUN1ANal18Ov2U774rwfHm98CfD2bxzbW/kW3jOXS7FtWii2MnlrdlfOVdjMu0NjDEdCa5v/AITj/goX/wBGv/Bn/wAPxq3/AMy9H/Ccf8FC/wDo1/4M/wDh%2BNW/%2BZegD0m21fS9c8Y2txouowXcdvplys8ttKHVGeSAqCVyASEbj2rdrxn/AITj/goX/wBGv/Bn/wAPxq3/AMy9cv8AF39o79u34NeFLTxf4j/ZQ%2BElzb3nijRNCjjsvjrqjOJ9U1W10yBzu8MKNizXcbOc5CKxAY4UgH0dRXjP/Ccf8FC/%2BjX/AIM/%2BH41b/5l6P8AhOP%2BChf/AEa/8Gf/AA/Grf8AzL0AezUV4z/wnH/BQv8A6Nf%2BDP8A4fjVv/mXo/4Tj/goX/0a/wDBn/w/Grf/ADL0AezUV84%2BPv2jv27fh34r8EeENY/ZQ%2BEk1x488US6FpUlt8ddUKQTx6VqGpl5d3hgEJ5OnTKCoY73QYwSy9R/wnH/AAUL/wCjX/gz/wCH41b/AOZegD2aivGf%2BE4/4KF/9Gv/AAZ/8Pxq3/zL0f8ACcf8FC/%2BjX/gz/4fjVv/AJl6APZqK8Z/4Tj/AIKF/wDRr/wZ/wDD8at/8y9cvq37R37duj/GfQPgdcfsofCRtU8ReF9X12zuU%2BOuqeRHBp1zptvMjk%2BGNwdm1SAqApBCSZKkKGAPo6ivGf8AhOP%2BChf/AEa/8Gf/AA/Grf8AzL0f8Jx/wUL/AOjX/gz/AOH41b/5l6APZqK8Z/4Tj/goX/0a/wDBn/w/Grf/ADL0f8Jx/wAFC/8Ao1/4M/8Ah%2BNW/wDmXoA9mor5x0n9o79u3WPjPr/wOt/2UPhIuqeHfC%2Bka7eXL/HXVPIkg1G51K3hRCPDG4uraXOWBUAB48FiWC9R/wAJx/wUL/6Nf%2BDP/h%2BNW/8AmXoA9morxn/hOP8AgoX/ANGv/Bn/AMPxq3/zL0f8Jx/wUL/6Nf8Agz/4fjVv/mXoA9morxn/AITj/goX/wBGv/Bn/wAPxq3/AMy9cv4B/aO/bt%2BInivxv4Q0f9lD4SQ3HgPxRFoWqyXPx11QJPPJpWn6mHi2%2BGCSnk6jCpLBTvRxjADMAfR1FeM/8Jx/wUL/AOjX/gz/AOH41b/5l6P%2BE4/4KF/9Gv8AwZ/8Pxq3/wAy9AHs1eM/sv8A/Jb/ANo7/ss1j/6hXhej/hOP%2BChf/Rr/AMGf/D8at/8AMvVv9lb4c/GnwfrHxQ8d/HTQPC%2Bk6p4%2B%2BIUWuWeleE/Etzq1va2sWg6Ppiq9xcWVmzSNJp0rlRFtCyINzHOAD1uiiigAooooAKKKKACiiigAooooAKKKKACiiigAooooAKKKKACiiigAooooAK%2BV/wBp79rT4ufDD4x%2BLNa8A%2BHfB8nhj4P%2BH/D9741OtaRcTarqlvq9/KlzBYXEdxGll5FtZx3GZIpxcyFIyIfL80/VFeM/Gf8AYh%2BHHxu%2BKR%2BJmueOfFWlxaja6Ra%2BL/DWjXVqmneKYNLvZL2xivllt5Jgsc00ufs8sBljkMUxljCoAD2aiiigAooooA%2BY/Dn7SvxMh/b/APFHwf8AiNrHh7wn4bXxBaaJ4Mi1H4Rayl14xgGgQajiDxG12unNLHd3OoAWgheTy7SYBQWaRfpyvK/Fn7LUHj/4yaR8U/Hvxv8AGur6V4e12PWtA8AXB0yLRrHUI7d4I5w0Nkl7Ls8ySRUmupIxI%2B7Z8iBfVKACiiigDxf/AIKC/F344fs/fsj%2BNPj18Ar3wpHrHgnQrvXLqDxhotzfW13aWttLM9uiW11bMkrsiKJC5VAWJR%2BBXn/jz9rT4ueC/jx4t1Pwp4d8IRfDzwh8Y/CPw%2B8ZWc2kXB1vVdV12DRUj1CG7S4WGOOD%2B3NJjMUlvK8iQz4lj2oK9h/ax/Zxsv2tPgRr37PutfFXxT4R0nxPZS2OuX/hBdO%2B13NlLE8U1tuv7S6jRHV%2BWRFkBUbXXnPFwfsA%2BDp/iLZ/EXxV8cfH2usdZ0nXPE2jahLpUVj4n1zTEjSx1a9jtrCJluIhBaYW2aCBjY2xeJjHkgHvdFFFABXi/wC2T8Xfjh8ErXwD4x%2BFl74U/sbUPiZ4c8PeL7HxBotzc3Vza6rrNjpoNnLDdQpbSRrcyyb5EnUlEXZyTXtFeVftXfstv%2B1V4b0LwvP8ffG/ga30LxJYa6jeC4dHZ7u9sbyC8s2lOpafeDbFcW8bhYwgblZN6naADzj9nn9pX4ma3%2B1V4t%2BCPxQ1fw94T06HxTrdv4J8JSfCLWdMudetoXSU39vrVxd/YNQdjJNLLFbQF%2BS7FcMT9OV5LpP7KIf4yaL8ZfiP%2B0B478azeF7u8u/CeheIRpMNho91c28lrJcRLYafbSyv9nmnhXz5JVRZ32gEgj1qgAooooA8P/bu%2BLnx4/Z%2B%2BDWr/HX4UeMfAtjp/hbRbm8vdF8WeGb2/ufEN7lFs9Ms5La9g%2BzzXEpFujeVdM0s8QWFj8ref/BH9r74z658S/BX9reDPCWkfDTxv8T/ABR8NvCvhrTtLmj1fRL/AECHVt889yLhreaCRvD%2BposMdvEY1a2PmSZYD0/9pX9kGD9pLx54I%2BIE37QPjvwhc%2BAbu5vdFsfDEWjT2cl7KgjW8mg1PTrxHnhj8xYZAFMYnlI%2BZsir4D/Ya%2BHvgP4y2/xdh%2BIvi7UoNO13U9e0TwhqVzZf2TpWt6jG8eoapAkVqk/nzie7LK8zwo19cmOKPzOAD2uiiigAr5f/AGufjx%2B0v8FviJp/hTSofAHjXR/HMOtW2i/DmLwffSawlraaHdXcl/cTi9eK6thdRW9tJCLWIH7fCgmMjIkn1BXh037E1xH%2B0f4r/aa0T9qv4l6dq/i3TYdOudLhg8Pz2mn2cMDRw21m1zpMtzbxLK73WxZtrzuXcODtoAZ%2Bwh%2B0H43%2BPfw9vLr4r%2BPtGvvF2nCzbX/Ddl8LtX8I3mgPPbLKILmy1e6nuHBbf5dwAkciodobaTXuleb/AAO/Zu074M%2BJ/EnxD1j4peKfHHirxXFY2%2BseJ/FzWC3L2lmJvstqkWn2trbRxRtc3LjbCGZriQszZGPSKACiiigD45/4KCftx/FT9jDxz/aeuaLoHjHwi%2Bjajrdv4Vl%2BHOp2Utumm6Nfakkn/CRTXT6ZPd/a9NGyxWBLoRzLKBthaRvXv2aPi78c9W%2BKnjf9nr9o658Kah4n8I6ToetR614K0i5sLG5sdUF5GkRgubm5dZYrjTrtS/m4kQxNsjJKit8df2EvBH7TmtXVr8f/AIt%2BNfFHgu5kuJF%2BGV5JpsOixSTWM1kzb7eyjvpAI7iZgkt06B33bfkQL0/7Pn7M2kfAO817xFd/FDxZ448R%2BJDZx6t4q8a3Fm99LbWkRitbUfY7a3hWKIPKwxHvZ55XdnZyaAPSqKKKACviP9qf9sr9rP4N/GrxB8KPB3hvw5411Ow0W413wwE%2BB/iCOTRQNR0y1Qwt9uceJpBY6pced/ZflPC0JWURiYR19uV4fr37Fup%2BJfHp%2BJ2tftc/FGbW9PgvIvBt4U0ADwqt1NDJP9kjGk7J2aOBbfderdMsTOFKu7OQDqv2WPiw/wAZPhHB4svfiZo3iq/h1G6stUvtG8GX3h0W1xFKytazabqFxPdWc8YwrxzOHz821QwFejVw3wD%2BAvh74AeGdT0bSvFOt%2BINR1/XrjW/EniTxHNA17qt/MERp5RbxQwJiOKGJUhijjVIkAUYJPc0AFFFFABRRRQAUUUUAFFFFAFHxR4hsPCXhrUfFeqhza6ZYzXdyIly3lxoXbA7nCmvnP8AYm/aT%2BNfj/xTo/gz42eHvBlmPHXwtsviN4Zh8GaVcWg0yO8uCbvT7szXEou5o3ubZ/tiCATtLMTBHtBf6Wu7S1v7WWxvbdJoZo2jmilUMrqRgqQeCCOMV5D%2BzN%2BxX4C/Zg1V9X0D4g%2BLfEstt4YsfDPh0eLL21mGgaFZvI9vptqbe3hLRqZPmlnM1xII4vMmfy1wAexUUUUAFcL%2B1B48%2BIvws/Zo%2BInxO%2BD/AIUXXvFvhzwLq%2BqeFtDaxmuhqOo29nLLbWxhgZZZhJKiJ5cbB23YUgkGu6rO8W6Jf%2BJfDGoeH9L8V6joVze2kkNvrWkLA11YuykCaIXEUsRdTyBJG6ZHzKwyCAeXfsU/Fqf4ofDO%2BstW%2BIXh/WdT8O6qunXmmaJ8MNT8HPoaC2gkis7jStUuZ7mFwjiRXby0eKWLYmBvf2KvPPgP%2BztpPwOvPEviO5%2BIniTxj4k8X6jDeeIvFPit7MXd0YbdLeCIR2NtbW0UUcaAKscKZLOzFmZmPodABRRRQB8uftUftY/FD9nD4veOLL4laN4S8RfC%2Bw/Z38X%2BPbbQrfRLhNVdtEGlrPbXFzJcvbzRTrfTgILZCoRMu%2BWFdv8Asz/F/wCPmqfFzxl%2Bzr%2B0s/hK88UeGPDHh7xLHqvgrSbmxspLLVn1K3W2MNzc3LmWG40i7BlEgWRHiby4zuWoPjH%2Bwr4d%2BOnx1b4y%2BPPjt45l02bwVqfhG%2B%2BHsMGi/wBiXejaktt9vtJC%2BmtekTtaQOzi6DqUIRkRmQ9J%2Bzv%2By7of7Pt9rXiOf4oeLfG/iHX7Wwsr/wAT%2BNrm0kvTYWKSLZ2Y%2ByW1vH5URnuHBKGR3uZXd3Zs0Aen0UUUAFfInxr/AGl/2tvBmu/tAeBLfwr4M8WXvgLw/wCFPEnw2sdJ%2BH%2Bp386x6jqupQhLy1ivHl1GeBdNjnU2wtyXJCr8qtX13Xhcv7FHiGL46eNvj/oX7aHxW0rVvG%2BkWOmXNjZWfhhrTTbayuLmezS2EuivJ%2B6N5dKDM8pdZyJPMKoVAOr/AGVPi3N8ZfhSPE2o/E7RvFOo2uq3Njq11o/gi/8ADZs7iJvmtZ9M1G4nurSdFK7kmYMQyttVWFek1wnwD%2BAegfAHQtZsdP8AFuueI9V8TeIJdc8T%2BJvEktu17qt/JDDB5sgtoYYIwsFvbwqkUUaKkKALnJPd0AFFFFAHxt%2B0t%2B13%2B0t%2Bzx8ZoPhtrKfDPxrfa3BBN4Rh07wte2kvgu81LxDpnh7SJtTle%2BmF1FO2rzgtEtnI4sbpYwy%2BYYvcf2Vfi/8AEj4jDx/8PvjEdEn8VfDTx43hrWdV8NadNZ2Gp%2BZpenatb3ENvNPPJb5tdUt0eNppcSRyYYgjHC23/BNXwk118Q38Q/tL/E7Wbf4k68dc1i31I6F5lnqUVxDPp9zbXUWlpdKbB7e3FpG80kUSwoGR%2Bc%2BsfAP4C6H8A/D2rabZeL9c8Sat4i16bWvE/ijxK9sb/V76SOKHzphawQQLsggt4ESKKNFjgjULwSQDuqKKKAGXP2n7NJ9j2edsPlebnbuxxnHOM18QfFb9rn9tP4afETXPhtb23gPxnr3hi98NW%2BreOvBHwV1/Vo/DlvqzXj3thLpVnqU93czRw2VjdExTp%2B7uoWlgQGJpPt67hkuLWW3hupIHkjZVniCl4yRgMu4FcjqMgj1Br57%2BDH7AXiD4CfDa4%2BGnw7/bq%2BMUUd1qz6nNrN5ZeE59Qlu5XlkuZ5pn0I/aZJ3l3SSTiR8xpsKAYIB6z8BPiHZfFb4O%2BH/iFYfEDRvFSanp4kfX/D%2BkzWFpdyAlZClrPNNLbFXVkaGSR3jZWVjuUgdfXJfAv4L%2BEv2ffhfp3wp8FXN/cWVhLdXE19qtyJrq%2Bu7q5lurq6mcKoaWa4nmlfaqrukO1VXCjraACqPieHxJc%2BG9Qt/Bup2Nlq8llKul3mp2D3VtBcFCI5JYY5YmmjVsFkWSMsAQHUncL1ZvjHQb/wAUeFr/AMO6X4t1LQbm8tXig1rRxAbqxcjiaIXEUsRdTyBJG6HHzKwyKAPh74b/ALdn7Wvxg%2BKet/BL4Wab8Pk8Z6ba67fSeM/Ffwu1rQ11TTNItdFlSxl0S8vk1DT5Xu/EOxJp5nj8qGS4SF1nQH7G%2BAXxa034%2BfAnwV8ddG02Wzs/GvhLTdetLOZ9zwRXlrHcLGxAGSokAJ9RXi2r/wDBMjwPrWuX3xFu/wBpT4pp8QNWS8tda%2BJNte6RDq1/pl1bWttNphRNNFnDbFLK0YeRbRSrJAsqyhyzH6D8F%2BD/AA18PPB2k%2BAPBmkxafo%2Bh6ZBp%2Bk2EOdltbQxrHFGuecKiqo%2BlAGnRRRQBy/xp1Hxxo3wt1rW/hz4hsdL1awszdQ32oeD73xAiRxkPKBp1jPBc3kjRK6pFDIHLsuFc/I3xb8Jf%2BCiPx%2B8SeNND1PxvceEfAngzUp518QeOLz4GeIprbWL%2BHX7rSES5lW%2BjTwzPJa2lr%2B41RpJYHlWN87AlfbfxM8Ga7498JTeHPDfxS1/wbeSSxvFr/hmKxe7g2sCVVb%2B2uYGDAFSHibgnGDgjxW6/wCCc3hTUPB9x8NtW/aQ%2BJt34Y1zUJr/AMeaBNcaOIvGF3PeNdXE19Kumi4i80ssLR2ctrEIYkjVFG7cAfRNFFFABRRRQAUUUUAFFFFABRRRQAUUUUAFFFFABRRRQAUUUUAFFFFABRRRQAUUUUAFFFFABRRRQAUUUUAFFFFABRRRQAUUUUAFFFFABRRRQAUUUUAFFFFABRRRQAUUUUAFFFFABRRRQAUUUUAFFFFABRRRQAUUUUAFFFFABRRRQAUUUUAFFFFABRRRQAUUUUAFFFFABRRRQAUUUUAFFFFABRRRQAUUUUAFFFFABRRRQAUUUUAFFFFABRRRQAUUUUAFFFFABRRRQAUUUUAFFFFABRRRQAUUUUAFFFFABRRRQAUUUUAFFFFABRRRQAUUUUAFFFFAH//Z\">"
      ]
     },
     "metadata": {},
     "output_type": "display_data"
    }
   ],
   "source": [
    "s.run(tf.global_variables_initializer())\n",
    "\n",
    "BATCH_SIZE = 512\n",
    "EPOCHS = 40\n",
    "\n",
    "# for logging the progress right here in Jupyter (for those who don't have TensorBoard)\n",
    "simpleTrainingCurves = matplotlib_utils.SimpleTrainingCurves(\"cross-entropy\", \"accuracy\")\n",
    "\n",
    "for epoch in range(EPOCHS):  # we finish an epoch when we've looked at all training samples\n",
    "    \n",
    "    batch_losses = []\n",
    "    for batch_start in range(0, X_train_flat.shape[0], BATCH_SIZE):  # data is already shuffled\n",
    "        # Идем по батчам: раз в батч считаем лосс и делаем шаг: step\n",
    "        _, batch_loss = s.run([step, loss], {input_X: X_train_flat[batch_start:batch_start+BATCH_SIZE], \n",
    "                                             input_y: y_train_oh[batch_start:batch_start+BATCH_SIZE]})\n",
    "        # collect batch losses, this is almost free as we need a forward pass for backprop anyway\n",
    "        batch_losses.append(batch_loss)\n",
    "\n",
    "    train_loss = np.mean(batch_losses) # постепенно берем среднее по всем (!) лоссам, чтобы функция была гладкой \n",
    "    val_loss = s.run(loss, {input_X: X_val_flat, input_y: y_val_oh})  # this part is usually small\n",
    "    train_accuracy = accuracy_score(y_train, s.run(classes, {input_X: X_train_flat}))  # this is slow and usually skipped\n",
    "    valid_accuracy = accuracy_score(y_val, s.run(classes, {input_X: X_val_flat}))  \n",
    "    simpleTrainingCurves.add(train_loss, val_loss, train_accuracy, valid_accuracy)"
   ]
  },
  {
   "cell_type": "markdown",
   "metadata": {},
   "source": [
    "# Submit a linear model"
   ]
  },
  {
   "cell_type": "code",
   "execution_count": 21,
   "metadata": {
    "collapsed": false
   },
   "outputs": [],
   "source": [
    "## GRADED PART, DO NOT CHANGE!\n",
    "# Testing shapes \n",
    "grader.set_answer(\"9XaAS\", grading_utils.get_tensors_shapes_string([W, b, input_X, input_y, logits, probas, classes]))\n",
    "# Validation loss\n",
    "grader.set_answer(\"vmogZ\", s.run(loss, {input_X: X_val_flat, input_y: y_val_oh}))\n",
    "# Validation accuracy\n",
    "grader.set_answer(\"RMv95\", accuracy_score(y_val, s.run(classes, {input_X: X_val_flat})))"
   ]
  },
  {
   "cell_type": "code",
   "execution_count": 24,
   "metadata": {
    "collapsed": false
   },
   "outputs": [
    {
     "name": "stdout",
     "output_type": "stream",
     "text": [
      "Submitted to Coursera platform. See results on assignment page!\n"
     ]
    }
   ],
   "source": [
    "# you can make submission with answers so far to check yourself at this stage\n",
    "grader.submit(COURSERA_EMAIL, COURSERA_TOKEN)"
   ]
  },
  {
   "cell_type": "markdown",
   "metadata": {},
   "source": [
    "# MLP with hidden layers"
   ]
  },
  {
   "cell_type": "markdown",
   "metadata": {},
   "source": [
    "Previously we've coded a dense layer with matrix multiplication by hand. \n",
    "But this is not convenient, you have to create a lot of variables and your code becomes a mess. \n",
    "In TensorFlow there's an easier way to make a dense layer:\n",
    "```python\n",
    "hidden1 = tf.layers.dense(inputs, 256, activation=tf.nn.sigmoid)\n",
    "```\n",
    "\n",
    "That will create all the necessary variables automatically.\n",
    "Here you can also choose an activation function (remember that we need it for a hidden layer!).\n",
    "\n",
    "Now define the MLP with 2 hidden layers and restart training with the cell above.\n",
    "\n",
    "You're aiming for ~0.97 validation accuracy here."
   ]
  },
  {
   "cell_type": "code",
   "execution_count": 25,
   "metadata": {
    "collapsed": false
   },
   "outputs": [],
   "source": [
    "# write the code here to get a new `step` operation and then run the cell with training loop above.\n",
    "# name your variables in the same way (e.g. logits, probas, classes, etc) for safety.\n",
    "### YOUR CODE HERE ###\n",
    "#hidden1 = tf.layers.dense(inputs, 256, activation=tf.nn.sigmoid)\n",
    "#hidden1 = tf.layers.dense(inputs, 256, activation=tf.nn.sigmoid)\n",
    "\n",
    "logits_temp_1 = tf.layers.dense(inputs=input_X, units=256, activation=tf.nn.sigmoid)\n",
    "logits_temp_2 = tf.layers.dense(inputs=logits_temp_1, units=256, activation=tf.nn.sigmoid)\n",
    "logits = tf.layers.dense(inputs=logits_temp_2, units=10)"
   ]
  },
  {
   "cell_type": "markdown",
   "metadata": {
    "collapsed": false
   },
   "source": [
    "Далее идет просто копипаста ячеек, которое были выше, просто заменили переменную logits:"
   ]
  },
  {
   "cell_type": "code",
   "execution_count": 27,
   "metadata": {
    "collapsed": false
   },
   "outputs": [],
   "source": [
    "# Compute predictions\n",
    "#logits = input_X @ W + b ### YOUR CODE HERE ### logits for input_X, resulting shape should be [input_X.shape[0], 10]\n",
    "probas =  tf.nn.softmax(logits) ### YOUR CODE HERE ### apply tf.nn.softmax to logits\n",
    "classes = tf.argmax(probas, axis=1) ### YOUR CODE HERE ### apply tf.argmax to find a class index with highest probability\n",
    "\n",
    "# Loss should be a scalar number: average loss over all the objects with tf.reduce_mean().\n",
    "# Use tf.nn.softmax_cross_entropy_with_logits on top of one-hot encoded input_y and logits.\n",
    "# It is identical to calculating cross-entropy on top of probas, but is more numerically friendly (read the docs).\n",
    "\n",
    "# softmax_cross_entropy_with_logits - считает кросс энтропию. Но так как loss - это скаляр (число), то нам нужно \n",
    "# взять какую-то аггрегационную функцию. Например, среднее. Поэтому тут берется tf.reduce_mean \n",
    "loss = tf.reduce_mean(tf.nn.softmax_cross_entropy_with_logits(labels=input_y, logits=logits)) ### YOUR CODE HERE ### cross-entropy loss\n",
    "\n",
    "# Use a default tf.train.AdamOptimizer to get an SGD step\n",
    "step = tf.train.AdamOptimizer().minimize(loss) ### YOUR CODE HERE ### optimizer step that minimizes the loss"
   ]
  },
  {
   "cell_type": "code",
   "execution_count": 28,
   "metadata": {
    "collapsed": false
   },
   "outputs": [
    {
     "data": {
      "text/plain": [
       "TensorShape([Dimension(None), Dimension(10)])"
      ]
     },
     "execution_count": 28,
     "metadata": {},
     "output_type": "execute_result"
    }
   ],
   "source": [
    "probas.shape"
   ]
  },
  {
   "cell_type": "code",
   "execution_count": 29,
   "metadata": {
    "collapsed": false
   },
   "outputs": [
    {
     "data": {
      "text/html": [
       "<img src=\"data:image/jpeg;base64,/9j/4AAQSkZJRgABAQEASABIAAD/2wBDAAIBAQEBAQIBAQECAgICAgQDAgICAgUEBAMEBgUGBgYFBgYGBwkIBgcJBwYGCAsICQoKCgoKBggLDAsKDAkKCgr/2wBDAQICAgICAgUDAwUKBwYHCgoKCgoKCgoKCgoKCgoKCgoKCgoKCgoKCgoKCgoKCgoKCgoKCgoKCgoKCgoKCgoKCgr/wAARCAEgA2ADASIAAhEBAxEB/8QAHwAAAQUBAQEBAQEAAAAAAAAAAAECAwQFBgcICQoL/8QAtRAAAgEDAwIEAwUFBAQAAAF9AQIDAAQRBRIhMUEGE1FhByJxFDKBkaEII0KxwRVS0fAkM2JyggkKFhcYGRolJicoKSo0NTY3ODk6Q0RFRkdISUpTVFVWV1hZWmNkZWZnaGlqc3R1dnd4eXqDhIWGh4iJipKTlJWWl5iZmqKjpKWmp6ipqrKztLW2t7i5usLDxMXGx8jJytLT1NXW19jZ2uHi4%2BTl5ufo6erx8vP09fb3%2BPn6/8QAHwEAAwEBAQEBAQEBAQAAAAAAAAECAwQFBgcICQoL/8QAtREAAgECBAQDBAcFBAQAAQJ3AAECAxEEBSExBhJBUQdhcRMiMoEIFEKRobHBCSMzUvAVYnLRChYkNOEl8RcYGRomJygpKjU2Nzg5OkNERUZHSElKU1RVVldYWVpjZGVmZ2hpanN0dXZ3eHl6goOEhYaHiImKkpOUlZaXmJmaoqOkpaanqKmqsrO0tba3uLm6wsPExcbHyMnK0tPU1dbX2Nna4uPk5ebn6Onq8vP09fb3%2BPn6/9oADAMBAAIRAxEAPwD9/KKKKACiiigAooooAKKKKACiiigAooooAKKKKACiiigAooooAKKKKACiiigAooooAKKKKACiiigAooooAKKKKACiiigAooooAKKKKACiiigAooooAKKKKACiiigAooooAKKKKACiiigAooooAKKKKACiiigAooooAKKKKACiiigAooooAKKKKACiiigAooooAKKKKACiiigAooooAKKKKACiiigAooooAKKKKACiiigAooooAKKKKACiiigAooooAKKKKACiiigAooooAKKKKACiiigAooooAKKKKACiiigAooooAKKKKACiiigAooooAKKKKACiiigAooooAKKKKACiiigAooooAKKKKACvPfjt%2B1J8FP2b5NGsfil4g1Maj4ilnTQNB8OeF9R1zVNR8lVed4bHTbee5kjiVkMkixlI96biu5c%2BhV4N%2B0P8D/j5/wANJ%2BDv2tv2bLLwfrWueH/B2seFNX8KeOdcutLtLywv7mwuxcQXtraXj288U2noCpt3WVJSCUKK1ABpf/BTL9izWLvxPb2nxXv0h8FWsk/jLUrvwXrEFjoIS0iu9l5dy2iwWsrQzRskMjrJIWKorMrKL2n/APBQ/wDZK1HwBrXxFTx/q9vB4f1ay0vVdE1DwNrNrrkV5ebfscC6PNaLqEr3AYGER27eaAxTcFYjy2b9gH4y%2BMf2a/jn8NfGHinwppHin4o/FS38daHc6U1xeWFpeW0OiywQ3IkihkkiN3pRRwoyYHGDuJVaPi79i/8AaV%2BLmr/Ef45fG34S/CjWvFnjWx8KaPp/gKy%2BI2s2Wm6fY6Hcaldw3qa7b6al5DqDXOqTOksVoPJSKNFZiWcgHsviH9vv9mzwv4a8OeI9XvvG3meK0v5NE8P2vwm8SXGuSRWUscV3NJpMWntf28MLzQq8s0CIpmiy37xM%2Bmaz8RPBHhv4e3XxX8T%2BJbbSvDljo76rf6vqrfZYbSySIzPPMZdvlKsYLNvxtAOcYNfGHin9hH9s/WPgX4X8Nay3hfxV470a58RHRfGV/wDHbxNpGr%2BCLW%2BuUktLO11q1sJLzXIYkjhEy3qw/aTbReYCFGPUfjR/wTotfj1%2Bzb4n%2BHHxD%2BOfjW78d%2BMPhfH4Z17xS3jbWho818tpDE2oJoS3y2FuzzQLK3kRRSEPIBIrSM5AOkg/4KUfsZf8K58V/FbWPite6Jo3giysr7xQ/ifwdq%2Bk3NlZXkxhtb37LeWsVxJaSyK6pcxxtC3luQ%2BEYjj/AI3f8FZP2d/hn8ENU%2BMfgPRfFXiqbQfiD4X8L674Y/4QXXbHU7A6zqVrax3T2cmnNdeV5Fw88DeT5d48aW8MhknjB8r1T/gmJ8ZPHfwq8faR4i8DeG9G8Y%2BI9D0fR7DxDqv7RfjPxut3aWusW%2BoTRyf27AfsEZ8likUSzHe%2BGkxknv8A9qH9gz40/GD4g/F/4g%2BBfEPheOTxfB8LbzwlZ6tfXMSvf%2BE/EdzrUsN40dvJ5ENwGt4VljEzrl2MfyKrgHqFh/wUE/Zb1H4m2XwZh8T%2BJo/Fd5oun6xLoF38N9egudO0%2B9adILu/SSyU6dDut5VeS68pYiFEhQum6j4a/wCCmH7FPi3wZ4s%2BIWkfGC4TR/Bfgi68Zaxe6h4S1W0Fx4et0Z5tWsVntUbVLNVQ4nsxPGxZArEugbB0P9kP4ofEP4mfG74g/G9fD2gxfGj4O%2BHfCF1Y%2BE9duNRl0u4tE11Ltlnns7XzYwNViMT7FZikm6OPA3fN37Y37Kn7UOj/ALDHxS%2BJv7TF34AtIfhD%2BxT8QfBHhePwFqF5cNrzXukWxn1G6W5toBYqE0i3CWcbXAVppCZ22oKAPrPw9/wUl/Yy8TaHrHiPT/i1dQWehppU1/JqnhLVbJmtNSu1s7HUIUuLVGubCWdgovoQ9qoDO0qorMPT9E%2BLvw88R/FLX/gvofiH7T4k8LaXp%2Boa/YR2k22zgvmuBa7pinlF3%2ByzHy1cyKoRmVVkjLfJOofsz%2BIPFegeKfjb/wAFIvF/wz8J%2BBbf9nu5%2BHUlx4f8QTLay6beyQyXmq3k17BbpYOTBbCG2QzCAmT/AEiQsuOw/wCCPngP4u2f7I9r8f8A9pDUDf8AxJ%2BL15H4n8V6g9nJbtJCLSCy01fKl%2BeH/iX2lpI0TYKSzTZAYtkA%2BqqKKKACiiigAooooAKKKKACiiigAooooAKKKKACiiigAooooAKKKKACiiigAooooAKKKKACiiigAooooAKKKKACiiigAooooAK8R0j/AIKMfse6ld69Z6n8Urzw83hzw5c%2BINQk8a%2BEdV0GObSbd0jnv7WTUrWBb63R5IlaW2MqAyxjOXXPtN7FczWcsNndCCZ4mWKYx7/LYjhtp64POO9fmJq//BHL9uX4v6t4X1z43fHHQ31vw14P1Cz1DxRqHxW8TeJx4h1v7ZpV9a6idLvoobLSbaS50xfPsLIBRHJtWWQKgUA%2B2X/b/wD2YbX4aN8WNY8QeKtK0ttcg0axs9c%2BGWv2GqanfzIZIYLLTbixS9v2kQM6/Z4ZAyo7AkIxHReA/wBqz4H/ABH1%2By8J%2BHPEOqQ6vf8AhSfxJDpGteFdS0y7TTYbv7JLLLDeW8UkDrP8hhkVZe%2BzbzXk3xO%2BDn7bvxib4e/G3XPBvwq0P4h/Cjx1NrHh/wAM2vjjUr/Rdcs7jSbvTLmO4vn0qGaxmKXskkbpa3AjMQU%2BYJGxV%2BJPwG/bg1/4y%2BHf2mvA%2BjfCu08WX3ww1XwX4x0LUvFepSWGkLcX8N1a39lcJpwk1AxCN1kt5YrQSlxiWLHIB3Gk/wDBRv8AZA8R694F8LeFfiNqus6n8SfBuleLfBunaJ4H1m9nvND1F9lrqMiQWjNa2%2B7HmSTiNbcMpm8oMCdj4a/tufs3fFf4jXPwn8M%2BL9Ws9ft9LudThsvE/gzVtEW/sbeRI57uyl1G1gjv4I3liDy2zSIvmISQGUnyj9hT9hL4sfsw6/8ADjWfHniDw1dnwd%2Byl4R%2BGN%2B%2BkXM8rNq2lvM1zNF5kEe61bemxmKu235o0wK8a%2BGn/BKv9sbxP8UfC/ib9qb4w2eqRaf4A8V%2BF/GniaD4v%2BJNavPEUur2KW39p2umX0Men6EcqWNpaKUXKgTOI1WgD6l8J/8ABRf9kfxrosfirQfHeuf2Hcarpen6f4lvfh/rdrpWoy6lex2VlJaX09mlteQS3M0UYuIJHhBlQs4VgT6X4W%2BLvw88a/EDxT8LvC/iH7XrnguSzj8T2iWkwWxkuoPtEEZlZBG7tCVkKIzMiyRlgokTd8w%2BOPAnxF8K/wDBPbxp8CP%2BChnif4VeCPAWg/DSLQLb4meHfFt2GadI0trXUntLqzgTTZlmFvJDBHcXTGcoiOTtDdr/AMEr/h98WPDf7ImlfFX9oqwS3%2BJ3xYvpfHXxEhW3aL7Pf36xmG02N8yfZbGOys9pyQLXBoA%2BjaKKKACiiigAooooAKKKKACiiigAooooAKKKKACiiigAooooAKKKKACiiigAooooAKKKKACiiigAooooAKKKKACiiigAooooAKK5j40aH4t8R/C3W9I8C/ErUvB%2BqyWZe08R6RZWlxc2RRg7GOO8hmgZmVWT95G4G/OCQK88/Zo8WfEr4%2B/8E%2Bfhn8QvEnxau9E8VeLvhRoGraz4zsNPsfPhu7jT7ee5uUhmha1RizSEBojEu77hA20Ae1V4v8evH/7Rf/DRfgX4EfAXxn4K8Ppr/grxLr2r6n4v8F3etEnTrvQ7eGGGO31Kx8sN/akrMzM%2BfLQALyTW/YI%2BI3xI%2BKXwt1/xX4v8fah4w8ON4zu4vhp431jTbW0vfEegLBbhL6WOzhggZWu/tqwyxQxpPax20wU%2BbvbnNa%2BMvhrxL/wVS%2BH3w20zS9fhutJ%2BDPj5L241XwnqNhbSyf2t4PK/Zbm5gjgvl2h9zW7yqmF3Fd65TaW5cISqO0ezf3as67/hB/8AgoX/ANHQfBn/AMMPq3/zUUf8IP8A8FC/%2BjoPgz/4YfVv/mor2aimQeM/8IP/AMFC/wDo6D4M/wDhh9W/%2Baij/hB/%2BChf/R0HwZ/8MPq3/wA1FezUUAeM/wDCD/8ABQv/AKOg%2BDP/AIYfVv8A5qKP%2BEH/AOChf/R0HwZ/8MPq3/zUV7NRQB4z/wAIP/wUL/6Og%2BDP/hh9W/8Amoo/4Qf/AIKF/wDR0HwZ/wDDD6t/81FezUUAeM/8IP8A8FC/%2BjoPgz/4YfVv/moo/wCEH/4KF/8AR0HwZ/8ADD6t/wDNRXs1FAHjP/CD/wDBQv8A6Og%2BDP8A4YfVv/moo/4Qf/goX/0dB8Gf/DD6t/8ANRXs1FAHjP8Awg//AAUL/wCjoPgz/wCGH1b/AOaij/hB/wDgoX/0dB8Gf/DD6t/81FezV598QPH/AMDPhoNT8YfH3xx4U8P6edai0%2By1LxhqltaQeYbSOVYI5LllXeQJX2g5IVjjg4mc4U4uU2kl1bsvvdkbYfD4jF140aEJTnJ2UYpyk32UYqUm9Hok3psc1/wg/wDwUL/6Og%2BDP/hh9W/%2Baij/AIQf/goX/wBHQfBn/wAMPq3/AM1FV/8Ahr//AIJwf9HRfBH/AMLbR/8A47R/w1//AME4P%2Bjovgj/AOFto/8A8drm%2Bv4D/n9D/wADh/8AJHtf6pcWf9C7Ef8AhPX/APlBY/4Qf/goX/0dB8Gf/DD6t/8ANRR/wg//AAUL/wCjoPgz/wCGH1b/AOaiuw%2BGniT9nL40aFL4p%2BDuv%2BCfFmmW921rPqPhq6s7%2BCOdVV2iaSAsocK6MVJyA6nGCK8n%2BIP7bP7J3wh%2BNfxE%2BEXxY8D6hodp8NPA2neKfEPi2T4f39xpUVlci%2BZi1zBaPFH5aWROWf8AeM7Rx7nhlVemE4VIqUGmn1TuvvV0eLiMPiMJXlRrwlCcXZxknGSfZxkoyT1WjSeux1H/AAg//BQv/o6D4M/%2BGH1b/wCaij/hB/8AgoX/ANHQfBn/AMMPq3/zUVE37Tf7KFtN4bj1jwnr2lQ%2BK7iG30i/1z4P63YWizTXr2VvHc3NxYJDZPNcKEiW4eJpfNhZAyzRM/M67%2B3T%2BxT4CtCfiTNY292174rWG18N%2BB9W1giz8P6qdN1G6lFvpu%2BFIJWiEzMvlIXYpLNEonajE6v/AIQf/goX/wBHQfBn/wAMPq3/AM1FH/CD/wDBQv8A6Og%2BDP8A4YfVv/morvtAj%2BDHiu4ntPC8fhjUZraGCa5hsVt5XhjnTzIXdVyVEifMpONy8jIrw/8AZ%2B/aq0T40fFLRvC%2Bufs3aJofhjxzpuu6h8M/EkOqpdz6tb6Vew2sxu7U2kYsWmSeO5gVJbjdCH8wwuojIB2X/CD/APBQv/o6D4M/%2BGH1b/5qKP8AhB/%2BChf/AEdB8Gf/AAw%2Brf8AzUVxviz9qrRPDXx41HwPb/s3aHc%2BBPD3xE0XwH4n8atqqR3lpr%2Bq2lncWiRaf9kKz2udS02F5zcoyyXRAicRO1bfwh%2BK/i34k6/8YPAWsfss%2BEtL8SfDXU47XQtPtvE63MGuifT0vLRppzYR/YmfzER1CTiPJIaTGKANf/hB/wDgoX/0dB8Gf/DD6t/81FH/AAg//BQv/o6D4M/%2BGH1b/wCaivONC/a8u/EnwF%2BGnjfTP2V/CEfjn4m/EPVPBuneF7zxWItIs7/Tzq7TvLqn9nGUxGLRrgx7bMu7yxJsUFnXD%2BIP/BQnwL4U/Zp8J/tU6B8Fvhre6DrrXVnd6HqPj%2BO01m%2B1a1u5LSfStCtk06WPW7ozQTpCglt/OIjxtD5UA9j/AOEH/wCChf8A0dB8Gf8Aww%2Brf/NRR/wg/wDwUL/6Og%2BDP/hh9W/%2BaiuDj/bD8GR/tCr8M9W%2BA3hiy8Iz/FN/hzaeJp9di/tOTxAulHUgDpn2TC2ropjWX7SZSzI/kCJvNHD/AA6/4KN%2BHPHP7GXxH/bHPwR%2BD89p4E8Mzaqvhjw58Vk1G%2Bhkj80/ZdVH9kxjSXKxg/8ALwRl/l%2BTLAHun/CD/wDBQv8A6Og%2BDP8A4YfVv/moo/4Qf/goX/0dB8Gf/DD6t/8ANRXlnxH/AG4PCPwx/Z48I/HHW/AvwIuYPGHjJ9Dt/Eth8Xkk8F6bGtrdTi5vdfOkgQB3tWtlUWrBriaGPfl8ra1j9rjxHpvwA8E/tXR/sceGo/AXiHRtCvNeOo%2BKVt9ZsptSvI7VILKyGnNHf486F0L3Fs0wlVUTedtAHpP/AAg//BQv/o6D4M/%2BGH1b/wCaij/hB/8AgoX/ANHQfBn/AMMPq3/zUV5/c/tm%2BDNH%2BK8ll4m/Z50Ox%2BGjeOdX8G2Xj0amkl2%2Bs6Zpt1fXRk04WgEdmPsF7brOLh5GmgUGFUkV64rX/wDgoungX4Maz8TPid%2ByH4Q8N6gvhPwv4q8LafqnjeNbK60fW9Vj05ZNQvP7Oxp09o0qSXMaR3MSK6eXNL85QA91/wCEH/4KF/8AR0HwZ/8ADD6t/wDNRR/wg/8AwUL/AOjoPgz/AOGH1b/5qK4X4m/tP2vw2/ZR0v8Aaju/Bv7Oz6bcCeXUtSufjUINAaIM4gWx1X%2BxmF9NLswIzDCA%2B5Q74BPI%2BM/%2BCjHgPwv8aPBHwmP7M2hWNx4w07wndx6D4q12LTPE9yNcuDCw03SDZyf2iNPAMl8ftEP2dI5ThtnzAHtH/CD/APBQv/o6D4M/%2BGH1b/5qKP8AhB/%2BChf/AEdB8Gf/AAw%2Brf8AzUVzEH7Ql3pPxA%2BOPgfx9%2BzF4Z04fCXwbZ%2BKNDudP8QLdt4g0%2B6/tcRecjWMYsJSdJclFa4AE6ndlStcJpH7ffhW4/YwX9r3UvhV8Frq0uta0nT4H8LfFdNS0TSPtskCPLrOqHSohpiW5nHnEQTbAFz97gA9i/4Qf/goX/0dB8Gf/DD6t/8ANRVDwP44/as8HftWeHPgj8bviP8AD3xNo3ib4e%2BIdchm8K/Dy%2B0W6tLrTb7RLdFZ7jV75JY3TVJSVCIwaJCGxkGX9nD4t%2BFf2lv2XU%2BP2lfDfR9DmuP7Wjs5tEvUvrS4Nld3Fsl9YXqwwm6s5/IE8E/lx%2BbDLG20BsVa8cf8pC/hf/2Rnx5/6dvCFAHs1FFFABXk/wC25%2B0H8QP2Vf2bPEv7Qnw/%2BE%2Bm%2BMj4S0241TWtI1LxS2kBdPt4JZp5I5ltbkvKBGFSLYAxfl0AJr1ivKf22vgF8Qv2pf2Y/Fv7O/w6%2BJ%2BjeEJvGWjXOkapreteFJdYWKyuIJIpRFBFe2hWb5wVkaRlXacxtngA0f2lfjnq3wO8LaI3hDwTB4k8TeLPFVn4e8K6JeasbC2ub2cPIzT3KwzNBDFBDcTO6xStthIVGYgV4hrH/BS/xtL4RF34B/Zoh1nxL4e0LxTq/wASfDs/jX7MmjQ%2BH9SbTbyKzn%2Bxv/aE888cxtVdLaOWOItLJbllU%2Bm/FL9nn43fF/wFodv4p%2BNfhe28aeEvEWm%2BIPC3iPSfANxHY2%2BpW6yRz%2BfZSanI89vPDNPCYluI3RJTiUsAw8x1j/gmf44i8IC08A/tMQaN4l8Q6D4q0j4k%2BIp/BP2lNZh8Qak2pXk1nB9sT%2Bz54J5JltWd7mOKOUrLHcFVYAH1P4Y8R6P4w8N6f4u8PXYuNP1WxivLGcKR5kMqB0bB5GVYHn1r5/8AhN4q/bv%2BOuj69478L/G/4SaBpdv8QvFWh6XpV/8AB/VL%2B4itdL16/wBMhaW4TxFAssjx2auzLFGu5yAoAFe23nwn%2BGuq/DJPgz4h8D6Xq3hVdLi019A1iyS7tZrWNVRIpIpQyyKAq8MD0rxf9hzwv4a8G/spXvgfwd4fstI0ax%2BNPjjT7HSdLtUt7a2tB481aIQRxxgLHGI/kCqAAvAGKAOj/wCEH/4KF/8AR0HwZ/8ADD6t/wDNRR/wg/8AwUL/AOjoPgz/AOGH1b/5qKfr/wC1B/wT98Ka7e%2BFvFP7RHwc03U9Nu5LXUdO1DxdpUM9rPGxSSKSN5QyOrAqysAQQQRkVU/4a/8A%2BCcH/R0XwR/8LbR//jtcrx2BTs6sP/A4/wDyR70OFeKakFOGX4hppNNUK7TT1TTVBpppppptNNNNpplj/hB/%2BChf/R0HwZ/8MPq3/wA1FH/CD/8ABQv/AKOg%2BDP/AIYfVv8A5qKfoH7UH/BP3xXrtl4W8LftEfBzUtT1K7jtdO07T/FulTT3U8jBI4o40lLO7MQqqoJJIAGTV79qv4l/Cr9lD9m/xr%2B0l4p%2BFy6tp/grw9cardabpGiCa4uViXOxFjjYjJxlyNqLl3KqrMNaVehXTdOalbs0/wAmzz8dleZ5XOMMbh6lJyV0qkJ021tdKcINq%2Bl0mr6XvoZ3/CD/APBQv/o6D4M/%2BGH1b/5qKP8AhB/%2BChf/AEdB8Gf/AAw%2Brf8AzUVQ0n9rP9j/AFzxvL8NdL8Na/L4htvDi69qGi/8Ka11brT7B47t4pbqNtPDWrS/YblYo5gkkzxiONXd0VnaZ%2B05%2BzB4mk8O/wDCK6ZYIdZ8dTeFb2w8S%2BEtR0fUbG%2Bj0a61cwtZXNgJklNrbrMq3C28bwyeYsrMYo5tThLv/CD/APBQv/o6D4M/%2BGH1b/5qKP8AhB/%2BChf/AEdB8Gf/AAw%2Brf8AzUVQ%2BCn7X/7C/wC0Fo03iP4beJtL/s6Lw/p%2Bupf%2BIvCN3osFzpd8zLa3sEmo20C3NvI6lBLEXUPhCQxAq7%2B0b8RG%2BFev%2BD/hp8IPgB4a8XeM/G17eJpWl61qq6RYwWtnatcXNzPdJZ3ToB%2B5iVVhctJcR52IHdQB3/CD/wDBQv8A6Og%2BDP8A4YfVv/moo/4Qf/goX/0dB8Gf/DD6t/8ANRXPa/8AtSfC2D9i3w1%2B1/4T%2BClleDxePDtvo3h3VDBZ%2BRf6xf2mnwQXdyI5Ft44rm8RZpVWTaschRZDtVuKtf23F8RX1l8LPBP7M3gK8%2BJSeLvEGgeItGvvHK22hadPo9rb3dzs1Qaa8k7NBeWjpGbSNvmm8zyhA5oA9W/4Qf8A4KF/9HQfBn/ww%2Brf/NRR/wAIP/wUL/6Og%2BDP/hh9W/8Amory7xb%2B2Nq938H/AIT/ALRnwL/Za8A%2BKfBPxck8LQaCNW8ayadrIn1maJSi2kWkXMEi20EjXEjfaV%2BS3nwBsBbsfEPx1uvhd8fdO%2BGPxw/Z18G6J4Z8RW%2Bu3PhrxLpHiX%2B0Lz7NpcInluL6xbT4RaRNCch4p7ja7xRvtaRaAOg/4Qf/AIKF/wDR0HwZ/wDDD6t/81FH/CD/APBQv/o6D4M/%2BGH1b/5qKwP2Jv2hvCX7YvhnUvHVp8OfhlZaUkNnNp1n4b8c2%2BuarZidHk%2Bz6vaxWccemXaoIiYFmuBuaRd/7vLe4eDBs0MwKTshvruKIE52olzIqr9AoAHsKAPLv%2BEH/wCChf8A0dB8Gf8Aww%2Brf/NRR/wg/wDwUL/6Og%2BDP/hh9W/%2BaivZqKAPGf8AhB/%2BChf/AEdB8Gf/AAw%2Brf8AzUUf8IP/AMFC/wDo6D4M/wDhh9W/%2BaivZqKAPGf%2BEH/4KF/9HQfBn/ww%2Brf/ADUUf8IP/wAFC/8Ao6D4M/8Ahh9W/wDmor2aigDxn/hB/wDgoX/0dB8Gf/DD6t/81FH/AAg//BQv/o6D4M/%2BGH1b/wCaivZqKAPGf%2BEH/wCChf8A0dB8Gf8Aww%2Brf/NRR/wg/wDwUL/6Og%2BDP/hh9W/%2BaivZqKAPGf8AhB/%2BChf/AEdB8Gf/AAw%2Brf8AzUUf8IP/AMFC/wDo6D4M/wDhh9W/%2BaivZqKAPGf%2BEH/4KF/9HQfBn/ww%2Brf/ADUUf8IP/wAFC/8Ao6D4M/8Ahh9W/wDmor2aigDxn/hB/wDgoX/0dB8Gf/DD6t/81FH/AAg//BQv/o6D4M/%2BGH1b/wCaivZq5vxt8ZPhD8NFZ/iP8VfDfh9VGWOt65b2gA9T5rrUznCnHmk0l5tL87G2Hw2JxdVUqEJTk9lGMpN/KKk/wPPf%2BEH/AOChf/R0HwZ/8MPq3/zUUf8ACD/8FC/%2BjoPgz/4YfVv/AJqK57x5/wAFZP8AgnL8OQ/9v/tb%2BFLkp1XQZ5NUJ%2Bn2JJc/hXI/8Ph/gf4i5%2BDf7Ofxy%2BIKv/qZvCPwwuZIpPQ7pmiwPfFedPOsppy5XXi32T5n90eZn2WF8M/ELF0lVhlVeMH9qdN0o/8AgVZ0I/ien/8ACD/8FC/%2BjoPgz/4YfVv/AJqKP%2BEH/wCChf8A0dB8Gf8Aww%2Brf/NRXmI/4KD/ALXOu/vPA3/BKH4n3Ebf6o6/rlhpbH/eWQtto/4a3/4KmanzpX/BJaC0Q/dl1L45aTn8USLIqP7awT%2BFTfpTqP8A9sR0f8Qz4oh/Fnhqf%2BPG4KL%2B76xJnp3/AAg//BQv/o6D4M/%2BGH1b/wCaij/hB/8AgoX/ANHQfBn/AMMPq3/zUV5l/wAL6/4K%2B3/Np%2BwL8P7DPQX3xTjlx9fLSk/4XB/wWQg%2BeX9jr4TTj%2B5B8QZVI/FkxR/bFDpSq/8AgqYf8Q5zNfFjsCn2%2BvYf9Lr8T07/AIQf/goX/wBHQfBn/wAMPq3/AM1FW/2VviN8afGGsfFDwJ8dNf8AC%2Brap4B%2BIUWh2eq%2BE/DVzpNvdWsug6Pqas9vcXt4yyLJqMqFhLtKxodqnOfJv%2BF9f8FfU4b9gX4fufVPinGM/mldD/wTs8QfF7xTrnx51348/D6w8LeLJ/jNB/aug6ZqwvoLXb4R8NrFtnAAfdEI3PHBcr2row2PpYqo4RhNaX96Eor73pfyPHzvhPHZFhViK2Iw9RN8tqOJo1pXabu4025KOnxPROy3aPpOiiiu4%2BXCiiigAooooAKKKKACiiigAooooAKKKKACiiigAooooAKKKKAMT4jfD/w/8VPBOofD7xVc6vDp2qQiK7k0HxDe6VdhQwbEd3YyxXEJJABMcikglTkEg%2BZ6d%2BwD%2BzJpv7Otz%2BybFoni2f4fXfhg%2BHZfDt98UPEFyq6WSv8AoqTS3zTRoFURDY4IizECIyUPs9FAHK/B74NeDPgX4TbwV4DvfEc1gbkzqPE3jPU9cmjOxI9iT6lcTyxxBY1xErCNTuIUFmJ8K/aA1j%2BzP%2BCsn7NVlux/aHwu%2BJlvj1xL4Xl/9pV9P18bfth6udL/AOCxv7GcBbC33hj4oW7H/tw0ZwPzQVzYyfs6PN5x/GUV%2Bp7nD2H%2Bt5n7L/p3Wf8A4DQrS/8AbT7JooorpPDCiiigAooooAKKKKACiiigAooooAK4nxX8IvhP8aINX8LfGL4YeHfFmmW/iCK6g07xNosF/BHOtlCiyrHOjKHCu6hgMgOwzgmu2ryf47/tW/AL9j7w1qPxL/aL8e/8I7ol94rh0y1vf7LurvfdPp6SrHstYpHGUhlO4qF%2BXGckA44ieHp0JSrtKCWvNa1vO%2BlvUax8sqf1uNZ0nT151Jwcel1JSi477qS331E/4YH/AGFf%2BjLPhL/4bnTP/jFH/DA/7Cv/AEZZ8Jf/AA3Omf8AxivJP%2BH5v/BLL/o6L/yydc/%2BQqP%2BH5v/AASy/wCjov8Ayydc/wDkKvF%2BvcK/8/KH/lP/ACNP%2BIpYn/oez/8ACyr/APNB9JfDT4RfCf4L6FL4W%2BDvww8O%2BE9MuLtrqfTvDWiwWEEk7KqNK0cCKpcqiKWIyQijOAK8V/aV/YX8V/Hjxd8StT8P/GfTdC0f4q/C%2Bw8IeJdOvfCEl9cQtZS6nJbXdtOt7CqDOpyCSJ4pN4iTa8ZLE%2Bk/s0ftW/AL9sHwJd/Ev9nTx7/wkWiWOryaZdXv9l3VpsukiilaPZdRRucJNEdwUr82M5BAx/iV%2B2X8MPhX4s8S%2BBfEug68%2BseHJfDEcen2trA0mrf2/fvp2ntabplDg3cU0TlzHs8l2PyAMfaw88PUoRlQacGtOW1reVtLehm8fLNX9blWdV1Nedyc3LpdycpOW27k9t9Dyr9r7/gmPL%2B1Z8erf4y3PxS8O2cUMvhia3j1/wCHaaxqWjyaPqx1AjSb17uMaal3kRXG2F3cKCHGAo2PDv8AwTsXQdd1XWz8XxN/aeg/EzTfL/4R7b5X/CXeIodZ35%2B0HP2TyvI28efu35ixsPNfHr/grH8O/B3hv49%2BBvhppVvH8S/hH8JfFvi/SdM1vWtJ1C01A6LD85mh0vUprq2TzpbXMN0tpM6THYMpJ5feat%2B3hoPh/wCI/iT4U6b8OvFfjXxLp/xAufD%2Bl%2BGfCejWcF0YbbRNM1S6uTLeagkMsMS6jCDKzQOzzxwpA7KJJdhHqnwZ%2BH3iP4WeBNI%2BHep%2BKbLVLDQfD%2BnaZpskGkvbTH7PbLDJJKxnkV97IGVVVNgO0mT71eOfB39hXxz8H/Gtn4gsvjppmoaZ4K0LxFpvwi0a68GOo0IatdxXLNqEi3wOpi3EEVvEsYsz5HmB2eRhMvZfsQftI6p%2B09%2BzL8PPi74s0c2eueLfAOm%2BItRisdEvLewjN0hOyKSYMoYFWzCZGlQFS4AZSfO/BP7Y3xs17486DLq2m%2BFh8NvGPxi8SfDbQdPt9NuV1qzv9HtNUlfUZ7prkwywyz6JfxC3W3RkWW3cyv8AOoANzxR%2Bw34g8R/HS/8AG6/GS2g8D%2BIPiFonjzxT4M/4Rgtd3niDSrSzt7WSG/8AtQW3tSdN02Z4DbyO0lqSJlErir/wl/Zw/aX%2BG/xs%2BLfxc1T9oLwLqUPxG2XGjaZb/C69t20a8t7WK0spJpTrUgvIkhiHmxKlu0rkskkA%2BSuU/aa/bG%2BNvwr%2BKfjF/h5pnhZvBvwm0Xw3qfju21nTbmbUdYj1S%2BuIpo7GaO5jjtGtrW388NJFcCeSURYhCmQ878Kf28Pj58Rv2x779ny50/w3ZadceIfF2j6fBceC9ThWx/slylrdprMl0LDW5JgEkm0%2BzSO4tBJIsrK1rKSAdJ4E/YZ%2BNvh/9ky7/Zm%2BIPxW%2BD/jdpvFt9q8M/ir4FXF3pJhu764v5YZ9Nl1x/OkW5uGMcwnQIqIDG7AuXeJf%2BCfvjz/AIZSj/Yo%2BGvx20LRPAWq%2BGb/AErxrLffD03Wq301/PPNf3tjNFfQW%2BnzSSXMzoGtrhIXKFVwm0%2Bf3X/BQr9oTwzoXjzRfE2qeDkl8J%2BNfDmi3PxJ1/4a6z4a0zRLbUWmFzfX2jahfG7NpB5KKl59pitbhrobZFW3meuY8ef8FZvjDH8FfD3jb4c/8IvdzkePYtZ8S6Z8OtZ8Q2Wq3Hh29ht7drWwsLtbizsb6KU3J1GaWW1swI45JJPPilYA%2Bh/F37Den/EP9rvRf2l/Gdz4FNp4a1GHUNGj0r4brb%2BIrmeKya2ii1DW3u5Hu7WN5ZJ0gSCEh0g3O4iYSJ4a/ZY/aDtfiZq/x68YfHzwRe%2BN28EL4Y8MXGlfCy4stKs7X7Yt00l7aNq0s18%2B9FVAtzbrGpk2KDIxPI%2BFf2y/jPqf7Vun/D/4i654a8GeC9VstB/4R77T8NtY1GDxDe32nm4ltLXxNFdx6WkizERxxmJ3lA%2BVWLjGT8Vf%2BCgXxV/Zm%2BKHxS0b4trovibQfAnwi8Q%2BOEay8A6p4XeBrCW0%2Bz2Md3qN1PBrSzR3TCW8swsVo8CiZVNzGgAOhtv2AvitpeoD4raP%2B0T4fi%2BJMvxXuPHV9qMvw6kbw5NczaAmgtAukrqSzIBaRRyCX7aZfPMjlmSQxVm6V/wTq%2BM/g7UvhJpngr9pjwxc%2BE/hRpJez8J%2BLfhlPfQXWvSXEskusJ9l1a0SFo45WhtIGjljtAzspdvLMeLqv7bX7SA%2BBX/CR%2BB/HPhnxV4sh%2BIOlaV4kj0T9nfxY0vhnTLq3aZ55dDa9/tK9XCh4rpPKilRtwjwprN/aU/4KaeMfgx8PtB8feGPi38L7rSP%2BFVal4tHiTWPDN/b23jvULKUI/h/SYPt/mWF6Qr7kla8mjZ1H2eTy5doB6dc/wDBPmTWPixJe%2BJ/ivb33wzXxzq/jKy8Ajw20d2msanpt1Y3Qk1EXRElmft97cLALdJFmnUmZkjVKb8G/wBin47fB6xuddi/aX8O654u03wPovg7wRrWs/DeU2enaPp9w8u68tYtTRr29nDgSzxzW0e6GFo4I9rrJe8aftC/HPwp8ffhjaaXr/gvWPB3xU1sWujeDoPDV5D4hs9PXSpLufVZL37a8DRQypGrxm0RQLmJPO8x0WTP8F/FD9tvW/2p/Hv7PZ%2BJXwr1iy8MfDq01SPWbT4balY/2brOoXcyWNvOG1qcXaJbWdzNNGnkOfOtSHQPyAaHhX9kv9oL4a/CzU/Bfw0/aD8Ewav4t8S61rfjq/134Uy3un3dxqLAstjYpqsIs40APyzS3XmF3aTezMTx6/8ABL3U9GtdJ8AeEv2hn/4QiPSvA1lr9l4h8MHUNbuf%2BEXkheze01MXUa2fmm3jaXdbzkO80kRieUsKHjj9sD9rrR/2Mv2gvi94N134Zan4l%2BB%2Bo60LHxYfCGof2D4nt9M0eK/ukisl1LzopY7pp9OdheSostpKeWDQpP8At/8A/BQjx5%2ByJqk99b6v4J0HSNF%2BF914wVPGGm3U03ja6t3YyaBpLxXMKwXgijDF2W6YfaoWEDKkhoA9G8Pfs1/tIaF%2B1L8R/wBoRv2gPA82m%2BOPCNjoWneHv%2BFX3Yn0xbCTUZLCWW6OslLoq%2BpTecogiEwjQIYPmJ5XWf2Avit4t1XxB8WPFv7ROgH4jav4m8M6va6lo/w7kttAj/sNp2tYrjS31KWa7L/apjJIbxHylsUMf2ZK0/iP%2B1D8YvAH7XXw6%2BGdjf6PrHhP4kXgSz0o/DjVbGfTrX%2By7u584%2BIJbttNubnz7QgacsKXJimDgbYmkbkP2B/%2BCh/i79pb4p6b8LPiPr3gq81nxD8Mj4wl0Hwjpl1bXXgi4iura3vPD%2BqtPczebfQNe26swS2cGOQtboHjJAPZPgr8Brv9nf8AZ98Q%2BDdX8YQ67qmq6nr/AIg1rUbPSvsFq97qN1cXs621r5sv2eFXmYKhkkbA3O7uzMafjj/lIX8L/wDsjPjz/wBO3hCvUvHP/Ik6x/2Crj/0W1eW%2BOP%2BUhfwv/7Iz48/9O3hCgD2aiiigAooooAKKKKACvBf2P8A/k3rV/8Asvfjn/1YGq171Xgv7H//ACb1q/8A2Xvxz/6sDVaAOs1/9ib9jLxXrt74p8U/sj/DHUtT1K7kutR1HUPAOnTT3U8jF5JZJHhLO7MSzMxJJJJOTVT/AIYH/YV/6Ms%2BEv8A4bnTP/jFed%2BP/wDgsp/wTc%2BF/jvW/hp46/aO%2Bw634d1e50zWLL/hENYl%2Bz3VvK0Use%2BO0ZH2ujDcrFTjIJHNZH/D83/gll/0dF/5ZOuf/IVeDPG8MKbUp0b3d7%2BzvfrfTe97mn/ETcTQ/dLPJx5dLfW6qtbS1vrCta1rWVrWsrWXs2gfsTfsZeFNdsvFPhb9kf4Y6bqem3cd1p2o6f4B06Ge1njYPHLHIkIZHVgGVlIIIBByK1v2mvgnZftJ/s6eO/2e9Q1%2BXSYfG/hHUNDfVYIBK9n9qt3hEwQkByhcNtJAbbjIzmvGvAP/AAWU/wCCbnxQ8d6L8NPAv7R327W/EWr22maPZf8ACIaxF9ouriVYoo98loqJud1G5mCjOSQOa9x%2BOvxh8Ofs%2B/B7xH8b/GWmajdaN4V0qXU9ZTSoUknis4hunmCu6BljjDysM52xttDNhT6GBrZbWhJ4OUGk9eTltfz5UtbdyZcSVOJP3s8a8TyaXdWVXlvra8qlS197Jq%2B9up5H4i/Ym%2BIXj/Qfi7L49%2BPtrF4k%2BLfw703wzfa14T8KzabDpslmNRC3MUUl9PIyOL8BojMDiJsSDzBs4b4I/wDBKaL4ReIofE0PxJ8IWG34uDxy%2Bg%2BAvhfHoGkQMPCN54cNnbWqXkphDfahdtKzyMzoykfOHT0X4z/8FEPg78FtL8Xa5qnhvU9QsfBXi2z8N6xqI8QaDpVo9/cabFqISG41fUrOGTZBPAGAffvmCor7JCnI2v8AwUd0nxT4%2Bjv/AATcWlx4C1zwZ8JNd8I6rFoUk95df8Jh4g1bTSsyPdwrHGIrOzKsAXgaSZ2S5wsFdxJ1fwN/Yo8Q/AKPwJd%2BEfi5ZXN/4G%2BBulfDq3l1Dwu7Q3f2OSBjfNGl2rLvWFgIQ52FwfMbbtbrP2jfgF44%2BKniDwf8TPg/8T9O8I%2BM/BN7ePpWqa14afV7Ge1vLVre5tp7VLq1dwf3MqssyFZLePO9C6N5h4N/4KNH4mftFeD/AAR4Q%2BD/AImsvAPiPwV4s1%2B08WapoSzt4hh0m406GOfS47K5mnMb/apW8qe3SeYNA0KEE59J/ak%2BNHxA%2BHujeBfC3wcTSIfFHxJ8b2/h3QtQ8T6XPcWWm5srzUJ7me1jmt5ZttrYXAWISxEyMgLKM0AU/Dv7LGseAv2XbX9lbwZ4p8L6hoemeB7DQrH/AITvwS2sR3k8e4XdzqEC3kEd3HcJtzAgh2OZG3urqied2f8AwTXi8N/s8v8ABfwje/CR7zVvGU3iTxHP4m%2BB8Oo6Ml28CW8R0zSRfxR6cbeCG2igLyXG1IPnErOznodK/a6%2BKb/sE%2BNf2j3%2BHdlrHjjwL/wlemX2iaPDcCz1DU9D1K%2B02WaGMGSdbeWSyM4iBklWN9mXcZPJ/BH9sz4j/Hrwf8TNH8FftNfCC6v/AIYahZXeofFLS/A17feGdR0efTzdM0dsmsqySwyJPG8i3s0Y8g5UOzRxAHpHhX9ijwn4Kvfgbonh/wAV3H/CJ/AnQLm18P6BeWolmvdQOnx6ba6jLcbgN8VnJqKFfLPmPfl9yeXtfF8H/sdfF2P9pHx98ZvjB8bPCXjHQ/HNpc6PFo83w8urbUtF8PshWHSLW%2BGrPDHEHPnTyC0D3MhJYqEhWH59%2BKP/AAUx/bL%2BFH7N/wANviT4u8J%2BELPxJ4n%2BD2p%2BO9Vt4fhzrF9bTyRyW72mmTRW1%2BzeHozb3UYuNVvpZbOCQNuIC4P03ZfGX442X7dmlfA/X7vwjP4E8UfC3VfEmiQ6fpVyNVs7qwu9FtnWa7N00FxFIdTmKqlvGVESHe2SKAMv9kH9iTXP2aPEkHiHxT8VtN8Rf2J8OdI8CeFYNG8IDR1t9F06SZ4Dd4uZxd3Z83BlQQRLhvLgj8x8%2B2%2BD/wDkEzf9hW%2B/9K5a1Ky/B/8AyCZv%2Bwrff%2BlctAGpRRRQAUUUUAFFeWfFr9t/9kD4F%2BbH8WP2k/BujXEOfM0%2BbXYZLvjri3jZpT%2BC143J/wAFgfg545kaz/ZZ%2BAPxZ%2BLkrErDeeEvA88Vhn1kuLry/LX/AGtprz6%2Ba5bh58k60ebsneX/AIDHmf4H1%2BV8AcbZxh/rGFy%2Bq6X/AD8lH2dP51aro0//ACd%2BVz63or5HHxe/4LD/ABg/efD39lT4YfCuyk%2B5P8SPF82rXWz%2B8I9OACNjna/ToaVv2M/%2BCinxS%2BX46/8ABTXUNHsZf9do3wt8FWumOnrsvnLTD8V96x/tSdT%2BBh6kvNxUF982n/5Kel/qHhcH/wAjTOMHQtvGNSWJmvLlw1Ocb%2BXtreaPqvXfEXh/wvp7at4m12z061T79zfXSQxr9WcgCvHfH3/BSX9gj4Zs8fi39rfwKssWfNt9O16K%2BlQ%2BhjtjIwPtjNcFoH/BGf8AYfXUF8Q/Fnw94p%2BJmtL11v4i%2BMr2/nf13KrxxNn3SvY/AH7HP7JnwrCH4dfs0eBNGkjxi4sPCtokxPqZPL3sfck0c%2BeVdoU4espTf/kqivxD6t4WYHSeIxmKa/kpUMPB%2Bjqzr1Lf9uJ%2BR4lN/wAFnf2SfELtafAjwp8TPildZKx23gD4dX1wzt0wDcLCMZ70iftp/wDBRLx9%2B%2B%2BEH/BK/V7Sxf8A1eo%2BP/iJYaVIvputNrSD8DX1pFFHDGsMMaoijCqowAPQCnUfU8zqfxcU1/ghGP4y52H%2BsvA%2BC0wORRm%2B%2BJxNeq//AACisND8X6HyUdW/4LZeOT5dl4T/AGfvAtu/35NQv9U1O7jH%2ByIsRE/Xij/hkL/gpl45O/4l/wDBUQ6PA/8ArNM8DfDCxt9v%2B7cysZfzFfWtFH9kUpfxatSfrUkl90eQX/ERcfQ/3HL8FQ84YSlOX/gVd4h387JnyUf%2BCSPhLxZ8/wAdP2zPj347Vv8AW6fq3xEeCxb1xBBGm3Ps1dJ4I/4JC/8ABODwEyy6Z%2ByroN9KDuebxBPc6m0jdy32uWQHP0x7V9I0VUMlymEub2EW%2B8lzP75OTMcR4neIWIpOl/alaEH9mlJUY/8AgNCNCP4P1OR8Cfs//Af4WlD8Mvgn4R8OmP7h0Lw3a2hX6eVGtddRRXowp06UeWEUl5JL8kj43FYzF46q6uJqSqSfWcpSf3ylJ/iFFFFWc4UUUUAFeM/sv/8AJb/2jv8Ass1j/wCoV4Xr2avGf2X/APkt/wC0d/2Wax/9QrwvQB7NRRRQAUUUUAFFFFABRRRQAUUUUAFFFFABRRRQAUUUUAFFFFABRRRQAUVzXxik%2BJsPwy1if4Oa1oOneJYrXfpl74m0qa%2BsYirAuZYIJ7eSUeWHwqyx/MVy2M143H%2B2D4%2Bh/wCCaXg79sOfwxpFx4v8W%2BAPDN9baWgli04azrK2UMKkF3kW2W6vUyN7OI1I3FuaAPomvhP/AIKMan/Yn/BWf9iDU92M3Hjm1z/12i0WLH/j1fSP7LXxd%2BKPjnWPiJ8KvjZPoF54n%2BG/jCHSLvWvC%2BlT2FjqsFxpdjqUFwlrPcXMluwW9MLRmeXLQFwwDhV%2BLP8AgqZ8bvhTr/8AwVP/AGOfC/gn4oeHtX1zwx4%2B1Oy8TaPpWtQXF3pD3V9oEaJdQxuXty2HwJAudpx0Nebm8uTL5y7OP/pdM%2B18O6H1rjDD0f54119%2BFxf%2BR%2Bl1FFFekfFBRRRQAUUUUAFFFFABRRRQAUUUUAFZXh//AJC2uf8AYUT/ANJLetWs%2B98MaRf3b38guYpZABI9rfzQb8DALCN1DEDjJ5xQBoUVl/8ACH6T/wA/eq/%2BDy7/APjtH/CH6T/z96r/AODy7/8AjtAGpXlPxV/Y8%2BFXxg/aN%2BHv7Tnii/1mLXPhyLz%2Bz9PsbuNLDVDNGViN9E0bNP8AZmaSWDa6eXJIzfNxj0L/AIQ/Sf8An71X/wAHl3/8do/4Q/Sf%2BfvVf/B5d/8Ax2gD5q1D/gkl8ENY0vxD4Z1j40fEm50PW/h74z8GadoT6lpq22g6X4nmim1L7JssRI8wkhQxzXL3DLyHMgwB2vir9gnwDrPj7Vfiz4S%2BLHjfwl4s1Txnc%2BIj4i8O3dgZ7ZrnSbDSrmyjS6s5ojaywabaOyvG8iyxh0kQhQvsH/CH6T/z96r/AODy7/8AjtH/AAh%2Bk/8AP3qv/g8u/wD47QByf7OX7PHh/wDZi%2BFfhb4K%2BA/GviC%2B8N%2BEPCdloOkWOtzW0zeXbBlW5klSBJJJ3Uqrkt5ZEalUVizNy%2BgfsPfDrw78c1%2BNVn498VyW9p4k1HxJongqa6tDo2ka7f2slreapbqLYXPnyxXF2Ckk7wq15cMsStITXqn/AAh%2Bk/8AP3qv/g8u/wD47R/wh%2Bk/8/eq/wDg8u//AI7QB5D8SP2D/AnxV8aWfjXxb8WfGrPNpWiaf430%2B2n0%2BK18ax6Tdvd2R1JFs8qVnlmZ/sZtVlWVopA0QWNa%2Bgf8E/8AwH4Z8ff8JppHxk8epZ2Ou%2BIde8J%2BGmvNPNh4Z1nWvtZvtRsz9j895S1/fMiXM08Mf2qQJGF2qvs3/CH6T/z96r/4PLv/AOO0f8IfpP8Az96r/wCDy7/%2BO0AeV%2BG/2O9Q8Mt4s8UW37VPxKn8c%2BMLTSrLUPiPdRaCdTt7DTpbiW1s4IF0saekKveXpO60Z2N3IS%2BQhTB1f/gnH8N5ND0Sz8EfGj4heE9Y0zS9e0/U/FWhahp76jr0OtXcd7qn2w3dlPCXnu4ln8yGKF4mysLRIdle5f8ACH6T/wA/eq/%2BDy7/APjtH/CH6T/z96r/AODy7/8AjtAHlV9%2BxJ4S1DVPCemT/F3xoPAvgm60a58N/C2OTTV0W2n0pYvsDmQWX2%2BQRSwQzhHuyhljUlSBtqprf7Bfgb4ia1req/H34u%2BNviPBq/gzWfClrpnimbTYbfStJ1Uw/boLcadZWru0i29ugmnaaVFiG11LyF/YP%2BEP0n/n71X/AMHl3/8AHaP%2BEP0n/n71X/weXf8A8doA8l8OfsX6n4Utdd1fRP2tvihH4w8S3lg%2BsfEGWPQJdTntLOGWK2sPKfSTYrbp58r8WwlZ5GYyEmq%2Br/sEeDNR%2BCem/s5ad8bPH%2BmeClttSg8X6JY3mnsfGK6hcPc351G4msnuEaeWa5Z2s5LU/wClSAYGwJ7F/wAIfpP/AD96r/4PLv8A%2BO0f8IfpP/P3qv8A4PLv/wCO0AeV6V%2BxlbaH%2B1Zqv7WGkftEePYb3VrGy06bwm9vocuk22m20eE0%2B2MumNeWtu0u6eRIrlC8r7i2FRV1Lv8AZP8ADY8J/FfQvDfxQ8Y6Dqvxe1Se/wBe8X6NqFtHq2myvYW%2Bnx/YZWt2SAQ21rCkW5HKEF8l2LV6B/wh%2Bk/8/eq/%2BDy7/wDjtH/CH6T/AM/eq/8Ag8u//jtAHh91/wAE%2BNKuv2MdZ/YaH7TfxEt/CesaJJoZv7HTfDVtfWejy2xtpdPhEWjrbrE8bPmRoGnDOWWVTjG/8Q/2P7z4tfDPTPg98SP2oPiPqvh1dLm03xhpzR6HAPGVnK3zwag0GmI0aNHuhYWRtN0bsG3E7q9R/wCEP0n/AJ%2B9V/8AB5d//HaP%2BEP0n/n71X/weXf/AMdoA898Tfsq23jn4waR8TvHPxw8batpHh7Xk1rw/wDD%2B4OmRaNYX8du8EcytDYpeyhPMkdY5bqSMOwbZ8iBbfwp/Zos/h18StS%2BMHiz4u%2BLfHfiW90pdKstV8XnT1OlacJjMbS2jsLO1jVHk2s8jq80nlRB5GEaBe3/AOEP0n/n71X/AMHl3/8AHaP%2BEP0n/n71X/weXf8A8doATxz/AMiTrH/YLuP/AEW1eXeOP%2BUhfwv/AOyM%2BPP/AE7eEK9RPgzQ3ws7X0yZBMVxq1zIjezK0hVh7EEV5d44/wCUhfwv/wCyM%2BPP/Tt4QoA9mooooAK8/wD2l/jjc/AH4axeLNF8Ir4g1rVfEOl6D4b0OTUfscd7qOoXsVpAss/lyGCFWl8yWQRyMsUblUkYKjegV59%2B0v8AA66%2BP3w1i8J6L4vXw/rWleIdL17w3rkmnfbI7PUdPvYruBpbfzIzPCzReVLGJI2aKRwrxsVdQDz65/boutC/Ze8U/G7xb8KY7TxP4O8YnwjrfhK38RCS0j1h9SgsIMag8CYspDdWtwbloFaOCUs8QZGjrhviF/wVJPwy8GXp8a%2BBvAeh%2BJtA%2BKsngTxjdeI/iobHwjoV6uix6zHLPrjacWVJbae2iQPaIxupjAQpTcfSfh/%2Byt8RvBHwj8Y%2BAdU%2BJng/xDqnjq61LVfEV9r3w7kn0%2B71W9mYyGSxOo4ewW2ENstoZfM2Q7nuXZia4DwX/wAE0Na%2BEuiaL4g%2BDHxT8H%2BHPGum%2BP73xVeSW3wv2eFpprnR00f7PBotvfwtaxxWUNusTLdlwySs7SefICAfQH7PPxak%2BPXwI8H/ABsl8HX3h5vFnhuz1Y6JqRzPZefCsnlMcDON3BwpIwSq5wPNf2P/APk3rV/%2By9eOf/VgarXX/Br9lr4d/DH9lrQP2UPFlhZ%2BMvD2k6BHpeoQeIdJhlttSUfM%2B%2B1YNEsRfJWHBVFCqMhRXI/8E9/BPg/w7%2BzHqPgDw34XsNM0PT/i18QrTTtI021S3trSCPxprSxxRRxgLEiBVChQAu0YxigD3qisr/hD9J/5%2B9U/8Hl3/wDHaX/hD9J/5%2B9V/wDB5d//AB2gDUqpr2haP4o0O98M%2BItNivNP1G0ktb6zuE3RzwyKUeNh3VlJBHoarf8ACH6T/wA/eq/%2BDy7/APjtH/CH6T/z96r/AODy7/8AjtAHz94J/wCCYPwo%2BGnwj8B/DD4efGr4j6VqHw%2B1vU9U0vxyup6fc63eS36TRXQupLmykgk3RTeUrrCksaQxCN02kmx4G/4JifAP4f8Ahrw94V0Txb4wktvDXhr4eaHYNd6lbPI9t4N1W71TS2kb7ON0ks95Ktw3AdFQRiFgXb3n/hD9J/5%2B9V/8Hl3/APHaP%2BEP0n/n71X/AMHl3/8AHaAPEPht/wAE7vAvwp%2BIml/EDwl8dfiIq%2BF/Deu6F4D0K4vNNksPC1nqs1tNMlohsd8pie0g8k3T3GxU2Hcny16R8c/gHonx38G6X4c1fxpruiapoGtWuseHvFmgParqOmahAGVbmITwS27Fo5JonSSF43jmkUpg8dP/AMIfpP8Az96r/wCDy7/%2BO0f8IfpP/P3qv/g8u/8A47QBxfw2/ZtsPhF8MIfhX8Pfir4qsLVNO1dbjUSbCa8utU1K6a8uNakeW0ZTe/aZbiYAKLYvcyboHAjCczc/sK%2BANd%2BCvxB%2BDvjv4n%2BMvEc3xVbb4/8AF2qXNjHqmrW/kRWxtD9mtIraC3NrF9n8uGCMbJZWGJZHlPrX/CH6T/z96r/4PLv/AOO0f8IfpP8Az96r/wCDy7/%2BO0AeV/tF/sR%2BCP2idel8QzfFHxl4Pm1Dwdc%2BE/EaeDrqyjTW9Dnfe9jOLq1nMQBMm2a2MM6CaTbKMjEl3%2Bx3bv8AtO%2BHP2l9H/aD8d6WPCvhmfw9pPgWxt9E/sVdMnazee3bzNNe9IkksLWQsLoOpjwjIjMh9Q/4Q/Sf%2BfvVf/B5d/8Ax2myeEtFiRpZb7U1VQSzNrt0AB6n97QBrVleD/8AkEzf9hS%2B/wDSuWvmv4xf8FIf2T/AHixvhX8J7zxd8W/HJJVPCPwvvLzVJUYHBM0yS%2BTEqnh8uWTnK8Vh2Olf8FZv2lLRLCA%2BD/2bfCUgwsUJXxF4laMnJyxxbRFgevEisSTkivLqZvhed06CdWS6QV0n5y0gvnK/kfeYXw7z1YaGLzWVPAUJK6niZezlKPenRSliKifRxoqL6T6n1B8UfjN8JPgj4ePiz4xfEzQvC%2BmgkLea9qsVqjsP4VMjDe3%2ByuSfSvnDU/8Agrv8I/G%2BoTeHP2Pfgj8RPjVqUchjNx4R8NywaXDIO017cqixr/thWX3ra%2BFf/BJz9lDwd4jX4jfF3TtY%2BLnjFsGbxR8VNTbV5Sc5wkEn7hFB%2B6NhZeMNX0npml6Zomnw6To2nQWlrboEgtrWFY441HRVVQAB7Co5c6xO8o0V2S9pL73ywXyUjd1vDPJNKdKvmNRfanL6pQv5Qh7TEzX%2BKpSv2XT5LCf8FkP2gT5jXHw0%2BAGjzfdRUPifXIc%2BucWbYHpg5p4/4JLaB8ST9q/a5/a5%2BLfxUaT/AI%2BNJvvE7aZpDeu2ztNuzPtJ0r64op/2LhKmuIcqr/vybX/gK5Yf%2BSsX/ES%2BIMJ7uT06GAj0%2Br0YRmv%2B49RVsQ35%2B1i%2Buh418Jf%2BCeX7D/wO8qX4afsu%2BDrK4gx5N/daQl5dpj0uLnzJR/31XskcccMaxRRqqKAFVRgAegFLRXoUMNh8NDlowUV2SS/JI%2BPzTOc4zvEe3zHE1K8/5qlSdR/fOUrfK3oFFFFbHmhRRRQAUUUUAFFFU9a8ReH/AA3a/bfEWu2dhCOs17dJEv5sQKTaSuxNqKu2XKK8s8YftxfsZeAFb/hMf2rfh3YOnWCbxjZeafpGJC5/AV5X4m/4LNf8E/8ASr3%2Bw/BfxV1Lxtq7Z8rRvBHhe%2B1CeX/dKxCM/wDfdcNbNMsofxK8F/29G/3Jt/gebXzrJ8NpVxEE%2B3PG/wBybf4H1PRXyI/7dn7b/wAaD9i/ZX/4Jt%2BKtPglHy%2BI/jLqEWgwQDs5tAzTTKf9hgcVJD8CP%2BCw3jVP7T8Vft5/DzwTPOd0mmeD/hemp29t/spJfMrv/wACrD%2B1oVP93pVKnmo2X3zcL/JHN/blOr/utCrVXeMOWP8A4FUdNP5Jn1vRXyUP2M/%2BCm4Hmj/gsFeeceWJ%2BBmjFM%2By%2BbgUH9mL/grRoJ83SP8Agp/4e189RFrvwVsLVfpm2kJp/wBo4tb4Sp99N/8AuQf9q41b4Gr99J/lVPrWivkoeA/%2BC11j%2B7tfj18A74LwJL3wvqUTP7kRnA/Cj/hDP%2BC2d98l18aP2erAdN9l4d1WVvriQ4o/tSf/AEDVf/AV/wDJh/bNT/oErf8AgEf/AJYfWteM/sv/APJb/wBo7/ss1j/6hXhevLz4S/4LbeGf3%2BkfFv8AZ68Td2g1zQdWsvqFNsT%2BBP410f8AwTqvfjdqGt/Hm7/aN0bw9p/jNvjNANZtPClxLLp6Y8I%2BGxEYWm%2BcgwiJju6MzDoK6MNjXiJuDpTg7X96Nl96k1fyOrCZg8VUcJUKlN2v78Ul8mpSV/I%2Bk6KKK7T0QooooAKKKKACiiigAooooAKKKKACiiigAooooAKKKKACiiigDC%2BJng7VPiD4D1PwXo3xB1nwrcajb%2BSniDw/DZyXlmCQWaJb23uLckgFT5kLjDHABwR5R4J/YP8ACnhj9la1/Y78TfHDx54q8Iaf4Qg8PaW2uNpUN7ZQW3lizuI5rGwtyLi2EMXlyEHmNWcO%2BWPulFAHA/AL9n/R/gJpuvGPxzr/AIr1zxXr51nxT4q8UNafbtUu/s1vaIzrZ29vbxrHbWttCqRQxqFhBILMzN8R/wDBbj/Qf2rP2W/FnT%2Bwda1HUN393br3hRM/%2BRK/Rqvzl/4L1f6DqXgbxZ0/sHwNrmobv7u3xV4ITP8A5Eryc9/5E1d9ot/c4v8AQ/QPCnXxJyqH89aMP/BkatP/ANyH6NUUUV6x%2BfhRRRQAUUUUAFFFFABRRRQAUUUUAFFFFABRRRQAUUUUAFFFFABRRRQAUUUUAFFFFABRRRQAUUUUAFFFFABRRRQAUUUUAFeM%2BOP%2BUhfwv/7Iz48/9O3hCvZq8Z8cf8pC/hf/ANkZ8ef%2BnbwhQB7NRRRQAUUUUAFFFFABXjP7B/8AyRDXP%2ByzfEf/ANTXW69mrxn9g/8A5Ihrn/ZZviP/AOprrdAHs1FFFABRRRQAUUUUAFFFFABRVXW9c0Xwzo914i8R6va6fp9jA897fXtwsUNvEoyzu7EKqgAkkkAAV8deIv2tP2i/2/PEd38Kv%2BCdjN4b8C2ty1r4n%2BPms6eTCSDiSDR4HwbmXqPOOFXnGzKSNxYzH0cHaLvKcvhjHWUvRdEusnaK6vo/p%2BHeFMz4jdSrTcaWGpWdWvUfLRpJ7c0rNynKz5KVNTq1HpCG8o%2Bw/tV/t8/Ar9lK4tfB2t3F94n8davhPD3w68JWxvNY1GRh8mIU/wBUh5%2Bd8AgNt3EYrx62/ZN/a3/b6uE8T/8ABQDxbL4G%2BH8jCSx%2BBvgjVWVrmPqBq1/GQ0x9YoyF6EGNgQfXv2cf2Mv2Zv2HdA1Hxvp8on128RpvFnxL8baks%2Bp6gx5eSe7mI8tCcEou1OASCeTxHjr/AIK4fs5f8JLN8Ov2ZvDfin42%2BKojtbS/hno73ltAT0aa9OIEj4Pzozgd68jE8s0pZrVUYvalFuz/AMVveqPySUPKR62N484V4CiqXDr/ANo2%2BuVor2zf/ULQ/eKgu0%2BWriXvz0Xovevg38BPgt%2Bz14VTwV8EPhhovhfTFxvttHsUiMzAY3yMBulf/bcsx9a2fGXjzwP8OdEfxL8QvGWlaDpsbASahrOoxWsCk9jJKyqPzr5Wa9/4LE/tHjZZ6T8Pf2etCuOst1N/wkviCJT3VVxaZx2bawOK1PBH/BIr9m%2BTX4/iB%2B074i8UfG3xUoOdW%2BJWsyXVvCT1WCzUiGOPphGD47Guuni8TOChgsM1FbOf7uK9IpOb/wDAYn5di8%2BzvOcTKvClOpObvKpXlKN2%2Br5nOrJ%2Bqj6rpr/EH/grx/wTq%2BHdydNuf2mtH1q9ZtkFl4StrjV3nfsqNaRyISfdgPeuaX/gp98TfiC3/GOH/BN/40%2BKoD/q9T8Q6XD4fspx/eimuWbeP%2BAivpP4ffBf4PfCW1Fl8K/hR4a8NQhdvlaBoVvZrj0xCi10tX9Xzer/ABK8Yf4IX/Gbf/pJh9Uz6t/FxMYLtTp3f/gVSUv/AEk%2BSv8AhqL/AIKweIjnQf8Agl7oehofuSeIPjNYTkj1KwR5H0pH8Yf8FsPFK/ZNJ%2BDnwC8K%2Bbx9r1nxDqV8YB3O23ADH07Z68V9bUU/7MrS%2BPFVX6OMf/SYB/Y%2BIl8eMrP0cI/%2Bk0z5HH7F3/BQ/wCKJ8348f8ABTjVdItpPv6L8LPB1rpYi9dl65aY/wDAl4xSp/wRg/ZQ1w/bfi347%2BKvj/Uscav4w%2BJV9LcKe5BhaJefpX1vRS/sTLZfxYOb/vylP/0qVvwD/V3KJfxqbqP/AKeSnP8A9Klb/wAlPkr/AIcv/sh2n/IA8UfE/Scfd/s74lX67fpudqP%2BHQnw2s%2BfDP7Y/wC0borD7r6X8WpkK/TfE1fWtFP%2Bw8o6UYr0uvykg/1byHph4r05l%2BU0fJR/4JZ%2BLx/oUf8AwU5/abFkfvRt8REM5%2Bk32fI/Kgf8EgvhjMftGrftg/tF395/0ELz4szGb81iA/SvrWij%2Bw8q60r%2Bspv86jD/AFcyR70b%2Bsqj/Oqz5KP/AASK8ES/6Pe/tw/tL3Nn30%2Bf4uSGE/UCAH9aB/wRd/Y8n/favr3xL1C6PW9vPiTqBlP1KuB%2BlfWtFH9h5R1op%2BvM/wA5MP8AVvIeuHi/Xmf/AKVNnyV/w5a/Yym/danqPxGvYP8An1uviPqJj/ISA/rVzRv%2BCKH/AATN0e6/tCT9mtNQuP4ptW8UapdbvqslyV/SvqmimsjyZO/1eHzin%2Bdxrhvh9O/1Wm/WKf53PHPB/wDwTy/YU8CMsnhn9kP4dxSp9y4uPCdrcSr9HlRmH516l4c8IeE/B1l/Z3hHwxp2lW/H7jTbKOBOOnyoAK0aK7aWGw2H/hU4x9El%2BSR6NDB4PCr9zTjH/DGK/JIKKKK3OkKKKKACiiigArxn9l//AJLf%2B0d/2Wax/wDUK8L17NXjP7L/APyW/wDaO/7LNY/%2BoV4XoA9mooooAKKKKACiiigAooooAKKKKACiiigAooooAKKKKACiiigAooooAKK479oP4zaF%2Bzv8DvFnxz8SaZdX1n4U0C51KTT7Hb5940UZZLeLcQvmSMFjXcQNzjJAya4b4Y/tUeONY0P4laZ8XvgkNH8afDC1jvNV8LeENefXE1O2msftls9lO9tavK8m2aDy2hQiaBwCyFHYA9qr8%2BP%2BC7Gj/wBueE5rLbnZ8B/F1xj/AK5eKPAsv/slfQH7BX7eNv8AttxeJHsvDXhVIfD9npVz/bPgTx4PEelSPfRTSGwe6%2ByW3lahbCJTcWuxvKW5tzvbzCF8p/4K7aP/AG4dRstm7Z%2By78S7jH/XLUvCEuf/AByvOzeHtMpxEe8J/wDpMj7Lw6xP1TxByev/AC4rDv8A8rUv8z7K8E6v/wAJB4M0jX9%2B77dplvcbvXfGrZ/WtOuC/ZW1j/hIf2YPhvr%2B7d9u8BaPcbvXfZQt/Wu9rsoT9pQhPuk/vSf6nzeaYf6nmmIw/wDJUqR/8BnOP/toUUUVqcIUUUUAFFFFABRRRQAUUUUAFFFFABRRRQAUUUUAFFFFABRRRQAUUUUAFFFFABRRRQAUUUUAFFFFABRRRQAUUUUAFeM%2BOP8AlIX8L/8AsjPjz/07eEK9mrxnxx/ykL%2BF/wD2Rnx5/wCnbwhQB7NRRRQAVx3x4%2BNnhr9n74dS/ETxNpGp6pu1Kx0zTNF0SGOS91TUL26itLS0gWWSOPzJJ5o13SOkaAl3dEVmHY15f%2B1v8G/Gfxn%2BGFhY/DW80yLxN4a8YaL4l0CPW55IrK6uNPv4bk2s8kUcjxJNGkkPmrHIYjIJAkmzYwBmw/tsfDJf2d9V/aF1bwn4l09dE19vD%2Bq%2BD7qzt21iDW/7QTTo9M2RTvA00t1LDHG6zGBxPHIJfLbfWf8A8N4eCT4X8xPg/wCNn8af8Jw3hA/CxI9MbXF1gaeNUNuXF99gVf7OZL3zjdiLyXX597CM8/4O/Zg%2BK6/An4i%2BB/i58M/AXifU/iNrmoeJtV0UeM7%2B309NRnuE8ixS6TT/AD4o4Le3tCuoJGJvtCNItvFhceRp/wAEotdj8J2fjPXPh74G8V%2BJZPjJd%2BOdc%2BHXjLxrqmp6Dfwz%2BHk0EWU%2Bq3tpcXd66R29reG4ubV988br5camN4wD7d8Ja3f%2BJfC%2Bn%2BINV8KajoNze2cc1xourtA11YuygmGU28ssJdT8pMcjoSPlZhgnyr9g/wD5Ihrn/ZZviP8A%2BprrdX/2fv2dtZ8BfskeHf2cfit4zv8AUbux0IWWpaj4f8QX9jJEN5dYLW8ilju0jhUrDHIHWQxxKTgkisL/AIJ0%2BHrDwl%2BzdfeFtKuL6W2074t/EO2t5dT1Se9uXRPGetKDLcXDvNO5A5kkdnY5LMSSaAPdKKKKACiiigAooooAK81/af8A2t/gR%2Bx/4BPxA%2BOPjSLT4pSY9L0u3Xzb7VJx0htoAd0rkkDsq5BZlHNeN/tn/wDBRDXfAfxFtv2P/wBi7wbD8Qfjbq6/Npqndp/hiA4zdahIpAQgMCIiy4BDOVDRrL5p4H/4IfaX8WPHn/C9P%2BCjf7Quv/FjxfdIv2rTbG4bT9Kt16m3Ty9spiBJ2iP7OuCf3fNeFjMzxdWcsPltNTmtHJu1OD7N/akv5Y3t9prYeXZllMMa/rFGpXjB6xpyhTTa%2BzKtNSUF/NyU6tRJ2SUmreNfEz9sn4WftfeLrbXv27PivLpPgaK7EvhP9mj4cyS6prOuSKdyPrT2eRG/AItGeMqcA7GUmT6M8L%2BJv%2BClH7R%2Bg2XhH9nT4MaB%2BzH8OLaBINN1TxZpkV5rwtgMKLfS0AgtMDjy5uRjKtX058Gv2bP2f/2edK/sf4H/AAb8OeFoSgWVtG0mKGWYf9NJQN8p93Ymu2rDB5Ji43nia75pfE4aSl5ObvJRXSMFCK/F9fEme8ScXKnh8ZVjhsHSv7LC4VShSpp7tzk5ValSVl7SrL97Ue84x5YR%2BTNC/wCCQXwK8T6tB4t/az%2BKXj742azDIJUbx34lm%2BwQSf8ATGzgKRxp1%2BRi68mvprwH8OvAHws8Nw%2BDvhn4I0jw9pNsP3GmaJp0VrBH9I41Cjp1xWzRXsYbL8Fg23RppN7vdv1k7yfzZ4mDyvLsA3LD0lGT3e8n6yblJ/OQUUUV2HeFFFFABRRRQAUUUUAFFFFABRRRQAUUUUAFFFFABRRRQAUUUUAFFFFABRRRQAV4z%2By//wAlv/aO/wCyzWP/AKhXhevZq8Z/Zf8A%2BS3/ALR3/ZZrH/1CvC9AHs1FFFABRRRQAUUUUAFFFFABRRRQAUUUUAFFFFABRRRQAUUUUAFFFFAHHftCfBnQ/wBon4G%2BLPgZ4k1S6sLPxXoFzpsmoWO3z7NpYyqXEe4FfMjYrIu4EbkGQRkV5b4e/Y0%2BJmo%2BH/iZbfGP4%2B2Gr6z8XNGn0rxfrfhbwjNo72toNNFjZppytf3BtWi33M7PI05kluCV8pUVB9B0UAeKfsvfsseN/gr488Q/FP4o/FPRPEuva54U0Hw1EvhfwWdBsLbTtJN81uTbm7ui9wzahPvk8xU2JCiRRhDu8V/bm%2BBfwo0b42%2BJvEHgn4X%2BHtI13xp%2Byl8VR4k1nStEgt7vVpFm8MrG9zNGgedl3ttLliNxx1NfatfOv7Tuj/8ACQ/tWeGdA2bvt37OvxKt9vrvvvCa4/WsMVD2mFqQ7xkvvi1%2Bp6mR4n6nnmExH8lWlL/wGrTl/wC2nSf8E6dY/tz9gn4NX2/cV%2BGmiwk%2Bpis4oj%2BqV7NXzf8A8Eh9Y/tz/gm38Jb3dnZ4ca3z/wBcrmaL/wBkr6QrnyqftMroS7wh/wCkxPY49w/1TjrNaH8uKxC/8r1f8wooorvPkwooooAKKKKACiiigAooooAKKKKACiiigAooooAKKKKACiiigAooooAKKKKACiiigAooooAKKKKACiiigAooooAK8Z8cf8pC/hf/ANkZ8ef%2BnbwhXs1eM%2BOP%2BUhfwv8A%2ByM%2BPP8A07eEKAPZqKKKACiiigAooooAK8Z/YP8A%2BSIa5/2Wb4j/APqa63Xs1eM/sH/8kQ1z/ss3xH/9TXW6APZqKKKACiivO/2o/wBp74Wfsi/B7UPjL8WdUeOytCIbDT7UB7rVLt8%2BVaW8ef3krkcDoAGZiFViM6tWlQpSqVHaKV23skZV69HDUZVaslGMVdt7JI77UdS07R9Pn1bV7%2BG1tLWFpbm5uZQkcUajLOzMQFUAEkngAV8D/GX/AIKLfGz9t34oXv7IP/BKuFZvIPleNPjTdxEafosBJVjaEg73OGCS4JYqxiUgecngnxnu/wBvr/grP%2B0Rb/sua/ri%2BBfDdr5N/wCMvB2hXBlt/CtgxDRrq1wNv2vUXAylmMLGQpZUZZQn6efs2/s0fBz9k34U2Hwc%2BCHhKHStIsl3SsAGnvZyAHuJ5MZllbAyx6ABQAqqo%2BahjMbxBVlTw96WHi7SntOb6xh/Kv5pP3lsrO9vRxWQY%2Bhl9DFZnehGvFTp0buNedN/DVqrfD0qi1pwf%2B0Vo%2B/ahScZ1OS/Ym/YX%2BD/AOw/8PZvDXgRZtW8Q6xILnxf411Yb9Q1y7JLNJK5JKxhmYpECQu4klnZ3b2qiivo8Ph6GEoxo0YqMVsl/X3vdvVu5wwhTpQUKcVGK0SSskuyX9fNttlFFFbFBRRRQAUUUUAFFFFABRRRQAUUUUAFFFFABRRRQAUUUUAFFFFABRRRQAUUUUAFFFFABRRRQAV4z%2By//wAlv/aO/wCyzWP/AKhXhevZq8Z/Zf8A%2BS3/ALR3/ZZrH/1CvC9AHs1FFFABRRRQAUUUUAFFFFABRRRQAUUUUAFFFFABRRRQAUUUUAFFFFABRXO/Fz4peDfgf8LfEXxj%2BId%2B9roXhbRbnVNWnihaWRbeCJpH2IuWkchSFRQWZiAASRXJfB/9qnwh8UND8W3/AIq8F%2BIPh/qPgOVR4v0Dxx9ijutMhe0S8juXezubi3eF4H3B0mYApIjbXjdVAPT68W%2BIEEV1/wAFA/hlbTpuST4LePVdT3B1XwgCK6n9n348Xv7QHhx/GMfwP8aeEdIuLa3utBvvF8WnxHWbSdWeO4hhtrueaAbQrGO6jgmXzFBjB3BeZ8cf8pC/hf8A9kZ8ef8Ap28IUDTad0eaf8EQ55V/4Jq%2BA9EuXJm0m%2B1uymz1ymr3hA/JhX1jXyX/AMEa/wDQf2YfFHhPp/YPxe8T6ft/u7b0vj/yJX1pXlZF/wAibDrtBL7rr9D77xWS/wCIl5xNfbxFSf8A4Mcan/uQKKKK9U%2BACiiigAooooAKKKKACiiigAooooAKKKKACiiigAooooAKKKKACiiigAooooAKKKKACiiigAooooAKKKKACiiigArxnxx/ykL%2BF/8A2Rnx5/6dvCFezV4z44/5SF/C/wD7Iz48/wDTt4QoA9mooooAK4748fGzw1%2Bz98OpfiJ4m0jU9U3alY6Zpmi6JDHJe6pqF7dRWlpaQLLJHH5kk80a7pHSNAS7uiKzDsa8v/a3%2BDfjP4z/AAwsLH4a3mmReJvDXjDRfEugR63PJFZXVxp9/Dcm1nkijkeJJo0kh81Y5DEZBIEk2bGAM2H9tj4ZL%2Bzvqv7QureE/Eunromvt4f1XwfdWdu2sQa3/aCadHpmyKd4GmlupYY43WYwOJ45BL5bb6par%2B3l8LfC/wABvGvxw8c%2BCvFOh3Xw/wBXOjeJfAt5b2c2txas0NtPbafGttcy20s1xFe2UkRS4MZW6jZ3QBynOeDv2YPiuvwJ%2BIvgf4ufDPwF4n1P4ja5qHibVdFHjO/t9PTUZ7hPIsUuk0/z4o4Le3tCuoJGJvtCNItvFhcea6F/wSc8TX/ww8RXd98btf8AA3jTX/Ger%2BKo7Pwn4kTX7G3vrrQbbQ4o7i%2B8Q6fdXN%2By2lqS120cU%2B69uQm1SigA%2BwPhl4%2B0f4rfDbw98UfDttcw6f4k0O01WxhvUVZo4biFJkWQKzKHCuAQGIznBPWvNf2D/wDkiGuf9lm%2BI/8A6mut1rfA39n3U/BH7IvhH9mv4oeO9Y1i80fwbY6PrGuaXrUmm3UskMKIxgudOW0kiVSu1HjETlFXdlixPN/8E6fD1h4S/ZuvvC2lXF9Lbad8W/iHbW8up6pPe3LonjPWlBluLh3mncgcySOzsclmJJNAHulFFFAHO/Fv4reA/gb8NNb%2BLvxO16LTNB8P6e95qd7L/BGo6KOrOxwqqOWZlUZJFfl98UfiL%2B0J%2B1b8a/CPxSu/DRT4l%2BOI3/4Z2%2BG18Q9v4C0Jj%2B98XamuCv2lkXdDuBAZQyhzHGg7P9vz9qzwh%2B0V8QtVl1i3l1f4H/BnX4ra80iyYk/Evxwc/ZNEhABM1vC3zS7QwwHO1gY2H1D/AME//wBk3xf8JNO1n9o39o26i1T4yfEkpd%2BLr4KCmkW%2BAYNItuSI4YFCqQpIZkHLBEI%2BNxdWrn%2BP%2Bq0XalDVteTs5eeqcaa2upVdVCF/oOEcsy%2BpRlxbnNNVMFh6jhhKEvhxmLhZuc19rC4V8sqn2atXkpXd5cvffsh/sn/Dr9jv4P23wv8AAhlvLuaVrzxJ4ivjuvNc1GTma8ncklmZugJO1QFBOMn1GiivraFClhqMaVKNoxVkl/X9b7s83M8zzDOsxq4/HVHUrVZOU5S1bb6/kkkkkkopJJJFFFFanCFFFFABRRRQAUUUUAFFFFABRRRQAUUUUAFFFFABRRRQAUUUUAFFFFABRRRQAUUUUAFFFFABRRRQAV4z%2By//AMlv/aO/7LNY/wDqFeF69mrxn9l//kt/7R3/AGWax/8AUK8L0AezUUUUAFFFFABRRRQAUUUUAFFFFABRRRQAUUUUAFFFFABRRRQAUUUUAef/ALVfwVuv2jP2bvG3wO07Xo9KvPE/hy6sdO1OaEyx2l0yEwTOgILosoRmQEFlBGRnNeV%2BFP2YPjn8Qofi7eftFaZ4R0q5%2BNOgnQdatvB3ie7vo9D06HTDZweTJcWFubyWSW5vZXLLAIlaFAJirOfpSigD5k/YA/Y5%2BI37MPiDXta8WeGvA/hexv8AwloOir4d%2BH%2Bq3V3a6pf2BvPtOv3RuLa3KXt2tzCjrtlfbap5lzOdvl6l/wDDHw34O/4KbeC/Gek6l4hmvPEPwe8cSX8Oq%2BLtRvrSIpq3hLAtrW5nkgsgdxytukYbA3A7Vx9D14z44/5SF/C//sjPjz/07eEKAPMf%2BCT/APxLY/2ifCbcf2Z%2B094qEK%2BkL/ZnT%2BZr60r5L/4Jz/8AEq/aW/aq8J9PJ%2BMS6ht/6%2BrNHz%2BO2vrSvJyPTLIR7Oa%2B6pUP0DxR97jjE1f%2BfkMPP/wPCYR/5hRRRXrH5%2BFFFFABRRRQAUUUUAFFFFABRRRQAUUUUAFFFFABRRRQAUUUUAFFFFABRRRQAUUUUAFFFFABRRRQAUUUUAFFFFABXjPjj/lIX8L/APsjPjz/ANO3hCvZq8Z8cf8AKQv4X/8AZGfHn/p28IUAezUUUUAFFFFABRRRQAV4z%2Bwf/wAkQ1z/ALLN8R//AFNdbr2avGf2D/8AkiGuf9lm%2BI//AKmut0AezV8r/wDBSv8AaX8ZeF9K0f8AZB/Z816Gz%2BJfxNhmQatJLtj8LaEisb7WZ2B/dLHGsgRsg7gxUlo9p%2Bhfi/8AFHwr8EfhX4i%2BL/ji78nSPDOjXGpag4I3GOGMuVXPVmxtUd2IHevzC1Dwt8WfjF4Z0ePxJfNF8cP2zbxDqMsGW/4Qn4dwgSvbxZ%2B4rW4QEEL5u5lOXTJ%2Bez/HTo0Pq9K/NJa23UbqNl/enJqEe15S%2Bya5VkuJ4v4jw3D2HqeyVbmnWq9KGGppyr1X5qEZKP8AeemvKepf8E0P2Y/CHxv8X%2BH/AI/6f4cntPg38KEm0r4E6NqEO19avQ5F74ouVIG6aaVW8vI%2BUgYCmJS36HVkeAPAnhb4X%2BBtH%2BG/gfSo7HRtB0yCw0uzi6QwRIERffCqOe/Wteu/K8vhl2EVPTmesmurslp2iklGK6RS6t3%2Bg4pzzD5zjoU8DS9jgsPBUcNSW1KjC/Kn3nN3qVZbzqzk3oopFFFFekfNBRRRQAUUUUAFFFFABRRRQAUUUUAFFFFABRRRQAUUUUAFFFFABRRRQAUUUUAFFFFABRRRQAUUUUAFFFFABXjP7L//ACW/9o7/ALLNY/8AqFeF69mrxn9l/wD5Lf8AtHf9lmsf/UK8L0AezUUUUAFFFFABRRRQAUUUUAFFFFABRRRQAUUUUAFFFFABRRRQAUUUUAFFZvjPxj4V%2BHfg/VviB451%2B10rRNC02fUNY1S9lCQ2drDG0ks0jHhURFZiewBrnPgh%2B0J8Kv2iNE1DXfhbrGozLpGoCx1aw1vw7faRfWNwYYp1Sezv4YbiLdDNDKheMB0lR1JVgaAO1rxXx3d20f8AwUU%2BFdk8yiWX4LePmjjJ5YLq3g/JH03D867X4SftE/Br47a34w8PfCbxtHrN14B8TSeHvFYgtJ0Sy1KOKOSS3EkiKkxVZFDNEXVXDIWDo6r8m/8ABR74wXnwH/4KffsefEGSd00m8i8Z%2BH9dI%2B4tvqMvh62R5D/CiTmFyTxlRXPisRDC0HVlsrX%2BbS/C5y43FQwWGdaeytf0coxv8ua52f7GX/Ep/wCClf7XXhkjapv/AAZqEI/vefpEhcj8QBX1pXyX8CP%2BJN/wWA%2BPWm9P7a%2BHnhfUMf3vJSSDP64r60rhybTCzj2qVV/5Uk/1P0rxJ9/PcNW/nweBl/5aUov8abCiiivWPz8KKKKACiiigAooooAKKKKACiiigAooooAKKKKACiiigAooooAKKKKACiiigAooooAKKKKACiiigAooooAKKKKACvGfHH/KQv4X/wDZGfHn/p28IV7NXjPjj/lIX8L/APsjPjz/ANO3hCgD2aiiigArjvjx8bPDX7P3w6l%2BInibSNT1TdqVjpmmaLokMcl7qmoXt1FaWlpAsskcfmSTzRrukdI0BLu6IrMOxry/9rf4N%2BM/jP8ADCwsfhreaZF4m8NeMNF8S6BHrc8kVldXGn38NybWeSKOR4kmjSSHzVjkMRkEgSTZsYAzYf22Phkv7O%2Bq/tC6t4T8S6euia%2B3h/VfB91Z27axBrf9oJp0embIp3gaaW6lhjjdZjA4njkEvltvqDTP2x7zxH4S1DVvBf7LPxK1vxDoPiaTQvFngSwbQ11TQbtbSG9H2mSbVI7Jle2urSZDDcyl1uo8DO4Ly3g79mD4rr8CfiL4H%2BLnwz8BeJ9T%2BI2uah4m1XRR4zv7fT01Ge4TyLFLpNP8%2BKOC3t7QrqCRib7QjSLbxYXHm1t%2Bw3%2B2B8M/gF4p8D/AqfwjYa38Wviedf8AihDefFXWzNZaR/Zlpp7WOn65Pp91eT3c0Wn24kvp4UkT7RcNEI2ELRgH1v8ABz4seDPjx8JfDPxs%2BHV7NcaB4t0G01fRpri3aKR7a4iWWMvG3zI21hlTyDkHpXnv7B//ACRDXP8Ass3xH/8AU11uuy8L/C3Tbj4C6V8Htd8JQeErODw9baa%2BheAvFF5bQ6TFFGqLb2V9braXCRxqgRJEWFtqj5V6V5//AME6fD%2Bn%2BEf2bb7wvpdzfS2um/Fr4h20EuqapPe3DInjPWlBluLh3mnfA%2BaSR2djksxJJoA8s/4Kj67F8a/Gvw0/4J9WWqi3s/HWrnxD8SrkS7BZ%2BFdMP2ifzG/5ZiaVFVX6boSD1pf%2BCa3h64/aI%2BJ3jn/gpH4o0g21r4tkPhr4TafLDs/s3wrZSFEZE/5Zm4mQyMvYpkHa9fMXxK%2BIvir4%2B%2BG/ij%2B054MmLeI/2kPG1v8AB34JFgSbfwzDN5d7eLjlYZikpc5%2BRxnOK/UP4UfDXwz8G/hj4e%2BE3gy18nSfDWjW2m6ehAz5UMaxqTjqxC5J7kk96%2BQy5f2rnE8U9YRtJf8Ak0af/kvPU9akX2PqeGm8l8PsVne1fOKjo0n1jgcM487XZYjEOMW%2BsKbWqbOgooor68%2BWCiiigAooooAKKKKACiiigAooooAKKKKACiiigAooooAKKKKACiiigAooooAKKKKACiiigAooooAKKKKACiiigArxn9l//kt/7R3/AGWax/8AUK8L17NXjP7L/wDyW/8AaO/7LNY/%2BoV4XoA9mooooAKKKKACiiigAooooAKKKKACiiigAooooAKKKKACiiigAooooA8w/bU%2BEPir4%2BfsmfEP4O%2BBXtRrfiDwpeWujx30pS3mujGTFFKwBKxO4VHbBwrMcHGD5h8NfAn7S3jnxL8ZviLN8P8AXfhFrXxU0m30vwpfanJpGqz%2BF5LHSzDFqd3DaX7xTO91cymOGKSQNHZoZWhMm1fp6igD5b/4J1fsq/tB/steOPizo3xV1jwhdeGdT1nQx4Mk8LeFp9NF1Da6DYWUk5WfVb%2BUDdb%2BUVlIkeSGWYuyzKq%2BRf8ABUf9l7xd8XfifqGlL8V/EmvXd38A/HWt%2BEtDvrbTo4dDvNP1jwhdxx2T2tpDcEymMITcSzHkbSuWz%2BgNeMeO0ST/AIKEfDBHUMrfBjx4CCMgj%2B1vCFYYrDwxeGnQntJNP5pr/g/I5sbhaeOwdTD1PhnFxfzTX4b/ACPmL4UfH%2BGz/bI%2BCX7bniTyv%2BEV/aK%2BEdn4QutRj%2BVNL8TQy/aFgkPTEriSBB1Lq3QKa/QSvzq%2BAP7M1h8Yf2af2hP%2BCXWpXv2DV/hZ8Rbm8%2BHN4XKPpcF2TqOj3CkfMn7zzdxX%2BCRgOtfUv/BPX9p3Uf2pv2atN8V%2BMrU2fjTw/dTeH/iDpUihZLLWrQiO4VlH3d/yyhewlA6g18/kWJqQl7KrvUTmv8cfdqx%2BUoqa/uyfY%2B8niJcYeG%2BXZ7/zEYOMMFikv7jqLD1bdFK1WhJ7c8IPRzPcKKKK%2BnPjAooooAKKKKACiiigAooooAKKKKACiiigAooooAKKKKACiiigAooooAKKKKACiiigAooooAKKKKACiiigAooooAK8Z8cf8pC/hf8A9kZ8ef8Ap28IV7NXjPjj/lIX8L/%2ByM%2BPP/Tt4QoA9mooooAKKKKACiiigAr5X8B/EL/hU/8AwTs%2BMfxMWfy5NC8XfFu%2BgbOCZY/FevtGB7lwoHua%2BqK/Oz9sDxlN4V/4I6/FXSrCcR3viT43eNdEsyTgM1x8Q9UEg/79LLXDmdf6rltasvswk/nZ2/Fo8/Nq88NlVerDdQlb15Wlbzu1bzsc5/wSi%2BH3/C3vjN8ORJBv8Mfs6fCCyhs0Iyh8U6/F9tu3HYtFBK0Tjqsig55FfptXyZ/wRP8Ahxb%2BDP2AfDXjW6tQus%2BPtSv/ABLr04XHnTT3LpGR6KIIoAB7H1r6zrg4bw3sMopye80pP5pKK%2BUVFfefovHkKeXZzTyCh/ByylTwcLbN0IqNaf8A3ExDrzv1Tj8iiiivdPigooooAKKKKACiiigAooooAKKKKACiiigAooooAKKKKACiiigAooooAKKKKACiiigAooooAKKKKACiiigAooooAK8Z/Zf/AOS3/tHf9lmsf/UK8L17NXjP7L//ACW/9o7/ALLNY/8AqFeF6APZqKKKACiiigAooooAKKKKACiiigAooooAKKKKACiiigAooooAKKKKACio729s9Os5dQ1C7igt4ImknnmkCpGijLMzHgAAEknpXM%2BAfjp8Efit4Cn%2BKnwu%2BMfhXxJ4XtjMLnxJoHiG2vLCLyRmXdcQu0a7By2W%2BUdcUAdVXjPjj/lIX8L/APsjPjz/ANO3hCu%2B%2BE/xw%2BC3x60CbxX8DPi/4X8aaXb3RtrjUvCfiC21G3imCqxiaS3d1VwrKdpOcMD3FcD44/5SF/C//sjPjz/07eEKAPK/2v8A4VfHT9m79oCX/gov%2By7oD%2BKPM0ODS/iz8OY4x52taZAxZLyzYDP2uFTjZzuRQAOqtwEfjDxN4L8Vah/wVJ/4J4wR/Eb4cfEOC3m%2BLXwzso9moxz26FHvrNM/LeRqT5tuRlzlvn3q8f3zXyb8W/2D/jB8I/ihrP7S/wDwTl%2BJdj4R8Q65OLvxb8OdetzJ4b8TTDOZCiYazuGycyx/eJ6pudj83mOXVqU3Vw93G/NaNuaE/wCeF9HfadN6SWqs7o04fz3MuBs0rYrC0FicJiE44nDS2qRbUm4apqXNFTXLJThUjGrSfNzwqe9fs7/tHfB79qj4X2Pxd%2BCXjCDV9HvRtfb8s1pMAC9vPGfmilXIyreoIypBPcV%2BWmo%2BPvBFr8dbzxb4b8V6j%2Bx7%2B0ZeyBtd8MeL1EngzxtIDzI0oH2eVXY4E67WDOxVZHJevpL4b/8ABUez%2BH2uWXwo/wCChfw1m%2BEfie6Ij0/xMS1z4V13IyJrTUF3JGGHzFJThAQGfPArBZ/QmuTFNRa05lpBvs7605f3aiWvwykrH29PhnKuLqE8fwTXeKgtZ4aWmNodXGVL3XWjHVe1oxk7JOdGDuz65oqtpGsaT4g0u31zQdUtr6yu4lltbyznWWKZCMh0dSQykdCDg1Zr6FNNXR8NKMoScZKzWjT0a9UwooopkhRRRQAUUUUAFFFFABRRRQAUUUUAFFFFABRRRQAUUUUAFFFFABRRRQAUUUUAFFFFABRRRQAUUUUAFeM%2BOP8AlIX8L/8AsjPjz/07eEK9mrxnxx/ykL%2BF/wD2Rnx5/wCnbwhQB7NRRRQAVx3x4%2BNnhr9n74dS/ETxNpGp6pu1Kx0zTNF0SGOS91TUL26itLS0gWWSOPzJJ5o13SOkaAl3dEVmHY15f%2B1v8G/Gfxn%2BGFhY/DW80yLxN4a8YaL4l0CPW55IrK6uNPv4bk2s8kUcjxJNGkkPmrHIYjIJAkmzYwBmw/tsfDJf2d9V/aF1bwn4l09dE19vD%2Bq%2BD7qzt21iDW/7QTTo9M2RTvA00t1LDHG6zGBxPHIJfLbfWPc/t%2B%2BD49DhtLL4HePbzxzJ41m8Ky/Cu1TSTrltqUWmrqsiyO2oCwWMae8N15v2soUuIVDGWRYzj%2BDv2YPiuvwJ%2BIvgf4ufDPwF4n1P4ja5qHibVdFHjO/t9PTUZ7hPIsUuk0/z4o4Le3tCuoJGJvtCNItvFhceffDL/gn38dfgXPZfHj4Y2XhG5%2BIcnxR1LxTrHhPX/H%2Br3emSWt5oNvoptf7bubS4vridUsbK6N1NbEySefHsjR0aMA%2Br/g98VvB3x0%2BFfh74x/D67mm0XxNpEGo6a1zAYpVjlQMEkjbmORclXQ8qysp5Br8p/wDgqV43ay/YH8O/DS21A28%2Bq/tK/FHV1ZTyy6d4l8ROB9PMniP1Ar9J/gF%2BzRF8Mf2SvDv7NPjXxRe3s1loK22u6v4d1W70mSe7djLcy201tLHcWymZ5CmyQOqEAseSfx9/ba0LSvGXi/4c/slaTfahMml%2BN/HsOlvqGq3F7dGTUvibqNiPMuLh3mmlaK1fc8js78liSSa%2Ba4vqyp8P1Yx3nyxX/b0l/kepw9gKebcWZTgKnwVsZhYy0v7ir06tTTqlToVG/JO%2Blz9j/wBjnwL/AMKx/ZL%2BGXw%2BaHZJo/gLSbW4XGCZVs4hIT7l9xP1r0imwwxW8KW8EYREUKiKMBQOABTq%2Bho0o0KMaa2ikvuSX6GGZ46rmeZV8ZU%2BKrOc36znOb/GbCiiitDiCiiigAooooAKKKKACiiigAooooAKKKKACiiigAooooAKKKKACiiigAooooAKKKKACiiigAooooAKKKKACiiigArxn9l//kt/7R3/AGWax/8AUK8L17NXjP7L/wDyW/8AaO/7LNY/%2BoV4XoA9mooooAKKKKACiiigAooooAKKKKACiiigAooooAKKKKACiiigAooooA8i/b7%2BH3jT4rfsUfFP4cfDzRpdT1nWfA2o2tlpEDhX1MtA26zUsQoM67oRuIX95yQMmvOP2d/GulTfFL41/HGb4Q%2BO9N8GeL47CXR9G1T4Y6ta3eqvpmjxx31wbCW1WZGkRreziSVEe5NiVhWRVQn6kooA%2BY/%2BCeXiPUPjH4k%2BIf7UPjfwH4t8J%2BKfHEulx3PhDxL8P9W0P%2BwtKtI7hNPtGk1C1gW/vMS3ElzLAZI43mSFWaOKKSXVv9N%2BK9p/wU28F3njbxp4e1DQrj4PeOD4a07SvDE9nd2CDVvCXmLc3Ml7Ml2TlMFIbcLtOQ24bfoevGfHH/KQv4X/APZGfHn/AKdvCFAHs1FFFAHN/FX4OfCn45eE5vAvxi%2BHej%2BJtIn5ew1qwS4jDYxvXeDscdmXDDqCK%2BTvHX/BI/WfBWgX/h/9jf8AaR1Twz4dvcm5%2BFnj%2BwTxL4WuATkxLb3e57cE9XBdx2xxj7VorgxeWYHHO9WHvbcy0lbtdWdvJ3XkcVfL8LXxEMRZxqw1jUhKUKkWtU41IOM1Z6r3t%2Bh%2BQt98Dv8Agpj%2BwVqdz4g%2BD3wj8V%2BF7NJmnuofhFqP/CVeFb9urEaJfN9rs93VpQ52g/Ii7a9D%2BB3/AAcSaBpOoDwT%2B198HJLG/t51t7rXvBPmMnm4GfM0698u5hA7kGTnoK/TeuO%2BK/7PPwH%2BO1j/AGd8Z/g34Y8UxbNqf27okFy0Y/2GdSyH3UgivCXD%2BY4B3y3FOK/lmlKP4Wt8kj7GXGnEmMp%2BzzpUsyS0U8TBwxKX/YZhvZ1p/wDceliPOTOb%2BAH7b/7Jn7UVtFJ8DPjz4e1y5lXd/ZK3nkX6D/atZgky/UpjjrXqtfE3xY/4IA/8E9viHcNqXg7w54l8C3u/zI5/CviFyiSZyCI7sTKoz2Tb7YrH0b/gnX/wU2/Z0txD%2Byr/AMFObjWrCJgLfw58UtDN1AkY6R/aGNy6L/1zjjx2rsp47PsPpisKp/3qUk//ACSfK/ukz57GY7L5Pmo4WtT8ualXivSUfYVLf4qV/wAz7xor4jvP2sP%2BCxfwLW6l%2BNP/AATz8L/EawtiFXVvhV4sMDSD%2B%2BtrP59xJnrgRJ%2BFZEH/AAcBfs4eEdVTwv8AtD/s8fFn4dat/wAtrXXPDSFI8desqSnH/XKtXxDldJ2rydJ/34Sj%2BLTj/wCTHFTxTqxclSq2W79jVaXXVxhUSt1bsl1aPvOivlzwP/wWi/4JoePAiWH7T%2Bn6fM%2BN0OuaTe2Ow%2BheaFU/EMR71674N/bA/ZO%2BIYQeBf2m/AGrs/3YtP8AGFlK/wBCqylgfYjNdtHM8txP8KtCXpKP%2Bf6GNHNsqxLtSxEJPspxv910/wAD0aio7S8tL%2B3W7sbqOaJxlJYnDKw9QRwakru3PQ3CiiigAooooAKKKKACiiigAooooAKKKKACiiigAooooAKKKKACiiigAooooAK8Z8cf8pC/hf8A9kZ8ef8Ap28IV7NXjPjj/lIX8L/%2ByM%2BPP/Tt4QoA9mooooAKKKKACiiigAr8N/gpay/GT/gsT/wheoWhcaJ%2B09r50tjzui03XfEGrTgeyvcRk/UV%2B5FfkH/wS98Dza9/wWF%2BIF7e2%2B59D%2BJnxb8TQS7fuxT%2BJZdIUZ9d0U34GvmeJaTrxwtLo60L/K7/AEPq%2BBqEnxVTxvTCUMbiH5OGDrU4P/wZiYn6%2BUUUV9MfKBRRRQAUUUUAFFFFABRRRQAUUUUAFFFFABRRRQAUUUUAFFFFABRRRQAUUUUAFFFFABRRRQAUUUUAFFFFABRRRQAUUUUAFeM/sv8A/Jb/ANo7/ss1j/6hXhevZq8Z/Zf/AOS3/tHf9lmsf/UK8L0AezUUUUAFFFFABRRRQAUUUUAFFFFABRRRQAUUUUAFFFFABRRRQAUUUUAFFFFABXjPjj/lIX8L/wDsjPjz/wBO3hCvZq8Z8cf8pC/hf/2Rnx5/6dvCFAHs1FFFABRRRQAUUUUAFFFFABWf4m8J%2BFfGukyaB4y8M6fq1hL/AK2y1OySeF/qjgqfyrQopNKSs1dF06lSlNTpyaktU02mn3TTTT800fNPxS/4JAf8E6fixK97qn7NGj6NeMSUvPCc02ktGx/iCWrpGT9UI9q%2Be/HX/BuN8A5ftE/wa%2BPPiDQ5bhixXxR4e07XY0J7LvihkA%2Brk%2B9fo1RXjYnh3I8W71MPG/dLlf3xt%2BR9OuNuJpw5MVXWJjty4mnRxUbdv9po13byU0fkxd/8ELf2nvhTO158Mrf4XeJEDZkurTxJ4i8PalKexQQ3Elsh%2BowKj/4Z5/bu%2BEv/ACMXwr/a20WCHpcfDX9oay1%2B2kA7rZPAJPoGfNfrXRXnf6oZdT/gTlD0aa/Hlf4mf9q8I4r/AH/hzAzfWVKFbBy9b4TEQhf/ALhW/un5KD9pr4i/Dzjxn/wUL/ag%2BFnlj52%2BLHwChv1i92Kb9w98c12vgj9sT4u%2BI9n/AAhX/BeL4Q6xu%2B4PG3wstdCLf729o9tfptXFeN/2bf2d/iZv/wCFjfAXwZr5k%2B%2Bda8L2l0W/GSM0f2Bj6X8PEX9XVj/6TVkv/JQ%2Bo%2BEOK%2BPAY7DP/pxmDqRXpHE0r/fM%2BW/B3jf/AIKs%2BKgrfCz9rL9lHxuGH7s7b8%2BZ/wCAcjfpXSf8JP8A8FvNJ/5CHwv/AGb9Wx1/srWtZg3fTzhxXSeMf%2BCQ3/BNvxyWbWP2TfDtuW5zos1zp2D7fZZY8Vzf/Dmz9mvQ/wDklPxf%2BMngTH%2Bq/wCER%2BJ15D5f%2B753m0fUM6p9ZP8Aw13%2BVSi/zF/qj4Y4j%2BBnuYUPKrQhVS%2BdGrd/%2BAh/wu7/AILE6b/x%2B/sP/DLU8df7O%2BJRhz9PNSj/AIap/wCCr9h/x9/8EptJv8dfsPxz0uLP08yKl/4dxftHeGP%2BSYf8FUvjPabf9X/wlbWmt4%2Bvmom6j/hmv/grR4W/5F3/AIKUeF/Eqr9yLxP8ILS147AtayEn69aOXNYfEq69JUJ/%2B2xf4B/xDnI63%2B6cWw9KtOvSf/k2EqxXzkJ/w2t/wUgtP%2BQt/wAEhNYTHX7H8Y9HuP8A0GMZo/4b6/bYtf8AkJ/8El/iAmOv2Txjps/8sZpfs3/Bb3wyf3Op/s2eJ4F6/aIdbsrl/ptzGPxoPx3/AOCwHhz/AJDP7Bnw78Sbev8Awj3xQSz3fT7Uhx%2BNHt8VH4quIXrRg/8A0lMP%2BIU53U/3XiHCVfTE4WL%2B6rQo2%2BbE/wCHjP7TFv8A8hH/AIJU/GJfX7NLZzfycUf8PNPi/b/8hD/glz%2B0CuOv2bw5bzfylFL/AMNy/t/aJ/yO/wDwSP8AFUG37x0H4l6XqX5CNVzR/wAPP/iLo3/I5/8ABMP9o23x986L4Mi1ED/viZc0fXWvixk1/ioW/wDcYf8AEH/EeX8DFU6v%2BCtl1T8sVET/AIeneKoP%2BP7/AIJj/tOr6/Z/hwkv8rgUf8PY44uL3/gm7%2B1dD6s3wfyv5i5pf%2BHwXwasP%2BRu/Zh%2BPvh/H3v7Z%2BFVwm367Hej/h9p/wAE/rH/AJGvx14o0HH3v7X%2BH%2Bqpt%2Buy3aj%2B0aS3zKK9acF%2BfKH/ABBrxjf8PD15/wCDD0an/pqtU/AT/h7j4Rj/AOPz9hP9pu39fO%2BEUg/lOaP%2BHv3wpj/4%2B/2Sv2hrf/rt8J5x/KQ1qaV/wWh/4Jkazj7J%2B1XpqZ6fa9C1KD/0bbLXR6X/AMFTf%2BCd2r4%2Byftf%2BCkz0%2B1aoIP/AEYFrWGOU/hzKm/%2B3aX/AMsRxV/Cvxfwv8XB4mPrgJ/omcR/w%2BM/Z/j/AOPz4CfG%2B29fP%2BFt0MfkTR/w%2Bb/ZSi/4/vAfxXtfXz/hnfDH5Ka9Y03/AIKAfsK6tgWP7ZXwuYnoj%2BPNPRj%2BDTA1vad%2B1d%2By3q%2BP7J/aT8AXWen2fxjYvn/vmU1vGpi5fDjqb/7dh%2BlU8itwb4iYb%2BLTqx/xYKqvzijwn/h9X%2BxDHxfT%2BPLb18/4dakMflEaP%2BH2/wDwT7T/AI%2BfHvieE%2Bkvw/1Ufyt6%2Bk7D4wfCXVcHS/ij4duc9Ps%2BtwPn8nrZstZ0jUxnTdVtrgHoYJ1f%2BRreNPNpfDiab/7h/wCVQ8urlfFeH/iVYx/xYeS/OaPlP/h95/wTs6f8LR8QZ9P%2BEB1f/wCRqP8Ah9t/wT/fi18b%2BKpz2EXw/wBVOfztxX1rRV%2Bwzr/n/D/wW/8A5Yc/1biH/oJp/wDgl/8Ay0%2BSv%2BH0v7Gk3GmaZ8R709ha/DfUDn84xR/w%2BL%2BAlx/yBv2ffjlqP937F8LLps/Tcwr61oo%2BrZw98TH5Ul%2Bsw%2BqZ898XFelFfrUPkr/h7b4fuf8AkC/sAftRaj6Gz%2BEDEH/vq4FVPgp%2B1Vf/ALTf/BQvwY93%2BzL8Uvhymi/Bnxl5R%2BJnhcaY2o%2Bdq3hXP2cCR9/l%2BUN/THmp1zX2BXjPjj/lIX8L/wDsjPjz/wBO3hCtaGHzCFVSq4jmXb2cY3%2BabZvhsJmlOspVsVzx6x9lCN/mpNruezUUUV6B6gVzvxX%2BK/gH4I%2BAr34mfE3XG0/R7B4I5porOa5lklmmSCCCKCBHlnmlmljijijRpJJJERFZmAPRV5B%2B2v8ADfx98Q/hPpF98MvDLa7rHhPx/wCHfE8Ph1LuGB9Wi0/U7e4nto5J3SJZjCkhi810jMqxh3RSXUA3LL9qz4C3/wACrv8AaSTxy8XhDT2uI7%2B9vNIu4Lm2uILhrWW1kspIlukuluFMH2ZohN5uIwhYhTzr/t%2BfsvJ4Ti8WJ4p8RStN4jm0AeHrb4d65LrqalFai8lt30hLI6hGy2zJcEtAAIpI5M7JEY%2BL698Af2iPGv7IPxd8D3fwHvbPXfiX42uPFY8NXutaZvt7CTU7ZX02O5iunjg1VrC0adJ1Jt4Lq5jZbhjEXHnR/Yv%2BOCaTb6tqv7NnxLuvB3/C4tX8QWfhLTPi1bwfEOztLjw5a2Ec8/iAaxG8268S9Lp/akkv2WSziLvHCbZQD76%2BH3j7wb8VfAmjfE34d%2BIrfV9A8Q6XBqOi6paMTFd2s0YkilUnBwysDzg881%2BfX/BH3SI/En7ff7VHjNbFY08K%2BPNd0C2kC4EhuvFuu382Pfdtz7kV9ffsyfBz4p%2BCf2I/AnwM8beLG8K%2BK9H8CadpV9qfhC2sC2mTwwImLdZbZ7RigUJn7OYiQSqKCAPnj/gh98ONR8I6P%2B0j4m13X73V7/UP2p/G1hJrOpRwLc6hHZapNGLiUW8cUQd5HmLCONEBJ2oowo83HUnVxWGXRTcvuhK34s%2Bz4XxlPA5JnU38U8NClH/uJiaHNb1hTafkfc1FFFekfGBRRRQAUUUUAFFFFABRRRQAUUUUAFFFFABRRRQAUUUUAFFFFABRRRQAUUUUAFFFFABRRRQAUUUUAFFFFABRRRQAUUUUAFeM/sv/APJb/wBo7/ss1j/6hXhevZq8Z/Zf/wCS3/tHf9lmsf8A1CvC9AHs1FFFABRRRQAUUUUAFFFFABRRRQAUUUUAFFFFABRRRQAUUUUAFFFFAHj3/BQc%2BOR%2Bw58WD8N/7T/tj/hAtT%2Bz/wBib/t2z7O/m/ZvL%2Bfz/K8zy9nz79u35sV82fCLxL8PNO%2BGP7T3hr/gnJr/AIag8O6l4Wmf4K2HgW6t1sLrxLF4dzeHSUhPluElfTTKYAVW5aXfiUy196UUAfG//BMs/s%2BH4x%2BPf%2BGLTpH/AAqf/hW/grzP%2BEc2/Yf%2BEq36z/aXmbOP7R%2Bx/wBkfa9373d5PmfvN9eg3%2BpfFe7/AOCm3guz8beC/D2n6Fb/AAe8cDw1qOleJ57y7v0OreEvMa5tpLKFLQjCYCTXAbccldo3fQ9fOH7R%2Br/GvR/28PhPP8Dvh/4W8Rak3wj8drd2nivxhc6LBHB/anhIl0lt9PvWd920bDGowSd%2BQFIB9H0V4z/wnH/BQv8A6Nf%2BDP8A4fjVv/mXo/4Tj/goX/0a/wDBn/w/Grf/ADL0AezUV4z/AMJx/wAFC/8Ao1/4M/8Ah%2BNW/wDmXo/4Tj/goX/0a/8ABn/w/Grf/MvQB7NRXzjpP7R37dusfGfX/gdb/sofCRdU8O%2BF9I128uX%2BOuqeRJBqNzqVvCiEeGNxdW0ucsCoADx4LEsF6j/hOP8AgoX/ANGv/Bn/AMPxq3/zL0AezUV4z/wnH/BQv/o1/wCDP/h%2BNW/%2BZej/AITj/goX/wBGv/Bn/wAPxq3/AMy9AHs1FeM/8Jx/wUL/AOjX/gz/AOH41b/5l65fwD%2B0d%2B3b8RPFfjfwho/7KHwkhuPAfiiLQtVkufjrqgSeeTStP1MPFt8MElPJ1GFSWCnejjGAGYA%2BjqK8Z/4Tj/goX/0a/wDBn/w/Grf/ADL0f8Jx/wAFC/8Ao1/4M/8Ah%2BNW/wDmXoA9morxn/hOP%2BChf/Rr/wAGf/D8at/8y9H/AAnH/BQv/o1/4M/%2BH41b/wCZegD2aivnH4RftHft2/GXwpd%2BL/Dn7KHwktrez8Ua3oUkd78ddUVzPpeq3WmTuNvhhhsaa0kZDnJRlJCnKjqP%2BE4/4KF/9Gv/AAZ/8Pxq3/zL0AezUV4z/wAJx/wUL/6Nf%2BDP/h%2BNW/8AmXo/4Tj/AIKF/wDRr/wZ/wDD8at/8y9AHs1FeM/8Jx/wUL/6Nf8Agz/4fjVv/mXrl/gj%2B0d%2B3b8ePgx4Q%2BOPhX9lD4SWul%2BM/C%2Bn67pttqHx11RZ4YLu2juI0kCeGGUOFkAYKzDIOCRzQB9HUV4z/wAJx/wUL/6Nf%2BDP/h%2BNW/8AmXo/4Tj/AIKF/wDRr/wZ/wDD8at/8y9AHs1FeM/8Jx/wUL/6Nf8Agz/4fjVv/mXrl/jd%2B0d%2B3b8B/gx4v%2BOPir9lD4SXWl%2BDPC%2Boa7qVtp/x11Rp5oLS2kuJEjD%2BGFUuVjIUMyjJGSBzQB9HUV4z/wAJx/wUL/6Nf%2BDP/h%2BNW/8AmXo/4Tj/AIKF/wDRr/wZ/wDD8at/8y9AHqeq%2BC/B2u5/tzwnpl5nr9rsI5M/99A1zmp/s0/s463n%2B2f2f/BN3nr9q8KWcmf%2B%2BozXH/8ACcf8FC/%2BjX/gz/4fjVv/AJl6P%2BE4/wCChf8A0a/8Gf8Aw/Grf/MvWcqNGfxRT9Un%2BaZ20MyzLC/wK84f4Zzj/wCkziX9S/YP/Yg1jJ1L9jr4XTMert4B07d/315OawdR/wCCY/8AwT41TP2n9jvwCuf%2Bffw9FD/6LArG%2BLv7R37dvwa8KWni/wAR/sofCS5t7zxRomhRx2Xx11RnE%2Bqara6ZA53eGFGxZruNnOchFYgMcKeo/wCE4/4KF/8ARr/wZ/8AD8at/wDMvXPLLsun8VGD/wC3I/8AyJ69HjPjHD/wszxMfTEV/wD5ccpqH/BIX/gmzqeftP7Jfh1c/wDPvNcxf%2BgSisW%2B/wCCJH/BL6/Jab9lu3Q%2BsHirV4sf98XYr0X/AITj/goX/wBGv/Bn/wAPxq3/AMy9H/Ccf8FC/wDo1/4M/wDh%2BNW/%2BZesJZLk0t8NT/8AAI/5HqUvE7xJofw86xa9MTW/%2BWM8x/4ci/8ABOu3/wCQP8K9e07HT7F491dcf99XJo/4cvfscwf8grWfiRYen2P4kagMf99SGvTv%2BE4/4KF/9Gv/AAZ/8Pxq3/zL1y/j79o79u34d%2BK/BHhDWP2UPhJNcePPFEuhaVJbfHXVCkE8elahqZeXd4YBCeTp0ygqGO90GMEssf2FkvTDwXpG35NHR/xFfxMfxZxiH/iquX/pUZHNf8Odf2fof%2BQZ8ePjdZen2X4pXYx%2BYNH/AA6J%2BHcX/IP/AGzP2j7T0%2BzfFqUY/OI16b/wnH/BQv8A6Nf%2BDP8A4fjVv/mXo/4Tj/goX/0a/wDBn/w/Grf/ADL0f2FlH/PlffJflNB/xFTxEe%2BZTfrGjL/0rDyPMf8Ah01Yxf8AHj/wUV/aqtvQQ/GA4/W2NU/gr%2Byrefsyf8FC/Ba3P7THxT%2BIq618GfGWwfEzxUNTOn%2BTq3hXP2ciNPL8zzRv67vKj6befWv%2BE4/4KF/9Gv8AwZ/8Pxq3/wAy9UPA/gf9qzxj%2B1Z4c%2BN3xu%2BHHw98M6N4Z%2BHviHQ4YfCvxDvtauru61K%2B0S4RmS40ixSKNE0uUFg7sWlQBcZI2oZVl%2BGqqpShaS85/k5tfgefmnH3F%2Bd4GeDx2K56c7XXs8Or2aa96GGpzWqW012d1dP3WiiivQPjwooooAKKKKACvBv%2BCdnhTS/DHwV8XT6aG36r8efiVfXbNj5pW8Z6wnbsFRR%2BFe818lfsleLP2ztP%2BHviiz%2BGPwD%2BGGr6Enxp%2BIv9n6jr3xd1HTbuZf8AhM9ZLGS2i0C5SIhtwAEz5AByCdoTim030LjUqQhKCekrXXezuvuep9a0V4z/AMJx/wAFC/8Ao1/4M/8Ah%2BNW/wDmXo/4Tj/goX/0a/8ABn/w/Grf/MvTIPZqK8Z/4Tj/AIKF/wDRr/wZ/wDD8at/8y9H/Ccf8FC/%2BjX/AIM/%2BH41b/5l6APZqK%2Bcfgj%2B0d%2B3b8ePgx4Q%2BOPhX9lD4SWul%2BM/C%2Bn67pttqHx11RZ4YLu2juI0kCeGGUOFkAYKzDIOCRzXUf8ACcf8FC/%2BjX/gz/4fjVv/AJl6APZqK8Z/4Tj/AIKF/wDRr/wZ/wDD8at/8y9H/Ccf8FC/%2BjX/AIM/%2BH41b/5l6APZqK%2Bcfjd%2B0d%2B3b8B/gx4v%2BOPir9lD4SXWl%2BDPC%2Boa7qVtp/x11Rp5oLS2kuJEjD%2BGFUuVjIUMyjJGSBzXUf8ACcf8FC/%2BjX/gz/4fjVv/AJl6APZqK8Z/4Tj/AIKF/wDRr/wZ/wDD8at/8y9H/Ccf8FC/%2BjX/AIM/%2BH41b/5l6APZqK8Z/wCE4/4KF/8ARr/wZ/8AD8at/wDMvXL/ABd/aO/bt%2BDXhS08X%2BI/2UPhJc2954o0TQo47L466ozifVNVtdMgc7vDCjYs13GznOQisQGOFIB9HUV4z/wnH/BQv/o1/wCDP/h%2BNW/%2BZej/AITj/goX/wBGv/Bn/wAPxq3/AMy9AHs1FeM/8Jx/wUL/AOjX/gz/AOH41b/5l6P%2BE4/4KF/9Gv8AwZ/8Pxq3/wAy9AHs1FfOPj79o79u34d%2BK/BHhDWP2UPhJNcePPFEuhaVJbfHXVCkE8elahqZeXd4YBCeTp0ygqGO90GMEsvUf8Jx/wAFC/8Ao1/4M/8Ah%2BNW/wDmXoA9morxn/hOP%2BChf/Rr/wAGf/D8at/8y9H/AAnH/BQv/o1/4M/%2BH41b/wCZegD2aivGf%2BE4/wCChf8A0a/8Gf8Aw/Grf/MvXL6t%2B0d%2B3bo/xn0D4HXH7KHwkbVPEXhfV9ds7lPjrqnkRwadc6bbzI5PhjcHZtUgKgKQQkmSpChgD6Oorxn/AITj/goX/wBGv/Bn/wAPxq3/AMy9H/Ccf8FC/wDo1/4M/wDh%2BNW/%2BZegD2aivGf%2BE4/4KF/9Gv8AwZ/8Pxq3/wAy9H/Ccf8ABQv/AKNf%2BDP/AIfjVv8A5l6APZqK%2BcdJ/aO/bt1j4z6/8Drf9lD4SLqnh3wvpGu3ly/x11TyJINRudSt4UQjwxuLq2lzlgVAAePBYlgvUf8ACcf8FC/%2BjX/gz/4fjVv/AJl6APZqK8Z/4Tj/AIKF/wDRr/wZ/wDD8at/8y9H/Ccf8FC/%2BjX/AIM/%2BH41b/5l6APZqK8Z/wCE4/4KF/8ARr/wZ/8AD8at/wDMvXL%2BAf2jv27fiJ4r8b%2BENH/ZQ%2BEkNx4D8URaFqslz8ddUCTzyaVp%2Bph4tvhgkp5OowqSwU70cYwAzAH0dRXjP/Ccf8FC/wDo1/4M/wDh%2BNW/%2BZej/hOP%2BChf/Rr/AMGf/D8at/8AMvQB7NXjP7L/APyW/wDaO/7LNY/%2BoV4Xo/4Tj/goX/0a/wDBn/w/Grf/ADL1b/ZW%2BHPxp8H6x8UPHfx00DwvpOqePviFFrlnpXhPxLc6tb2trFoOj6YqvcXFlZs0jSadK5URbQsiDcxzgA9booooAKKKKACiiigAooooAKKKKACiiigAooooAKKKKACiiigAooooAKKKKACvlf8Aae/a0%2BLnww%2BMfizWvAPh3wfJ4Y%2BD/h/w/e%2BNTrWkXE2q6pb6vfypcwWFxHcRpZeRbWcdxmSKcXMhSMiHy/NP1RXjPxn/AGIfhx8bvikfiZrnjnxVpcWo2ukWvi/w1o11app3imDS72S9sYr5ZbeSYLHNNLn7PLAZY5DFMZYwqAA9mooooAKKKKAPmPw5%2B0r8TIf2/wDxR8H/AIjax4e8J%2BG18QWmieDItR%2BEWspdeMYBoEGo4g8RtdrpzSx3dzqAFoIXk8u0mAUFmkX6cryvxZ%2By1B4/%2BMmkfFPx78b/ABrq%2BleHtdj1rQPAFwdMi0ax1CO3eCOcNDZJey7PMkkVJrqSMSPu2fIgX1SgAooooA8X/wCCgvxd%2BOH7P37I/jT49fAK98KR6x4J0K71y6g8YaLc31td2lrbSzPboltdWzJK7IiiQuVQFiUfgV5/48/a0%2BLngv48eLdT8KeHfCEXw88IfGPwj8PvGVnNpFwdb1XVddg0VI9Qhu0uFhjjg/tzSYzFJbyvIkM%2BJY9qCvYf2sf2cbL9rT4Ea9%2Bz7rXxV8U%2BEdJ8T2Utjrl/4QXTvtdzZSxPFNbbr%2B0uo0R1flkRZAVG115zxcH7APg6f4i2fxF8VfHHx9rrHWdJ1zxNo2oS6VFY%2BJ9c0xI0sdWvY7awiZbiIQWmFtmggY2NsXiYx5IB73RRRQAV4v8Atk/F344fBK18A%2BMfhZe%2BFP7G1D4meHPD3i%2Bx8QaLc3N1c2uq6zY6aDZyw3UKW0ka3Msm%2BRJ1JRF2ck17RXlX7V37Lb/tVeG9C8Lz/H3xv4Gt9C8SWGuo3guHR2e7vbG8gvLNpTqWn3g2xXFvG4WMIG5WTep2gA84/Z5/aV%2BJmt/tVeLfgj8UNX8PeE9Oh8U63b%2BCfCUnwi1nTLnXraF0lN/b61cXf2DUHYyTSyxW0BfkuxXDE/TleS6T%2ByiH%2BMmi/GX4j/tAeO/Gs3he7vLvwnoXiEaTDYaPdXNvJayXES2Gn20sr/Z5p4V8%2BSVUWd9oBII9aoAKKKKAPD/27vi58eP2fvg1q/x1%2BFHjHwLY6f4W0W5vL3RfFnhm9v7nxDe5RbPTLOS2vYPs81xKRbo3lXTNLPEFhY/K3n/wR/a%2B%2BM%2BufEvwV/a3gzwlpHw08b/E/wAUfDbwr4a07S5o9X0S/wBAh1bfPPci4a3mgkbw/qaLDHbxGNWtj5kmWA9P/aV/ZBg/aS8eeCPiBN%2B0D478IXPgG7ub3RbHwxFo09nJeyoI1vJoNT068R54Y/MWGQBTGJ5SPmbIq%2BA/2Gvh74D%2BMtv8XYfiL4u1KDTtd1PXtE8Ialc2X9k6VreoxvHqGqQJFapP584nuyyvM8KNfXJjij8zgA9rooooAK%2BX/wBrn48ftL/Bb4iaf4U0qHwB410fxzDrVtovw5i8H30msJa2mh3V3Jf3E4vXiurYXUVvbSQi1iB%2B3woJjIyJJ9QV4dN%2BxNcR/tH%2BK/2mtE/ar%2BJenav4t02HTrnS4YPD89pp9nDA0cNtZtc6TLc28Syu91sWba87l3Dg7aAGfsIftB%2BN/j38Pby6%2BK/j7Rr7xdpws21/w3ZfC7V/CN5oDz2yyiC5stXup7hwW3%2BXcAJHIqHaG2k17pXm/wADv2btO%2BDPifxJ8Q9Y%2BKXinxx4q8VxWNvrHifxc1gty9pZib7LapFp9ra20cUbXNy42whma4kLM2Rj0igAooooA%2BOf%2BCgn7cfxU/Yw8c/2nrmi6B4x8Ivo2o63b%2BFZfhzqdlLbppujX2pJJ/wkU10%2BmT3f2vTRssVgS6EcyygbYWkb179mj4u/HPVvip43/Z6/aOufCmoeJ/COk6HrUeteCtIubCxubHVBeRpEYLm5uXWWK4067Uv5uJEMTbIySorfHX9hLwR%2B05rV1a/H/wCLfjXxR4LuZLiRfhleSabDosUk1jNZM2%2B3so76QCO4mYJLdOgd9235EC9P%2Bz5%2BzNpHwDvNe8RXfxQ8WeOPEfiQ2cereKvGtxZvfS21pEYrW1H2O2t4ViiDysMR72eeV3Z2cmgD0qiiigAr4j/an/bK/az%2BDfxq8QfCjwd4b8OeNdTsNFuNd8MBPgf4gjk0UDUdMtUMLfbnHiaQWOqXHnf2X5TwtCVlEYmEdfbleH69%2BxbqfiXx6fidrX7XPxRm1vT4LyLwbeFNAA8KrdTQyT/ZIxpOydmjgW33Xq3TLEzhSruzkA6r9lj4sP8AGT4RweLL34maN4qv4dRurLVL7RvBl94dFtcRSsrWs2m6hcT3VnPGMK8czh8/NtUMBXo1cN8A/gL4e%2BAHhnU9G0rxTrfiDUdf1641vxJ4k8RzQNe6rfzBEaeUW8UMCYjihiVIYo41SJAFGCT3NABRRRQAUUUUAFFFFABRRRQBR8UeIbDwl4a1HxXqoc2umWM13ciJct5caF2wO5wpr5z/AGJv2k/jX4/8U6P4M%2BNnh7wZZjx18LbL4jeGYfBmlXFoNMjvLgm70%2B7M1xKLuaN7m2f7YggE7SzEwR7QX%2Blru0tb%2B1lsb23SaGaNo5opVDK6kYKkHggjjFeQ/szfsV%2BAv2YNVfV9A%2BIPi3xLLbeGLHwz4dHiy9tZhoGhWbyPb6bam3t4S0amT5pZzNcSCOLzJn8tcAHsVFFFABXC/tQePPiL8LP2aPiJ8Tvg/wCFF17xb4c8C6vqnhbQ2sZroajqNvZyy21sYYGWWYSSoieXGwdt2FIJBruqzvFuiX/iXwxqHh/S/Feo6Fc3tpJDb61pCwNdWLspAmiFxFLEXU8gSRumR8ysMggHl37FPxan%2BKHwzvrLVviF4f1nU/Duqrp15pmifDDU/Bz6GgtoJIrO40rVLme5hcI4kV28tHili2Jgb39irzz4D/s7aT8DrzxL4jufiJ4k8Y%2BJPF%2Bow3niLxT4rezF3dGG3S3giEdjbW1tFFHGgCrHCmSzsxZmZj6HQAUUUUAfLn7VH7WPxQ/Zw%2BL3jiy%2BJWjeEvEXwvsP2d/F/j220K30S4TVXbRBpaz21xcyXL280U6304CC2QqETLvlhXb/ALM/xf8Aj5qnxc8Zfs6/tLP4SvPFHhjwx4e8Sx6r4K0m5sbKSy1Z9St1tjDc3Ny5lhuNIuwZRIFkR4m8uM7lqD4x/sK%2BHfjp8dW%2BMvjz47eOZdNm8Fan4Rvvh7DBov8AYl3o2pLbfb7SQvprXpE7WkDs4ug6lCEZEZkPSfs7/su6H%2Bz7fa14jn%2BKHi3xv4h1%2B1sLK/8AE/ja5tJL02Fiki2dmPsltbx%2BVEZ7hwShkd7mV3d2bNAHp9FFFABXyJ8a/wBpf9rbwZrv7QHgS38K%2BDPFl74C8P8AhTxJ8NrHSfh/qd/Oseo6rqUIS8tYrx5dRngXTY51NsLclyQq/KrV9d14XL%2BxR4hi%2BOnjb4/6F%2B2h8VtK1bxvpFjplzY2Vn4Ya0022sri5ns0thLoryfujeXSgzPKXWciTzCqFQDq/wBlT4tzfGX4UjxNqPxO0bxTqNrqtzY6tdaP4Iv/AA2bO4ib5rWfTNRuJ7q0nRSu5JmDEMrbVVhXpNcJ8A/gHoHwB0LWbHT/ABbrniPVfE3iCXXPE/ibxJLbte6rfyQwwebILaGGCMLBb28KpFFGipCgC5yT3dABRRRQB8bftLftd/tLfs8fGaD4baynwz8a32twQTeEYdO8LXtpL4LvNS8Q6Z4e0ibU5XvphdRTtq84LRLZyOLG6WMMvmGL3H9lX4v/ABI%2BIw8f/D74xHRJ/FXw08eN4a1nVfDWnTWdhqfmaXp2rW9xDbzTzyW%2BbXVLdHjaaXEkcmGIIxwtt/wTV8JNdfEN/EP7S/xO1m3%2BJOvHXNYt9SOheZZ6lFcQz6fc211FpaXSmwe3txaRvNJFEsKBkfnPrHwD%2BAuh/APw9q2m2Xi/XPEmreItem1rxP4o8SvbG/1e%2Bkjih86YWsEEC7IILeBEiijRY4I1C8EkA7qiiigBlz9p%2BzSfY9nnbD5Xm527scZxzjNfEHxW/a5/bT%2BGnxE1z4bW9t4D8Z694YvfDVvq3jrwR8Fdf1aPw5b6s1497YS6VZ6lPd3M0cNlY3RMU6fu7qFpYEBiaT7eu4ZLi1lt4bqSB5I2VZ4gpeMkYDLuBXI6jII9Qa%2Be/gx%2BwF4g%2BAnw2uPhp8O/26vjFFHdas%2BpzazeWXhOfUJbuV5ZLmeaZ9CP2mSd5d0kk4kfMabCgGCAes/AT4h2XxW%2BDvh/4hWHxA0bxUmp6eJH1/w/pM1haXcgJWQpazzTS2xV1ZGhkkd42VlY7lIHX1yXwL%2BC/hL9n34X6d8KfBVzf3FlYS3VxNfarcia6vru6uZbq6upnCqGlmuJ5pX2qq7pDtVVwo62gAqj4nh8SXPhvULfwbqdjZavJZSrpd5qdg91bQXBQiOSWGOWJpo1bBZFkjLAEB1J3C9Wb4x0G/8AFHha/wDDul%2BLdS0G5vLV4oNa0cQG6sXI4miFxFLEXU8gSRuhx8ysMigD4e%2BG/wC3Z%2B1r8YPinrfwS%2BFmm/D5PGem2uu30njPxX8Lta0NdU0zSLXRZUsZdEvL5NQ0%2BV7vxDsSaeZ4/KhkuEhdZ0B%2BxvgF8WtN%2BPnwJ8FfHXRtNls7Pxr4S03XrSzmfc8EV5ax3CxsQBkqJACfUV4tq/8AwTI8D61rl98Rbv8AaU%2BKafEDVkvLXWviTbXukQ6tf6ZdW1rbTaYUTTRZw2xSytGHkW0UqyQLKsocsx%2Bg/Bfg/wANfDzwdpPgDwZpMWn6PoemQafpNhDnZbW0MaxxRrnnCoqqPpQBp0UUUAcv8adR8caN8Lda1v4c%2BIbHS9WsLM3UN9qHg%2B98QIkcZDygadYzwXN5I0SuqRQyBy7LhXPyN8W/CX/goj8fvEnjTQ9T8b3HhHwJ4M1KedfEHji8%2BBniKa21i/h1%2B60hEuZVvo08MzyWtpa/uNUaSWB5VjfOwJX238TPBmu%2BPfCU3hzw38Utf8G3kksbxa/4ZisXu4NrAlVW/trmBgwBUh4m4Jxg4I8Vuv8AgnN4U1DwfcfDbVv2kPibd%2BGNc1Ca/wDHmgTXGjiLxhdz3jXVxNfSrpouIvNLLC0dnLaxCGJI1RRu3AH0TRRRQAUUUUAFFFFABRRRQAUUUUAFFFFABRRRQAUUUUAFFFFABRRRQAUUUUAFFFFABRRRQAUUUUAFFFFABRRRQAUUUUAFFFFABRRRQAUUUUAFFFFABRRRQAUUUUAFFFFABRRRQAUUUUAFFFFABRRRQAUUUUAFFFFABRRRQAUUUUAFFFFABRRRQAUUUUAFFFFABRRRQAUUUUAFFFFABRRRQAUUUUAFFFFABRRRQAUUUUAFFFFABRRRQAUUUUAFFFFABRRRQAUUUUAFFFFABRRRQAUUUUAFFFFABRRRQAUUUUAFFFFABRRRQAUUUUAFFFFABRRRQB//2Q%3D%3D\">"
      ]
     },
     "metadata": {},
     "output_type": "display_data"
    }
   ],
   "source": [
    "s.run(tf.global_variables_initializer())\n",
    "\n",
    "BATCH_SIZE = 512\n",
    "EPOCHS = 40\n",
    "\n",
    "# for logging the progress right here in Jupyter (for those who don't have TensorBoard)\n",
    "simpleTrainingCurves = matplotlib_utils.SimpleTrainingCurves(\"cross-entropy\", \"accuracy\")\n",
    "\n",
    "for epoch in range(EPOCHS):  # we finish an epoch when we've looked at all training samples\n",
    "    \n",
    "    batch_losses = []\n",
    "    for batch_start in range(0, X_train_flat.shape[0], BATCH_SIZE):  # data is already shuffled\n",
    "        # Идем по батчам: раз в батч считаем лосс и делаем шаг: step\n",
    "        _, batch_loss = s.run([step, loss], {input_X: X_train_flat[batch_start:batch_start+BATCH_SIZE], \n",
    "                                             input_y: y_train_oh[batch_start:batch_start+BATCH_SIZE]})\n",
    "        # collect batch losses, this is almost free as we need a forward pass for backprop anyway\n",
    "        batch_losses.append(batch_loss)\n",
    "\n",
    "    train_loss = np.mean(batch_losses) # постепенно берем среднее по всем (!) лоссам, чтобы функция была гладкой \n",
    "    val_loss = s.run(loss, {input_X: X_val_flat, input_y: y_val_oh})  # this part is usually small\n",
    "    train_accuracy = accuracy_score(y_train, s.run(classes, {input_X: X_train_flat}))  # this is slow and usually skipped\n",
    "    valid_accuracy = accuracy_score(y_val, s.run(classes, {input_X: X_val_flat}))  \n",
    "    simpleTrainingCurves.add(train_loss, val_loss, train_accuracy, valid_accuracy)"
   ]
  },
  {
   "cell_type": "markdown",
   "metadata": {},
   "source": [
    "# Submit the MLP with 2 hidden layers\n",
    "Run these cells after training the MLP with 2 hidden layers"
   ]
  },
  {
   "cell_type": "code",
   "execution_count": 30,
   "metadata": {
    "collapsed": true
   },
   "outputs": [],
   "source": [
    "## GRADED PART, DO NOT CHANGE!\n",
    "# Validation loss for MLP\n",
    "grader.set_answer(\"i8bgs\", s.run(loss, {input_X: X_val_flat, input_y: y_val_oh}))\n",
    "# Validation accuracy for MLP\n",
    "grader.set_answer(\"rE763\", accuracy_score(y_val, s.run(classes, {input_X: X_val_flat})))"
   ]
  },
  {
   "cell_type": "code",
   "execution_count": 31,
   "metadata": {
    "collapsed": false
   },
   "outputs": [
    {
     "name": "stdout",
     "output_type": "stream",
     "text": [
      "Submitted to Coursera platform. See results on assignment page!\n"
     ]
    }
   ],
   "source": [
    "# you can make submission with answers so far to check yourself at this stage\n",
    "grader.submit(COURSERA_EMAIL, COURSERA_TOKEN)"
   ]
  },
  {
   "cell_type": "code",
   "execution_count": null,
   "metadata": {
    "collapsed": true
   },
   "outputs": [],
   "source": []
  }
 ],
 "metadata": {
  "kernelspec": {
   "display_name": "Python 3",
   "language": "python",
   "name": "python3"
  },
  "language_info": {
   "codemirror_mode": {
    "name": "ipython",
    "version": 3
   },
   "file_extension": ".py",
   "mimetype": "text/x-python",
   "name": "python",
   "nbconvert_exporter": "python",
   "pygments_lexer": "ipython3",
   "version": "3.6.4"
  }
 },
 "nbformat": 4,
 "nbformat_minor": 1
}
